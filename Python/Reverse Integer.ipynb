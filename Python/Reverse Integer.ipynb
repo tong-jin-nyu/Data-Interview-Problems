{
 "cells": [
  {
   "cell_type": "markdown",
   "metadata": {},
   "source": [
    "# LeetCode Notes"
   ]
  },
  {
   "cell_type": "markdown",
   "metadata": {},
   "source": [
    "## Reverse Integer\n",
    "\n",
    "## 05/26/2020"
   ]
  },
  {
   "cell_type": "markdown",
   "metadata": {},
   "source": [
    "### Problem name\n",
    "\n",
    "[**Reverse Integer**](https://leetcode.com/problems/reverse-integer/)\n",
    "\n",
    "### Difficulty\n",
    "\n",
    "Easy\n",
    "\n",
    "### Instructions\n",
    "\n",
    "Given a 32-bit signed integer, reverse digits of an integer.\n",
    "\n",
    "**Example 1:**\n",
    "``` python\n",
    "Input: 123\n",
    "Output: 321\n",
    "```\n",
    "\n",
    "**Example 2:**\n",
    "``` python\n",
    "Input: -123\n",
    "Output: -321\n",
    "```\n",
    "\n",
    "**Example 3:**\n",
    "``` python\n",
    "Input: 120\n",
    "Output: 21\n",
    "```\n",
    "\n",
    "**Note:**\n",
    "\n",
    "Assume we are dealing with an environment which could only store integers within the 32-bit signed integer range: $[-2^{31}, 2^{31} - 1]$. For the purpose of this problem, assume that your function returns 0 when the reversed integer overflows."
   ]
  },
  {
   "cell_type": "markdown",
   "metadata": {},
   "source": [
    "### Solution 1"
   ]
  },
  {
   "cell_type": "code",
   "execution_count": 4,
   "metadata": {},
   "outputs": [
    {
     "name": "stdout",
     "output_type": "stream",
     "text": [
      "321\n",
      "-876\n",
      "758241\n"
     ]
    }
   ],
   "source": [
    "class Solution1:\n",
    "    def reverse(x):\n",
    "        if x == 0:\n",
    "            return 0\n",
    "        elif x < 0:\n",
    "            x = -x\n",
    "            str_x = str(x)\n",
    "            reversed_x = str_x[::-1]\n",
    "            int_r_x = -int(reversed_x)\n",
    "        else:\n",
    "            str_x = str(x)\n",
    "            reversed_x = str_x[::-1]\n",
    "            int_r_x = int(reversed_x)\n",
    "        if int_r_x > 2 ** 31 - 1 or int_r_x < -2 ** 31:\n",
    "            return 0\n",
    "        else:\n",
    "            return int_r_x\n",
    "\n",
    "# Test\n",
    "print(Solution1.reverse(123))\n",
    "print(Solution1.reverse(-678))\n",
    "print(Solution1.reverse(142857))"
   ]
  },
  {
   "cell_type": "markdown",
   "metadata": {},
   "source": [
    "### Explanation\n",
    "\n",
    "There are two ways to reverse an integer: \n",
    "\n",
    "1. transfer to a string; reverse the string; transfer back to an integer\n",
    "\n",
    "2. Pop out digits while build up a new integer, digit by digit\n",
    "\n",
    "This solution follows the first path. The logic flow is:\n",
    "\n",
    "1. Before transfer the integer to a string, we need to check if it's positive or not. This is because a negative integer has a negative sign before it. We need to manually remove the sign and add it back later.\n",
    "\n",
    "2. If the integer is negative, we temporarily remove the negative sign by reassign it as positive. After that, we transfer the integer to string and reverse the string using `[::-1]`. This means reorder the string from the end to the beginning by 1. \n",
    "\n",
    "``` python\n",
    "def reverse(x):\n",
    "    if x == 0:\n",
    "        return 0\n",
    "    elif x < 0: # if negative\n",
    "        x = -x  # temporarily remove the negative sign\n",
    "        str_x = str(x)\n",
    "        reversed_x = str_x[::-1]\n",
    "            int_r_x = -int(reversed_x)\n",
    "        else:\n",
    "            str_x = str(x)\n",
    "            reversed_x = str_x[::-1]\n",
    "            int_r_x = int(reversed_x)\n",
    "```\n",
    "\n",
    "3. After getting the reversed integer, we need to check if it within the limit of a 32-bit signed integer. If it overflows, return 0.\n",
    "\n",
    "``` python\n",
    "def reverse(x):\n",
    "    if x == 0:\n",
    "        return 0\n",
    "    elif x < 0:\n",
    "        x = -x\n",
    "        str_x = str(x)\n",
    "        reversed_x = str_x[::-1]\n",
    "            int_r_x = -int(reversed_x)\n",
    "        else:\n",
    "            str_x = str(x)\n",
    "            reversed_x = str_x[::-1]\n",
    "            int_r_x = int(reversed_x)\n",
    "        if int_r_x > 2 ** 31 - 1 or int_r_x < -2 ** 31:\n",
    "            return 0\n",
    "        else:\n",
    "            return int_r_x\n",
    "```"
   ]
  },
  {
   "cell_type": "markdown",
   "metadata": {},
   "source": [
    "### Solution 2"
   ]
  },
  {
   "cell_type": "code",
   "execution_count": 15,
   "metadata": {},
   "outputs": [
    {
     "name": "stdout",
     "output_type": "stream",
     "text": [
      "5432\n",
      "-54321\n"
     ]
    }
   ],
   "source": [
    "class Solution2:\n",
    "    def reverse(x):\n",
    "        reversed = 0\n",
    "        max_bound = 2 ** 31 - 1\n",
    "        min_bound = -2 **31\n",
    "        negative = False\n",
    "        if x < 0:\n",
    "            negative = True\n",
    "            x = -x\n",
    "        while (x != 0):\n",
    "            pop = x % 10\n",
    "            x //= 10\n",
    "            if reversed > max_bound or reversed < min_bound:\n",
    "                return 0\n",
    "            reversed = reversed * 10 + pop\n",
    "        if negative == True:\n",
    "            return -reversed\n",
    "        else:\n",
    "            return reversed\n",
    "    \n",
    "# Test\n",
    "print(Solution2.reverse(2345))\n",
    "print(Solution2.reverse(-12345))"
   ]
  },
  {
   "cell_type": "markdown",
   "metadata": {},
   "source": [
    "### Explanation\n",
    "\n",
    "This is a more classic way of using \"pop\" and \"push\" to solve the problem. This solution regards an integer as a stack. It creates a new \"stack\" called `reversed`. Each time the solution pops the last digit of `x`, it pushs it to `reversed` as the last digit, by using a while loop.\n",
    "\n",
    "This logic has an issue: if `x` is negative, it will not work. To solve this, we can create a variable called `negative` with default value of `False`. If `x` is negative, we reassign it as `negative = True`. Therefore, if `True`, we return a negative version of the `reversed` value.\n",
    "\n",
    "The main logic is a while loop that runs until `x` becomes 0. "
   ]
  }
 ],
 "metadata": {
  "kernelspec": {
   "display_name": "Python 3.8.2 64-bit",
   "language": "python",
   "name": "python38264bit7e3c702f16764767914e1c3a23341f94"
  },
  "language_info": {
   "codemirror_mode": {
    "name": "ipython",
    "version": 3
   },
   "file_extension": ".py",
   "mimetype": "text/x-python",
   "name": "python",
   "nbconvert_exporter": "python",
   "pygments_lexer": "ipython3",
   "version": "3.8.2"
  }
 },
 "nbformat": 4,
 "nbformat_minor": 2
}