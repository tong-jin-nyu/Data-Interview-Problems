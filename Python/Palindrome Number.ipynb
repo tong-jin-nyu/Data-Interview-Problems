{
 "cells": [
  {
   "cell_type": "markdown",
   "metadata": {},
   "source": [
    "# Leetcode Notes"
   ]
  },
  {
   "cell_type": "markdown",
   "metadata": {},
   "source": [
    "## Palindrome Number\n",
    "\n",
    "## 05/28/2020"
   ]
  },
  {
   "cell_type": "markdown",
   "metadata": {},
   "source": [
    "### Problem Name\n",
    "\n",
    "[Palindrome Number](https://leetcode.com/problems/palindrome-number/)\n",
    "\n",
    "### Difficulty\n",
    "\n",
    "Easy\n",
    "\n",
    "### Instructions\n",
    "\n",
    "Determine whether an integer is a palindrome. An integer is a palindrome when it reads the same backward as forward.\n",
    "\n",
    "**Example 1:**\n",
    "\n",
    "``` python\n",
    "Input: 121\n",
    "Output: true\n",
    "```\n",
    "\n",
    "**Example 2:**\n",
    "\n",
    "``` python\n",
    "Input: -121\n",
    "Output: false\n",
    "Explanation: From left to right, it reads -121. \n",
    "From right to left, it becomes 121-. \n",
    "Therefore, it is not a palindrome.\n",
    "```\n",
    "\n",
    "**Example 3:**\n",
    "\n",
    "``` python\n",
    "Input: 10\n",
    "Output: false\n",
    "Explanation: Reads 01 from right to left. \n",
    "Therefore, it is not a palindrome.\n",
    "```\n",
    "\n",
    "**Follow up:**\n",
    "Could you solve it without converting the integer to a string?"
   ]
  },
  {
   "cell_type": "markdown",
   "metadata": {},
   "source": [
    "### Solution (Standard)"
   ]
  },
  {
   "cell_type": "code",
   "execution_count": 19,
   "metadata": {},
   "outputs": [
    {
     "output_type": "stream",
     "name": "stdout",
     "text": "True\nFalse\nFalse\n"
    }
   ],
   "source": [
    "class Solution:\n",
    "    def isPalindrome(x: int) -> bool:\n",
    "        if x < 0:\n",
    "            return False\n",
    "        as_string = str(x)\n",
    "        as_number = int(as_string[::-1])\n",
    "        return as_number == x\n",
    "\n",
    "# Test\n",
    "print(Solution.isPalindrome(x=12321))\n",
    "print(Solution.isPalindrome(x=-121))\n",
    "print(Solution.isPalindrome(x=12300))"
   ]
  },
  {
   "cell_type": "markdown",
   "metadata": {},
   "source": [
    "### Explanation"
   ]
  },
  {
   "cell_type": "markdown",
   "metadata": {},
   "source": [
    "The easiest way of solving this problem is to utilize the reversion feature of `string`. \n",
    "\n",
    "The first step is to determine if the input integer is negative or not. This is because a negative integer has a negative sign and, therefore, cannot be palindromic.\n",
    "\n",
    "``` python\n",
    "def isPalindrome(self, x: int) -> bool:\n",
    "        is_negative = False\n",
    "        if x < 0:\n",
    "            return False\n",
    "```\n",
    "\n",
    "The next step involves change the integer to a string and then reverse the string by utilizing full slicing.\n",
    "\n",
    "``` python\n",
    "def isPalindrome(self, x: int) -> bool:\n",
    "        is_negative = False\n",
    "        if x < 0:\n",
    "            return False\n",
    "        as_string = str(x)\n",
    "        as_number = int(as_string[::-1])\n",
    "```\n",
    "\n",
    "Finally, if negative, return results with a nagetive sign.\n",
    "\n",
    "``` python\n",
    "def isPalindrome(self, x: int) -> bool:\n",
    "        is_negative = False\n",
    "        if x < 0:\n",
    "            return False\n",
    "        as_string = str(x)\n",
    "        as_number = int(as_string[::-1])\n",
    "        is_negative = False\n",
    "        if x < 0:\n",
    "            return False\n",
    "        as_string = str(x)\n",
    "        return as_number == x\n",
    "```"
   ]
  },
  {
   "cell_type": "markdown",
   "metadata": {},
   "source": [
    "### Alternative Solution (Follow up)"
   ]
  },
  {
   "cell_type": "code",
   "execution_count": 23,
   "metadata": {},
   "outputs": [
    {
     "output_type": "stream",
     "name": "stdout",
     "text": "True\nFalse\nFalse\n"
    }
   ],
   "source": [
    "class Solution2:\n",
    "    def isPalindrome(x: int) -> bool:\n",
    "        original = x\n",
    "        output = 0\n",
    "        if x < 0:\n",
    "            return False\n",
    "        while x > 0:\n",
    "            remain = x % 10\n",
    "            output = 10 * output + remain\n",
    "            x //= 10\n",
    "        return output == original\n",
    "\n",
    "# Test\n",
    "print(Solution2.isPalindrome(x=12321))\n",
    "print(Solution2.isPalindrome(x=-121))\n",
    "print(Solution2.isPalindrome(x=12300))"
   ]
  },
  {
   "cell_type": "markdown",
   "metadata": {},
   "source": [
    "### Explanation\n",
    "\n",
    "An alternative solution is to avoid using string features. To solve the problem, we can use module to extract the number on each digit, and then add them up, digit by digit. \n",
    "\n",
    "The first step is the same: check if the input integer is negative.\n",
    "\n",
    "Then, we create two variables: \n",
    "\n",
    "1. `original`: to store the value of the input integer \n",
    "\n",
    "2. `output`: to store the output value for test\n",
    "\n",
    "``` python\n",
    "def isPalindrome(x: int) -> bool:\n",
    "        original = x\n",
    "        output = 0\n",
    "        if x < 0:\n",
    "            return False\n",
    "```\n",
    "\n",
    "After that, we create a while loop: while x is above 0, for each time, we get the module of the input integer divided by 10. We then add them up by putting the number one digit above each time. \n",
    "\n",
    "``` python\n",
    "def isPalindrome(x: int) -> bool:\n",
    "        original = x\n",
    "        output = 0\n",
    "        if x < 0:\n",
    "            return False\n",
    "        while x > 0:\n",
    "            remain = x % 10\n",
    "            output = 10 * output + remain\n",
    "            x //= 10\n",
    "        return output == original\n",
    "```"
   ]
  }
 ],
 "metadata": {
  "language_info": {
   "codemirror_mode": {
    "name": "ipython",
    "version": 3
   },
   "file_extension": ".py",
   "mimetype": "text/x-python",
   "name": "python",
   "nbconvert_exporter": "python",
   "pygments_lexer": "ipython3",
   "version": "3.8.2-final"
  },
  "orig_nbformat": 2,
  "kernelspec": {
   "name": "python38264bit7e3c702f16764767914e1c3a23341f94",
   "display_name": "Python 3.8.2 64-bit"
  }
 },
 "nbformat": 4,
 "nbformat_minor": 2
}