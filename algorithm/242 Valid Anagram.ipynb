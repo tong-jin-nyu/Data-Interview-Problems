{
 "cells": [
  {
   "cell_type": "markdown",
   "metadata": {},
   "source": [
    "created on: 11/12/2021\n",
    "\n",
    "updated on: 11/13/2021"
   ]
  },
  {
   "cell_type": "markdown",
   "metadata": {},
   "source": [
    "# Leetcode Notes\n",
    "\n",
    "## Algorithm\n",
    "\n",
    "---\n",
    "\n",
    "## 242 Valid Anagram\n",
    "\n",
    "Easy"
   ]
  },
  {
   "cell_type": "markdown",
   "metadata": {},
   "source": [
    "Source: [Leetcode](https://leetcode-cn.com/problems/ransom-note/)\n",
    "\n",
    "### Instructions\n",
    "\n",
    "Given two strings `ransomNote` and `magazine`, return `True` if `ransomNote` can be constructed from `magazine` and `False` otherwise.\n",
    "\n",
    "Each letter in `magazine` can only be used once in `ransomNote`.\n",
    "\n",
    "**Example 1:**\n",
    "```\n",
    "Input: ransomNote = \"a\", magazine = \"b\"\n",
    "Output: false\n",
    "```\n",
    "\n",
    "**Example 2:**\n",
    "```\n",
    "Input: ransomNote = \"aa\", magazine = \"ab\"\n",
    "Output: false\n",
    "```\n",
    "\n",
    "**Example 3:**\n",
    "```\n",
    "Input: ransomNote = \"aa\", magazine = \"aab\"\n",
    "Output: true\n",
    "```\n",
    "\n",
    "**Constraints:**\n",
    "- `1 <= ransomNote.length, magazine.length <= 105`\n",
    "- `ransomNote` and `magazine` consist of lowercase English letters."
   ]
  },
  {
   "cell_type": "markdown",
   "metadata": {},
   "source": [
    "### Solution"
   ]
  },
  {
   "cell_type": "code",
   "execution_count": 6,
   "metadata": {},
   "outputs": [
    {
     "name": "stdout",
     "output_type": "stream",
     "text": [
      "True\n",
      "CPU times: user 240 µs, sys: 292 µs, total: 532 µs\n",
      "Wall time: 456 µs\n"
     ]
    }
   ],
   "source": [
    "import collections\n",
    "\n",
    "class Solution:\n",
    "    def isAnagram(self, s: str, t: str) -> bool:\n",
    "        a = collections.Counter(s)\n",
    "        b = collections.Counter(t)\n",
    "        return a == b\n",
    "\n",
    "test = Solution()\n",
    "%time print(test.isAnagram(\"anagram\", \"nagaram\"))\n"
   ]
  },
  {
   "cell_type": "markdown",
   "metadata": {},
   "source": [
    "### Explanation\n",
    "\n",
    "For each character in the `ransomNote` string, check if it exists in the `magazine` string. If not exists, return `False` to indicate that it's impossible to construct the `ransomNote` using `magazine`. If exists, remove the same character in `magazine` because each character in `magazine` can only be used once. If all characters pass the loop, return `True`, indicating the `ransomNote` can be constructed from the `magazine`."
   ]
  },
  {
   "cell_type": "markdown",
   "metadata": {},
   "source": [
    "---"
   ]
  }
 ],
 "metadata": {
  "interpreter": {
   "hash": "dca0ade3e726a953b501b15e8e990130d2b7799f14cfd9f4271676035ebe5511"
  },
  "kernelspec": {
   "display_name": "Python 3.7.4 64-bit (conda)",
   "name": "python3"
  },
  "language_info": {
   "codemirror_mode": {
    "name": "ipython",
    "version": 3
   },
   "file_extension": ".py",
   "mimetype": "text/x-python",
   "name": "python",
   "nbconvert_exporter": "python",
   "pygments_lexer": "ipython3",
   "version": "3.7.6"
  },
  "orig_nbformat": 2
 },
 "nbformat": 4,
 "nbformat_minor": 2
}
