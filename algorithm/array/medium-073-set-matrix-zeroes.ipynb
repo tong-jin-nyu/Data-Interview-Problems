{
 "cells": [
  {
   "cell_type": "markdown",
   "metadata": {},
   "source": [
    "# 073 Set Matrix Zeroes\n",
    "\n",
    "Medium\n",
    "\n",
    "Created on: 11/13/2021\n",
    "\n",
    "Modified on: 7/1/2022\n",
    "\n",
    "---\n",
    "\n",
    "Given an `m * n` integer matrix `matrix`, if an element is `0`, set its entire row and column to `0`, and return the *matrix*.\n",
    "\n",
    "You must do it **in place**.\n",
    "\n",
    "**Example 1:**\n",
    "![Matrix Example 1](https://assets.leetcode.com/uploads/2020/08/17/mat1.jpg)\n",
    "\n",
    "```\n",
    "Input: matrix = [[1,1,1], [1,0,1], [1,1,1]]\n",
    "Output: [[1,0,1], [0,0,0], [1,0,1]]\n",
    "```\n",
    "\n",
    "**Example 2:**\n",
    "![Matrix Example 2](https://assets.leetcode.com/uploads/2020/08/17/mat2.jpg)\n",
    "\n",
    "```\n",
    "Input: matrix = [[0,1,2,0],[3,4,5,2],[1,3,1,5]]\n",
    "Output: [[0,0,0,0],[0,4,5,0],[0,3,1,0]]\n",
    "```\n",
    "\n",
    "**Constraints:**\n",
    "- `m == matrix.length`\n",
    "- `n == matrix[0].length`\n",
    "- `1 <= m, n <= 200`\n",
    "- `-2^31 <= matrix[i][j] <= 2^31 - 1`\n",
    "\n",
    "---\n"
   ]
  },
  {
   "cell_type": "markdown",
   "metadata": {},
   "source": [
    "### Solution"
   ]
  },
  {
   "cell_type": "code",
   "execution_count": 6,
   "metadata": {},
   "outputs": [
    {
     "name": "stdout",
     "output_type": "stream",
     "text": [
      "Before: [[0, 1, 2, 0], [3, 4, 5, 2], [1, 3, 1, 5]]\n",
      "After: [[0, 0, 0, 0], [0, 4, 5, 0], [0, 3, 1, 0]]\n"
     ]
    }
   ],
   "source": [
    "from typing import List\n",
    "\n",
    "\n",
    "class Solution:\n",
    "    def setZeroes(self, matrix: List[List[int]]) -> None:\n",
    "        \"\"\"Do not return anything, modify matrix in-place instead.\n",
    "        \"\"\"\n",
    "        m, n = len(matrix), len(matrix[0])\n",
    "        zero_col_idx = list()\n",
    "\n",
    "        for row in range(m):\n",
    "            if 0 in matrix[row]:\n",
    "                for col in range(n):\n",
    "                    if matrix[row][col] == 0:\n",
    "                        zero_col_idx.append(col)\n",
    "                matrix[row] = [0 for _ in range(n)]\n",
    "\n",
    "        for row in range(m):\n",
    "            for col in set(zero_col_idx):\n",
    "                matrix[row][col] = 0\n",
    "\n",
    "# Test\n",
    "test = Solution()\n",
    "matrix = [[0, 1, 2, 0], [3, 4, 5, 2], [1, 3, 1, 5]]\n",
    "print('Before:', matrix)\n",
    "test.setZeroes(matrix)\n",
    "print('After:', matrix)"
   ]
  },
  {
   "cell_type": "markdown",
   "metadata": {},
   "source": [
    "---"
   ]
  }
 ],
 "metadata": {
  "kernelspec": {
   "display_name": "Python 3.7.6 ('base')",
   "language": "python",
   "name": "python3"
  },
  "language_info": {
   "codemirror_mode": {
    "name": "ipython",
    "version": 3
   },
   "file_extension": ".py",
   "mimetype": "text/x-python",
   "name": "python",
   "nbconvert_exporter": "python",
   "pygments_lexer": "ipython3",
   "version": "3.7.6"
  },
  "orig_nbformat": 2,
  "vscode": {
   "interpreter": {
    "hash": "01ef5fd295d2f06c799f887d3d5a0aa621984c826cc1e428ccbd852109f922c3"
   }
  }
 },
 "nbformat": 4,
 "nbformat_minor": 2
}
