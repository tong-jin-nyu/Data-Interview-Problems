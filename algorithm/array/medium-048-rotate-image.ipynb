{
 "cells": [
  {
   "cell_type": "markdown",
   "metadata": {},
   "source": [
    "# 048 Rotate Image\n",
    "\n",
    "Medium\n",
    "\n",
    "Created on: 7/1/2022\n",
    "\n",
    "Modified on: 7/1/2022\n",
    "\n",
    "---\n",
    "\n",
    "You are given an `n x n` 2D `matrix` representing an image, rotate the image by **90** degrees (clockwise).\n",
    "\n",
    "You have to rotate the image in-place, meaning that you have to midify the input 2D matrix directly. **DO NOT** allocate another 2D matrix and do the rotation.\n",
    "\n",
    "**Example 1:**\n",
    "\n",
    "![Example 1](https://assets.leetcode.com/uploads/2020/08/28/mat1.jpg)\n",
    "\n",
    "``` text\n",
    "Input: matrix = [[1,2,3],[4,5,6],[7,8,9]]\n",
    "Output: [[7,4,1],[8,5,2],[9,6,3]]\n",
    "```\n",
    "\n",
    "**Example 2:**\n",
    "\n",
    "![Example 2](https://assets.leetcode.com/uploads/2020/08/28/mat2.jpg)\n",
    "\n",
    "``` text\n",
    "Input: matrix = [[5,1,9,11],[2,4,8,10],[13,3,6,7],[15,14,12,16]]\n",
    "Output: [[15,13,2,5],[14,3,4,1],[12,6,8,9],[16,7,10,11]]\n",
    "```\n",
    "\n",
    "**Constraints:**\n",
    "\n",
    "- `n == matrix.length == matrix[i].length\n",
    "- 1 <= n <= 20\n",
    "- -1000 <= matrix[i][j] <= 1000\n",
    "\n",
    "---\n"
   ]
  },
  {
   "cell_type": "code",
   "execution_count": 19,
   "metadata": {},
   "outputs": [
    {
     "name": "stdout",
     "output_type": "stream",
     "text": [
      "Before rotation: [[1, 2, 3], [4, 5, 6], [7, 8, 9]]\n",
      "After rotation: [[7, 4, 1], [8, 5, 2], [9, 6, 3]]\n"
     ]
    }
   ],
   "source": [
    "from typing import List\n",
    "\n",
    "\n",
    "class Solution:\n",
    "    def rotate(self, matrix: List[List[int]]) -> None:\n",
    "        \"\"\"\n",
    "        Do not return anything, modify matrix in-place instead.\n",
    "        \"\"\"\n",
    "        N = len(matrix)\n",
    "        rotated = [[0] * N for _ in range(N)]\n",
    "\n",
    "        for row in range(N):\n",
    "            for col in range(N):\n",
    "                temp = rotated[col][N-row-1]\n",
    "                rotated[col][N-row-1] = matrix[row][col]\n",
    "        matrix[:] = rotated\n",
    "\n",
    "\n",
    "# Test\n",
    "matrix = [[1, 2, 3], [4, 5, 6], [7, 8, 9]]\n",
    "print('Before rotation:', matrix)\n",
    "test = Solution()\n",
    "test.rotate(matrix)\n",
    "print('After rotation:', matrix)"
   ]
  }
 ],
 "metadata": {
  "kernelspec": {
   "display_name": "Python 3.7.6 ('base')",
   "language": "python",
   "name": "python3"
  },
  "language_info": {
   "codemirror_mode": {
    "name": "ipython",
    "version": 3
   },
   "file_extension": ".py",
   "mimetype": "text/x-python",
   "name": "python",
   "nbconvert_exporter": "python",
   "pygments_lexer": "ipython3",
   "version": "3.7.6"
  },
  "vscode": {
   "interpreter": {
    "hash": "01ef5fd295d2f06c799f887d3d5a0aa621984c826cc1e428ccbd852109f922c3"
   }
  }
 },
 "nbformat": 4,
 "nbformat_minor": 2
}
