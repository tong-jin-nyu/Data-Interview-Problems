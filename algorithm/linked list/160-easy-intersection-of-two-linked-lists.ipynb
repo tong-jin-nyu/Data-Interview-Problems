{
 "cells": [
  {
   "cell_type": "markdown",
   "metadata": {},
   "source": [
    "# 160 Intersection of Two Linked Lists\n",
    "\n",
    "Easy\n",
    "\n",
    "https://leetcode.cn/problems/intersection-of-two-linked-lists/\n",
    "\n",
    "Created on: 7/15/2022\n",
    "\n",
    "Modified on: 7/15/2022\n",
    "\n",
    "---\n",
    "\n",
    "Given the heads of two singly linked-lists `headA` and `headB`, return the node at which the two lists intersect. If the two linked lists have no intersection at all, return `null`.\n",
    "\n",
    "For example, the following two linked lists begin to intersect at node `c1`:\n",
    "\n",
    "![example](https://assets.leetcode.com/uploads/2021/03/05/160_statement.png)\n",
    "\n",
    "The test cases are generated such that there are no cycles anywhere in the entire linked structure.\n",
    "\n",
    "Note that the linked lists must retain their original structure after the function returns.\n",
    "\n",
    "**Custom Judge:**\n",
    "\n",
    "The inputs to the judge are given as follows (your program is not given these inputs):\n",
    "\n",
    "- `intersectVal` - The value of the node where the intersection occurs. This is `0` if there is no intersected node.\n",
    "- `listA` - The first linked list.\n",
    "- `listB` - The second linked list.\n",
    "- `skipA` - The number of nodes to skip ahead in `listA` (starting from the head) to get to the intersected node.\n",
    "- `skipB` - The number of nodes to skip ahead in `listB` (starting from the head) to get to the intersected node.\n",
    "\n",
    "The judge will then create the linked structure based on these inputs and pass the two heads, `headA` and `headB` to your program. If you correctly return the intersected node, then your solution will be accepted.\n",
    "\n",
    "**Example 1:**\n",
    "\n",
    "![Example 1](https://assets.leetcode.com/uploads/2021/03/05/160_example_1_1.png)\n",
    "\n",
    "```\n",
    "Input: intersectVal = 8\n",
    "listA = [4,1,8,4,5]\n",
    "listB = [5,6,1,8,4,5]\n",
    "skipA = 2\n",
    "skipB = 3\n",
    "Output: Intersected at '8'\n",
    "Explanation: The intersected node's value is 8 (note that this must not be 0 if the two lists intersect).\n",
    "From the head of A, it reads as [4,1,8,4,5]. From the head of B, it reads as [5,6,1,8,4,5]. There are 2 nodes before the intersected node in A; There are 3 nodes before the intersected node in B.\n",
    "```\n",
    "\n",
    "**Example 2:**\n",
    "\n",
    "![Example 2](https://assets.leetcode.com/uploads/2021/03/05/160_example_2.png)\n",
    "\n",
    "```\n",
    "Input: intersectVal = 2, listA = [1,9,1,2,4], listB = [3,2,4], skipA = 3, skipB = 1\n",
    "Output: Intersected at '2'\n",
    "Explanation: The intersected node's value is 2 (note that this must not be 0 if the two lists intersect).\n",
    "From the head of A, it reads as [1,9,1,2,4]. From the head of B, it reads as [3,2,4]. There are 3 nodes before the intersected node in A; There are 1 node before the intersected node in B.\n",
    "```\n",
    "\n",
    "**Example 3:**\n",
    "\n",
    "![Example 3](https://assets.leetcode.com/uploads/2021/03/05/160_example_3.png)\n",
    "\n",
    "```\n",
    "Input: intersectVal = 0, listA = [2,6,4], listB = [1,5], skipA = 3, skipB = 2\n",
    "Output: No intersection\n",
    "Explanation: From the head of A, it reads as [2,6,4]. From the head of B, it reads as [1,5]. Since the two lists do not intersect, intersectVal must be 0, while skipA and skipB can be arbitrary values.\n",
    "Explanation: The two lists do not intersect, so return null.\n",
    "```\n",
    "\n",
    "**Constraints:**\n",
    "- The number of nodes of `listA` is in the `m`.\n",
    "- The number of nodes of `listB` is in the `n`.\n",
    "- 1 <= m, n <= 3 * 10^4\n",
    "- 1 <= `Node.val` <= 10^5\n",
    "- 0 <= skipA < m\n",
    "- 0 <= skipB < n\n",
    "- `intersectVal` is `0` if `listA` and `listB` do not intersect.\n",
    "- `intersectVal == listA[skipA] == listB[skipB]` if `listA` and `listB` intersect.\n",
    "\n",
    "**Follow up:** Could you write a solution that runs in `O(m + n)` time and use only `O(1)` memory?\n",
    "\n",
    "---\n"
   ]
  },
  {
   "cell_type": "markdown",
   "metadata": {},
   "source": [
    "### Solution 1"
   ]
  },
  {
   "cell_type": "code",
   "execution_count": 7,
   "metadata": {},
   "outputs": [],
   "source": [
    "class ListNode:\n",
    "    def __init__(self, x):\n",
    "        self.val = x\n",
    "        self.next = None\n",
    "\n",
    "\n",
    "class Solution:\n",
    "    def getIntersectionNode(self, headA: ListNode, headB: ListNode) -> ListNode:\n",
    "        seenA, seenB = set(), set()\n",
    "\n",
    "        while headA or headB:\n",
    "            if headA:\n",
    "                if headA in seenB:\n",
    "                    return headA\n",
    "                seenA.add(headA)\n",
    "                headA = headA.next\n",
    "\n",
    "            if headB:\n",
    "                if headB in seenA:\n",
    "                    return headB\n",
    "                seenB.add(headB)\n",
    "                headB = headB.next\n",
    "\n",
    "        return"
   ]
  },
  {
   "cell_type": "markdown",
   "metadata": {},
   "source": [
    "### Solution 2"
   ]
  },
  {
   "cell_type": "code",
   "execution_count": null,
   "metadata": {},
   "outputs": [],
   "source": [
    "class ListNode:\n",
    "    def __init__(self, x):\n",
    "        self.val = x\n",
    "        self.next = None\n",
    "\n",
    "\n",
    "class Solution:\n",
    "    def getIntersectionNode(self, headA: ListNode, headB: ListNode) -> ListNode:\n",
    "        seen = set()\n",
    "        temp = headA\n",
    "\n",
    "        while temp:\n",
    "            seen.add(temp)\n",
    "            temp = temp.next\n",
    "\n",
    "        temp = headB\n",
    "\n",
    "        while temp:\n",
    "            if temp in seen:\n",
    "                return temp\n",
    "            temp = temp.next\n",
    "            \n",
    "        return\n"
   ]
  },
  {
   "cell_type": "markdown",
   "metadata": {},
   "source": [
    "---"
   ]
  }
 ],
 "metadata": {
  "kernelspec": {
   "display_name": "Python 3.7.6 ('base')",
   "language": "python",
   "name": "python3"
  },
  "language_info": {
   "codemirror_mode": {
    "name": "ipython",
    "version": 3
   },
   "file_extension": ".py",
   "mimetype": "text/x-python",
   "name": "python",
   "nbconvert_exporter": "python",
   "pygments_lexer": "ipython3",
   "version": "3.7.6"
  },
  "orig_nbformat": 2,
  "vscode": {
   "interpreter": {
    "hash": "01ef5fd295d2f06c799f887d3d5a0aa621984c826cc1e428ccbd852109f922c3"
   }
  }
 },
 "nbformat": 4,
 "nbformat_minor": 2
}
