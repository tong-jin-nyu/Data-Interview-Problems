{
 "cells": [
  {
   "cell_type": "markdown",
   "metadata": {},
   "source": [
    "# 092 Reverse Linked List II\n",
    "\n",
    "Medium\n",
    "\n",
    "https://leetcode.cn/problems/reverse-linked-list-ii/\n",
    "\n",
    "Created on: 7/18/2022\n",
    "\n",
    "Modified on: 7/18/2022\n",
    "\n",
    "---\n",
    "\n",
    "Given the `head` of a singly linked list and two integers `left` and `right` where `left <= right`, reverse the nodes of the list from position `left` to position `right`, and return the reversed list.\n",
    "\n",
    "\n",
    "**Example 1:**\n",
    "\n",
    "![example-1](https://assets.leetcode.com/uploads/2021/02/19/rev2ex2.jpg)\n",
    "\n",
    "```\n",
    "Input: head = [1,2,3,4,5], left = 2, right = 4\n",
    "Output: [1,4,3,2,5]\n",
    "```\n",
    "\n",
    "**Example 2:**\n",
    "\n",
    "```\n",
    "Input: head = [5], left = 1, right = 1\n",
    "Output: [5]\n",
    "```\n",
    "\n",
    "**Constraints:**\n",
    "- The number of nodes in the list is `n`.\n",
    "- 1 <= n <= 500\n",
    "- -500 <= `Node.val` <= 500\n",
    "- 1 <= left <= right <= n\n",
    "\n",
    "**Follow up:** Could you do it in one pass?\n",
    "\n",
    "---\n"
   ]
  },
  {
   "cell_type": "code",
   "execution_count": 11,
   "metadata": {},
   "outputs": [
    {
     "name": "stdout",
     "output_type": "stream",
     "text": [
      "4\n",
      "5\n",
      "1\n",
      "2\n",
      "3\n"
     ]
    }
   ],
   "source": [
    "# Definition for singly-linked list.\n",
    "class ListNode:\n",
    "    def __init__(self, val=0, next=None):\n",
    "        self.val = val\n",
    "        self.next = next\n",
    "\n",
    "\n",
    "class Solution:\n",
    "    def reverseBetween(self, head: ListNode, left: int, right: int) -> ListNode:\n",
    "        if left == right:\n",
    "            return head\n",
    "\n",
    "        \n",
    "\n",
    "\n",
    "\n",
    "# Test\n",
    "test = Solution()\n",
    "head = ListNode(1)\n",
    "head.next = ListNode(2)\n",
    "head.next.next = ListNode(3)\n",
    "head.next.next.next = ListNode(4)\n",
    "head.next.next.next.next = ListNode(5)\n",
    "k = 2\n",
    "test.rotateRight(head, k).printList()\n"
   ]
  }
 ],
 "metadata": {
  "interpreter": {
   "hash": "aee8b7b246df8f9039afb4144a1f6fd8d2ca17a180786b69acc140d282b71a49"
  },
  "kernelspec": {
   "display_name": "Python 3.8.2 64-bit",
   "language": "python",
   "name": "python3"
  },
  "language_info": {
   "codemirror_mode": {
    "name": "ipython",
    "version": 3
   },
   "file_extension": ".py",
   "mimetype": "text/x-python",
   "name": "python",
   "nbconvert_exporter": "python",
   "pygments_lexer": "ipython3",
   "version": "3.8.2"
  }
 },
 "nbformat": 4,
 "nbformat_minor": 2
}
