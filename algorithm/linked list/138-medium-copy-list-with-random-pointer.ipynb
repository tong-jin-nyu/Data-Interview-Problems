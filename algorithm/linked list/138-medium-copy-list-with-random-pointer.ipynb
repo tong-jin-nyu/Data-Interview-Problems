{
 "cells": [
  {
   "cell_type": "markdown",
   "metadata": {},
   "source": [
    "# 138 Copy List with Random Pointer\n",
    "\n",
    "Medium\n",
    "\n",
    "https://leetcode.cn/problems/copy-list-with-random-pointer/\n",
    "\n",
    "Created on: 7/18/2022\n",
    "\n",
    "Modified on: 7/18/2022\n",
    "\n",
    "---\n",
    "\n",
    "A linked list of length `n` is given such that each node contains an additional random pointer, which could point to any node in the list, or `null`.\n",
    "\n",
    "Construct a deep copy of the list. The deep copy should consist of exactly `n` brand new nodes, where each new node has its value set to the value of its corresponding original node. Both the `next` and `random` pointer of the new nodes should point to new nodes in the copied list such that the pointers in the original list and copied list represent the same list state. None of the pointers in the new list should point to nodes in the original list.\n",
    "\n",
    "For example, if there are two nodes `X` and `Y` in the original list, where `X.random --> Y`, then for the corresponding two nodes `x` and `y` in the copied list, `x.random --> y`.\n",
    "\n",
    "Return the head of the copied linked list.\n",
    "\n",
    "The linked list is represented in the input/output at a list of `n` nodes. Each node is represented as a pair of `[val, random_index]` where:\n",
    "\n",
    "- `val`: an integer representing `Node.val`\n",
    "- `random_index`: the index of the node (range from `0` to `n - 1`) that the `random` pointer points to, or `null` if it does not point to any node.\n",
    "\n",
    "Your code will only be given the `head` of the original linked list.\n",
    "\n",
    "\n",
    "**Example 1:**\n",
    "![Example 1](https://assets.leetcode.com/uploads/2019/12/18/e1.png)\n",
    "\n",
    "```\n",
    "Input: head = [[7,null],[13,0],[11,4],[10,2],[1,0]]\n",
    "Output: [[7,null],[13,0],[11,4],[10,2],[1,0]]\n",
    "```\n",
    "\n",
    "**Example 2:**\n",
    "![Example 2](https://assets.leetcode.com/uploads/2019/12/18/e2.png)\n",
    "\n",
    "```\n",
    "Input: head = [[1,1],[2,1]]\n",
    "Output: [[1,1],[2,1]]\n",
    "```\n",
    "\n",
    "**Example 3:**\n",
    "![Example 3](https://assets.leetcode.com/uploads/2019/12/18/e3.png)\n",
    "\n",
    "```\n",
    "Input: head = [[3,null],[3,0],[3,null]]\n",
    "Output: [[3,null],[3,0],[3,null]]\n",
    "```\n",
    "\n",
    "**Constraints:**\n",
    "- o <= n <= 1000\n",
    "- -10^4 <= `Node.val` <= 10^4\n",
    "- `Node.random` is `null` or is pointing to a node in the linked list.\n",
    "\n",
    "---\n"
   ]
  },
  {
   "cell_type": "markdown",
   "metadata": {},
   "source": [
    "### Solution 1"
   ]
  },
  {
   "cell_type": "code",
   "execution_count": 5,
   "metadata": {},
   "outputs": [
    {
     "name": "stdout",
     "output_type": "stream",
     "text": [
      "3\n",
      "1\n",
      "2\n"
     ]
    }
   ],
   "source": [
    "from typing import Optional\n",
    "\n",
    "\n",
    "class Node:\n",
    "    def __init__(self, x: int, next: 'Node' = None, random: 'Node' = None):\n",
    "        self.val = int(x)\n",
    "        self.next = next\n",
    "        self.random = random\n",
    "\n",
    "class Solution:\n",
    "    def copyRandomList(self, head: 'Optional[Node]') -> 'Optional[Node]':\n",
    "        \n",
    "        def copyNode(node: 'Node', result: dict) -> 'Node':\n",
    "            if not node:\n",
    "                return\n",
    "            if node in result:\n",
    "                return result[node]\n",
    "            copy = Node(node.val)\n",
    "            result[node] = copy  # Add node to the hash map\n",
    "            copy.next = copyNode(node.next, result)\n",
    "            copy.random = copyNode(node.random, result)\n",
    "\n",
    "            return copy\n",
    "\n",
    "        return copyNode(head, dict())\n",
    "\n",
    "\n",
    "# Test\n",
    "head = Node(3)\n",
    "head.next = Node(2)\n",
    "head.random = Node(1)\n",
    "\n",
    "test = Solution()\n",
    "test.copyRandomList(head)\n",
    "\n",
    "while head:\n",
    "    print(head.val)\n",
    "    if head.random:\n",
    "        print(head.random.val)\n",
    "    head = head.next\n"
   ]
  }
 ],
 "metadata": {
  "kernelspec": {
   "display_name": "Python 3.7.6 ('base')",
   "language": "python",
   "name": "python3"
  },
  "language_info": {
   "codemirror_mode": {
    "name": "ipython",
    "version": 3
   },
   "file_extension": ".py",
   "mimetype": "text/x-python",
   "name": "python",
   "nbconvert_exporter": "python",
   "pygments_lexer": "ipython3",
   "version": "3.7.6"
  },
  "orig_nbformat": 2,
  "vscode": {
   "interpreter": {
    "hash": "01ef5fd295d2f06c799f887d3d5a0aa621984c826cc1e428ccbd852109f922c3"
   }
  }
 },
 "nbformat": 4,
 "nbformat_minor": 2
}
