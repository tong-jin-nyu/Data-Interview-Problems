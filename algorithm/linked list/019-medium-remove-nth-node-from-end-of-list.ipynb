{
 "cells": [
  {
   "cell_type": "markdown",
   "metadata": {},
   "source": [
    "# 019 Remove Nth Node From End of List\n",
    "\n",
    "Medium\n",
    "\n",
    "https://leetcode.cn/problems/remove-nth-node-from-end-of-list/\n",
    "\n",
    "Created on: 7/16/2022\n",
    "\n",
    "Modified on: 7/16/2022\n",
    "\n",
    "---\n",
    "\n",
    "Given the `head` of a linked list, remove the `nth` node from the end of the list and return its head.\n",
    "\n",
    "**Example 1:**\n",
    "\n",
    "![example-1](https://assets.leetcode.com/uploads/2020/10/03/remove_ex1.jpg)\n",
    "\n",
    "```\n",
    "Input: head = [1,2,3,4,5], n = 2\n",
    "Output: [1,2,3,5]\n",
    "```\n",
    "\n",
    "**Example 2:**\n",
    "\n",
    "```\n",
    "Input: head = [1], n = 1\n",
    "Output: []\n",
    "```\n",
    "\n",
    "**Example 3:**\n",
    "\n",
    "```\n",
    "Input: head = [1,2], n = 1\n",
    "Output: [1]\n",
    "```\n",
    "\n",
    "**Constraints:**\n",
    "\n",
    "- The number of nodes in the list is `sz`.\n",
    "- 1 <= sz <= 30\n",
    "- 0 <= `Node.val` <= 100\n",
    "- 1 <= n <= sz\n",
    "\n",
    "**Follow up:** Could you do this in one pass?\n",
    "\n",
    "---\n"
   ]
  },
  {
   "cell_type": "code",
   "execution_count": 15,
   "metadata": {},
   "outputs": [
    {
     "name": "stdout",
     "output_type": "stream",
     "text": [
      "1\n",
      "2\n",
      "3\n",
      "5\n"
     ]
    }
   ],
   "source": [
    "# Definition for singly-linked list.\n",
    "class ListNode:\n",
    "    def __init__(self, val=0, next=None):\n",
    "        self.val = val\n",
    "        self.next = next\n",
    "\n",
    "\n",
    "class Solution:\n",
    "    def removeNthFromEnd(self, head: ListNode, n: int) -> ListNode:\n",
    "        count = 0\n",
    "        temp = head\n",
    "        while temp:\n",
    "            count += 1\n",
    "            temp = temp.next\n",
    "\n",
    "        dummy = ListNode(0, head)\n",
    "        curr = dummy\n",
    "        for _ in range(count - n):\n",
    "            curr = curr.next\n",
    "\n",
    "        curr.next = curr.next.next\n",
    "\n",
    "        return dummy.next\n",
    "\n",
    "\n",
    "# Test\n",
    "test = Solution()\n",
    "head = ListNode(1)\n",
    "head.next = ListNode(2)\n",
    "head.next.next = ListNode(3)\n",
    "head.next.next.next = ListNode(4)\n",
    "head.next.next.next.next = ListNode(5)\n",
    "n = 2\n",
    "output = test.removeNthFromEnd(head, n)\n",
    "while output:\n",
    "    print(output.val)\n",
    "    output = output.next\n"
   ]
  }
 ],
 "metadata": {
  "kernelspec": {
   "display_name": "Python 3.7.6 ('base')",
   "language": "python",
   "name": "python3"
  },
  "language_info": {
   "codemirror_mode": {
    "name": "ipython",
    "version": 3
   },
   "file_extension": ".py",
   "mimetype": "text/x-python",
   "name": "python",
   "nbconvert_exporter": "python",
   "pygments_lexer": "ipython3",
   "version": "3.7.6"
  },
  "orig_nbformat": 2,
  "vscode": {
   "interpreter": {
    "hash": "01ef5fd295d2f06c799f887d3d5a0aa621984c826cc1e428ccbd852109f922c3"
   }
  }
 },
 "nbformat": 4,
 "nbformat_minor": 2
}
