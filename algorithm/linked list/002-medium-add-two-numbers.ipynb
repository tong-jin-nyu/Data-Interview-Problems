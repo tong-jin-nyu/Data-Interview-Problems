{
 "cells": [
  {
   "cell_type": "markdown",
   "metadata": {},
   "source": [
    "# 002 Add Two Numbers\n",
    "\n",
    "Medium\n",
    "\n",
    "https://leetcode.cn/problems/add-two-numbers/\n",
    "\n",
    "Created on: 11/13/2021\n",
    "\n",
    "Modified on: 7/17/2022\n",
    "\n",
    "---\n",
    "\n",
    "You are given two **non-empty** linked lists representing two non-negative integers. The digits are stored in **reverse order**, and each of their nodes contains a single digit. Add the two numbers and return the sum as a linked list.\n",
    "\n",
    "You may assume that the two numbers do not contain any leading zero, except the number 0 itself.\n",
    "\n",
    "**Example 1:**\n",
    "![Example 1](https://assets.leetcode.com/uploads/2020/10/02/addtwonumber1.jpg)\n",
    "\n",
    "```\n",
    "Input: l1 = [2,4,3], l2 = [5,6,4]\n",
    "Output: [7,0,8]\n",
    "Explanation: 342 + 465 = 807.\n",
    "```\n",
    "\n",
    "**Example 2:**\n",
    "```\n",
    "Input: l1 = [0], l2 = [0]\n",
    "Output: [0]\n",
    "```\n",
    "\n",
    "**Example 3:**\n",
    "```\n",
    "Input: l1 = [9,9,9,9,9,9,9], l2 = [9,9,9,9]\n",
    "Output: [8,9,9,9,0,0,0,1]\n",
    "```\n",
    "\n",
    "**Constraints:**\n",
    "- The number of nodes in each linked list is in the range `[1, 100]`.\n",
    "- `0 <= Node.val <= 9`\n",
    "- It is guaranteed that the list represents a number that does not have leading zeros.\n",
    "\n",
    "---"
   ]
  },
  {
   "cell_type": "code",
   "execution_count": 1,
   "metadata": {},
   "outputs": [
    {
     "name": "stdout",
     "output_type": "stream",
     "text": [
      "7\n",
      "0\n",
      "8\n"
     ]
    }
   ],
   "source": [
    "from typing import Optional\n",
    "\n",
    "\n",
    "class ListNode():\n",
    "    def __init__(self, val=0, next=None):\n",
    "        self.val = val\n",
    "        self.next = next\n",
    "\n",
    "\n",
    "class Solution:\n",
    "    def addTwoNumbers(self, l1: Optional[ListNode], l2: Optional[ListNode]) -> Optional[ListNode]:\n",
    "        \n",
    "        # Convert two linked lists into arrays.\n",
    "        s1 = list()\n",
    "        s2 = list()\n",
    "        while l1:\n",
    "            s1.append(l1.val)\n",
    "            l1 = l1.next\n",
    "        while l2:\n",
    "            s2.append(l2.val)\n",
    "            l2 = l2.next\n",
    "        \n",
    "        # Convert arrays into strings and flip.\n",
    "        s1 = ''.join([str(val) for val in s1])[::-1]\n",
    "        s2 = ''.join([str(val) for val in s2])[::-1]\n",
    "\n",
    "        # Sum and then flip back.\n",
    "        s = str(int(s1) + int(s2))[::-1]\n",
    "\n",
    "        # Write a new linked list as output.\n",
    "        root = ListNode(int(s[0]))\n",
    "        tmp = root\n",
    "        for i in range(1, len(s)):\n",
    "            tmp.next = ListNode(int(s[i]))\n",
    "            tmp = tmp.next\n",
    "        return root\n",
    "\n",
    "\n",
    "# Test\n",
    "l1 = ListNode(2)\n",
    "l1.next = ListNode(4)\n",
    "l1.next.next = ListNode(3)\n",
    "\n",
    "l2 = ListNode(5)\n",
    "l2.next = ListNode(6)\n",
    "l2.next.next = ListNode(4)\n",
    "\n",
    "test = Solution()\n",
    "answer = test.addTwoNumbers(l1, l2)\n",
    "while answer:\n",
    "    print(answer.val)\n",
    "    answer = answer.next\n"
   ]
  }
 ],
 "metadata": {
  "interpreter": {
   "hash": "01ef5fd295d2f06c799f887d3d5a0aa621984c826cc1e428ccbd852109f922c3"
  },
  "kernelspec": {
   "display_name": "Python 3.7.6 ('base')",
   "language": "python",
   "name": "python3"
  },
  "language_info": {
   "codemirror_mode": {
    "name": "ipython",
    "version": 3
   },
   "file_extension": ".py",
   "mimetype": "text/x-python",
   "name": "python",
   "nbconvert_exporter": "python",
   "pygments_lexer": "ipython3",
   "version": "3.7.6"
  },
  "orig_nbformat": 2
 },
 "nbformat": 4,
 "nbformat_minor": 2
}
