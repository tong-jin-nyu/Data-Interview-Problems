{
 "cells": [
  {
   "cell_type": "markdown",
   "metadata": {},
   "source": [
    "# 061 Rotate List\n",
    "\n",
    "Medium\n",
    "\n",
    "https://leetcode.cn/problems/rotate-list/\n",
    "\n",
    "Created on: 7/18/2022\n",
    "\n",
    "Modified on: 7/18/2022\n",
    "\n",
    "---\n",
    "\n",
    "Given the `head` of a linked list, rotate the list to the right by `k` places.\n",
    "\n",
    "\n",
    "**Example 1:**\n",
    "\n",
    "![example-1](https://assets.leetcode.com/uploads/2020/11/13/rotate1.jpg)\n",
    "\n",
    "```\n",
    "Input: head = [1,2,3,4,5], k = 2\n",
    "Output: [4,5,1,2,3]\n",
    "```\n",
    "\n",
    "**Example 2:**\n",
    "\n",
    "![example-2](https://assets.leetcode.com/uploads/2020/11/13/roate2.jpg)\n",
    "\n",
    "```\n",
    "Input: head = [0,1,2], k = 4\n",
    "Output: [2,0,1]\n",
    "```\n",
    "\n",
    "**Constraints:**\n",
    "- The number of nodes in both lists is in the range `[0, 500]`.\n",
    "- -100 <= `Node.val` <= 100\n",
    "- 0 <= k <= 2 * 10^9\n",
    "\n",
    "---\n"
   ]
  },
  {
   "cell_type": "code",
   "execution_count": 11,
   "metadata": {},
   "outputs": [
    {
     "name": "stdout",
     "output_type": "stream",
     "text": [
      "4\n",
      "5\n",
      "1\n",
      "2\n",
      "3\n"
     ]
    }
   ],
   "source": [
    "from typing import Optional\n",
    "\n",
    "\n",
    "# Definition for singly-linked list.\n",
    "class ListNode:\n",
    "    def __init__(self, val=0, next=None):\n",
    "        self.val = val\n",
    "        self.next = next\n",
    "\n",
    "    def printList(self):\n",
    "        curr = self\n",
    "        while curr:\n",
    "            print(curr.val)\n",
    "            curr = curr.next\n",
    "\n",
    "\n",
    "class Solution:\n",
    "    def rotateRight(self, head: Optional[ListNode], k: int) -> Optional[ListNode]:\n",
    "        if k == 0 or not head or not head.next:\n",
    "            return head\n",
    "\n",
    "        size = 1\n",
    "        temp = head\n",
    "        while temp.next:\n",
    "            temp = temp.next\n",
    "            size += 1\n",
    "\n",
    "        moves = size - k % size\n",
    "        if moves == size:\n",
    "            return head\n",
    "\n",
    "        # Connect tail with head to make a close loop.\n",
    "        temp.next = head\n",
    "\n",
    "        while moves:\n",
    "            temp = temp.next\n",
    "            moves -= 1\n",
    "\n",
    "        output = temp.next\n",
    "        temp.next = None\n",
    "\n",
    "        return output\n",
    "\n",
    "\n",
    "\n",
    "# Test\n",
    "test = Solution()\n",
    "head = ListNode(1)\n",
    "head.next = ListNode(2)\n",
    "head.next.next = ListNode(3)\n",
    "head.next.next.next = ListNode(4)\n",
    "head.next.next.next.next = ListNode(5)\n",
    "k = 2\n",
    "test.rotateRight(head, k).printList()\n"
   ]
  }
 ],
 "metadata": {
  "interpreter": {
   "hash": "aee8b7b246df8f9039afb4144a1f6fd8d2ca17a180786b69acc140d282b71a49"
  },
  "kernelspec": {
   "display_name": "Python 3.8.2 64-bit",
   "language": "python",
   "name": "python3"
  },
  "language_info": {
   "codemirror_mode": {
    "name": "ipython",
    "version": 3
   },
   "file_extension": ".py",
   "mimetype": "text/x-python",
   "name": "python",
   "nbconvert_exporter": "python",
   "pygments_lexer": "ipython3",
   "version": "3.8.2"
  }
 },
 "nbformat": 4,
 "nbformat_minor": 2
}
