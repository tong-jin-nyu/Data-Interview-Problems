{
 "cells": [
  {
   "cell_type": "markdown",
   "metadata": {},
   "source": [
    "# Leetcode Notes\n",
    "\n",
    "## Algorithm\n",
    "\n",
    "---\n",
    "\n",
    "## 203 Remove Linked List Elements\n",
    "\n",
    "Easy"
   ]
  },
  {
   "cell_type": "markdown",
   "metadata": {},
   "source": [
    "# 203 Remove Linked List Elements\n",
    "\n",
    "Easy\n",
    "\n",
    "https://leetcode-cn.com/problems/remove-linked-list-elements/\n",
    "\n",
    "Created on: 11/14/2021\n",
    "\n",
    "Modified on: 7/17/2022\n",
    "\n",
    "---\n",
    "\n",
    "Given the `head` of a linked list and an integer `val`, remove all the nodes of the linked list that has `Node.val == val`, and return the *new* head.\n",
    "\n",
    "**Example 1:**\n",
    "\n",
    "![Example 1](https://assets.leetcode.com/uploads/2021/03/06/removelinked-list.jpg)\n",
    "\n",
    "```\n",
    "Input: head = [1,2,6,3,4,5,6], val = 6\n",
    "Output: [1,2,3,4,5]\n",
    "```\n",
    "\n",
    "**Example 2:**\n",
    "\n",
    "```\n",
    "Input: head = [], val = 1\n",
    "Output: []\n",
    "```\n",
    "\n",
    "**Example 3:**\n",
    "\n",
    "```\n",
    "Input: head = [7,7,7,7], val = 7\n",
    "Output: []\n",
    "```\n",
    "\n",
    "**Constraints:**\n",
    "\n",
    "- The number of nodes in the list is in range `[0, 10^4]`.\n",
    "- `1 <= Node.val <= 50`\n",
    "- `0 <= val <= 50`\n",
    "\n",
    "---\n"
   ]
  },
  {
   "cell_type": "markdown",
   "metadata": {},
   "source": [
    "### Solution"
   ]
  },
  {
   "cell_type": "code",
   "execution_count": 1,
   "metadata": {},
   "outputs": [
    {
     "name": "stdout",
     "output_type": "stream",
     "text": [
      "1\n",
      "2\n",
      "3\n",
      "4\n",
      "5\n"
     ]
    }
   ],
   "source": [
    "class ListNode:\n",
    "    def __init__(self, val=0, next=None):\n",
    "        self.val = val\n",
    "        self.next = next\n",
    "\n",
    "\n",
    "class Solution:\n",
    "    def removeElements(self, head: ListNode, val: int) -> ListNode:\n",
    "        dummy = ListNode(0, head)\n",
    "        temp = dummy\n",
    "\n",
    "        while temp.next:\n",
    "            if temp.next.val == val:\n",
    "                temp.next = temp.next.next\n",
    "            else:\n",
    "                temp = temp.next\n",
    "\n",
    "        return dummy.next\n",
    "\n",
    "\n",
    "\n",
    "# Test\n",
    "head = ListNode(1)\n",
    "head.next = ListNode(2)\n",
    "head.next.next = ListNode(6)\n",
    "head.next.next.next = ListNode(3)\n",
    "head.next.next.next.next = ListNode(4)\n",
    "head.next.next.next.next.next = ListNode(5)\n",
    "head.next.next.next.next.next.next = ListNode(6)\n",
    "val = 6\n",
    "\n",
    "test = Solution()\n",
    "output = test.removeElements(head, val)\n",
    "while output:\n",
    "    print(output.val)\n",
    "    output = output.next"
   ]
  },
  {
   "cell_type": "markdown",
   "metadata": {},
   "source": [
    "---"
   ]
  }
 ],
 "metadata": {
  "kernelspec": {
   "display_name": "Python 3.7.6 ('base')",
   "language": "python",
   "name": "python3"
  },
  "language_info": {
   "codemirror_mode": {
    "name": "ipython",
    "version": 3
   },
   "file_extension": ".py",
   "mimetype": "text/x-python",
   "name": "python",
   "nbconvert_exporter": "python",
   "pygments_lexer": "ipython3",
   "version": "3.7.6"
  },
  "orig_nbformat": 2,
  "vscode": {
   "interpreter": {
    "hash": "01ef5fd295d2f06c799f887d3d5a0aa621984c826cc1e428ccbd852109f922c3"
   }
  }
 },
 "nbformat": 4,
 "nbformat_minor": 2
}
