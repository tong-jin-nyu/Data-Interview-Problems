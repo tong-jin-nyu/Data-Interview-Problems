{
 "cells": [
  {
   "cell_type": "markdown",
   "metadata": {},
   "source": [
    "# 024 Swap Nodes in Pairs\n",
    "\n",
    "Medium\n",
    "\n",
    "https://leetcode.cn/problems/swap-nodes-in-pairs/\n",
    "\n",
    "Created on: 7/18/2022\n",
    "\n",
    "Modified on: 7/18/2022\n",
    "\n",
    "---\n",
    "\n",
    "Given a linked list, swap every two adjacent nodes and return its head. You must solve the problem without modifying the values in the list's nodes (i.e., only nodes themselves may be changed.)\n",
    "\n",
    "\n",
    "**Example 1:**\n",
    "\n",
    "![example-1](https://assets.leetcode.com/uploads/2020/10/03/swap_ex1.jpg)\n",
    "\n",
    "```\n",
    "Input: head = [1,2,3,4]\n",
    "Output: [2,1,4,3]\n",
    "```\n",
    "\n",
    "**Example 2:**\n",
    "\n",
    "```\n",
    "Input: head = []\n",
    "Output: []\n",
    "```\n",
    "\n",
    "**Example 3:**\n",
    "\n",
    "```\n",
    "Input: head = [1]\n",
    "Output: [1]\n",
    "```\n",
    "\n",
    "**Constraints:**\n",
    "- The number of nodes in both lists is in the range `[0, 100]`.\n",
    "- 0 <= `Node.val` <= 100\n",
    "\n",
    "---\n"
   ]
  },
  {
   "cell_type": "code",
   "execution_count": 12,
   "metadata": {},
   "outputs": [
    {
     "name": "stdout",
     "output_type": "stream",
     "text": [
      "2\n",
      "1\n",
      "4\n",
      "3\n"
     ]
    }
   ],
   "source": [
    "# Definition for singly-linked list.\n",
    "class ListNode:\n",
    "    def __init__(self, val=0, next=None):\n",
    "        self.val = val\n",
    "        self.next = next\n",
    "    def printList(self):\n",
    "        current = self\n",
    "        while current:\n",
    "            print(current.val)\n",
    "            current = current.next\n",
    "\n",
    "\n",
    "class Solution:\n",
    "    def swapPairs(self, head: ListNode) -> ListNode:\n",
    "        if not head or not head.next:\n",
    "            return head\n",
    "        \n",
    "        newHead = head.next\n",
    "        head.next = self.swapPairs(newHead.next)\n",
    "        newHead.next = head\n",
    "\n",
    "        return newHead\n",
    "\n",
    "\n",
    "# Test\n",
    "head = ListNode(1)\n",
    "head.next = ListNode(2)\n",
    "head.next.next = ListNode(3)\n",
    "head.next.next.next = ListNode(4)\n",
    "test = Solution()\n",
    "test.swapPairs(head).printList()\n"
   ]
  },
  {
   "cell_type": "code",
   "execution_count": 13,
   "metadata": {},
   "outputs": [
    {
     "name": "stdout",
     "output_type": "stream",
     "text": [
      "2\n",
      "1\n",
      "4\n",
      "3\n"
     ]
    }
   ],
   "source": [
    "# Definition for singly-linked list.\n",
    "class ListNode:\n",
    "    def __init__(self, val=0, next=None):\n",
    "        self.val = val\n",
    "        self.next = next\n",
    "\n",
    "    def printList(self):\n",
    "        current = self\n",
    "        while current:\n",
    "            print(current.val)\n",
    "            current = current.next\n",
    "\n",
    "\n",
    "class Solution:\n",
    "    def swapPairs(self, head: ListNode) -> ListNode:\n",
    "        if not head or not head.next:\n",
    "            return head\n",
    "\n",
    "        node_1 = head\n",
    "        node_2 = head.next\n",
    "        node_3 = node_2.next\n",
    "\n",
    "        node_2.next = node_1\n",
    "        node_1.next = self.swapPairs(node_3)\n",
    "\n",
    "        return node_2\n",
    "\n",
    "\n",
    "# Test\n",
    "head = ListNode(1)\n",
    "head.next = ListNode(2)\n",
    "head.next.next = ListNode(3)\n",
    "head.next.next.next = ListNode(4)\n",
    "test = Solution()\n",
    "test.swapPairs(head).printList()\n"
   ]
  }
 ],
 "metadata": {
  "interpreter": {
   "hash": "aee8b7b246df8f9039afb4144a1f6fd8d2ca17a180786b69acc140d282b71a49"
  },
  "kernelspec": {
   "display_name": "Python 3.8.2 64-bit",
   "language": "python",
   "name": "python3"
  },
  "language_info": {
   "codemirror_mode": {
    "name": "ipython",
    "version": 3
   },
   "file_extension": ".py",
   "mimetype": "text/x-python",
   "name": "python",
   "nbconvert_exporter": "python",
   "pygments_lexer": "ipython3",
   "version": "3.8.2"
  }
 },
 "nbformat": 4,
 "nbformat_minor": 2
}
