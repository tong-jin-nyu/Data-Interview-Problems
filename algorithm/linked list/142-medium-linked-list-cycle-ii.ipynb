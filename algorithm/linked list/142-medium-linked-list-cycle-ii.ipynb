{
 "cells": [
  {
   "cell_type": "markdown",
   "metadata": {},
   "source": [
    "# Linked List Cycle II\n",
    "\n",
    "Medium\n",
    "\n",
    "https://leetcode.cn/problems/linked-list-cycle-ii/\n",
    "\n",
    "Created on: 7/15/2022\n",
    "\n",
    "Modified on: 7/15/2022\n",
    "\n",
    "---\n",
    "\n",
    "Given the `head` of a linked list, return the node where the cycle begins. If there is no cycle, return `null`.\n",
    "\n",
    "There is a cycle in a linked list if there is some nodes in the list that can be reached again by continuously following the `next` pointer. Internally, `pos` is used to denote the index of the node that tails `next` pointer is connected to. **Note that** `pos` **is not passed as a parameter**.\n",
    "\n",
    "Do not modify the linked list.\n",
    "\n",
    "\n",
    "**Example 1:**\n",
    "![Example 1](https://assets.leetcode.com/uploads/2018/12/07/circularlinkedlist.png)\n",
    "\n",
    "```\n",
    "Input: head = [3, 2, 0, -4], pos = 1\n",
    "Output: true\n",
    "Explanation: There is a cycle in the linked list, where the tail connects to the 1st node (0-indexed).\n",
    "```\n",
    "\n",
    "**Example 2:**\n",
    "![Example 2](https://assets.leetcode.com/uploads/2018/12/07/circularlinkedlist_test2.png)\n",
    "\n",
    "```\n",
    "Input: head = [1, 2], pos = 0\n",
    "Output: true\n",
    "Explanation: There is a cycle in the linked list, where the tail connects to the 0th node.\n",
    "```\n",
    "\n",
    "**Example 3:**\n",
    "![Example 3](https://assets.leetcode.com/uploads/2018/12/07/circularlinkedlist_test3.png)\n",
    "\n",
    "```\n",
    "Input: head = [1], pos = -1\n",
    "Output: false\n",
    "Explanation: There is no cycle in the linked list.\n",
    "```\n",
    "\n",
    "**Constraints:**\n",
    "- The number of the nodes in the list is in the range `[0, 10^4]`.\n",
    "- `-10^5 <= Node.val <= 10^5\n",
    "- `pos` is `-1` or a **valid index** in the linked-list.\n",
    "\n",
    "---\n"
   ]
  },
  {
   "cell_type": "markdown",
   "metadata": {},
   "source": [
    "### Solution 1"
   ]
  },
  {
   "cell_type": "code",
   "execution_count": 2,
   "metadata": {},
   "outputs": [
    {
     "name": "stdout",
     "output_type": "stream",
     "text": [
      "<__main__.ListNode object at 0x7fdb9eb2ae90>\n",
      "None\n"
     ]
    }
   ],
   "source": [
    "# Definition for singly-linked list.\n",
    "class ListNode:\n",
    "    def __init__(self, x):\n",
    "        self.val = x\n",
    "        self.next = None\n",
    "\n",
    "class Solution:\n",
    "    def detectCycle(self, head: ListNode) -> ListNode:\n",
    "        exists = set()\n",
    "\n",
    "        while head:\n",
    "            if head in exists:\n",
    "                return head\n",
    "\n",
    "            exists.add(head)\n",
    "            head = head.next\n",
    "\n",
    "        return None\n",
    "\n",
    "\n",
    "# Test\n",
    "head = ListNode(3)\n",
    "head.next = ListNode(2)\n",
    "head.next.next = ListNode(0)\n",
    "head.next.next.next = ListNode(-4)\n",
    "head.next.next.next.next = head.next\n",
    "\n",
    "test = Solution()\n",
    "print(test.detectCycle(head))\n",
    "\n",
    "# Test\n",
    "head = ListNode(3)\n",
    "head.next = ListNode(2)\n",
    "head.next.next = ListNode(0)\n",
    "\n",
    "test = Solution()\n",
    "print(test.detectCycle(head))\n"
   ]
  },
  {
   "cell_type": "markdown",
   "metadata": {},
   "source": [
    "---"
   ]
  }
 ],
 "metadata": {
  "kernelspec": {
   "display_name": "Python 3.7.6 ('base')",
   "language": "python",
   "name": "python3"
  },
  "language_info": {
   "codemirror_mode": {
    "name": "ipython",
    "version": 3
   },
   "file_extension": ".py",
   "mimetype": "text/x-python",
   "name": "python",
   "nbconvert_exporter": "python",
   "pygments_lexer": "ipython3",
   "version": "3.7.6"
  },
  "orig_nbformat": 2,
  "vscode": {
   "interpreter": {
    "hash": "01ef5fd295d2f06c799f887d3d5a0aa621984c826cc1e428ccbd852109f922c3"
   }
  }
 },
 "nbformat": 4,
 "nbformat_minor": 2
}
