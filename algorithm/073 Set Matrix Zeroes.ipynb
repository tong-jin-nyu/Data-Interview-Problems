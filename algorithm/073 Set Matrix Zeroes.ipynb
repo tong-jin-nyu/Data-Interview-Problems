{
 "cells": [
  {
   "cell_type": "markdown",
   "metadata": {},
   "source": [
    "created on: 11/13/2021\n",
    "\n",
    "updated on: 11/13/2021"
   ]
  },
  {
   "cell_type": "markdown",
   "metadata": {},
   "source": [
    "# Leetcode Notes\n",
    "\n",
    "## Algorithm\n",
    "\n",
    "---\n",
    "\n",
    "## 073 Set Matrix Zeroes\n",
    "\n",
    "Medium"
   ]
  },
  {
   "cell_type": "markdown",
   "metadata": {},
   "source": [
    "Source: [Leetcode](https://leetcode-cn.com/problems/set-matrix-zeroes/)\n",
    "\n",
    "### Instructions\n",
    "\n",
    "Given an `m * n` integer matrix `matrix`, if an element is `0`, set its entire row and column to `0`, and return the *matrix*.\n",
    "\n",
    "You must do it **in place**.\n",
    "\n",
    "**Example 1:**\n",
    "![Matrix Example 1](https://assets.leetcode.com/uploads/2020/08/17/mat1.jpg)\n",
    "\n",
    "```\n",
    "Input: matrix = [[1,1,1], [1,0,1], [1,1,1]]\n",
    "Output: [[1,0,1], [0,0,0], [1,0,1]]\n",
    "```\n",
    "\n",
    "**Example 2:**\n",
    "![Matrix Example 2](https://assets.leetcode.com/uploads/2020/08/17/mat2.jpg)\n",
    "\n",
    "```\n",
    "Input: matrix = [[0,1,2,0],[3,4,5,2],[1,3,1,5]]\n",
    "Output: [[0,0,0,0],[0,4,5,0],[0,3,1,0]]\n",
    "```\n",
    "\n",
    "**Constraints:**\n",
    "- `m == matrix.length`\n",
    "- `n == matrix[0].length`\n",
    "- `1 <= m, n <= 200`\n",
    "- `-2^31 <= matrix[i][j] <= 2^31 - 1`"
   ]
  },
  {
   "cell_type": "markdown",
   "metadata": {},
   "source": [
    "### Solution"
   ]
  },
  {
   "cell_type": "code",
   "execution_count": 36,
   "metadata": {},
   "outputs": [
    {
     "data": {
      "text/plain": [
       "[1, 3, 1, 5]"
      ]
     },
     "execution_count": 36,
     "metadata": {},
     "output_type": "execute_result"
    }
   ],
   "source": [
    "matrix = [[0, 1, 2, 0], [3, 4, 5, 2], [1, 3, 1, 5]]\n",
    "matrix[:][2]"
   ]
  },
  {
   "cell_type": "code",
   "execution_count": 29,
   "metadata": {},
   "outputs": [
    {
     "data": {
      "text/plain": [
       "[0, 0, 0, 0]"
      ]
     },
     "execution_count": 29,
     "metadata": {},
     "output_type": "execute_result"
    }
   ],
   "source": [
    "[0] * 4\n"
   ]
  },
  {
   "cell_type": "code",
   "execution_count": 37,
   "metadata": {},
   "outputs": [
    {
     "name": "stdout",
     "output_type": "stream",
     "text": [
      "[[0, 0, 0, 0], [0, 4, 5, 0], [0, 3, 1, 0]]\n"
     ]
    }
   ],
   "source": [
    "from typing import List\n",
    "\n",
    "\n",
    "class Solution:\n",
    "    def setZeroes(self, matrix: List[List[int]]) -> None:\n",
    "        \"\"\"Do not return anything, modify matrix in-place instead.\n",
    "        \"\"\"\n",
    "        m = len(matrix)\n",
    "        n = len(matrix[0])\n",
    "        rowZeroes = list()\n",
    "        colZeroes = list()\n",
    "        for row in range(m):\n",
    "            for col in range(n):\n",
    "                if matrix[row][col] == 0:\n",
    "                    rowZeroes.append(row)\n",
    "                    colZeroes.append(col)\n",
    "        for rowZero in set(rowZeroes):\n",
    "            matrix[rowZero] = [0] * n\n",
    "        for colZero in set(colZeroes):\n",
    "            for row in range(m):\n",
    "                matrix[row][colZero] = 0\n",
    "\n",
    "\n",
    "# Test\n",
    "test = Solution()\n",
    "matrix = [[0, 1, 2, 0], [3, 4, 5, 2], [1, 3, 1, 5]]\n",
    "test.setZeroes(matrix)\n",
    "print(matrix)\n",
    "\n"
   ]
  },
  {
   "cell_type": "markdown",
   "metadata": {},
   "source": [
    "### Explanation\n",
    "\n",
    "Needs optimization"
   ]
  },
  {
   "cell_type": "markdown",
   "metadata": {},
   "source": [
    "---"
   ]
  }
 ],
 "metadata": {
  "interpreter": {
   "hash": "dca0ade3e726a953b501b15e8e990130d2b7799f14cfd9f4271676035ebe5511"
  },
  "kernelspec": {
   "display_name": "Python 3.7.4 64-bit (conda)",
   "name": "python3"
  },
  "language_info": {
   "codemirror_mode": {
    "name": "ipython",
    "version": 3
   },
   "file_extension": ".py",
   "mimetype": "text/x-python",
   "name": "python",
   "nbconvert_exporter": "python",
   "pygments_lexer": "ipython3",
   "version": "3.7.6"
  },
  "orig_nbformat": 2
 },
 "nbformat": 4,
 "nbformat_minor": 2
}
