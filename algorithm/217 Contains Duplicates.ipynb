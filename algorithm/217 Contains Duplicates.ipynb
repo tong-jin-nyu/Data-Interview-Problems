{
 "cells": [
  {
   "cell_type": "markdown",
   "metadata": {},
   "source": [
    "created on: 11/01/2021\n",
    "\n",
    "updated on: 11/06/2021"
   ]
  },
  {
   "cell_type": "markdown",
   "metadata": {},
   "source": [
    "# Leetcode Notes\n",
    "\n",
    "## Algorithm\n",
    "\n",
    "---\n",
    "\n",
    "## 217 Contains Duplicates\n",
    "\n",
    "Easy"
   ]
  },
  {
   "cell_type": "markdown",
   "metadata": {},
   "source": [
    "### Instructions\n",
    "\n",
    "Given an interger array `nums`, return `true` if any value appears **at least twice** in the array, and return `false` if every element is distinct.\n",
    "\n",
    "**Example 1:**\n",
    "``` python\n",
    "Input: nums = [1, 2, 3, 1]\n",
    "Output: true\n",
    "```\n",
    "\n",
    "**Example 2:**\n",
    "``` python\n",
    "Input: nums = [1, 2, 3, 4]\n",
    "Output: false\n",
    "```\n",
    "\n",
    "**Constraints:**\n",
    "- $1 \\leq \\text{nums.length} \\leq 10^{5}$\n",
    "- $-10^{9} \\leq \\text{nums[i]} \\leq 10^{9}$"
   ]
  },
  {
   "cell_type": "markdown",
   "metadata": {},
   "source": [
    "### Solution"
   ]
  },
  {
   "cell_type": "code",
   "execution_count": 3,
   "metadata": {},
   "outputs": [
    {
     "name": "stdout",
     "output_type": "stream",
     "text": [
      "True\n",
      "False\n",
      "False\n"
     ]
    }
   ],
   "source": [
    "from typing import List\n",
    "\n",
    "class Solution:\n",
    "    def containsDuplicate(self, nums: List[int]) -> bool:\n",
    "        pool = list()\n",
    "        for i in range(len(nums)):\n",
    "            if nums[i] in pool:\n",
    "                return True\n",
    "                break\n",
    "            else:\n",
    "                pool.append(nums[i])\n",
    "        return False\n",
    "            \n",
    "# Test\n",
    "test = Solution()\n",
    "print(test.containsDuplicate(nums=[1,1,1,3,3,4]))\n",
    "print(test.containsDuplicate(nums=[1]))\n",
    "print(test.containsDuplicate(nums=[-4,-1039,-1,8039]))"
   ]
  },
  {
   "cell_type": "markdown",
   "metadata": {},
   "source": [
    "### Explanation"
   ]
  },
  {
   "cell_type": "markdown",
   "metadata": {},
   "source": []
  },
  {
   "cell_type": "markdown",
   "metadata": {},
   "source": [
    "---"
   ]
  }
 ],
 "metadata": {
  "kernelspec": {
   "display_name": "Python 3",
   "language": "python",
   "name": "python3"
  },
  "language_info": {
   "codemirror_mode": {
    "name": "ipython",
    "version": 3
   },
   "file_extension": ".py",
   "mimetype": "text/x-python",
   "name": "python",
   "nbconvert_exporter": "python",
   "pygments_lexer": "ipython3",
   "version": "3.7.6"
  }
 },
 "nbformat": 4,
 "nbformat_minor": 2
}
