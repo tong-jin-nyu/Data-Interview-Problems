{
 "cells": [
  {
   "cell_type": "markdown",
   "metadata": {},
   "source": [
    "created on: 11/11/2021\n",
    "\n",
    "updated on: 11/11/2021"
   ]
  },
  {
   "cell_type": "markdown",
   "metadata": {},
   "source": [
    "# Leetcode Notes\n",
    "\n",
    "## Algorithm\n",
    "\n",
    "---\n",
    "\n",
    "## 350 Intersection of Two Arrays II\n",
    "\n",
    "Easy"
   ]
  },
  {
   "cell_type": "markdown",
   "metadata": {},
   "source": [
    "Source: [Leetcode](https://leetcode-cn.com/problems/intersection-of-two-arrays-ii/)\n",
    "\n",
    "### Instructions\n",
    "\n",
    "Given two integer arrays `nums1` and `nums2`, return an array of their intersection. Each element in the result must appear as many times as it shows in both arrays and you may return the result in **any order**.\n",
    "\n",
    "**Example 1:**\n",
    "```\n",
    "Input: nums1 = [1, 2, 2, 1], nums2 = [2, 2]\n",
    "Output: [2, 2]\n",
    "```\n",
    "\n",
    "**Example 2:**\n",
    "```\n",
    "Input: nums1 = [4, 9, 5], nums2 = [9, 4, 9, 8, 4]\n",
    "Output: [4, 9]\n",
    "Explanation: [9, 4] is also accepted.\n",
    "```\n",
    "\n",
    "**Constraints:**\n",
    "- $1 \\leq \\text{nums1.length}, \\text{nums2.length} \\leq 1000$\n",
    "- $0 \\leq \\text{nums1[i]}, \\text{nums2[j]} \\leq 1000$\n",
    "\n",
    "**Follow up:**\n",
    "- What if the given array is already sorted? How would you optimize your algorithm?\n",
    "- What if `nums1`'s size is small compared to `nums2`'s? Which algorithm is better?\n",
    "- What if elements of `nums2` are stored on disk, and the memory is limited such that you cannot load all elements into the memory at once?"
   ]
  },
  {
   "cell_type": "markdown",
   "metadata": {},
   "source": [
    "### Solution 1 (Two pointers)"
   ]
  },
  {
   "cell_type": "code",
   "execution_count": 13,
   "metadata": {},
   "outputs": [
    {
     "name": "stdout",
     "output_type": "stream",
     "text": [
      "[2]\n",
      "[1]\n",
      "[2, 2]\n"
     ]
    }
   ],
   "source": [
    "from typing import List\n",
    "\n",
    "class Solution1:\n",
    "    def intersect(self, nums1: List[int], nums2: List[int]) -> List[int]:\n",
    "        output = list()\n",
    "        p1, p2 = 0, 0\n",
    "        while p1 < len(nums1) and p2 < len(nums2):\n",
    "            if nums1[p1] in nums2:\n",
    "                output.append(nums1[p1])\n",
    "                nums2.remove(nums1[p1])\n",
    "                nums1.pop(p1)\n",
    "            elif nums2[p2] in nums1:\n",
    "                output.append(nums2[p2])\n",
    "                nums1.remove(nums2[p2])\n",
    "                nums2.pop(p2)\n",
    "            else:\n",
    "                p1 += 1\n",
    "                p2 += 1\n",
    "        return output\n",
    "\n",
    "\n",
    "# Test\n",
    "test = Solution1()\n",
    "nums1 = [1, 2, 2, 1]\n",
    "nums2 = [2]\n",
    "print(test.intersect(nums1, nums2))\n",
    "\n",
    "test = Solution1()\n",
    "nums1 = [3, 1, 2]\n",
    "nums2 = [1, 1]\n",
    "print(test.intersect(nums1, nums2))\n",
    "\n",
    "test = Solution1()\n",
    "nums1 = [1, 2, 2, 1]\n",
    "nums2 = [2, 2]\n",
    "print(test.intersect(nums1, nums2))\n"
   ]
  },
  {
   "cell_type": "markdown",
   "metadata": {},
   "source": [
    "### Explanation"
   ]
  },
  {
   "cell_type": "markdown",
   "metadata": {},
   "source": [
    "### Solution 2"
   ]
  },
  {
   "cell_type": "code",
   "execution_count": 54,
   "metadata": {},
   "outputs": [
    {
     "name": "stdout",
     "output_type": "stream",
     "text": [
      "[1, 2, 2, 3, 4, 5]\n"
     ]
    }
   ],
   "source": []
  },
  {
   "cell_type": "markdown",
   "metadata": {},
   "source": [
    "### Explanation\n",
    "\n"
   ]
  },
  {
   "cell_type": "markdown",
   "metadata": {},
   "source": [
    "---"
   ]
  }
 ],
 "metadata": {
  "interpreter": {
   "hash": "dca0ade3e726a953b501b15e8e990130d2b7799f14cfd9f4271676035ebe5511"
  },
  "kernelspec": {
   "display_name": "Python 3.7.4 64-bit (conda)",
   "name": "python3"
  },
  "language_info": {
   "codemirror_mode": {
    "name": "ipython",
    "version": 3
   },
   "file_extension": ".py",
   "mimetype": "text/x-python",
   "name": "python",
   "nbconvert_exporter": "python",
   "pygments_lexer": "ipython3",
   "version": "3.7.6"
  },
  "orig_nbformat": 2
 },
 "nbformat": 4,
 "nbformat_minor": 2
}
