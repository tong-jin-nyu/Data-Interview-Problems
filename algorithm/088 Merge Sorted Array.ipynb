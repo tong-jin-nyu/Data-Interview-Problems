{
 "cells": [
  {
   "cell_type": "markdown",
   "metadata": {},
   "source": [
    "created on: 11/10/2020\n",
    "\n",
    "updated on: 11/10/2021"
   ]
  },
  {
   "cell_type": "markdown",
   "metadata": {},
   "source": [
    "# Leetcode Notes\n",
    "\n",
    "## Algorithm\n",
    "\n",
    "---\n",
    "\n",
    "## 088 Merge Sorted Array\n",
    "\n",
    "Easy"
   ]
  },
  {
   "cell_type": "markdown",
   "metadata": {},
   "source": [
    "Source: [Leetcode](https://leetcode-cn.com/problems/merge-sorted-array/)\n",
    "\n",
    "### Instructions\n",
    "\n",
    "You are given two integer arrays `nums1` and `nums2`, sorted in **non-decreasing order**, and two integers `m` and `n`, representing the number of elements in `nums1` and `nums2`, respectively.\n",
    "\n",
    "**Merge** `nums1` and `nums2` into a single array sorted in **non-decreasing order**.\n",
    "\n",
    "The final sorted array should not be returned by the function, but instead by *stored inside the array* `nums1`. To accommodate this, `nums1` has a length of `m + n`, where the first `m` elements denote the elements that should be merged, and the last `n` elements are set to `0` and should be ignored. `nums2` has a length of `n`.\n",
    "\n",
    "**Example 1:**\n",
    "``` python\n",
    "Input: nums1 = [1,2,3,0,0,0], m = 3, nums2 = [2,5,6], n = 3\n",
    "Output: [1,2,2,3,5,6]\n",
    "Explanation: The arrays we are merging are [1,2,3] and [2,5,6].\n",
    "The result of the merge is [1,2,2,3,5,6].\n",
    "```\n",
    "\n",
    "**Example 2:**\n",
    "``` python\n",
    "Input: nums1 = [1], m = 1, nums2 = [], n = 0\n",
    "Output: [1]\n",
    "Explanation: The arrays we are merging are [1] and [].\n",
    "The result of the merge is [1].\n",
    "```\n",
    "\n",
    "**Example 3:**\n",
    "``` python\n",
    "Input: nums1 = [0], m = 0, nums2 = [1], n = 1\n",
    "Output: [1]\n",
    "Note that because m = 0, there is no element in nums1. The 0 is only there to ensure the merge result can fit in nums1.\n",
    "```\n",
    "\n",
    "**Constraints:**\n",
    "- nums1.length == m + n\n",
    "- nums2.length == n\n",
    "- $0 \\leq m, n \\leq 200$\n",
    "- $1 \\leq m + n \\leq 200$\n",
    "- $-10^{9} \\leq \\text{nums1[i]}, \\text{nums2[j]} \\leq 10^{9}$\n",
    "\n",
    "**Follow up:** can you come up with an algorithm that runs in `O(m + n)` time?"
   ]
  },
  {
   "cell_type": "markdown",
   "metadata": {},
   "source": [
    "### Solution 1\n",
    "\n",
    "Time complexity: $O((m + n)log(m + n))$"
   ]
  },
  {
   "cell_type": "code",
   "execution_count": 26,
   "metadata": {},
   "outputs": [
    {
     "name": "stdout",
     "output_type": "stream",
     "text": [
      "[1, 2, 3, 4, 5]\n",
      "[1, 1, 2, 2, 3, 3, 4, 5, 6, 8, 9]\n"
     ]
    }
   ],
   "source": [
    "from typing import List\n",
    "\n",
    "class Solution1:\n",
    "    def merge(self, nums1: List[int], m: int, nums2: List[int], n: int) -> None:\n",
    "        \"\"\"Do not return anything, modify nums1 in-place instead.\n",
    "        \"\"\"\n",
    "        nums1[m: ] = nums2  # Complexity: O(m + n)\n",
    "        nums1.sort()        # Complexity: logO(m + n)\n",
    "\n",
    "\n",
    "# Test\n",
    "test = Solution1()\n",
    "nums1 = [0, 0, 0, 0, 0]\n",
    "test.merge(nums1, 0, [1, 2, 3, 4, 5], 5)\n",
    "print(nums1)\n",
    "\n",
    "nums1 = [1, 2, 3, 6, 8, 9]\n",
    "test.merge(nums1, 11, [1, 2, 3, 4, 5], 5)\n",
    "print(nums1)\n"
   ]
  },
  {
   "cell_type": "markdown",
   "metadata": {},
   "source": [
    "### Explanation\n",
    "\n",
    "In this solution, I simply replace the placeholders (0s) in `nums1` with `nums2` and use Python's `sort()` command to sort the list in ascending order. The time complexity is $O((m + n)log(m + n))$."
   ]
  },
  {
   "cell_type": "markdown",
   "metadata": {},
   "source": [
    "### Solution 2\n",
    "\n",
    "Time complexity: $O(m + n)$"
   ]
  },
  {
   "cell_type": "code",
   "execution_count": 54,
   "metadata": {},
   "outputs": [
    {
     "name": "stdout",
     "output_type": "stream",
     "text": [
      "[1, 2, 2, 3, 4, 5]\n"
     ]
    }
   ],
   "source": [
    "from typing import List\n",
    "\n",
    "\n",
    "class Solution2:\n",
    "    def merge(self, nums1: List[int], m: int, nums2: List[int], n: int) -> None:\n",
    "        \"\"\"Do not return anything, modify nums1 in-place instead.\n",
    "        \"\"\"\n",
    "        p1, p2 = 0, 0\n",
    "        output = list()\n",
    "        while p1 < m or p2 < n:\n",
    "            if p1 == m:\n",
    "                output.append(nums2[p2])\n",
    "                p2 += 1\n",
    "            elif p2 == n:\n",
    "                output.append(nums1[p1])\n",
    "                p1 += 1\n",
    "            elif nums1[p1] < nums2[p2]:\n",
    "                output.append(nums1[p1])\n",
    "                p1 += 1\n",
    "            else:\n",
    "                output.append(nums2[p2])\n",
    "                p2 += 1\n",
    "        nums1[:] = output\n",
    "\n",
    "\n",
    "test = Solution2()\n",
    "nums1 = [1, 2, 3, 0, 0, 0]\n",
    "test.merge(nums1, 3, [2, 4, 5], 3)\n",
    "print(nums1)\n"
   ]
  },
  {
   "cell_type": "markdown",
   "metadata": {},
   "source": [
    "### Solution 3\n",
    "\n",
    "Time complexity: $O(m + n)$"
   ]
  },
  {
   "cell_type": "code",
   "execution_count": null,
   "metadata": {},
   "outputs": [],
   "source": [
    "from typing import List\n",
    "\n",
    "\n",
    "class Solution2:\n",
    "    def merge(self, nums1: List[int], m: int, nums2: List[int], n: int) -> None:\n",
    "        \"\"\"Do not return anything, modify nums1 in-place instead.\n",
    "        \"\"\"\n",
    "        "
   ]
  },
  {
   "cell_type": "markdown",
   "metadata": {},
   "source": [
    "---"
   ]
  }
 ],
 "metadata": {
  "interpreter": {
   "hash": "dca0ade3e726a953b501b15e8e990130d2b7799f14cfd9f4271676035ebe5511"
  },
  "kernelspec": {
   "display_name": "Python 3.7.4 64-bit (conda)",
   "name": "python3"
  },
  "language_info": {
   "codemirror_mode": {
    "name": "ipython",
    "version": 3
   },
   "file_extension": ".py",
   "mimetype": "text/x-python",
   "name": "python",
   "nbconvert_exporter": "python",
   "pygments_lexer": "ipython3",
   "version": "3.7.6"
  },
  "orig_nbformat": 2
 },
 "nbformat": 4,
 "nbformat_minor": 2
}
