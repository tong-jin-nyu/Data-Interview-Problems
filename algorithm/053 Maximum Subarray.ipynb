{
 "cells": [
  {
   "cell_type": "markdown",
   "metadata": {},
   "source": [
    "created on: 11/04/2021\n",
    "\n",
    "updated on: 11/09/2021"
   ]
  },
  {
   "cell_type": "markdown",
   "metadata": {},
   "source": [
    "# Leetcode Notes\n",
    "\n",
    "## Algorithm\n",
    "\n",
    "---\n",
    "\n",
    "## 053 Maximum Subarray\n",
    "\n",
    "Easy"
   ]
  },
  {
   "cell_type": "markdown",
   "metadata": {},
   "source": [
    "Source：[Leetcode](https://leetcode-cn.com/problems/maximum-subarray)\n",
    "\n",
    "### Instructions\n",
    "\n",
    "Given an integer array `nums`, find the contiguous subarray (containing at least one number) which has the largest sum and return its sum.\n",
    "\n",
    "A **subarray** is a **contiguous** part of an array\n",
    "\n",
    "**Example 1:**\n",
    "``` python\n",
    "Input: nums = [-2,1,-3,4,-1,2,1,-5,4]\n",
    "Output: 6\n",
    "Explanation: [4,-1,2,1] has the largest sum = 6.\n",
    "```\n",
    "\n",
    "**Example 2:**\n",
    "``` python\n",
    "Input: nums = [1]\n",
    "Output: 1\n",
    "```\n",
    "\n",
    "**Example 3:**\n",
    "``` python\n",
    "Input: nums = [5,4,-1,7,8]\n",
    "Output: 23\n",
    "```\n",
    "\n",
    "**Constraints:**\n",
    "- $1 \\leq \\text{nums.length} \\leq 10^{5}$\n",
    "- $-10^{4} \\leq \\text{nums[i]} \\leq 10^{4}$\n",
    "\n",
    "**Follow up:** If you have figured out the `O(n)` solution, try coding another solution using the **divide and conquer** approach, which is more subtle."
   ]
  },
  {
   "cell_type": "markdown",
   "metadata": {},
   "source": [
    "### Solutions"
   ]
  },
  {
   "cell_type": "code",
   "execution_count": 1,
   "metadata": {},
   "outputs": [
    {
     "name": "stdout",
     "output_type": "stream",
     "text": [
      "6\n",
      "8\n",
      "10\n"
     ]
    }
   ],
   "source": [
    "from typing import List\n",
    "\n",
    "class Solution:\n",
    "    def maxSubArray(self, nums: List[int]) -> int:\n",
    "        sub = list()\n",
    "        for i in range(1, len(nums)):\n",
    "            if nums[i-1] > 0:\n",
    "                nums[i] += nums[i-1]\n",
    "            else:\n",
    "                nums[i] = nums[i]\n",
    "        return max(nums)\n",
    "\n",
    "# Test\n",
    "test = Solution()\n",
    "print(test.maxSubArray(nums=[-2, 1, -3, 4, -1, 2, 1, -5, 4]))\n",
    "print(test.maxSubArray(nums=[-3, 0, 3, 5]))\n",
    "print(test.maxSubArray(nums=[5, 0, 5]))\n"
   ]
  },
  {
   "cell_type": "markdown",
   "metadata": {},
   "source": [
    "### Explanations\n",
    "\n",
    "We can use dynamic programming to solve this problem. Consider the following example:\n",
    "\n",
    "``` python\n",
    "nums = [-2, 1, -3, 4, -1, 2, 1, -5, 4]\n",
    "```\n",
    "\n",
    "We first want to get rid of negative values because they are not helpful in forming the subarray with largest sum value. Therefore, instead of including `[-2, 1]` into the subarray, we'd rather just take `[1]`. \n",
    "\n",
    "Next, starting at the second value, we can get the sum of the value with the prior value. A positive prior value means that it is helpful. A negative prior value indicates that we should simply replace it with zero.\n",
    "\n",
    "``` python\n",
    "nums  = [-2, 1, -3, 4, -1, 2, 1, -5, 4]\n",
    "# If negative, replace with zero.\n",
    "sums  = [  , 1, -2, 4,  3, 5, 6,  1, 5]\n",
    "```\n",
    "\n",
    "Finally, we can just return the maximum of `sums` to get the desired answer."
   ]
  },
  {
   "cell_type": "markdown",
   "metadata": {},
   "source": [
    "---"
   ]
  }
 ],
 "metadata": {
  "interpreter": {
   "hash": "dca0ade3e726a953b501b15e8e990130d2b7799f14cfd9f4271676035ebe5511"
  },
  "kernelspec": {
   "display_name": "Python 3.7.4 64-bit (conda)",
   "name": "python3"
  },
  "language_info": {
   "codemirror_mode": {
    "name": "ipython",
    "version": 3
   },
   "file_extension": ".py",
   "mimetype": "text/x-python",
   "name": "python",
   "nbconvert_exporter": "python",
   "pygments_lexer": "ipython3",
   "version": "3.7.6"
  },
  "orig_nbformat": 2
 },
 "nbformat": 4,
 "nbformat_minor": 2
}
