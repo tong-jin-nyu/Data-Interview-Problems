{
 "cells": [
  {
   "cell_type": "markdown",
   "metadata": {},
   "source": [
    "created on: 11/17/2021\n",
    "\n",
    "updated on: 11/17/2021"
   ]
  },
  {
   "cell_type": "markdown",
   "metadata": {},
   "source": [
    "# Leetcode Notes\n",
    "\n",
    "## Algorithm\n",
    "\n",
    "---\n",
    "\n",
    "## 102 Binary Tree Level Order Traversal\n",
    "\n",
    "Medium"
   ]
  },
  {
   "cell_type": "markdown",
   "metadata": {},
   "source": [
    "Source: [Leetcode](https://leetcode-cn.com/problems/binary-tree-level-order-traversal/)\n",
    "\n",
    "### Instructions\n",
    "\n",
    "Given the `root` of a binary tree, return the level order traversal of its nodes' values.\n",
    "\n",
    "For example, from left to right, level by level.\n",
    "\n",
    "**Example 1:**\n",
    "![Example 1](https://assets.leetcode.com/uploads/2021/02/19/tree1.jpg)\n",
    "```\n",
    "Input: root = [3, 9, 20, None, None, 15, 7]\n",
    "Output: [[3], [9, 20], [15, 7]]\n",
    "```\n",
    "\n",
    "**Example 2:**\n",
    "```\n",
    "Input: root = [1]\n",
    "Output: [[1]]\n",
    "```\n",
    "\n",
    "**Example 3:**\n",
    "```\n",
    "Input: root = 1]\n",
    "Output: []\n",
    "```\n",
    "\n",
    "**Constraints:**\n",
    "- The number of nodes in the tree is in the range `[0, 2000]`.\n",
    "- `-1000 <= Node.val <= 1000`"
   ]
  },
  {
   "cell_type": "markdown",
   "metadata": {},
   "source": [
    "### Solution"
   ]
  },
  {
   "cell_type": "code",
   "execution_count": 76,
   "metadata": {},
   "outputs": [],
   "source": [
    "from typing import List\n",
    "from collections import deque\n",
    "\n",
    "class TreeNode():\n",
    "\n",
    "    def __init__(self, val=0, left=None, right=None):\n",
    "        self.val = val\n",
    "        self.left = left\n",
    "        self.right = right\n",
    "        \n",
    "\n",
    "class Solution:\n",
    "    '''Given the root of a binary tree, return the level order traversal of \n",
    "    its nodes' values.\n",
    "    '''\n",
    "    def levelOrder(self, root: TreeNode) -> List[List[int]]:\n",
    "        output = list()\n",
    "        \n",
    "        if root:\n",
    "            curr_lvl = deque([root])\n",
    "            next_lvl = deque()\n",
    "            lvl_output = list()\n",
    "\n",
    "            while curr_lvl:\n",
    "                node = curr_lvl.popleft()\n",
    "\n",
    "                if node:\n",
    "                    next_lvl.append(node.left)\n",
    "                    next_lvl.append(node.right)\n",
    "                    lvl_output.append(node.val)\n",
    "\n",
    "                if not curr_lvl:\n",
    "                    if lvl_output:\n",
    "                        output.append(lvl_output)\n",
    "                        lvl_output = list()\n",
    "                    curr_lvl.extend(next_lvl)\n",
    "                    next_lvl.clear()\n",
    "            \n",
    "        return output"
   ]
  },
  {
   "cell_type": "code",
   "execution_count": 77,
   "metadata": {},
   "outputs": [
    {
     "data": {
      "text/plain": [
       "[[1], [2, 5], [3, 4]]"
      ]
     },
     "execution_count": 77,
     "metadata": {},
     "output_type": "execute_result"
    }
   ],
   "source": [
    "# Test\n",
    "root = TreeNode(1)\n",
    "root.left = TreeNode(2)\n",
    "root.left.left = TreeNode(3)\n",
    "root.left.right = TreeNode(4)\n",
    "root.right = TreeNode(5)\n",
    "\n",
    "test = Solution()\n",
    "test.levelOrder(root)"
   ]
  },
  {
   "cell_type": "markdown",
   "metadata": {},
   "source": [
    "### Explanation"
   ]
  },
  {
   "cell_type": "markdown",
   "metadata": {},
   "source": [
    "---"
   ]
  }
 ],
 "metadata": {
  "interpreter": {
   "hash": "dca0ade3e726a953b501b15e8e990130d2b7799f14cfd9f4271676035ebe5511"
  },
  "kernelspec": {
   "display_name": "Python 3.7.4 64-bit (conda)",
   "name": "python3"
  },
  "language_info": {
   "codemirror_mode": {
    "name": "ipython",
    "version": 3
   },
   "file_extension": ".py",
   "mimetype": "text/x-python",
   "name": "python",
   "nbconvert_exporter": "python",
   "pygments_lexer": "ipython3",
   "version": "3.7.6"
  },
  "orig_nbformat": 2
 },
 "nbformat": 4,
 "nbformat_minor": 2
}
