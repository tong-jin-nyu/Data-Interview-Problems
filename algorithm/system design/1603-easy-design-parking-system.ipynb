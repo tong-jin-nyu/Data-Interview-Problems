{
 "cells": [
  {
   "cell_type": "markdown",
   "metadata": {},
   "source": [
    "# 1603 Design Parking System\n",
    "\n",
    "Easy\n",
    "\n",
    "https://leetcode.cn/problems/design-parking-system/\n",
    "\n",
    "Created on: 8/1/2022\n",
    "\n",
    "Modified on: 8/1/2022\n",
    "\n",
    "---\n",
    "\n",
    "Design a parking system for a parking lot. The parking lot has three kinds of parking spaces: big, medium, and small, with a fixed number of slots for each size.\n",
    "\n",
    "Implement the ParkingSystem class:\n",
    "\n",
    "- `ParkingSystem(int big, int medium, int small)` Initializes object of the ParkingSystem class. The number of slots for each parking space are given as part of the constructor.\n",
    "- `bool addCar(int carType)` Checks whether there is a parking space of `carType` for the car that wants to get into the parking lot. carType can be of three kinds: big, medium, or small, which are represented by `1`, `2`, and `3` respectively. A car can only park in a parking space of its carType. If there is no space available, return `false`, else park the car in that size space and return `true`.\n",
    "\n",
    "\n",
    "**Example 1:**\n",
    "\n",
    "```\n",
    "Input\n",
    "[\"ParkingSystem\", \"addCar\", \"addCar\", \"addCar\", \"addCar\"]\n",
    "[[1, 1, 0], [1], [2], [3], [1]]\n",
    "Output\n",
    "[null, true, true, false, false]\n",
    "\n",
    "Explanation\n",
    "ParkingSystem parkingSystem = new ParkingSystem(1, 1, 0);\n",
    "parkingSystem.addCar(1); // return true because there is 1 available slot for a big car\n",
    "parkingSystem.addCar(2); // return true because there is 1 available slot for a medium car\n",
    "parkingSystem.addCar(3); // return false because there is no available slot for a small car\n",
    "parkingSystem.addCar(1); // return false because there is no available slot for a big car. It is already occupied.\n",
    "```\n",
    "\n",
    "**Constraints:**\n",
    "\n",
    "- 0 <= `big, medium, small` <= 1000\n",
    "- `carType` is `1`, `2`, or `3`\n",
    "- At most `1000` calls will be made to `addCar`\n",
    "\n",
    "---\n"
   ]
  },
  {
   "cell_type": "code",
   "execution_count": 1,
   "metadata": {},
   "outputs": [],
   "source": [
    "class ParkingSystem:\n",
    "\n",
    "    def __init__(self, big: int, medium: int, small: int):\n",
    "        self.lot = {\n",
    "            1: big,\n",
    "            2: medium,\n",
    "            3: small\n",
    "        }\n",
    "\n",
    "    def addCar(self, carType: int) -> bool:\n",
    "        if self.lot[carType] > 0:\n",
    "            self.lot[carType] -= 1\n",
    "            return True\n",
    "        else:\n",
    "            return False\n"
   ]
  },
  {
   "cell_type": "code",
   "execution_count": 2,
   "metadata": {},
   "outputs": [
    {
     "data": {
      "text/plain": [
       "False"
      ]
     },
     "execution_count": 2,
     "metadata": {},
     "output_type": "execute_result"
    }
   ],
   "source": [
    "# Test\n",
    "test = ParkingSystem(1, 1, 0)\n",
    "test.addCar(1)\n",
    "test.addCar(2)\n",
    "test.addCar(3)\n",
    "test.addCar(1)\n"
   ]
  }
 ],
 "metadata": {
  "kernelspec": {
   "display_name": "Python 3.7.6",
   "language": "python",
   "name": "python3"
  },
  "language_info": {
   "codemirror_mode": {
    "name": "ipython",
    "version": 3
   },
   "file_extension": ".py",
   "mimetype": "text/x-python",
   "name": "python",
   "nbconvert_exporter": "python",
   "pygments_lexer": "ipython3",
   "version": "3.7.6"
  },
  "orig_nbformat": 2,
  "vscode": {
   "interpreter": {
    "hash": "01ef5fd295d2f06c799f887d3d5a0aa621984c826cc1e428ccbd852109f922c3"
   }
  }
 },
 "nbformat": 4,
 "nbformat_minor": 2
}
