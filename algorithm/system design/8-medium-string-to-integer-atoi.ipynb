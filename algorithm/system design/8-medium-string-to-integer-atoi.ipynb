{
 "cells": [
  {
   "cell_type": "markdown",
   "metadata": {},
   "source": [
    "# 008 String to Integer (atoi)\n",
    "\n",
    "Medium\n",
    "\n",
    "https://leetcode.cn/problems/string-to-integer-atoi/\n",
    "\n",
    "Created on: 8/15/2022\n",
    "\n",
    "Modified on: 8/21/2022\n",
    "\n",
    "---\n",
    "\n",
    "Implement the `myAtoi(string s)` function, which converts a string to a 32-bit signed integer (similar to C/C++'s `atoi` function).\n",
    "\n",
    "The algorithm for `myAtoi(string s)` is as follows:\n",
    "\n",
    "1. Read in and ignore any leading whitespace.\n",
    "2. Check if the next character (if not already at the end of the string) is `'-'` or `'+'`. Read this character in if it is either. This determines if the final result is negative or positive respectively. Assume the result is positive if neither is present.\n",
    "3. Read in next the characters until the next non-digit character or the end of the input is reached. The rest of the string is ignored.\n",
    "4. Convert these digits into an integer (i.e. `\"123\" -> 123`, `\"0032\" -> 32\"`). If no digits were read, then the integer is `0`. Change the sign as necessary (from step 2).\n",
    "5. If the integer is out of the 32-bit signed integer range `[-2^31, 2^31-1]`, then clamp the integer so that it remains in the range. Specifically, integers less than `-2^31` should be clamped to `-2^31`, and integers greater than `2^31 - 1` should be clamped to `2^31 - 1`.\n",
    "6. Return the integer as the final result.\n",
    "\n",
    "Note:\n",
    "\n",
    "- Only the space character `' '` is considered a whitespace character.\n",
    "- Do not ignore any characters other than the leading whitespace or the rest of the string after the digits.\n",
    "\n",
    "**Example 1:**\n",
    "\n",
    "```\n",
    "Input: s = \"42\"\n",
    "Output: 42\n",
    "Explanation: The underlined characters are what is read in, the caret is the current reader position.\n",
    "Step 1: \"42\" (no characters read because there is no leading whitespace)\n",
    "         ^\n",
    "Step 2: \"42\" (no characters read because there is neither a '-' nor '+')\n",
    "         ^\n",
    "Step 3: \"42\" (\"42\" is read in)\n",
    "           ^\n",
    "The parsed integer is 42.\n",
    "Since 42 is in the range [-231, 231 - 1], the final result is 42.\n",
    "```\n",
    "\n",
    "**Example 2:**\n",
    "\n",
    "```\n",
    "Input: s = \"   -42\"\n",
    "Output: -42\n",
    "Explanation:\n",
    "Step 1: \"   -42\" (leading whitespace is read and ignored)\n",
    "            ^\n",
    "Step 2: \"   -42\" ('-' is read, so the result should be negative)\n",
    "             ^\n",
    "Step 3: \"   -42\" (\"42\" is read in)\n",
    "               ^\n",
    "The parsed integer is -42.\n",
    "Since -42 is in the range [-231, 231 - 1], the final result is -42.\n",
    "```\n",
    "\n",
    "**Example 3:**\n",
    "\n",
    "```\n",
    "Input: s = \"4193 with words\"\n",
    "Output: 4193\n",
    "Explanation:\n",
    "Step 1: \"4193 with words\" (no characters read because there is no leading whitespace)\n",
    "         ^\n",
    "Step 2: \"4193 with words\" (no characters read because there is neither a '-' nor '+')\n",
    "         ^\n",
    "Step 3: \"4193 with words\" (\"4193\" is read in; reading stops because the next character is a non-digit)\n",
    "             ^\n",
    "The parsed integer is 4193.\n",
    "Since 4193 is in the range [-231, 231 - 1], the final result is 4193.\n",
    "```\n",
    "\n",
    "**Constraints:**\n",
    "\n",
    "- 0 <= `s.length` <= 200\n",
    "- `s` consists of English letters (lower-case and upper-case), digits (`0-9`), `' '`, `'+'`, `'-'`, and `'.'`.\n",
    "\n",
    "---\n"
   ]
  },
  {
   "cell_type": "code",
   "execution_count": 8,
   "metadata": {},
   "outputs": [],
   "source": [
    "INT_MAX = 2 ** 31 - 1\n",
    "INT_MIN = -2 ** 31\n",
    "\n",
    "class Automation:\n",
    "    def __init__(self):\n",
    "        self.state = 'start'\n",
    "        self.sign = 1\n",
    "        self.ans = 0\n",
    "        self.table = {\n",
    "            'start': ['start', 'signed', 'in_num', 'end'],\n",
    "            'signed': ['end', 'end', 'in_num', 'end'],\n",
    "            'in_num': ['end', 'end', 'in_num', 'end'],\n",
    "            'end': ['end', 'end', 'end', 'end']\n",
    "        }\n",
    "\n",
    "    def getCol(self, c):\n",
    "        if c.isspace():\n",
    "            return 0\n",
    "        if c == '+' or c == '-':\n",
    "            return 1\n",
    "        if c.isdigit():\n",
    "            return 2\n",
    "        return 3\n",
    "\n",
    "    def automate(self, c):\n",
    "        self.state = self.table[self.state][self.getCol(c)]\n",
    "        if self.state == 'in_num':\n",
    "            self.ans = self.ans * 10 + int(c)\n",
    "            self.ans = min(self.ans, INT_MAX) if self.sign == 1 else min(self.ans, -INT_MIN)\n",
    "        elif self.state == 'signed':\n",
    "            self.sign = 1 if c == '+' else -1\n",
    "\n",
    "\n",
    "class Solution:\n",
    "    def myAtoi(self, s: str) -> int:\n",
    "        automation = Automation()\n",
    "        for c in s:\n",
    "            automation.automate(c)\n",
    "        return automation.sign * automation.ans\n"
   ]
  },
  {
   "cell_type": "code",
   "execution_count": 9,
   "metadata": {},
   "outputs": [
    {
     "data": {
      "text/plain": [
       "-4193"
      ]
     },
     "execution_count": 9,
     "metadata": {},
     "output_type": "execute_result"
    }
   ],
   "source": [
    "test = Solution()\n",
    "s = \"     -4193 with words\"\n",
    "test.myAtoi(s)\n"
   ]
  },
  {
   "cell_type": "markdown",
   "metadata": {},
   "source": [
    "---"
   ]
  }
 ],
 "metadata": {
  "kernelspec": {
   "display_name": "Python 3.7.6",
   "language": "python",
   "name": "python3"
  },
  "language_info": {
   "codemirror_mode": {
    "name": "ipython",
    "version": 3
   },
   "file_extension": ".py",
   "mimetype": "text/x-python",
   "name": "python",
   "nbconvert_exporter": "python",
   "pygments_lexer": "ipython3",
   "version": "3.7.6"
  },
  "orig_nbformat": 2,
  "vscode": {
   "interpreter": {
    "hash": "01ef5fd295d2f06c799f887d3d5a0aa621984c826cc1e428ccbd852109f922c3"
   }
  }
 },
 "nbformat": 4,
 "nbformat_minor": 2
}
