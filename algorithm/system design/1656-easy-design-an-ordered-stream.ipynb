{
 "cells": [
  {
   "cell_type": "markdown",
   "metadata": {},
   "source": [
    "# 1656 Design an Ordered Stream\n",
    "\n",
    "Easy\n",
    "\n",
    "https://leetcode.cn/problems/design-an-ordered-stream/\n",
    "\n",
    "Created on: 8/15/2022\n",
    "\n",
    "Modified on: 8/15/2022\n",
    "\n",
    "---\n",
    "\n",
    "There is a stream of `n` `(idKey, value)` pairs arriving in an arbitrary order, where `idKey` is an integer between `1` and `n` and `value` is a string. No two pairs have the same `id`. \n",
    "\n",
    "Design a stream that returns the values in increasing order of their IDs by returning a chunk (list) of values after each insertion. The concatenation of all the chunks should result in a list of the sorted values.\n",
    "\n",
    "Implement the `OrderedStream` class:\n",
    "\n",
    "- `OrderedStream(int n)` constructs the  stream to take `n` values.\n",
    "- `String[] insert(int idKey, String value)` inserts the pair `(idKey, value)` into the stream, then returns the largest possible chunk of currently inserted values that appear next in the order.\n",
    "\n",
    "**Example 1:**\n",
    "\n",
    "![Example 1](https://assets.leetcode.com/uploads/2020/11/10/q1.gif)\n",
    "\n",
    "```\n",
    "Input\n",
    "[\"OrderedStream\", \"insert\", \"insert\", \"insert\", \"insert\", \"insert\"]\n",
    "[[5], [3, \"ccccc\"], [1, \"aaaaa\"], [2, \"bbbbb\"], [5, \"eeeee\"], [4, \"ddddd\"]]\n",
    "Output\n",
    "[null, [], [\"aaaaa\"], [\"bbbbb\", \"ccccc\"], [], [\"ddddd\", \"eeeee\"]]\n",
    "\n",
    "Explanation\n",
    "// Note that the values ordered by ID is [\"aaaaa\", \"bbbbb\", \"ccccc\", \"ddddd\", \"eeeee\"].\n",
    "OrderedStream os = new OrderedStream(5);\n",
    "os.insert(3, \"ccccc\"); // Inserts (3, \"ccccc\"), returns [].\n",
    "os.insert(1, \"aaaaa\"); // Inserts (1, \"aaaaa\"), returns [\"aaaaa\"].\n",
    "os.insert(2, \"bbbbb\"); // Inserts (2, \"bbbbb\"), returns [\"bbbbb\", \"ccccc\"].\n",
    "os.insert(5, \"eeeee\"); // Inserts (5, \"eeeee\"), returns [].\n",
    "os.insert(4, \"ddddd\"); // Inserts (4, \"ddddd\"), returns [\"ddddd\", \"eeeee\"].\n",
    "// Concatentating all the chunks returned:\n",
    "// [] + [\"aaaaa\"] + [\"bbbbb\", \"ccccc\"] + [] + [\"ddddd\", \"eeeee\"] = [\"aaaaa\", \"bbbbb\", \"ccccc\", \"ddddd\", \"eeeee\"]\n",
    "// The resulting order is the same as the order above.\n",
    "```\n",
    "\n",
    "**Constraints:**\n",
    "\n",
    "- 1 <= n <= 1000\n",
    "- 1 <= id <= n\n",
    "- `value.length` == 5\n",
    "- `value` consists only of lowercase letters.\n",
    "- Each call to `insert` will have a unique `id`.\n",
    "- Exactly `n` calls will be made to `insert`.\n",
    "\n",
    "---\n"
   ]
  },
  {
   "cell_type": "code",
   "execution_count": 1,
   "metadata": {},
   "outputs": [],
   "source": [
    "class OrderedStream:\n",
    "\n",
    "    def __init__(self, n: int):\n",
    "        self.stream = {}\n",
    "        self.p = 1\n",
    "\n",
    "    def insert(self, idKey: int, value: str) -> List[str]:\n",
    "        output = []\n",
    "        self.stream[idKey] = value\n",
    "        while self.p in self.stream.keys():\n",
    "            output.append(self.stream[self.p])\n",
    "            self.p += 1\n",
    "        return output\n",
    "\n",
    "# Your OrderedStream object will be instantiated and called as such:\n",
    "# obj = OrderedStream(n)\n",
    "# param_1 = obj.insert(idKey,value)\n"
   ]
  }
 ],
 "metadata": {
  "kernelspec": {
   "display_name": "Python 3.7.6",
   "language": "python",
   "name": "python3"
  },
  "language_info": {
   "codemirror_mode": {
    "name": "ipython",
    "version": 3
   },
   "file_extension": ".py",
   "mimetype": "text/x-python",
   "name": "python",
   "nbconvert_exporter": "python",
   "pygments_lexer": "ipython3",
   "version": "3.7.6"
  },
  "orig_nbformat": 2,
  "vscode": {
   "interpreter": {
    "hash": "01ef5fd295d2f06c799f887d3d5a0aa621984c826cc1e428ccbd852109f922c3"
   }
  }
 },
 "nbformat": 4,
 "nbformat_minor": 2
}
