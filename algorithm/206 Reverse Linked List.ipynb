{
 "cells": [
  {
   "cell_type": "markdown",
   "metadata": {},
   "source": [
    "created on: 11/14/2021\n",
    "\n",
    "updated on: 11/14/2021"
   ]
  },
  {
   "cell_type": "markdown",
   "metadata": {},
   "source": [
    "# Leetcode Notes\n",
    "\n",
    "## Algorithm\n",
    "\n",
    "---\n",
    "\n",
    "## 206 Reverse Linked List\n",
    "\n",
    "Easy"
   ]
  },
  {
   "cell_type": "markdown",
   "metadata": {},
   "source": [
    "Source: [Leetcode](https://leetcode-cn.com/problems/reverse-linked-list/)\n",
    "\n",
    "### Instructions\n",
    "\n",
    "Given the `head` of a singly linked list, reverse the list, and return the *reversed list*.\n",
    "\n",
    "**Example 1:**\n",
    "![Example 1](https://assets.leetcode.com/uploads/2021/02/19/rev1ex1.jpg)\n",
    "\n",
    "```\n",
    "Input: head = [1,2,3,4,5]\n",
    "Output: [5,4,3,2,1]\n",
    "```\n",
    "\n",
    "**Example 2:**\n",
    "![Example 2](https://assets.leetcode.com/uploads/2021/02/19/rev1ex2.jpg)\n",
    "\n",
    "```\n",
    "Input: head = [1,2]\n",
    "Output: [2,1]\n",
    "```\n",
    "\n",
    "**Example 3:**\n",
    "```\n",
    "Input: head = []\n",
    "Output: []\n",
    "```\n",
    "\n",
    "**Constraints:**\n",
    "- The number of nodes in the list is in range `[0, 5000]`.\n",
    "- `-5000 <= Node.val <= 5000`\n",
    "\n",
    "**Follow up**: A linked list can be reversed either iteratively or recursively. Could you implement both?"
   ]
  },
  {
   "cell_type": "markdown",
   "metadata": {},
   "source": [
    "### Solution"
   ]
  },
  {
   "cell_type": "code",
   "execution_count": 2,
   "metadata": {},
   "outputs": [
    {
     "name": "stdout",
     "output_type": "stream",
     "text": [
      "5\n",
      "4\n",
      "3\n",
      "2\n",
      "1\n"
     ]
    }
   ],
   "source": [
    "class ListNode:\n",
    "    def __init__(self, val=0, next=None):\n",
    "        self.val = val\n",
    "        self.next = next\n",
    "\n",
    "    def print_list(self):\n",
    "        current = self\n",
    "        while(current):\n",
    "            print(current.val)\n",
    "            current = current.next\n",
    "\n",
    "class Solution:\n",
    "    def reverseList(self, head: ListNode) -> ListNode:\n",
    "        prev = None\n",
    "        curr = head\n",
    "        while curr != None:\n",
    "            next = curr.next\n",
    "            curr.next = prev\n",
    "            prev = curr\n",
    "            curr = next\n",
    "        return prev\n",
    "\n",
    "# Test\n",
    "head = ListNode(1)\n",
    "head.next = ListNode(2)\n",
    "head.next.next = ListNode(3)\n",
    "head.next.next.next = ListNode(4)\n",
    "head.next.next.next.next = ListNode(5)\n",
    "\n",
    "test = Solution()\n",
    "test.reverseList(head).print_list()\n"
   ]
  },
  {
   "cell_type": "markdown",
   "metadata": {},
   "source": [
    "### Explanation\n",
    "\n"
   ]
  },
  {
   "cell_type": "markdown",
   "metadata": {},
   "source": [
    "---"
   ]
  }
 ],
 "metadata": {
  "interpreter": {
   "hash": "dca0ade3e726a953b501b15e8e990130d2b7799f14cfd9f4271676035ebe5511"
  },
  "kernelspec": {
   "display_name": "Python 3.7.4 64-bit (conda)",
   "name": "python3"
  },
  "language_info": {
   "codemirror_mode": {
    "name": "ipython",
    "version": 3
   },
   "file_extension": ".py",
   "mimetype": "text/x-python",
   "name": "python",
   "nbconvert_exporter": "python",
   "pygments_lexer": "ipython3",
   "version": "3.7.6"
  },
  "orig_nbformat": 2
 },
 "nbformat": 4,
 "nbformat_minor": 2
}
