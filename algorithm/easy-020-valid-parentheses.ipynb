{
 "cells": [
  {
   "cell_type": "markdown",
   "metadata": {},
   "source": [
    "# 020 Valid Parentheses\n",
    "\n",
    "Easy\n",
    "\n",
    "Created on: 6/2/2020\n",
    "\n",
    "Modified on: 6/27/2022\n",
    "\n",
    "---\n",
    "\n",
    "Given a string containing just the characters `'('`, `')'`, `'{'`, `'}'`, `'['`, and `']'`, determine if the input string is valid.\n",
    "\n",
    "An input string is valid if:\n",
    "\n",
    "  1. Open brackets must be closed by the same type of brackets.\n",
    "  \n",
    "  2. Open brackets must be closed in the correct order.\n",
    "  \n",
    "Note that an empty string is also considered valid.\n",
    "\n",
    "**Example 1:**\n",
    "\n",
    "``` python\n",
    "Input: \"()\"\n",
    "Output: true\n",
    "```\n",
    "\n",
    "**Example 2:**\n",
    "\n",
    "``` python\n",
    "Input: \"()[]{}\"\n",
    "Output: true\n",
    "```\n",
    "\n",
    "**Example 3:**\n",
    "\n",
    "``` python\n",
    "Input: \"(]\"\n",
    "Output: false\n",
    "```\n",
    "\n",
    "**Example 4:**\n",
    "\n",
    "``` python\n",
    "Input: \"([)]\"\n",
    "Output: false\n",
    "```\n",
    "\n",
    "**Example 5:**\n",
    "\n",
    "``` python\n",
    "Input: \"{[]}\"\n",
    "Output: true\n",
    "```\n",
    "\n",
    "---\n"
   ]
  },
  {
   "cell_type": "code",
   "execution_count": 11,
   "metadata": {},
   "outputs": [
    {
     "name": "stdout",
     "output_type": "stream",
     "text": [
      "False\n",
      "True\n",
      "False\n",
      "False\n",
      "True\n"
     ]
    }
   ],
   "source": [
    "class Solution:\n",
    "    def isValid(self, s: str) -> bool:\n",
    "        while '{}' in s or '[]' in s or '()' in s:\n",
    "            s = s.replace('{}', '')\n",
    "            s = s.replace('[]', '')\n",
    "            s = s.replace('()', '')\n",
    "        return s == ''\n",
    "\n",
    "\n",
    "# Test\n",
    "test = Solution()\n",
    "print(test.isValid(\"{{)}\"))\n",
    "print(test.isValid(\"{}[{}]((){})(){}\"))\n",
    "print(test.isValid('(]'))\n",
    "print(test.isValid('([)]'))\n",
    "print(test.isValid('{{}[][[[]]]}'))\n"
   ]
  },
  {
   "cell_type": "markdown",
   "metadata": {},
   "source": [
    "### Explanation"
   ]
  },
  {
   "cell_type": "markdown",
   "metadata": {},
   "source": [
    "I actually had two versions of submission. I'm attaching my first submission which involves a lot of unnecessary structures. My second version was much shorter.\n",
    "\n",
    "According to the instruction, in a valid string, open brackets of same type will always close with each other. There will always be at least one pair of closed brackets in a valid string. \n",
    "\n",
    "For example, here is a valid string: `'{{}[()[]]}'`. It has three layers:\n",
    "\n",
    "```\n",
    "Layer 1: {        }\n",
    "layer 2:  {}[    ]\n",
    "layer 3:     ()[]\n",
    "```\n",
    "\n",
    "As we can see, at the top layer (layer 3), there are two pairs of closed brackets. Therefore, we can use a while loop to check if there exists valid types of close brackets: if so, we remove them by replacing them with empty string (`''`); if not, then we will either have an empty string or a string with brackets that cannot close with each other. We then return `True` if empty and `False` if not.\n",
    "\n",
    "A much faster way is to use [stack](https://en.wikipedia.org/wiki/Stack_(abstract_data_type). The base logic is the same: find valid matches and remove them. However, I find it hard to explain when using a stack. "
   ]
  },
  {
   "cell_type": "code",
   "execution_count": 2,
   "metadata": {},
   "outputs": [],
   "source": [
    "# My first submission\n",
    "# For reference\n",
    "class Solution:\n",
    "    def isValid(self, s: str) -> bool:\n",
    "        valid = [\n",
    "            '()',\n",
    "            '[]',\n",
    "            '{}'\n",
    "        ]\n",
    "        if s == '': # Unnecessary\n",
    "            return True\n",
    "        elif len(s) % 2 != 0: # Unnecessary\n",
    "            return False\n",
    "        else:\n",
    "            while valid[0] in s or valid [1] in s or valid [2] in s:\n",
    "                s = s.replace(valid[0], '')\n",
    "                s = s.replace(valid[1], '')\n",
    "                s = s.replace(valid[2], '')\n",
    "            if s == '': \n",
    "                return True\n",
    "            else: # Unnecessary\n",
    "                half_len = int(len(s) / 2)\n",
    "                left = [[]] * half_len\n",
    "                right = [[]] * half_len\n",
    "                for i in range(half_len):\n",
    "                    left[i] = s[i]\n",
    "                for j in range(1, half_len + 1):\n",
    "                    right[j - 1] = s[-j]\n",
    "                for k in range(half_len):\n",
    "                    if left[k] + right[k] not in valid:\n",
    "                        return False\n",
    "                        break\n",
    "                return True"
   ]
  }
 ],
 "metadata": {
  "kernelspec": {
   "display_name": "Python 3.9.4 64-bit",
   "language": "python",
   "name": "python3"
  },
  "language_info": {
   "codemirror_mode": {
    "name": "ipython",
    "version": 3
   },
   "file_extension": ".py",
   "mimetype": "text/x-python",
   "name": "python",
   "nbconvert_exporter": "python",
   "pygments_lexer": "ipython3",
   "version": "3.9.4"
  },
  "vscode": {
   "interpreter": {
    "hash": "fc8814d95e3bb7c7d620345642206f617029e5ce3d5941736e486cd8ca8f4058"
   }
  }
 },
 "nbformat": 4,
 "nbformat_minor": 2
}
