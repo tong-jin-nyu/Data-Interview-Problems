{
 "cells": [
  {
   "cell_type": "markdown",
   "metadata": {},
   "source": [
    "# 739 Daily Temperatures\n",
    "\n",
    "Medium\n",
    "\n",
    "https://leetcode.cn/problems/daily-temperatures/\n",
    "\n",
    "Created on: 7/27/2022\n",
    "\n",
    "Modified on: 7/27/2022\n",
    "\n",
    "---\n",
    "\n",
    "Given an array of integers `temperatures` representing the daily temperatures, return an array `answer` such that `answer[i]` is the number of days you have to wait after the `ith` day to get a warmer temperature. If there is no future day for which this is possible, keep `answer[i] == 0` instead.\n",
    "\n",
    "**Example 1:**\n",
    "\n",
    "```\n",
    "Input: temperatures = [73,74,75,71,69,72,76,73]\n",
    "Output: [1,1,4,2,1,1,0,0]\n",
    "```\n",
    "\n",
    "**Example 2:**\n",
    "\n",
    "```\n",
    "Input: temperatures = [30,40,50,60]\n",
    "Output: [1,1,1,0]\n",
    "```\n",
    "\n",
    "**Example 3:**\n",
    "\n",
    "```\n",
    "Input: temperatures = [30,60,90]\n",
    "Output: [1,1,0]\n",
    "```\n",
    "\n",
    "**Constraints:**\n",
    "\n",
    "- 1 <= `temperatures.length` <= 10^5\n",
    "- 30 <= `temperatures[i]` <= 100\n",
    "\n",
    "---\n"
   ]
  },
  {
   "cell_type": "markdown",
   "metadata": {},
   "source": [
    "### Solution"
   ]
  },
  {
   "cell_type": "code",
   "execution_count": 1,
   "metadata": {},
   "outputs": [
    {
     "data": {
      "text/plain": [
       "[1, 1, 4, 2, 1, 1, 0, 0]"
      ]
     },
     "execution_count": 1,
     "metadata": {},
     "output_type": "execute_result"
    }
   ],
   "source": [
    "from typing import List\n",
    "\n",
    "\n",
    "class Solution:\n",
    "    def dailyTemperatures(self, temperatures: List[int]) -> List[int]:\n",
    "        n = len(temperatures)\n",
    "        ans = [0] * n\n",
    "        stack = list()\n",
    "\n",
    "        for i in range(n):\n",
    "            while stack and temperatures[i] > temperatures[stack[-1]]:\n",
    "                prev_i = stack.pop()\n",
    "                ans[prev_i] = i - prev_i\n",
    "            stack.append(i)\n",
    "        return ans\n",
    "\n",
    "\n",
    "# Test\n",
    "test = Solution()\n",
    "temperatures = [73, 74, 75, 71, 69, 72, 76, 73]\n",
    "test.dailyTemperatures(temperatures)"
   ]
  },
  {
   "cell_type": "markdown",
   "metadata": {},
   "source": [
    "---"
   ]
  }
 ],
 "metadata": {
  "kernelspec": {
   "display_name": "Python 3.9.4 64-bit",
   "language": "python",
   "name": "python3"
  },
  "language_info": {
   "codemirror_mode": {
    "name": "ipython",
    "version": 3
   },
   "file_extension": ".py",
   "mimetype": "text/x-python",
   "name": "python",
   "nbconvert_exporter": "python",
   "pygments_lexer": "ipython3",
   "version": "3.9.4"
  },
  "orig_nbformat": 2,
  "vscode": {
   "interpreter": {
    "hash": "fc8814d95e3bb7c7d620345642206f617029e5ce3d5941736e486cd8ca8f4058"
   }
  }
 },
 "nbformat": 4,
 "nbformat_minor": 2
}
