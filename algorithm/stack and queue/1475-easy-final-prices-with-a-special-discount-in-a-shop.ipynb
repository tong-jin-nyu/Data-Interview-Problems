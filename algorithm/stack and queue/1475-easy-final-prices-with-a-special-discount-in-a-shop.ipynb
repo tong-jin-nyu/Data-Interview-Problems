{
 "cells": [
  {
   "cell_type": "markdown",
   "metadata": {},
   "source": [
    "# 1475 Final Prices With a Special Discount in a Shop\n",
    "\n",
    "Easy\n",
    "\n",
    "https://leetcode.cn/problems/final-prices-with-a-special-discount-in-a-shop/\n",
    "\n",
    "Created on: 8/31/2022\n",
    "\n",
    "Modified on: 8/31/2022\n",
    "\n",
    "---\n",
    "\n",
    "Given the array `prices` where `prices[i]` is the price of the `ith` item in a shop. There is a special discount for items in the shop, if you buy the `ith` item, then you will receive a discount equivalent to `prices[j]` where `j` is the minimum index such that `j > i` and `prices[j] <= prices[i]`. Otherwise, you will not receive any discount at all.\n",
    "\n",
    "Return an array where the `ith` element is the final price you will pay for the `ith` item of the shop considering the special discount.\n",
    "\n",
    "**Example 1:**\n",
    "\n",
    "```\n",
    "Input: prices = [8,4,6,2,3]\n",
    "Output: [4,2,4,2,3]\n",
    "Explanation: \n",
    "For item 0 with price[0]=8 you will receive a discount equivalent to prices[1]=4, therefore, the final price you will pay is 8 - 4 = 4. \n",
    "For item 1 with price[1]=4 you will receive a discount equivalent to prices[3]=2, therefore, the final price you will pay is 4 - 2 = 2. \n",
    "For item 2 with price[2]=6 you will receive a discount equivalent to prices[3]=2, therefore, the final price you will pay is 6 - 2 = 4. \n",
    "For items 3 and 4 you will not receive any discount at all.\n",
    "```\n",
    "\n",
    "**Example 2:**\n",
    "\n",
    "```\n",
    "Input: prices = [1,2,3,4,5]\n",
    "Output: [1,2,3,4,5]\n",
    "Explanation: In this case, for all items, you will not receive any discount at all.\n",
    "```\n",
    "\n",
    "**Example 3:**\n",
    "\n",
    "```\n",
    "Input: prices = [10,1,1,6]\n",
    "Output: [9,0,1,6]\n",
    "```\n",
    "\n",
    "**Constraints:**\n",
    "\n",
    "- 1 <= `prices.length` <= 500\n",
    "- 1 <= `prices[i]` <= 1000\n",
    "\n",
    "---\n"
   ]
  },
  {
   "cell_type": "markdown",
   "metadata": {},
   "source": [
    "### Solution"
   ]
  },
  {
   "cell_type": "code",
   "execution_count": 1,
   "metadata": {},
   "outputs": [],
   "source": [
    "# Solution 1\n",
    "from typing import List\n",
    "\n",
    "\n",
    "class Solution:\n",
    "    def finalPrices(self, prices: List[int]) -> List[int]:\n",
    "        n = len(prices)\n",
    "        for i in range(n - 1):\n",
    "            for j in range(i + 1, n):\n",
    "                if prices[j] <= prices[i]:\n",
    "                    prices[i] = prices[i] - prices[j]\n",
    "                    break\n",
    "        return prices\n"
   ]
  },
  {
   "cell_type": "code",
   "execution_count": 4,
   "metadata": {},
   "outputs": [],
   "source": [
    "# Solution 2\n",
    "from typing import List\n",
    "\n",
    "\n",
    "class Solution: \n",
    "    def finalPrices(self, prices: List[int]) -> List[int]:\n",
    "        stack = [0]\n",
    "        n = len(prices)\n",
    "        for i in range(n - 1, -1, -1):\n",
    "            price = prices[i]\n",
    "            while len(stack) > 1 and stack[-1] > price:\n",
    "                stack.pop()\n",
    "            prices[i] = price - stack[-1]\n",
    "            stack.append(price)\n",
    "\n",
    "        return prices\n",
    "            "
   ]
  },
  {
   "cell_type": "code",
   "execution_count": 5,
   "metadata": {},
   "outputs": [
    {
     "data": {
      "text/plain": [
       "[4, 2, 4, 2, 3]"
      ]
     },
     "execution_count": 5,
     "metadata": {},
     "output_type": "execute_result"
    }
   ],
   "source": [
    "test = Solution()\n",
    "prices = [8, 4, 6, 2, 3]\n",
    "test.finalPrices(prices)"
   ]
  },
  {
   "cell_type": "markdown",
   "metadata": {},
   "source": [
    "---"
   ]
  }
 ],
 "metadata": {
  "kernelspec": {
   "display_name": "Python 3.7.6 ('base')",
   "language": "python",
   "name": "python3"
  },
  "language_info": {
   "codemirror_mode": {
    "name": "ipython",
    "version": 3
   },
   "file_extension": ".py",
   "mimetype": "text/x-python",
   "name": "python",
   "nbconvert_exporter": "python",
   "pygments_lexer": "ipython3",
   "version": "3.7.6"
  },
  "orig_nbformat": 2,
  "vscode": {
   "interpreter": {
    "hash": "01ef5fd295d2f06c799f887d3d5a0aa621984c826cc1e428ccbd852109f922c3"
   }
  }
 },
 "nbformat": 4,
 "nbformat_minor": 2
}
