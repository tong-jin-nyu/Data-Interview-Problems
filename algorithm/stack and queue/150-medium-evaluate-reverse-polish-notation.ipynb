{
 "cells": [
  {
   "cell_type": "markdown",
   "metadata": {},
   "source": [
    "# 150 Evaluate Reverse Polish Notation\n",
    "\n",
    "Medium\n",
    "\n",
    "https://leetcode.cn/problems/evaluate-reverse-polish-notation/\n",
    "\n",
    "Created on: 7/27/2022\n",
    "\n",
    "Modified on: 7/27/2022\n",
    "\n",
    "---\n",
    "\n",
    "Evaluate the value of an arithmetic expression in `Reverse Polish Notation`.\n",
    "\n",
    "Valid operators are `+`, `-`, `*`, and `/`. Each operand may be an integer or another expression.\n",
    "\n",
    "**Note** that division between two integers should truncate toward zero.\n",
    "\n",
    "It is guaranteed that the given RPN expression is always valid. That means the expression would always evaluate to a result, and there will not be any division by zero operation.\n",
    "\n",
    "**Example 1:**\n",
    "\n",
    "```\n",
    "Input: tokens = [\"2\",\"1\",\"+\",\"3\",\"*\"]\n",
    "Output: 9\n",
    "Explanation: ((2 + 1) * 3) = 9\n",
    "```\n",
    "\n",
    "**Example 2:**\n",
    "\n",
    "```\n",
    "Input: tokens = [\"4\",\"13\",\"5\",\"/\",\"+\"]\n",
    "Output: 6\n",
    "Explanation: (4 + (13 / 5)) = 6\n",
    "```\n",
    "\n",
    "**Example 3:**\n",
    "\n",
    "```\n",
    "Input: tokens = [\"10\",\"6\",\"9\",\"3\",\"+\",\"-11\",\"*\",\"/\",\"*\",\"17\",\"+\",\"5\",\"+\"]\n",
    "Output: 22\n",
    "Explanation: ((10 * (6 / ((9 + 3) * -11))) + 17) + 5\n",
    "= ((10 * (6 / (12 * -11))) + 17) + 5\n",
    "= ((10 * (6 / -132)) + 17) + 5\n",
    "= ((10 * 0) + 17) + 5\n",
    "= (0 + 17) + 5\n",
    "= 17 + 5\n",
    "= 22\n",
    "```\n",
    "\n",
    "**Constraints:**\n",
    "\n",
    "- 1 <= `tokens.length` <= 10^4\n",
    "- `tokens[i]` is either an operator or an integer in the range `[-200, 200]`.\n",
    "\n",
    "---\n"
   ]
  },
  {
   "cell_type": "markdown",
   "metadata": {},
   "source": [
    "### Solution"
   ]
  },
  {
   "cell_type": "code",
   "execution_count": 1,
   "metadata": {},
   "outputs": [
    {
     "data": {
      "text/plain": [
       "22"
      ]
     },
     "execution_count": 1,
     "metadata": {},
     "output_type": "execute_result"
    }
   ],
   "source": [
    "from typing import List\n",
    "\n",
    "\n",
    "class Solution:\n",
    "    def evalRPN(self, tokens: List[str]) -> int:\n",
    "        stack = list()\n",
    "        operands = [\"+\", \"-\", \"*\", \"/\"]\n",
    "        n = len(tokens)\n",
    "        for i in range(n):\n",
    "            if tokens[i] not in operands:\n",
    "                stack.append(int(tokens[i]))\n",
    "            else:\n",
    "                elem2, elem1 = stack.pop(), stack.pop()\n",
    "                if tokens[i] == \"+\":\n",
    "                    stack.append(elem1 + elem2)\n",
    "                elif tokens[i] == \"-\":\n",
    "                    stack.append(elem1 - elem2)\n",
    "                elif tokens[i] == \"*\":\n",
    "                    stack.append(elem1 * elem2)\n",
    "                else:\n",
    "                    stack.append(int(elem1 / elem2))\n",
    "\n",
    "        return stack[-1]\n",
    "\n",
    "\n",
    "# Test\n",
    "test = Solution()\n",
    "tokens = [\"10\",\"6\",\"9\",\"3\",\"+\",\"-11\",\"*\",\"/\",\"*\",\"17\",\"+\",\"5\",\"+\"]\n",
    "test.evalRPN(tokens)"
   ]
  },
  {
   "cell_type": "markdown",
   "metadata": {},
   "source": [
    "---"
   ]
  }
 ],
 "metadata": {
  "kernelspec": {
   "display_name": "Python 3.9.4 64-bit",
   "language": "python",
   "name": "python3"
  },
  "language_info": {
   "codemirror_mode": {
    "name": "ipython",
    "version": 3
   },
   "file_extension": ".py",
   "mimetype": "text/x-python",
   "name": "python",
   "nbconvert_exporter": "python",
   "pygments_lexer": "ipython3",
   "version": "3.9.4"
  },
  "orig_nbformat": 2,
  "vscode": {
   "interpreter": {
    "hash": "fc8814d95e3bb7c7d620345642206f617029e5ce3d5941736e486cd8ca8f4058"
   }
  }
 },
 "nbformat": 4,
 "nbformat_minor": 2
}
