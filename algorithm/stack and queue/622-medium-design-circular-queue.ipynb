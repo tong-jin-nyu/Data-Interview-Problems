{
 "cells": [
  {
   "cell_type": "markdown",
   "metadata": {},
   "source": [
    "# 622 Design Circular Queue\n",
    "\n",
    "Medium\n",
    "\n",
    "Created on: 7/26/2022\n",
    "\n",
    "Modified on: 7/26/2022\n",
    "\n",
    "---\n",
    "\n",
    "Design your implementation of the circular queue. The circular queue is a linear data structure in which the operations are performend based on FIFO (First In First Out) principle and the last position is connected back to the first position to make a circle. It is also called \"Ring Buffer\".\n",
    "\n",
    "One of the benefits of the circular queue is that we can make use of the spaces in front of the queue. In a normal queue, once the queue becomes full, we cannot insert the next element even if there is a space in front of the queue. But using the circular queue, we can use the space to store new values.\n",
    "\n",
    "Implement the `MyCircularQueue` class:\n",
    "\n",
    "- `MyCircularQueue(k)` initializes the object with the size of the queue to be `k`.\n",
    "- `int Front()` gets the front item from the queue. If the queue is empty, return `-1`.\n",
    "- `int Rear()` gets the last item from the queue. If the queue is empty, return `-1`.\n",
    "- `boolean enQueue(int value)` inserts an element into the circular queue. Return `true` if the operation is successful.\n",
    "- `boolean deQueue()` deletes an element from the circular queue. Return `true` if the operation is successful.\n",
    "- `boolean isEmpty()` checkes whether the circular queue is empty or not.\n",
    "- `boolean isFull()` checkes whether the circular queue is full or not.\n",
    "\n",
    "You must solve the problem without using the built-in queue data structure in your programming language.\n",
    "\n",
    "**Example 1:**\n",
    "\n",
    "```\n",
    "Input\n",
    "[\"MyCircularQueue\", \"enQueue\", \"enQueue\", \"enQueue\", \"enQueue\", \"Rear\", \"isFull\", \"deQueue\", \"enQueue\", \"Rear\"]\n",
    "[[3], [1], [2], [3], [4], [], [], [], [4], []]\n",
    "Output\n",
    "[null, true, true, true, false, 3, true, true, true, 4]\n",
    "\n",
    "Explanation\n",
    "MyCircularQueue myCircularQueue = new MyCircularQueue(3);\n",
    "myCircularQueue.enQueue(1); // return True\n",
    "myCircularQueue.enQueue(2); // return True\n",
    "myCircularQueue.enQueue(3); // return True\n",
    "myCircularQueue.enQueue(4); // return False\n",
    "myCircularQueue.Rear();     // return 3\n",
    "myCircularQueue.isFull();   // return True\n",
    "myCircularQueue.deQueue();  // return True\n",
    "myCircularQueue.enQueue(4); // return True\n",
    "myCircularQueue.Rear();     // return 4\n",
    "```\n",
    "\n",
    "**Constraints:**\n",
    "\n",
    "- 1 <= k <- 1000\n",
    "- 0 <= value <= 1000\n",
    "- At most `3000` calls will be made to `enQueue`, `deQueue`, `Front`, `Rear`, `isEmpty`, and `isFull`.\n",
    "\n",
    "---\n"
   ]
  },
  {
   "cell_type": "markdown",
   "metadata": {},
   "source": [
    "### Solution"
   ]
  },
  {
   "cell_type": "code",
   "execution_count": 3,
   "metadata": {},
   "outputs": [
    {
     "name": "stdout",
     "output_type": "stream",
     "text": [
      "True\n",
      "True\n",
      "True\n",
      "False\n",
      "3\n",
      "True\n",
      "True\n",
      "True\n",
      "4\n"
     ]
    }
   ],
   "source": [
    "class MyCircularQueue():\n",
    "    def __init__(self, k: int):\n",
    "        self.size = 0\n",
    "        self.capacity = k\n",
    "        self.head = 0\n",
    "        self.queue = [0] * k\n",
    "\n",
    "    def enQueue(self, value: int) -> bool:\n",
    "        if self.size == self.capacity:\n",
    "            return False\n",
    "        tail = (self.head + self.size) % self.capacity\n",
    "        self.queue[tail] = value\n",
    "        self.size += 1\n",
    "        return True\n",
    "\n",
    "    def deQueue(self) -> bool:\n",
    "        if self.size == 0:\n",
    "            return False\n",
    "        self.head = (self.head + 1) % self.capacity\n",
    "        self.size -= 1\n",
    "        return True\n",
    "\n",
    "    def Front(self) -> int:\n",
    "        if self.size == 0:\n",
    "            return -1\n",
    "        return self.queue[self.head]\n",
    "\n",
    "    def Rear(self) -> int:\n",
    "        if self.size == 0:\n",
    "            return -1\n",
    "        tail = (self.head + self.size - 1) % self.capacity\n",
    "        return self.queue[tail]\n",
    "\n",
    "    def isEmpty(self) -> bool:\n",
    "        return self.size == 0\n",
    "\n",
    "    def isFull(self) -> bool:\n",
    "        return self.size == self.capacity\n",
    "\n",
    "\n",
    "# Test\n",
    "test = MyCircularQueue(3)\n",
    "print(test.enQueue(1))\n",
    "print(test.enQueue(2))\n",
    "print(test.enQueue(3))\n",
    "print(test.enQueue(4))\n",
    "print(test.Rear())\n",
    "print(test.isFull())\n",
    "print(test.deQueue())\n",
    "print(test.enQueue(4))\n",
    "print(test.Rear())"
   ]
  },
  {
   "cell_type": "markdown",
   "metadata": {},
   "source": [
    "---"
   ]
  }
 ],
 "metadata": {
  "kernelspec": {
   "display_name": "Python 3.7.6 ('base')",
   "language": "python",
   "name": "python3"
  },
  "language_info": {
   "codemirror_mode": {
    "name": "ipython",
    "version": 3
   },
   "file_extension": ".py",
   "mimetype": "text/x-python",
   "name": "python",
   "nbconvert_exporter": "python",
   "pygments_lexer": "ipython3",
   "version": "3.7.6"
  },
  "orig_nbformat": 2,
  "vscode": {
   "interpreter": {
    "hash": "01ef5fd295d2f06c799f887d3d5a0aa621984c826cc1e428ccbd852109f922c3"
   }
  }
 },
 "nbformat": 4,
 "nbformat_minor": 2
}
