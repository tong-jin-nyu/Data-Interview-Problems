{
 "cells": [
  {
   "cell_type": "markdown",
   "metadata": {},
   "source": [
    "# 042 Trapping Rain Water\n",
    "\n",
    "Hard\n",
    "\n",
    "https://leetcode.cn/problems/trapping-rain-water/\n",
    "\n",
    "Created on: 7/27/2022\n",
    "\n",
    "Modified on: 7/27/2022\n",
    "\n",
    "---\n",
    "\n",
    "Given `n` non-negative integers representing an elevation map where the width of each bar if `1`, compute how much water it can trap after raining.\n",
    "\n",
    "**Example 1:**\n",
    "\n",
    "![example-1](https://assets.leetcode.com/uploads/2018/10/22/rainwatertrap.png)\n",
    "\n",
    "```\n",
    "Input: height = [0,1,0,2,1,0,1,3,2,1,2,1]\n",
    "Output: 6\n",
    "Explanation: The above elevation map (black section) is represented by array [0,1,0,2,1,0,1,3,2,1,2,1]. In this case, 6 units of rain water (blue section) are being trapped.\n",
    "```\n",
    "\n",
    "**Example 2:**\n",
    "\n",
    "```\n",
    "Input: height = [4,2,0,3,2,5]\n",
    "Output: 9\n",
    "```\n",
    "\n",
    "**Constraints:**\n",
    "\n",
    "- n == `height.length`\n",
    "- 1 <= n <= 2 * 10^4\n",
    "- 0 <= `height[i]` <= 10^5\n",
    "\n",
    "---\n"
   ]
  },
  {
   "cell_type": "markdown",
   "metadata": {},
   "source": [
    "### Solution"
   ]
  },
  {
   "cell_type": "code",
   "execution_count": 3,
   "metadata": {},
   "outputs": [
    {
     "data": {
      "text/plain": [
       "6"
      ]
     },
     "execution_count": 3,
     "metadata": {},
     "output_type": "execute_result"
    }
   ],
   "source": [
    "from typing import List\n",
    "\n",
    "\n",
    "class Solution:\n",
    "    def trap(self, height: List[int]) -> int:\n",
    "        n = len(height)\n",
    "        stack = list()\n",
    "        total = 0\n",
    "\n",
    "        for i in range(n):\n",
    "            h = height[i]\n",
    "            while stack and h > height[stack[-1]]:\n",
    "                top = stack.pop()\n",
    "                if not stack:\n",
    "                    break\n",
    "                left = stack[-1]\n",
    "                curr_width = i - left - 1\n",
    "                curr_height = min(height[left], height[i]) - height[top]\n",
    "                total += curr_width * curr_height\n",
    "            stack.append(i)\n",
    "\n",
    "        return total\n",
    "\n",
    "# Test\n",
    "test = Solution()\n",
    "height = [0, 1, 0, 2, 1, 0, 1, 3, 2, 1, 2, 1]\n",
    "test.trap(height)\n"
   ]
  },
  {
   "cell_type": "markdown",
   "metadata": {},
   "source": [
    "---"
   ]
  }
 ],
 "metadata": {
  "kernelspec": {
   "display_name": "Python 3.9.4 64-bit",
   "language": "python",
   "name": "python3"
  },
  "language_info": {
   "codemirror_mode": {
    "name": "ipython",
    "version": 3
   },
   "file_extension": ".py",
   "mimetype": "text/x-python",
   "name": "python",
   "nbconvert_exporter": "python",
   "pygments_lexer": "ipython3",
   "version": "3.9.4"
  },
  "orig_nbformat": 2,
  "vscode": {
   "interpreter": {
    "hash": "fc8814d95e3bb7c7d620345642206f617029e5ce3d5941736e486cd8ca8f4058"
   }
  }
 },
 "nbformat": 4,
 "nbformat_minor": 2
}
