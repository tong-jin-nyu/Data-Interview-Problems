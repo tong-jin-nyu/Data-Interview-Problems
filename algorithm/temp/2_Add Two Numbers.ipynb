{
 "cells": [
  {
   "cell_type": "markdown",
   "metadata": {},
   "source": [
    "# 2. Add Two Numbers\n",
    "\n",
    "created on: 6/20/2020\n",
    "\n",
    "modified on: 6/1/2022\n",
    "\n",
    "## Information\n",
    "\n",
    "https://leetcode.com/problems/add-two-numbers/\n",
    "\n",
    "Medium\n",
    "\n",
    "## Instructions\n",
    "\n",
    "You are given two non-empty linked lists representing two non-negative integers. \n",
    "The digits are stored in reverse order and each of their nodes contain a single \n",
    "digit. Add two numbers and return it as a linked list.\n",
    "\n",
    "You may assume that two numbers do not contain any leading zero, except the \n",
    "number 0 itself.\n",
    "\n",
    "**Example:**\n",
    "\n",
    "```\n",
    "Input: (2 -> 4 -> 3) + (5 -> 6 -> 4)\n",
    "Output: 7 -> 0 -> 8\n",
    "Explanation: 342 + 465 = 807.\n",
    "```"
   ]
  },
  {
   "cell_type": "markdown",
   "metadata": {},
   "source": [
    "### Solution"
   ]
  },
  {
   "cell_type": "code",
   "execution_count": 3,
   "metadata": {},
   "outputs": [
    {
     "name": "stdout",
     "output_type": "stream",
     "text": [
      "<__main__.ListNode object at 0x000001ED2F08DDC0>\n"
     ]
    }
   ],
   "source": [
    "class ListNode:\n",
    "    def __init__(self, x):\n",
    "        self.val = x\n",
    "        self.next = None\n",
    "\n",
    "\n",
    "class Solution:\n",
    "    def addTwoNumbers(self, l1, l2):\n",
    "        str1, str2 = '', ''\n",
    "        while l1:\n",
    "            str1 += str(l1.val)\n",
    "            l1 = l1.next\n",
    "        while l2:\n",
    "            str2 += str(l2.val)\n",
    "            l2 = l2.next\n",
    "        int1 = int(str1[::-1])\n",
    "        int2 = int(str2[::-1])\n",
    "\n",
    "        return list(map(int, str(int1 + int2)[::-1]))\n"
   ]
  },
  {
   "cell_type": "markdown",
   "metadata": {},
   "source": [
    "### Explanation"
   ]
  },
  {
   "cell_type": "markdown",
   "metadata": {},
   "source": []
  }
 ],
 "metadata": {
  "interpreter": {
   "hash": "01ef5fd295d2f06c799f887d3d5a0aa621984c826cc1e428ccbd852109f922c3"
  },
  "kernelspec": {
   "display_name": "Python 3.7.6",
   "language": "python",
   "name": "python3"
  },
  "language_info": {
   "codemirror_mode": {
    "name": "ipython",
    "version": 3
   },
   "file_extension": ".py",
   "mimetype": "text/x-python",
   "name": "python",
   "nbconvert_exporter": "python",
   "pygments_lexer": "ipython3",
   "version": "3.7.6"
  }
 },
 "nbformat": 4,
 "nbformat_minor": 2
}
