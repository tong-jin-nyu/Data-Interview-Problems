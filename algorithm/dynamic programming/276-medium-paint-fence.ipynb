{
 "cells": [
  {
   "cell_type": "markdown",
   "metadata": {},
   "source": [
    "# 276 Paint Fence\n",
    "\n",
    "Medium\n",
    "\n",
    "https://leetcode.cn/problems/paint-fence/\n",
    "\n",
    "Created on: 10/4/2024\n",
    "\n",
    "Modified on: 10/4/2024\n",
    "\n",
    "---\n",
    "\n",
    "You are painting a fence of `n` posts with `k` different colors. You must paint the posts following these rules: \n",
    "\n",
    "- Every post must be painted exactly one color.\n",
    "- There cannot be three or more consecutive posts with the same color.\n",
    "\n",
    "Given the two integers `n` and `k`, return the number of ways you can paint the fence.\n",
    "\n",
    "**Example 1:**\n",
    "\n",
    "![example-1](https://assets.leetcode.com/uploads/2021/02/28/paintfenceex1.png)\n",
    "\n",
    "```\n",
    "Input: n = 3, k = 2\n",
    "Output: 6\n",
    "Explanation: All the possibilities are shown.\n",
    "Note that painting all the posts red or all the posts green is invalid because there cannot be three posts in a row with the same color.\n",
    "```\n",
    "\n",
    "**Example 2:**\n",
    "\n",
    "```\n",
    "Input: n = 1, k = 1\n",
    "Output: 1\n",
    "```\n",
    "\n",
    "**Example 3:**\n",
    "\n",
    "```\n",
    "Input: n = 7, k = 2\n",
    "Output: 42\n",
    "```\n",
    "\n",
    "**Constraints:**\n",
    "\n",
    "- `1 <= n <= 50`\n",
    "- `1 <= k <= 10^5`\n",
    "- The testcases are generated such that the answer is in the range `[0, 231 - 1]` for the given `n` and `k`.\n",
    "\n",
    "---\n"
   ]
  },
  {
   "cell_type": "code",
   "execution_count": 1,
   "metadata": {},
   "outputs": [],
   "source": [
    "# Python\n",
    "\n",
    "class Solution:\n",
    "    def numWays(self, n: int, k: int) -> int:\n",
    "        \n",
    "        @cache\n",
    "        def total_ways(i):\n",
    "            if i == 1:\n",
    "                return k\n",
    "            if i == 2:\n",
    "                return k * k\n",
    "            \n",
    "            return (k - 1) * (total_ways(i - 1) + total_ways(i - 2))\n",
    "\n",
    "        return total_ways(n)"
   ]
  }
 ],
 "metadata": {
  "kernelspec": {
   "display_name": "base",
   "language": "python",
   "name": "python3"
  },
  "language_info": {
   "codemirror_mode": {
    "name": "ipython",
    "version": 3
   },
   "file_extension": ".py",
   "mimetype": "text/x-python",
   "name": "python",
   "nbconvert_exporter": "python",
   "pygments_lexer": "ipython3",
   "version": "3.7.6"
  }
 },
 "nbformat": 4,
 "nbformat_minor": 2
}
