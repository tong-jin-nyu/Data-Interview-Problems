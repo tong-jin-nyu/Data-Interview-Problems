{
 "cells": [
  {
   "cell_type": "markdown",
   "metadata": {},
   "source": [
    "# 1137 N-th Tribonacci Number\n",
    "\n",
    "Easy\n",
    "\n",
    "https://leetcode.cn/problems/n-th-tribonacci-number/\n",
    "\n",
    "Created on: 8/27/2024\n",
    "\n",
    "Modified on: 8/27/2024\n",
    "\n",
    "---\n",
    "\n",
    "The Tribonacci sequence `T_n` is defined as follows: \n",
    "\n",
    "`T_0 = 0, T_1 = 1, T_2 = 1, and T_{n+3} = T_n + T_{n+1} + T_{n+2} for n >= 0.`\n",
    "\n",
    "Given `n`, return the value of `T_n`.\n",
    "\n",
    "**Example 1:**\n",
    "\n",
    "```\n",
    "Input: n = 4\n",
    "Output: 4\n",
    "Explanation:\n",
    "T_3 = 0 + 1 + 1 = 2\n",
    "T_4 = 1 + 1 + 2 = 4\n",
    "```\n",
    "\n",
    "**Example 2:**\n",
    "\n",
    "```\n",
    "Input: n = 25\n",
    "Output: 1389537\n",
    "```\n",
    "\n",
    "**Constraints:**\n",
    "\n",
    "- `0 <= n <= 37`\n",
    "\n",
    "---\n"
   ]
  },
  {
   "cell_type": "markdown",
   "metadata": {},
   "source": [
    "# Java\n",
    "\n",
    "``` Java\n",
    "class Solution {\n",
    "    public int tribonacci(int n) {\n",
    "        int p = 0, q = 0, r = 1, s = 1;\n",
    "        for (int i = 0; i < n; i++) {\n",
    "            p = q;\n",
    "            q = r;\n",
    "            r = s;\n",
    "            s = p + q + r;\n",
    "        }\n",
    "\n",
    "        return q;\n",
    "    }\n",
    "}\n",
    "```"
   ]
  }
 ],
 "metadata": {
  "language_info": {
   "name": "python"
  }
 },
 "nbformat": 4,
 "nbformat_minor": 2
}
