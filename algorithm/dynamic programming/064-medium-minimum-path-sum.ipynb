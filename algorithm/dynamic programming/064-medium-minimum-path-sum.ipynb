{
 "cells": [
  {
   "cell_type": "markdown",
   "metadata": {},
   "source": [
    "# 64 Minimum Path Sum\n",
    "\n",
    "Medium\n",
    "\n",
    "https://leetcode.cn/problems/minimum-path-sum/\n",
    "\n",
    "Created on: 9/3/2024\n",
    "\n",
    "Modified on: 9/3/2024\n",
    "\n",
    "---\n",
    "\n",
    "Given a `m x n` `grid` filled with non-negative numbers, find a path from top left to bottom right, \n",
    "which minimizes the sum of all numbers along its path.\n",
    "\n",
    "**Example 1:**\n",
    "\n",
    "![example-1](https://assets.leetcode.com/uploads/2020/11/05/minpath.jpg)\n",
    "\n",
    "```\n",
    "Input: grid = [[1,3,1],[1,5,1],[4,2,1]]\n",
    "Output: 7\n",
    "Explanation: Because the path 1 → 3 → 1 → 1 → 1 minimizes the sum.\n",
    "```\n",
    "\n",
    "**Example 2:**\n",
    "\n",
    "```\n",
    "Input: grid = [[1,2,3],[4,5,6]]\n",
    "Output: 12\n",
    "```\n",
    "\n",
    "**Constraints:**\n",
    "\n",
    "- `m == grid.length`\n",
    "- `n == grid[i].length`\n",
    "- `1 <= m, n <= 200`\n",
    "- `0 <= grid[i][j] <= 200`\n",
    "\n",
    "---\n"
   ]
  },
  {
   "cell_type": "markdown",
   "metadata": {},
   "source": [
    "# Java \n",
    "\n",
    "``` Java\n",
    "class Solution {\n",
    "    public int minPathSum(int[][] grid) {\n",
    "        int m = grid.length; // total number of rows\n",
    "        int n = grid[0].length; // total number of columns\n",
    "        int[][] sum = new int[m][n];\n",
    "        sum[0][0] = grid[0][0];\n",
    "\n",
    "        for (int i = 1; i < m; i++) {\n",
    "            sum[i][0] = sum[i - 1][0] + grid[i][0];\n",
    "        }\n",
    "        for (int j = 1; j < n; j++) {\n",
    "            sum[0][j] = sum[0][j - 1] + grid[0][j];\n",
    "        }\n",
    "        for (int k = 1; k < m; k++) {\n",
    "            for (int l = 1; l < n; l++) {\n",
    "                sum[k][l] = Math.min(sum[k - 1][l], sum[k][l - 1]) + grid[k][l];\n",
    "            }\n",
    "        }\n",
    "\n",
    "        return sum[m - 1][n - 1];\n",
    "    }\n",
    "}\n",
    "```"
   ]
  }
 ],
 "metadata": {
  "language_info": {
   "name": "python"
  }
 },
 "nbformat": 4,
 "nbformat_minor": 2
}
