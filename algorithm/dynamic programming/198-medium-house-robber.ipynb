{
 "cells": [
  {
   "cell_type": "markdown",
   "metadata": {},
   "source": [
    "# 198 House Robber\n",
    "\n",
    "Medium\n",
    "\n",
    "https://leetcode.cn/problems/house-robber/\n",
    "\n",
    "Created on: 8/28/2024\n",
    "\n",
    "Modified on: 8/28/2024\n",
    "\n",
    "---\n",
    "\n",
    "You are a professional robber planning to rob houses along a street. Each house has a certain amount of money stashed, the only constraint stopping you from robbing each of them is that adjacent houses have security systems connected and it will automatically contact the police if two adjacent houses were broken into on the same night.\n",
    "\n",
    "Given an integer array `nums` representing the amount of money of each house, return the maximum amount of money you can rob tonight without alerting the police.\n",
    "\n",
    "**Example 1:**\n",
    "\n",
    "```\n",
    "Input: nums = [1,2,3,1]\n",
    "Output: 4\n",
    "Explanation: Rob house 1 (money = 1) and then rob house 3 (money = 3).\n",
    "Total amount you can rob = 1 + 3 = 4.\n",
    "```\n",
    "\n",
    "**Example 2:**\n",
    "\n",
    "```\n",
    "Input: nums = [2,7,9,3,1]\n",
    "Output: 12\n",
    "Explanation: Rob house 1 (money = 2), rob house 3 (money = 9) and rob house 5 (money = 1).\n",
    "Total amount you can rob = 2 + 9 + 1 = 12.\n",
    "```\n",
    "\n",
    "**Constraints:**\n",
    "\n",
    "- `1 <= nums.length <= 100`\n",
    "- `0 <= nums[i] <= 400`\n",
    "\n",
    "---\n"
   ]
  },
  {
   "cell_type": "markdown",
   "metadata": {},
   "source": [
    "# Java - DP\n",
    "\n",
    "``` Java\n",
    "class Solution {\n",
    "    public int rob(int[] nums) {\n",
    "        int n = nums.length;\n",
    "        if (n == 1)\n",
    "            return nums[0];\n",
    "\n",
    "        int[] loots = new int[n];\n",
    "        loots[0] = nums[0];\n",
    "        loots[1] = Math.max(nums[0], nums[1]);\n",
    "        for (int i = 2; i < n; i++) {\n",
    "            loots[i] = Math.max(loots[i - 2] + nums[i], loots[i - 1]);\n",
    "        }\n",
    "\n",
    "        return loots[n - 1];\n",
    "    }\n",
    "}\n",
    "```"
   ]
  }
 ],
 "metadata": {
  "language_info": {
   "name": "python"
  }
 },
 "nbformat": 4,
 "nbformat_minor": 2
}
