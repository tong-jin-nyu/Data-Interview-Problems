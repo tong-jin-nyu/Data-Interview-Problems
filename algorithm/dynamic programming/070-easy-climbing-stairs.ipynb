{
 "cells": [
  {
   "cell_type": "markdown",
   "metadata": {},
   "source": [
    "# 70 Climbing Stairs\n",
    "\n",
    "Easy\n",
    "\n",
    "https://leetcode.cn/problems/climbing-stairs/\n",
    "\n",
    "Created on: 8/26/2024\n",
    "\n",
    "Modified on: 8/26/2024\n",
    "\n",
    "---\n",
    "\n",
    "You are climbing a staircase. It takes `n` steps to reach the top.\n",
    "\n",
    "Each time you can either climb `1` or `2` steps. In how many distinct ways can you climb to the top?\n",
    "\n",
    "**Example 1:**\n",
    "\n",
    "![example-1](https://assets.leetcode.com/uploads/2021/04/09/sumii-linked-list.jpg)\n",
    "\n",
    "```\n",
    "Input: n = 2\n",
    "Output: 2\n",
    "Explanation: There are two ways to climb to the top.\n",
    "1. 1 step + 1 step\n",
    "2. 2 steps\n",
    "```\n",
    "\n",
    "**Example 2:**\n",
    "\n",
    "```\n",
    "Input: n = 3\n",
    "Output: 3\n",
    "Explanation: There are three ways to climb to the top.\n",
    "1. 1 step + 1 step + 1 step\n",
    "2. 1 step + 2 steps\n",
    "3. 2 steps + 1 step\n",
    "```\n",
    "\n",
    "**Constraints:**\n",
    "\n",
    "- `1 <= n <= 45`\n",
    "\n",
    "---\n"
   ]
  },
  {
   "cell_type": "markdown",
   "metadata": {},
   "source": [
    "# Java\n",
    "\n",
    "``` Java\n",
    "class Solution {\n",
    "    public int climbStairs(int n) {\n",
    "        int p = 0, q = 0, r = 1;\n",
    "        for (int i = 0; i < n; i++) {\n",
    "            p = q;\n",
    "            q = r;\n",
    "            r = p + q;\n",
    "        }\n",
    "        \n",
    "        return r;\n",
    "    }\n",
    "}\n",
    "```"
   ]
  }
 ],
 "metadata": {
  "language_info": {
   "name": "python"
  }
 },
 "nbformat": 4,
 "nbformat_minor": 2
}
