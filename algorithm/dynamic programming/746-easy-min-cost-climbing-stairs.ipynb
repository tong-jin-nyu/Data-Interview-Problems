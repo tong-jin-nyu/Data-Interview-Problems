{
 "cells": [
  {
   "cell_type": "markdown",
   "metadata": {},
   "source": [
    "# 746 Min Cost Climbing Stairs\n",
    "\n",
    "Easy\n",
    "\n",
    "https://leetcode.cn/problems/min-cost-climbing-stairs/\n",
    "\n",
    "Created on: 8/28/2024\n",
    "\n",
    "Modified on: 8/28/2024\n",
    "\n",
    "---\n",
    "\n",
    "You are given an integer array `cost` where `cost[i]` is the cost of `ith` step on a staircase. \n",
    "Once you pay the cost, you can either climb one or two steps.\n",
    "\n",
    "You can either start from the step with index `0`, or the step with index `1`.\n",
    "\n",
    "Return the minimum cost to reach the top of the floor.\n",
    "\n",
    "**Example 1:**\n",
    "\n",
    "```\n",
    "Input: cost = [10,15,20]\n",
    "Output: 15\n",
    "Explanation: You will start at index 1.\n",
    "- Pay 15 and climb two steps to reach the top.\n",
    "The total cost is 15.\n",
    "```\n",
    "\n",
    "**Example 2:**\n",
    "\n",
    "```\n",
    "Input: cost = [1,100,1,1,1,100,1,1,100,1]\n",
    "Output: 6\n",
    "Explanation: You will start at index 0.\n",
    "- Pay 1 and climb two steps to reach index 2.\n",
    "- Pay 1 and climb two steps to reach index 4.\n",
    "- Pay 1 and climb two steps to reach index 6.\n",
    "- Pay 1 and climb one step to reach index 7.\n",
    "- Pay 1 and climb two steps to reach index 9.\n",
    "- Pay 1 and climb one step to reach the top.\n",
    "The total cost is 6.\n",
    "\n",
    "```\n",
    "\n",
    "**Constraints:**\n",
    "\n",
    "- `2 <= cost.length <= 1000`\n",
    "- `0 <= cost[i] <= 999`\n",
    "\n",
    "---\n"
   ]
  },
  {
   "cell_type": "markdown",
   "metadata": {
    "vscode": {
     "languageId": "plaintext"
    }
   },
   "source": [
    "# Java - DP\n",
    "\n",
    "``` Java\n",
    "// Time complexity: O(n)\n",
    "// Space complexity: O(n)\n",
    "\n",
    "class Solution {\n",
    "    public int minCostClimbingStairs(int[] cost) {\n",
    "        int n = cost.length;\n",
    "        int prev = 0, curr = 0;\n",
    "        for (int i = 2; i <= n; i++) {\n",
    "            int next = Math.min(curr + cost[i - 1], prev + cost[i - 2]);\n",
    "            prev = curr;\n",
    "            curr = next;\n",
    "        }\n",
    "\n",
    "        return curr;\n",
    "    }\n",
    "}\n",
    "```"
   ]
  },
  {
   "cell_type": "markdown",
   "metadata": {},
   "source": [
    "# Java - DP (improved space complexity)\n",
    "\n",
    "``` Java\n",
    "// Time complexity: O(n)\n",
    "// Space complexity: O(1)\n",
    "class Solution {\n",
    "    public int minCostClimbingStairs(int[] cost) {\n",
    "        int n = cost.length;\n",
    "        int prev = 0, curr = 0;\n",
    "        for (int i = 2; i <= n; i++) {\n",
    "            int next = Math.min(curr + cost[i - 1], prev + cost[i - 2]);\n",
    "            prev = curr;\n",
    "            curr = next;\n",
    "        }\n",
    "\n",
    "        return curr;\n",
    "    }\n",
    "}\n",
    "```"
   ]
  },
  {
   "cell_type": "markdown",
   "metadata": {},
   "source": [
    "---"
   ]
  }
 ],
 "metadata": {
  "language_info": {
   "name": "python"
  }
 },
 "nbformat": 4,
 "nbformat_minor": 2
}
