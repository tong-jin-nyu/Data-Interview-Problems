{
 "cells": [
  {
   "cell_type": "markdown",
   "metadata": {},
   "source": [
    "# 2376 Count Special Integers\n",
    "\n",
    "Hard\n",
    "\n",
    "https://leetcode.cn/problems/count-special-integers/\n",
    "\n",
    "Created on: 9/20/2024\n",
    "\n",
    "Modified on: 9/20/2024\n",
    "\n",
    "---\n",
    "\n",
    "We call a positive integer special if all of its digits are distinct.\n",
    "\n",
    "Given a positive integer `n`, return the number of special integers that belong to the interval \n",
    "`[1, n]`.\n",
    "\n",
    "**Example 1:**\n",
    "\n",
    "```\n",
    "Input: n = 20\n",
    "Output: 19\n",
    "Explanation: All the integers from 1 to 20, except 11, are special. Thus, there are 19 special integers.\n",
    "```\n",
    "\n",
    "**Example 2:**\n",
    "\n",
    "```\n",
    "Input: n = 5\n",
    "Output: 5\n",
    "Explanation: All the integers from 1 to 5 are special.\n",
    "```\n",
    "\n",
    "**Example 3:**\n",
    "\n",
    "```\n",
    "Input: n = 135\n",
    "Output: 110\n",
    "Explanation: There are 110 integers from 1 to 135 that are special.\n",
    "Some of the integers that are not special are: 22, 114, and 131.\n",
    "```\n",
    "\n",
    "**Constraints:**\n",
    "\n",
    "- `1 <= n <= 2 * 10^9`\n",
    "---\n"
   ]
  },
  {
   "cell_type": "code",
   "execution_count": 1,
   "metadata": {},
   "outputs": [],
   "source": [
    "# Python\n",
    "\n",
    "from functools import cache\n",
    "\n",
    "\n",
    "class Solution:\n",
    "    def countSpecialNumbers(self, n: int) -> int:\n",
    "        s = str(n)\n",
    "\n",
    "        @cache\n",
    "        def dfs(i: int, mask: int, is_limit: bool, is_num: bool) -> int:\n",
    "            if i == len(s):\n",
    "                return 1 if is_num else 0\n",
    "            res = 0\n",
    "            if not is_num:\n",
    "                res = dfs(i + 1, mask, False, False)\n",
    "            \n",
    "            lower = 0 if is_num else 1\n",
    "            upper = int(s[i]) if is_limit else 9\n",
    "\n",
    "            for d in range(lower, upper + 1):\n",
    "                if mask >> d & 1 == 0:\n",
    "                    res += dfs(i + 1, mask | (1 << d), is_limit and d == upper, True)\n",
    "            return res\n",
    "\n",
    "        return dfs(0, 0, True, False)"
   ]
  },
  {
   "cell_type": "code",
   "execution_count": 7,
   "metadata": {},
   "outputs": [
    {
     "name": "stdout",
     "output_type": "stream",
     "text": [
      "19\n",
      "5\n"
     ]
    }
   ],
   "source": [
    "test = Solution()\n",
    "print(test.countSpecialNumbers(20)) # 19\n",
    "print(test.countSpecialNumbers(5)) # 5"
   ]
  }
 ],
 "metadata": {
  "kernelspec": {
   "display_name": "Python 3",
   "language": "python",
   "name": "python3"
  },
  "language_info": {
   "codemirror_mode": {
    "name": "ipython",
    "version": 3
   },
   "file_extension": ".py",
   "mimetype": "text/x-python",
   "name": "python",
   "nbconvert_exporter": "python",
   "pygments_lexer": "ipython3",
   "version": "3.11.9"
  }
 },
 "nbformat": 4,
 "nbformat_minor": 2
}
