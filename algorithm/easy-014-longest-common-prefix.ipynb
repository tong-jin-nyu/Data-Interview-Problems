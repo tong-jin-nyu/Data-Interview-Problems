{
 "cells": [
  {
   "cell_type": "markdown",
   "metadata": {},
   "source": [
    "# 014 Longest Common Prefix\n",
    "\n",
    "Easy\n",
    "\n",
    "Created on: 6/1/2020\n",
    "\n",
    "Modified on: 6/27/2022\n",
    "\n",
    "---\n",
    "\n",
    "Write a function to find the longest common prefix string amongst an array of strings.\n",
    "\n",
    "If there is no common prefix, return an empty string `\"\"`.\n",
    "\n",
    "**Example 1:**\n",
    "\n",
    "``` text\n",
    "Input: [\"flower\",\"flow\",\"flight\"]\n",
    "Output: \"fl\"\n",
    "```\n",
    "\n",
    "**Example 2:**\n",
    "\n",
    "``` text\n",
    "Input: [\"dog\",\"racecar\",\"car\"]\n",
    "Output: \"\"\n",
    "Explanation: There is no common prefix among the input strings.\n",
    "```\n",
    "\n",
    "**Constraints:**\n",
    "- $1 \\leq \\text{strs.length} \\leq 200$\n",
    "- $0 \\leq \\text{strs[i].length} \\leq 200$\n",
    "- All given inputs are in lowercase letters a-z.\n",
    "\n",
    "---"
   ]
  },
  {
   "cell_type": "code",
   "execution_count": 18,
   "metadata": {},
   "outputs": [
    {
     "name": "stdout",
     "output_type": "stream",
     "text": [
      "\n",
      "fl\n",
      "\n",
      "A3SR\n",
      "A3SR\n"
     ]
    }
   ],
   "source": [
    "from typing import List\n",
    "\n",
    "\n",
    "class Solution:\n",
    "    def longestCommonPrefix(self, strs: List[str]) -> str:\n",
    "        if not strs:\n",
    "            return ''\n",
    "        if len(strs) == 1:\n",
    "            return strs[0]\n",
    "        else:\n",
    "            shortest = sorted(strs, key=len)[0]\n",
    "            prefix = ''\n",
    "\n",
    "            for idx, letter in enumerate(shortest):\n",
    "                for each_str in strs:\n",
    "                    if letter != each_str[idx]:\n",
    "                        return prefix\n",
    "                prefix += letter\n",
    "\n",
    "            if prefix:\n",
    "                return prefix\n",
    "            else:\n",
    "                return ''\n",
    "\n",
    "\n",
    "# Test\n",
    "test = Solution()\n",
    "print(test.longestCommonPrefix(strs=[\"flower\", \"flow\", \"flight\"]))\n",
    "print(test.longestCommonPrefix(strs=[\"dog\", \"racecar\", \"car\"]))\n",
    "print(test.longestCommonPrefix(strs=[\"A3SR\"]))\n",
    "print(test.longestCommonPrefix(strs=['A3SR', 'A3SR']))\n"
   ]
  },
  {
   "cell_type": "markdown",
   "metadata": {},
   "source": [
    "### Explanation"
   ]
  },
  {
   "cell_type": "markdown",
   "metadata": {},
   "source": [
    "There are many solutions for this problem. My solution applies binary search by using two for-in loops. The logic is fairly simple: compare the first x letters (prefix) of the first element to the prefix of the remaining elements. If match, continue; if not, stop and return the previous value of prefix. Here are the steps:\n",
    "\n",
    "First, simplify the logic by filtering out extreme situations: when there is no element or there is only one element in the list.\n",
    "\n",
    "Then, we create an empty string `prefix` to store the result.\n",
    "\n",
    "After that, we write a for-in loop to check all possible prefix combinations in the first element. We then apply another for-in loop to test if all remaining elements contain such prefix. We continue the loop until the condition no longer matches. If every prefix combination matches all elements, then we know all the elements are the same. Finally, we need to return a previous version of prefix (one level up) in order to get the last prefix combination that all elements are started with. "
   ]
  },
  {
   "cell_type": "markdown",
   "metadata": {},
   "source": [
    "---"
   ]
  }
 ],
 "metadata": {
  "kernelspec": {
   "display_name": "Python 3.9.4 64-bit",
   "language": "python",
   "name": "python3"
  },
  "language_info": {
   "codemirror_mode": {
    "name": "ipython",
    "version": 3
   },
   "file_extension": ".py",
   "mimetype": "text/x-python",
   "name": "python",
   "nbconvert_exporter": "python",
   "pygments_lexer": "ipython3",
   "version": "3.9.4"
  },
  "vscode": {
   "interpreter": {
    "hash": "fc8814d95e3bb7c7d620345642206f617029e5ce3d5941736e486cd8ca8f4058"
   }
  }
 },
 "nbformat": 4,
 "nbformat_minor": 2
}
