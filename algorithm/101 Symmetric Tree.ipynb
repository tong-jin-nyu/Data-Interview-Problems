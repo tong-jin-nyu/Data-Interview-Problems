{
 "cells": [
  {
   "cell_type": "markdown",
   "metadata": {},
   "source": [
    "created on: 11/15/2021\n",
    "\n",
    "updated on: 11/16/2021"
   ]
  },
  {
   "cell_type": "markdown",
   "metadata": {},
   "source": [
    "# Leetcode Notes\n",
    "\n",
    "## Algorithm\n",
    "\n",
    "---\n",
    "\n",
    "## 101 Symmetric Tree\n",
    "\n",
    "Easy"
   ]
  },
  {
   "cell_type": "markdown",
   "metadata": {},
   "source": [
    "Source: [Leetcode](https://leetcode-cn.com/problems/symmetric-tree/)\n",
    "\n",
    "### Instructions\n",
    "\n",
    "Given the `root` of a binary tree, check whether it is a mirror of itself (i.e. symmetric around its center).\n",
    "\n",
    "**Example 1:**\n",
    "![Example 1](https://assets.leetcode.com/uploads/2021/02/19/symtree1.jpg)\n",
    "```\n",
    "Input: root = [1, 2, 2, 3, 4, 4, 3]\n",
    "Output: True\n",
    "```\n",
    "\n",
    "**Example 2:**\n",
    "![Example 2](https://assets.leetcode.com/uploads/2021/02/19/symtree2.jpg)\n",
    "```\n",
    "Input: root = [1, 2, 2, null, 3, null, 3]\n",
    "Output: False\n",
    "```\n",
    "\n",
    "**Example 3:**\n",
    "```\n",
    "Input: root = []\n",
    "Output: []\n",
    "```\n",
    "\n",
    "**Constraints:**\n",
    "- The number of nodes in the tree is in the range `[0, 1000]`.\n",
    "- `-100 <= Node.val <= 100`\n",
    "\n",
    "**Follow up**: Could you solve it both recursively and iteratively?"
   ]
  },
  {
   "cell_type": "markdown",
   "metadata": {},
   "source": [
    "### Solution"
   ]
  },
  {
   "cell_type": "code",
   "execution_count": 7,
   "metadata": {},
   "outputs": [],
   "source": [
    "from typing import List\n",
    "from drawtree import draw_bst\n",
    "\n",
    "\n",
    "class TreeNode():\n",
    "\n",
    "    def __init__(self, val=0, left=None, right=None):\n",
    "        self.val = val\n",
    "        self.left = left\n",
    "        self.right = right\n",
    "\n",
    "\n",
    "def to_tree(lst: List[int]) -> TreeNode:\n",
    "    n = len(lst)\n",
    "    if n == 0:\n",
    "        return None\n",
    "\n",
    "    def inner(index: int = 0) -> TreeNode:\n",
    "        if n <= index or lst[index] is None:\n",
    "            return None\n",
    "\n",
    "        node = TreeNode(lst[index])\n",
    "        node.left = inner(2 * index + 1)\n",
    "        node.right = inner(2 * index + 2)\n",
    "        return node\n",
    "\n",
    "    return inner()\n",
    "\n",
    "\n",
    "class Solution:\n",
    "\n",
    "    def isSymmetric(self, root: TreeNode) -> bool:\n",
    "        \n",
    "        def compare(left, right):\n",
    "            if not left and not right:\n",
    "                return True\n",
    "            if not left or not right:\n",
    "                return False\n",
    "\n",
    "            if left.val != right.val:\n",
    "                return False\n",
    "            else:\n",
    "                return compare(left.left, right.right) and compare(left.right, right.left)\n",
    "        \n",
    "        return compare(root.left, root.right)\n"
   ]
  },
  {
   "cell_type": "code",
   "execution_count": 8,
   "metadata": {},
   "outputs": [
    {
     "name": "stdout",
     "output_type": "stream",
     "text": [
      "True\n"
     ]
    }
   ],
   "source": [
    "# Test\n",
    "root = [1, 2, 2, 3, 4, 4, 3]\n",
    "root = to_tree(root)\n",
    "\n",
    "test = Solution()\n",
    "print(test.isSymmetric(root))\n"
   ]
  },
  {
   "cell_type": "markdown",
   "metadata": {},
   "source": [
    "### Explanation"
   ]
  },
  {
   "cell_type": "markdown",
   "metadata": {},
   "source": [
    "---"
   ]
  }
 ],
 "metadata": {
  "interpreter": {
   "hash": "dca0ade3e726a953b501b15e8e990130d2b7799f14cfd9f4271676035ebe5511"
  },
  "kernelspec": {
   "display_name": "Python 3.7.4 64-bit (conda)",
   "name": "python3"
  },
  "language_info": {
   "codemirror_mode": {
    "name": "ipython",
    "version": 3
   },
   "file_extension": ".py",
   "mimetype": "text/x-python",
   "name": "python",
   "nbconvert_exporter": "python",
   "pygments_lexer": "ipython3",
   "version": "3.7.6"
  },
  "orig_nbformat": 2
 },
 "nbformat": 4,
 "nbformat_minor": 2
}
