{
 "cells": [
  {
   "cell_type": "markdown",
   "metadata": {},
   "source": [
    "# 599 Minimum Index Sum of Two Lists\n",
    "\n",
    "Easy\n",
    "\n",
    "https://leetcode.cn/problems/minimum-index-sum-of-two-lists/\n",
    "\n",
    "Created on: 8/4/2022\n",
    "\n",
    "Modified on: 8/4/2022\n",
    "\n",
    "---\n",
    "\n",
    "Suppose Andy and Doris want to choose a restaurant for dinner, and they both have a list of favorite restaurants represented by strings.\n",
    "\n",
    "You need to help them find out their **common interest** with the **least list index sum**. If there is a choice tie between answers, output all of them with no other requirement. You could assume there always exists an answer.\n",
    "\n",
    "**Example 1:**\n",
    "\n",
    "```\n",
    "Input: list1 = [\"Shogun\",\"Tapioca Express\",\"Burger King\",\"KFC\"], list2 = [\"Piatti\",\"The Grill at Torrey Pines\",\"Hungry Hunter Steakhouse\",\"Shogun\"]\n",
    "Output: [\"Shogun\"]\n",
    "Explanation: The only restaurant they both like is \"Shogun\".\n",
    "```\n",
    "\n",
    "**Example 2:**\n",
    "\n",
    "```\n",
    "Input: list1 = [\"Shogun\",\"Tapioca Express\",\"Burger King\",\"KFC\"], list2 = [\"KFC\",\"Shogun\",\"Burger King\"]\n",
    "Output: [\"Shogun\"]\n",
    "Explanation: The restaurant they both like and have the least index sum is \"Shogun\" with index sum 1 (0+1).\n",
    "```\n",
    "\n",
    "**Constraints:**\n",
    "- 1 <= `list1.length, list2.length` <= 1000\n",
    "- 1 <= `list[i].length, list2[i].length` <= 30\n",
    "- `list[i]` and `list2[i]` consist of spaces `' '` and English letters.\n",
    "- All strings in `list1` are unique.\n",
    "- All strings in `list2` are unique.\n",
    "\n",
    "---\n"
   ]
  },
  {
   "cell_type": "code",
   "execution_count": 3,
   "metadata": {},
   "outputs": [],
   "source": [
    "from typing import List\n",
    "\n",
    "\n",
    "class Solution:\n",
    "    def findRestaurant(self, list1: List[str], list2: List[str]) -> List[str]:\n",
    "        indexes = {val: i for i, val in enumerate(list1)}\n",
    "        ans = list()\n",
    "        n1, n2 = len(list1), len(list2)\n",
    "        total = n1 + n2\n",
    "        for i in range(n2):\n",
    "            if list2[i] in list1:\n",
    "                indexSum = i + indexes[list2[i]]\n",
    "                if indexSum < total:\n",
    "                    total = indexSum\n",
    "                    ans = [list2[i]]\n",
    "                elif indexSum == total:\n",
    "                    ans.append(list2[i])\n",
    "        return ans"
   ]
  },
  {
   "cell_type": "code",
   "execution_count": 4,
   "metadata": {},
   "outputs": [
    {
     "data": {
      "text/plain": [
       "['Shogun']"
      ]
     },
     "execution_count": 4,
     "metadata": {},
     "output_type": "execute_result"
    }
   ],
   "source": [
    "test = Solution()\n",
    "list1 = [\"Shogun\", \"Tapioca Express\", \"Burger King\", \"KFC\"]\n",
    "list2 = [\"Piatti\", \"The Grill at Torrey Pines\", \"Hungry Hunter Steakhouse\", \"Shogun\"]\n",
    "test.findRestaurant(list1, list2)\n"
   ]
  }
 ],
 "metadata": {
  "kernelspec": {
   "display_name": "Python 3.7.6",
   "language": "python",
   "name": "python3"
  },
  "language_info": {
   "codemirror_mode": {
    "name": "ipython",
    "version": 3
   },
   "file_extension": ".py",
   "mimetype": "text/x-python",
   "name": "python",
   "nbconvert_exporter": "python",
   "pygments_lexer": "ipython3",
   "version": "3.7.6"
  },
  "orig_nbformat": 2,
  "vscode": {
   "interpreter": {
    "hash": "01ef5fd295d2f06c799f887d3d5a0aa621984c826cc1e428ccbd852109f922c3"
   }
  }
 },
 "nbformat": 4,
 "nbformat_minor": 2
}
