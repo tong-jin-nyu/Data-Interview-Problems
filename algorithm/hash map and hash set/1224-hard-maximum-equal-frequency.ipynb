{
 "cells": [
  {
   "cell_type": "markdown",
   "metadata": {},
   "source": [
    "# 1224 Maximum Equal Frequency\n",
    "\n",
    "Hard\n",
    "\n",
    "https://leetcode.cn/problems/maximum-equal-frequency/\n",
    "\n",
    "Created on: 8/18/2022\n",
    "\n",
    "Modified on: 8/18/2022\n",
    "\n",
    "---\n",
    "\n",
    "Given an array `nums` of positive integers, return the longest possible length of an array prefix of `nums`, such that it is possible to remove exactly one element from this prefix so that every number that has appeared in it will have the same number of occurrences.\n",
    "\n",
    "If after removing one element there are no remaining elements, it's still considered that every appeared number has the same number of occurrences (0).\n",
    "\n",
    "**Example 1:**\n",
    "\n",
    "```\n",
    "Input: nums = [2,2,1,1,5,3,3,5]\n",
    "Output: 7\n",
    "Explanation: For the subarray [2,2,1,1,5,3,3] of length 7, if we remove nums[4] = 5, we will get [2,2,1,1,3,3], so that each number will appear exactly twice.\n",
    "```\n",
    "\n",
    "**Example 2:**\n",
    "\n",
    "```\n",
    "Input: nums = [1,1,1,2,2,2,3,3,3,4,4,4,5]\n",
    "Output: 13\n",
    "```\n",
    "\n",
    "**Constraints:**\n",
    "\n",
    "- 2 <= `nums.length` <= 10^5\n",
    "- 1 <= `nums[i]` <= 10^5\n",
    "\n",
    "---\n"
   ]
  },
  {
   "cell_type": "code",
   "execution_count": 4,
   "metadata": {},
   "outputs": [],
   "source": [
    "from typing import List\n",
    "from collections import Counter\n",
    "\n",
    "\n",
    "class Solution:\n",
    "    def maxEqualFreq(self, nums: List[int]) -> int:\n",
    "        freq, count = Counter(), Counter()\n",
    "        ans = maxFreq = 0\n",
    "        for i, num in enumerate(nums):\n",
    "            if count[num]:\n",
    "                freq[count[num]] -= 1\n",
    "            count[num] += 1\n",
    "            maxFreq = max(maxFreq, count[num])\n",
    "            freq[count[num]] += 1\n",
    "            if maxFreq == 1 or \\\n",
    "               freq[maxFreq] * maxFreq + freq[maxFreq - 1] * (maxFreq - 1) == i + 1 and freq[maxFreq] == 1 or \\\n",
    "               freq[maxFreq] * maxFreq + 1 == i + 1 and freq[1] == 1:\n",
    "                ans = max(ans, i + 1)\n",
    "        return ans\n"
   ]
  },
  {
   "cell_type": "code",
   "execution_count": 5,
   "metadata": {},
   "outputs": [
    {
     "data": {
      "text/plain": [
       "7"
      ]
     },
     "execution_count": 5,
     "metadata": {},
     "output_type": "execute_result"
    }
   ],
   "source": [
    "# Test\n",
    "test = Solution()\n",
    "nums = [2, 2, 1, 1, 5, 3, 3, 5]\n",
    "test.maxEqualFreq(nums)\n"
   ]
  },
  {
   "cell_type": "markdown",
   "metadata": {},
   "source": [
    "---"
   ]
  }
 ],
 "metadata": {
  "kernelspec": {
   "display_name": "Python 3.7.6 ('base')",
   "language": "python",
   "name": "python3"
  },
  "language_info": {
   "codemirror_mode": {
    "name": "ipython",
    "version": 3
   },
   "file_extension": ".py",
   "mimetype": "text/x-python",
   "name": "python",
   "nbconvert_exporter": "python",
   "pygments_lexer": "ipython3",
   "version": "3.7.6"
  },
  "vscode": {
   "interpreter": {
    "hash": "01ef5fd295d2f06c799f887d3d5a0aa621984c826cc1e428ccbd852109f922c3"
   }
  }
 },
 "nbformat": 4,
 "nbformat_minor": 2
}
