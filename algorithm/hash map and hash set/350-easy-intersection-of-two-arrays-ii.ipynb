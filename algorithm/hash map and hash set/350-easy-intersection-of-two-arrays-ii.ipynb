{
 "cells": [
  {
   "cell_type": "markdown",
   "metadata": {},
   "source": [
    "# 349 Intersection of Two Arrays\n",
    "\n",
    "Easy\n",
    "\n",
    "https://leetcode.cn/problems/intersection-of-two-arrays-ii/\n",
    "\n",
    "Created on: 7/12/2022\n",
    "\n",
    "Modified on: 7/12/2022\n",
    "\n",
    "---\n",
    "\n",
    "Given two integer arrays `nums1` and `nums2`, return an array of their intersection. Each element in the result must appear as many times as it shows in both arrays and you may return the result in any order.\n",
    "\n",
    "**Example 1:**\n",
    "\n",
    "```\n",
    "Input: nums1 = [1,2,2,1], nums2 = [2,2]\n",
    "Output: [2,2]\n",
    "```\n",
    "\n",
    "**Example 2:**\n",
    "\n",
    "```\n",
    "Input: nums1 = [4,9,5], nums2 = [9,4,9,8,4]\n",
    "Output: [4,9]\n",
    "Explanation: [9,4] is also accepted.\n",
    "```\n",
    "\n",
    "**Constraints:**\n",
    "\n",
    "- 1 <= `num.length, nums2.length` <= 1000\n",
    "- 0 <= `nums1[i], nums2[i]` <= 1000\n",
    "\n",
    "**Follow up:**\n",
    "- What if the given array is already sorted? How would you optimize your algorithm?\n",
    "- What if `nums1`'s size is small compared to `nums2`'s size? Which algorithm is better?\n",
    "- What if elements of `nums2` are stored on disk, and the memory is limited such that you cannot load all elements into the memory at once?\n",
    "\n",
    "---\n"
   ]
  },
  {
   "cell_type": "code",
   "execution_count": 2,
   "metadata": {},
   "outputs": [
    {
     "data": {
      "text/plain": [
       "[2, 2]"
      ]
     },
     "execution_count": 2,
     "metadata": {},
     "output_type": "execute_result"
    }
   ],
   "source": [
    "from typing import List\n",
    "\n",
    "\n",
    "class Solution:\n",
    "    def intersect(\n",
    "        self, nums1: List[int], nums2: List[int]) -> List[int]:\n",
    "        n1, n2 = len(nums1), len(nums2)\n",
    "        output = list()\n",
    "        if n1 > n2:\n",
    "            nums1, nums2 = nums2, nums1\n",
    "\n",
    "        for num in nums1:\n",
    "            if num in nums2:\n",
    "                output.append(num)\n",
    "                nums2.remove(num)\n",
    "\n",
    "        return output\n"
   ]
  },
  {
   "cell_type": "code",
   "execution_count": 1,
   "metadata": {},
   "outputs": [],
   "source": [
    "from typing import List\n",
    "\n",
    "\n",
    "class Solution:\n",
    "    def intersect(self, nums1: List[int], nums2: List[int]) -> List[int]:\n",
    "        ans = list()\n",
    "        n1, n2 = len(nums1), len(nums2)\n",
    "        d1 = dict()\n",
    "        if n1 > n2:\n",
    "            nums1, nums2 = nums2, nums1\n",
    "        for num in nums1:\n",
    "            if num not in d1:\n",
    "                d1[num] = 1\n",
    "            else:\n",
    "                d1[num] += 1\n",
    "        for num in nums2:\n",
    "            if num in d1.keys():\n",
    "                if d1[num] > 0:\n",
    "                    ans.append(num)\n",
    "                    d1[num] -= 1\n",
    "        return ans\n"
   ]
  },
  {
   "cell_type": "code",
   "execution_count": 2,
   "metadata": {},
   "outputs": [
    {
     "data": {
      "text/plain": [
       "[2, 2]"
      ]
     },
     "execution_count": 2,
     "metadata": {},
     "output_type": "execute_result"
    }
   ],
   "source": [
    "# Test\n",
    "test = Solution()\n",
    "nums1, nums2 = [1, 2, 2, 1], [2, 2]\n",
    "test.intersect(nums1, nums2)\n"
   ]
  },
  {
   "cell_type": "markdown",
   "metadata": {},
   "source": [
    "---"
   ]
  }
 ],
 "metadata": {
  "kernelspec": {
   "display_name": "Python 3.7.6",
   "language": "python",
   "name": "python3"
  },
  "language_info": {
   "codemirror_mode": {
    "name": "ipython",
    "version": 3
   },
   "file_extension": ".py",
   "mimetype": "text/x-python",
   "name": "python",
   "nbconvert_exporter": "python",
   "pygments_lexer": "ipython3",
   "version": "3.7.6"
  },
  "vscode": {
   "interpreter": {
    "hash": "01ef5fd295d2f06c799f887d3d5a0aa621984c826cc1e428ccbd852109f922c3"
   }
  }
 },
 "nbformat": 4,
 "nbformat_minor": 2
}
