{
 "cells": [
  {
   "cell_type": "markdown",
   "metadata": {},
   "source": [
    "# 219 Contains Duplicate II\n",
    "\n",
    "Easy\n",
    "\n",
    "https://leetcode.cn/problems/contains-duplicate-ii/\n",
    "\n",
    "Created on: 8/4/2022\n",
    "\n",
    "Modified on: 8/4/2022\n",
    "\n",
    "---\n",
    "\n",
    "Given an integer array `nums` and an integer `k`, return `true` if there are two distinct indices `i` and `j` in the array such that `nums[i] == nums[j]` and `abs(i - j) <= k`.\n",
    "\n",
    "**Example 1:**\n",
    "\n",
    "``` \n",
    "Input: nums = [1,2,3,1], k = 3\n",
    "Output: true\n",
    "```\n",
    "\n",
    "**Example 2:**\n",
    "\n",
    "```\n",
    "Input: nums = [1,0,1,1], k = 1\n",
    "Output: true\n",
    "```\n",
    "\n",
    "**Example 3:**\n",
    "\n",
    "```\n",
    "Input: nums = [1,2,3,1,2,3], k = 2\n",
    "Output: false\n",
    "```\n",
    "\n",
    "**Constraints:**\n",
    "- 1 <= `nums.length` <= 10^5\n",
    "- -10^9 <= `nums[i]` <= 10^9\n",
    "- 0 <= k <= 10^5\n",
    "\n",
    "---\n"
   ]
  },
  {
   "cell_type": "code",
   "execution_count": 1,
   "metadata": {},
   "outputs": [],
   "source": [
    "from typing import List\n",
    "\n",
    "\n",
    "class Solution:\n",
    "    def containsNearbyDuplicate(self, nums: List[int], k: int) -> bool:\n",
    "        di = dict()\n",
    "        for i, val in enumerate(nums):\n",
    "            if val in di and abs(di[val] - i) <= k:\n",
    "                return True\n",
    "            di[val] = i\n",
    "        return False\n"
   ]
  },
  {
   "cell_type": "code",
   "execution_count": 2,
   "metadata": {},
   "outputs": [
    {
     "data": {
      "text/plain": [
       "True"
      ]
     },
     "execution_count": 2,
     "metadata": {},
     "output_type": "execute_result"
    }
   ],
   "source": [
    "test = Solution()\n",
    "nums = [1, 2, 3, 1]\n",
    "k = 3\n",
    "test.containsNearbyDuplicate(nums, k)"
   ]
  }
 ],
 "metadata": {
  "kernelspec": {
   "display_name": "Python 3.7.6",
   "language": "python",
   "name": "python3"
  },
  "language_info": {
   "codemirror_mode": {
    "name": "ipython",
    "version": 3
   },
   "file_extension": ".py",
   "mimetype": "text/x-python",
   "name": "python",
   "nbconvert_exporter": "python",
   "pygments_lexer": "ipython3",
   "version": "3.7.6"
  },
  "orig_nbformat": 2,
  "vscode": {
   "interpreter": {
    "hash": "01ef5fd295d2f06c799f887d3d5a0aa621984c826cc1e428ccbd852109f922c3"
   }
  }
 },
 "nbformat": 4,
 "nbformat_minor": 2
}
