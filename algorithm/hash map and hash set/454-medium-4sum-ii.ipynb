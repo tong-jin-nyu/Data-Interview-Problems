{
 "cells": [
  {
   "cell_type": "markdown",
   "metadata": {},
   "source": [
    "# 454 4Sum II\n",
    "\n",
    "Medium\n",
    "\n",
    "https://leetcode.cn/problems/4sum-ii/\n",
    "\n",
    "Created on: 8/9/2022\n",
    "\n",
    "Modified on: 8/9/2022\n",
    "\n",
    "---\n",
    "\n",
    "Given four integer arrays `nums1`, `nums2`, `nums3`, and `nums4` all of legnth `n`, return the number of tuples `(i, j, k, l)` such that:\n",
    "\n",
    "- `0 <= i, j, k, l < n`\n",
    "- `nums1[i] + nums2[j] + nums3[k] + nums4[l] == 0`\n",
    "\n",
    "**Example 1:**\n",
    "\n",
    "```\n",
    "Input: nums1 = [1,2], nums2 = [-2,-1], nums3 = [-1,2], nums4 = [0,2]\n",
    "Output: 2\n",
    "Explanation:\n",
    "The two tuples are:\n",
    "1. (0, 0, 0, 1) -> nums1[0] + nums2[0] + nums3[0] + nums4[1] = 1 + (-2) + (-1) + 2 = 0\n",
    "2. (1, 1, 0, 0) -> nums1[1] + nums2[1] + nums3[0] + nums4[0] = 2 + (-1) + (-1) + 0 = 0\n",
    "```\n",
    "\n",
    "**Example 2:**\n",
    "\n",
    "```\n",
    "Input: nums1 = [0], nums2 = [0], nums3 = [0], nums4 = [0]\n",
    "Output: 1\n",
    "```\n",
    "\n",
    "**Constraints:**\n",
    "\n",
    "- `n == nums1.length`\n",
    "- `n == nums2.length`\n",
    "- `n == nums3.length`\n",
    "- `n == nums4.length`\n",
    "- 1 <= n <= 200\n",
    "- -2^28 <= `nums1[i], nums2[j], nums3[k], nums4[l]` <= 2^28\n",
    "\n",
    "---\n"
   ]
  },
  {
   "cell_type": "code",
   "execution_count": 1,
   "metadata": {},
   "outputs": [],
   "source": [
    "from typing import List\n",
    "\n",
    "\n",
    "class Solution:\n",
    "    def fourSumCount(self, nums1: List[int], nums2: List[int], \n",
    "    nums3: List[int], nums4: List[int]) -> int:\n",
    "        ans = 0\n",
    "        counts = dict()\n",
    "        for num1 in nums1:\n",
    "            for num2 in nums2:\n",
    "                if num1 + num2 not in counts:\n",
    "                    counts[num1 + num2] = 0\n",
    "                counts[num1 + num2] += 1\n",
    "        for num3 in nums3:\n",
    "            for num4 in nums4:\n",
    "                if -(num3 + num4) in counts:\n",
    "                    ans += counts[-(num3 + num4)]\n",
    "        return ans\n"
   ]
  },
  {
   "cell_type": "code",
   "execution_count": 2,
   "metadata": {},
   "outputs": [
    {
     "data": {
      "text/plain": [
       "2"
      ]
     },
     "execution_count": 2,
     "metadata": {},
     "output_type": "execute_result"
    }
   ],
   "source": [
    "# Test\n",
    "test = Solution()\n",
    "nums1, nums2, nums3, nums4 = [1, 2], [-2, -1], [-1, 2], [0, 2]\n",
    "test.fourSumCount(nums1, nums2, nums3, nums4)\n"
   ]
  },
  {
   "cell_type": "markdown",
   "metadata": {},
   "source": [
    "---"
   ]
  }
 ],
 "metadata": {
  "kernelspec": {
   "display_name": "Python 3.7.6",
   "language": "python",
   "name": "python3"
  },
  "language_info": {
   "codemirror_mode": {
    "name": "ipython",
    "version": 3
   },
   "file_extension": ".py",
   "mimetype": "text/x-python",
   "name": "python",
   "nbconvert_exporter": "python",
   "pygments_lexer": "ipython3",
   "version": "3.7.6"
  },
  "vscode": {
   "interpreter": {
    "hash": "01ef5fd295d2f06c799f887d3d5a0aa621984c826cc1e428ccbd852109f922c3"
   }
  }
 },
 "nbformat": 4,
 "nbformat_minor": 2
}
