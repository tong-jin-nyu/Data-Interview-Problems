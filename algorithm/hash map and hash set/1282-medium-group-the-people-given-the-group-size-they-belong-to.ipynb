{
 "cells": [
  {
   "cell_type": "markdown",
   "metadata": {},
   "source": [
    "# 1282 Group the People Given the Group Size They Belong To\n",
    "\n",
    "Medium\n",
    "\n",
    "https://leetcode.cn/problems/group-the-people-given-the-group-size-they-belong-to/\n",
    "\n",
    "Created on: 8/11/2022\n",
    "\n",
    "Modified on: 8/11/2022\n",
    "\n",
    "---\n",
    "\n",
    "There are `n` people that are splitted into some unknown number of groups. Each person is labeled with a unique ID from `0` to `n - 1`.\n",
    "\n",
    "You are given an integer array `groupSizes`, where `groupSizes[i]` is the size of the group that person `i` is in. For example, if `groupSizes[1] = 3`, then person `1` must be in a group of size `3`.\n",
    "\n",
    "Return a list of groups such that each person `i` is in a group of size `groupSizes[i]`.\n",
    "\n",
    "Each person should appear in exactly one group, and every person must be in a group. If there are multiple answers, return any of them. It is guaranteed that there will be at least one valid solution for the given input.\n",
    "\n",
    "**Example 1:**\n",
    "\n",
    "```\n",
    "Input: groupSizes = [3,3,3,3,3,1,3]\n",
    "Output: [[5],[0,1,2],[3,4,6]]\n",
    "Explanation: \n",
    "The first group is [5]. The size is 1, and groupSizes[5] = 1.\n",
    "The second group is [0,1,2]. The size is 3, and groupSizes[0] = groupSizes[1] = groupSizes[2] = 3.\n",
    "The third group is [3,4,6]. The size is 3, and groupSizes[3] = groupSizes[4] = groupSizes[6] = 3.\n",
    "Other possible solutions are [[2,1,6],[5],[0,4,3]] and [[5],[0,6,2],[4,3,1]].\n",
    "```\n",
    "\n",
    "**Example 2:**\n",
    "\n",
    "```\n",
    "Input: groupSizes = [2,1,3,3,3,2]\n",
    "Output: [[1],[0,5],[2,3,4]]\n",
    "```\n",
    "\n",
    "**Constraints:**\n",
    "\n",
    "- `groupSizes.length` == n\n",
    "- 1 <= n <= 500\n",
    "- 1 <= `groupSizes[i]` <= n\n",
    "\n",
    "---\n"
   ]
  },
  {
   "cell_type": "code",
   "execution_count": 1,
   "metadata": {},
   "outputs": [],
   "source": [
    "from typing import List\n",
    "\n",
    "\n",
    "class Solution:\n",
    "    def groupThePeople(self, groupSizes: List[int]) -> List[List[int]]:\n",
    "        groups = {}\n",
    "        ans = []\n",
    "        for i, size in enumerate(groupSizes):\n",
    "            if size not in groups.keys():\n",
    "                groups[size] = []\n",
    "            groups[size].append(i)\n",
    "\n",
    "        for size, indexes in groups.items():\n",
    "            n = len(indexes)\n",
    "            group = []\n",
    "            for i in range(n):\n",
    "                group.append(indexes[i])\n",
    "                if len(group) == size:\n",
    "                    ans.append(group)\n",
    "                    group = []\n",
    "        return ans\n"
   ]
  },
  {
   "cell_type": "code",
   "execution_count": 2,
   "metadata": {},
   "outputs": [
    {
     "data": {
      "text/plain": [
       "[[0, 1, 2], [3, 4, 6], [5]]"
      ]
     },
     "execution_count": 2,
     "metadata": {},
     "output_type": "execute_result"
    }
   ],
   "source": [
    "# Test\n",
    "test = Solution()\n",
    "groupSizes = [3, 3, 3, 3, 3, 1, 3]\n",
    "test.groupThePeople(groupSizes)\n"
   ]
  },
  {
   "cell_type": "markdown",
   "metadata": {},
   "source": [
    "---"
   ]
  }
 ],
 "metadata": {
  "kernelspec": {
   "display_name": "Python 3.9.4 64-bit",
   "language": "python",
   "name": "python3"
  },
  "language_info": {
   "codemirror_mode": {
    "name": "ipython",
    "version": 3
   },
   "file_extension": ".py",
   "mimetype": "text/x-python",
   "name": "python",
   "nbconvert_exporter": "python",
   "pygments_lexer": "ipython3",
   "version": "3.9.4"
  },
  "vscode": {
   "interpreter": {
    "hash": "fc8814d95e3bb7c7d620345642206f617029e5ce3d5941736e486cd8ca8f4058"
   }
  }
 },
 "nbformat": 4,
 "nbformat_minor": 2
}
