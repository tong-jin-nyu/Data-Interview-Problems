{
 "cells": [
  {
   "cell_type": "markdown",
   "metadata": {},
   "source": [
    "# 706 Design HashMap\n",
    "\n",
    "Easy\n",
    "\n",
    "https://leetcode.cn/problems/design-hashset/\n",
    "\n",
    "Created on: 8/1/2022\n",
    "\n",
    "Modified on: 8/1/2022\n",
    "\n",
    "---\n",
    "\n",
    "Design a HashMap without using any built-in hash table libraries.\n",
    "\n",
    "Implement `MyHashMap` class:\n",
    "\n",
    "- `MyHashMap()` initializes the objecty with an empty map.\n",
    "- `void put(int key, int value)` inserts a `(key, value)` pair into the HashMap. If the `key` already exists in the map, update the corresponding `value`.\n",
    "- `int get(int key)` returns the `value` to which the specified `key` is mapped, or `-1` if this map contains no mapping for the `key`.\n",
    "- `void remove(key)` removes the `key` and its corresponding `value` if the map contains the mapping for the `key`.\n",
    "\n",
    "**Example 1:**\n",
    "\n",
    "```\n",
    "Input\n",
    "[\"MyHashMap\", \"put\", \"put\", \"get\", \"get\", \"put\", \"get\", \"remove\", \"get\"]\n",
    "[[], [1, 1], [2, 2], [1], [3], [2, 1], [2], [2], [2]]\n",
    "Output\n",
    "[null, null, null, 1, -1, null, 1, null, -1]\n",
    "\n",
    "Explanation\n",
    "MyHashMap myHashMap = new MyHashMap();\n",
    "myHashMap.put(1, 1); // The map is now [[1,1]]\n",
    "myHashMap.put(2, 2); // The map is now [[1,1], [2,2]]\n",
    "myHashMap.get(1);    // return 1, The map is now [[1,1], [2,2]]\n",
    "myHashMap.get(3);    // return -1 (i.e., not found), The map is now [[1,1], [2,2]]\n",
    "myHashMap.put(2, 1); // The map is now [[1,1], [2,1]] (i.e., update the existing value)\n",
    "myHashMap.get(2);    // return 1, The map is now [[1,1], [2,1]]\n",
    "myHashMap.remove(2); // remove the mapping for 2, The map is now [[1,1]]\n",
    "myHashMap.get(2);    // return -1 (i.e., not found), The map is now [[1,1]]\n",
    "```\n",
    "\n",
    "**Constraints:**\n",
    "\n",
    "- 0 <= `key, value` <= 10^6\n",
    "- At most 10^4 calls will be made to `put`, `get`, and `remove`.\n",
    "\n",
    "---\n"
   ]
  },
  {
   "cell_type": "markdown",
   "metadata": {},
   "source": [
    "### Solution"
   ]
  },
  {
   "cell_type": "code",
   "execution_count": 7,
   "metadata": {},
   "outputs": [],
   "source": [
    "class MyHashMap:\n",
    "\n",
    "    def __init__(self):\n",
    "        self.hash = dict()\n",
    "\n",
    "    def put(self, key: int, value: int) -> None:\n",
    "        self.hash[key] = value\n",
    "        \n",
    "    def get(self, key: int) -> int:\n",
    "        return self.hash[key] if key in self.hash.keys() else -1\n",
    "\n",
    "    def remove(self, key: int) -> None:\n",
    "        if key in self.hash.keys():\n",
    "            self.hash.pop(key)"
   ]
  },
  {
   "cell_type": "code",
   "execution_count": 8,
   "metadata": {},
   "outputs": [
    {
     "name": "stdout",
     "output_type": "stream",
     "text": [
      "1\n",
      "-1\n",
      "1\n",
      "-1\n"
     ]
    }
   ],
   "source": [
    "# Test\n",
    "test = MyHashMap()\n",
    "test.put(1, 1)\n",
    "test.put(2, 2)\n",
    "print(test.get(1))\n",
    "print(test.get(3))\n",
    "test.put(2, 1)\n",
    "print(test.get(2))\n",
    "test.remove(2)\n",
    "print(test.get(2))"
   ]
  },
  {
   "cell_type": "markdown",
   "metadata": {},
   "source": [
    "---"
   ]
  }
 ],
 "metadata": {
  "kernelspec": {
   "display_name": "Python 3.7.6",
   "language": "python",
   "name": "python3"
  },
  "language_info": {
   "codemirror_mode": {
    "name": "ipython",
    "version": 3
   },
   "file_extension": ".py",
   "mimetype": "text/x-python",
   "name": "python",
   "nbconvert_exporter": "python",
   "pygments_lexer": "ipython3",
   "version": "3.7.6"
  },
  "orig_nbformat": 2,
  "vscode": {
   "interpreter": {
    "hash": "01ef5fd295d2f06c799f887d3d5a0aa621984c826cc1e428ccbd852109f922c3"
   }
  }
 },
 "nbformat": 4,
 "nbformat_minor": 2
}
