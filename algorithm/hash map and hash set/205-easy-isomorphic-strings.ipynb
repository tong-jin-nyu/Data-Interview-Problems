{
 "cells": [
  {
   "cell_type": "markdown",
   "metadata": {},
   "source": [
    "# 205 Isomorphic Strings\n",
    "\n",
    "Easy\n",
    "\n",
    "https://leetcode.cn/problems/isomorphic-strings/\n",
    "\n",
    "Created on: 8/4/2022\n",
    "\n",
    "Modified on: 8/4/2022\n",
    "\n",
    "---\n",
    "\n",
    "Given two string `s` and `t`, determine if they are isomorphic.\n",
    "\n",
    "Two strings `s` and `t` are isomorphic if the characters in `s` can be replaced to get `t`.\n",
    "\n",
    "All occurrences of a character must be replaced with another character while preserving the order of characters. No two characters may map to the same character, but a character may map to itself.\n",
    "\n",
    "**Example 1:**\n",
    "\n",
    "``` \n",
    "Input: s = \"egg\", t = \"add\"\n",
    "Output: true\n",
    "```\n",
    "\n",
    "**Example 2:**\n",
    "\n",
    "```\n",
    "Input: s = \"foo\", t = \"bar\"\n",
    "Output: false\n",
    "```\n",
    "\n",
    "**Example 3:**\n",
    "\n",
    "```\n",
    "Input: s = \"paper\", t = \"title\"\n",
    "Output: true\n",
    "```\n",
    "\n",
    "**Constraints:**\n",
    "- 1 <= `s.length` <= 5 * 10^4\n",
    "- `t.length == s.length`\n",
    "- `s` and `t` consist of any valid ascii cahracter.\n",
    "\n",
    "---\n"
   ]
  },
  {
   "cell_type": "code",
   "execution_count": 1,
   "metadata": {},
   "outputs": [],
   "source": [
    "class Solution:\n",
    "    def isIsomorphic(self, s: str, t: str) -> bool:\n",
    "        hash_s, hash_t = dict(), dict()\n",
    "        n = len(s)\n",
    "        for i in range(n):\n",
    "            if s[i] not in hash_s:\n",
    "                hash_s[s[i]] = t[i]\n",
    "            elif hash_s[s[i]] != t[i]:\n",
    "                return False\n",
    "\n",
    "            if t[i] not in hash_t:\n",
    "                hash_t[t[i]] = s[i]\n",
    "            elif hash_t[t[i]] != s[i]:\n",
    "                return False\n",
    "        return True\n"
   ]
  },
  {
   "cell_type": "code",
   "execution_count": 2,
   "metadata": {},
   "outputs": [
    {
     "data": {
      "text/plain": [
       "False"
      ]
     },
     "execution_count": 2,
     "metadata": {},
     "output_type": "execute_result"
    }
   ],
   "source": [
    "test = Solution()\n",
    "s = \"badc\"\n",
    "t = \"baba\"\n",
    "test.isIsomorphic(s, t)"
   ]
  }
 ],
 "metadata": {
  "kernelspec": {
   "display_name": "Python 3.9.4 64-bit",
   "language": "python",
   "name": "python3"
  },
  "language_info": {
   "codemirror_mode": {
    "name": "ipython",
    "version": 3
   },
   "file_extension": ".py",
   "mimetype": "text/x-python",
   "name": "python",
   "nbconvert_exporter": "python",
   "pygments_lexer": "ipython3",
   "version": "3.9.4"
  },
  "orig_nbformat": 2,
  "vscode": {
   "interpreter": {
    "hash": "fc8814d95e3bb7c7d620345642206f617029e5ce3d5941736e486cd8ca8f4058"
   }
  }
 },
 "nbformat": 4,
 "nbformat_minor": 2
}
