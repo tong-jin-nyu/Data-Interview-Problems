{
 "cells": [
  {
   "cell_type": "markdown",
   "metadata": {},
   "source": [
    "# 242 Valid Anagram\n",
    "\n",
    "Easy\n",
    "\n",
    "https://leetcode-cn.com/problems/ransom-note/\n",
    "\n",
    "Created on: 11/12/2021\n",
    "\n",
    "Modified on: 8/5/2022\n",
    "\n",
    "---\n",
    "\n",
    "Given two strings `ransomNote` and `magazine`, return `True` if `ransomNote` can be constructed from `magazine` and `False` otherwise.\n",
    "\n",
    "Each letter in `magazine` can only be used once in `ransomNote`.\n",
    "\n",
    "**Example 1:**\n",
    "```\n",
    "Input: ransomNote = \"a\", magazine = \"b\"\n",
    "Output: false\n",
    "```\n",
    "\n",
    "**Example 2:**\n",
    "```\n",
    "Input: ransomNote = \"aa\", magazine = \"ab\"\n",
    "Output: false\n",
    "```\n",
    "\n",
    "**Example 3:**\n",
    "```\n",
    "Input: ransomNote = \"aa\", magazine = \"aab\"\n",
    "Output: true\n",
    "```\n",
    "\n",
    "**Constraints:**\n",
    "- `1 <= ransomNote.length, magazine.length <= 105`\n",
    "- `ransomNote` and `magazine` consist of lowercase English letters."
   ]
  },
  {
   "cell_type": "markdown",
   "metadata": {},
   "source": [
    "### Solution"
   ]
  },
  {
   "cell_type": "code",
   "execution_count": 6,
   "metadata": {},
   "outputs": [],
   "source": [
    "class Solution:\n",
    "    def isAnagram(self, s: str, t: str) -> bool:\n",
    "        count_s, count_t = [0] * 26, [0] * 26\n",
    "        for ch in s:\n",
    "            count_s[ord(ch) - ord('a') - 1] += 1\n",
    "        for ch in t:\n",
    "            count_t[ord(ch) - ord('a') - 1] += 1\n",
    "        return count_s == count_t\n"
   ]
  },
  {
   "cell_type": "code",
   "execution_count": 1,
   "metadata": {},
   "outputs": [],
   "source": [
    "import collections\n",
    "\n",
    "class Solution:\n",
    "    def isAnagram(self, s: str, t: str) -> bool:\n",
    "        a = collections.Counter(s)\n",
    "        b = collections.Counter(t)\n",
    "        return a == b\n"
   ]
  },
  {
   "cell_type": "code",
   "execution_count": 7,
   "metadata": {},
   "outputs": [
    {
     "data": {
      "text/plain": [
       "True"
      ]
     },
     "execution_count": 7,
     "metadata": {},
     "output_type": "execute_result"
    }
   ],
   "source": [
    "test = Solution()\n",
    "test.isAnagram(\"anagram\", \"nagaram\")\n"
   ]
  },
  {
   "cell_type": "markdown",
   "metadata": {},
   "source": [
    "### Explanation\n",
    "\n",
    "For each character in the `ransomNote` string, check if it exists in the `magazine` string. If not exists, return `False` to indicate that it's impossible to construct the `ransomNote` using `magazine`. If exists, remove the same character in `magazine` because each character in `magazine` can only be used once. If all characters pass the loop, return `True`, indicating the `ransomNote` can be constructed from the `magazine`."
   ]
  },
  {
   "cell_type": "markdown",
   "metadata": {},
   "source": [
    "---"
   ]
  }
 ],
 "metadata": {
  "kernelspec": {
   "display_name": "Python 3.7.6",
   "language": "python",
   "name": "python3"
  },
  "language_info": {
   "codemirror_mode": {
    "name": "ipython",
    "version": 3
   },
   "file_extension": ".py",
   "mimetype": "text/x-python",
   "name": "python",
   "nbconvert_exporter": "python",
   "pygments_lexer": "ipython3",
   "version": "3.7.6"
  },
  "orig_nbformat": 2,
  "vscode": {
   "interpreter": {
    "hash": "01ef5fd295d2f06c799f887d3d5a0aa621984c826cc1e428ccbd852109f922c3"
   }
  }
 },
 "nbformat": 4,
 "nbformat_minor": 2
}
