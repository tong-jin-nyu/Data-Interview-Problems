{
 "cells": [
  {
   "cell_type": "markdown",
   "metadata": {},
   "source": [
    "# 347 Top K Frequent Elements\n",
    "\n",
    "Medium\n",
    "\n",
    "https://leetcode.cn/problems/top-k-frequent-elements/\n",
    "\n",
    "Created on: 8/9/2022\n",
    "\n",
    "Modified on: 8/10/2022\n",
    "\n",
    "---\n",
    "\n",
    "Given an integer array `nums` and an integer `k`, return the `k` most frequent elements. You may return the answer in any order.\n",
    "\n",
    "**Example 1:**\n",
    "\n",
    "```\n",
    "Input: nums = [1,1,1,2,2,3], k = 2\n",
    "Output: [1,2]\n",
    "```\n",
    "\n",
    "**Example 2:**\n",
    "\n",
    "```\n",
    "Input: nums = [1], k = 1\n",
    "Output: [1]\n",
    "```\n",
    "\n",
    "**Constraints:**\n",
    "\n",
    "- 1 <= `nums.length` <= 105\n",
    "- -104 <= `nums[i]` <= 104\n",
    "- `k` is in the range `[1, the number of unique elements in the array]`.\n",
    "- It is guaranteed that the answer is unique.\n",
    "- \n",
    "**Follow up:** Your algorithm's time complexity must be better than `O(n log n)`, where n is the array's size.\n",
    "\n",
    "---\n"
   ]
  },
  {
   "cell_type": "code",
   "execution_count": 22,
   "metadata": {},
   "outputs": [],
   "source": [
    "from typing import List\n",
    "import collections\n",
    "import heapq\n",
    "\n",
    "class Solution:\n",
    "    def topKFrequent(self, nums: List[int], k: int) -> List[int]:\n",
    "        di_num = collections.Counter(nums)\n",
    "        li_num = [(-item[1], item[0]) for item in di_num.items()]\n",
    "        heap = list()\n",
    "        ans = list()\n",
    "        for item in li_num:\n",
    "            heapq.heappush(heap, item)\n",
    "        while k > 0:\n",
    "            ans.append(heapq.heappop(heap)[1])\n",
    "            k -= 1\n",
    "        return ans"
   ]
  },
  {
   "cell_type": "code",
   "execution_count": 23,
   "metadata": {},
   "outputs": [
    {
     "data": {
      "text/plain": [
       "[1, 2]"
      ]
     },
     "execution_count": 23,
     "metadata": {},
     "output_type": "execute_result"
    }
   ],
   "source": [
    "# Test\n",
    "test = Solution()\n",
    "nums = [1, 1, 1, 1, 2, 2, 3]\n",
    "k = 2\n",
    "test.topKFrequent(nums, k)\n"
   ]
  },
  {
   "cell_type": "markdown",
   "metadata": {},
   "source": [
    "---"
   ]
  }
 ],
 "metadata": {
  "kernelspec": {
   "display_name": "Python 3.7.6",
   "language": "python",
   "name": "python3"
  },
  "language_info": {
   "codemirror_mode": {
    "name": "ipython",
    "version": 3
   },
   "file_extension": ".py",
   "mimetype": "text/x-python",
   "name": "python",
   "nbconvert_exporter": "python",
   "pygments_lexer": "ipython3",
   "version": "3.7.6"
  },
  "vscode": {
   "interpreter": {
    "hash": "01ef5fd295d2f06c799f887d3d5a0aa621984c826cc1e428ccbd852109f922c3"
   }
  }
 },
 "nbformat": 4,
 "nbformat_minor": 2
}
