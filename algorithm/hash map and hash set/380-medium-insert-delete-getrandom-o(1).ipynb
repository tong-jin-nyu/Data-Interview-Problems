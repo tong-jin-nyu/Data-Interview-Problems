{
 "cells": [
  {
   "cell_type": "markdown",
   "metadata": {},
   "source": [
    "# 380 Insert Delete GetRandom O(1)\n",
    "\n",
    "Medium\n",
    "\n",
    "https://leetcode.cn/problems/insert-delete-getrandom-o1/\n",
    "\n",
    "Created on: 8/10/2022\n",
    "\n",
    "Modified on: 8/10/2022\n",
    "\n",
    "---\n",
    "\n",
    "Implement the `RandomizedSet` class:\n",
    "\n",
    "- `RandomizedSet()` initializes the `RandomizedSet` object.\n",
    "- `bool insert(int val)` inserts an item `val` into the set if not present. Returns `true` if the item was not present, `false` otherwise.\n",
    "- `bool remove(int val)` removes an item `val` from the set if present. Returns `true` if the item was present, `false` otherwise.\n",
    "- `int getRandom()` returns a random element from the current set of elements (it's guaranteed that at least one element exists when this method is called). Each element must have the same probability of being returned.\n",
    "\n",
    "You must implement the functions of the class such that each function words in average `O(1)` time complexity.\n",
    "\n",
    "**Example 1:**\n",
    "\n",
    "```\n",
    "Input\n",
    "[\"RandomizedSet\", \"insert\", \"remove\", \"insert\", \"getRandom\", \"remove\", \"insert\", \"getRandom\"]\n",
    "[[], [1], [2], [2], [], [1], [2], []]\n",
    "Output\n",
    "[null, true, false, true, 2, true, false, 2]\n",
    "\n",
    "Explanation\n",
    "RandomizedSet randomizedSet = new RandomizedSet();\n",
    "randomizedSet.insert(1); // Inserts 1 to the set. Returns true as 1 was inserted successfully.\n",
    "randomizedSet.remove(2); // Returns false as 2 does not exist in the set.\n",
    "randomizedSet.insert(2); // Inserts 2 to the set, returns true. Set now contains [1,2].\n",
    "randomizedSet.getRandom(); // getRandom() should return either 1 or 2 randomly.\n",
    "randomizedSet.remove(1); // Removes 1 from the set, returns true. Set now contains [2].\n",
    "randomizedSet.insert(2); // 2 was already in the set, so return false.\n",
    "randomizedSet.getRandom(); // Since 2 is the only number in the set, getRandom() will always return 2.\n",
    "```\n",
    "\n",
    "**Constraints:**\n",
    "\n",
    "- -2^31 <= val <= 2^31 - 1\n",
    "- At most `2 * 10^5` calss will be made to `insert`, `remove`, and `getRandom`.\n",
    "- There will be at least one element in the data structure when `getRandom` is called.\n",
    "\n",
    "---\n"
   ]
  },
  {
   "cell_type": "code",
   "execution_count": 1,
   "metadata": {},
   "outputs": [],
   "source": [
    "import random\n",
    "\n",
    "\n",
    "class RandomizedSet:\n",
    "\n",
    "    def __init__(self):\n",
    "        self.nums = list()\n",
    "        self.indices = dict()\n",
    "\n",
    "    def insert(self, val: int) -> bool:\n",
    "        if val in self.indices:\n",
    "            return False\n",
    "        self.indices[val] = len(self.nums)\n",
    "        self.nums.append(val)\n",
    "        return True\n",
    "\n",
    "    def remove(self, val: int) -> bool:\n",
    "        if val not in self.indices:\n",
    "            return False\n",
    "        id = self.indices[val]\n",
    "        self.nums[id] = self.nums[-1]\n",
    "        self.indices[self.nums[id]] = id\n",
    "        self.nums.pop()\n",
    "        del self.indices[val]\n",
    "        return True\n",
    "\n",
    "    def getRandom(self) -> int:\n",
    "        return random.choice(self.nums)\n",
    "\n",
    "        # Your RandomizedSet object will be instantiated and called as such:\n",
    "        # obj = RandomizedSet()\n",
    "        # param_1 = obj.insert(val)\n",
    "        # param_2 = obj.remove(val)\n",
    "        # param_3 = obj.getRandom()\n"
   ]
  },
  {
   "cell_type": "code",
   "execution_count": 3,
   "metadata": {},
   "outputs": [
    {
     "name": "stdout",
     "output_type": "stream",
     "text": [
      "True\n",
      "True\n",
      "True\n",
      "True\n",
      "True\n",
      "False\n",
      "3\n"
     ]
    }
   ],
   "source": [
    "# Test\n",
    "test = RandomizedSet()\n",
    "print(test.insert(1))\n",
    "print(test.insert(2))\n",
    "print(test.remove(2))\n",
    "print(test.insert(3))\n",
    "print(test.insert(4))\n",
    "print(test.remove(5))\n",
    "print(test.getRandom())\n"
   ]
  },
  {
   "cell_type": "markdown",
   "metadata": {},
   "source": [
    "---"
   ]
  }
 ],
 "metadata": {
  "kernelspec": {
   "display_name": "Python 3.7.6",
   "language": "python",
   "name": "python3"
  },
  "language_info": {
   "codemirror_mode": {
    "name": "ipython",
    "version": 3
   },
   "file_extension": ".py",
   "mimetype": "text/x-python",
   "name": "python",
   "nbconvert_exporter": "python",
   "pygments_lexer": "ipython3",
   "version": "3.7.6"
  },
  "vscode": {
   "interpreter": {
    "hash": "01ef5fd295d2f06c799f887d3d5a0aa621984c826cc1e428ccbd852109f922c3"
   }
  }
 },
 "nbformat": 4,
 "nbformat_minor": 2
}
