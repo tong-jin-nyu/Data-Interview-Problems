{
 "cells": [
  {
   "cell_type": "markdown",
   "metadata": {},
   "source": [
    "# 705 Design HashSet\n",
    "\n",
    "Easy\n",
    "\n",
    "https://leetcode.cn/problems/design-hashset/\n",
    "\n",
    "Created on: 8/1/2022\n",
    "\n",
    "Modified on: 8/1/2022\n",
    "\n",
    "---\n",
    "\n",
    "Design a HashSet without using any built-in hash table libraries.\n",
    "\n",
    "Implement `MyHashSet` class:\n",
    "\n",
    "- `void add(key)` inserts the value `key` into the HashSet.\n",
    "- `bool contains(key)` returns whether the value `key` exists in the HashSet or not.\n",
    "- `void remove(key)` removes the value `key` in the HashSet. If `key` does not exist in the HashSet, do nothing.\n",
    "\n",
    "**Example 1:**\n",
    "\n",
    "```\n",
    "Input\n",
    "[\"MyHashSet\", \"add\", \"add\", \"contains\", \"contains\", \"add\", \"contains\", \"remove\", \"contains\"]\n",
    "[[], [1], [2], [1], [3], [2], [2], [2], [2]]\n",
    "Output\n",
    "[null, null, null, true, false, null, true, null, false]\n",
    "\n",
    "Explanation\n",
    "MyHashSet myHashSet = new MyHashSet();\n",
    "myHashSet.add(1);      // set = [1]\n",
    "myHashSet.add(2);      // set = [1, 2]\n",
    "myHashSet.contains(1); // return True\n",
    "myHashSet.contains(3); // return False, (not found)\n",
    "myHashSet.add(2);      // set = [1, 2]\n",
    "myHashSet.contains(2); // return True\n",
    "myHashSet.remove(2);   // set = [1]\n",
    "myHashSet.contains(2); // return False, (already removed)\n",
    "```\n",
    "\n",
    "**Constraints:**\n",
    "\n",
    "- 0 <= key <= 10^6\n",
    "- At most 10^4 calls will be made to `add`, `remove`, and `contains`.\n",
    "\n",
    "---\n"
   ]
  },
  {
   "cell_type": "markdown",
   "metadata": {},
   "source": [
    "### Solution"
   ]
  },
  {
   "cell_type": "code",
   "execution_count": 24,
   "metadata": {},
   "outputs": [],
   "source": [
    "class MyHashSet:\n",
    "\n",
    "    def __init__(self):\n",
    "        self.bucket = 1000\n",
    "        # Define number of items in each bucket\n",
    "        self.floors = 1000000 // self.bucket + 1  # 1001 floors for assignment\n",
    "        self.hash = [[] for _ in range(self.bucket)]\n",
    "\n",
    "    def add(self, key: int) -> None:\n",
    "        i_bucket = key % self.bucket\n",
    "        i_floor = key // self.bucket\n",
    "        if not self.hash[i_bucket]:\n",
    "            self.hash[i_bucket] = [0] * self.floors\n",
    "        self.hash[i_bucket][i_floor] = 1\n",
    "\n",
    "    def remove(self, key: int) -> None:\n",
    "        i_bucket = key % self.bucket\n",
    "        i_floor = key // self.bucket\n",
    "        if self.hash[i_bucket]:\n",
    "            self.hash[i_bucket][i_floor] = 0\n",
    "\n",
    "    def contains(self, key: int) -> None:\n",
    "        i_bucket = key % self.bucket\n",
    "        i_floor = key // self.bucket\n",
    "        return self.hash[i_bucket] != [] and self.hash[i_bucket][i_floor] == 1"
   ]
  },
  {
   "cell_type": "code",
   "execution_count": 26,
   "metadata": {},
   "outputs": [
    {
     "name": "stdout",
     "output_type": "stream",
     "text": [
      "True\n",
      "False\n",
      "True\n",
      "False\n"
     ]
    }
   ],
   "source": [
    "# Test\n",
    "test = MyHashSet()\n",
    "test.add(1)\n",
    "test.add(2)\n",
    "print(test.contains(1))\n",
    "print(test.contains(3))\n",
    "test.add(2)\n",
    "print(test.contains(2))\n",
    "test.remove(2)\n",
    "print(test.contains(2))"
   ]
  },
  {
   "cell_type": "markdown",
   "metadata": {},
   "source": [
    "---"
   ]
  }
 ],
 "metadata": {
  "kernelspec": {
   "display_name": "Python 3.7.6",
   "language": "python",
   "name": "python3"
  },
  "language_info": {
   "codemirror_mode": {
    "name": "ipython",
    "version": 3
   },
   "file_extension": ".py",
   "mimetype": "text/x-python",
   "name": "python",
   "nbconvert_exporter": "python",
   "pygments_lexer": "ipython3",
   "version": "3.7.6"
  },
  "orig_nbformat": 2,
  "vscode": {
   "interpreter": {
    "hash": "01ef5fd295d2f06c799f887d3d5a0aa621984c826cc1e428ccbd852109f922c3"
   }
  }
 },
 "nbformat": 4,
 "nbformat_minor": 2
}
