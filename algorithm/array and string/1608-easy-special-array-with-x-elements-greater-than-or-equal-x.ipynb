{
 "cells": [
  {
   "cell_type": "markdown",
   "metadata": {},
   "source": [
    "# 1608 Special Array with X Elements Greater Than or Equal to X\n",
    "\n",
    "Easy\n",
    "\n",
    "https://leetcode.cn/problems/special-array-with-x-elements-greater-than-or-equal-x/\n",
    "\n",
    "Created on: 9/11/2022\n",
    "\n",
    "Modified on: 9/11/2022\n",
    "\n",
    "---\n",
    "\n",
    "You are given an array `nums` of non-negative integers. `nums` is considered special if there exists a number `x` such that there are exactly `x` numbers in `nums` that are greater than or equal to `x`.\n",
    "\n",
    "Notice that `x` does not have to be an element in `nums`.\n",
    "\n",
    "Return `x` if the array is special, otherwise, return `-1`. It can be proven that if `nums` is special, the value for `x` is unique.\n",
    "\n",
    "**Example 1:**\n",
    "\n",
    "```\n",
    "Input: nums = [3,5]\n",
    "Output: 2\n",
    "Explanation: There are 2 values (3 and 5) that are greater than or equal to 2.\n",
    "```\n",
    "\n",
    "**Example 2:**\n",
    "\n",
    "```\n",
    "Input: nums = [0,0]\n",
    "Output: -1\n",
    "Explanation: No numbers fit the criteria for x.\n",
    "If x = 0, there should be 0 numbers >= x, but there are 2.\n",
    "If x = 1, there should be 1 number >= x, but there are 0.\n",
    "If x = 2, there should be 2 numbers >= x, but there are 0.\n",
    "x cannot be greater since there are only 2 numbers in nums.\n",
    "```\n",
    "\n",
    "**Example 3:**\n",
    "\n",
    "```\n",
    "Input: nums = [0,4,3,0,4]\n",
    "Output: 3\n",
    "Explanation: There are 3 values that are greater than or equal to 3.\n",
    "```\n",
    "\n",
    "**Constraints:**\n",
    "\n",
    "- 1 <= `nums.length` <= 100\n",
    "- 0 <= `nums[i]` <= 1000\n",
    "\n",
    "---\n"
   ]
  },
  {
   "cell_type": "code",
   "execution_count": 4,
   "metadata": {},
   "outputs": [],
   "source": [
    "from typing import List\n",
    "\n",
    "\n",
    "class Solution:\n",
    "    def specialArray(self, nums: List[int]) -> int:\n",
    "        n = len(nums)\n",
    "        for i in range(n + 1):\n",
    "            if len([val for val in nums if val >= i]) == i:\n",
    "                return i\n",
    "        return -1\n"
   ]
  },
  {
   "cell_type": "code",
   "execution_count": 5,
   "metadata": {},
   "outputs": [],
   "source": [
    "from typing import List\n",
    "\n",
    "\n",
    "class Solution:\n",
    "    def specialArray(self, nums: List[int]) -> int:\n",
    "        nums.sort(reverse=True)\n",
    "        n = len(nums)\n",
    "        for i in range(1, n + 1):\n",
    "            if nums[i - 1] > i and (i == n or nums[i] < i):\n",
    "                return i\n",
    "        return -1"
   ]
  },
  {
   "cell_type": "code",
   "execution_count": 9,
   "metadata": {},
   "outputs": [
    {
     "data": {
      "text/plain": [
       "3"
      ]
     },
     "execution_count": 9,
     "metadata": {},
     "output_type": "execute_result"
    }
   ],
   "source": [
    "# Test\n",
    "test = Solution()\n",
    "nums = [0, 1, 2, 2, 2, 4, 4, 4]\n",
    "test.specialArray(nums)\n"
   ]
  }
 ],
 "metadata": {
  "kernelspec": {
   "display_name": "Python 3.7.6",
   "language": "python",
   "name": "python3"
  },
  "language_info": {
   "codemirror_mode": {
    "name": "ipython",
    "version": 3
   },
   "file_extension": ".py",
   "mimetype": "text/x-python",
   "name": "python",
   "nbconvert_exporter": "python",
   "pygments_lexer": "ipython3",
   "version": "3.7.6"
  },
  "orig_nbformat": 2,
  "vscode": {
   "interpreter": {
    "hash": "01ef5fd295d2f06c799f887d3d5a0aa621984c826cc1e428ccbd852109f922c3"
   }
  }
 },
 "nbformat": 4,
 "nbformat_minor": 2
}
