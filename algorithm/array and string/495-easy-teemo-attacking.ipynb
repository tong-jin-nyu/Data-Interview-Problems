{
 "cells": [
  {
   "cell_type": "markdown",
   "metadata": {},
   "source": [
    "# 495 Teemo Attacking\n",
    "\n",
    "Easy\n",
    "\n",
    "https://leetcode.cn/problems/teemo-attacking\n",
    "\n",
    "Created on: 7/5/2022\n",
    "\n",
    "Modified on: 7/13/2022\n",
    "\n",
    "---\n",
    "\n",
    "Our hero Teemo is attacking an enery Ashe with poisons! When Teemo attacks Ashe, Ashe gets poisoned for an exactly `duration` seconds. In other words, an attack at second `t` means Ashe is poisoned during the **inclusive** time interval `[t, t + duration - 1]`. If Teemo attacks again **before** the poison effect ends, the timer resets, and the effect will end `duration` seconds after the new attack.\n",
    "\n",
    "You are given a non-decreasing integer array `timeSeries`, where `timeSeries[i]` denotes that Teemo attacks Ashe at second `timeSeries[i]`, and an integer `duration`.\n",
    "\n",
    "Return the total number of seconds that Ashe is poisoned.\n",
    "\n",
    "**Example 1:**\n",
    "\n",
    "```\n",
    "Input: timeSeries = [1,4], duration = 2\n",
    "Output: 4\n",
    "Explanation: Teemo's attacks on Ashe go as follows:\n",
    "- At second 1, Teemo attacks, and Ashe is poisoned for seconds 1 and 2.\n",
    "- At second 4, Teemo attacks, and Ashe is poisoned for seconds 4 and 5.\n",
    "Ashe is poisoned for seconds 1, 2, 4, and 5, which is 4 seconds in total.\n",
    "```\n",
    "\n",
    "**Example 2:**\n",
    "\n",
    "```\n",
    "Input: timeSeries = [1,2], duration = 2\n",
    "Output: 3\n",
    "Explanation: Teemo's attacks on Ashe go as follows:\n",
    "- At second 1, Teemo attacks, and Ashe is poisoned for seconds 1 and 2.\n",
    "- At second 2 however, Teemo attacks again and resets the poison timer. Ashe is poisoned for seconds 2 and 3.\n",
    "Ashe is poisoned for seconds 1, 2, and 3, which is 3 seconds in total.\n",
    "```\n",
    "\n",
    "**Constraints:**\n",
    "- 1 <= `timeSeries.length` <= 10^4\n",
    "- 0 <= `timeSeries[i]`, `duration` <= 10^7\n",
    "- `timeSeries` is sorted in **non-descreasing** order.\n",
    "- \n",
    "---\n"
   ]
  },
  {
   "cell_type": "code",
   "execution_count": 15,
   "metadata": {},
   "outputs": [
    {
     "name": "stdout",
     "output_type": "stream",
     "text": [
      "8\n",
      "4\n",
      "3\n"
     ]
    }
   ],
   "source": [
    "from typing import List\n",
    "\n",
    "\n",
    "class Solution:\n",
    "    def findPoisonedDuration(self, timeSeries: List[int], duration: int) -> int:\n",
    "        total = 0\n",
    "        n = len(timeSeries)\n",
    "        timeSeries.append(timeSeries[-1] + duration)\n",
    "\n",
    "        for i in range(1, n + 1):\n",
    "            interval = timeSeries[i] - timeSeries[i - 1]\n",
    "            total += interval if interval < duration else duration\n",
    "\n",
    "        return total\n",
    "\n",
    "\n",
    "\n",
    "\n",
    "\n",
    "\n",
    "# Test\n",
    "test = Solution()\n",
    "timeSeries = [1, 3, 5]\n",
    "duration = 4\n",
    "print(test.findPoisonedDuration(timeSeries, duration))\n",
    "\n",
    "timeSeries = [0]\n",
    "duration = 4\n",
    "print(test.findPoisonedDuration(timeSeries, duration))\n",
    "\n",
    "timeSeries = [1, 2]\n",
    "duration = 2\n",
    "print(test.findPoisonedDuration(timeSeries, duration))\n"
   ]
  }
 ],
 "metadata": {
  "kernelspec": {
   "display_name": "Python 3.9.4 64-bit",
   "language": "python",
   "name": "python3"
  },
  "language_info": {
   "codemirror_mode": {
    "name": "ipython",
    "version": 3
   },
   "file_extension": ".py",
   "mimetype": "text/x-python",
   "name": "python",
   "nbconvert_exporter": "python",
   "pygments_lexer": "ipython3",
   "version": "3.9.4"
  },
  "orig_nbformat": 2,
  "vscode": {
   "interpreter": {
    "hash": "fc8814d95e3bb7c7d620345642206f617029e5ce3d5941736e486cd8ca8f4058"
   }
  }
 },
 "nbformat": 4,
 "nbformat_minor": 2
}
