{
 "cells": [
  {
   "cell_type": "markdown",
   "metadata": {},
   "source": [
    "# 2341 Maximum Number of Pairs in Array\n",
    "\n",
    "Easy\n",
    "\n",
    "https://leetcode.cn/problems/maximum-number-of-pairs-in-array/\n",
    "\n",
    "Created on: 7/23/2022\n",
    "\n",
    "Modified on: 7/23/2022\n",
    "\n",
    "---\n",
    "\n",
    "You are given a 0-indexed integer array `nums`. In one operation, you may do the following:\n",
    "\n",
    "- Choose two integers in `nums` that are equal.\n",
    "- Remove both integers from `nums`, forming a pair.\n",
    "\n",
    "The operation is done on `nums` as many times as possible.\n",
    "\n",
    "Return a 0-indexed integer array `answer` of size 2 where `answer[0]` is the number of pairs that are formed and `answer[1]` is the number of leftover integers in `nums` after doing the operation as many times as possible.\n",
    "\n",
    "**Example 1:**\n",
    "\n",
    "```\n",
    "Input: nums = [1,3,2,1,3,2,2]\n",
    "Output: [3,1]\n",
    "Explanation:\n",
    "Form a pair with nums[0] and nums[3] and remove them from nums. Now, nums = [3,2,3,2,2].\n",
    "Form a pair with nums[0] and nums[2] and remove them from nums. Now, nums = [2,2,2].\n",
    "Form a pair with nums[0] and nums[1] and remove them from nums. Now, nums = [2].\n",
    "No more pairs can be formed. A total of 3 pairs have been formed, and there is 1 number leftover in nums.\n",
    "```\n",
    "\n",
    "**Example 2:**\n",
    "\n",
    "```\n",
    "Input: nums = [1,1]\n",
    "Output: [1,0]\n",
    "Explanation: Form a pair with nums[0] and nums[1] and remove them from nums. Now, nums = [].\n",
    "No more pairs can be formed. A total of 1 pair has been formed, and there are 0 numbers leftover in nums.\n",
    "```\n",
    "\n",
    "**Example 3:**\n",
    "\n",
    "```\n",
    "Input: nums = [0]\n",
    "Output: [0,1]\n",
    "Explanation: No pairs can be formed, and there is 1 number leftover in nums.\n",
    "```\n",
    "\n",
    "**Constraints:**\n",
    "- 1 <= `nums.length` <= 100\n",
    "- 0 <= `nums[i]` <= 100\n",
    "\n",
    "---\n"
   ]
  },
  {
   "cell_type": "code",
   "execution_count": 2,
   "metadata": {},
   "outputs": [
    {
     "data": {
      "text/plain": [
       "[3, 1]"
      ]
     },
     "execution_count": 2,
     "metadata": {},
     "output_type": "execute_result"
    }
   ],
   "source": [
    "from typing import List\n",
    "\n",
    "\n",
    "class Solution:\n",
    "    def numberOfPairs(self, nums: List[int]) -> List[int]:\n",
    "        n = len(nums)\n",
    "        counts = dict()\n",
    "        pairs = remainders = 0\n",
    "\n",
    "        for i in range(n):\n",
    "            if nums[i] not in counts:\n",
    "                counts[nums[i]] = 1\n",
    "            else:\n",
    "                counts[nums[i]] += 1\n",
    "\n",
    "        for num, count in counts.items():\n",
    "            pairs += count // 2\n",
    "            if count % 2:\n",
    "                remainders += 1\n",
    "\n",
    "        return [pairs, remainders]\n",
    "\n",
    "\n",
    "\n",
    "# Test\n",
    "test = Solution()\n",
    "nums = [1, 3, 2, 1, 3, 2, 2]\n",
    "test.numberOfPairs(nums)"
   ]
  }
 ],
 "metadata": {
  "kernelspec": {
   "display_name": "Python 3.7.6 ('base')",
   "language": "python",
   "name": "python3"
  },
  "language_info": {
   "codemirror_mode": {
    "name": "ipython",
    "version": 3
   },
   "file_extension": ".py",
   "mimetype": "text/x-python",
   "name": "python",
   "nbconvert_exporter": "python",
   "pygments_lexer": "ipython3",
   "version": "3.7.6"
  },
  "orig_nbformat": 2,
  "vscode": {
   "interpreter": {
    "hash": "01ef5fd295d2f06c799f887d3d5a0aa621984c826cc1e428ccbd852109f922c3"
   }
  }
 },
 "nbformat": 4,
 "nbformat_minor": 2
}
