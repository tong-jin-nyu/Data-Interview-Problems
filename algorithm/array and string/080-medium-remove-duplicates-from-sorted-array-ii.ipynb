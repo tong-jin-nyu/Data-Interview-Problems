{
 "cells": [
  {
   "cell_type": "markdown",
   "metadata": {},
   "source": [
    "# 080 Remove Duplicates from Sorted Array II\n",
    "\n",
    "Medium\n",
    "\n",
    "https://leetcode.cn/problems/remove-duplicates-from-sorted-array-ii/\n",
    "\n",
    "Created on: 7/22/2020\n",
    "\n",
    "Modified on: 7/22/2022\n",
    "\n",
    "---\n",
    "\n",
    "Given an integer array `nums` sorted in non-decreasing order, remove some duplicates in-place such that each unique element appears at most twice. The relative order of the elements should be kept the same.\n",
    "\n",
    "Since it is impossible to change the length of the array in some languages, you must instead have the result be placed in the first part of the array `nums`. More formally, if there are `k` elements after removing the duplicates, then the first `k` elements of `nums` should hold the final result. It does not matter what you leave beyond the first `k` elements.\n",
    "\n",
    "Return `k` after placing the final result in the first `k` slots of `nums`.\n",
    "\n",
    "Do not allocate extra space for another array. You must do this by modifying the input array in-place with `O(1)` extra memory.\n",
    "\n",
    "**Example 1:**\n",
    "\n",
    "```\n",
    "Input: nums = [1,1,1,2,2,3]\n",
    "Output: 5, nums = [1,1,2,2,3,_]\n",
    "Explanation: Your function should return k = 5, with the first five elements of nums being 1, 1, 2, 2 and 3 respectively.\n",
    "\n",
    "It does not matter what you leave beyond the returned k (hence they are underscores).\n",
    "```\n",
    "\n",
    "**Example 2:**\n",
    "\n",
    "```\n",
    "Input: nums = [0,0,1,1,1,1,2,3,3]\n",
    "Output: 7, nums = [0,0,1,1,2,3,3,_,_]\n",
    "Explanation: Your function should return k = 7, with the first seven elements of nums being 0, 0, 1, 1, 2, 3 and 3 respectively.\n",
    "\n",
    "It does not matter what you leave beyond the returned k (hence they are underscores).\n",
    "```\n",
    "\n",
    "**Constraints:**\n",
    "\n",
    "- 1 <= `nums.length` <= 3 * 10^4\n",
    "- -10^4 <= `nums[i]` <= 10^4\n",
    "- `nums` is sorted in non-decreasing order.\n",
    "\n",
    "---\n"
   ]
  },
  {
   "cell_type": "code",
   "execution_count": 9,
   "metadata": {},
   "outputs": [
    {
     "data": {
      "text/plain": [
       "[1, 1, 2, 2, 3]"
      ]
     },
     "execution_count": 9,
     "metadata": {},
     "output_type": "execute_result"
    }
   ],
   "source": [
    "from typing import List\n",
    "\n",
    "\n",
    "class Solution:\n",
    "    def removeDuplicates(self, nums: List[int]) -> int:\n",
    "        n = len(nums)\n",
    "        slow = fast = 2\n",
    "\n",
    "        while fast < n:\n",
    "            if nums[fast] != nums[slow - 2]:\n",
    "                nums[slow] = nums[fast]\n",
    "                slow += 1\n",
    "            fast += 1\n",
    "\n",
    "        return slow\n",
    "\n",
    "\n",
    "# Test\n",
    "test = Solution()\n",
    "nums = [1, 1, 1, 2, 2, 3]\n",
    "nums[:test.removeDuplicates(nums)]"
   ]
  }
 ],
 "metadata": {
  "kernelspec": {
   "display_name": "Python 3.9.4 64-bit",
   "language": "python",
   "name": "python3"
  },
  "language_info": {
   "codemirror_mode": {
    "name": "ipython",
    "version": 3
   },
   "file_extension": ".py",
   "mimetype": "text/x-python",
   "name": "python",
   "nbconvert_exporter": "python",
   "pygments_lexer": "ipython3",
   "version": "3.9.4"
  },
  "vscode": {
   "interpreter": {
    "hash": "fc8814d95e3bb7c7d620345642206f617029e5ce3d5941736e486cd8ca8f4058"
   }
  }
 },
 "nbformat": 4,
 "nbformat_minor": 2
}
