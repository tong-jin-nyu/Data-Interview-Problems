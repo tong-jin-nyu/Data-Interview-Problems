{
 "cells": [
  {
   "cell_type": "markdown",
   "metadata": {},
   "source": [
    "# 118 Pascal's Triangle\n",
    "\n",
    "Easy\n",
    "\n",
    "Created on: 11/11/2021\n",
    "\n",
    "Modified on: 7/4/2022\n",
    "\n",
    "---\n",
    "\n",
    "Given an integer `numRows`, return the first numRows of **Pascal's triangle**.\n",
    "\n",
    "In **Pascal's triangle**, each number is the sum of the two numbers directly above it as shown:\n",
    "\n",
    "![Pascal's Triangle](https://upload.wikimedia.org/wikipedia/commons/0/0d/PascalTriangleAnimated2.gif)\n",
    "\n",
    "**Example 1:**\n",
    "```\n",
    "Input: numRows = 5\n",
    "Output: [[1], [1,1], [1,2,1], [1,3,3,1], [1,4,6,4,1]]\n",
    "```\n",
    "\n",
    "**Example 2:**\n",
    "```\n",
    "Input: numRows = 1\n",
    "Output: [[1]]\n",
    "```\n",
    "\n",
    "**Constraints:**\n",
    "- `1 <= numRows <= 30`"
   ]
  },
  {
   "cell_type": "markdown",
   "metadata": {},
   "source": [
    "### Solution"
   ]
  },
  {
   "cell_type": "code",
   "execution_count": 3,
   "metadata": {},
   "outputs": [
    {
     "name": "stdout",
     "output_type": "stream",
     "text": [
      "[[1], [1, 1], [1, 2, 1], [1, 3, 3, 1], [1, 4, 6, 4, 1], [1, 5, 10, 10, 5, 1], [1, 6, 15, 20, 15, 6, 1]]\n"
     ]
    }
   ],
   "source": [
    "from typing import List\n",
    "\n",
    "\n",
    "class Solution:\n",
    "    def generate(self, numRows: int) -> List[List[int]]:\n",
    "        output = [[1]]\n",
    "        for numRow in range(1, numRows):\n",
    "            row = [1]\n",
    "            for i in range(1, numRow+1):\n",
    "                if i == numRow:\n",
    "                    row.append(1)\n",
    "                else:\n",
    "                    row.append(output[numRow-1][i-1] + output[numRow-1][i])\n",
    "            output.append(row)\n",
    "        return output\n",
    "\n",
    "# Test\n",
    "test = Solution()\n",
    "numRows = 7\n",
    "print(test.generate(numRows))"
   ]
  },
  {
   "cell_type": "markdown",
   "metadata": {},
   "source": [
    "### Explanation\n",
    "\n",
    "![Pascal's Triangle](https://upload.wikimedia.org/wikipedia/commons/0/0d/PascalTriangleAnimated2.gif)\n",
    "\n",
    "From observation, we know that, for each row of a Pascal's triangle:\n",
    "1. The first and the last elements are always 1\n",
    "2. Other elements are the sum of the two adjacent elements in the previous row.\n",
    "\n",
    "Given these features, we start by creating an output list with the result of the first row, `[1]`. Then, starting from the second row, we create a result list that contains the first element, `1`, and iterate through all elements in the row to:\n",
    "1. check if the element is the last one. If so, append 1 to the result list\n",
    "2. else, sum up the adjacent elements in the previous row and append to the result list\n",
    "3. append the result list to the output list."
   ]
  },
  {
   "cell_type": "markdown",
   "metadata": {},
   "source": [
    "---"
   ]
  }
 ],
 "metadata": {
  "kernelspec": {
   "display_name": "Python 3.7.6",
   "language": "python",
   "name": "python3"
  },
  "language_info": {
   "codemirror_mode": {
    "name": "ipython",
    "version": 3
   },
   "file_extension": ".py",
   "mimetype": "text/x-python",
   "name": "python",
   "nbconvert_exporter": "python",
   "pygments_lexer": "ipython3",
   "version": "3.7.6"
  },
  "orig_nbformat": 2,
  "vscode": {
   "interpreter": {
    "hash": "01ef5fd295d2f06c799f887d3d5a0aa621984c826cc1e428ccbd852109f922c3"
   }
  }
 },
 "nbformat": 4,
 "nbformat_minor": 2
}
