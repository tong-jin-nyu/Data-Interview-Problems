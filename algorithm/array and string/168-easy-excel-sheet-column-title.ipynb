{
 "cells": [
  {
   "cell_type": "markdown",
   "metadata": {},
   "source": [
    "# 168 Excel Sheet Column Title\n",
    "\n",
    "Easy\n",
    "\n",
    "https://leetcode.cn/problems/excel-sheet-column-title/\n",
    "\n",
    "Created on: 9/6/2022\n",
    "\n",
    "Modified on: 9/6/2022\n",
    "\n",
    "---\n",
    "\n",
    "Given an integer `columnNumber`, return its corresponding column title as it appears in an Excel sheet.\n",
    "\n",
    "For example:\n",
    "\n",
    "```\n",
    "A -> 1\n",
    "B -> 2\n",
    "C -> 3\n",
    "...\n",
    "Z -> 26\n",
    "AA -> 27\n",
    "AB -> 28\n",
    "...\n",
    "```\n",
    "\n",
    "**Example 1:**\n",
    "\n",
    "```\n",
    "Input: columnNumber = 1\n",
    "Output: \"A\"\n",
    "```\n",
    "\n",
    "**Example 2:**\n",
    "\n",
    "```\n",
    "Input: columnNumber = 28\n",
    "Output: \"AB\"\n",
    "```\n",
    "\n",
    "**Example 3:**\n",
    "\n",
    "```\n",
    "Input: columnNumber = 701\n",
    "Output: \"ZY\"\n",
    "```\n",
    "\n",
    "**Constraints:**\n",
    "- 1 <= `columnNumber` <= 2^31 - 1\n",
    "\n",
    "---\n"
   ]
  },
  {
   "cell_type": "code",
   "execution_count": 1,
   "metadata": {},
   "outputs": [],
   "source": [
    "class Solution:\n",
    "    def convertToTitle(self, columnNumber: int) -> str:\n",
    "        alphabets = 'ABCDEFGHIJKLMNOPQRSTUVWXYZ'\n",
    "        ans = ''\n",
    "        while columnNumber > 0:\n",
    "            index = (columnNumber - 1) % 26\n",
    "            ans += alphabets[index]\n",
    "            columnNumber = (columnNumber - index + 1) // 26\n",
    "        return ans[::-1]\n"
   ]
  },
  {
   "cell_type": "code",
   "execution_count": 3,
   "metadata": {},
   "outputs": [
    {
     "data": {
      "text/plain": [
       "'KUR'"
      ]
     },
     "execution_count": 3,
     "metadata": {},
     "output_type": "execute_result"
    }
   ],
   "source": [
    "test = Solution()\n",
    "columnNumber = 8000\n",
    "test.convertToTitle(columnNumber)"
   ]
  }
 ],
 "metadata": {
  "kernelspec": {
   "display_name": "Python 3.7.6 ('base')",
   "language": "python",
   "name": "python3"
  },
  "language_info": {
   "codemirror_mode": {
    "name": "ipython",
    "version": 3
   },
   "file_extension": ".py",
   "mimetype": "text/x-python",
   "name": "python",
   "nbconvert_exporter": "python",
   "pygments_lexer": "ipython3",
   "version": "3.7.6"
  },
  "orig_nbformat": 2,
  "vscode": {
   "interpreter": {
    "hash": "01ef5fd295d2f06c799f887d3d5a0aa621984c826cc1e428ccbd852109f922c3"
   }
  }
 },
 "nbformat": 4,
 "nbformat_minor": 2
}
