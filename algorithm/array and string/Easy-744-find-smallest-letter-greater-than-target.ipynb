{
 "cells": [
  {
   "cell_type": "markdown",
   "metadata": {},
   "source": [
    "# 744 Find Smallest Letter Greater Than Target\n",
    "\n",
    "Easy\n",
    "\n",
    "Created on: 7/11/2022\n",
    "\n",
    "Modified on: 7/11/2022\n",
    "\n",
    "---\n",
    "\n",
    "Given a characters array `letters` that is sorted in non-decreasing order and a character `target`, return the smallest character in the array that is larger than `target`.\n",
    "\n",
    "Note that the letters wrap around. For example, if `target == 'z'` and `letters == ['a', 'b']`, the answer is `'a'`.\n",
    "\n",
    "**Example 1:**\n",
    "\n",
    "``` text\n",
    "Input: letters = [\"c\",\"f\",\"j\"], target = \"a\"\n",
    "Output: \"c\"\n",
    "```\n",
    "\n",
    "**Example 2:**\n",
    "\n",
    "``` text\n",
    "Input: letters = [\"c\",\"f\",\"j\"], target = \"c\"\n",
    "Output: \"f\"\n",
    "```\n",
    "\n",
    "**Example 3:**\n",
    "\n",
    "``` text\n",
    "Input: letters = [\"c\",\"f\",\"j\"], target = \"d\"\n",
    "Output: \"f\"\n",
    "```\n",
    "\n",
    "**Constraints:**\n",
    "- 2 <= `letters.length` <= 10^4\n",
    "- `letters[i]` is a lowercase English letter.\n",
    "- `letters` is sorted in non-decreasing order.\n",
    "- `letters` contains at least two different characters.\n",
    "- `target` is a lowercase English letter.\n",
    "\n",
    "---\n"
   ]
  },
  {
   "cell_type": "code",
   "execution_count": 2,
   "metadata": {},
   "outputs": [
    {
     "data": {
      "text/plain": [
       "'c'"
      ]
     },
     "execution_count": 2,
     "metadata": {},
     "output_type": "execute_result"
    }
   ],
   "source": [
    "from typing import List\n",
    "\n",
    "\n",
    "class Solution:\n",
    "    def nextGreatestLetter(self, letters: List[str], target: str) -> str:\n",
    "        n = len(letters)\n",
    "        left, right = 0, n - 1\n",
    "\n",
    "        while left <= right:\n",
    "            mid = left + (right - left) // 2\n",
    "            if letters[mid] > target:\n",
    "                right = mid - 1\n",
    "            else:\n",
    "                left = mid + 1\n",
    "\n",
    "        return letters[0] if left >= n else letters[left]\n",
    "\n",
    "\n",
    "# Test\n",
    "test = Solution()\n",
    "letters, target = ['c', 'f', 'j'], 'a'\n",
    "test.nextGreatestLetter(letters, target)\n"
   ]
  },
  {
   "cell_type": "code",
   "execution_count": 3,
   "metadata": {},
   "outputs": [
    {
     "data": {
      "text/plain": [
       "3"
      ]
     },
     "execution_count": 3,
     "metadata": {},
     "output_type": "execute_result"
    }
   ],
   "source": [
    "# Optimized\n",
    "from typing import List\n",
    "\n",
    "\n",
    "class Solution:\n",
    "    def pivotIndex(self, nums: List[int]) -> int:\n",
    "        total = sum(nums)\n",
    "        left_sum = 0\n",
    "        i = 0\n",
    "        while i < len(nums):\n",
    "            if 2 * left_sum + nums[i] == total:\n",
    "                return i\n",
    "            left_sum += nums[i]\n",
    "            i += 1\n",
    "\n",
    "        return -1\n",
    "\n",
    "\n",
    "# Test\n",
    "test = Solution()\n",
    "nums = [1, 7, 3, 6, 5, 6]\n",
    "test.pivotIndex(nums)\n"
   ]
  }
 ],
 "metadata": {
  "kernelspec": {
   "display_name": "Python 3.7.6 ('base')",
   "language": "python",
   "name": "python3"
  },
  "language_info": {
   "codemirror_mode": {
    "name": "ipython",
    "version": 3
   },
   "file_extension": ".py",
   "mimetype": "text/x-python",
   "name": "python",
   "nbconvert_exporter": "python",
   "pygments_lexer": "ipython3",
   "version": "3.7.6"
  },
  "orig_nbformat": 2,
  "vscode": {
   "interpreter": {
    "hash": "01ef5fd295d2f06c799f887d3d5a0aa621984c826cc1e428ccbd852109f922c3"
   }
  }
 },
 "nbformat": 4,
 "nbformat_minor": 2
}
