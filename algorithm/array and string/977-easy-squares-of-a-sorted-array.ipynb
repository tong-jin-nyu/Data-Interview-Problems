{
 "cells": [
  {
   "cell_type": "markdown",
   "metadata": {},
   "source": [
    "# 977 Squares of a Sorted Array\n",
    "\n",
    "Easy\n",
    "\n",
    "https://leetcode.cn/problems/squares-of-a-sorted-array\n",
    "\n",
    "Created on: 7/6/2022\n",
    "\n",
    "Modified on: 9/7/2024\n",
    "\n",
    "---\n",
    "\n",
    "Given an integer array `nums` sorted in **non-decreasing** order, return an array of **the squares of each number** sorted in non-decreasing order.\n",
    "\n",
    "**Example 1:**\n",
    "\n",
    "```\n",
    "Input: nums = [-4,-1,0,3,10]\n",
    "Output: [0,1,9,16,100]\n",
    "Explanation: After squaring, the array becomes [16,1,0,9,100].\n",
    "After sorting, it becomes [0,1,9,16,100].\n",
    "```\n",
    "\n",
    "**Example 2:**\n",
    "\n",
    "```\n",
    "Input: nums = [-7,-3,2,3,11]\n",
    "Output: [4,9,9,49,121]\n",
    "```\n",
    "\n",
    "**Constraints:**\n",
    "\n",
    "- 1 <= `nums.length` <= 10^4\n",
    "- -10^4 <= `nums[i]` <= 10^4\n",
    "- `nums` is sorted in non-decreasing order.\n",
    "\n",
    "**Follow up:** Squaring each element and sorting the new array is very trivial, could you find an `O(n)` solution using a different approach?\n",
    "\n",
    "---\n"
   ]
  },
  {
   "cell_type": "code",
   "execution_count": 3,
   "metadata": {},
   "outputs": [
    {
     "data": {
      "text/plain": [
       "[0, 1, 9, 16, 100]"
      ]
     },
     "execution_count": 3,
     "metadata": {},
     "output_type": "execute_result"
    }
   ],
   "source": [
    "# O(nlogn)\n",
    "from typing import List\n",
    "\n",
    "\n",
    "class Solution:\n",
    "    def sortedSquares(self, nums: List[int]) -> List[int]:\n",
    "        return sorted(num * num for num in nums)\n",
    "\n",
    "\n",
    "# Test\n",
    "test = Solution()\n",
    "test.sortedSquares([-4, -1, 0, 3, 10])\n"
   ]
  },
  {
   "cell_type": "code",
   "execution_count": 4,
   "metadata": {},
   "outputs": [
    {
     "data": {
      "text/plain": [
       "[0, 1, 9, 16, 100]"
      ]
     },
     "execution_count": 4,
     "metadata": {},
     "output_type": "execute_result"
    }
   ],
   "source": [
    "# O(n)\n",
    "from typing import List\n",
    "\n",
    "\n",
    "class Solution:\n",
    "    def sortedSquares(self, nums: List[int]) -> List[int]:\n",
    "        n = len(nums)\n",
    "        output = [0] * n\n",
    "        left, right, pos = 0, n - 1, n - 1\n",
    "\n",
    "        while left <= right:\n",
    "            if abs(nums[left]) > abs(nums[right]):\n",
    "                output[pos] = nums[left] * nums[left]\n",
    "                left += 1\n",
    "            else:\n",
    "                output[pos] = nums[right] * nums[right]\n",
    "                right -= 1\n",
    "            pos -= 1\n",
    "\n",
    "        return output\n",
    "\n",
    "\n",
    "# Test\n",
    "test = Solution()\n",
    "test.sortedSquares([-4, -1, 0, 3, 10])\n"
   ]
  },
  {
   "cell_type": "markdown",
   "metadata": {},
   "source": [
    "# Java\n",
    "\n",
    "``` Java\n",
    "class Solution {\n",
    "    public int[] sortedSquares(int[] nums) {\n",
    "        int n = nums.length;\n",
    "        int left = 0, right = n - 1;\n",
    "        int[] res = new int[n];\n",
    "\n",
    "        for (int i = n - 1; i >= 0; i--) {\n",
    "            if (nums[left] * nums[left] < nums[right] * nums[right]) {\n",
    "                res[i] = nums[right] * nums[right];\n",
    "                right--;\n",
    "            } else {\n",
    "                res[i] = nums[left] * nums[left];\n",
    "                left++;\n",
    "            }\n",
    "        }\n",
    "\n",
    "        return res;\n",
    "    }\n",
    "}\n",
    "```"
   ]
  }
 ],
 "metadata": {
  "kernelspec": {
   "display_name": "Python 3.7.6 ('base')",
   "language": "python",
   "name": "python3"
  },
  "language_info": {
   "codemirror_mode": {
    "name": "ipython",
    "version": 3
   },
   "file_extension": ".py",
   "mimetype": "text/x-python",
   "name": "python",
   "nbconvert_exporter": "python",
   "pygments_lexer": "ipython3",
   "version": "3.7.6"
  },
  "vscode": {
   "interpreter": {
    "hash": "01ef5fd295d2f06c799f887d3d5a0aa621984c826cc1e428ccbd852109f922c3"
   }
  }
 },
 "nbformat": 4,
 "nbformat_minor": 2
}
