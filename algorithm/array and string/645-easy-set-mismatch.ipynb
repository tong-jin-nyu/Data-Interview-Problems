{
 "cells": [
  {
   "cell_type": "markdown",
   "metadata": {},
   "source": [
    "# 645 Set Mismatch\n",
    "\n",
    "Easy\n",
    "\n",
    "https://leetcode.cn/problems/set-mismatch\n",
    "\n",
    "Created on: 7/5/2022\n",
    "\n",
    "Modified on: 7/13/2022\n",
    "\n",
    "---\n",
    "\n",
    "You have a set of integers `s`, which originally contains all the numbers from `1` to `n`. Unfortunately, due to error, one of the numbers in `s` got duplicated to another number in the set, which results in **repetition of one** number and **loss of another** number.\n",
    "\n",
    "You are given an integer array `nums` representing the data status of this set after the error.\n",
    "\n",
    "Find the number that occurs twice and the number that is missing and return them in the form of an array.\n",
    "\n",
    "**Example 1:**\n",
    "\n",
    "```\n",
    "Input: nums = [1,2,2,4]\n",
    "Output: [2,3]\n",
    "```\n",
    "\n",
    "**Example 2:**\n",
    "\n",
    "```\n",
    "Input: nums = [1,1]\n",
    "Output: [1,2]\n",
    "```\n",
    "\n",
    "**Constraints:**\n",
    "- 2 <= `nums.length` <= 10^4\n",
    "- 1 <= `nums[i]` <= 10^4\n",
    "\n",
    "---\n"
   ]
  },
  {
   "cell_type": "code",
   "execution_count": 4,
   "metadata": {},
   "outputs": [
    {
     "name": "stdout",
     "output_type": "stream",
     "text": [
      "[2, 3]\n",
      "[1, 2]\n"
     ]
    }
   ],
   "source": [
    "# Math\n",
    "from typing import List\n",
    "\n",
    "\n",
    "class Solution:\n",
    "    def findErrorNums(self, nums: List[int]) -> List[int]:\n",
    "        n = len(nums)\n",
    "        non_dup_sum = sum(set(nums))\n",
    "        duplicated = sum(nums) - non_dup_sum\n",
    "        correct_sum = (n * (n + 1)) // 2\n",
    "        lost = correct_sum - non_dup_sum\n",
    "\n",
    "        return [duplicated, lost]\n",
    "\n",
    "\n",
    "# Test\n",
    "test = Solution()\n",
    "nums = [1,2,2,4]\n",
    "print(test.findErrorNums(nums))\n",
    "\n",
    "nums = [1, 1]\n",
    "print(test.findErrorNums(nums))\n"
   ]
  },
  {
   "cell_type": "code",
   "execution_count": 6,
   "metadata": {},
   "outputs": [
    {
     "name": "stdout",
     "output_type": "stream",
     "text": [
      "[2, 3]\n",
      "[1, 2]\n"
     ]
    }
   ],
   "source": [
    "# Hashmap\n",
    "from typing import List\n",
    "from collections import Counter\n",
    "\n",
    "\n",
    "class Solution:\n",
    "    def findErrorNums(self, nums: List[int]) -> List[int]:\n",
    "        n = len(nums)\n",
    "        di = Counter(nums)\n",
    "        duplicated = lost = -1\n",
    "\n",
    "        for i in range(1, n + 1):\n",
    "            tmp = di.get(i, 0)\n",
    "            if tmp == 0:\n",
    "                lost = i\n",
    "            elif tmp == 2:\n",
    "                duplicated = i\n",
    "\n",
    "        return [duplicated, lost]\n",
    "\n",
    "\n",
    "\n",
    "\n",
    "# Test\n",
    "test = Solution()\n",
    "nums = [1, 2, 2, 4]\n",
    "print(test.findErrorNums(nums))\n",
    "\n",
    "nums = [1, 1]\n",
    "print(test.findErrorNums(nums))\n"
   ]
  }
 ],
 "metadata": {
  "kernelspec": {
   "display_name": "Python 3.7.6 ('base')",
   "language": "python",
   "name": "python3"
  },
  "language_info": {
   "codemirror_mode": {
    "name": "ipython",
    "version": 3
   },
   "file_extension": ".py",
   "mimetype": "text/x-python",
   "name": "python",
   "nbconvert_exporter": "python",
   "pygments_lexer": "ipython3",
   "version": "3.7.6"
  },
  "orig_nbformat": 2,
  "vscode": {
   "interpreter": {
    "hash": "01ef5fd295d2f06c799f887d3d5a0aa621984c826cc1e428ccbd852109f922c3"
   }
  }
 },
 "nbformat": 4,
 "nbformat_minor": 2
}
