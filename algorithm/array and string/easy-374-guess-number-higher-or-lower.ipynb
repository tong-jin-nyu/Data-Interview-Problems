{
 "cells": [
  {
   "cell_type": "markdown",
   "metadata": {},
   "source": [
    "# 374 Guess Number Higher or Lower\n",
    "\n",
    "Easy\n",
    "\n",
    "https://leetcode.cn/problems/guess-number-higher-or-lower/\n",
    "\n",
    "Created on: 7/7/2022\n",
    "\n",
    "Modified on: 7/7/2022\n",
    "\n",
    "---\n",
    "\n",
    "We are playing the Guess Game. The rules are:\n",
    "\n",
    "I pick a number from `1` to `n`. You have to guess which number I picked.\n",
    "\n",
    "Every time you guess wrong, I will tell you whether the number I picked is higher or lower than your guess.\n",
    "\n",
    "You call a pre-defined API `int guess(int num)`, which returns three possible results:\n",
    "\n",
    "- `-1`: Your guess is higher than the number I picked (i.e. `num > pick`).\n",
    "- `1`: Your guess is lower than the number I picked (i.e. `num < pick`).\n",
    "- `0`: Your guess is equal to the number I picked (i.e. `num == pick`).\n",
    "\n",
    "Return the number that I picked.\n",
    "\n",
    "**Example 1:**\n",
    "\n",
    "```\n",
    "Input: n = 10, pick = 6\n",
    "Output: 6\n",
    "```\n",
    "\n",
    "**Example 2:**\n",
    "\n",
    "```\n",
    "Input: n = 1, pick = 1\n",
    "Output: 1\n",
    "```\n",
    "\n",
    "**Example 3:**\n",
    "\n",
    "```\n",
    "Input: n = 2, pick = 1\n",
    "Output: 1\n",
    "```\n",
    "\n",
    "**Constraints:**\n",
    "\n",
    "- 1 <= n <= 2^31 - 1\n",
    "- 1 <= `pick` <= n\n",
    "\n",
    "---\n"
   ]
  },
  {
   "cell_type": "code",
   "execution_count": 6,
   "metadata": {},
   "outputs": [
    {
     "data": {
      "text/plain": [
       "6"
      ]
     },
     "execution_count": 6,
     "metadata": {},
     "output_type": "execute_result"
    }
   ],
   "source": [
    "# The guess API is already defined for you.\n",
    "# @param num, your guess\n",
    "# @return -1 if my number is lower, 1 if my number is higher, otherwise return 0\n",
    "def guess(num: int) -> int:\n",
    "    if num < pick:\n",
    "        return 1\n",
    "    elif num > pick:\n",
    "        return -1\n",
    "    else:\n",
    "        return 0\n",
    "\n",
    "class Solution:\n",
    "    def guessNumber(self, n: int) -> int:\n",
    "        left, right = 1, n\n",
    "\n",
    "        while left <= right:\n",
    "            mid = left + (right - left) // 2\n",
    "            if guess(mid) == 0:\n",
    "                return mid\n",
    "            elif guess(mid) == -1:\n",
    "                right = mid - 1\n",
    "            else:\n",
    "                left = mid + 1\n",
    "\n",
    "\n",
    "# Test\n",
    "test = Solution()\n",
    "n = 10\n",
    "pick = 6\n",
    "test.guessNumber(n)\n"
   ]
  },
  {
   "cell_type": "markdown",
   "metadata": {},
   "source": [
    "Note: binary search"
   ]
  }
 ],
 "metadata": {
  "kernelspec": {
   "display_name": "Python 3.7.6",
   "language": "python",
   "name": "python3"
  },
  "language_info": {
   "codemirror_mode": {
    "name": "ipython",
    "version": 3
   },
   "file_extension": ".py",
   "mimetype": "text/x-python",
   "name": "python",
   "nbconvert_exporter": "python",
   "pygments_lexer": "ipython3",
   "version": "3.7.6"
  },
  "vscode": {
   "interpreter": {
    "hash": "01ef5fd295d2f06c799f887d3d5a0aa621984c826cc1e428ccbd852109f922c3"
   }
  }
 },
 "nbformat": 4,
 "nbformat_minor": 2
}
