{
 "cells": [
  {
   "cell_type": "markdown",
   "metadata": {},
   "source": [
    "# 665 Non-decreasing Array\n",
    "\n",
    "Medium\n",
    "\n",
    "https://leetcode.cn/problems/non-decreasing-array/\n",
    "\n",
    "Created on: 7/20/2022\n",
    "\n",
    "Modified on: 7/20/2022\n",
    "\n",
    "---\n",
    "\n",
    "Given an array `nums` with `n` integers, your task is to check if it could become non-decreasing by modifying at most one element.\n",
    "\n",
    "We define an array is non-decreasing if `nums[i] <= nums[i + 1]` holds for every `i` (0-based) such that `0 <= i <= n - 2`.\n",
    "\n",
    "**Example 1:**\n",
    "\n",
    "```\n",
    "Input: nums = [4,2,3]\n",
    "Output: true\n",
    "Explanation: You could modify the first 4 to 1 to get a non-decreasing array.\n",
    "```\n",
    "\n",
    "**Example 2:**\n",
    "\n",
    "```\n",
    "Input: nums = [4,2,1]\n",
    "Output: false\n",
    "Explanation: You can't get a non-decreasing array by modify at most one element.\n",
    "```\n",
    "\n",
    "**Constraints:**\n",
    "\n",
    "- `n == nums.length`\n",
    "- 1 <= n <= 10^4\n",
    "- -10^5 <= nums[i] <= 10^5\n",
    "\n",
    "---\n"
   ]
  },
  {
   "cell_type": "code",
   "execution_count": 6,
   "metadata": {},
   "outputs": [
    {
     "data": {
      "text/plain": [
       "True"
      ]
     },
     "execution_count": 6,
     "metadata": {},
     "output_type": "execute_result"
    }
   ],
   "source": [
    "from typing import List\n",
    "\n",
    "\n",
    "class Solution:\n",
    "    def checkPossibility(self, nums: List[int]) -> bool:\n",
    "        count = 0\n",
    "        n = len(nums)\n",
    "\n",
    "        for i in range(1, n):\n",
    "            if nums[i - 1] > nums[i]:\n",
    "                count += 1\n",
    "                if count > 1:\n",
    "                    return False\n",
    "                if i > 1 and nums[i] < nums[i - 2]:\n",
    "                    nums[i] = nums[i - 1]\n",
    "\n",
    "        return True\n",
    "\n",
    "            \n",
    "\n",
    "# Test\n",
    "test = Solution()\n",
    "nums = [4, 2, 5]\n",
    "test.checkPossibility(nums)\n"
   ]
  }
 ],
 "metadata": {
  "kernelspec": {
   "display_name": "Python 3.9.4 64-bit",
   "language": "python",
   "name": "python3"
  },
  "language_info": {
   "codemirror_mode": {
    "name": "ipython",
    "version": 3
   },
   "file_extension": ".py",
   "mimetype": "text/x-python",
   "name": "python",
   "nbconvert_exporter": "python",
   "pygments_lexer": "ipython3",
   "version": "3.9.4"
  },
  "orig_nbformat": 2,
  "vscode": {
   "interpreter": {
    "hash": "fc8814d95e3bb7c7d620345642206f617029e5ce3d5941736e486cd8ca8f4058"
   }
  }
 },
 "nbformat": 4,
 "nbformat_minor": 2
}
