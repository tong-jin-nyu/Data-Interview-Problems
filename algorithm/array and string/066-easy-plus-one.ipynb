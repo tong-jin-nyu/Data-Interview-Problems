{
 "cells": [
  {
   "cell_type": "markdown",
   "metadata": {},
   "source": [
    "# 066 Plus One\n",
    "\n",
    "Easy\n",
    "\n",
    "https://leetcode.cn/problems/plus-one/\n",
    "\n",
    "Created on: 6/28/2022\n",
    "\n",
    "Modified on: 7/21/2022\n",
    "\n",
    "---\n",
    "\n",
    "You are given a **large integer** represented as an integer array `digits`, where each `digits[i]` is the `ith` digit of the integer. The digits are ordered from most significant to least significant in left-to-right order. The large integer does not contain any leading zero.\n",
    "\n",
    "Increment the large integer by one and return *the resulting array of digits*.\n",
    "\n",
    "**Example 1:**\n",
    "\n",
    "```\n",
    "Input: digits = [1,2,3]\n",
    "Output: [1,2,4]\n",
    "Explanation: The array represents the integer 123.\n",
    "Incrementing by one gives 123 + 1 = 124.\n",
    "Thus, the result should be [1,2,4].\n",
    "```\n",
    "\n",
    "**Example 2:**\n",
    "\n",
    "```\n",
    "Input: digits = [4,3,2,1]\n",
    "Output: [4,3,2,2]\n",
    "Explanation: The array represents the integer 4321.\n",
    "Incrementing by one gives 4321 + 1 = 4322.\n",
    "Thus, the result should be [4,3,2,2].\n",
    "```\n",
    "\n",
    "**Example 3:**\n",
    "\n",
    "```\n",
    "Input: digits = [9]\n",
    "Output: [1,0]\n",
    "Explanation: The array represents the integer 9.\n",
    "Incrementing by one gives 9 + 1 = 10.\n",
    "Thus, the result should be [1,0].\n",
    "```\n",
    "\n",
    "**Constraints:**\n",
    "\n",
    "- 1 <= `digits.length` <= 100\n",
    "- 0 <= `digits[i] <= 9\n",
    "- `digits` does not contain any leading zero.\n",
    "\n",
    "---\n"
   ]
  },
  {
   "cell_type": "code",
   "execution_count": 9,
   "metadata": {},
   "outputs": [
    {
     "name": "stdout",
     "output_type": "stream",
     "text": [
      "[1, 2, 4]\n"
     ]
    }
   ],
   "source": [
    "from typing import List\n",
    "\n",
    "\n",
    "class Solution:\n",
    "    def plusOne(self, digits: List[int]) -> List[int]:\n",
    "        figure = ''.join([str(digit) for digit in digits])\n",
    "        figure = int(figure) + 1\n",
    "        output = list()\n",
    "\n",
    "        while figure != 0:\n",
    "            remainder = figure % 10\n",
    "            figure //= 10\n",
    "            output.append(remainder)\n",
    "        \n",
    "        return output[::-1]\n",
    "\n",
    "# Test\n",
    "test = Solution()\n",
    "print(test.plusOne([1,2,3]))\n"
   ]
  },
  {
   "cell_type": "code",
   "execution_count": 3,
   "metadata": {},
   "outputs": [
    {
     "name": "stdout",
     "output_type": "stream",
     "text": [
      "[1, 2, 4]\n",
      "[1, 0, 0, 0]\n",
      "[1, 2, 4, 0]\n"
     ]
    }
   ],
   "source": [
    "# Update: 7/21/2022\n",
    "from typing import List\n",
    "\n",
    "\n",
    "class Solution:\n",
    "    def plusOne(self, digits: List[int]) -> List[int]:\n",
    "        n = len(digits)\n",
    "\n",
    "        for i in range(n - 1, -1, -1):\n",
    "            if digits[i] != 9:\n",
    "                digits[i] += 1\n",
    "                for j in range(i+1, n):\n",
    "                    digits[j] = 0\n",
    "                return digits\n",
    "\n",
    "        return [1] + [0] * n\n",
    "\n",
    "\n",
    "# Test\n",
    "test = Solution()\n",
    "print(test.plusOne([1, 2, 3]))\n",
    "print(test.plusOne([9, 9, 9]))\n",
    "print(test.plusOne([1, 2, 3, 9]))"
   ]
  }
 ],
 "metadata": {
  "kernelspec": {
   "display_name": "Python 3.9.4 64-bit",
   "language": "python",
   "name": "python3"
  },
  "language_info": {
   "codemirror_mode": {
    "name": "ipython",
    "version": 3
   },
   "file_extension": ".py",
   "mimetype": "text/x-python",
   "name": "python",
   "nbconvert_exporter": "python",
   "pygments_lexer": "ipython3",
   "version": "3.9.4"
  },
  "orig_nbformat": 2,
  "vscode": {
   "interpreter": {
    "hash": "fc8814d95e3bb7c7d620345642206f617029e5ce3d5941736e486cd8ca8f4058"
   }
  }
 },
 "nbformat": 4,
 "nbformat_minor": 2
}
