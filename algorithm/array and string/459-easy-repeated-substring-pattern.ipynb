{
 "cells": [
  {
   "cell_type": "markdown",
   "metadata": {},
   "source": [
    "# 459 Repeated Substring Pattern\n",
    "\n",
    "Easy\n",
    "\n",
    "https://leetcode.cn/problems/repeated-substring-pattern/\n",
    "\n",
    "Created on: 8/29/2024\n",
    "\n",
    "Modified on: 8/29/2024\n",
    "\n",
    "---\n",
    "\n",
    "Given a string `s`, check if it can be constructed by taking a substring of it and appending \n",
    "multiple copies of the substring together.\n",
    "\n",
    "**Example 1:**\n",
    "\n",
    "```\n",
    "Input: s = \"abab\"\n",
    "Output: true\n",
    "Explanation: It is the substring \"ab\" twice.\n",
    "```\n",
    "\n",
    "**Example 2:**\n",
    "\n",
    "```\n",
    "Input: s = \"aba\"\n",
    "Output: false\n",
    "```\n",
    "\n",
    "**Example 3:**\n",
    "\n",
    "```\n",
    "Input: s = \"abcabcabcabc\"\n",
    "Output: true\n",
    "Explanation: It is the substring \"abc\" four times or the substring \"abcabc\" twice.\n",
    "```\n",
    "\n",
    "**Constraints:**\n",
    "\n",
    "- `1 <= s.length <= 10^4`\n",
    "- `s` consists of lowercase English letters.\n",
    "\n",
    "---\n"
   ]
  },
  {
   "cell_type": "markdown",
   "metadata": {},
   "source": [
    "# Java\n",
    "\n",
    "``` Java\n",
    "class Solution {\n",
    "    public boolean repeatedSubstringPattern(String s) {\n",
    "        String str = s + s;\n",
    "        int n = str.length();\n",
    "        return str.substring(1, n - 1).contains(s);\n",
    "    }\n",
    "}\n",
    "```"
   ]
  },
  {
   "cell_type": "markdown",
   "metadata": {},
   "source": [
    "---"
   ]
  }
 ],
 "metadata": {
  "language_info": {
   "name": "python"
  }
 },
 "nbformat": 4,
 "nbformat_minor": 2
}
