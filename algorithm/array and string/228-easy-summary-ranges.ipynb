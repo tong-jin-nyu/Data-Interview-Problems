{
 "cells": [
  {
   "cell_type": "markdown",
   "metadata": {},
   "source": [
    "# 228 Summary Ranges\n",
    "\n",
    "Easy\n",
    "\n",
    "https://leetcode.cn/problems/summary-ranges/\n",
    "\n",
    "Created on: 9/5/2022\n",
    "\n",
    "Modified on: 9/6/2022\n",
    "\n",
    "---\n",
    "\n",
    "You are given a sorted unique integer array `nums`.\n",
    "\n",
    "A range `[a, b]` is the set of all integers from `a` to `b` (inclusive).\n",
    "\n",
    "Return the smallest sorted list of ranges that cover all the numbers in the array exactly. That is, each element of `nums` is covered by exactly one of the ranges, and there is no integer `x` such that `x` is in one of the ranges but not in `nums`.\n",
    "\n",
    "Each range `[a, b]` in the list should be output as:\n",
    "\n",
    "- `\"a->b\"` if `a != b`\n",
    "- `\"a\"` if `a == b`\n",
    "\n",
    "**Example 1:**\n",
    "\n",
    "```\n",
    "Input: nums = [0,1,2,4,5,7]\n",
    "Output: [\"0->2\",\"4->5\",\"7\"]\n",
    "Explanation: The ranges are:\n",
    "[0,2] --> \"0->2\"\n",
    "[4,5] --> \"4->5\"\n",
    "[7,7] --> \"7\"\n",
    "```\n",
    "\n",
    "**Example 2:**\n",
    "\n",
    "```\n",
    "Input: nums = [0,2,3,4,6,8,9]\n",
    "Output: [\"0\",\"2->4\",\"6\",\"8->9\"]\n",
    "Explanation: The ranges are:\n",
    "[0,0] --> \"0\"\n",
    "[2,4] --> \"2->4\"\n",
    "[6,6] --> \"6\"\n",
    "[8,9] --> \"8->9\"\n",
    "```\n",
    "\n",
    "**Constraints:**\n",
    "\n",
    "- 0 <= `nums.length` <= 20\n",
    "- -2^31 <= `nums[i]` <= 2^31 - 1\n",
    "- All the values of `nums` are unique.\n",
    "- `nums` is sorted in ascending order.\n",
    "\n",
    "---\n"
   ]
  },
  {
   "cell_type": "code",
   "execution_count": 6,
   "metadata": {},
   "outputs": [],
   "source": [
    "from typing import List\n",
    "\n",
    "\n",
    "class Solution:\n",
    "    def summaryRanges(self, nums: List[int]) -> List[str]:\n",
    "        n = len(nums)\n",
    "        a = b = 0\n",
    "        ans = []\n",
    "        res = []\n",
    "        while b < n:\n",
    "            if b < n - 1 and nums[b + 1] - nums[b] == 1:\n",
    "                b += 1\n",
    "            else:\n",
    "                ans.append([nums[a], nums[b]])\n",
    "                a = b + 1\n",
    "                b = b + 1\n",
    "        for a, b in ans:\n",
    "            if a == b:\n",
    "                res.append(str(a))\n",
    "            else:\n",
    "                res.append(str(a) + '->' + str(b))\n",
    "        return res\n"
   ]
  },
  {
   "cell_type": "code",
   "execution_count": 7,
   "metadata": {},
   "outputs": [
    {
     "data": {
      "text/plain": [
       "['0->2', '4->6', '8']"
      ]
     },
     "execution_count": 7,
     "metadata": {},
     "output_type": "execute_result"
    }
   ],
   "source": [
    "test = Solution()\n",
    "nums = [0, 1, 2, 4, 5, 6, 8]\n",
    "test.summaryRanges(nums)"
   ]
  }
 ],
 "metadata": {
  "kernelspec": {
   "display_name": "Python 3.7.6 ('base')",
   "language": "python",
   "name": "python3"
  },
  "language_info": {
   "codemirror_mode": {
    "name": "ipython",
    "version": 3
   },
   "file_extension": ".py",
   "mimetype": "text/x-python",
   "name": "python",
   "nbconvert_exporter": "python",
   "pygments_lexer": "ipython3",
   "version": "3.7.6"
  },
  "vscode": {
   "interpreter": {
    "hash": "01ef5fd295d2f06c799f887d3d5a0aa621984c826cc1e428ccbd852109f922c3"
   }
  }
 },
 "nbformat": 4,
 "nbformat_minor": 2
}
