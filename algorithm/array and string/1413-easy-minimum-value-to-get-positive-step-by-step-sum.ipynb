{
 "cells": [
  {
   "cell_type": "markdown",
   "metadata": {},
   "source": [
    "# 1413 Minimum Value to Get Positive Step by Step Sum\n",
    "\n",
    "Easy\n",
    "\n",
    "https://leetcode.cn/problems/minimum-value-to-get-positive-step-by-step-sum/\n",
    "\n",
    "Created on: 8/8/2022\n",
    "\n",
    "Modified on: 8/8/2022\n",
    "\n",
    "---\n",
    "\n",
    "Given an array of integers `nums`, you start with an initial positive value `startValue`.\n",
    "\n",
    "In each iteration, you calculate the step by step sum of `startValue` plus elements in `nums` (from left to right).\n",
    "\n",
    "Return the minimum positive value of `startValue` such that the step by step sum is never less than 1.\n",
    "\n",
    "**Example 1:**\n",
    "\n",
    "```\n",
    "Input: nums = [-3,2,-3,4,2]\n",
    "Output: 5\n",
    "Explanation: If you choose startValue = 4, in the third iteration your step by step sum is less than 1.\n",
    "step by step sum\n",
    "startValue = 4 | startValue = 5 | nums\n",
    "  (4 -3 ) = 1  | (5 -3 ) = 2    |  -3\n",
    "  (1 +2 ) = 3  | (2 +2 ) = 4    |   2\n",
    "  (3 -3 ) = 0  | (4 -3 ) = 1    |  -3\n",
    "  (0 +4 ) = 4  | (1 +4 ) = 5    |   4\n",
    "  (4 +2 ) = 6  | (5 +2 ) = 7    |   2\n",
    "```\n",
    "\n",
    "**Example 2:**\n",
    "\n",
    "```\n",
    "Input: nums = [1,2]\n",
    "Output: 1\n",
    "Explanation: Minimum start value should be positive. \n",
    "```\n",
    "\n",
    "**Example 3:**\n",
    "\n",
    "```\n",
    "Input: nums = [1,-2,-3]\n",
    "Output: 5\n",
    "```\n",
    "\n",
    "**Constraints:**\n",
    "\n",
    "- 1 <= `nums.length` <= 100\n",
    "- -100 <= `nums[i]` <= 100\n",
    "\n",
    "---\n"
   ]
  },
  {
   "cell_type": "code",
   "execution_count": 6,
   "metadata": {},
   "outputs": [],
   "source": [
    "from typing import List\n",
    "\n",
    "\n",
    "class Solution:\n",
    "    def minStartValue(self, nums: List[int]) -> int:\n",
    "        ans = 1\n",
    "        n = len(nums)\n",
    "        while True:\n",
    "            temp = nums.copy()\n",
    "            temp[0] = ans + temp[0]\n",
    "            for i in range(1, n):\n",
    "                temp[i] = temp[i] + temp[i - 1]\n",
    "            if min(temp) > 0:\n",
    "                return ans\n",
    "            ans += 1\n"
   ]
  },
  {
   "cell_type": "code",
   "execution_count": 8,
   "metadata": {},
   "outputs": [],
   "source": [
    "from typing import List\n",
    "\n",
    "\n",
    "class Solution:\n",
    "    def minStartValue(self, nums: List[int]) -> int:\n",
    "        if min(nums) > 0:\n",
    "            return 1\n",
    "        n = len(nums)\n",
    "        cumSum = cumSumMin = 0\n",
    "        for i in range(n):\n",
    "            cumSum += nums[i]\n",
    "            cumSumMin = min(cumSum, cumSumMin)\n",
    "        return -cumSumMin + 1\n"
   ]
  },
  {
   "cell_type": "code",
   "execution_count": 9,
   "metadata": {},
   "outputs": [
    {
     "data": {
      "text/plain": [
       "5"
      ]
     },
     "execution_count": 9,
     "metadata": {},
     "output_type": "execute_result"
    }
   ],
   "source": [
    "# Test\n",
    "test = Solution()\n",
    "nums = [-3, 2, -3, 4, 2]\n",
    "test.minStartValue(nums)\n"
   ]
  },
  {
   "cell_type": "markdown",
   "metadata": {},
   "source": [
    "---"
   ]
  }
 ],
 "metadata": {
  "kernelspec": {
   "display_name": "Python 3.7.6",
   "language": "python",
   "name": "python3"
  },
  "language_info": {
   "codemirror_mode": {
    "name": "ipython",
    "version": 3
   },
   "file_extension": ".py",
   "mimetype": "text/x-python",
   "name": "python",
   "nbconvert_exporter": "python",
   "pygments_lexer": "ipython3",
   "version": "3.7.6"
  },
  "orig_nbformat": 2,
  "vscode": {
   "interpreter": {
    "hash": "01ef5fd295d2f06c799f887d3d5a0aa621984c826cc1e428ccbd852109f922c3"
   }
  }
 },
 "nbformat": 4,
 "nbformat_minor": 2
}
