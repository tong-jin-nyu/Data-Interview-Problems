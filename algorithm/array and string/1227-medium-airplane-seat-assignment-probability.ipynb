{
 "cells": [
  {
   "cell_type": "markdown",
   "metadata": {},
   "source": [
    "# 1227 Airplane Seat Assignment Probability\n",
    "\n",
    "Medium\n",
    "\n",
    "https://leetcode.cn/problems/airplane-seat-assignment-probability/\n",
    "\n",
    "Created on: 10/3/2024\n",
    "\n",
    "Modified on: 10/3/2024\n",
    "\n",
    "---\n",
    "\n",
    "`n` passengers board an airplane with exactly `n` seats. The first passenger has lost the ticket and picks a seat randomly. But after that, the rest of the passengers will:\n",
    "\n",
    "- Take their own seat if it is still available, and\n",
    "- Pick other seats randomly when they find their seat occupied\n",
    "\n",
    "Return the probability that the `n^th` person gets his own seat.\n",
    "\n",
    "**Example 1:**\n",
    "\n",
    "```\n",
    "Input: n = 1\n",
    "Output: 1.00000\n",
    "Explanation: The first person can only get the first seat.\n",
    "```\n",
    "\n",
    "**Example 2:**\n",
    "\n",
    "```\n",
    "Input: n = 2\n",
    "Output: 0.50000\n",
    "Explanation: The second person has a probability of 0.5 to get the second seat (when first person gets the first seat).\n",
    "```\n",
    "\n",
    "**Constraints:**\n",
    "\n",
    "- `1 <= n <= 105`\n",
    "\n",
    "---\n"
   ]
  },
  {
   "cell_type": "markdown",
   "metadata": {},
   "source": [
    "# Java\n",
    "\n",
    "``` Java\n",
    "class Solution {\n",
    "    public double nthPersonGetsNthSeat(int n) {\n",
    "        return n == 1 ? 1.0 : 0.5;\n",
    "    }\n",
    "}\n",
    "```"
   ]
  },
  {
   "cell_type": "code",
   "execution_count": 1,
   "metadata": {},
   "outputs": [],
   "source": [
    "# Python\n",
    "\n",
    "class Solution:\n",
    "    def nthPersonGetsNthSeat(self, n: int) -> float:\n",
    "        return 0.5 if n > 1 else 1.0"
   ]
  }
 ],
 "metadata": {
  "kernelspec": {
   "display_name": "Python 3",
   "language": "python",
   "name": "python3"
  },
  "language_info": {
   "codemirror_mode": {
    "name": "ipython",
    "version": 3
   },
   "file_extension": ".py",
   "mimetype": "text/x-python",
   "name": "python",
   "nbconvert_exporter": "python",
   "pygments_lexer": "ipython3",
   "version": "3.11.9"
  }
 },
 "nbformat": 4,
 "nbformat_minor": 2
}
