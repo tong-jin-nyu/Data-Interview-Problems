{
 "cells": [
  {
   "cell_type": "markdown",
   "metadata": {},
   "source": [
    "# 349 Intersection of Two Arrays\n",
    "\n",
    "Easy\n",
    "\n",
    "https://leetcode.cn/problems/intersection-of-two-arrays/\n",
    "\n",
    "Created on: 7/11/2022\n",
    "\n",
    "Modified on: 7/11/2022\n",
    "\n",
    "---\n",
    "\n",
    "Given two integer arrays `nums1` and `nums2`, return an array of their intersection. Each element in the result must be unique and you may return the result in any order.\n",
    "\n",
    "**Example 1:**\n",
    "\n",
    "```\n",
    "Input: nums1 = [1,2,2,1], nums2 = [2,2]\n",
    "Output: [2]\n",
    "```\n",
    "\n",
    "**Example 2:**\n",
    "\n",
    "```\n",
    "Input: nums1 = [4,9,5], nums2 = [9,4,9,8,4]\n",
    "Output: [9,4]\n",
    "Explanation: [4,9] is also accepted.\n",
    "```\n",
    "\n",
    "**Constraints:**\n",
    "\n",
    "- 1 <= `num.length, nums2.length` <= 1000\n",
    "- 0 <= `nums1[i], nums2[i]` <= 1000\n",
    "\n",
    "---\n"
   ]
  },
  {
   "cell_type": "code",
   "execution_count": 2,
   "metadata": {},
   "outputs": [],
   "source": [
    "from typing import List\n",
    "\n",
    "\n",
    "class Solution:\n",
    "    def intersection(self, nums1: List[int], nums2: List[int]) -> List[int]:\n",
    "        set1 = set(nums1)\n",
    "        set2 = set(nums2)\n",
    "\n",
    "        return [x for x in set1 if x in set2] if len(set1) < len(set2) else [x for x in set2 if x in set1]"
   ]
  },
  {
   "cell_type": "code",
   "execution_count": 4,
   "metadata": {},
   "outputs": [],
   "source": [
    "from typing import List\n",
    "\n",
    "\n",
    "class Solution:\n",
    "    def intersection(self, nums1: List[int], nums2: List[int]) -> List[int]:\n",
    "        ret = set()\n",
    "        n1, n2 = len(nums1), len(nums2)\n",
    "        if n1 > n2:\n",
    "            nums1, nums2 = nums2, nums1\n",
    "        for num in nums1:\n",
    "            if num in nums2:\n",
    "                ret.add(num)\n",
    "        return list(ret)"
   ]
  },
  {
   "cell_type": "code",
   "execution_count": 8,
   "metadata": {},
   "outputs": [],
   "source": [
    "from typing import List\n",
    "\n",
    "\n",
    "class Solution:\n",
    "    def intersection(self, nums1: List[int], nums2: List[int]) -> List[int]:\n",
    "        nums1.sort()\n",
    "        nums2.sort()\n",
    "        n1, n2 = len(nums1), len(nums2)\n",
    "        intersection = set()\n",
    "        i1 = i2 = 0\n",
    "        while i1 < n1 and i2 < n2:\n",
    "            val1, val2 = nums1[i1], nums2[i2]\n",
    "            if val1 == val2:\n",
    "                intersection.add(val1)\n",
    "                i1 += 1\n",
    "                i2 += 1\n",
    "            elif val1 > val2:\n",
    "                i2 += 1\n",
    "            else:\n",
    "                i1 += 1\n",
    "        return list(intersection)"
   ]
  },
  {
   "cell_type": "code",
   "execution_count": 9,
   "metadata": {},
   "outputs": [
    {
     "data": {
      "text/plain": [
       "[2]"
      ]
     },
     "execution_count": 9,
     "metadata": {},
     "output_type": "execute_result"
    }
   ],
   "source": [
    "# Test\n",
    "test = Solution()\n",
    "nums1, nums2 = [1, 2, 2, 1], [2, 2]\n",
    "test.intersection(nums1, nums2)"
   ]
  }
 ],
 "metadata": {
  "kernelspec": {
   "display_name": "Python 3.7.6",
   "language": "python",
   "name": "python3"
  },
  "language_info": {
   "codemirror_mode": {
    "name": "ipython",
    "version": 3
   },
   "file_extension": ".py",
   "mimetype": "text/x-python",
   "name": "python",
   "nbconvert_exporter": "python",
   "pygments_lexer": "ipython3",
   "version": "3.7.6"
  },
  "vscode": {
   "interpreter": {
    "hash": "01ef5fd295d2f06c799f887d3d5a0aa621984c826cc1e428ccbd852109f922c3"
   }
  }
 },
 "nbformat": 4,
 "nbformat_minor": 2
}
