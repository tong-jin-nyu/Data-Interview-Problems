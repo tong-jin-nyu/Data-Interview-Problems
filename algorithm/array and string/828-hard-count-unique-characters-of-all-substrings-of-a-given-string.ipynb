{
 "cells": [
  {
   "cell_type": "markdown",
   "metadata": {},
   "source": [
    "# 828 Count Unique Characters of All Substrings of a Given String\n",
    "\n",
    "Hard\n",
    "\n",
    "https://leetcode.cn/problems/count-unique-characters-of-all-substrings-of-a-given-string/\n",
    "\n",
    "Created on: 9/5/2022\n",
    "\n",
    "Modified on: 9/5/2022\n",
    "\n",
    "---\n",
    "\n",
    "Let's define a function `countUniqueChars(s)` that returns the number of unique characters on `s`.\n",
    "\n",
    "- For example, calling `countUniqueChars(s)` if `s = \"LEETCODE\"` then `\"L\"`, `\"T\"`, `\"C\"`, `\"O\"`, `\"D\"` are the unique characters since they appear only once in `s`, therefore `countUniqueChars(s) = 5`.\n",
    "\n",
    "Given a string `s`, return the sum of `countUniqueChars(t)` where `t` is a substring of `s`. The test cases are generated such that the answer fits in a 32-bit integer.\n",
    "\n",
    "Notice that some substrings can be repeated so in this case you have to count the repeated ones too.\n",
    "\n",
    "**Example 1:**\n",
    "\n",
    "```\n",
    "Input: s = \"ABC\"\n",
    "Output: 10\n",
    "Explanation: All possible substrings are: \"A\",\"B\",\"C\",\"AB\",\"BC\" and \"ABC\".\n",
    "Every substring is composed with only unique letters.\n",
    "Sum of lengths of all substring is 1 + 1 + 1 + 2 + 2 + 3 = 10\n",
    "```\n",
    "\n",
    "**Example 2:**\n",
    "\n",
    "```\n",
    "Input: s = \"ABA\"\n",
    "Output: 8\n",
    "Explanation: The same as example 1, except countUniqueChars(\"ABA\") = 1.\n",
    "```\n",
    "\n",
    "**Example 3:**\n",
    "\n",
    "```\n",
    "Input: s = \"LEETCODE\"\n",
    "Output: 92\n",
    "```\n",
    "\n",
    "**Constraints:**\n",
    "\n",
    "- 1 <= `s.length` <= 10^5\n",
    "- `s` consists of uppercase English letters only.\n",
    "\n",
    "---\n"
   ]
  },
  {
   "cell_type": "code",
   "execution_count": 10,
   "metadata": {},
   "outputs": [],
   "source": [
    "from collections import defaultdict\n",
    "\n",
    "\n",
    "class Solution:\n",
    "    def uniqueLetterString(self, s: str) -> int:\n",
    "        indexes = defaultdict(list)\n",
    "        for i, val in enumerate(s):\n",
    "            indexes[val].append(i)\n",
    "        ans = 0\n",
    "        for arr in indexes.values():\n",
    "            arr = [-1] + arr + [len(s)]\n",
    "            for i in range(1, len(arr) - 1):\n",
    "                ans += (arr[i] - arr[i - 1]) * (arr[i + 1] - arr[i])\n",
    "        return ans\n"
   ]
  },
  {
   "cell_type": "code",
   "execution_count": 11,
   "metadata": {},
   "outputs": [
    {
     "data": {
      "text/plain": [
       "92"
      ]
     },
     "execution_count": 11,
     "metadata": {},
     "output_type": "execute_result"
    }
   ],
   "source": [
    "test = Solution()\n",
    "s = \"LEETCODE\"\n",
    "test.uniqueLetterString(s)"
   ]
  }
 ],
 "metadata": {
  "kernelspec": {
   "display_name": "Python 3.7.6 ('base')",
   "language": "python",
   "name": "python3"
  },
  "language_info": {
   "codemirror_mode": {
    "name": "ipython",
    "version": 3
   },
   "file_extension": ".py",
   "mimetype": "text/x-python",
   "name": "python",
   "nbconvert_exporter": "python",
   "pygments_lexer": "ipython3",
   "version": "3.7.6"
  },
  "vscode": {
   "interpreter": {
    "hash": "01ef5fd295d2f06c799f887d3d5a0aa621984c826cc1e428ccbd852109f922c3"
   }
  }
 },
 "nbformat": 4,
 "nbformat_minor": 2
}
