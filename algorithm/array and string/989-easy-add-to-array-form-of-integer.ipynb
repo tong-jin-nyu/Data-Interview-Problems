{
 "cells": [
  {
   "cell_type": "markdown",
   "metadata": {},
   "source": [
    "# 989 Add to Array-Form of Integer\n",
    "\n",
    "Easy\n",
    "\n",
    "https://leetcode.cn/problems/add-to-array-form-of-integer/\n",
    "\n",
    "Created on: 7/25/2022\n",
    "\n",
    "Modified on: 7/25/2022\n",
    "\n",
    "---\n",
    "\n",
    "The array-form of an integer `num` is an array representing its digits in left to right order.\n",
    "\n",
    "For example, for `num = 1321`, the array form is `[1, 3, 2, 1]`.\n",
    "\n",
    "Given `num`, the array-form of an integer, and an integer `k`, return the array-form of the integer `num + k`.\n",
    "\n",
    "**Example 1:**\n",
    "\n",
    "```\n",
    "Input: num = [1,2,0,0], k = 34\n",
    "Output: [1,2,3,4]\n",
    "Explanation: 1200 + 34 = 1234\n",
    "```\n",
    "\n",
    "**Example 2:**\n",
    "\n",
    "```\n",
    "Input: num = [2,7,4], k = 181\n",
    "Output: [4,5,5]\n",
    "Explanation: 274 + 181 = 455\n",
    "```\n",
    "\n",
    "**Example 3:**\n",
    "\n",
    "```\n",
    "Input: num = [2,1,5], k = 806\n",
    "Output: [1,0,2,1]\n",
    "Explanation: 215 + 806 = 1021\n",
    "```\n",
    "\n",
    "**Constraints:**\n",
    "\n",
    "- 1 <= `nums.length` <= 10^4\n",
    "- 0 <= `nums[i]` <= 9\n",
    "- `num` does not contain any leading zeros except for the zero itself.\n",
    "- 1 <= k <= 10^4\n",
    "\n",
    "---\n"
   ]
  },
  {
   "cell_type": "code",
   "execution_count": 1,
   "metadata": {},
   "outputs": [
    {
     "data": {
      "text/plain": [
       "[4, 5, 5]"
      ]
     },
     "execution_count": 1,
     "metadata": {},
     "output_type": "execute_result"
    }
   ],
   "source": [
    "# String conversion\n",
    "from typing import List\n",
    "\n",
    "\n",
    "class Solution:\n",
    "    def addToArrayForm(self, num: List[int], k: int) -> List[int]:\n",
    "        # Convert num to string\n",
    "        strs = ''.join([str(val) for val in num])\n",
    "        # Convert to integer and sum\n",
    "        res = int(strs) + k\n",
    "        # Convert to array-form\n",
    "        return [int(val) for val in str(res)]\n",
    "\n",
    "\n",
    "# Test\n",
    "test = Solution()\n",
    "test.addToArrayForm(num = [2, 7, 4], k = 181)\n"
   ]
  },
  {
   "cell_type": "code",
   "execution_count": 15,
   "metadata": {},
   "outputs": [
    {
     "data": {
      "text/plain": [
       "[4, 5, 5]"
      ]
     },
     "execution_count": 15,
     "metadata": {},
     "output_type": "execute_result"
    }
   ],
   "source": [
    "# Math\n",
    "from typing import List\n",
    "\n",
    "\n",
    "class Solution:\n",
    "    def addToArrayForm(self, num: List[int], k: int) -> List[int]:\n",
    "        n = len(num)\n",
    "        res = list()\n",
    "\n",
    "        # Add on each level. If carry, the next level should plus one.\n",
    "        for i in range(n - 1, -1, -1):\n",
    "            sum = num[i] + k % 10\n",
    "            k //= 10\n",
    "            if sum >= 10:\n",
    "                k += 1\n",
    "                sum -= 10\n",
    "            res.append(sum)\n",
    "\n",
    "        # Append remaining k\n",
    "        while k > 0:\n",
    "            res.append(k % 10)\n",
    "            k //= 10\n",
    "\n",
    "        # Reverse the array and return\n",
    "        return res[::-1]\n",
    "\n",
    "\n",
    "# Test\n",
    "test = Solution()\n",
    "test.addToArrayForm(num=[2, 7, 4], k=181)\n"
   ]
  }
 ],
 "metadata": {
  "kernelspec": {
   "display_name": "Python 3.9.4 64-bit",
   "language": "python",
   "name": "python3"
  },
  "language_info": {
   "codemirror_mode": {
    "name": "ipython",
    "version": 3
   },
   "file_extension": ".py",
   "mimetype": "text/x-python",
   "name": "python",
   "nbconvert_exporter": "python",
   "pygments_lexer": "ipython3",
   "version": "3.9.4"
  },
  "vscode": {
   "interpreter": {
    "hash": "fc8814d95e3bb7c7d620345642206f617029e5ce3d5941736e486cd8ca8f4058"
   }
  }
 },
 "nbformat": 4,
 "nbformat_minor": 2
}
