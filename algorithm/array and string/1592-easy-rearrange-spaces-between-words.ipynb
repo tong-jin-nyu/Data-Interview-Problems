{
 "cells": [
  {
   "cell_type": "markdown",
   "metadata": {},
   "source": [
    "# 1592 Rearrange Spaces Between Words\n",
    "\n",
    "Easy\n",
    "\n",
    "https://leetcode.cn/problems/rearrange-spaces-between-words/\n",
    "\n",
    "Created on: 9/6/2022\n",
    "\n",
    "Modified on: 9/6/2022\n",
    "\n",
    "---\n",
    "\n",
    "You are given a string `text` of words that are places among some number of spaces. Each word consists of one or more lowercase English letters and are separated by at least one space. It's guaranteed that `text` contains at least one word.\n",
    "\n",
    "Rearrange the spaces so that there is an equal number of spaces between every pair of adjacent words and that number is maximized. If you cannot redistribute all the spaces equally, place the extra spaces at the end, meaning the returned string should be the same length as `text`.\n",
    "\n",
    "Return the string after rearranging the spaces.\n",
    "\n",
    "**Example 1:**\n",
    "\n",
    "```\n",
    "Input: text = \"  this   is  a sentence \"\n",
    "Output: \"this   is   a   sentence\"\n",
    "Explanation: There are a total of 9 spaces and 4 words. We can evenly divide the 9 spaces between the words: 9 / (4-1) = 3 spaces.\n",
    "```\n",
    "\n",
    "**Example 2:**\n",
    "\n",
    "```\n",
    "Input: text = \" practice   makes   perfect\"\n",
    "Output: \"practice   makes   perfect \"\n",
    "Explanation: There are a total of 7 spaces and 3 words. 7 / (3-1) = 3 spaces plus 1 extra space. We place this extra space at the end of the string.\n",
    "```\n",
    "\n",
    "**Constraints:**\n",
    "\n",
    "- 1 <= `text.length` <= 100\n",
    "- `text` consists of lowercase English letters and `' '`.\n",
    "- `text` contains at least one word.\n",
    "\n",
    "---\n"
   ]
  },
  {
   "cell_type": "code",
   "execution_count": 1,
   "metadata": {},
   "outputs": [],
   "source": [
    "class Solution:\n",
    "    def reorderSpaces(self, text: str) -> str:\n",
    "        count = 0\n",
    "        for ch in text:\n",
    "            if ch.isspace():\n",
    "                count += 1\n",
    "        words = text.strip().split()\n",
    "        if len(words) == 1:\n",
    "            n_spaces = 0\n",
    "            extras = count\n",
    "        else:\n",
    "            n_spaces = count // (len(words) - 1)\n",
    "            extras = count % (len(words) - 1)\n",
    "        spaces = ' ' * n_spaces\n",
    "        ans = spaces.join(word for word in words)\n",
    "        return ans + ' ' * extras\n"
   ]
  },
  {
   "cell_type": "code",
   "execution_count": 2,
   "metadata": {},
   "outputs": [
    {
     "data": {
      "text/plain": [
       "'practice   makes   perfect '"
      ]
     },
     "execution_count": 2,
     "metadata": {},
     "output_type": "execute_result"
    }
   ],
   "source": [
    "# Test\n",
    "test = Solution()\n",
    "text = \" practice   makes   perfect\"\n",
    "test.reorderSpaces(text)\n"
   ]
  }
 ],
 "metadata": {
  "kernelspec": {
   "display_name": "Python 3.7.6",
   "language": "python",
   "name": "python3"
  },
  "language_info": {
   "codemirror_mode": {
    "name": "ipython",
    "version": 3
   },
   "file_extension": ".py",
   "mimetype": "text/x-python",
   "name": "python",
   "nbconvert_exporter": "python",
   "pygments_lexer": "ipython3",
   "version": "3.7.6"
  },
  "orig_nbformat": 2,
  "vscode": {
   "interpreter": {
    "hash": "01ef5fd295d2f06c799f887d3d5a0aa621984c826cc1e428ccbd852109f922c3"
   }
  }
 },
 "nbformat": 4,
 "nbformat_minor": 2
}
