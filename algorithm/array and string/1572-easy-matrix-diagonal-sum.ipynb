{
 "cells": [
  {
   "cell_type": "markdown",
   "metadata": {},
   "source": [
    "# 1572 Matrix Diagonal Sum\n",
    "\n",
    "Easy\n",
    "\n",
    "https://leetcode.cn/problems/matrix-diagonal-sum/\n",
    "\n",
    "Created on: 8/10/2024\n",
    "\n",
    "Modified on: 8/10/2024\n",
    "\n",
    "---\n",
    "\n",
    "Given a square matrix `mat`, return the sum of the matrix diagonals.\n",
    "\n",
    "Only include the sum of all the elements on the primary diagonal and all the elements on the \n",
    "secondary diagonal that are not part of the primary diagonal.\n",
    "\n",
    "**Example 1:**\n",
    "\n",
    "![Example 1](https://assets.leetcode.com/uploads/2020/08/14/sample_1911.png)\n",
    "\n",
    "```\n",
    "Input: mat = [[1,2,3],\n",
    "              [4,5,6],\n",
    "              [7,8,9]]\n",
    "Output: 25\n",
    "Explanation: Diagonals sum: 1 + 5 + 9 + 3 + 7 = 25\n",
    "Notice that element mat[1][1] = 5 is counted only once.\n",
    "```\n",
    "\n",
    "**Example 2:**\n",
    "\n",
    "```\n",
    "Input: mat = [[1,1,1,1],\n",
    "              [1,1,1,1],\n",
    "              [1,1,1,1],\n",
    "              [1,1,1,1]]\n",
    "Output: 8\n",
    "```\n",
    "\n",
    "**Example 3:**\n",
    "\n",
    "```\n",
    "Input: mat = [[5]]\n",
    "Output: 5\n",
    "```\n",
    "\n",
    "**Constraints:**\n",
    "\n",
    "- `n == mat.length == mat[i].length`\n",
    "- `1 <= n <= 100`\n",
    "- `1 <= mat[i][j] <= 100`\n",
    "\n",
    "---\n"
   ]
  },
  {
   "cell_type": "markdown",
   "metadata": {
    "vscode": {
     "languageId": "plaintext"
    }
   },
   "source": [
    "# Java\n",
    "\n",
    "``` Java\n",
    "class Solution {\n",
    "    public int diagonalSum(int[][] mat) {\n",
    "        int m = mat.length;\n",
    "        int res = 0;\n",
    "        if (m % 2 == 0) {\n",
    "            for (int i = 0; i < m; i++) {\n",
    "                // Add sum of elements on the primary diagonal.\n",
    "                res += mat[i][i];\n",
    "                // Add sum of elements on the secondary diagonal.\n",
    "                res += mat[i][m - 1 - i];\n",
    "            }\n",
    "        } else {\n",
    "            for (int i = 0; i < m; i++) {\n",
    "                res += mat[i][i];\n",
    "                if (i != Math.ceil(m / 2)) \n",
    "                    res += mat[i][m - 1 - i];\n",
    "            }\n",
    "        }\n",
    "\n",
    "        return res;\n",
    "    }\n",
    "}\n",
    "```"
   ]
  }
 ],
 "metadata": {
  "language_info": {
   "name": "python"
  }
 },
 "nbformat": 4,
 "nbformat_minor": 2
}
