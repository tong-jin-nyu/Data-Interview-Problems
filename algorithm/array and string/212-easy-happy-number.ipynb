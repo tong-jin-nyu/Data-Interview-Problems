{
 "cells": [
  {
   "cell_type": "markdown",
   "metadata": {},
   "source": [
    "# 212 Happy Number\n",
    "\n",
    "Easy\n",
    "\n",
    "https://leetcode.cn/problems/happy-number/\n",
    "\n",
    "Created on: 8/2/2022\n",
    "\n",
    "Modified on: 8/3/2022\n",
    "\n",
    "---\n",
    "\n",
    "Write an algorithm to determine if a number `n` is happy.\n",
    "\n",
    "A happy number is a number defined by the following process:\n",
    "\n",
    "- Starting with any positive integer, replace the number by the sum of the squares of its digits.\n",
    "- Repeat the process until the number equals 1 (where it will stay), or it loops endlessly in a cycle which does not include 1.\n",
    "- Those numbers for which this process ends in 1 are happy.\n",
    "\n",
    "Return `true` if `n` is a happy number, and `false` if not.\n",
    "\n",
    "**Example 1:**\n",
    "\n",
    "``` \n",
    "Input: n = 19\n",
    "Output: true\n",
    "Explanation:\n",
    "12 + 92 = 82\n",
    "82 + 22 = 68\n",
    "62 + 82 = 100\n",
    "12 + 02 + 02 = 1\n",
    "```\n",
    "\n",
    "**Example 2:**\n",
    "\n",
    "```\n",
    "Input: n = 2\n",
    "Output: false\n",
    "```\n",
    "\n",
    "**Constraints:**\n",
    "- 1 <= n <= 2^31 - 1\n",
    "\n",
    "---\n"
   ]
  },
  {
   "cell_type": "code",
   "execution_count": 3,
   "metadata": {},
   "outputs": [],
   "source": [
    "class Solution:\n",
    "    def isHappy(self, n: int) -> bool:\n",
    "        def get_next(num: int) -> int:\n",
    "            total = 0\n",
    "            while num > 0:\n",
    "                digit = num % 10\n",
    "                num = num // 10\n",
    "                total += digit * digit\n",
    "            return total\n",
    "\n",
    "        slow, fast = n, get_next(n)\n",
    "        while slow != fast and fast != 1:\n",
    "            slow = get_next(slow)\n",
    "            fast = get_next(get_next(fast))\n",
    "        return fast == 1\n"
   ]
  },
  {
   "cell_type": "code",
   "execution_count": 5,
   "metadata": {},
   "outputs": [
    {
     "name": "stdout",
     "output_type": "stream",
     "text": [
      "True\n",
      "False\n"
     ]
    }
   ],
   "source": [
    "test = Solution()\n",
    "print(test.isHappy(19))\n",
    "print(test.isHappy(2))"
   ]
  },
  {
   "cell_type": "markdown",
   "metadata": {},
   "source": [
    "---"
   ]
  }
 ],
 "metadata": {
  "kernelspec": {
   "display_name": "Python 3.7.6 ('base')",
   "language": "python",
   "name": "python3"
  },
  "language_info": {
   "codemirror_mode": {
    "name": "ipython",
    "version": 3
   },
   "file_extension": ".py",
   "mimetype": "text/x-python",
   "name": "python",
   "nbconvert_exporter": "python",
   "pygments_lexer": "ipython3",
   "version": "3.7.6"
  },
  "orig_nbformat": 2,
  "vscode": {
   "interpreter": {
    "hash": "01ef5fd295d2f06c799f887d3d5a0aa621984c826cc1e428ccbd852109f922c3"
   }
  }
 },
 "nbformat": 4,
 "nbformat_minor": 2
}
