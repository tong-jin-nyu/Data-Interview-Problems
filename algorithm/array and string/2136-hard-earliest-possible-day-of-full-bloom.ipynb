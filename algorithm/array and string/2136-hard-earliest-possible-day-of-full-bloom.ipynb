{
 "cells": [
  {
   "cell_type": "markdown",
   "metadata": {},
   "source": [
    "# 2136 Earliest Possible Day of Full Bloom\n",
    "\n",
    "Hard\n",
    "\n",
    "https://leetcode.cn/problems/earliest-possible-day-of-full-bloom/\n",
    "\n",
    "Created on: 7/21/2022\n",
    "\n",
    "Modified on: 7/21/2022\n",
    "\n",
    "---\n",
    "\n",
    "You have `n` flower seeds. Every seed must be planted first before it can begin to grow, then bloom. Planting a seed takes time and so does the growth of a seed. You are given two 0-indexed integer arrays, `plantTime` and `growTime`, each of length `n`:\n",
    "\n",
    "- `plantTime[i]` is the number of full days it takes to plant the `ith` seed. Every day, you can work on planting exactly one seed. You do not have to work on planting the same seed consecutively. However, the planting of a seed is not completed until you have worked `plantTime[i]` days on planting it in total.\n",
    "- `growTime[i]` is the number of full days it takes the `ith` seed to grow after being completely planted. After the last day of its growth, the flower blooms and stays bloomed forever.\n",
    "\n",
    "From the beeginning of day `0`, you can plant the seeds in any order.\n",
    "\n",
    "Return the earliest possible day where all seeds are blooming.\n",
    "\n",
    "**Example 1:**\n",
    "\n",
    "![example-1](https://assets.leetcode.com/uploads/2021/12/21/1.png)\n",
    "\n",
    "```\n",
    "Input: plantTime = [1,4,3], growTime = [2,3,1]\n",
    "Output: 9\n",
    "Explanation: The grayed out pots represent planting days, colored pots represent growing days, and the flower represents the day it blooms.\n",
    "One optimal way is:\n",
    "On day 0, plant the 0th seed. The seed grows for 2 full days and blooms on day 3.\n",
    "On days 1, 2, 3, and 4, plant the 1st seed. The seed grows for 3 full days and blooms on day 8.\n",
    "On days 5, 6, and 7, plant the 2nd seed. The seed grows for 1 full day and blooms on day 9.\n",
    "Thus, on day 9, all the seeds are blooming.\n",
    "```\n",
    "\n",
    "**Example 2:**\n",
    "\n",
    "![example-2](https://assets.leetcode.com/uploads/2021/12/21/2.png)\n",
    "\n",
    "```\n",
    "Input: plantTime = [1,2,3,2], growTime = [2,1,2,1]\n",
    "Output: 9\n",
    "Explanation: The grayed out pots represent planting days, colored pots represent growing days, and the flower represents the day it blooms.\n",
    "One optimal way is:\n",
    "On day 1, plant the 0th seed. The seed grows for 2 full days and blooms on day 4.\n",
    "On days 0 and 3, plant the 1st seed. The seed grows for 1 full day and blooms on day 5.\n",
    "On days 2, 4, and 5, plant the 2nd seed. The seed grows for 2 full days and blooms on day 8.\n",
    "On days 6 and 7, plant the 3rd seed. The seed grows for 1 full day and blooms on day 9.\n",
    "Thus, on day 9, all the seeds are blooming.\n",
    "```\n",
    "\n",
    "**Example 3:**\n",
    "\n",
    "```\n",
    "Input: plantTime = [1], growTime = [1]\n",
    "Output: 2\n",
    "Explanation: On day 0, plant the 0th seed. The seed grows for 1 full day and blooms on day 2.\n",
    "Thus, on day 2, all the seeds are blooming.\n",
    "```\n",
    "\n",
    "**Constraints:**\n",
    "- n == `plantTime.length` == `growTime.length`\n",
    "- 1 <= n <= 10^5\n",
    "- 1 <= `plantTime[i], growTime[i]` <= 10^4\n",
    "\n",
    "---\n"
   ]
  },
  {
   "cell_type": "code",
   "execution_count": 2,
   "metadata": {},
   "outputs": [
    {
     "data": {
      "text/plain": [
       "9"
      ]
     },
     "execution_count": 2,
     "metadata": {},
     "output_type": "execute_result"
    }
   ],
   "source": [
    "from typing import List\n",
    "\n",
    "\n",
    "class Solution:\n",
    "    def earliestFullBloom(self, plantTime: List[int], growTime: List[int]) -> int:\n",
    "        n = len(plantTime)\n",
    "        index = list(range(n))\n",
    "        index.sort(key=lambda i: -growTime[i])\n",
    "\n",
    "        ans = cur = 0\n",
    "        for i in index:\n",
    "            cur += plantTime[i]\n",
    "            total = cur + growTime[i]\n",
    "            if total > ans:\n",
    "                ans = total\n",
    "\n",
    "        return ans\n",
    "\n",
    "\n",
    "# Test\n",
    "test = Solution()\n",
    "plantTime = [1, 2, 3, 2]\n",
    "growTime  = [2, 1, 2, 1]\n",
    "test.earliestFullBloom(plantTime, growTime)"
   ]
  }
 ],
 "metadata": {
  "kernelspec": {
   "display_name": "Python 3.9.4 64-bit",
   "language": "python",
   "name": "python3"
  },
  "language_info": {
   "codemirror_mode": {
    "name": "ipython",
    "version": 3
   },
   "file_extension": ".py",
   "mimetype": "text/x-python",
   "name": "python",
   "nbconvert_exporter": "python",
   "pygments_lexer": "ipython3",
   "version": "3.9.4"
  },
  "orig_nbformat": 2,
  "vscode": {
   "interpreter": {
    "hash": "fc8814d95e3bb7c7d620345642206f617029e5ce3d5941736e486cd8ca8f4058"
   }
  }
 },
 "nbformat": 4,
 "nbformat_minor": 2
}
