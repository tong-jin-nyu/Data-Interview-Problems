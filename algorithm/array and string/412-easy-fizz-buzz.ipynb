{
 "cells": [
  {
   "cell_type": "markdown",
   "metadata": {},
   "source": [
    "# 412 Fizz Buzz\n",
    "\n",
    "Easy\n",
    "\n",
    "https://leetcode.cn/problems/fizz-buzz/\n",
    "\n",
    "Created on: 8/25/2022\n",
    "\n",
    "Modified on: 8/25/2022\n",
    "\n",
    "---\n",
    "\n",
    "Given an integer `n`, return a string array `answer` (1-indexed) where:\n",
    "\n",
    "- `answer[i] == \"FizzBuzz` if `i` is divisible by `3` and `5`.\n",
    "- `answer[i] == \"Fizz\"` if `i` is divisible by `3`.\n",
    "- `answer[i] == \"Buzz\"` if `i` is divisible by `5`.\n",
    "- `answer[i] == i` (as a string) if none of the above conditions are true.\n",
    "\n",
    "**Example 1:**\n",
    "\n",
    "```\n",
    "Input: n = 3\n",
    "Output: [\"1\",\"2\",\"Fizz\"]\n",
    "```\n",
    "\n",
    "**Example 2:**\n",
    "\n",
    "```\n",
    "Input: n = 5\n",
    "Output: [\"1\",\"2\",\"Fizz\",\"4\",\"Buzz\"]\n",
    "```\n",
    "\n",
    "**Example 3:**\n",
    "\n",
    "```\n",
    "Input: n = 15\n",
    "Output: [\"1\",\"2\",\"Fizz\",\"4\",\"Buzz\",\"Fizz\",\"7\",\"8\",\"Fizz\",\"Buzz\",\"11\",\"Fizz\",\"13\",\"14\",\"FizzBuzz\"]\n",
    "```\n",
    "\n",
    "**Constraints:**\n",
    "- 1 <= n <= 10^4\n",
    "\n",
    "---\n"
   ]
  },
  {
   "cell_type": "code",
   "execution_count": 2,
   "metadata": {},
   "outputs": [],
   "source": [
    "from typing import List\n",
    "\n",
    "\n",
    "class Solution:\n",
    "    def fizzBuzz(self, n: int) -> List[str]:\n",
    "        ans = []\n",
    "        count = 1\n",
    "        while count <= n:\n",
    "            if count % 3 == 0 and count % 5 == 0:\n",
    "                ans.append(\"FizzBuzz\")\n",
    "            elif count % 3 == 0:\n",
    "                ans.append(\"Fizz\")\n",
    "            elif count % 5 == 0:\n",
    "                ans.append(\"Buzz\")\n",
    "            else:\n",
    "                ans.append(str(count))\n",
    "            count += 1\n",
    "        return ans\n"
   ]
  },
  {
   "cell_type": "code",
   "execution_count": 4,
   "metadata": {},
   "outputs": [
    {
     "data": {
      "text/plain": [
       "['1',\n",
       " '2',\n",
       " 'Fizz',\n",
       " '4',\n",
       " 'Buzz',\n",
       " 'Fizz',\n",
       " '7',\n",
       " '8',\n",
       " 'Fizz',\n",
       " 'Buzz',\n",
       " '11',\n",
       " 'Fizz',\n",
       " '13',\n",
       " '14',\n",
       " 'FizzBuzz']"
      ]
     },
     "execution_count": 4,
     "metadata": {},
     "output_type": "execute_result"
    }
   ],
   "source": [
    "test = Solution()\n",
    "n = 15\n",
    "test.fizzBuzz(n)"
   ]
  }
 ],
 "metadata": {
  "kernelspec": {
   "display_name": "Python 3.7.6 ('base')",
   "language": "python",
   "name": "python3"
  },
  "language_info": {
   "codemirror_mode": {
    "name": "ipython",
    "version": 3
   },
   "file_extension": ".py",
   "mimetype": "text/x-python",
   "name": "python",
   "nbconvert_exporter": "python",
   "pygments_lexer": "ipython3",
   "version": "3.7.6"
  },
  "orig_nbformat": 2,
  "vscode": {
   "interpreter": {
    "hash": "01ef5fd295d2f06c799f887d3d5a0aa621984c826cc1e428ccbd852109f922c3"
   }
  }
 },
 "nbformat": 4,
 "nbformat_minor": 2
}
