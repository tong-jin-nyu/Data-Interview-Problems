{
 "cells": [
  {
   "cell_type": "markdown",
   "metadata": {},
   "source": [
    "# 053 Maximum Subarray\n",
    "\n",
    "Easy\n",
    "\n",
    "https://leetcode.cn/problems/maximum-subarray/\n",
    "\n",
    "Created on: 11/4/2021\n",
    "\n",
    "Modified on: 7/21/2022\n",
    "\n",
    "---\n",
    "\n",
    "Given an integer array `nums`, find the contiguous subarray (containing at least one number) which has the largest sum and return its sum.\n",
    "\n",
    "A **subarray** is a **contiguous** part of an array\n",
    "\n",
    "**Example 1:**\n",
    "\n",
    "```\n",
    "Input: nums = [-2,1,-3,4,-1,2,1,-5,4]\n",
    "Output: 6\n",
    "Explanation: [4,-1,2,1] has the largest sum = 6.\n",
    "```\n",
    "\n",
    "**Example 2:**\n",
    "\n",
    "```\n",
    "Input: nums = [1]\n",
    "Output: 1\n",
    "```\n",
    "\n",
    "**Example 3:**\n",
    "\n",
    "```\n",
    "Input: nums = [5,4,-1,7,8]\n",
    "Output: 23\n",
    "```\n",
    "\n",
    "**Constraints:**\n",
    "\n",
    "- $1 \\leq \\text{nums.length} \\leq 10^{5}$\n",
    "- $-10^{4} \\leq \\text{nums[i]} \\leq 10^{4}$\n",
    "\n",
    "**Follow up:** If you have figured out the `O(n)` solution, try coding another solution using the **divide and conquer** approach, which is more subtle.\n",
    "\n",
    "---\n"
   ]
  },
  {
   "cell_type": "markdown",
   "metadata": {},
   "source": [
    "### Solutions"
   ]
  },
  {
   "cell_type": "code",
   "execution_count": 1,
   "metadata": {},
   "outputs": [
    {
     "name": "stdout",
     "output_type": "stream",
     "text": [
      "6\n",
      "8\n",
      "10\n"
     ]
    }
   ],
   "source": [
    "from typing import List\n",
    "\n",
    "class Solution:\n",
    "    def maxSubArray(self, nums: List[int]) -> int:\n",
    "        for idx in range(1, len(nums)):\n",
    "            if nums[idx-1] > 0:\n",
    "                nums[idx] += nums[idx-1]\n",
    "\n",
    "        return max(nums)\n",
    "\n",
    "# Test\n",
    "test = Solution()\n",
    "print(test.maxSubArray(nums=[-2, 1, -3, 4, -1, 2, 1, -5, 4]))\n",
    "print(test.maxSubArray(nums=[-3, 0, 3, 5]))\n",
    "print(test.maxSubArray(nums=[5, 0, 5]))\n"
   ]
  },
  {
   "cell_type": "markdown",
   "metadata": {},
   "source": [
    "### Explanations\n",
    "\n",
    "We can use dynamic programming to solve this problem. Consider the following example:\n",
    "\n",
    "``` python\n",
    "nums = [-2, 1, -3, 4, -1, 2, 1, -5, 4]\n",
    "```\n",
    "\n",
    "We first want to get rid of negative values because they are not helpful in forming the subarray with largest sum value. Therefore, instead of including `[-2, 1]` into the subarray, we'd rather just take `[1]`. \n",
    "\n",
    "Next, starting at the second value, we can get the sum of the value with the prior value. A positive prior value means that it is helpful. A negative prior value indicates that we should simply replace it with zero.\n",
    "\n",
    "``` python\n",
    "nums  = [-2, 1, -3, 4, -1, 2, 1, -5, 4]\n",
    "# If negative, replace with zero.\n",
    "sums  = [  , 1, -2, 4,  3, 5, 6,  1, 5]\n",
    "```\n",
    "\n",
    "Finally, we can just return the maximum of `sums` to get the desired answer."
   ]
  },
  {
   "cell_type": "markdown",
   "metadata": {},
   "source": [
    "---"
   ]
  }
 ],
 "metadata": {
  "kernelspec": {
   "display_name": "Python 3.7.6 ('base')",
   "language": "python",
   "name": "python3"
  },
  "language_info": {
   "codemirror_mode": {
    "name": "ipython",
    "version": 3
   },
   "file_extension": ".py",
   "mimetype": "text/x-python",
   "name": "python",
   "nbconvert_exporter": "python",
   "pygments_lexer": "ipython3",
   "version": "3.7.6"
  },
  "orig_nbformat": 2,
  "vscode": {
   "interpreter": {
    "hash": "01ef5fd295d2f06c799f887d3d5a0aa621984c826cc1e428ccbd852109f922c3"
   }
  }
 },
 "nbformat": 4,
 "nbformat_minor": 2
}
