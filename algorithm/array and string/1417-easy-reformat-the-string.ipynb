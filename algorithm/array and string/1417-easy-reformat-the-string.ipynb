{
 "cells": [
  {
   "cell_type": "markdown",
   "metadata": {},
   "source": [
    "# 1417 Reformat the String\n",
    "\n",
    "Easy\n",
    "\n",
    "https://leetcode.cn/problems/reformat-the-string/\n",
    "\n",
    "Created on: 8/10/2022\n",
    "\n",
    "Modified on: 8/10/2022\n",
    "\n",
    "---\n",
    "\n",
    "You are given an alphanumeric string `s`. (Alphanumeric string is a string consisting of lowercase English letters and digits).\n",
    "\n",
    "You have to find a permutation of the string where no letter is followed by another letter and no digit is followed by another digit. That is, no two adjacent characters have the same type.\n",
    "\n",
    "Return the reformatted string of return an empty string if it is impossible to reformat the string.\n",
    "\n",
    "**Example 1:**\n",
    "\n",
    "```\n",
    "Input: s = \"a0b1c2\"\n",
    "Output: \"0a1b2c\"\n",
    "Explanation: No two adjacent characters have the same type in \"0a1b2c\". \"a0b1c2\", \"0a1b2c\", \"0c2a1b\" are also valid permutations.\n",
    "```\n",
    "\n",
    "**Example 2:**\n",
    "\n",
    "```\n",
    "Input: s = \"leetcode\"\n",
    "Output: \"\"\n",
    "Explanation: \"leetcode\" has only characters so we cannot separate them by digits.\n",
    "```\n",
    "\n",
    "**Example 3:**\n",
    "\n",
    "```\n",
    "Input: s = \"1229857369\"\n",
    "Output: \"\"\n",
    "Explanation: \"1229857369\" has only digits so we cannot separate them by characters.\n",
    "```\n",
    "\n",
    "**Constraints:**\n",
    "\n",
    "- 1 <= `s.length` <= 500\n",
    "- `s` consists of only lowercase English letters and/or digits.\n",
    "\n",
    "---\n"
   ]
  },
  {
   "cell_type": "code",
   "execution_count": 1,
   "metadata": {},
   "outputs": [],
   "source": [
    "class Solution:\n",
    "    def reformat(self, s: str) -> str:\n",
    "        letters, nums = [], []\n",
    "        ans = ''\n",
    "        for ch in s:\n",
    "            if ch.isalpha():\n",
    "                letters.append(ch)\n",
    "            else:\n",
    "                nums.append(ch)\n",
    "        if abs(len(letters) - len(nums)) > 1:\n",
    "            return ans\n",
    "        else:\n",
    "            if len(letters) > len(nums):\n",
    "                letters, nums = nums, letters\n",
    "            i = 0\n",
    "            while i < len(nums):\n",
    "                ans += nums[i]\n",
    "                if i < len(letters):\n",
    "                    ans += letters[i]\n",
    "                i += 1\n",
    "            return ans\n"
   ]
  },
  {
   "cell_type": "code",
   "execution_count": 2,
   "metadata": {},
   "outputs": [
    {
     "data": {
      "text/plain": [
       "'0l8e1e0t2c0o2d2e'"
      ]
     },
     "execution_count": 2,
     "metadata": {},
     "output_type": "execute_result"
    }
   ],
   "source": [
    "# Test\n",
    "test = Solution()\n",
    "s = 'leetcode08102022'\n",
    "test.reformat(s)\n"
   ]
  },
  {
   "cell_type": "markdown",
   "metadata": {},
   "source": [
    "---"
   ]
  }
 ],
 "metadata": {
  "kernelspec": {
   "display_name": "Python 3.9.4 64-bit",
   "language": "python",
   "name": "python3"
  },
  "language_info": {
   "codemirror_mode": {
    "name": "ipython",
    "version": 3
   },
   "file_extension": ".py",
   "mimetype": "text/x-python",
   "name": "python",
   "nbconvert_exporter": "python",
   "pygments_lexer": "ipython3",
   "version": "3.9.4"
  },
  "orig_nbformat": 2,
  "vscode": {
   "interpreter": {
    "hash": "fc8814d95e3bb7c7d620345642206f617029e5ce3d5941736e486cd8ca8f4058"
   }
  }
 },
 "nbformat": 4,
 "nbformat_minor": 2
}
