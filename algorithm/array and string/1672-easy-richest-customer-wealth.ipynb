{
 "cells": [
  {
   "cell_type": "markdown",
   "metadata": {},
   "source": [
    "# 1672 Richest Customer Wealth\n",
    "\n",
    "Easy\n",
    "\n",
    "https://leetcode.cn/problems/richest-customer-wealth/\n",
    "\n",
    "Created on: 8/10/2024\n",
    "\n",
    "Modified on: 8/10/2024\n",
    "\n",
    "---\n",
    "\n",
    "You are given an `m x n` integer grid `accounts` where `accounts[i][j]` is the amount of money the `i​​​​​​​​​​​th`​​​​ customer has in the `j​​​​​​​​​​​th​​​​` bank. Return the wealth that the richest customer has.\n",
    "\n",
    "A customer's wealth is the amount of money they have in all their bank accounts. The richest customer is the customer that has the maximum wealth.\n",
    "\n",
    "**Example 1:**\n",
    "\n",
    "```\n",
    "Input: accounts = [[1,2,3],[3,2,1]]\n",
    "Output: 6\n",
    "Explanation:\n",
    "1st customer has wealth = 1 + 2 + 3 = 6\n",
    "2nd customer has wealth = 3 + 2 + 1 = 6\n",
    "Both customers are considered the richest with a wealth of 6 each, so return 6.\n",
    "```\n",
    "\n",
    "**Example 2:**\n",
    "\n",
    "```\n",
    "Input: accounts = [[1,5],[7,3],[3,5]]\n",
    "Output: 10\n",
    "Explanation: \n",
    "1st customer has wealth = 6\n",
    "2nd customer has wealth = 10 \n",
    "3rd customer has wealth = 8\n",
    "The 2nd customer is the richest with a wealth of 10.\n",
    "```\n",
    "\n",
    "**Example 3:**\n",
    "\n",
    "```\n",
    "Input: accounts = [[2,8,7],[7,1,3],[1,9,5]]\n",
    "Output: 17\n",
    "```\n",
    "\n",
    "**Constraints:**\n",
    "\n",
    "- `m == accounts.length`\n",
    "- `n == accounts[i].length`\n",
    "- `1 <= m, n <= 50`\n",
    "- `1 <= accounts[i][j] <= 100`\n",
    "\n",
    "---\n"
   ]
  },
  {
   "cell_type": "markdown",
   "metadata": {
    "vscode": {
     "languageId": "plaintext"
    }
   },
   "source": [
    "# Java - solution 1, basic \n",
    "\n",
    "``` java\n",
    "class Solution {\n",
    "    public int maximumWealth(int[][] accounts) {\n",
    "        \n",
    "        int richest = 0;\n",
    "        int n = accounts.length;\n",
    "\n",
    "        for (int i = 0; i < n; i++) {\n",
    "            int amounts = 0;\n",
    "            for (int amount : accounts[i]) {\n",
    "                amounts += amount;\n",
    "            }\n",
    "            if (amounts > richest)\n",
    "                richest = amounts;\n",
    "            amounts = 0;\n",
    "        }\n",
    "        return richest;   \n",
    "    }\n",
    "}\n",
    "```"
   ]
  },
  {
   "cell_type": "markdown",
   "metadata": {},
   "source": [
    "# Java - solution 2, library\n",
    "\n",
    "``` java\n",
    "class Solution {\n",
    "    public int maximumWealth(int[][] accounts) {\n",
    "        \n",
    "        int richest = 0;\n",
    "        for (int[] account : accounts) {\n",
    "            richest = Math.max(richest, Arrays.stream(account).sum());\n",
    "        }\n",
    "        return richest;\n",
    "    }\n",
    "}\n",
    "```"
   ]
  },
  {
   "cell_type": "code",
   "execution_count": null,
   "metadata": {
    "vscode": {
     "languageId": "plaintext"
    }
   },
   "outputs": [],
   "source": []
  }
 ],
 "metadata": {
  "language_info": {
   "name": "python"
  }
 },
 "nbformat": 4,
 "nbformat_minor": 2
}
