{
 "cells": [
  {
   "cell_type": "markdown",
   "metadata": {},
   "source": [
    "# 027 Remove Element\n",
    "\n",
    "Easy\n",
    "\n",
    "https://leetcode.cn/problems/remove-element\n",
    "\n",
    "Created on: 7/3/2020\n",
    "\n",
    "Modified on: 7/12/2022\n",
    "\n",
    "---\n",
    "\n",
    "Given an array `nums` and a value `val`, remove all instances of that value in-place and return the new length.\n",
    "\n",
    "Do not allocate extra space for another array, you must do this by **modifying the input array** in-place with O(1) extra memory. \n",
    "\n",
    "The order of elements can be changed. It doesn't matter what you leave beyond the new length.\n",
    "\n",
    "**Example 1:**\n",
    "\n",
    "```\n",
    "Given nums = [3,2,2,3], val = 3,\n",
    "\n",
    "Your function should return length = 2, with the first two elements of nums being 2.\n",
    "\n",
    "It doesn't matter what you leave beyond the returned length.\n",
    "```\n",
    "\n",
    "**Example 2:**\n",
    "\n",
    "```\n",
    "Given nums = [0,1,2,2,3,0,4,2], val = 2,\n",
    "\n",
    "Your function should return length = 5, with the first five elements of nums containing 0, 1, 3, 0, and 4.\n",
    "\n",
    "Note that the order of those five elements can be arbitrary.\n",
    "\n",
    "It doesn't matter what values are set beyond the returned length.\n",
    "```\n",
    "\n",
    "**Clarification:**\n",
    "\n",
    "Confused why the returned value is an integer but your answer is an array?\n",
    "\n",
    "Note that the input array is passed in by **reference**, which means modification to the input array will be known to the caller as well.\n",
    "\n",
    "Internally you can think of this:\n",
    "\n",
    "```\n",
    "// nums is passed in by reference. (i.e., without making a copy)\n",
    "int len = removeElement(nums, val);\n",
    "\n",
    "// any modification to nums in your function would be known by the caller.\n",
    "// using the length returned by your function, it prints the first len elements.\n",
    "for (int i = 0; i < len; i++) {\n",
    "    print(nums[i]);\n",
    "}\n",
    "```\n",
    "\n",
    "---\n"
   ]
  },
  {
   "cell_type": "code",
   "execution_count": 1,
   "metadata": {},
   "outputs": [
    {
     "name": "stdout",
     "output_type": "stream",
     "text": [
      "2\n",
      "5\n"
     ]
    }
   ],
   "source": [
    "# Remove element\n",
    "class Solution:\n",
    "    def removeElement(nums, val):\n",
    "        slow, fast = 0, 0\n",
    "        n = len(nums)\n",
    "\n",
    "        while fast < n:\n",
    "            if nums[fast] != val:\n",
    "                nums[slow] = nums[fast]\n",
    "                slow += 1\n",
    "            fast += 1\n",
    "        \n",
    "        return slow\n",
    "        \n",
    "# Test\n",
    "nums = [3,2,2,3]\n",
    "val = 3\n",
    "print(Solution.removeElement(nums, val))\n",
    "\n",
    "nums = [0,1,2,2,3,0,4,2]\n",
    "val = 2\n",
    "print(Solution.removeElement(nums, val))"
   ]
  },
  {
   "cell_type": "markdown",
   "metadata": {},
   "source": [
    "### Explanation"
   ]
  },
  {
   "cell_type": "markdown",
   "metadata": {},
   "source": [
    "I choose to continue using the two pointers method to solve this problem. The logic is to use a for-in loop to test if each element is equal to the target value. If not, assign the value to the first element using the `count` variable. Then, we increase the `count` by 1. Finally, we will use `count` as the output length of array. We can also use `count` for indexing.\n",
    "\n",
    "Just like removing elements from a sorted array, we start by creating two variables for indexing. Then, we use a for-in loop to get all elements that are not equal to the `val`. Then, from the start position of the array, we reassign each element with new values using `count`. After each assignment, we increase the value of `count` by 1. Finally, we output the value of `count`."
   ]
  },
  {
   "cell_type": "code",
   "execution_count": 3,
   "metadata": {},
   "outputs": [
    {
     "name": "stdout",
     "output_type": "stream",
     "text": [
      "2\n",
      "5\n"
     ]
    }
   ],
   "source": [
    "# Remove element\n",
    "class Solution:\n",
    "    def removeElement(nums, val):\n",
    "        while val in nums:\n",
    "            nums.remove(val)\n",
    "\n",
    "        return len(nums)\n",
    "\n",
    "\n",
    "# Test\n",
    "nums = [3, 2, 2, 3]\n",
    "val = 3\n",
    "print(Solution.removeElement(nums, val))\n",
    "\n",
    "nums = [0, 1, 2, 2, 3, 0, 4, 2]\n",
    "val = 2\n",
    "print(Solution.removeElement(nums, val))"
   ]
  }
 ],
 "metadata": {
  "kernelspec": {
   "display_name": "Python 3.7.6 ('base')",
   "language": "python",
   "name": "python3"
  },
  "language_info": {
   "codemirror_mode": {
    "name": "ipython",
    "version": 3
   },
   "file_extension": ".py",
   "mimetype": "text/x-python",
   "name": "python",
   "nbconvert_exporter": "python",
   "pygments_lexer": "ipython3",
   "version": "3.7.6"
  },
  "vscode": {
   "interpreter": {
    "hash": "01ef5fd295d2f06c799f887d3d5a0aa621984c826cc1e428ccbd852109f922c3"
   }
  }
 },
 "nbformat": 4,
 "nbformat_minor": 2
}
