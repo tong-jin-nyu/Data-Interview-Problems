{
 "cells": [
  {
   "cell_type": "markdown",
   "metadata": {},
   "source": [
    "# 896 Monotonic Array\n",
    "\n",
    "Easy\n",
    "\n",
    "https://leetcode.cn/problems/monotonic-array/\n",
    "\n",
    "Created on: 8/12/2024\n",
    "\n",
    "Modified on: 8/12/2024\n",
    "\n",
    "---\n",
    "\n",
    "An array is **monotonic** if it is either monotone increasing or monotone decreasing.\n",
    "\n",
    "An array `nums` is monotone increasing if for all `i <= j`, `nums[i] <= nums[j]`. An array `nums` \n",
    "is monotone decreasing if for all `i <= j`, `nums[i] >= nums[j]`.\n",
    "\n",
    "Given an integer array `nums`, return `true` if the given array is monotonic, or `false` otherwise.\n",
    "\n",
    "**Example 1:**\n",
    "\n",
    "```\n",
    "Input: nums = [1,2,2,3]\n",
    "Output: true\n",
    "```\n",
    "\n",
    "**Example 2:**\n",
    "\n",
    "```\n",
    "Input: nums = [6,5,4,4]\n",
    "Output: true\n",
    "```\n",
    "\n",
    "**Example 3:**\n",
    "\n",
    "```\n",
    "Input: nums = [1,3,2]\n",
    "Output: false\n",
    "```\n",
    "\n",
    "**Constraints:**\n",
    "\n",
    "- 1 <= `n.length` <= 100000\n",
    "- `-10^5 <= nums[i] <= 10^5`\n",
    "\n",
    "---\n"
   ]
  },
  {
   "cell_type": "markdown",
   "metadata": {},
   "source": [
    "# Java\n",
    "\n",
    "``` Java\n",
    "class Solution {\n",
    "    public boolean isMonotonic(int[] nums) {\n",
    "        int n = nums.length;\n",
    "        boolean is_ascending = true, is_decending = true;\n",
    "\n",
    "        for (int i = 0; i < n - 1; i++) {\n",
    "            if (nums[i] > nums[i + 1])\n",
    "                is_ascending = false;\n",
    "            if (nums[i] < nums[i + 1])\n",
    "                is_decending = false;\n",
    "        }\n",
    "\n",
    "        return is_ascending || is_decending;\n",
    "    }\n",
    "}\n",
    "```"
   ]
  }
 ],
 "metadata": {
  "language_info": {
   "name": "python"
  }
 },
 "nbformat": 4,
 "nbformat_minor": 2
}
