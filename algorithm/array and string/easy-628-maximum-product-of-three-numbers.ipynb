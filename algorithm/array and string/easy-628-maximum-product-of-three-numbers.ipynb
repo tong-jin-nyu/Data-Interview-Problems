{
 "cells": [
  {
   "cell_type": "markdown",
   "metadata": {},
   "source": [
    "# 628 Maximum Product of Three Numbers\n",
    "\n",
    "Easy\n",
    "\n",
    "Created on: 7/5/2022\n",
    "\n",
    "Modified on: 7/5/2022\n",
    "\n",
    "---\n",
    "\n",
    "Given an integer array `nums`, find three numbers whose product is maximum and return the maximum product.\n",
    "\n",
    "**Example 1:**\n",
    "\n",
    "```\n",
    "Input: nums = [1,2,3]\n",
    "Output: 6\n",
    "```\n",
    "\n",
    "**Example 2:**\n",
    "\n",
    "```\n",
    "Input: nums = [1,2,3,4]\n",
    "Output: 24\n",
    "```\n",
    "\n",
    "**Example 3:**\n",
    "\n",
    "```\n",
    "Input: nums = [-1,-2,-3]\n",
    "Output: -6\n",
    "```\n",
    "\n",
    "**Constraints:**\n",
    "- 3 <= `nums.length` <= 10^4\n",
    "- -1000 <= `nums[i]` <= 1000\n",
    "\n",
    "---\n"
   ]
  },
  {
   "cell_type": "code",
   "execution_count": 6,
   "metadata": {},
   "outputs": [
    {
     "name": "stdout",
     "output_type": "stream",
     "text": [
      "6\n",
      "24\n",
      "39200\n"
     ]
    }
   ],
   "source": [
    "from typing import List\n",
    "\n",
    "\n",
    "class Solution:\n",
    "    def maximumProduct(self, nums: List[int]) -> int:\n",
    "        nums.sort()\n",
    "\n",
    "        # If all positive\n",
    "        output1 = nums[-3] * nums[-2] * nums[-1]\n",
    "        # If mixed with positive and negative\n",
    "        output2 = nums[0] * nums[1] * nums[-1]\n",
    "\n",
    "        return max(output1, output2)\n",
    "\n",
    "\n",
    "# Test\n",
    "test = Solution()\n",
    "nums = [1, 2, 3]\n",
    "print(test.maximumProduct(nums))\n",
    "\n",
    "nums = [1, 2, 3, 4]\n",
    "print(test.maximumProduct(nums))\n",
    "\n",
    "nums = [-100, -98, -1, 2, 3, 4]\n",
    "print(test.maximumProduct(nums))\n"
   ]
  },
  {
   "cell_type": "code",
   "execution_count": 7,
   "metadata": {},
   "outputs": [
    {
     "name": "stdout",
     "output_type": "stream",
     "text": [
      "6\n",
      "24\n",
      "39200\n"
     ]
    }
   ],
   "source": [
    "from typing import List\n",
    "\n",
    "\n",
    "class Solution:\n",
    "    def maximumProduct(self, nums: List[int]) -> int:\n",
    "        min1 = min2 = 1000\n",
    "        max1 = max2 = max3 = -1000\n",
    "        n = len(nums)\n",
    "\n",
    "        for i in range(n):\n",
    "            if nums[i] < min2:\n",
    "                min2 = nums[i]\n",
    "                if nums[i] < min1:\n",
    "                    min2 = min1\n",
    "                    min1 = nums[i]\n",
    "\n",
    "            if nums[i] > max3:\n",
    "                max3 = nums[i]\n",
    "                if nums[i] > max2:\n",
    "                    max3 = max2\n",
    "                    max2 = nums[i]\n",
    "                    if nums[i] > max1:\n",
    "                        max2 = max1\n",
    "                        max1 = nums[i]\n",
    "\n",
    "        return max(max1 * max2 * max3, min1 * min2 * max1)\n",
    "\n",
    "\n",
    "# Test\n",
    "test = Solution()\n",
    "nums = [1, 2, 3]\n",
    "print(test.maximumProduct(nums))\n",
    "\n",
    "nums = [1, 2, 3, 4]\n",
    "print(test.maximumProduct(nums))\n",
    "\n",
    "nums = [-100, -98, -1, 2, 3, 4]\n",
    "print(test.maximumProduct(nums))\n"
   ]
  }
 ],
 "metadata": {
  "kernelspec": {
   "display_name": "Python 3.9.4 64-bit",
   "language": "python",
   "name": "python3"
  },
  "language_info": {
   "codemirror_mode": {
    "name": "ipython",
    "version": 3
   },
   "file_extension": ".py",
   "mimetype": "text/x-python",
   "name": "python",
   "nbconvert_exporter": "python",
   "pygments_lexer": "ipython3",
   "version": "3.9.4"
  },
  "orig_nbformat": 2,
  "vscode": {
   "interpreter": {
    "hash": "fc8814d95e3bb7c7d620345642206f617029e5ce3d5941736e486cd8ca8f4058"
   }
  }
 },
 "nbformat": 4,
 "nbformat_minor": 2
}
