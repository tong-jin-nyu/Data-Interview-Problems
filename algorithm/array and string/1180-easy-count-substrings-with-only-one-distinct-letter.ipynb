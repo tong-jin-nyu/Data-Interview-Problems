{
 "cells": [
  {
   "cell_type": "markdown",
   "metadata": {},
   "source": [
    "# 1180 Count Substrings with Only One Distinct Letter\n",
    "\n",
    "Easy\n",
    "\n",
    "https://leetcode.cn/problems/count-substrings-with-only-one-distinct-letter/\n",
    "\n",
    "Created on: 9/30/2024\n",
    "\n",
    "Modified on: 9/30/2024\n",
    "\n",
    "---\n",
    "\n",
    "Given a string `s`, return the number of substrings that have only one distinct letter.\n",
    "\n",
    "**Example 1:**\n",
    "\n",
    "```\n",
    "Input: s = \"aaaba\"\n",
    "Output: 8\n",
    "Explanation: The substrings with one distinct letter are \"aaa\", \"aa\", \"a\", \"b\".\n",
    "\"aaa\" occurs 1 time.\n",
    "\"aa\" occurs 2 times.\n",
    "\"a\" occurs 4 times.\n",
    "\"b\" occurs 1 time.\n",
    "So the answer is 1 + 2 + 4 + 1 = 8.\n",
    "```\n",
    "\n",
    "**Example 2:**\n",
    "\n",
    "```\n",
    "Input: s = \"aaaaaaaaaa\"\n",
    "Output: 55\n",
    "```\n",
    "\n",
    "**Constraints:**\n",
    "\n",
    "- `1 <= s.length <= 1000`\n",
    "- `s[i]` consists of only lowercase English letters.\n",
    "\n",
    "---"
   ]
  },
  {
   "cell_type": "markdown",
   "metadata": {},
   "source": [
    "# Java\n",
    "\n",
    "``` Java\n",
    "class Solution {\n",
    "    public int countLetters(String s) {\n",
    "        int n = s.length();\n",
    "        int cnt = 1;\n",
    "        int ans = 0;\n",
    "\n",
    "        for (int i = 1; i < n; ++i) {\n",
    "            if (s.charAt(i) != s.charAt(i - 1)) {\n",
    "                ans += cnt * (cnt + 1) / 2;\n",
    "                cnt = 1;\n",
    "            } else {\n",
    "                cnt++;\n",
    "            }\n",
    "        }\n",
    "        ans += cnt * (cnt + 1) / 2;\n",
    "        return ans;\n",
    "    }\n",
    "}\n",
    "```"
   ]
  }
 ],
 "metadata": {
  "language_info": {
   "name": "python"
  }
 },
 "nbformat": 4,
 "nbformat_minor": 2
}
