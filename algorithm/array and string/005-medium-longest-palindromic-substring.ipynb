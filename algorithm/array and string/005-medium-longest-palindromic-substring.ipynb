{
 "cells": [
  {
   "cell_type": "markdown",
   "metadata": {},
   "source": [
    "# 005 Longest Palindromic Substring\n",
    "\n",
    "Medium\n",
    "\n",
    "https://leetcode.cn/problems/longest-palindromic-substring\n",
    "\n",
    "Created on: 7/2/2022\n",
    "\n",
    "Modified on: 7/13/2022\n",
    "\n",
    "---\n",
    "\n",
    "Given a string `s`, return the longest palindromic substring in `s`. \n",
    "\n",
    "**Example 1:**\n",
    "\n",
    "``` text\n",
    "Input: s = \"babad\"\n",
    "Output: \"bab\"\n",
    "Explanation: \"aba\" is also a valid answer.\n",
    "```\n",
    "\n",
    "**Example 2:**\n",
    "\n",
    "``` text\n",
    "Input: s = \"cbbd\"\n",
    "Output: \"bb\"\n",
    "```\n",
    "\n",
    "**Constraints:**\n",
    "- 1 <= `s.length` <= 1000\n",
    "- `s` consists of only digits and English letters.\n",
    "\n",
    "---\n"
   ]
  },
  {
   "cell_type": "code",
   "execution_count": 54,
   "metadata": {},
   "outputs": [
    {
     "data": {
      "text/plain": [
       "'bab'"
      ]
     },
     "execution_count": 54,
     "metadata": {},
     "output_type": "execute_result"
    }
   ],
   "source": [
    "class Solution:\n",
    "    def longestPalindrome(self, s: str) -> str:\n",
    "        def isPalindrome(sub, left, right):\n",
    "            while left < right:\n",
    "                if sub[left] != sub[right-1]:\n",
    "                    return False\n",
    "                left += 1\n",
    "                right -= 1\n",
    "            return True\n",
    "\n",
    "        n = len(s)\n",
    "        if n < 2:\n",
    "            return s\n",
    "        \n",
    "        max_len = 1\n",
    "        begin = 0\n",
    "        for i in range(n-1):\n",
    "            for j in range(i+1, n+1):\n",
    "                str_len = j - i\n",
    "                if str_len > max_len and isPalindrome(s, i, j):\n",
    "                    max_len = str_len\n",
    "                    begin = i\n",
    "                j += 1\n",
    "        return s[begin:begin+max_len]\n",
    "\n",
    "# Test\n",
    "test = Solution()\n",
    "test.longestPalindrome('babad')\n"
   ]
  }
 ],
 "metadata": {
  "kernelspec": {
   "display_name": "Python 3.7.6 ('base')",
   "language": "python",
   "name": "python3"
  },
  "language_info": {
   "codemirror_mode": {
    "name": "ipython",
    "version": 3
   },
   "file_extension": ".py",
   "mimetype": "text/x-python",
   "name": "python",
   "nbconvert_exporter": "python",
   "pygments_lexer": "ipython3",
   "version": "3.7.6"
  },
  "vscode": {
   "interpreter": {
    "hash": "01ef5fd295d2f06c799f887d3d5a0aa621984c826cc1e428ccbd852109f922c3"
   }
  }
 },
 "nbformat": 4,
 "nbformat_minor": 2
}
