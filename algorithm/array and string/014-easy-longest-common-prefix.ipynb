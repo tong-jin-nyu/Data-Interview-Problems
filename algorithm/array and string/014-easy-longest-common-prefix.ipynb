{
 "cells": [
  {
   "cell_type": "markdown",
   "metadata": {},
   "source": [
    "# 014 Longest Common Prefix\n",
    "\n",
    "Easy\n",
    "\n",
    "https://leetcode.cn/problems/longest-common-prefix/\n",
    "\n",
    "Created on: 6/1/2020\n",
    "\n",
    "Modified on: 8/25/2022\n",
    "\n",
    "---\n",
    "\n",
    "Write a function to find the longest common prefix string amongst an array of strings.\n",
    "\n",
    "If there is no common prefix, return an empty string `\"\"`.\n",
    "\n",
    "**Example 1:**\n",
    "\n",
    "``` text\n",
    "Input: [\"flower\",\"flow\",\"flight\"]\n",
    "Output: \"fl\"\n",
    "```\n",
    "\n",
    "**Example 2:**\n",
    "\n",
    "``` text\n",
    "Input: [\"dog\",\"racecar\",\"car\"]\n",
    "Output: \"\"\n",
    "Explanation: There is no common prefix among the input strings.\n",
    "```\n",
    "\n",
    "**Constraints:**\n",
    "- $1 \\leq \\text{strs.length} \\leq 200$\n",
    "- $0 \\leq \\text{strs[i].length} \\leq 200$\n",
    "- All given inputs are in lowercase letters a-z.\n",
    "\n",
    "---"
   ]
  },
  {
   "cell_type": "code",
   "execution_count": 3,
   "metadata": {},
   "outputs": [],
   "source": [
    "# Solution 1\n",
    "from typing import List\n",
    "\n",
    "\n",
    "class Solution:\n",
    "    def longestCommonPrefix(self, strs: List[str]) -> str:\n",
    "        shortest = sorted(strs, key=len)[0]\n",
    "        prefix = ''\n",
    "\n",
    "        for idx, letter in enumerate(shortest):\n",
    "            for each_str in strs:\n",
    "                if letter != each_str[idx]:\n",
    "                    return prefix\n",
    "            prefix += letter\n",
    "\n",
    "        return prefix\n"
   ]
  },
  {
   "cell_type": "code",
   "execution_count": 7,
   "metadata": {},
   "outputs": [],
   "source": [
    "# Solution 2\n",
    "from typing import List\n",
    "\n",
    "\n",
    "class Solution:\n",
    "    def longestCommonPrefix(self, strs: List[str]) -> str:\n",
    "        prefix, n = strs[0], len(strs)\n",
    "        for i in range(1, n):\n",
    "            prefix = self.lcp(prefix, strs[i])\n",
    "            if prefix == '':\n",
    "                break\n",
    "        return prefix\n",
    "\n",
    "    def lcp(self, str1, str2):\n",
    "        min_len = min(len(str1), len(str2))\n",
    "        index = 0\n",
    "        while index < min_len and str1[index] == str2[index]:\n",
    "            index += 1\n",
    "        return str1[:index]"
   ]
  },
  {
   "cell_type": "code",
   "execution_count": 8,
   "metadata": {},
   "outputs": [
    {
     "name": "stdout",
     "output_type": "stream",
     "text": [
      "fl\n",
      "\n",
      "A3SR\n",
      "A3SR\n"
     ]
    }
   ],
   "source": [
    "# Test\n",
    "test = Solution()\n",
    "print(test.longestCommonPrefix(strs=[\"flower\", \"flow\", \"flight\"]))\n",
    "print(test.longestCommonPrefix(strs=[\"dog\", \"racecar\", \"car\"]))\n",
    "print(test.longestCommonPrefix(strs=[\"A3SR\"]))\n",
    "print(test.longestCommonPrefix(strs=['A3SR', 'A3SR']))\n"
   ]
  },
  {
   "cell_type": "markdown",
   "metadata": {},
   "source": [
    "### Explanation"
   ]
  },
  {
   "cell_type": "markdown",
   "metadata": {},
   "source": [
    "There are many solutions for this problem. My solution applies binary search by using two for-in loops. The logic is fairly simple: compare the first x letters (prefix) of the first element to the prefix of the remaining elements. If match, continue; if not, stop and return the previous value of prefix. Here are the steps:\n",
    "\n",
    "First, simplify the logic by filtering out extreme situations: when there is no element or there is only one element in the list.\n",
    "\n",
    "Then, we create an empty string `prefix` to store the result.\n",
    "\n",
    "After that, we write a for-in loop to check all possible prefix combinations in the first element. We then apply another for-in loop to test if all remaining elements contain such prefix. We continue the loop until the condition no longer matches. If every prefix combination matches all elements, then we know all the elements are the same. Finally, we need to return a previous version of prefix (one level up) in order to get the last prefix combination that all elements are started with. "
   ]
  },
  {
   "cell_type": "markdown",
   "metadata": {},
   "source": [
    "---"
   ]
  }
 ],
 "metadata": {
  "kernelspec": {
   "display_name": "Python 3.7.6 ('base')",
   "language": "python",
   "name": "python3"
  },
  "language_info": {
   "codemirror_mode": {
    "name": "ipython",
    "version": 3
   },
   "file_extension": ".py",
   "mimetype": "text/x-python",
   "name": "python",
   "nbconvert_exporter": "python",
   "pygments_lexer": "ipython3",
   "version": "3.7.6"
  },
  "vscode": {
   "interpreter": {
    "hash": "01ef5fd295d2f06c799f887d3d5a0aa621984c826cc1e428ccbd852109f922c3"
   }
  }
 },
 "nbformat": 4,
 "nbformat_minor": 2
}
