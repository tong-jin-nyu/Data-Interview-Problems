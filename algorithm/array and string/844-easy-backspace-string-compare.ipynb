{
 "cells": [
  {
   "cell_type": "markdown",
   "metadata": {},
   "source": [
    "# 844 Backspace String Compare\n",
    "\n",
    "Easy\n",
    "\n",
    "https://leetcode.cn/problems/backspace-string-compare\n",
    "\n",
    "Created on: 7/6/2022\n",
    "\n",
    "Modified on: 7/13/2022\n",
    "\n",
    "---\n",
    "\n",
    "Given two strings `s` and `t`, return `true` if they are equal when both are typed into empty text editors. `'#'` means a backspace character.\n",
    "\n",
    "Note that after backspacing an empty text, the text will continue empty.\n",
    "\n",
    "**Example 1:**\n",
    "\n",
    "```\n",
    "Input: s = \"ab#c\", t = \"ad#c\"\n",
    "Output: true\n",
    "Explanation: Both s and t become \"ac\".\n",
    "```\n",
    "\n",
    "**Example 2:**\n",
    "\n",
    "```\n",
    "Input: s = \"ab##\", t = \"c#d#\"\n",
    "Output: true\n",
    "Explanation: Both s and t become \"\".\n",
    "```\n",
    "\n",
    "**Example 3:**\n",
    "\n",
    "```\n",
    "Input: s = \"a#c\", t = \"b\"\n",
    "Output: false\n",
    "Explanation: s becomes \"c\" while t becomes \"b\".\n",
    "```\n",
    "\n",
    "**Constraints:**\n",
    "\n",
    "- 1 <= `s.length, t.length` <= 200\n",
    "- `s` and `t` only contain lowercase letters and `'#'` characters.\n",
    "\n",
    "**Follow up:** Can you solve it in `O(n)` time and `O(1)` space?\n",
    "\n",
    "---\n"
   ]
  },
  {
   "cell_type": "code",
   "execution_count": 1,
   "metadata": {},
   "outputs": [
    {
     "data": {
      "text/plain": [
       "True"
      ]
     },
     "execution_count": 1,
     "metadata": {},
     "output_type": "execute_result"
    }
   ],
   "source": [
    "# Time: O(N + M)\n",
    "# Space: O(N + M)\n",
    "class Solution:\n",
    "    def backspaceCompare(self, s: str, t: str) -> bool:\n",
    "        \n",
    "        def build(st: str) -> str:\n",
    "            output = list()\n",
    "\n",
    "            for char in st:\n",
    "                if char != '#':\n",
    "                    output.append(char)\n",
    "                elif output:\n",
    "                    output.pop()\n",
    "            \n",
    "            return ''.join(output)\n",
    "\n",
    "        return build(s) == build(t)\n",
    "\n",
    "\n",
    "# Test\n",
    "test = Solution()\n",
    "s, t = 'ab#c', 'ad#c'\n",
    "test.backspaceCompare(s, t)\n"
   ]
  },
  {
   "cell_type": "code",
   "execution_count": 7,
   "metadata": {},
   "outputs": [
    {
     "data": {
      "text/plain": [
       "True"
      ]
     },
     "execution_count": 7,
     "metadata": {},
     "output_type": "execute_result"
    }
   ],
   "source": [
    "# Time: O(N + M)\n",
    "# Space: O(1)\n",
    "class Solution:\n",
    "    def backspaceCompare(self, s: str, t: str) -> bool:\n",
    "        i, j = len(s) - 1, len(t) - 1\n",
    "        skipi = skipj = 0\n",
    "\n",
    "        while i >= 0 or j >= 0:\n",
    "            while i >= 0:\n",
    "                if s[i] == '#':\n",
    "                    skipi += 1\n",
    "                    i -= 1\n",
    "                elif skipi:\n",
    "                    skipi -= 1\n",
    "                    i -= 1\n",
    "                else:\n",
    "                    break\n",
    "            while j >= 0:\n",
    "                if t[j] == '#':\n",
    "                    skipj += 1\n",
    "                    j -= 1\n",
    "                elif skipj:\n",
    "                    skipj -= 1\n",
    "                    j -= 1\n",
    "                else:\n",
    "                    break\n",
    "            if i >= 0 and j >= 0:\n",
    "                if s[i] != t[j]:\n",
    "                    return False\n",
    "            elif i >= 0 or j >= 0:\n",
    "                return False\n",
    "\n",
    "            i -= 1\n",
    "            j -= 1\n",
    "\n",
    "        return True\n",
    "\n",
    "\n",
    "# Test\n",
    "test = Solution()\n",
    "s, t = 'ab#c', 'ad#c'\n",
    "test.backspaceCompare(s, t)\n"
   ]
  }
 ],
 "metadata": {
  "kernelspec": {
   "display_name": "Python 3.7.6 ('base')",
   "language": "python",
   "name": "python3"
  },
  "language_info": {
   "codemirror_mode": {
    "name": "ipython",
    "version": 3
   },
   "file_extension": ".py",
   "mimetype": "text/x-python",
   "name": "python",
   "nbconvert_exporter": "python",
   "pygments_lexer": "ipython3",
   "version": "3.7.6"
  },
  "vscode": {
   "interpreter": {
    "hash": "01ef5fd295d2f06c799f887d3d5a0aa621984c826cc1e428ccbd852109f922c3"
   }
  }
 },
 "nbformat": 4,
 "nbformat_minor": 2
}
