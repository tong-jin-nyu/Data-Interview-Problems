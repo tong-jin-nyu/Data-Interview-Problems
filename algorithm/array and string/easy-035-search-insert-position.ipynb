{
 "cells": [
  {
   "cell_type": "markdown",
   "metadata": {},
   "source": [
    "# 035 Search Insert Position\n",
    "\n",
    "Easy\n",
    "\n",
    "Created on: 8/31/2020\n",
    "\n",
    "Modified on: 7/7/2022\n",
    "\n",
    "---\n",
    "\n",
    "Given a sorted array and a target value, return the index if the target is found. If not, return the index where it would be if it were inserted in order.\n",
    "\n",
    "You may assume no duplicates in the array.\n",
    "\n",
    "**Example 1:**\n",
    "\n",
    "```\n",
    "Input: [1,3,5,6], 5\n",
    "Output: 2\n",
    "```\n",
    "\n",
    "**Example 2:**\n",
    "\n",
    "```\n",
    "Input: [1,3,5,6], 2\n",
    "Output: 1\n",
    "```\n",
    "\n",
    "**Example 3:**\n",
    "\n",
    "```\n",
    "Input: [1,3,5,6], 7\n",
    "Output: 4\n",
    "```\n",
    "\n",
    "**Example 4:**\n",
    "\n",
    "```\n",
    "Input: [1,3,5,6], 0\n",
    "Output: 0\n",
    "```\n",
    "\n",
    "---\n"
   ]
  },
  {
   "cell_type": "code",
   "execution_count": 19,
   "metadata": {},
   "outputs": [
    {
     "name": "stdout",
     "output_type": "stream",
     "text": [
      "1\n"
     ]
    }
   ],
   "source": [
    "# Update: 7/7/2022\n",
    "from typing import List\n",
    "\n",
    "\n",
    "class Solution:\n",
    "    def searchInsert(self, nums: List[int], target: int) -> int:\n",
    "        n = len(nums)\n",
    "        left, right = 0, n - 1\n",
    "\n",
    "        while left <= right:\n",
    "            mid = (right - left) // 2 + left\n",
    "            if nums[mid] < target:\n",
    "                left = mid + 1\n",
    "            else:\n",
    "                right = mid - 1\n",
    "\n",
    "        return left\n",
    "            \n",
    "            \n",
    "# Test\n",
    "nums = [1, 3, 5, 6]\n",
    "target = 2\n",
    "print(Solution().searchInsert(nums, target))"
   ]
  },
  {
   "cell_type": "code",
   "execution_count": 20,
   "metadata": {},
   "outputs": [
    {
     "name": "stdout",
     "output_type": "stream",
     "text": [
      "4\n"
     ]
    }
   ],
   "source": [
    "from typing import List\n",
    "\n",
    "\n",
    "\n",
    "class Solution:\n",
    "    def searchInsert(self, nums: List[int], target: int) -> int:\n",
    "        if target in nums:\n",
    "            position = nums.index(target)\n",
    "        else:\n",
    "            nums.append(target)\n",
    "            nums = sorted(nums)\n",
    "            position = nums.index(target)\n",
    "\n",
    "        return position\n",
    "\n",
    "\n",
    "# Test\n",
    "nums = [1, 3, 5, 6]\n",
    "target = 7\n",
    "print(Solution().searchInsert(nums, target))"
   ]
  },
  {
   "cell_type": "code",
   "execution_count": 21,
   "metadata": {},
   "outputs": [],
   "source": [
    "# Update 7/1/2022\n",
    "from typing import List\n",
    "\n",
    "\n",
    "class Solution:\n",
    "    def searchInsert(self, nums: List[int], target: int) -> int:\n",
    "        if target in nums:\n",
    "            return nums.index(target)\n",
    "        else:\n",
    "            for i, num in enumerate(nums):\n",
    "                if num > target:\n",
    "                    return i\n",
    "\n",
    "            return len(nums)\n"
   ]
  },
  {
   "cell_type": "markdown",
   "metadata": {},
   "source": [
    "### Explanation"
   ]
  },
  {
   "cell_type": "markdown",
   "metadata": {},
   "source": [
    "We use an index pointer, `i`, to solve this problem. We first set the pointer to zero. Then, we use a while loop to iterate again and again till `i` is equal to the length of the sorted array, `nums`. For each iteration, if the ith value in the array is smaller than the `target`, we add one to `i`. Then, we check if `i` has moved to the end of the array. If so, we return the value of `i`, meaning that all values in the sorted array are smaller than the `target`. The `target` should be placed at the end of the array. \n",
    "\n",
    "Finally, if we encounter a situation where the ith value in the array is larger or equal to the `target`, then we can return `i`, meaning that the `target` will cut the line and replace the position of the `ith` value."
   ]
  }
 ],
 "metadata": {
  "kernelspec": {
   "display_name": "Python 3.9.4 64-bit",
   "language": "python",
   "name": "python3"
  },
  "language_info": {
   "codemirror_mode": {
    "name": "ipython",
    "version": 3
   },
   "file_extension": ".py",
   "mimetype": "text/x-python",
   "name": "python",
   "nbconvert_exporter": "python",
   "pygments_lexer": "ipython3",
   "version": "3.9.4"
  },
  "vscode": {
   "interpreter": {
    "hash": "fc8814d95e3bb7c7d620345642206f617029e5ce3d5941736e486cd8ca8f4058"
   }
  }
 },
 "nbformat": 4,
 "nbformat_minor": 2
}
