{
 "cells": [
  {
   "cell_type": "markdown",
   "metadata": {},
   "source": [
    "# 709 To Lower Case\n",
    "\n",
    "Easy\n",
    "\n",
    "https://leetcode.cn/problems/to-lower-case/description/\n",
    "\n",
    "Created on: 7/22/2024\n",
    "\n",
    "Modified on: 7/22/2024\n",
    "\n",
    "---\n",
    "\n",
    "Given a string `s`, return the string after replacing every uppercase letter \n",
    "with the same lowercase letter.\n",
    "\n",
    "**Example 1:**\n",
    "\n",
    "```\n",
    "Input: s = \"Hello\"\n",
    "Output: \"hello\"\n",
    "```\n",
    "\n",
    "**Example 2:**\n",
    "\n",
    "``` text\n",
    "Input: s = \"here\"\n",
    "Output: \"here\"\n",
    "```\n",
    "\n",
    "**Example 3:**\n",
    "\n",
    "``` text\n",
    "Input: s = \"LOVELY\"\n",
    "Output: \"lovely\"\n",
    "```\n",
    "\n",
    "**Constraints:**\n",
    "- `1 <= s.length <= 100`\n",
    "- `s` consists of printable ASCII characters.\n",
    "\n",
    "---\n"
   ]
  },
  {
   "cell_type": "markdown",
   "metadata": {},
   "source": [
    "Java - build an API \n",
    "\n",
    "```\n",
    "class Solution {\n",
    "    public String toLowerCase(String s) {\n",
    "        StringBuilder res = new StringBuilder();\n",
    "        for (int i = 0; i < s.length(); i++) {\n",
    "            char ch = s.charAt(i);\n",
    "            if (ch >= 65 && ch <= 90) {\n",
    "                ch |= 32;\n",
    "            }\n",
    "            res.append(ch);\n",
    "        }\n",
    "        return res.toString();\n",
    "    }\n",
    "}\n",
    "```"
   ]
  },
  {
   "cell_type": "markdown",
   "metadata": {},
   "source": [
    "Java - call built-in API\n",
    "\n",
    "```\n",
    "class Solution {\n",
    "    public String toLowerCase(String s) {\n",
    "        \n",
    "        return s.toLowerCase();\n",
    "    }\n",
    "}\n",
    "```"
   ]
  },
  {
   "cell_type": "markdown",
   "metadata": {},
   "source": []
  }
 ],
 "metadata": {
  "language_info": {
   "name": "python"
  }
 },
 "nbformat": 4,
 "nbformat_minor": 2
}
