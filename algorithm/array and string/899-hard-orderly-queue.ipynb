{
 "cells": [
  {
   "cell_type": "markdown",
   "metadata": {},
   "source": [
    "# 899 Orderly Queue\n",
    "\n",
    "Hard\n",
    "\n",
    "https://leetcode.cn/problems/orderly-queue/\n",
    "\n",
    "Created on: 8/2/2022\n",
    "\n",
    "Modified on: 8/2/2022\n",
    "\n",
    "---\n",
    "\n",
    "You are given a string `s` and an integer `k`. You can choose one of the first `k` letters of `s` and append it at the end of the string.\n",
    "\n",
    "Return the lexicographically smallest string you could have after applying the mentioned step any number of moves.\n",
    "\n",
    "**Example 1:**\n",
    "\n",
    "```\n",
    "Input: s = \"cba\", k = 1\n",
    "Output: \"acb\"\n",
    "Explanation: \n",
    "In the first move, we move the 1st character 'c' to the end, obtaining the string \"bac\".\n",
    "In the second move, we move the 1st character 'b' to the end, obtaining the final result \"acb\".\n",
    "```\n",
    "\n",
    "**Example 2:**\n",
    "\n",
    "```\n",
    "Input: s = \"baaca\", k = 3\n",
    "Output: \"aaabc\"\n",
    "Explanation: \n",
    "In the first move, we move the 1st character 'b' to the end, obtaining the string \"aacab\".\n",
    "In the second move, we move the 3rd character 'c' to the end, obtaining the final result \"aaabc\".\n",
    "```\n",
    "\n",
    "**Constraints:**\n",
    "\n",
    "- 1 <= k <= `s.length` <= 1000\n",
    "- `s` consists of lowercase English letters.\n",
    "\n",
    "---\n"
   ]
  },
  {
   "cell_type": "code",
   "execution_count": 13,
   "metadata": {},
   "outputs": [],
   "source": [
    "class Solution:\n",
    "    def orderlyQueue(self, s: str, k: int) -> str:\n",
    "        if k > 1:\n",
    "            return ''.join(sorted(s))\n",
    "        else:\n",
    "            ans = s\n",
    "            n = len(s)\n",
    "            for i in range(n - 1):\n",
    "                s = s[1:] + s[0]\n",
    "                ans = min(ans, s)\n",
    "            return ans\n"
   ]
  },
  {
   "cell_type": "code",
   "execution_count": 14,
   "metadata": {},
   "outputs": [
    {
     "data": {
      "text/plain": [
       "'abddeffggs'"
      ]
     },
     "execution_count": 14,
     "metadata": {},
     "output_type": "execute_result"
    }
   ],
   "source": [
    "test = Solution()\n",
    "s = 'bagefgsdfd'\n",
    "k = 2\n",
    "test.orderlyQueue(s, k)"
   ]
  }
 ],
 "metadata": {
  "kernelspec": {
   "display_name": "Python 3.7.6 ('base')",
   "language": "python",
   "name": "python3"
  },
  "language_info": {
   "codemirror_mode": {
    "name": "ipython",
    "version": 3
   },
   "file_extension": ".py",
   "mimetype": "text/x-python",
   "name": "python",
   "nbconvert_exporter": "python",
   "pygments_lexer": "ipython3",
   "version": "3.7.6"
  },
  "vscode": {
   "interpreter": {
    "hash": "01ef5fd295d2f06c799f887d3d5a0aa621984c826cc1e428ccbd852109f922c3"
   }
  }
 },
 "nbformat": 4,
 "nbformat_minor": 2
}
