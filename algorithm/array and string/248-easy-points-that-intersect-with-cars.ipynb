{
 "cells": [
  {
   "cell_type": "markdown",
   "metadata": {},
   "source": [
    "# 2848 Points That Intersect With Cars\n",
    "\n",
    "Easy\n",
    "\n",
    "https://leetcode.cn/problems/points-that-intersect-with-cars/\n",
    "\n",
    "Created on: 9/3/2024\n",
    "\n",
    "Modified on: 9/3/2024\n",
    "\n",
    "---\n",
    "\n",
    "You are given a 0-indexed 2D integer array `nums` representing the coordinates of the cars parking \n",
    "on a number line. For any index `i`, `nums[i] = [starti, endi]` where `starti` is the starting \n",
    "point of the `ith` car and `endi` is the ending point of the `ith` car.\n",
    "\n",
    "Return the number of integer points on the line that are covered with any part of a car.\n",
    "\n",
    "**Example 1:**\n",
    "\n",
    "```\n",
    "Input: nums = [[3,6],[1,5],[4,7]]\n",
    "Output: 7\n",
    "Explanation: All the points from 1 to 7 intersect at least one car, therefore the answer would be 7.\n",
    "```\n",
    "\n",
    "**Example 2:**\n",
    "\n",
    "```\n",
    "Input: nums = [[1,3],[5,8]]\n",
    "Output: 7\n",
    "Explanation: Points intersecting at least one car are 1, 2, 3, 5, 6, 7, 8. There are a total of 7 points, therefore the answer would be 7.\n",
    "```\n",
    "\n",
    "**Constraints:**\n",
    "\n",
    "- `1 <= nums.length <= 100`\n",
    "- `nums[i].length == 2`\n",
    "- `1 <= starti <= endi <= 100`\n",
    "  \n",
    "---\n"
   ]
  },
  {
   "cell_type": "markdown",
   "metadata": {},
   "source": [
    "# Java\n",
    "\n",
    "``` Java\n",
    "class Solution {\n",
    "    public int numberOfPoints(List<List<Integer>> nums) {\n",
    "        int[] counter = new int[101];\n",
    "        int ans = 0;\n",
    "        for (List<Integer> num : nums) {\n",
    "            for (int i = num.get(0); i <= num.get(1); i++) {\n",
    "                counter[i]++;\n",
    "            }\n",
    "        }\n",
    "\n",
    "        for (int j = 0; j < 101; j++) {\n",
    "            if (counter[j] != 0) {\n",
    "                ans++;\n",
    "            }\n",
    "        }\n",
    "\n",
    "        return ans;\n",
    "    }\n",
    "}\n",
    "```"
   ]
  }
 ],
 "metadata": {
  "language_info": {
   "name": "python"
  }
 },
 "nbformat": 4,
 "nbformat_minor": 2
}
