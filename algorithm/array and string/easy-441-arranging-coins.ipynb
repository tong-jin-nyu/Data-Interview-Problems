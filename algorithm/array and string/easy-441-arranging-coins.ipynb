{
 "cells": [
  {
   "cell_type": "markdown",
   "metadata": {},
   "source": [
    "# 441 Arranging Coins\n",
    "\n",
    "Easy\n",
    "\n",
    "https://leetcode.cn/problems/arranging-coins/\n",
    "\n",
    "Created on: 7/7/2022\n",
    "\n",
    "Modified on: 7/7/2022\n",
    "\n",
    "---\n",
    "\n",
    "You have `n` coins and you want to build a staircase with these coins. The staircase consists of `k` rows where the ith row has exactly `i` coins. The last row of the staircase may be incomplete.\n",
    "\n",
    "Given the integer `n`, return the number of complete rows of the staircase you will build.\n",
    "\n",
    "**Example 1:**\n",
    "\n",
    "![Example 1](https://assets.leetcode.com/uploads/2021/04/09/arrangecoins1-grid.jpg)\n",
    "\n",
    "```\n",
    "Input: n = 5\n",
    "Output: 2\n",
    "Explanation: Because the 3rd row is incomplete, we return 2.\n",
    "```\n",
    "\n",
    "**Example 2:**\n",
    "\n",
    "![Example 2](https://assets.leetcode.com/uploads/2021/04/09/arrangecoins2-grid.jpg)\n",
    "\n",
    "```\n",
    "Input: n = 8\n",
    "Output: 3\n",
    "Explanation: Because the 4th row is incomplete, we return 3.\n",
    "```\n",
    "\n",
    "**Constraints:**\n",
    "\n",
    "- 1 <= `n` <= 2^31 - 1\n",
    "\n",
    "---\n"
   ]
  },
  {
   "cell_type": "markdown",
   "metadata": {},
   "source": [
    "$$\n",
    "total = \\frac{k \\cdot (k + 1)}{2}\n",
    "$$"
   ]
  },
  {
   "cell_type": "code",
   "execution_count": 2,
   "metadata": {},
   "outputs": [
    {
     "data": {
      "text/plain": [
       "4"
      ]
     },
     "execution_count": 2,
     "metadata": {},
     "output_type": "execute_result"
    }
   ],
   "source": [
    "class Solution:\n",
    "    def arrangeCoins(self, n: int) -> int:\n",
    "        left, right = 1, n\n",
    "\n",
    "        while left < right:\n",
    "            mid = (left + right + 1) // 2  # Index, not order\n",
    "            if mid * (mid + 1) <= 2 * n:\n",
    "                left = mid\n",
    "            else:\n",
    "                right = mid - 1\n",
    "\n",
    "        return left\n",
    "            \n",
    "\n",
    "\n",
    "\n",
    "# Test\n",
    "test = Solution()\n",
    "test.arrangeCoins(10)\n"
   ]
  }
 ],
 "metadata": {
  "kernelspec": {
   "display_name": "Python 3.7.6",
   "language": "python",
   "name": "python3"
  },
  "language_info": {
   "codemirror_mode": {
    "name": "ipython",
    "version": 3
   },
   "file_extension": ".py",
   "mimetype": "text/x-python",
   "name": "python",
   "nbconvert_exporter": "python",
   "pygments_lexer": "ipython3",
   "version": "3.7.6"
  },
  "orig_nbformat": 2,
  "vscode": {
   "interpreter": {
    "hash": "01ef5fd295d2f06c799f887d3d5a0aa621984c826cc1e428ccbd852109f922c3"
   }
  }
 },
 "nbformat": 4,
 "nbformat_minor": 2
}
