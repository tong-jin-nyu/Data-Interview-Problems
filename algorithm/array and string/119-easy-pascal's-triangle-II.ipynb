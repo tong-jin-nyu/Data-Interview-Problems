{
 "cells": [
  {
   "cell_type": "markdown",
   "metadata": {},
   "source": [
    "# 119 Pascal's Triangle II\n",
    "\n",
    "Easy\n",
    "\n",
    "https://leetcode.cn/problems/pascals-triangle-ii\n",
    "\n",
    "Created on: 7/4/2022\n",
    "\n",
    "Modified on: 7/12/2022\n",
    "\n",
    "---\n",
    "\n",
    "Given an integer `rowIndex`, return the `rowIndex`th (0-indexed) row of the **Pascal's triangle**.\n",
    "\n",
    "In **Pascal's triangle**, each number is the sum of the two numbers directly above it as shown:\n",
    "\n",
    "![Pascal's Triangle](https://upload.wikimedia.org/wikipedia/commons/0/0d/PascalTriangleAnimated2.gif)\n",
    "\n",
    "**Example 1:**\n",
    "\n",
    "```\n",
    "Input: rowIndex = 3\n",
    "Output: [1,3,3,1]\n",
    "```\n",
    "\n",
    "**Example 2:**\n",
    "\n",
    "```\n",
    "Input: rowIndex = 0\n",
    "Output: [1]\n",
    "```\n",
    "\n",
    "**Example 3:**\n",
    "\n",
    "```\n",
    "Input: rowIndex = 1\n",
    "Output: [1,1]\n",
    "```\n",
    "\n",
    "**Constraints:**\n",
    "- `0 <= numRows <= 33`\n",
    "\n",
    "**Follow up:** Could you optimize your algorithm to use only `O(rowIndex)` extra space?\n",
    "\n",
    "---\n"
   ]
  },
  {
   "cell_type": "markdown",
   "metadata": {},
   "source": [
    "### Solution"
   ]
  },
  {
   "cell_type": "code",
   "execution_count": 4,
   "metadata": {},
   "outputs": [
    {
     "name": "stdout",
     "output_type": "stream",
     "text": [
      "[1, 7, 21, 35, 35, 21, 7, 1]\n"
     ]
    }
   ],
   "source": [
    "from typing import List\n",
    "\n",
    "\n",
    "class Solution:\n",
    "    def getRow(self, rowIndex: int) -> List[int]:\n",
    "        row = [0 for _ in range(rowIndex+1)]\n",
    "        row[0] = 1\n",
    "        i = 1\n",
    "\n",
    "        while i <= rowIndex:\n",
    "            j = i\n",
    "            \n",
    "            while j > 0:\n",
    "                row[j] += row[j - 1]\n",
    "                j -= 1\n",
    "            i += 1\n",
    "\n",
    "        return row\n",
    "\n",
    "# Test\n",
    "test = Solution()\n",
    "numRows = 7\n",
    "print(test.getRow(numRows))\n"
   ]
  },
  {
   "cell_type": "markdown",
   "metadata": {},
   "source": [
    "### Explanation\n",
    "\n",
    "![Pascal's Triangle](https://upload.wikimedia.org/wikipedia/commons/0/0d/PascalTriangleAnimated2.gif)\n",
    "\n",
    "From observation, we know that, for each row of a Pascal's triangle:\n",
    "1. The first and the last elements are always 1\n",
    "2. Other elements are the sum of the two adjacent elements in the previous row.\n",
    "\n",
    "Given these features, we start by creating an output list with the result of the first row, `[1]`. Then, starting from the second row, we create a result list that contains the first element, `1`, and iterate through all elements in the row to:\n",
    "1. check if the element is the last one. If so, append 1 to the result list\n",
    "2. else, sum up the adjacent elements in the previous row and append to the result list\n",
    "3. append the result list to the output list."
   ]
  },
  {
   "cell_type": "markdown",
   "metadata": {},
   "source": [
    "---"
   ]
  }
 ],
 "metadata": {
  "kernelspec": {
   "display_name": "Python 3.7.6",
   "language": "python",
   "name": "python3"
  },
  "language_info": {
   "codemirror_mode": {
    "name": "ipython",
    "version": 3
   },
   "file_extension": ".py",
   "mimetype": "text/x-python",
   "name": "python",
   "nbconvert_exporter": "python",
   "pygments_lexer": "ipython3",
   "version": "3.7.6"
  },
  "orig_nbformat": 2,
  "vscode": {
   "interpreter": {
    "hash": "01ef5fd295d2f06c799f887d3d5a0aa621984c826cc1e428ccbd852109f922c3"
   }
  }
 },
 "nbformat": 4,
 "nbformat_minor": 2
}
