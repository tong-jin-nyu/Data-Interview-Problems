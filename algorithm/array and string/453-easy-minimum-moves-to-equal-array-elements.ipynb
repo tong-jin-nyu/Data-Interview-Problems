{
 "cells": [
  {
   "cell_type": "markdown",
   "metadata": {},
   "source": [
    "# 453 Minimum Moves to Equal Array Elements\n",
    "\n",
    "Easy\n",
    "\n",
    "https://leetcode.cn/problems/minimum-moves-to-equal-array-elements/\n",
    "\n",
    "Created on: 7/20/2022\n",
    "\n",
    "Modified on: 7/20/2022\n",
    "\n",
    "---\n",
    "\n",
    "Given an array `nums` of size `n`, return the minimum number of moves required to make all array elements equal.\n",
    "\n",
    "In one move, you can increment `n - 1` elements of the array by `1`.\n",
    "\n",
    "**Example 1:**\n",
    "\n",
    "```\n",
    "Input: nums = [1,2,3]\n",
    "Output: 3\n",
    "Explanation: Only three moves are needed (remember each move increments two elements):\n",
    "[1,2,3]  =>  [2,3,3]  =>  [3,4,3]  =>  [4,4,4]\n",
    "```\n",
    "\n",
    "**Example 2:**\n",
    "\n",
    "```\n",
    "Input: nums = [1,1, 1]\n",
    "Output: [0]\n",
    "```\n",
    "\n",
    "**Constraints:**\n",
    "\n",
    "- `n == nums.length`\n",
    "- 1 <= `n` <= 10^5\n",
    "- -10^9 <= `nums[i]` <= 10^9\n",
    "- The answer is guaranteed to fit in a 32-bit integer.\n",
    "\n",
    "---\n"
   ]
  },
  {
   "cell_type": "code",
   "execution_count": 2,
   "metadata": {},
   "outputs": [
    {
     "name": "stdout",
     "output_type": "stream",
     "text": [
      "22\n"
     ]
    }
   ],
   "source": [
    "from typing import List\n",
    "\n",
    "\n",
    "class Solution:\n",
    "    def minMoves(self, nums: List[int]) -> int:\n",
    "        min_num = min(nums)\n",
    "        res = 0\n",
    "\n",
    "        for num in nums:\n",
    "            res += num - min_num\n",
    "        \n",
    "        return res\n",
    "            \n",
    "\n",
    "\n",
    "\n",
    "# Test\n",
    "test = Solution()\n",
    "nums = [4, 3, 2, 7, 8, 2, 3, 1]\n",
    "print(test.minMoves(nums))\n"
   ]
  }
 ],
 "metadata": {
  "kernelspec": {
   "display_name": "Python 3.9.4 64-bit",
   "language": "python",
   "name": "python3"
  },
  "language_info": {
   "codemirror_mode": {
    "name": "ipython",
    "version": 3
   },
   "file_extension": ".py",
   "mimetype": "text/x-python",
   "name": "python",
   "nbconvert_exporter": "python",
   "pygments_lexer": "ipython3",
   "version": "3.9.4"
  },
  "orig_nbformat": 2,
  "vscode": {
   "interpreter": {
    "hash": "fc8814d95e3bb7c7d620345642206f617029e5ce3d5941736e486cd8ca8f4058"
   }
  }
 },
 "nbformat": 4,
 "nbformat_minor": 2
}
