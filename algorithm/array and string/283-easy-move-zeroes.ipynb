{
 "cells": [
  {
   "cell_type": "markdown",
   "metadata": {},
   "source": [
    "# 283 Move Zerops\n",
    "\n",
    "Easy\n",
    "\n",
    "https://leetcode.cn/problems/move-zeroes\n",
    "\n",
    "Created on: 7/4/2022\n",
    "\n",
    "Modified on: 7/22/2022\n",
    "\n",
    "---\n",
    "\n",
    "Given an integer array `nums`, move all `0`'s to the end of it while maintaining the relative order of the non-zero elements.\n",
    "\n",
    "**Note** that you must do this in-place without making a copy of the array.\n",
    "\n",
    "**Example 1:**\n",
    "\n",
    "```\n",
    "Input: nums = [0,1,0,3,12]\n",
    "Output: [1,3,12,0,0]\n",
    "```\n",
    "\n",
    "**Example 2:**\n",
    "\n",
    "```\n",
    "Input: nums = [0]\n",
    "Output: [0]\n",
    "```\n",
    "\n",
    "**Constraints:**\n",
    "\n",
    "- `1 <= nums.length <= 10^4`\n",
    "- `-2^31 <= nums[i] <= 2^31 - 1`\n",
    "\n",
    "**Follow up:** Could you minimuze the total number of operations done?\n",
    "\n",
    "---\n"
   ]
  },
  {
   "cell_type": "code",
   "execution_count": 4,
   "metadata": {},
   "outputs": [
    {
     "name": "stdout",
     "output_type": "stream",
     "text": [
      "[1, 3, 12, 0, 0]\n"
     ]
    }
   ],
   "source": [
    "from typing import List\n",
    "\n",
    "\n",
    "class Solution:\n",
    "    def moveZeroes(self, nums: List[int]) -> None:\n",
    "        \"\"\"\n",
    "        Do not return anything, modify nums in-place instead.\n",
    "        \"\"\"\n",
    "        fast = slow = 0\n",
    "        n = len(nums)\n",
    "\n",
    "        while fast < n:\n",
    "            if nums[fast] != 0:\n",
    "                nums[slow], nums[fast] = nums[fast], nums[slow]\n",
    "                slow += 1\n",
    "\n",
    "            fast += 1\n",
    "\n",
    "\n",
    "# Test\n",
    "test = Solution()\n",
    "nums = [0, 1, 0, 3, 12]\n",
    "test.moveZeroes(nums)\n",
    "print(nums)\n"
   ]
  },
  {
   "cell_type": "code",
   "execution_count": 10,
   "metadata": {},
   "outputs": [
    {
     "name": "stdout",
     "output_type": "stream",
     "text": [
      "[1, 3, 12, 0, 0]\n"
     ]
    }
   ],
   "source": [
    "from typing import List\n",
    "\n",
    "\n",
    "class Solution:\n",
    "    def moveZeroes(self, nums: List[int]) -> None:\n",
    "        \"\"\"\n",
    "        Do not return anything, modify nums in-place instead.\n",
    "        \"\"\"\n",
    "        n = len(nums)\n",
    "        slow = fast = 0\n",
    "\n",
    "        while fast < n:\n",
    "            if nums[fast]:\n",
    "                nums[slow] = nums[fast]\n",
    "                slow += 1\n",
    "            fast += 1\n",
    "\n",
    "\n",
    "        for i in range(slow, n):\n",
    "            nums[i] = 0\n",
    "\n",
    "\n",
    "# Test\n",
    "test = Solution()\n",
    "nums = [0, 1, 0, 3, 12]\n",
    "test.moveZeroes(nums)\n",
    "print(nums)"
   ]
  }
 ],
 "metadata": {
  "kernelspec": {
   "display_name": "Python 3.9.4 64-bit",
   "language": "python",
   "name": "python3"
  },
  "language_info": {
   "codemirror_mode": {
    "name": "ipython",
    "version": 3
   },
   "file_extension": ".py",
   "mimetype": "text/x-python",
   "name": "python",
   "nbconvert_exporter": "python",
   "pygments_lexer": "ipython3",
   "version": "3.9.4"
  },
  "vscode": {
   "interpreter": {
    "hash": "fc8814d95e3bb7c7d620345642206f617029e5ce3d5941736e486cd8ca8f4058"
   }
  }
 },
 "nbformat": 4,
 "nbformat_minor": 2
}
