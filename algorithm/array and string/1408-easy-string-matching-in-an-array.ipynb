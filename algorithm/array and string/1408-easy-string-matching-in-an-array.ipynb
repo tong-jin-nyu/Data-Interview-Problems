{
 "cells": [
  {
   "cell_type": "markdown",
   "metadata": {},
   "source": [
    "# 1408 String Matching in an Array\n",
    "\n",
    "Easy\n",
    "\n",
    "https://leetcode.cn/problems/string-matching-in-an-array/\n",
    "\n",
    "Created on: 8/5/2022\n",
    "\n",
    "Modified on: 8/5/2022\n",
    "\n",
    "---\n",
    "\n",
    "Given an array of string `words`, return all strings in `words` which is substring of another word in any order.\n",
    "\n",
    "String `words[i]` is substring of `words[j]` if it can be obtained by removing some characters from left and/or right side of `words[j]`.\n",
    "\n",
    "**Example 1:**\n",
    "\n",
    "```\n",
    "Input: words = [\"mass\",\"as\",\"hero\",\"superhero\"]\n",
    "Output: [\"as\",\"hero\"]\n",
    "Explanation: \"as\" is substring of \"mass\" and \"hero\" is substring of \"superhero\".\n",
    "[\"hero\",\"as\"] is also a valid answer.\n",
    "```\n",
    "\n",
    "**Example 2:**\n",
    "\n",
    "```\n",
    "Input: words = [\"leetcode\",\"et\",\"code\"]\n",
    "Output: [\"et\",\"code\"]\n",
    "Explanation: \"et\", \"code\" are substring of \"leetcode\".\n",
    "```\n",
    "\n",
    "**Example 3:**\n",
    "\n",
    "```\n",
    "Input: words = [\"blue\",\"green\",\"bu\"]\n",
    "Output: []\n",
    "```\n",
    "\n",
    "**Constraints:**\n",
    "\n",
    "- 1 <= `words.length` <= 100\n",
    "- 1 <= `words[i].length` <= 30\n",
    "- `words[i]` contains only lowercase English letters.\n",
    "- It's guaranteed that `words[i]` will be unique.\n",
    "\n",
    "---\n"
   ]
  },
  {
   "cell_type": "code",
   "execution_count": 2,
   "metadata": {},
   "outputs": [],
   "source": [
    "from typing import List\n",
    "\n",
    "\n",
    "class Solution:\n",
    "    def stringMatching(self, words: List[str]) -> List[str]:\n",
    "        n = len(words)\n",
    "        ans = list()\n",
    "        words = sorted(words, key=len)\n",
    "        for i in range(n - 1):\n",
    "            for j in range(i + 1, n):\n",
    "                if words[i] in words[j]:\n",
    "                    ans.append(words[i])\n",
    "                    break\n",
    "        return ans\n"
   ]
  },
  {
   "cell_type": "code",
   "execution_count": 3,
   "metadata": {},
   "outputs": [
    {
     "data": {
      "text/plain": [
       "['as', 'hero']"
      ]
     },
     "execution_count": 3,
     "metadata": {},
     "output_type": "execute_result"
    }
   ],
   "source": [
    "# Test\n",
    "test = Solution()\n",
    "words = [\"mass\",\"as\",\"hero\",\"superhero\"]\n",
    "test.stringMatching(words)\n"
   ]
  }
 ],
 "metadata": {
  "kernelspec": {
   "display_name": "Python 3.7.6",
   "language": "python",
   "name": "python3"
  },
  "language_info": {
   "codemirror_mode": {
    "name": "ipython",
    "version": 3
   },
   "file_extension": ".py",
   "mimetype": "text/x-python",
   "name": "python",
   "nbconvert_exporter": "python",
   "pygments_lexer": "ipython3",
   "version": "3.7.6"
  },
  "orig_nbformat": 2,
  "vscode": {
   "interpreter": {
    "hash": "01ef5fd295d2f06c799f887d3d5a0aa621984c826cc1e428ccbd852109f922c3"
   }
  }
 },
 "nbformat": 4,
 "nbformat_minor": 2
}
