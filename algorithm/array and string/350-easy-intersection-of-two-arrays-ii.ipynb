{
 "cells": [
  {
   "cell_type": "markdown",
   "metadata": {},
   "source": [
    "created on: 11/11/2021\n",
    "\n",
    "updated on: 11/11/2021"
   ]
  },
  {
   "cell_type": "markdown",
   "metadata": {},
   "source": [
    "# 350 Intersection of Two Arrays II\n",
    "\n",
    "Easy\n",
    "\n",
    "https://leetcode-cn.com/problems/intersection-of-two-arrays-ii/\n",
    "\n",
    "Create on: 11/11/2021\n",
    "\n",
    "Modified on: 8/13/2022\n",
    "\n",
    "---\n",
    "\n",
    "Given two integer arrays `nums1` and `nums2`, return an array of their intersection. Each element in the result must appear as many times as it shows in both arrays and you may return the result in **any order**.\n",
    "\n",
    "**Example 1:**\n",
    "\n",
    "```\n",
    "Input: nums1 = [1, 2, 2, 1], nums2 = [2, 2]\n",
    "Output: [2, 2]\n",
    "```\n",
    "\n",
    "**Example 2:**\n",
    "\n",
    "```\n",
    "Input: nums1 = [4, 9, 5], nums2 = [9, 4, 9, 8, 4]\n",
    "Output: [4, 9]\n",
    "Explanation: [9, 4] is also accepted.\n",
    "```\n",
    "\n",
    "**Constraints:**\n",
    "\n",
    "- $1 \\leq \\text{nums1.length}, \\text{nums2.length} \\leq 1000$\n",
    "- $0 \\leq \\text{nums1[i]}, \\text{nums2[j]} \\leq 1000$\n",
    "\n",
    "**Follow up:**\n",
    "\n",
    "- What if the given array is already sorted? How would you optimize your algorithm?\n",
    "- What if `nums1`'s size is small compared to `nums2`'s? Which algorithm is better?\n",
    "- What if elements of `nums2` are stored on disk, and the memory is limited such that you cannot load all elements into the memory at once?\n",
    "\n",
    "---\n"
   ]
  },
  {
   "cell_type": "code",
   "execution_count": 2,
   "metadata": {},
   "outputs": [],
   "source": [
    "from typing import List\n",
    "\n",
    "\n",
    "class Solution:\n",
    "    def intersect(self, nums1: List[int], nums2: List[int]) -> List[int]:\n",
    "        nums1.sort()\n",
    "        nums2.sort()\n",
    "        ans = []\n",
    "        n1, n2 = len(nums1), len(nums2)\n",
    "        i1 = i2 = 0\n",
    "\n",
    "        while i1 < n1 and i2 < n2:\n",
    "            if nums1[i1] > nums2[i2]:\n",
    "                i2 += 1\n",
    "            elif nums1[i1] < nums2[i2]:\n",
    "                i1 += 1\n",
    "            else:\n",
    "                ans.append(nums1[i1])\n",
    "                i1 += 1\n",
    "                i2 += 1\n",
    "        return ans\n"
   ]
  },
  {
   "cell_type": "code",
   "execution_count": 4,
   "metadata": {},
   "outputs": [
    {
     "name": "stdout",
     "output_type": "stream",
     "text": [
      "[2]\n",
      "[1]\n",
      "[2, 2]\n"
     ]
    }
   ],
   "source": [
    "# Test\n",
    "test = Solution()\n",
    "nums1 = [1, 2, 2, 1]\n",
    "nums2 = [2]\n",
    "print(test.intersect(nums1, nums2))\n",
    "\n",
    "nums1 = [3, 1, 2]\n",
    "nums2 = [1, 1]\n",
    "print(test.intersect(nums1, nums2))\n",
    "\n",
    "nums1 = [1, 2, 2, 1]\n",
    "nums2 = [2, 2]\n",
    "print(test.intersect(nums1, nums2))\n"
   ]
  },
  {
   "cell_type": "markdown",
   "metadata": {},
   "source": [
    "### Explanation\n",
    "\n"
   ]
  },
  {
   "cell_type": "markdown",
   "metadata": {},
   "source": [
    "---"
   ]
  }
 ],
 "metadata": {
  "kernelspec": {
   "display_name": "Python 3.7.6 ('base')",
   "language": "python",
   "name": "python3"
  },
  "language_info": {
   "codemirror_mode": {
    "name": "ipython",
    "version": 3
   },
   "file_extension": ".py",
   "mimetype": "text/x-python",
   "name": "python",
   "nbconvert_exporter": "python",
   "pygments_lexer": "ipython3",
   "version": "3.7.6"
  },
  "orig_nbformat": 2,
  "vscode": {
   "interpreter": {
    "hash": "01ef5fd295d2f06c799f887d3d5a0aa621984c826cc1e428ccbd852109f922c3"
   }
  }
 },
 "nbformat": 4,
 "nbformat_minor": 2
}
