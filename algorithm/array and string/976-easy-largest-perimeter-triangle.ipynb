{
 "cells": [
  {
   "cell_type": "markdown",
   "metadata": {},
   "source": [
    "# 976 Largest Perimeter Triangle\n",
    "\n",
    "Easy\n",
    "\n",
    "https://leetcode.cn/problems/largest-perimeter-triangle/\n",
    "\n",
    "Created on: 8/15/2024\n",
    "\n",
    "Modified on: 8/15/2024\n",
    "\n",
    "---\n",
    "\n",
    "Given an integer array `nums`, return the largest perimeter of triangle with a non-zero area, \n",
    "formed from three of these lengths. If it is impossible to form any triangle of a non-zero area, \n",
    "return `0`.\n",
    "\n",
    "**Example 1:**\n",
    "\n",
    "```\n",
    "Input: nums = [2,1,2]\n",
    "Output: 5\n",
    "Explanation: You can form a triangle with three side lengths: 1, 2, and 2.\n",
    "```\n",
    "\n",
    "**Example 2:**\n",
    "\n",
    "```\n",
    "Input: nums = [1,2,1,10]\n",
    "Output: 0\n",
    "Explanation: \n",
    "You cannot use the side lengths 1, 1, and 2 to form a triangle.\n",
    "You cannot use the side lengths 1, 1, and 10 to form a triangle.\n",
    "You cannot use the side lengths 1, 2, and 10 to form a triangle.\n",
    "As we cannot use any three side lengths to form a triangle of non-zero area, we return 0.\n",
    "```\n",
    "\n",
    "**Constraints:**\n",
    "\n",
    "- 3 <= `nums.length` <= 10^4\n",
    "- 1 <= `nums[i]` <= 10^6\n",
    "\n",
    "---\n"
   ]
  },
  {
   "cell_type": "markdown",
   "metadata": {},
   "source": [
    "# Java\n",
    "\n",
    "``` Java\n",
    "class Solution {\n",
    "    public int largestPerimeter(int[] nums) {\n",
    "        Arrays.sort(nums);\n",
    "        int n = nums.length;\n",
    "\n",
    "        for (int i = n - 2; i > 0; i--) {\n",
    "            int a = nums[i];\n",
    "            int b = nums[i - 1];\n",
    "            int c = nums[i + 1];\n",
    "\n",
    "            if (a + b > c)\n",
    "                return a + b + c;\n",
    "        }\n",
    "\n",
    "        return 0;\n",
    "    }\n",
    "}\n",
    "```"
   ]
  }
 ],
 "metadata": {
  "language_info": {
   "name": "python"
  }
 },
 "nbformat": 4,
 "nbformat_minor": 2
}
