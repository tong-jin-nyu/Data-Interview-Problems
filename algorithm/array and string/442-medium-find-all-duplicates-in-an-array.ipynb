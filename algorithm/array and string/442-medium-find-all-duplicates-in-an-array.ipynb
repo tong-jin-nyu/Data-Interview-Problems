{
 "cells": [
  {
   "cell_type": "markdown",
   "metadata": {},
   "source": [
    "# 442 Find All Duplicates in an Array\n",
    "\n",
    "Medium\n",
    "\n",
    "https://leetcode.cn/problems/find-all-duplicates-in-an-array\n",
    "\n",
    "Created on: 7/5/2022\n",
    "\n",
    "Modified on: 7/13/2022\n",
    "\n",
    "---\n",
    "\n",
    "Given a non-empty array of non-negative integers `nums`, the degree of this array is defined as the maximum frequency of any one of its elements.\n",
    "\n",
    "Your task is to find the smallest possible length of a (contiguous) subarray of `nums`, such that it has the same degree as `nums`.\n",
    "\n",
    "**Example 1:**\n",
    "\n",
    "```\n",
    "Input: nums = [1, 2, 2, 3, 1]\n",
    "Output: 2\n",
    "Explanation: \n",
    "The input array has a degree of 2 because both elements 1 and 2 appear twice.\n",
    "Of the subarrays that have the same degree:\n",
    "[1, 2, 2, 3, 1], [1, 2, 2, 3], [2, 2, 3, 1], [1, 2, 2], [2, 2, 3], [2, 2]\n",
    "The shortest length is 2. So return 2.\n",
    "```\n",
    "\n",
    "**Example 2:**\n",
    "\n",
    "```\n",
    "Input: nums = [1,2,2,3,1,4,2]\n",
    "Output: 6\n",
    "Explanation: \n",
    "The degree is 3 because the element 2 is repeated 3 times.\n",
    "So [2,2,3,1,4,2] is the shortest subarray, therefore returning 6.\n",
    "```\n",
    "\n",
    "**Constraints:**\n",
    "- `nums.length` will be between 1 and 50,000.\n",
    "- `nums[i]` will be an integer between 0 and 49,999.\n",
    "\n",
    "---\n"
   ]
  },
  {
   "cell_type": "code",
   "execution_count": 5,
   "metadata": {},
   "outputs": [
    {
     "name": "stdout",
     "output_type": "stream",
     "text": [
      "[2, 3]\n",
      "[1]\n",
      "[]\n",
      "[2]\n"
     ]
    }
   ],
   "source": [
    "from typing import List\n",
    "from collections import Counter\n",
    "\n",
    "\n",
    "class Solution:\n",
    "    def findDuplicates(self, nums: List[int]) -> List[int]:\n",
    "        nums.sort()\n",
    "        n = len(nums)\n",
    "        mp = Counter(nums)\n",
    "        output = list()\n",
    "\n",
    "        for val in set(nums):\n",
    "            tmp = mp.get(val, 0)\n",
    "            if tmp == 2:\n",
    "                output.append(val)\n",
    "\n",
    "        return output\n",
    "            \n",
    "\n",
    "\n",
    "\n",
    "# Test\n",
    "test = Solution()\n",
    "nums = [4, 3, 2, 7, 8, 2, 3, 1]\n",
    "print(test.findDuplicates(nums))\n",
    "\n",
    "nums = [1, 1, 2]\n",
    "print(test.findDuplicates(nums))\n",
    "\n",
    "nums = [1]\n",
    "print(test.findDuplicates(nums))\n",
    "\n",
    "nums = [2, 2]\n",
    "print(test.findDuplicates(nums))\n"
   ]
  }
 ],
 "metadata": {
  "kernelspec": {
   "display_name": "Python 3.9.4 64-bit",
   "language": "python",
   "name": "python3"
  },
  "language_info": {
   "codemirror_mode": {
    "name": "ipython",
    "version": 3
   },
   "file_extension": ".py",
   "mimetype": "text/x-python",
   "name": "python",
   "nbconvert_exporter": "python",
   "pygments_lexer": "ipython3",
   "version": "3.9.4"
  },
  "orig_nbformat": 2,
  "vscode": {
   "interpreter": {
    "hash": "fc8814d95e3bb7c7d620345642206f617029e5ce3d5941736e486cd8ca8f4058"
   }
  }
 },
 "nbformat": 4,
 "nbformat_minor": 2
}
