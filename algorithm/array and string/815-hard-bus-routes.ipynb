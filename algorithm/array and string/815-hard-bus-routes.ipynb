{
 "cells": [
  {
   "cell_type": "markdown",
   "metadata": {},
   "source": [
    "# 815 Bus Routes\n",
    "\n",
    "Hard\n",
    "\n",
    "https://leetcode.cn/problems/bus-routes/\n",
    "\n",
    "Created on: 9/16/2024\n",
    "\n",
    "Modified on: 9/16/2024\n",
    "\n",
    "---\n",
    "\n",
    "You are given an array `routes` representing bus routes where `routes[i]` is a bus route that the \n",
    "`ith` bus repeats forever.\n",
    "\n",
    "- For example, if `routes[0] = [1, 5, 7]`, this means that the `0th` bus travels in the sequence `1 -> 5 -> 7 -> 1 -> 5 -> 7 -> 1 -> ...` forever.\n",
    "\n",
    "You will start at the bus stop `source` (You are not on any bus initially), and you want to go to \n",
    "the bus stop `target`. You can travel between bus stops by buses only.\n",
    "\n",
    "Return the least number of buses you must take to travel from `source` to `target`. \n",
    "Return `-1` if it is not possible.\n",
    "\n",
    "**Example 1:**\n",
    "\n",
    "```\n",
    "Input: routes = [[1,2,7],[3,6,7]], source = 1, target = 6\n",
    "Output: 2\n",
    "Explanation: The best strategy is take the first bus to the bus stop 7, then take the second bus to the bus stop 6.\n",
    "```\n",
    "\n",
    "**Example 2:**\n",
    "\n",
    "```\n",
    "Input: routes = [[7,12],[4,5,15],[6],[15,19],[9,12,13]], source = 15, target = 12\n",
    "Output: -1\n",
    "```\n",
    "\n",
    "**Constraints:**\n",
    "\n",
    "- `1 <= routes.length <= 500.`\n",
    "- `1 <= routes[i].length <= 105`\n",
    "- All the values of `routes[i]` are unique.\n",
    "- `sum(routes[i].length) <= 105`\n",
    "- `0 <= routes[i][j] < 106`\n",
    "- `0 <= source, target < 106`\n",
    "\n",
    "---\n"
   ]
  },
  {
   "cell_type": "code",
   "execution_count": 2,
   "metadata": {},
   "outputs": [
    {
     "data": {
      "text/plain": [
       "2"
      ]
     },
     "execution_count": 2,
     "metadata": {},
     "output_type": "execute_result"
    }
   ],
   "source": [
    "# Python\n",
    "\n",
    "from collections import defaultdict\n",
    "from typing import List\n",
    "\n",
    "\n",
    "class Solution:\n",
    "    def numBusesToDestination(self, routes: List[List[int]], source: int, target: int) -> int:\n",
    "        if source == target:\n",
    "            return 0\n",
    "\n",
    "        g = defaultdict(list)\n",
    "        for i, route in enumerate(routes):\n",
    "            for stop in route:\n",
    "                g[stop].append(i)  # Assign routes to stops\n",
    "        \n",
    "        if source not in g or target not in g:\n",
    "            return -1\n",
    "\n",
    "        q = [(source, 0)]\n",
    "        visited_bus = set()\n",
    "        visited_stop = {source}\n",
    "\n",
    "        # BFS\n",
    "        for stop, buses in q:\n",
    "            if stop == target:\n",
    "                return buses\n",
    "\n",
    "            for bus in g[stop]:\n",
    "                if bus not in visited_bus:\n",
    "                    visited_bus.add(bus)\n",
    "\n",
    "                    for next_stop in routes[bus]:\n",
    "                        if next_stop not in visited_stop:\n",
    "                            visited_stop.add(next_stop)\n",
    "                            q.append((next_stop, buses + 1))\n",
    "\n",
    "        return -1\n",
    "\n",
    "test = Solution()\n",
    "test.numBusesToDestination([[1,2,7],[3,6,7]], 1, 6) # 2"
   ]
  }
 ],
 "metadata": {
  "kernelspec": {
   "display_name": "Python 3",
   "language": "python",
   "name": "python3"
  },
  "language_info": {
   "codemirror_mode": {
    "name": "ipython",
    "version": 3
   },
   "file_extension": ".py",
   "mimetype": "text/x-python",
   "name": "python",
   "nbconvert_exporter": "python",
   "pygments_lexer": "ipython3",
   "version": "3.11.9"
  }
 },
 "nbformat": 4,
 "nbformat_minor": 2
}
