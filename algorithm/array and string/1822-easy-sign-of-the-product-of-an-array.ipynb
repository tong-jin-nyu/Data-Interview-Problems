{
 "cells": [
  {
   "cell_type": "markdown",
   "metadata": {},
   "source": [
    "# 1822 Sign of the Product of an Array\n",
    "\n",
    "Easy\n",
    "\n",
    "https://leetcode.cn/problems/sign-of-the-product-of-an-array/description/\n",
    "\n",
    "Created on: 7/21/2024\n",
    "\n",
    "Modified on: 7/21/2024\n",
    "\n",
    "---\n",
    "\n",
    "There is a function `signFunc(x)` that returns:\n",
    "- `1` if `x` is positive.\n",
    "- `-1` if `x` is negative.\n",
    "- `0` if `x` is equal to `0`.\n",
    "\n",
    "You are given an integer array `nums`. Let `product` be the product of all \n",
    "values in the array `nums`.\n",
    "\n",
    "Return `signFunc(product)`.\n",
    "\n",
    "**Example 1:**\n",
    "\n",
    "```\n",
    "Input: nums = [-1,-2,-3,-4,3,2,1]\n",
    "Output: 1\n",
    "Explanation: The product of all values in the array is 144, and signFunc(144) = 1\n",
    "```\n",
    "\n",
    "**Example 2:**\n",
    "\n",
    "```\n",
    "Input: nums = [1,5,0,2,-3]\n",
    "Output: 0\n",
    "Explanation: The product of all values in the array is 0, and signFunc(0) = 0\n",
    "```\n",
    "\n",
    "**Example 3:**\n",
    "\n",
    "```\n",
    "Input: nums = [-1,1,-1,1,-1]\n",
    "Output: -1\n",
    "Explanation: The product of all values in the array is -1, and signFunc(-1) = -1\n",
    "```\n",
    "\n",
    "**Constraints:**\n",
    "\n",
    "- `1 <= nums.length <= 1000`\n",
    "- `-100 <= nums[i] <= 100`\n",
    "\n",
    "---\n"
   ]
  },
  {
   "cell_type": "markdown",
   "metadata": {},
   "source": [
    "Java\n",
    "\n",
    "```\n",
    "class Solution {\n",
    "    public int arraySign(int[] nums) {\n",
    "        int flipper = 1;\n",
    "\n",
    "        for (int num : nums) {\n",
    "            if (num == 0) {\n",
    "                return 0;\n",
    "            } else if (num < 0) {\n",
    "                flipper = -flipper;\n",
    "            }\n",
    "        }\n",
    "\n",
    "        return flipper;\n",
    "    }\n",
    "}\n",
    "```"
   ]
  },
  {
   "cell_type": "code",
   "execution_count": 2,
   "metadata": {},
   "outputs": [],
   "source": [
    "# Python\n",
    "from typing import List\n",
    "\n",
    "class Solution:\n",
    "    def arraySign(self, nums: List[int]) -> int:\n",
    "        flipper = 1\n",
    "        for num in nums:\n",
    "            if num == 0:\n",
    "                return 0\n",
    "            if num < 0:\n",
    "                flipper = -flipper\n",
    "        return flipper"
   ]
  }
 ],
 "metadata": {
  "kernelspec": {
   "display_name": "Python 3",
   "language": "python",
   "name": "python3"
  },
  "language_info": {
   "codemirror_mode": {
    "name": "ipython",
    "version": 3
   },
   "file_extension": ".py",
   "mimetype": "text/x-python",
   "name": "python",
   "nbconvert_exporter": "python",
   "pygments_lexer": "ipython3",
   "version": "3.11.9"
  }
 },
 "nbformat": 4,
 "nbformat_minor": 2
}
