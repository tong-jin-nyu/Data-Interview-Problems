{
 "cells": [
  {
   "cell_type": "markdown",
   "metadata": {},
   "source": [
    "# 498 Diagonal Traverse\n",
    "\n",
    "Medium\n",
    "\n",
    "Created on: 7/1/2022\n",
    "\n",
    "Modified on: 7/2/2022\n",
    "\n",
    "---\n",
    "\n",
    "Given an `m x n` matrix `mat`, return *an array of all the elements of the array in a diagonal order*.\n",
    "\n",
    "**Example 1:**\n",
    "![Example 1](https://assets.leetcode.com/uploads/2021/04/10/diag1-grid.jpg)\n",
    "\n",
    "```\n",
    "Input: mat = [[1,2,3],[4,5,6],[7,8,9]]\n",
    "Output: [1,2,4,7,5,3,6,8,9]\n",
    "```\n",
    "\n",
    "**Example 2:**\n",
    "\n",
    "```\n",
    "Input: mat = [[1,2],[3,4]]\n",
    "Output: [1,2,3,4]\n",
    "```\n",
    "\n",
    "**Constraints:**\n",
    "- `m == mat.length`\n",
    "- `n == mat[i].length`\n",
    "- `1 <= m, n <= 10^4`\n",
    "- `1 <- m * n <= 10^4\n",
    "- `-10^5 <= mat[i][j] <= 10^5`\n",
    "\n",
    "---\n"
   ]
  },
  {
   "cell_type": "code",
   "execution_count": 18,
   "metadata": {},
   "outputs": [
    {
     "data": {
      "text/plain": [
       "[2, 5, 8, 0, 4, -1]"
      ]
     },
     "execution_count": 18,
     "metadata": {},
     "output_type": "execute_result"
    }
   ],
   "source": [
    "from typing import List\n",
    "\n",
    "\n",
    "class Solution:\n",
    "    def findDiagonalOrder(self, mat: List[List[int]]) -> List[int]:\n",
    "        if not mat:\n",
    "            return []\n",
    "        else:\n",
    "            diagonals = list()\n",
    "            output = list()\n",
    "            m = len(mat)\n",
    "            n = len(mat[0])\n",
    "\n",
    "            for col in range(n):\n",
    "                diagonal = list()\n",
    "                row = 0\n",
    "                while col >= 0 and row <= m - 1:\n",
    "                    diagonal.append(mat[row][col])\n",
    "                    col -= 1\n",
    "                    row += 1\n",
    "                diagonals.append(diagonal)\n",
    "\n",
    "            for row in range(1, m):\n",
    "                diagonal = list()\n",
    "                col = n - 1\n",
    "                while row < m and col >= 0:\n",
    "                    diagonal.append(mat[row][col])\n",
    "                    col -= 1\n",
    "                    row += 1\n",
    "                diagonals.append(diagonal)\n",
    "\n",
    "            for i, diagonal in enumerate(diagonals):\n",
    "                if not i % 2:  # Even\n",
    "                    diagonal.reverse()\n",
    "                output += diagonal\n",
    "\n",
    "            return output\n",
    "\n",
    "\n",
    "# Test\n",
    "test = Solution()\n",
    "matrix = [[2, 5], [8, 4], [0, -1]]\n",
    "test.findDiagonalOrder(matrix)\n"
   ]
  },
  {
   "cell_type": "markdown",
   "metadata": {},
   "source": [
    "---"
   ]
  }
 ],
 "metadata": {
  "kernelspec": {
   "display_name": "Python 3.7.6 ('base')",
   "language": "python",
   "name": "python3"
  },
  "language_info": {
   "codemirror_mode": {
    "name": "ipython",
    "version": 3
   },
   "file_extension": ".py",
   "mimetype": "text/x-python",
   "name": "python",
   "nbconvert_exporter": "python",
   "pygments_lexer": "ipython3",
   "version": "3.7.6"
  },
  "orig_nbformat": 2,
  "vscode": {
   "interpreter": {
    "hash": "01ef5fd295d2f06c799f887d3d5a0aa621984c826cc1e428ccbd852109f922c3"
   }
  }
 },
 "nbformat": 4,
 "nbformat_minor": 2
}
