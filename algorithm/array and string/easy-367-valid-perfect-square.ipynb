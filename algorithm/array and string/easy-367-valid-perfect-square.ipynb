{
 "cells": [
  {
   "cell_type": "markdown",
   "metadata": {},
   "source": [
    "# 367 Valid Perfect Square\n",
    "\n",
    "Easy\n",
    "\n",
    "https://leetcode.cn/problems/valid-perfect-square/\n",
    "\n",
    "Created on: 7/7/2022\n",
    "\n",
    "Modified on: 7/7/2022\n",
    "\n",
    "---\n",
    "\n",
    "Given a positive integer `num`, write a function which returns True if `num` is a perfect square else False.\n",
    "\n",
    "**Follow up:** Do not use any built-in library function such as `sqrt`.\n",
    "\n",
    "**Example 1:**\n",
    "\n",
    "```\n",
    "Input: num = 16\n",
    "Output: true\n",
    "```\n",
    "\n",
    "**Example 2:**\n",
    "\n",
    "```\n",
    "Input: num = 14\n",
    "Output: false\n",
    "```\n",
    "\n",
    "**Constraints:**\n",
    "\n",
    "- 1 <= `num.length` <= 2^31 - 1\n",
    "\n",
    "---\n"
   ]
  },
  {
   "cell_type": "code",
   "execution_count": 2,
   "metadata": {},
   "outputs": [
    {
     "name": "stdout",
     "output_type": "stream",
     "text": [
      "True\n",
      "False\n"
     ]
    }
   ],
   "source": [
    "class Solution:\n",
    "    def isPerfectSquare(self, num: int) -> bool:\n",
    "        left, right = 0, num\n",
    "\n",
    "        while left <= right:\n",
    "            mid = (right - left) // 2 + left\n",
    "            if mid * mid == num:\n",
    "                return True\n",
    "            elif mid * mid > num:\n",
    "                right = mid - 1\n",
    "            else:\n",
    "                left = mid + 1\n",
    "\n",
    "        return False\n",
    "\n",
    "\n",
    "\n",
    "# Test\n",
    "test = Solution()\n",
    "print(test.isPerfectSquare(num=16))\n",
    "print(test.isPerfectSquare(num=14))\n"
   ]
  },
  {
   "cell_type": "markdown",
   "metadata": {},
   "source": [
    "Note: binary search"
   ]
  }
 ],
 "metadata": {
  "kernelspec": {
   "display_name": "Python 3.9.4 64-bit",
   "language": "python",
   "name": "python3"
  },
  "language_info": {
   "codemirror_mode": {
    "name": "ipython",
    "version": 3
   },
   "file_extension": ".py",
   "mimetype": "text/x-python",
   "name": "python",
   "nbconvert_exporter": "python",
   "pygments_lexer": "ipython3",
   "version": "3.9.4"
  },
  "vscode": {
   "interpreter": {
    "hash": "fc8814d95e3bb7c7d620345642206f617029e5ce3d5941736e486cd8ca8f4058"
   }
  }
 },
 "nbformat": 4,
 "nbformat_minor": 2
}
