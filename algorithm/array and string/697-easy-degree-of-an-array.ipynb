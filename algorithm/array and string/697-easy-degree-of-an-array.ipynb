{
 "cells": [
  {
   "cell_type": "markdown",
   "metadata": {},
   "source": [
    "# 697 Degree of an Array\n",
    "\n",
    "Easy\n",
    "\n",
    "https://leetcode.cn/problems/degree-of-an-array/\n",
    "\n",
    "Created on: 7/5/2022\n",
    "\n",
    "Modified on: 7/13/2022\n",
    "\n",
    "---\n",
    "\n",
    "Given a non-empty array of non-negative integers `nums`, the degree of this array is defined as the maximum frequency of any one of its elements.\n",
    "\n",
    "Your task is to find the smallest possible length of a (contiguous) subarray of `nums`, such that it has the same degree as `nums`.\n",
    "\n",
    "**Example 1:**\n",
    "\n",
    "```\n",
    "Input: nums = [1, 2, 2, 3, 1]\n",
    "Output: 2\n",
    "Explanation: \n",
    "The input array has a degree of 2 because both elements 1 and 2 appear twice.\n",
    "Of the subarrays that have the same degree:\n",
    "[1, 2, 2, 3, 1], [1, 2, 2, 3], [2, 2, 3, 1], [1, 2, 2], [2, 2, 3], [2, 2]\n",
    "The shortest length is 2. So return 2.\n",
    "```\n",
    "\n",
    "**Example 2:**\n",
    "\n",
    "```\n",
    "Input: nums = [1,2,2,3,1,4,2]\n",
    "Output: 6\n",
    "Explanation: \n",
    "The degree is 3 because the element 2 is repeated 3 times.\n",
    "So [2,2,3,1,4,2] is the shortest subarray, therefore returning 6.\n",
    "```\n",
    "\n",
    "**Constraints:**\n",
    "- `nums.length` will be between 1 and 50,000.\n",
    "- `nums[i]` will be an integer between 0 and 49,999.\n",
    "\n",
    "---\n"
   ]
  },
  {
   "cell_type": "code",
   "execution_count": 1,
   "metadata": {},
   "outputs": [
    {
     "name": "stdout",
     "output_type": "stream",
     "text": [
      "6\n",
      "2\n"
     ]
    }
   ],
   "source": [
    "from typing import List\n",
    "\n",
    "\n",
    "class Solution:\n",
    "    def findShortestSubArray(self, nums: List[int]) -> int:\n",
    "        dic = dict()\n",
    "\n",
    "        for i, val in enumerate(nums):\n",
    "            if val in dic:\n",
    "                dic[val][0] += 1\n",
    "                dic[val][2] = i\n",
    "            else:\n",
    "                dic[val] = [1, i, i]\n",
    "        \n",
    "        maxNum = minLen = 0\n",
    "        for count, left, right in dic.values():\n",
    "            if maxNum < count:\n",
    "                maxNum = count\n",
    "                minLen = right - left + 1\n",
    "            elif maxNum == count:\n",
    "                length = right - left + 1\n",
    "                if minLen > length:\n",
    "                    minLen = length\n",
    "            \n",
    "        return minLen\n",
    "            \n",
    "\n",
    "\n",
    "\n",
    "# Test\n",
    "test = Solution()\n",
    "nums = [1, 2, 2, 3, 1, 4, 2]\n",
    "print(test.findShortestSubArray(nums))\n",
    "\n",
    "nums = [1, 2, 2, 3, 1]\n",
    "print(test.findShortestSubArray(nums))\n"
   ]
  }
 ],
 "metadata": {
  "kernelspec": {
   "display_name": "Python 3.7.6 ('base')",
   "language": "python",
   "name": "python3"
  },
  "language_info": {
   "codemirror_mode": {
    "name": "ipython",
    "version": 3
   },
   "file_extension": ".py",
   "mimetype": "text/x-python",
   "name": "python",
   "nbconvert_exporter": "python",
   "pygments_lexer": "ipython3",
   "version": "3.7.6"
  },
  "orig_nbformat": 2,
  "vscode": {
   "interpreter": {
    "hash": "01ef5fd295d2f06c799f887d3d5a0aa621984c826cc1e428ccbd852109f922c3"
   }
  }
 },
 "nbformat": 4,
 "nbformat_minor": 2
}
