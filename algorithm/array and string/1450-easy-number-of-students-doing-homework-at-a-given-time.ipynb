{
 "cells": [
  {
   "cell_type": "markdown",
   "metadata": {},
   "source": [
    "# 1450 Number of Students Doing Homework at a Given Time\n",
    "\n",
    "Easy\n",
    "\n",
    "https://leetcode.cn/problems/number-of-students-doing-homework-at-a-given-time/\n",
    "\n",
    "Created on: 8/19/2022\n",
    "\n",
    "Modified on: 8/19/2022\n",
    "\n",
    "---\n",
    "\n",
    "Given two integer arrays `startTime` and `endTime` and given an integer `queryTime`.\n",
    "\n",
    "The `ith` student started doing their homework at the time `startTime[i]` and finished it at time `endTime[i]`.\n",
    "\n",
    "Return the number of students doing their homework at time `queryTime`. More formally, return the number of students where `queryTime` lays in the interval `[startTime[i], endTime[i]` inclusively.\n",
    "\n",
    "**Example 1:**\n",
    "\n",
    "```\n",
    "Input: startTime = [1,2,3], endTime = [3,2,7], queryTime = 4\n",
    "Output: 1\n",
    "Explanation: We have 3 students where:\n",
    "The first student started doing homework at time 1 and finished at time 3 and wasn't doing anything at time 4.\n",
    "The second student started doing homework at time 2 and finished at time 2 and also wasn't doing anything at time 4.\n",
    "The third student started doing homework at time 3 and finished at time 7 and was the only student doing homework at time 4.\n",
    "```\n",
    "\n",
    "**Example 2:**\n",
    "\n",
    "```\n",
    "Input: startTime = [4], endTime = [4], queryTime = 4\n",
    "Output: 1\n",
    "Explanation: The only student was doing their homework at the queryTime.\n",
    "```\n",
    "\n",
    "**Constraints:**\n",
    "\n",
    "- `startTime.length == endTime.length`\n",
    "- 1 <= `startTime.length` <= 100\n",
    "- 1 <= `startTime[i]` <= `endTime[i]` <= 1000\n",
    "- 1 <= `queryTime` <= 1000\n",
    "\n",
    "---\n"
   ]
  },
  {
   "cell_type": "code",
   "execution_count": 1,
   "metadata": {},
   "outputs": [],
   "source": [
    "from typing import List\n",
    "\n",
    "\n",
    "class Solution:\n",
    "    def busyStudent(self, startTime: List[int], endTime: List[int], queryTime: int) -> int:\n",
    "        ans = 0\n",
    "        n = len(startTime)\n",
    "        for i in range(n):\n",
    "            if startTime[i] <= queryTime <= endTime[i]:\n",
    "                ans += 1\n",
    "        return ans\n"
   ]
  },
  {
   "cell_type": "code",
   "execution_count": 2,
   "metadata": {},
   "outputs": [
    {
     "data": {
      "text/plain": [
       "1"
      ]
     },
     "execution_count": 2,
     "metadata": {},
     "output_type": "execute_result"
    }
   ],
   "source": [
    "# Test\n",
    "test = Solution()\n",
    "startTime = [1, 2, 3]\n",
    "endTime = [3, 2, 7]\n",
    "queryTime = 4\n",
    "test.busyStudent(startTime, endTime, queryTime)\n"
   ]
  },
  {
   "cell_type": "markdown",
   "metadata": {},
   "source": [
    "---"
   ]
  }
 ],
 "metadata": {
  "kernelspec": {
   "display_name": "Python 3.7.6 ('base')",
   "language": "python",
   "name": "python3"
  },
  "language_info": {
   "codemirror_mode": {
    "name": "ipython",
    "version": 3
   },
   "file_extension": ".py",
   "mimetype": "text/x-python",
   "name": "python",
   "nbconvert_exporter": "python",
   "pygments_lexer": "ipython3",
   "version": "3.7.6"
  },
  "orig_nbformat": 2,
  "vscode": {
   "interpreter": {
    "hash": "01ef5fd295d2f06c799f887d3d5a0aa621984c826cc1e428ccbd852109f922c3"
   }
  }
 },
 "nbformat": 4,
 "nbformat_minor": 2
}
