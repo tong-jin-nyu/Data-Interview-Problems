{
 "cells": [
  {
   "cell_type": "markdown",
   "metadata": {},
   "source": [
    "# 153 Find Minimum in Rotated Sorted Array\n",
    "\n",
    "Medium\n",
    "\n",
    "Created on: 7/4/2022\n",
    "\n",
    "Modified on: 7/4/2022\n",
    "\n",
    "---\n",
    "\n",
    "Suppose an array of length `n` sorted in ascending order is **rotated** between `1` and `n` times. For example, the array `nums = [0,1,2,4,5,6,7]` might become:\n",
    "\n",
    "- `[4,5,6,7,0,1,2` if it was rotated `4` times.\n",
    "- `[0,1,2,4,5,6,7` if it was rotated `7` times.\n",
    "\n",
    "Notice that **rotating** an array `[a[0], a[1], a[2], ..., a[n-1]]` 1 time gets `[a[n-1], a[0], a[1], a[2], ..., a[n-2]]`.\n",
    "\n",
    "Given the sorted rorated array `nums` of unique elements, return the minimum element of this array.\n",
    "\n",
    "You must write an algorithm that runs in `O(log n)` time.\n",
    "\n",
    "**Example 1:**\n",
    "\n",
    "``` text\n",
    "Input: nums = [3,4,5,1,2]\n",
    "Output: 1\n",
    "Explanation: The original array was [1,2,3,4,5] rotated 3 times.\n",
    "```\n",
    "\n",
    "**Example 2:**\n",
    "\n",
    "``` text\n",
    "Input: nums = [4,5,6,7,0,1,2]\n",
    "Output: 0\n",
    "Explanation: The original array was [0,1,2,4,5,6,7] and it was rotated 4 times.\n",
    "```\n",
    "\n",
    "**Example 3:**\n",
    "\n",
    "``` text\n",
    "Input: nums = [11,13,15,17]\n",
    "Output: 11\n",
    "Explanation: The original array was [11,13,15,17] and it was rotated 4 times. \n",
    "```\n",
    "\n",
    "**Constraints:**\n",
    "- n == nums.length\n",
    "- 1 <= n <= 5000\n",
    "- `-5000 <= nums[i] <= 5000`\n",
    "- All the integers of `nums` are unique.\n",
    "- `nums` is sorted and rotated between `1` and `n` times.\n",
    "\n",
    "---\n"
   ]
  },
  {
   "cell_type": "code",
   "execution_count": 17,
   "metadata": {},
   "outputs": [
    {
     "name": "stdout",
     "output_type": "stream",
     "text": [
      "1\n",
      "1\n",
      "11\n"
     ]
    }
   ],
   "source": [
    "from typing import List\n",
    "\n",
    "\n",
    "class Solution:\n",
    "    def findMin(self, nums: List[int]) -> int:\n",
    "        n = len(nums)\n",
    "        left, right = 0, n - 1\n",
    "\n",
    "        while left < right:\n",
    "            mid = (right - left) // 2 + left\n",
    "            if nums[mid] < nums[right]:\n",
    "                right = mid\n",
    "            else:\n",
    "                left = mid + 1\n",
    "\n",
    "        return nums[left]\n",
    "\n",
    "# Test\n",
    "test = Solution()\n",
    "nums = [5, 1, 2, 3, 4]\n",
    "print(test.findMin(nums))\n",
    "\n",
    "nums = [3, 4, 5, 1, 2]\n",
    "print(test.findMin(nums))\n",
    "\n",
    "nums = [11, 13, 15, 17]\n",
    "print(test.findMin(nums))\n"
   ]
  },
  {
   "cell_type": "code",
   "execution_count": null,
   "metadata": {},
   "outputs": [],
   "source": []
  },
  {
   "cell_type": "code",
   "execution_count": null,
   "metadata": {},
   "outputs": [],
   "source": []
  }
 ],
 "metadata": {
  "kernelspec": {
   "display_name": "Python 3.7.6 ('base')",
   "language": "python",
   "name": "python3"
  },
  "language_info": {
   "codemirror_mode": {
    "name": "ipython",
    "version": 3
   },
   "file_extension": ".py",
   "mimetype": "text/x-python",
   "name": "python",
   "nbconvert_exporter": "python",
   "pygments_lexer": "ipython3",
   "version": "3.7.6"
  },
  "vscode": {
   "interpreter": {
    "hash": "01ef5fd295d2f06c799f887d3d5a0aa621984c826cc1e428ccbd852109f922c3"
   }
  }
 },
 "nbformat": 4,
 "nbformat_minor": 2
}
