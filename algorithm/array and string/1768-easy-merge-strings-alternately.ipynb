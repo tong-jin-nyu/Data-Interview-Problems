{
 "cells": [
  {
   "cell_type": "markdown",
   "metadata": {},
   "source": [
    "# 1768 Merge Strings Alternately\n",
    "\n",
    "Easy\n",
    "\n",
    "https://leetcode.cn/problems/merge-strings-alternately/?envType=study-plan-v2&envId=programming-skills\n",
    "\n",
    "Created on: 7/21/2024\n",
    "\n",
    "Modified on: 7/21/2024\n",
    "\n",
    "---\n",
    "\n",
    "You are given two strings `word1` and `word2`. Merge the strings by adding \n",
    "letters in alternating order, starting with `word1`. If a string is longer \n",
    "than the order, append the additonal letters onto the end of the merged string.\n",
    "\n",
    "Return the merged string.\n",
    "\n",
    "**Example 1:**\n",
    "\n",
    "```\n",
    "Input: word1 = \"abc\", word2 = \"pqr\"\n",
    "Output: \"apbqcr\"\n",
    "Explanation: The merged string will be merged as so:\n",
    "word1:  a   b   c\n",
    "word2:    p   q   r\n",
    "merged: a p b q c r\n",
    "```\n",
    "\n",
    "**Example 2:**\n",
    "\n",
    "```\n",
    "Input: word1 = \"ab\", word2 = \"pqrs\"\n",
    "Output: \"apbqrs\"\n",
    "Explanation: Notice that as word2 is longer, \"rs\" is appended to the end.\n",
    "word1:  a   b \n",
    "word2:    p   q   r   s\n",
    "merged: a p b q   r   s\n",
    "```\n",
    "\n",
    "**Example 3:**\n",
    "\n",
    "```\n",
    "Input: word1 = \"abcd\", word2 = \"pq\"\n",
    "Output: \"apbqcd\"\n",
    "Explanation: Notice that as word1 is longer, \"cd\" is appended to the end.\n",
    "word1:  a   b   c   d\n",
    "word2:    p   q \n",
    "merged: a p b q c   d\n",
    "```\n",
    "\n",
    "**Constraints:**\n",
    "\n",
    "- 1 <= `word1.length, word2.length` <= 100\n",
    "- `word1` and `word2` consist of lowercase English letters.\n",
    "\n",
    "---\n"
   ]
  },
  {
   "cell_type": "markdown",
   "metadata": {
    "vscode": {
     "languageId": "plaintext"
    }
   },
   "source": [
    "Java\n",
    "\n",
    "```\n",
    "class Solution {\n",
    "    public String mergeAlternately(String word1, String word2) {\n",
    "        StringBuilder res = new StringBuilder();\n",
    "        if (word1.length() < word2.length()) {\n",
    "            for (int i = 0; i < word1.length(); i++) {\n",
    "                res.append(word1.charAt(i));\n",
    "                res.append(word2.charAt(i));\n",
    "            }\n",
    "            res.append(word2.substring(word1.length(), word2.length()));\n",
    "        } else if (word1.length() == word2.length()) {\n",
    "            for (int i = 0; i < word1.length(); i++) {\n",
    "                res.append(word1.charAt(i));\n",
    "                res.append(word2.charAt(i));\n",
    "            }\n",
    "        } else {\n",
    "            for (int i = 0; i < word2.length(); i++) {\n",
    "                res.append(word1.charAt(i));\n",
    "                res.append(word2.charAt(i));\n",
    "            }\n",
    "            res.append(word1.substring(word2.length(), word1.length()));\n",
    "        }\n",
    "        return res.toString();\n",
    "    }\n",
    "}\n",
    "```"
   ]
  },
  {
   "cell_type": "code",
   "execution_count": null,
   "metadata": {},
   "outputs": [],
   "source": [
    "# Python\n",
    "\n",
    "class Solution:\n",
    "    def mergeAlternately(self, word1: str, word2: str) -> str:\n",
    "        res = ''\n",
    "        m, n = len(word1), len(word2)\n",
    "        i = 0\n",
    "\n",
    "        while i < m and i < n:\n",
    "            res += word1[i]\n",
    "            res += word2[i]\n",
    "            i += 1\n",
    "\n",
    "        res += word1[i: ]\n",
    "        res += word2[i: ]\n",
    "        \n",
    "        return res"
   ]
  },
  {
   "cell_type": "markdown",
   "metadata": {
    "vscode": {
     "languageId": "groovy"
    }
   },
   "source": [
    "Official - Java\n",
    "```\n",
    "class Solution {\n",
    "    public String mergeAlternately(String word1, String word2) {\n",
    "        int m = word1.length(), n = word2.length();\n",
    "        int i = 0, j = 0;\n",
    "\n",
    "        StringBuilder ans = new StringBuilder();\n",
    "        while (i < m || j < n) {\n",
    "            if (i < m) {\n",
    "                ans.append(word1.charAt(i));\n",
    "                ++i;\n",
    "            }\n",
    "            if (j < n) {\n",
    "                ans.append(word2.charAt(j));\n",
    "                ++j;\n",
    "            }\n",
    "        }\n",
    "        return ans.toString();\n",
    "    }\n",
    "}\n",
    "```"
   ]
  }
 ],
 "metadata": {
  "language_info": {
   "name": "python"
  }
 },
 "nbformat": 4,
 "nbformat_minor": 2
}
