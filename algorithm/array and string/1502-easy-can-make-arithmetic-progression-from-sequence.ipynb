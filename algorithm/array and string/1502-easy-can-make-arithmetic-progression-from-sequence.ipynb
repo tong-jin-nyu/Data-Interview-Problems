{
 "cells": [
  {
   "cell_type": "markdown",
   "metadata": {},
   "source": [
    "# 1502 Can Make Arithmetic Progression From Sequence\n",
    "\n",
    "Easy\n",
    "\n",
    "https://leetcode.cn/problems/can-make-arithmetic-progression-from-sequence/\n",
    "\n",
    "Created on: 8/12/2024\n",
    "\n",
    "Modified on: 8/12/2024\n",
    "\n",
    "---\n",
    "\n",
    "A sequence of numbers is called an arithmetic progression if the difference between any two \n",
    "consecutive elements is the same.\n",
    "\n",
    "Given an array of numbers `arr`, return `true` if the array can be rearranged to form an arithmetic \n",
    "progression. Otherwise, return `false`.\n",
    "\n",
    "**Example 1:**\n",
    "\n",
    "```\n",
    "Input: arr = [3,5,1]\n",
    "Output: true\n",
    "Explanation: We can reorder the elements as [1,3,5] or [5,3,1] with differences 2 and -2 respectively, between each consecutive elements.\n",
    "```\n",
    "\n",
    "**Example 2:**\n",
    "\n",
    "```\n",
    "Input: arr = [1,2,4]\n",
    "Output: false\n",
    "Explanation: There is no way to reorder the elements to obtain an arithmetic progression.\n",
    "```\n",
    "\n",
    "**Constraints:**\n",
    "\n",
    "- `2 <= arr.length <= 1000`\n",
    "- `-10^6 <= arr[i] <= 10^6`\n",
    "\n",
    "---\n"
   ]
  },
  {
   "cell_type": "markdown",
   "metadata": {},
   "source": [
    "# Java\n",
    "\n",
    "``` Java\n",
    "class Solution {\n",
    "    public boolean canMakeArithmeticProgression(int[] arr) {\n",
    "        Arrays.sort(arr);\n",
    "        long diff = arr[1] - arr[0];\n",
    "        int n = arr.length;\n",
    "\n",
    "        for (int i = 1; i < n; i++) {\n",
    "            if (arr[i] - arr[i - 1] != diff)\n",
    "                return false;\n",
    "        }\n",
    "\n",
    "        return true;\n",
    "    }\n",
    "}\n",
    "```"
   ]
  }
 ],
 "metadata": {
  "language_info": {
   "name": "python"
  }
 },
 "nbformat": 4,
 "nbformat_minor": 2
}
