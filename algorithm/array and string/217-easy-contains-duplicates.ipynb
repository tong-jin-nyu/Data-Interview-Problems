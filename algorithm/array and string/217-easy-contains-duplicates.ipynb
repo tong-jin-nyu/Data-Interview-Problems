{
 "cells": [
  {
   "cell_type": "markdown",
   "metadata": {},
   "source": [
    "# Contains Duplicates\n",
    "\n",
    "Easy\n",
    "\n",
    "https://leetcode.cn/problems/contains-duplicate/\n",
    "\n",
    "Created on: 11/1/2021\n",
    "\n",
    "Modified on: 7/21/2022\n",
    "\n",
    "---\n",
    "\n",
    "Given an interger array `nums`, return `true` if any value appears **at least twice** in the array, and return `false` if every element is distinct.\n",
    "\n",
    "**Example 1:**\n",
    "\n",
    "```\n",
    "Input: nums = [1, 2, 3, 1]\n",
    "Output: true\n",
    "```\n",
    "\n",
    "**Example 2:**\n",
    "\n",
    "```\n",
    "Input: nums = [1, 2, 3, 4]\n",
    "Output: false\n",
    "```\n",
    "\n",
    "**Constraints:**\n",
    "\n",
    "- $1 \\leq \\text{nums.length} \\leq 10^{5}$\n",
    "- $-10^{9} \\leq \\text{nums[i]} \\leq 10^{9}$\n",
    "\n",
    "---\n"
   ]
  },
  {
   "cell_type": "code",
   "execution_count": 1,
   "metadata": {},
   "outputs": [
    {
     "name": "stdout",
     "output_type": "stream",
     "text": [
      "True\n",
      "False\n",
      "False\n"
     ]
    }
   ],
   "source": [
    "from typing import List\n",
    "\n",
    "\n",
    "class Solution:\n",
    "    def containsDuplicate(self, nums: List[int]) -> bool:\n",
    "        return len(set(nums)) != len(nums)\n",
    "\n",
    "\n",
    "# Test\n",
    "test = Solution()\n",
    "print(test.containsDuplicate(nums=[1, 1, 1, 3, 3, 4]))\n",
    "print(test.containsDuplicate(nums=[1]))\n",
    "print(test.containsDuplicate(nums=[-4, -1039, -1, 8039]))\n"
   ]
  },
  {
   "cell_type": "code",
   "execution_count": 3,
   "metadata": {},
   "outputs": [
    {
     "name": "stdout",
     "output_type": "stream",
     "text": [
      "True\n",
      "False\n",
      "False\n"
     ]
    }
   ],
   "source": [
    "from typing import List\n",
    "\n",
    "class Solution:\n",
    "    def containsDuplicate(self, nums: List[int]) -> bool:\n",
    "        pool = set()\n",
    "        n = len(nums)\n",
    "        for i in range(n):\n",
    "            if nums[i] in pool:\n",
    "                return True\n",
    "            else:\n",
    "                pool.add(nums[i])\n",
    "\n",
    "        return False\n",
    "            \n",
    "# Test\n",
    "test = Solution()\n",
    "print(test.containsDuplicate(nums=[1,1,1,3,3,4]))\n",
    "print(test.containsDuplicate(nums=[1]))\n",
    "print(test.containsDuplicate(nums=[-4,-1039,-1,8039]))"
   ]
  },
  {
   "cell_type": "markdown",
   "metadata": {},
   "source": [
    "### Explanation"
   ]
  },
  {
   "cell_type": "markdown",
   "metadata": {},
   "source": []
  },
  {
   "cell_type": "markdown",
   "metadata": {},
   "source": [
    "---"
   ]
  }
 ],
 "metadata": {
  "kernelspec": {
   "display_name": "Python 3.9.4 64-bit",
   "language": "python",
   "name": "python3"
  },
  "language_info": {
   "codemirror_mode": {
    "name": "ipython",
    "version": 3
   },
   "file_extension": ".py",
   "mimetype": "text/x-python",
   "name": "python",
   "nbconvert_exporter": "python",
   "pygments_lexer": "ipython3",
   "version": "3.9.4"
  },
  "vscode": {
   "interpreter": {
    "hash": "fc8814d95e3bb7c7d620345642206f617029e5ce3d5941736e486cd8ca8f4058"
   }
  }
 },
 "nbformat": 4,
 "nbformat_minor": 2
}
