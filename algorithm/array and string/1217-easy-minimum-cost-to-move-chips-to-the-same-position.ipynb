{
 "cells": [
  {
   "cell_type": "markdown",
   "metadata": {},
   "source": [
    "# 1217 Minimum Cost to Move Chips to the Same Position\n",
    "\n",
    "Easy\n",
    "\n",
    "https://leetcode.cn/problems/minimum-cost-to-move-chips-to-the-same-position/\n",
    "\n",
    "Created on: 7/21/2022\n",
    "\n",
    "Modified on: 7/21/2022\n",
    "\n",
    "---\n",
    "\n",
    "We have `n` chips, where the position of the `ith` chip is `position[i]`.\n",
    "\n",
    "We need to move all the chips to the same position. In one step, we can change the position of the `ith` chip from `position[i]` to:\n",
    "\n",
    "- `position[i] + 2` or `position[i] - 2` with `cost = 0`.\n",
    "- `position[i] + 1` or `position[i] - 1` with `cost = 1`.\n",
    "\n",
    "Return the minimum cost needed to move all the chips to the same position.\n",
    "\n",
    "**Example 1:**\n",
    "\n",
    "![example-1](https://assets.leetcode.com/uploads/2020/08/15/chips_e1.jpg)\n",
    "\n",
    "```\n",
    "Input: position = [1,2,3]\n",
    "Output: 1\n",
    "Explanation: First step: Move the chip at position 3 to position 1 with cost = 0.\n",
    "Second step: Move the chip at position 2 to position 1 with cost = 1.\n",
    "Total cost is 1.\n",
    "```\n",
    "\n",
    "**Example 2:**\n",
    "\n",
    "![example-2](https://assets.leetcode.com/uploads/2020/08/15/chip_e2.jpg)\n",
    "\n",
    "```\n",
    "Input: position = [2,2,2,3,3]\n",
    "Output: 2\n",
    "Explanation: We can move the two chips at position  3 to position 2. Each move has cost = 1. The total cost = 2.\n",
    "```\n",
    "\n",
    "**Example 3:**\n",
    "\n",
    "```\n",
    "Input: position = [1,1000000000]\n",
    "Output: 1\n",
    "```\n",
    "\n",
    "**Constraints:**\n",
    "\n",
    "- 1 <= `position.length` <= 100\n",
    "- 1 <= `position[i]` <= 10^9\n",
    "\n",
    "---\n"
   ]
  },
  {
   "cell_type": "code",
   "execution_count": 4,
   "metadata": {},
   "outputs": [
    {
     "data": {
      "text/plain": [
       "2"
      ]
     },
     "execution_count": 4,
     "metadata": {},
     "output_type": "execute_result"
    }
   ],
   "source": [
    "from typing import List\n",
    "from collections import Counter\n",
    "\n",
    "\n",
    "class Solution:\n",
    "    def minCostToMoveChips(self, position: List[int]) -> int:\n",
    "        odds = evens = 0\n",
    "        for pos in position:\n",
    "            if pos % 2:\n",
    "                odds += 1\n",
    "            else:\n",
    "                evens += 1\n",
    "        return min(odds, evens)\n",
    "\n",
    "\n",
    "\n",
    "\n",
    "# Test\n",
    "test = Solution()\n",
    "position = [2, 2, 2, 3, 3]\n",
    "test.minCostToMoveChips(position)\n"
   ]
  }
 ],
 "metadata": {
  "kernelspec": {
   "display_name": "Python 3.9.4 64-bit",
   "language": "python",
   "name": "python3"
  },
  "language_info": {
   "codemirror_mode": {
    "name": "ipython",
    "version": 3
   },
   "file_extension": ".py",
   "mimetype": "text/x-python",
   "name": "python",
   "nbconvert_exporter": "python",
   "pygments_lexer": "ipython3",
   "version": "3.9.4"
  },
  "orig_nbformat": 2,
  "vscode": {
   "interpreter": {
    "hash": "fc8814d95e3bb7c7d620345642206f617029e5ce3d5941736e486cd8ca8f4058"
   }
  }
 },
 "nbformat": 4,
 "nbformat_minor": 2
}
