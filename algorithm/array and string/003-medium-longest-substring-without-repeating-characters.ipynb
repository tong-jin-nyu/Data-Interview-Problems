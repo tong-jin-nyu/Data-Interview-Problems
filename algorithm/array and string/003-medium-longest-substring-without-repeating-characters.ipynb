{
 "cells": [
  {
   "cell_type": "markdown",
   "metadata": {},
   "source": [
    "# 003 Longest Substring Without Repeating Characters\n",
    "\n",
    "Medium\n",
    "\n",
    "https://leetcode.cn/problems/longest-substring-without-repeating-characters/\n",
    "\n",
    "Created on: 8/7/2022\n",
    "\n",
    "Modified on: 8/7/2022\n",
    "\n",
    "---\n",
    "\n",
    "Given an array of **integers**, return **indices** of the two numbers such that \n",
    "they add up to a specific target.\n",
    "\n",
    "You may assume that each input would have **exactly one solution**, and you may not use the *same* element twice.\n",
    "\n",
    "You can return the answer in any order.\n",
    "\n",
    "**Example 1:**\n",
    "\n",
    "```\n",
    "Input: nums = [2, 7, 11, 15], target = 9,\n",
    "Output: [0, 1]\n",
    "Reason: Because nums[0] + nums[1] = 2 + 7 = 9, we return [0, 1]\n",
    "```\n",
    "\n",
    "**Example 2:**\n",
    "\n",
    "```\n",
    "Input: nums = [3, 2, 4], target = 6\n",
    "Output: [1, 2]\n",
    "```\n",
    "\n",
    "**Example 3:**\n",
    "\n",
    "```\n",
    "Input: nums = [3, 3], target = 6\n",
    "Output: [0, 1]\n",
    "```\n",
    "\n",
    "**Constraints:**\n",
    "\n",
    "- $2 \\leq \\text{nums.length} \\leq 10^{4}$\n",
    "- $-10^{9} \\leq \\text{nums[i]} \\leq 10^{9}$\n",
    "- $-10^{9} \\leq \\text{target} \\leq 10^{9}$\n",
    "- **Only one value answer exists.**\n",
    "\n",
    "---\n"
   ]
  },
  {
   "cell_type": "code",
   "execution_count": 9,
   "metadata": {},
   "outputs": [],
   "source": [
    "class Solution:\n",
    "    def lengthOfLongestSubstring(self, s: str) -> int:\n",
    "        if not s:\n",
    "            return 0\n",
    "        n = len(s)\n",
    "        exists = set()\n",
    "        ans = cnt = 0\n",
    "        for i in range(n):\n",
    "            if s[i] not in exists:\n",
    "                exists.add(s[i])\n",
    "                cnt += 1\n",
    "            else:\n",
    "                ans = max(ans, cnt)\n",
    "                cnt = 1\n",
    "        ans = max(ans, cnt)\n",
    "        return ans\n"
   ]
  },
  {
   "cell_type": "code",
   "execution_count": 10,
   "metadata": {},
   "outputs": [
    {
     "data": {
      "text/plain": [
       "1"
      ]
     },
     "execution_count": 10,
     "metadata": {},
     "output_type": "execute_result"
    }
   ],
   "source": [
    "test = Solution()\n",
    "test.lengthOfLongestSubstring(' ')"
   ]
  },
  {
   "cell_type": "code",
   "execution_count": null,
   "metadata": {},
   "outputs": [],
   "source": []
  }
 ],
 "metadata": {
  "interpreter": {
   "hash": "01ef5fd295d2f06c799f887d3d5a0aa621984c826cc1e428ccbd852109f922c3"
  },
  "kernelspec": {
   "display_name": "Python 3.7.6 ('base')",
   "language": "python",
   "name": "python3"
  },
  "language_info": {
   "codemirror_mode": {
    "name": "ipython",
    "version": 3
   },
   "file_extension": ".py",
   "mimetype": "text/x-python",
   "name": "python",
   "nbconvert_exporter": "python",
   "pygments_lexer": "ipython3",
   "version": "3.7.6"
  },
  "orig_nbformat": 2
 },
 "nbformat": 4,
 "nbformat_minor": 2
}
