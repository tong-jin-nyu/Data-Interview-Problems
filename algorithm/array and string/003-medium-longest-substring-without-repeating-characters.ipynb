{
 "cells": [
  {
   "cell_type": "markdown",
   "metadata": {},
   "source": [
    "# 003 Longest Substring Without Repeating Characters\n",
    "\n",
    "Medium\n",
    "\n",
    "https://leetcode.cn/problems/longest-substring-without-repeating-characters/\n",
    "\n",
    "Created on: 8/7/2022\n",
    "\n",
    "Modified on: 8/7/2022\n",
    "\n",
    "---\n",
    "\n",
    "Given a string `s`, find the length of the longest substring without repeating characters.\n",
    "\n",
    "**Example 1:**\n",
    "\n",
    "```\n",
    "Input: s = \"abcabcbb\"\n",
    "Output: 3\n",
    "Explanation: The answer is \"abc\", with the length of 3.\n",
    "```\n",
    "\n",
    "**Example 2:**\n",
    "\n",
    "```\n",
    "Input: s = \"bbbbb\"\n",
    "Output: 1\n",
    "Explanation: The answer is \"b\", with the length of 1.\n",
    "```\n",
    "\n",
    "**Example 3:**\n",
    "\n",
    "```\n",
    "Input: s = \"pwwkew\"\n",
    "Output: 3\n",
    "Explanation: The answer is \"wke\", with the length of 3.\n",
    "Notice that the answer must be a substring, \"pwke\" is a subsequence and not a substring.\n",
    "```\n",
    "\n",
    "**Constraints:**\n",
    "\n",
    "- 0 <= `s.length` <= 5 * 10^4\n",
    "- `s` consists of English letters, digits, symbols, and spaces.\n",
    "\n",
    "---\n"
   ]
  },
  {
   "cell_type": "code",
   "execution_count": 1,
   "metadata": {},
   "outputs": [],
   "source": [
    "class Solution:\n",
    "    def lengthOfLongestSubstring(self, s: str) -> int:\n",
    "        n = len(s)\n",
    "        exists = set()\n",
    "        right, ans = -1, 0\n",
    "        for left in range(n):\n",
    "            if left != 0:\n",
    "                exists.remove(s[left - 1])\n",
    "            while right + 1 < n and s[right + 1] not in exists:\n",
    "                exists.add(s[right + 1])\n",
    "                right += 1\n",
    "            ans = max(ans, right - left + 1)\n",
    "        return ans"
   ]
  },
  {
   "cell_type": "code",
   "execution_count": 19,
   "metadata": {},
   "outputs": [],
   "source": [
    "class Solution:\n",
    "    def lengthOfLongestSubstring(self, s: str) -> int:\n",
    "        n = len(s)\n",
    "        exists = dict()\n",
    "        left = ans = 0\n",
    "        for right in range(n):\n",
    "            if s[right] in exists:\n",
    "                left = max(exists[s[right]], left)\n",
    "            exists[s[right]] = right + 1\n",
    "            ans = max(ans, right - left + 1)\n",
    "        return ans\n"
   ]
  },
  {
   "cell_type": "code",
   "execution_count": 20,
   "metadata": {},
   "outputs": [
    {
     "data": {
      "text/plain": [
       "2"
      ]
     },
     "execution_count": 20,
     "metadata": {},
     "output_type": "execute_result"
    }
   ],
   "source": [
    "test = Solution()\n",
    "test.lengthOfLongestSubstring('abba')\n"
   ]
  },
  {
   "cell_type": "markdown",
   "metadata": {},
   "source": [
    "---"
   ]
  }
 ],
 "metadata": {
  "kernelspec": {
   "display_name": "Python 3.7.6",
   "language": "python",
   "name": "python3"
  },
  "language_info": {
   "codemirror_mode": {
    "name": "ipython",
    "version": 3
   },
   "file_extension": ".py",
   "mimetype": "text/x-python",
   "name": "python",
   "nbconvert_exporter": "python",
   "pygments_lexer": "ipython3",
   "version": "3.7.6"
  },
  "orig_nbformat": 2,
  "vscode": {
   "interpreter": {
    "hash": "01ef5fd295d2f06c799f887d3d5a0aa621984c826cc1e428ccbd852109f922c3"
   }
  }
 },
 "nbformat": 4,
 "nbformat_minor": 2
}
