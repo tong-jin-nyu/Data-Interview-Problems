{
 "cells": [
  {
   "cell_type": "markdown",
   "metadata": {},
   "source": [
    "# 274 H-Index\n",
    "\n",
    "Medium\n",
    "\n",
    "https://leetcode.cn/problems/h-index\n",
    "\n",
    "Created on: 7/6/2022\n",
    "\n",
    "Modified on: 7/13/2022\n",
    "\n",
    "---\n",
    "\n",
    "Given an array of integers `citations` where `citations[i]` is the number of citations a researcher received for their `i`th paper, return compute the researcher's `h`-index.\n",
    "\n",
    "According to the definition of h-index on [Wikipedia](https://en.wikipedia.org/wiki/H-index): A scientist has an index `h` if `h` of their `n` papers have at least `h` citations each, and the other `n - h` papers have no more than `h` citations each.\n",
    "\n",
    "If there are several possible values for `h`, the maximum one is taken as the `h`-index.\n",
    "\n",
    "**Example 1:**\n",
    "\n",
    "``` \n",
    "Input: citations = [3,0,6,1,5]\n",
    "Output: 3\n",
    "Explanation: [3,0,6,1,5] means the researcher has 5 papers in total and each of them had received 3, 0, 6, 1, 5 citations respectively.\n",
    "Since the researcher has 3 papers with at least 3 citations each and the remaining two with no more than 3 citations each, their h-index is 3.\n",
    "```\n",
    "\n",
    "**Example 2:**\n",
    "\n",
    "```\n",
    "Input: citations = [1,3,1]\n",
    "Output: 1\n",
    "```\n",
    "\n",
    "**Constraints:**\n",
    "- `n == citations.length`\n",
    "- 1 <= `n <= 5000\n",
    "- 0 <= `citations[i]` <= 1000\n",
    "\n",
    "---\n"
   ]
  },
  {
   "cell_type": "code",
   "execution_count": 2,
   "metadata": {},
   "outputs": [
    {
     "name": "stdout",
     "output_type": "stream",
     "text": [
      "3\n",
      "1\n"
     ]
    }
   ],
   "source": [
    "from typing import List\n",
    "\n",
    "\n",
    "class Solution:\n",
    "    def hIndex(self, citations: List[int]) -> int:\n",
    "        citations.sort(reverse=True)\n",
    "        n = len(citations)\n",
    "        h = 0\n",
    "\n",
    "        for i in range(n):\n",
    "            if citations[i] >= i + 1:\n",
    "                h += 1\n",
    "\n",
    "        return h\n",
    "\n",
    "        \n",
    "\n",
    "\n",
    "# Test\n",
    "test = Solution()\n",
    "citations = [3, 0, 6, 1, 5]\n",
    "print(test.hIndex(citations))\n",
    "\n",
    "citations = [1, 3, 1]\n",
    "print(test.hIndex(citations))\n"
   ]
  },
  {
   "cell_type": "markdown",
   "metadata": {},
   "source": [
    "---"
   ]
  }
 ],
 "metadata": {
  "kernelspec": {
   "display_name": "Python 3.7.6 ('base')",
   "language": "python",
   "name": "python3"
  },
  "language_info": {
   "codemirror_mode": {
    "name": "ipython",
    "version": 3
   },
   "file_extension": ".py",
   "mimetype": "text/x-python",
   "name": "python",
   "nbconvert_exporter": "python",
   "pygments_lexer": "ipython3",
   "version": "3.7.6"
  },
  "orig_nbformat": 2,
  "vscode": {
   "interpreter": {
    "hash": "01ef5fd295d2f06c799f887d3d5a0aa621984c826cc1e428ccbd852109f922c3"
   }
  }
 },
 "nbformat": 4,
 "nbformat_minor": 2
}
