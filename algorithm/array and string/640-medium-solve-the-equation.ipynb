{
 "cells": [
  {
   "cell_type": "markdown",
   "metadata": {},
   "source": [
    "# 640 Solve the Equation\n",
    "\n",
    "Medium\n",
    "\n",
    "https://leetcode.cn/problems/solve-the-equation/\n",
    "\n",
    "Created on: 8/9/2022\n",
    "\n",
    "Modified on: 8/9/2022\n",
    "\n",
    "---\n",
    "\n",
    "Solve a given equation and return the value of `'x'` in the form of a string `\"x=#value\"`. The equation contains only `'+'`, `'-'` operation, the variable `'x'` and its coefficient. You should return `\"No solution\"` if there is no solution for the equation, or `\"Infinite solutions\"` if there are infinite solutions for the equation.\n",
    "\n",
    "If there is exactly one solution for the equation, we ensure that the value of `'x'` is an integer.\n",
    "\n",
    "**Example 1:**\n",
    "\n",
    "```\n",
    "Input: equation = \"x+5-3+x=6+x-2\"\n",
    "Output: \"x=2\"\n",
    "```\n",
    "\n",
    "**Example 2:**\n",
    "\n",
    "```\n",
    "Input: equation = \"x=x\"\n",
    "Output: \"Infinite solutions\"\n",
    "```\n",
    "\n",
    "**Example 3:**\n",
    "\n",
    "```\n",
    "Input: equation = \"2x=x\"\n",
    "Output: \"x=0\"\n",
    "```\n",
    "\n",
    "**Constraints:**\n",
    "- 3 <= `equation.length` <= 1000\n",
    "- `equation` has exactly one `'='`.\n",
    "- `equation` consists of integers with an absolute value in the range `[0, 100]` without any leading zeros, and the variable `'x'`.\n",
    "\n",
    "---\n"
   ]
  },
  {
   "cell_type": "code",
   "execution_count": 41,
   "metadata": {},
   "outputs": [],
   "source": [
    "class Solution:\n",
    "    def solveEquation(self, equation: str) -> str:\n",
    "        left, right = equation.split('=')\n",
    "        left = left.replace('-', '+-')\n",
    "        left = left.split('+')\n",
    "        right = right.replace('-', '+-')\n",
    "        right = right.split('+')\n",
    "        coef = val = 0\n",
    "        for item in left:\n",
    "            if 'x' in item:\n",
    "                item = item.replace('x', '')\n",
    "                if item == '':\n",
    "                    coef += 1\n",
    "                elif item == '-':\n",
    "                    coef -= 1\n",
    "                elif '-' in item:\n",
    "                    coef -= int(item.replace('-', ''))\n",
    "                else:\n",
    "                    coef += int(item)\n",
    "            else:\n",
    "                if '-' in item:\n",
    "                    val += int(item.replace('-', ''))\n",
    "                elif item:\n",
    "                    val -= int(item)\n",
    "        for item in right:\n",
    "            if 'x' in item:\n",
    "                item = item.replace('x', '')\n",
    "                if item == '':\n",
    "                    coef -= 1\n",
    "                elif item == '-':\n",
    "                    coef += 1\n",
    "                elif '-' in item:\n",
    "                    coef += int(item.replace('-', ''))\n",
    "                else:\n",
    "                    coef -= int(item)\n",
    "            else:\n",
    "                if '-' in item:\n",
    "                    val -= int(item.replace('-', ''))\n",
    "                elif item:\n",
    "                    val += int(item)\n",
    "        if coef == 0:\n",
    "            return \"No solution\" if val else \"Infinite solutions\"\n",
    "        return 'x={}'.format(val // coef)"
   ]
  },
  {
   "cell_type": "code",
   "execution_count": 42,
   "metadata": {},
   "outputs": [
    {
     "data": {
      "text/plain": [
       "'x=1'"
      ]
     },
     "execution_count": 42,
     "metadata": {},
     "output_type": "execute_result"
    }
   ],
   "source": [
    "test = Solution()\n",
    "equation = \"-x=-1\"\n",
    "test.solveEquation(equation)\n"
   ]
  },
  {
   "cell_type": "markdown",
   "metadata": {},
   "source": [
    "---"
   ]
  }
 ],
 "metadata": {
  "kernelspec": {
   "display_name": "Python 3.7.6 ('base')",
   "language": "python",
   "name": "python3"
  },
  "language_info": {
   "codemirror_mode": {
    "name": "ipython",
    "version": 3
   },
   "file_extension": ".py",
   "mimetype": "text/x-python",
   "name": "python",
   "nbconvert_exporter": "python",
   "pygments_lexer": "ipython3",
   "version": "3.7.6"
  },
  "orig_nbformat": 2,
  "vscode": {
   "interpreter": {
    "hash": "01ef5fd295d2f06c799f887d3d5a0aa621984c826cc1e428ccbd852109f922c3"
   }
  }
 },
 "nbformat": 4,
 "nbformat_minor": 2
}
