{
 "cells": [
  {
   "cell_type": "markdown",
   "metadata": {},
   "source": [
    "# 1232 Check If It Is a Straight Line\n",
    "\n",
    "Easy\n",
    "\n",
    "https://leetcode.cn/problems/check-if-it-is-a-straight-line/\n",
    "\n",
    "Created on: 8/15/2024\n",
    "\n",
    "Modified on: 8/15/2024\n",
    "\n",
    "---\n",
    "\n",
    "You are given an array `coordinates`, `coordinates[i] = [x, y]`, where `[x, y]` represents the \n",
    "coordinate of a point. Check if these points make a straight line in the XY plane.\n",
    "\n",
    "**Example 1:**\n",
    "\n",
    "![example-1](https://assets.leetcode.com/uploads/2019/10/15/untitled-diagram-2.jpg)\n",
    "\n",
    "```\n",
    "Input: coordinates = [[1,2],[2,3],[3,4],[4,5],[5,6],[6,7]]\n",
    "Output: true\n",
    "```\n",
    "\n",
    "**Example 2:**\n",
    "\n",
    "![example-2](https://assets.leetcode.com/uploads/2019/10/09/untitled-diagram-1.jpg)\n",
    "\n",
    "```\n",
    "Input: coordinates = [[1,1],[2,2],[3,4],[4,5],[5,6],[7,7]]\n",
    "Output: false\n",
    "```\n",
    "\n",
    "**Constraints:**\n",
    "\n",
    "- `2 <= coordinates.length <= 1000`\n",
    "- `coordinates[i].length == 2`\n",
    "- `-10^4 <= coordinates[i][0], coordinates[i][1] <= 10^4`\n",
    "- `coordinates` contains no duplicate point.\n",
    "\n",
    "---\n"
   ]
  },
  {
   "cell_type": "markdown",
   "metadata": {},
   "source": [
    "# Java\n",
    "\n",
    "``` Java\n",
    "class Solution {\n",
    "    public boolean checkStraightLine(int[][] coordinates) {\n",
    "        int n = coordinates.length;\n",
    "        if (n == 2)\n",
    "            return true;\n",
    "\n",
    "        int x1 = coordinates[0][0], x2 = coordinates[1][0];\n",
    "        int y1 = coordinates[0][1], y2 = coordinates[1][1];\n",
    "        for (int i = 2; i < n; i++) {\n",
    "            int x = coordinates[i][0], y = coordinates[i][1];\n",
    "            if ( (x2 - x1) * (y - y1) != (x - x1) * (y2 - y1) )\n",
    "                return false;\n",
    "        }\n",
    "\n",
    "        return true;\n",
    "    }\n",
    "}\n",
    "```"
   ]
  }
 ],
 "metadata": {
  "language_info": {
   "name": "python"
  }
 },
 "nbformat": 4,
 "nbformat_minor": 2
}
