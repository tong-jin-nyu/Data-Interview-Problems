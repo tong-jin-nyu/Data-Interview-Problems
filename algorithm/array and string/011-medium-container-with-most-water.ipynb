{
 "cells": [
  {
   "cell_type": "markdown",
   "metadata": {},
   "source": [
    "# 011 Container With Most Water\n",
    "\n",
    "Medium\n",
    "\n",
    "https://leetcode.cn/problems/container-with-most-water/\n",
    "\n",
    "Created on: 7/25/2022\n",
    "\n",
    "Modified on: 7/25/2022\n",
    "\n",
    "---\n",
    "\n",
    "You are given an integer array `height` of length `n`. There are `n` vertical lines drawn such that the two endpoints of the `ith` line are `(i, 0)` and `(i, height[i])`. \n",
    "\n",
    "Find two lines that together with the x-axis form a container, such that the container contains the most water.\n",
    "\n",
    "Return the maximum amount of water a container can store.\n",
    "\n",
    "**Notice** that you may not slant the container.\n",
    "\n",
    "**Example 1:**\n",
    "\n",
    "```\n",
    "Input: x = 121\n",
    "Output: true\n",
    "```\n",
    "\n",
    "**Example 2:**\n",
    "\n",
    "```\n",
    "Input: x = -121\n",
    "Output: false\n",
    "Explanation: From left to right, it reads -121. \n",
    "From right to left, it becomes 121-. \n",
    "Therefore, it is not a palindrome.\n",
    "```\n",
    "\n",
    "**Example 3:**\n",
    "\n",
    "```\n",
    "Input: x = 10\n",
    "Output: false\n",
    "Explanation: Reads 01 from right to left. \n",
    "Therefore, it is not a palindrome.\n",
    "```\n",
    "\n",
    "**Constraints:**\n",
    "\n",
    "- $-2^{31} \\leq x \\leq 2^{31} - 1$\n",
    "\n",
    "**Follow up:**\n",
    "Could you solve it without converting the integer to a string?\n",
    "\n",
    "---\n"
   ]
  },
  {
   "cell_type": "markdown",
   "metadata": {},
   "source": [
    "### Solution 1 (Convert to string)"
   ]
  },
  {
   "cell_type": "code",
   "execution_count": 5,
   "metadata": {},
   "outputs": [
    {
     "data": {
      "text/plain": [
       "49"
      ]
     },
     "execution_count": 5,
     "metadata": {},
     "output_type": "execute_result"
    }
   ],
   "source": [
    "from typing import List\n",
    "\n",
    "\n",
    "class Solution:\n",
    "    def maxArea(self, height: List[int]) -> int:\n",
    "        n = len(height)\n",
    "        left, right = 0, n - 1\n",
    "        max_vol = 0\n",
    "\n",
    "        while left < right:\n",
    "            distance = right - left\n",
    "            volumn = min(height[left], height[right]) * distance\n",
    "            max_vol = max(max_vol, volumn)\n",
    "            \n",
    "            if height[left] >= height[right]:\n",
    "                right -= 1\n",
    "            else:\n",
    "                left += 1\n",
    "\n",
    "        return max_vol\n",
    "            \n",
    "\n",
    "# Test: expect 49\n",
    "test = Solution()\n",
    "height = [1, 8, 6, 2, 5, 4, 8, 3, 7]\n",
    "test.maxArea(height)\n"
   ]
  }
 ],
 "metadata": {
  "kernelspec": {
   "display_name": "Python 3.7.6 ('base')",
   "language": "python",
   "name": "python3"
  },
  "language_info": {
   "codemirror_mode": {
    "name": "ipython",
    "version": 3
   },
   "file_extension": ".py",
   "mimetype": "text/x-python",
   "name": "python",
   "nbconvert_exporter": "python",
   "pygments_lexer": "ipython3",
   "version": "3.7.6"
  },
  "vscode": {
   "interpreter": {
    "hash": "01ef5fd295d2f06c799f887d3d5a0aa621984c826cc1e428ccbd852109f922c3"
   }
  }
 },
 "nbformat": 4,
 "nbformat_minor": 2
}
