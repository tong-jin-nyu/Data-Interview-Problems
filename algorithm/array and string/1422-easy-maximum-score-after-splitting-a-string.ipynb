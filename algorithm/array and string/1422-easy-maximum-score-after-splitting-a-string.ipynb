{
 "cells": [
  {
   "cell_type": "markdown",
   "metadata": {},
   "source": [
    "# 1422 Maximum Score After Splitting a String\n",
    "\n",
    "Easy\n",
    "\n",
    "https://leetcode.cn/problems/maximum-score-after-splitting-a-string/\n",
    "\n",
    "Created on: 8/13/2022\n",
    "\n",
    "Modified on: 8/13/2022\n",
    "\n",
    "---\n",
    "\n",
    "Given a string `s` of zeroes and ones, return the maximum score after splitting the string into two non-empty substrings (i.e. left substring and right substring).\n",
    "\n",
    "The score after splitting a string is the number of zeroes in the left substring plus the number of ones in the right substring.\n",
    "\n",
    "**Example 1:**\n",
    "\n",
    "```\n",
    "Input: s = \"011101\"\n",
    "Output: 5 \n",
    "Explanation: \n",
    "All possible ways of splitting s into two non-empty substrings are:\n",
    "left = \"0\" and right = \"11101\", score = 1 + 4 = 5 \n",
    "left = \"01\" and right = \"1101\", score = 1 + 3 = 4 \n",
    "left = \"011\" and right = \"101\", score = 1 + 2 = 3 \n",
    "left = \"0111\" and right = \"01\", score = 1 + 1 = 2 \n",
    "left = \"01110\" and right = \"1\", score = 2 + 1 = 3\n",
    "```\n",
    "\n",
    "**Example 2:**\n",
    "\n",
    "```\n",
    "Input: s = \"00111\"\n",
    "Output: 5\n",
    "Explanation: When left = \"00\" and right = \"111\", we get the maximum score = 2 + 3 = 5\n",
    "```\n",
    "\n",
    "**Example 3:**\n",
    "\n",
    "```\n",
    "Input: s = \"1111\"\n",
    "Output: 3\n",
    "```\n",
    "\n",
    "**Constraints:**\n",
    "\n",
    "- 2 <= `s.length` <= 500\n",
    "- The string `s` consists of characters `'0'` and `'1'` only.\n",
    "\n",
    "---\n"
   ]
  },
  {
   "cell_type": "code",
   "execution_count": 2,
   "metadata": {},
   "outputs": [],
   "source": [
    "class Solution:\n",
    "    def maxScore(self, s: str) -> int:\n",
    "        score = 0\n",
    "        n = len(s)\n",
    "        for i in range(1, n):\n",
    "            left = s[:i]\n",
    "            right = s[i:]\n",
    "            score = max(score, left.count('0') + right.count('1'))\n",
    "        return score\n"
   ]
  },
  {
   "cell_type": "code",
   "execution_count": 3,
   "metadata": {},
   "outputs": [
    {
     "data": {
      "text/plain": [
       "6"
      ]
     },
     "execution_count": 3,
     "metadata": {},
     "output_type": "execute_result"
    }
   ],
   "source": [
    "# Test\n",
    "test = Solution()\n",
    "s = '00111100'\n",
    "test.maxScore(s)\n"
   ]
  },
  {
   "cell_type": "markdown",
   "metadata": {},
   "source": [
    "---"
   ]
  }
 ],
 "metadata": {
  "kernelspec": {
   "display_name": "Python 3.7.6 ('base')",
   "language": "python",
   "name": "python3"
  },
  "language_info": {
   "codemirror_mode": {
    "name": "ipython",
    "version": 3
   },
   "file_extension": ".py",
   "mimetype": "text/x-python",
   "name": "python",
   "nbconvert_exporter": "python",
   "pygments_lexer": "ipython3",
   "version": "3.7.6"
  },
  "orig_nbformat": 2,
  "vscode": {
   "interpreter": {
    "hash": "01ef5fd295d2f06c799f887d3d5a0aa621984c826cc1e428ccbd852109f922c3"
   }
  }
 },
 "nbformat": 4,
 "nbformat_minor": 2
}
