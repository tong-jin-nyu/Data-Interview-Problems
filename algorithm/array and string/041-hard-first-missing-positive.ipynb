{
 "cells": [
  {
   "cell_type": "markdown",
   "metadata": {},
   "source": [
    "# 041 First Missing Positive\n",
    "\n",
    "Hard\n",
    "\n",
    "https://leetcode.cn/problems/first-missing-positive\n",
    "\n",
    "Created on: 7/6/2022\n",
    "\n",
    "Modified on: 7/13/2022\n",
    "\n",
    "---\n",
    "\n",
    "Given an unsorted integer array `nums`, return the smallest missing positive integer.\n",
    "\n",
    "You must implement an algorithm that runs in `O(n)` time and uses constant extra space.\n",
    "\n",
    "**Example 1:**\n",
    "\n",
    "```\n",
    "Input: nums = [1,2,0]\n",
    "Output: 3\n",
    "```\n",
    "\n",
    "**Example 2:**\n",
    "\n",
    "```\n",
    "Input: nums = [3,4,-1,1]\n",
    "Output: 2\n",
    "```\n",
    "\n",
    "**Example 3:**\n",
    "\n",
    "```\n",
    "Input: nums = [7,8,9,11,12]\n",
    "Output: 1\n",
    "```\n",
    "\n",
    "**Constraints:**\n",
    "\n",
    "- 1 <= `nums.length` <= 5 * 10^5\n",
    "- -2^31 <= `nums[i]` <= 2^31 - 1\n",
    "\n",
    "---\n"
   ]
  },
  {
   "cell_type": "code",
   "execution_count": 1,
   "metadata": {},
   "outputs": [
    {
     "data": {
      "text/plain": [
       "3"
      ]
     },
     "execution_count": 1,
     "metadata": {},
     "output_type": "execute_result"
    }
   ],
   "source": [
    "from typing import List\n",
    "\n",
    "\n",
    "class Solution:\n",
    "    def firstMissingPositive(self, nums: List[int]) -> int:\n",
    "        n = len(nums)\n",
    "\n",
    "        for i in range(n):\n",
    "            if nums[i] <= 0:\n",
    "                nums[i] = n + 1\n",
    "\n",
    "        for i in range(n):\n",
    "            num = abs(nums[i])\n",
    "            if num <= n:\n",
    "                idx = num - 1\n",
    "                nums[idx] = -abs(nums[idx])\n",
    "\n",
    "        for i in range(n):\n",
    "            if nums[i] > 0:\n",
    "                return i + 1\n",
    "\n",
    "        return n + 1\n",
    "\n",
    "\n",
    "# Test\n",
    "test = Solution()\n",
    "nums = [1, 2, 0]\n",
    "test.firstMissingPositive(nums)"
   ]
  }
 ],
 "metadata": {
  "kernelspec": {
   "display_name": "Python 3.9.4 64-bit",
   "language": "python",
   "name": "python3"
  },
  "language_info": {
   "codemirror_mode": {
    "name": "ipython",
    "version": 3
   },
   "file_extension": ".py",
   "mimetype": "text/x-python",
   "name": "python",
   "nbconvert_exporter": "python",
   "pygments_lexer": "ipython3",
   "version": "3.9.4"
  },
  "vscode": {
   "interpreter": {
    "hash": "fc8814d95e3bb7c7d620345642206f617029e5ce3d5941736e486cd8ca8f4058"
   }
  }
 },
 "nbformat": 4,
 "nbformat_minor": 2
}
