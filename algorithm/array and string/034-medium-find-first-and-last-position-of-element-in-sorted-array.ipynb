{
 "cells": [
  {
   "cell_type": "markdown",
   "metadata": {},
   "source": [
    "# 034 Find First and Last Position of Element in Sorted Array\n",
    "\n",
    "Medium\n",
    "\n",
    "https://leetcode.cn/problems/find-first-and-last-position-of-element-in-sorted-array\n",
    "\n",
    "Created on: 7/7/2022\n",
    "\n",
    "Modified on: 7/13/2022\n",
    "\n",
    "---\n",
    "\n",
    "Given an array of integers `nums` sorted in non-decreasing order, find the starting and ending position of a given `target` value.\n",
    "\n",
    "If `target` is not found in the array, return `[-1, -1]`.\n",
    "\n",
    "You must write an algorithm with `O(log n)` runtime complexity.\n",
    "\n",
    "**Example 1:**\n",
    "\n",
    "```\n",
    "Input: nums = [5,7,7,8,8,10], target = 8\n",
    "Output: [3,4]\n",
    "```\n",
    "\n",
    "**Example 2:**\n",
    "\n",
    "``` text\n",
    "Input: nums = [5,7,7,8,8,10], target = 6\n",
    "Output: [-1,-1]\n",
    "```\n",
    "\n",
    "**Example 3:**\n",
    "\n",
    "```\n",
    "Input: nums = [], target = 0\n",
    "Output: [-1,-1]\n",
    "```\n",
    "\n",
    "**Constraints:**\n",
    "\n",
    "- 0 <= `nums.length` <= 10^5\n",
    "- -10^9 <= `nums[i]` <= 10^9\n",
    "- `nums` is a non-decreasing array.\n",
    "- -10^9 <= `target` <= 10^9\n",
    "\n",
    "---\n"
   ]
  },
  {
   "cell_type": "code",
   "execution_count": 14,
   "metadata": {},
   "outputs": [
    {
     "name": "stdout",
     "output_type": "stream",
     "text": [
      "[3, 4]\n",
      "[-1, -1]\n",
      "[-1, -1]\n",
      "[0, 0]\n"
     ]
    }
   ],
   "source": [
    "from typing import List\n",
    "\n",
    "\n",
    "class Solution:\n",
    "    def searchRange(self, nums: List[int], target: int) -> List[int]:\n",
    "        \n",
    "        def binarySearch(nums: List[int], target: int) -> int:\n",
    "            n = len(nums)\n",
    "            left, right = 0, n - 1\n",
    "\n",
    "            while left <= right:\n",
    "                mid = (right - left) // 2 + left\n",
    "                if nums[mid] >= target:\n",
    "                    right = mid - 1\n",
    "                else:\n",
    "                    left = mid + 1\n",
    "\n",
    "            return left\n",
    "\n",
    "        left_i = binarySearch(nums, target)\n",
    "        right_i = binarySearch(nums, target + 1)\n",
    "\n",
    "        if left_i == len(nums) or nums[left_i] != target:\n",
    "            return [-1, -1]\n",
    "        else:\n",
    "            return [left_i, right_i - 1]\n",
    "\n",
    "# Test\n",
    "test = Solution()\n",
    "nums = [5, 7, 7, 8, 8, 10]\n",
    "target = 8\n",
    "print(test.searchRange(nums, target))\n",
    "\n",
    "nums = [5, 7, 7, 8, 8, 10]\n",
    "target = 6\n",
    "print(test.searchRange(nums, target))\n",
    "\n",
    "nums = []\n",
    "target = 0\n",
    "print(test.searchRange(nums, target))\n",
    "\n",
    "nums = [1]\n",
    "target = 1\n",
    "print(test.searchRange(nums, target))\n"
   ]
  }
 ],
 "metadata": {
  "kernelspec": {
   "display_name": "Python 3.7.6 ('base')",
   "language": "python",
   "name": "python3"
  },
  "language_info": {
   "codemirror_mode": {
    "name": "ipython",
    "version": 3
   },
   "file_extension": ".py",
   "mimetype": "text/x-python",
   "name": "python",
   "nbconvert_exporter": "python",
   "pygments_lexer": "ipython3",
   "version": "3.7.6"
  },
  "vscode": {
   "interpreter": {
    "hash": "01ef5fd295d2f06c799f887d3d5a0aa621984c826cc1e428ccbd852109f922c3"
   }
  }
 },
 "nbformat": 4,
 "nbformat_minor": 2
}
