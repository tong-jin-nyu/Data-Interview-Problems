{
 "cells": [
  {
   "cell_type": "markdown",
   "metadata": {},
   "source": [
    "# 1460 Make Two Arrays Equal by Reversing Sub-arrays\n",
    "\n",
    "Easy\n",
    "\n",
    "https://leetcode.cn/problems/make-two-arrays-equal-by-reversing-sub-arrays/\n",
    "\n",
    "Created on: 8/23/2022\n",
    "\n",
    "Modified on: 8/23/2022\n",
    "\n",
    "---\n",
    "\n",
    "You are given two integer arrays of equal length `target` and `arr`. In one step, you can select any non-empty sub-array of `arr` and reverse it. You are allowed to make any number of steps.\n",
    "\n",
    "Return `true` if you can make `arr` equal to `target` or `false` otherwise.\n",
    "\n",
    "**Example 1:**\n",
    "\n",
    "```\n",
    "Input: target = [1,2,3,4], arr = [2,4,1,3]\n",
    "Output: true\n",
    "Explanation: You can follow the next steps to convert arr to target:\n",
    "1- Reverse sub-array [2,4,1], arr becomes [1,4,2,3]\n",
    "2- Reverse sub-array [4,2], arr becomes [1,2,4,3]\n",
    "3- Reverse sub-array [4,3], arr becomes [1,2,3,4]\n",
    "There are multiple ways to convert arr to target, this is not the only way to do so.\n",
    "```\n",
    "\n",
    "**Example 2:**\n",
    "\n",
    "```\n",
    "Input: target = [7], arr = [7]\n",
    "Output: true\n",
    "Explanation: arr is equal to target without any reverses.\n",
    "```\n",
    "\n",
    "**Example 3:**\n",
    "\n",
    "```\n",
    "Input: target = [3,7,9], arr = [3,7,11]\n",
    "Output: false\n",
    "Explanation: arr does not have value 9 and it can never be converted to target.\n",
    "```\n",
    "\n",
    "**Constraints:**\n",
    "\n",
    "- `target.length == arr.length`\n",
    "- 1 <= `target.length` <= 1000\n",
    "- 1 <= `target[i]` <= 1000\n",
    "- 1 <= `arr[i]` <= 1000\n",
    "\n",
    "---\n"
   ]
  },
  {
   "cell_type": "code",
   "execution_count": 1,
   "metadata": {},
   "outputs": [],
   "source": [
    "from typing import List\n",
    "\n",
    "\n",
    "class Solution:\n",
    "    def canBeEqual(self, target: List[int], arr: List[int]) -> bool:\n",
    "        return sorted(target) == sorted(arr)\n"
   ]
  },
  {
   "cell_type": "code",
   "execution_count": 2,
   "metadata": {},
   "outputs": [
    {
     "data": {
      "text/plain": [
       "True"
      ]
     },
     "execution_count": 2,
     "metadata": {},
     "output_type": "execute_result"
    }
   ],
   "source": [
    "# Test\n",
    "test = Solution()\n",
    "target = [1, 2, 3, 4]\n",
    "arr = [2, 4, 1, 3]\n",
    "test.canBeEqual(target, arr)"
   ]
  },
  {
   "cell_type": "markdown",
   "metadata": {},
   "source": [
    "---"
   ]
  }
 ],
 "metadata": {
  "kernelspec": {
   "display_name": "Python 3.7.6 ('base')",
   "language": "python",
   "name": "python3"
  },
  "language_info": {
   "codemirror_mode": {
    "name": "ipython",
    "version": 3
   },
   "file_extension": ".py",
   "mimetype": "text/x-python",
   "name": "python",
   "nbconvert_exporter": "python",
   "pygments_lexer": "ipython3",
   "version": "3.7.6"
  },
  "orig_nbformat": 2,
  "vscode": {
   "interpreter": {
    "hash": "01ef5fd295d2f06c799f887d3d5a0aa621984c826cc1e428ccbd852109f922c3"
   }
  }
 },
 "nbformat": 4,
 "nbformat_minor": 2
}
