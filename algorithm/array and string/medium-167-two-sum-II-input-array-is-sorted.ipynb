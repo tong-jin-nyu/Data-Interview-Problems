{
 "cells": [
  {
   "cell_type": "markdown",
   "metadata": {},
   "source": [
    "# 167 Two Sum II - Input Array is Sorted\n",
    "\n",
    "Medium\n",
    "\n",
    "Created on: 7/3/2022\n",
    "\n",
    "Modified on: 7/3/2022\n",
    "\n",
    "---\n",
    "\n",
    "Given a **1-indexed** array of integers `numbers` that is already **sorted** in *non-decreasing order*, find two numbers such that they add up to a specific `target` number. Let these two numbers be `numbers[index1]` and `numbers[index2]` where `1 <= index1 < index2 <= numbers.length`.\n",
    "\n",
    "Return *the indices of the two numbers*, `index1` and `index2`, grouped as an integer array of length 2, `[index1, index2]`.\n",
    "\n",
    "The tests are generated such that there is **exactly one solution**. You may not use the same element twice.\n",
    "\n",
    "Your solution must use only constant extra space.\n",
    "\n",
    "**Example 1:**\n",
    "\n",
    "``` text\n",
    "Input: numbers = [2, 7, 11, 15], target = 9\n",
    "Output: [1, 2]\n",
    "Explanation: The sum of 2 and 7 is 9. Therefore, index1 = 1, index2 = 2. We return [1, 2].\n",
    "```\n",
    "\n",
    "**Example 2:**\n",
    "\n",
    "``` text\n",
    "Input: numbers = [2, 3, 4], target = 6\n",
    "Output: [1, 3]\n",
    "Explanation: The sum of 2 and 4 is 6. Therefore index1 = 1, index2 = 3. We return [1, 3].\n",
    "```\n",
    "\n",
    "**Example 3:**\n",
    "\n",
    "``` text\n",
    "Input: numbers = [-1,0], target = -1\n",
    "Output: [1,2]\n",
    "Explanation: The sum of -1 and 0 is -1. Therefore index1 = 1, index2 = 2. We return [1, 2].\n",
    "```\n",
    "\n",
    "**Constraints:**\n",
    "- 2 <= `numbers.length` <= 3 * 10^4\n",
    "- -1000 <= `numbers[i]` <= 1000\n",
    "- `numbers` is sorted in non-decreasing order.\n",
    "- -1000 <= `target` <= 1000\n",
    "- The tests are generated such that there is exactly one solution.\n",
    "\n",
    "---\n"
   ]
  },
  {
   "cell_type": "code",
   "execution_count": 7,
   "metadata": {},
   "outputs": [
    {
     "name": "stdout",
     "output_type": "stream",
     "text": [
      "[1, 2]\n",
      "[1, 3]\n",
      "[1, 2]\n"
     ]
    }
   ],
   "source": [
    "# Brute force\n",
    "from typing import List\n",
    "\n",
    "\n",
    "class Solution:\n",
    "    def twoSum(self, numbers: List[int], target: int) -> List[int]:\n",
    "        for i, num in enumerate(numbers):\n",
    "            the_other = target - num\n",
    "            if the_other in numbers[i+1:]:\n",
    "                return [i+1, numbers[i+1:].index(the_other)+i+2]\n",
    "\n",
    "\n",
    "# Test\n",
    "test = Solution()\n",
    "numbers = [2, 7, 11, 15]\n",
    "target = 9\n",
    "print(test.twoSum(numbers, target))\n",
    "\n",
    "numbers = [2, 3, 4]\n",
    "target = 6\n",
    "print(test.twoSum(numbers, target))\n",
    "\n",
    "numbers = [-1, 0]\n",
    "target = -1\n",
    "print(test.twoSum(numbers, target))\n"
   ]
  },
  {
   "cell_type": "code",
   "execution_count": 8,
   "metadata": {},
   "outputs": [
    {
     "name": "stdout",
     "output_type": "stream",
     "text": [
      "[1, 2]\n",
      "[1, 3]\n",
      "[1, 2]\n"
     ]
    }
   ],
   "source": [
    "# Binary search\n",
    "from typing import List\n",
    "\n",
    "\n",
    "class Solution:\n",
    "    def twoSum(self, numbers: List[int], target: int) -> List[int]:\n",
    "        n = len(numbers)\n",
    "        for i in range(n):\n",
    "            the_other = target - numbers[i]\n",
    "            low, high = i + 1, n - 1\n",
    "            while low <= high:\n",
    "                mid = (low + high) // 2\n",
    "                if numbers[mid] == the_other:\n",
    "                    return [i + 1, mid + 1]\n",
    "                elif numbers[mid] > the_other:\n",
    "                    high = mid - 1\n",
    "                else:\n",
    "                    low = mid + 1\n",
    "\n",
    "# Test\n",
    "test = Solution()\n",
    "numbers = [2, 7, 11, 15]\n",
    "target = 9\n",
    "print(test.twoSum(numbers, target))\n",
    "\n",
    "numbers = [2, 3, 4]\n",
    "target = 6\n",
    "print(test.twoSum(numbers, target))\n",
    "\n",
    "numbers = [-1, 0]\n",
    "target = -1\n",
    "print(test.twoSum(numbers, target))\n"
   ]
  },
  {
   "cell_type": "code",
   "execution_count": 10,
   "metadata": {},
   "outputs": [
    {
     "name": "stdout",
     "output_type": "stream",
     "text": [
      "[1, 2]\n",
      "[1, 3]\n",
      "[1, 2]\n"
     ]
    }
   ],
   "source": [
    "# Two pointers\n",
    "from typing import List\n",
    "\n",
    "\n",
    "class Solution:\n",
    "    def twoSum(self, numbers: List[int], target: int) -> List[int]:\n",
    "        n = len(numbers)\n",
    "        left, right = 0, n - 1\n",
    "\n",
    "        while left < right:\n",
    "            sum = numbers[left] + numbers[right]\n",
    "            if sum == target:\n",
    "                return[left + 1, right + 1]\n",
    "            elif sum > target:\n",
    "                right -= 1\n",
    "            else:\n",
    "                left += 1\n",
    "\n",
    "# Test\n",
    "test = Solution()\n",
    "numbers = [2, 7, 11, 15]\n",
    "target = 9\n",
    "print(test.twoSum(numbers, target))\n",
    "\n",
    "numbers = [2, 3, 4]\n",
    "target = 6\n",
    "print(test.twoSum(numbers, target))\n",
    "\n",
    "numbers = [-1, 0]\n",
    "target = -1\n",
    "print(test.twoSum(numbers, target))\n"
   ]
  },
  {
   "cell_type": "markdown",
   "metadata": {},
   "source": [
    "---"
   ]
  }
 ],
 "metadata": {
  "kernelspec": {
   "display_name": "Python 3.7.6 ('base')",
   "language": "python",
   "name": "python3"
  },
  "language_info": {
   "codemirror_mode": {
    "name": "ipython",
    "version": 3
   },
   "file_extension": ".py",
   "mimetype": "text/x-python",
   "name": "python",
   "nbconvert_exporter": "python",
   "pygments_lexer": "ipython3",
   "version": "3.7.6"
  },
  "orig_nbformat": 2,
  "vscode": {
   "interpreter": {
    "hash": "01ef5fd295d2f06c799f887d3d5a0aa621984c826cc1e428ccbd852109f922c3"
   }
  }
 },
 "nbformat": 4,
 "nbformat_minor": 2
}
