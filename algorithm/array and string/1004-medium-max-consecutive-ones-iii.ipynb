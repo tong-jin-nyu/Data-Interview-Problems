{
 "cells": [
  {
   "cell_type": "markdown",
   "metadata": {},
   "source": [
    "# 1004 Max Consecutive Ones III\n",
    "\n",
    "Medium\n",
    "\n",
    "https://leetcode.cn/problems/max-consecutive-ones-iii/\n",
    "\n",
    "Created on: 9/3/2024\n",
    "\n",
    "Modified on: 9/3/2024\n",
    "\n",
    "---\n",
    "\n",
    "Given a binary array `nums` and an integer `k`, return the maximum number of consecutive `1`'s in \n",
    "the array if you can flip at most `k` `0`'s.\n",
    "\n",
    "**Example 1:**\n",
    "\n",
    "```\n",
    "Input: nums = [1,1,1,0,0,0,1,1,1,1,0], k = 2\n",
    "Output: 6\n",
    "Explanation: [1,1,1,0,0,1,1,1,1,1,1]\n",
    "Bolded numbers were flipped from 0 to 1. The longest subarray is underlined.\n",
    "```\n",
    "\n",
    "**Example 2:**\n",
    "\n",
    "```\n",
    "Input: nums = [0,0,1,1,0,0,1,1,1,0,1,1,0,0,0,1,1,1,1], k = 3\n",
    "Output: 10\n",
    "Explanation: [0,0,1,1,1,1,1,1,1,1,1,1,0,0,0,1,1,1,1]\n",
    "Bolded numbers were flipped from 0 to 1. The longest subarray is underlined.\n",
    "```\n",
    "\n",
    "**Constraints:**\n",
    "\n",
    "- `1 <= nums.length <= 10^5`\n",
    "- `nums[i]` is either `0` or `1`\n",
    "- `0 <= k <= nums.length`\n",
    "\n",
    "---\n"
   ]
  },
  {
   "cell_type": "markdown",
   "metadata": {},
   "source": [
    "# Java\n",
    "\n",
    "``` Java\n",
    "class Solution {\n",
    "    public int longestOnes(int[] nums, int k) {\n",
    "        int n = nums.length;\n",
    "        int res = 0;\n",
    "\n",
    "        for (int left = 0, right = 0, sum = 0; right < n; right++) {\n",
    "            sum += nums[right] != 1 ? 1 : 0;\n",
    "\n",
    "            while (sum > k) {\n",
    "                sum -= nums[left] != 1 ? 1 : 0;\n",
    "                left++;\n",
    "            }\n",
    "\n",
    "            res = Math.max(res, right - left + 1);\n",
    "        }\n",
    "\n",
    "        return res;\n",
    "    }\n",
    "}\n",
    "```"
   ]
  }
 ],
 "metadata": {
  "language_info": {
   "name": "python"
  }
 },
 "nbformat": 4,
 "nbformat_minor": 2
}
