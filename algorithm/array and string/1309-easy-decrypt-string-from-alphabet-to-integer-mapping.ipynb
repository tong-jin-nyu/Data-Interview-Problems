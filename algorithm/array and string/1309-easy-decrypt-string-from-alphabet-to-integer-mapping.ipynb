{
 "cells": [
  {
   "cell_type": "markdown",
   "metadata": {},
   "source": [
    "# 1309 Decrypt String from Alphabet to Integer Mapping\n",
    "\n",
    "Easy\n",
    "\n",
    "https://leetcode.cn/problems/decrypt-string-from-alphabet-to-integer-mapping/\n",
    "\n",
    "Created on: 8/1/2022\n",
    "\n",
    "Modified on: 8/1/2022\n",
    "\n",
    "---\n",
    "\n",
    "You are given a string `s` formed by digits and `'#'`. We want to map `s` to English lowercase characters as follows:\n",
    "\n",
    "- Characters (`'a'` to `'i'`) are represented by (`'1'` to `'9'`) respectively.\n",
    "- Characters (`'j'` to `'z'`) are represented by (`'10#'` to `'26#'`) respectively.\n",
    "\n",
    "Return the string formed after mapping.\n",
    "\n",
    "The test cases are generated so that a unique mapping will always exist.\n",
    "\n",
    "**Example 1:**\n",
    "\n",
    "```\n",
    "Input: s = \"10#11#12\"\n",
    "Output: \"jkab\"\n",
    "Explanation: \"j\" -> \"10#\" , \"k\" -> \"11#\" , \"a\" -> \"1\" , \"b\" -> \"2\".\n",
    "```\n",
    "\n",
    "**Example 2:**\n",
    "\n",
    "```\n",
    "Input: s = \"1326#\"\n",
    "Output: \"acz\"\n",
    "```\n",
    "\n",
    "**Constraints:**\n",
    "\n",
    "- 1 <= `s.length` <= 1000\n",
    "- `s` consists of digits and the `'#'` letter.\n",
    "- `s` will be a valid string such that mapping is always possible.\n",
    "\n",
    "---\n"
   ]
  },
  {
   "cell_type": "code",
   "execution_count": 5,
   "metadata": {},
   "outputs": [],
   "source": [
    "class Solution:\n",
    "    def freqAlphabets(self, s: str) -> str:\n",
    "        alphabet = '#abcdefghijklmnopqrstuvwxyz'\n",
    "        ans = ''\n",
    "        n = len(s)\n",
    "        i = -1\n",
    "        while i >= -n:\n",
    "            if s[i] == '#':\n",
    "                ans += alphabet[int(s[i-2:i])]\n",
    "                i -= 3\n",
    "            else:\n",
    "                ans += alphabet[int(s[i])]\n",
    "                i -= 1\n",
    "        return ans[::-1]\n"
   ]
  },
  {
   "cell_type": "code",
   "execution_count": 6,
   "metadata": {},
   "outputs": [
    {
     "data": {
      "text/plain": [
       "'acbfjkmabccec'"
      ]
     },
     "execution_count": 6,
     "metadata": {},
     "output_type": "execute_result"
    }
   ],
   "source": [
    "test = Solution()\n",
    "s = '132610#11#13#123353'\n",
    "test.freqAlphabets(s)"
   ]
  }
 ],
 "metadata": {
  "kernelspec": {
   "display_name": "Python 3.7.6",
   "language": "python",
   "name": "python3"
  },
  "language_info": {
   "codemirror_mode": {
    "name": "ipython",
    "version": 3
   },
   "file_extension": ".py",
   "mimetype": "text/x-python",
   "name": "python",
   "nbconvert_exporter": "python",
   "pygments_lexer": "ipython3",
   "version": "3.7.6"
  },
  "orig_nbformat": 2,
  "vscode": {
   "interpreter": {
    "hash": "01ef5fd295d2f06c799f887d3d5a0aa621984c826cc1e428ccbd852109f922c3"
   }
  }
 },
 "nbformat": 4,
 "nbformat_minor": 2
}
