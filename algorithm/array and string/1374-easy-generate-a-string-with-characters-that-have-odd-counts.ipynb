{
 "cells": [
  {
   "cell_type": "markdown",
   "metadata": {},
   "source": [
    "# 1374 Generate a String with Characters that Have Odd Counts\n",
    "\n",
    "Easy\n",
    "\n",
    "https://leetcode.cn/problems/generate-a-string-with-characters-that-have-odd-counts/\n",
    "\n",
    "Created on: 7/31/2022\n",
    "\n",
    "Modified on: 7/31/2022\n",
    "\n",
    "---\n",
    "Given an integer `n`, return a string with `n` characters such that each character in such string occurs an odd number of times.\n",
    "\n",
    "The returned string must contain only lowercase English letters. If there are multiples valid strings, return any of them.  \n",
    "\n",
    "**Example 1:**\n",
    "\n",
    "```\n",
    "Input: n = 4\n",
    "Output: \"pppz\"\n",
    "Explanation: \"pppz\" is a valid string since the character 'p' occurs three times and the character 'z' occurs once. Note that there are many other valid strings such as \"ohhh\" and \"love\".\n",
    "```\n",
    "\n",
    "**Example 2:**\n",
    "\n",
    "```\n",
    "Input: n = 2\n",
    "Output: \"xy\"\n",
    "Explanation: \"xy\" is a valid string since the characters 'x' and 'y' occur once. Note that there are many other valid strings such as \"ag\" and \"ur\".\n",
    "```\n",
    "\n",
    "**Example 3:**\n",
    "\n",
    "```\n",
    "Input: n = 7\n",
    "Output: \"holasss\"\n",
    "```\n",
    "\n",
    "**Constraints:**\n",
    "\n",
    "- 1 <= n <= 500\n",
    "\n",
    "---\n"
   ]
  },
  {
   "cell_type": "code",
   "execution_count": 1,
   "metadata": {},
   "outputs": [],
   "source": [
    "class Solution:\n",
    "    def generateTheString(self, n: int) -> str:\n",
    "        return 'a' * n if n % 2 else 'a' * (n - 1) + 'b'\n"
   ]
  },
  {
   "cell_type": "code",
   "execution_count": 2,
   "metadata": {},
   "outputs": [
    {
     "data": {
      "text/plain": [
       "'aaaaaaaaaaaaaaa'"
      ]
     },
     "execution_count": 2,
     "metadata": {},
     "output_type": "execute_result"
    }
   ],
   "source": [
    "# Test\n",
    "test = Solution()\n",
    "n = 15\n",
    "test.generateTheString(n)\n"
   ]
  }
 ],
 "metadata": {
  "kernelspec": {
   "display_name": "Python 3.7.6",
   "language": "python",
   "name": "python3"
  },
  "language_info": {
   "codemirror_mode": {
    "name": "ipython",
    "version": 3
   },
   "file_extension": ".py",
   "mimetype": "text/x-python",
   "name": "python",
   "nbconvert_exporter": "python",
   "pygments_lexer": "ipython3",
   "version": "3.7.6"
  },
  "orig_nbformat": 2,
  "vscode": {
   "interpreter": {
    "hash": "01ef5fd295d2f06c799f887d3d5a0aa621984c826cc1e428ccbd852109f922c3"
   }
  }
 },
 "nbformat": 4,
 "nbformat_minor": 2
}
