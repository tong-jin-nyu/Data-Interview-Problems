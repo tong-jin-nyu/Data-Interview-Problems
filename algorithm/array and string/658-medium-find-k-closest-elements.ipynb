{
 "cells": [
  {
   "cell_type": "markdown",
   "metadata": {},
   "source": [
    "# 658 Find K Closest Elements\n",
    "\n",
    "Medium\n",
    "\n",
    "https://leetcode.cn/problems/find-k-closest-elements/\n",
    "\n",
    "Created on: 7/9/2022\n",
    "\n",
    "Modified on: 7/12/2022\n",
    "\n",
    "---\n",
    "\n",
    "Given a sorted integer array `arr`, two integers `k` and `x`, return the `k` closest integers to `x` in the array. The result should also be sorted in ascending order.\n",
    "\n",
    "Integer `a` is closer to `x` than integer `b` if:\n",
    "- `|a - x| < |b - x|`, or\n",
    "- `|a - x| == |b - x|` and `a < b`\n",
    "\n",
    "**Example 1:**\n",
    "\n",
    "```\n",
    "Input: arr = [1,2,3,4,5], k = 4, x = 3\n",
    "Output: [1,2,3,4]\n",
    "```\n",
    "\n",
    "**Example 2:**\n",
    "\n",
    "```\n",
    "Input: nums = [3,3,7,7,10,11,11]\n",
    "Output: 10\n",
    "```\n",
    "\n",
    "**Constraints:**\n",
    "- 1 <= `nums.length` <= 10^5\n",
    "- 0 <= `nums[i]` <= 10^5\n",
    "\n",
    "---\n"
   ]
  },
  {
   "cell_type": "code",
   "execution_count": 6,
   "metadata": {},
   "outputs": [
    {
     "data": {
      "text/plain": [
       "[1, 2, 3, 4]"
      ]
     },
     "execution_count": 6,
     "metadata": {},
     "output_type": "execute_result"
    }
   ],
   "source": [
    "from typing import List\n",
    "\n",
    "\n",
    "class Solution:\n",
    "    def findClosestElements(self, arr: List[int], k: int, x: int) -> List[int]:\n",
    "        n = len(arr)\n",
    "        if x <= arr[0]:\n",
    "            return arr[:k]\n",
    "        elif x >= arr[-1]:\n",
    "            return arr[n - k:]\n",
    "        else:\n",
    "            left, right = 0, n - 1\n",
    "\n",
    "            while right - left + 1 > k:\n",
    "                left_dis, right_dis = abs(x - arr[left]), abs(x - arr[right])\n",
    "                if left_dis > right_dis:\n",
    "                    left += 1\n",
    "                else:\n",
    "                    right -= 1\n",
    "\n",
    "            return arr[left:right + 1]\n",
    "            \n",
    "\n",
    "# Test\n",
    "test = Solution()\n",
    "arr = [1,2,3,4,5]\n",
    "k = 4\n",
    "x = 3\n",
    "test.findClosestElements(arr, k, x)\n"
   ]
  }
 ],
 "metadata": {
  "kernelspec": {
   "display_name": "Python 3.7.6",
   "language": "python",
   "name": "python3"
  },
  "language_info": {
   "codemirror_mode": {
    "name": "ipython",
    "version": 3
   },
   "file_extension": ".py",
   "mimetype": "text/x-python",
   "name": "python",
   "nbconvert_exporter": "python",
   "pygments_lexer": "ipython3",
   "version": "3.7.6"
  },
  "orig_nbformat": 2,
  "vscode": {
   "interpreter": {
    "hash": "01ef5fd295d2f06c799f887d3d5a0aa621984c826cc1e428ccbd852109f922c3"
   }
  }
 },
 "nbformat": 4,
 "nbformat_minor": 2
}
