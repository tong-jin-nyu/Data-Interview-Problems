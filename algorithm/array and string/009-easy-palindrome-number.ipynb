{
 "cells": [
  {
   "cell_type": "markdown",
   "metadata": {},
   "source": [
    "# Palindrome Number\n",
    "\n",
    "Easy\n",
    "\n",
    "https://leetcode.cn/problems/palindrome-number/\n",
    "\n",
    "Created on: 5/28/2020\n",
    "\n",
    "Modified on: 7/21/2022\n",
    "\n",
    "---\n",
    "\n",
    "Given an integer `x`, return `true` if `x` is a palindrome integer.\n",
    "\n",
    "An integer is a palindrome when it reads the same backward as forward. For example, `121` is palindrome while `123` is not.\n",
    "\n",
    "**Example 1:**\n",
    "\n",
    "```\n",
    "Input: x = 121\n",
    "Output: true\n",
    "```\n",
    "\n",
    "**Example 2:**\n",
    "\n",
    "```\n",
    "Input: x = -121\n",
    "Output: false\n",
    "Explanation: From left to right, it reads -121. \n",
    "From right to left, it becomes 121-. \n",
    "Therefore, it is not a palindrome.\n",
    "```\n",
    "\n",
    "**Example 3:**\n",
    "\n",
    "```\n",
    "Input: x = 10\n",
    "Output: false\n",
    "Explanation: Reads 01 from right to left. \n",
    "Therefore, it is not a palindrome.\n",
    "```\n",
    "\n",
    "**Constraints:**\n",
    "\n",
    "- $-2^{31} \\leq x \\leq 2^{31} - 1$\n",
    "\n",
    "**Follow up:**\n",
    "Could you solve it without converting the integer to a string?\n",
    "\n",
    "---\n"
   ]
  },
  {
   "cell_type": "markdown",
   "metadata": {},
   "source": [
    "### Solution 1 (Convert to string)"
   ]
  },
  {
   "cell_type": "code",
   "execution_count": 1,
   "metadata": {},
   "outputs": [
    {
     "name": "stdout",
     "output_type": "stream",
     "text": [
      "True\n",
      "False\n",
      "False\n"
     ]
    }
   ],
   "source": [
    "# Update 11/06/2021: Simplify the solution\n",
    "class Solution1:\n",
    "    def isPalindrome(self, x: int) -> bool:\n",
    "        if x < 0:\n",
    "            return False\n",
    "        return int(str(x)[::-1]) == x\n",
    "\n",
    "# Test\n",
    "test = Solution1()\n",
    "print(test.isPalindrome(x=12321))\n",
    "print(test.isPalindrome(x=-121))\n",
    "print(test.isPalindrome(x=12300))\n"
   ]
  },
  {
   "cell_type": "markdown",
   "metadata": {},
   "source": [
    "### Explanation"
   ]
  },
  {
   "cell_type": "markdown",
   "metadata": {},
   "source": [
    "The easiest way of solving this problem is to utilize the reversion feature of `string`. \n",
    "\n",
    "The first step is to determine if the input integer is negative or not. This is because a negative integer has a negative sign and, therefore, cannot be palindromic.\n",
    "\n",
    "``` python\n",
    "def isPalindrome(self, x: int) -> bool:\n",
    "        is_negative = False\n",
    "        if x < 0:\n",
    "            return False\n",
    "```\n",
    "\n",
    "The next step involves change the integer to a string and then reverse the string by utilizing full slicing.\n",
    "\n",
    "``` python\n",
    "def isPalindrome(self, x: int) -> bool:\n",
    "        is_negative = False\n",
    "        if x < 0:\n",
    "            return False\n",
    "        as_string = str(x)\n",
    "        as_number = int(as_string[::-1])\n",
    "```\n",
    "\n",
    "Finally, if negative, return results with a nagetive sign.\n",
    "\n",
    "``` python\n",
    "def isPalindrome(self, x: int) -> bool:\n",
    "        is_negative = False\n",
    "        if x < 0:\n",
    "            return False\n",
    "        as_string = str(x)\n",
    "        as_number = int(as_string[::-1])\n",
    "        is_negative = False\n",
    "        if x < 0:\n",
    "            return False\n",
    "        as_string = str(x)\n",
    "        return as_number == x\n",
    "```"
   ]
  },
  {
   "cell_type": "markdown",
   "metadata": {},
   "source": [
    "### Solution 2 (Math calculation)"
   ]
  },
  {
   "cell_type": "code",
   "execution_count": 2,
   "metadata": {},
   "outputs": [
    {
     "name": "stdout",
     "output_type": "stream",
     "text": [
      "True\n",
      "False\n",
      "False\n"
     ]
    }
   ],
   "source": [
    "class Solution2:\n",
    "    def isPalindrome(self, x: int) -> bool:\n",
    "        original = x\n",
    "        output = 0\n",
    "        if x < 0:\n",
    "            return False\n",
    "        while x > 0:\n",
    "            remainder = x % 10\n",
    "            output = 10 * output + remainder\n",
    "            x //= 10\n",
    "        return output == original\n",
    "\n",
    "# Test\n",
    "test = Solution2()\n",
    "print(test.isPalindrome(x=12321))\n",
    "print(test.isPalindrome(x=-121))\n",
    "print(test.isPalindrome(x=12300))\n"
   ]
  },
  {
   "cell_type": "markdown",
   "metadata": {},
   "source": [
    "### Explanation\n",
    "\n",
    "An alternative solution is to avoid using string features. To solve the problem, we can use module to extract the number on each digit, and then add them up, digit by digit. \n",
    "\n",
    "The first step is the same: check if the input integer is negative.\n",
    "\n",
    "Then, we create two variables: \n",
    "\n",
    "1. `original`: to store the value of the input integer \n",
    "\n",
    "2. `output`: to store the output value for test\n",
    "\n",
    "``` python\n",
    "def isPalindrome(x: int) -> bool:\n",
    "        original = x\n",
    "        output = 0\n",
    "        if x < 0:\n",
    "            return False\n",
    "```\n",
    "\n",
    "After that, we create a while loop: while x is above 0, for each time, we get the module of the input integer divided by 10. We then add them up by putting the number one digit above each time. \n",
    "\n",
    "``` python\n",
    "def isPalindrome(x: int) -> bool:\n",
    "        original = x\n",
    "        output = 0\n",
    "        if x < 0:\n",
    "            return False\n",
    "        while x > 0:\n",
    "            remain = x % 10\n",
    "            output = 10 * output + remain\n",
    "            x //= 10\n",
    "        return output == original\n",
    "```"
   ]
  }
 ],
 "metadata": {
  "kernelspec": {
   "display_name": "Python 3.9.4 64-bit",
   "language": "python",
   "name": "python3"
  },
  "language_info": {
   "codemirror_mode": {
    "name": "ipython",
    "version": 3
   },
   "file_extension": ".py",
   "mimetype": "text/x-python",
   "name": "python",
   "nbconvert_exporter": "python",
   "pygments_lexer": "ipython3",
   "version": "3.9.4"
  },
  "vscode": {
   "interpreter": {
    "hash": "fc8814d95e3bb7c7d620345642206f617029e5ce3d5941736e486cd8ca8f4058"
   }
  }
 },
 "nbformat": 4,
 "nbformat_minor": 2
}
