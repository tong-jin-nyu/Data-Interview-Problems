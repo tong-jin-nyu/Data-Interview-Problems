{
 "cells": [
  {
   "cell_type": "markdown",
   "metadata": {},
   "source": [
    "# 209 Minimum Size Subarray Sum\n",
    "\n",
    "Medium\n",
    "\n",
    "https://leetcode.cn/problems/minimum-size-subarray-sum\n",
    "\n",
    "Created on: 7/4/2022\n",
    "\n",
    "Modified on: 7/13/2022\n",
    "\n",
    "---\n",
    "\n",
    "Given an array of positive integers `nums` and a positive integer `target`, return the minimal length of a contiguous subarray `[nums_l, nums_{l+1}, ..., nums_{r-1}, nums_r]` of which the sum is greater than or equal to `target`. If there is no such subarray, return `0` instead.\n",
    "\n",
    "**Example 1:**\n",
    "\n",
    "``` \n",
    "Input: target = 7, nums = [2,3,1,2,4,3]\n",
    "Output: 2\n",
    "Explanation: The subarray [4,3] has the minimal length under the problem constraint.\n",
    "```\n",
    "\n",
    "**Example 2:**\n",
    "\n",
    "```\n",
    "Input: target = 4, nums = [1,4,4]\n",
    "Output: 1\n",
    "```\n",
    "\n",
    "**Example 3:**\n",
    "\n",
    "```\n",
    "Input: target = 11, nums = [1,1,1,1,1,1,1,1]\n",
    "Output: 0\n",
    "```\n",
    "\n",
    "**Constraints:**\n",
    "- 1 <= `target` <= 10^9\n",
    "- 1 <= `nums.length` <= 10^5\n",
    "- 1 <= `nums[i]` <= 10^4\n",
    "\n",
    "---\n"
   ]
  },
  {
   "cell_type": "code",
   "execution_count": 25,
   "metadata": {},
   "outputs": [
    {
     "name": "stdout",
     "output_type": "stream",
     "text": [
      "2\n",
      "1\n"
     ]
    }
   ],
   "source": [
    "# Brute force\n",
    "from typing import List\n",
    "\n",
    "\n",
    "class Solution:\n",
    "    def minSubArrayLen(self, target: int, nums: List[int]) -> int:\n",
    "        if not nums:\n",
    "            return 0\n",
    "\n",
    "        n = len(nums)\n",
    "        left, right = 0, 0\n",
    "        min_len = n + 1\n",
    "        total = 0\n",
    "\n",
    "        while right < n:\n",
    "            total += nums[right]\n",
    "            while total >= target:\n",
    "                min_len = min(min_len, right - left + 1)\n",
    "                total -= nums[left]\n",
    "                left += 1\n",
    "            right += 1\n",
    "\n",
    "        return 0 if min_len == n + 1 else min_len\n",
    "\n",
    "\n",
    "\n",
    "# Test\n",
    "test = Solution()\n",
    "nums = [2, 3, 1, 2, 4, 3]\n",
    "target = 7\n",
    "print(test.minSubArrayLen(target, nums))\n",
    "\n",
    "nums = [1, 4, 4]\n",
    "target = 4\n",
    "print(test.minSubArrayLen(target, nums))\n"
   ]
  },
  {
   "cell_type": "code",
   "execution_count": 26,
   "metadata": {},
   "outputs": [
    {
     "name": "stdout",
     "output_type": "stream",
     "text": [
      "[1, 2]\n",
      "[1, 3]\n",
      "[1, 2]\n"
     ]
    }
   ],
   "source": [
    "# Binary search\n",
    "from typing import List\n",
    "\n",
    "\n",
    "class Solution:\n",
    "    def twoSum(self, numbers: List[int], target: int) -> List[int]:\n",
    "        n = len(numbers)\n",
    "        for i in range(n):\n",
    "            the_other = target - numbers[i]\n",
    "            low, high = i + 1, n - 1\n",
    "            while low <= high:\n",
    "                mid = (low + high) // 2\n",
    "                if numbers[mid] == the_other:\n",
    "                    return [i + 1, mid + 1]\n",
    "                elif numbers[mid] > the_other:\n",
    "                    high = mid - 1\n",
    "                else:\n",
    "                    low = mid + 1\n",
    "\n",
    "# Test\n",
    "test = Solution()\n",
    "numbers = [2, 7, 11, 15]\n",
    "target = 9\n",
    "print(test.twoSum(numbers, target))\n",
    "\n",
    "numbers = [2, 3, 4]\n",
    "target = 6\n",
    "print(test.twoSum(numbers, target))\n",
    "\n",
    "numbers = [-1, 0]\n",
    "target = -1\n",
    "print(test.twoSum(numbers, target))\n"
   ]
  },
  {
   "cell_type": "code",
   "execution_count": 27,
   "metadata": {},
   "outputs": [
    {
     "name": "stdout",
     "output_type": "stream",
     "text": [
      "[1, 2]\n",
      "[1, 3]\n",
      "[1, 2]\n"
     ]
    }
   ],
   "source": [
    "# Two pointers\n",
    "from typing import List\n",
    "\n",
    "\n",
    "class Solution:\n",
    "    def twoSum(self, numbers: List[int], target: int) -> List[int]:\n",
    "        n = len(numbers)\n",
    "        left, right = 0, n - 1\n",
    "\n",
    "        while left < right:\n",
    "            sum = numbers[left] + numbers[right]\n",
    "            if sum == target:\n",
    "                return[left + 1, right + 1]\n",
    "            elif sum > target:\n",
    "                right -= 1\n",
    "            else:\n",
    "                left += 1\n",
    "\n",
    "# Test\n",
    "test = Solution()\n",
    "numbers = [2, 7, 11, 15]\n",
    "target = 9\n",
    "print(test.twoSum(numbers, target))\n",
    "\n",
    "numbers = [2, 3, 4]\n",
    "target = 6\n",
    "print(test.twoSum(numbers, target))\n",
    "\n",
    "numbers = [-1, 0]\n",
    "target = -1\n",
    "print(test.twoSum(numbers, target))\n"
   ]
  },
  {
   "cell_type": "markdown",
   "metadata": {},
   "source": [
    "---"
   ]
  }
 ],
 "metadata": {
  "kernelspec": {
   "display_name": "Python 3.7.6 ('base')",
   "language": "python",
   "name": "python3"
  },
  "language_info": {
   "codemirror_mode": {
    "name": "ipython",
    "version": 3
   },
   "file_extension": ".py",
   "mimetype": "text/x-python",
   "name": "python",
   "nbconvert_exporter": "python",
   "pygments_lexer": "ipython3",
   "version": "3.7.6"
  },
  "orig_nbformat": 2,
  "vscode": {
   "interpreter": {
    "hash": "01ef5fd295d2f06c799f887d3d5a0aa621984c826cc1e428ccbd852109f922c3"
   }
  }
 },
 "nbformat": 4,
 "nbformat_minor": 2
}
