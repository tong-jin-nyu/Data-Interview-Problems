{
 "cells": [
  {
   "cell_type": "markdown",
   "metadata": {},
   "source": [
    "# 1523 Count Odd Numbers in an Interval Range\n",
    "\n",
    "Easy\n",
    "\n",
    "https://leetcode.cn/problems/count-odd-numbers-in-an-interval-range/\n",
    "\n",
    "Created on: 8/11/2024\n",
    "\n",
    "Modified on: 8/11/2024\n",
    "\n",
    "---\n",
    "\n",
    "Given two non-negative integers `low` and `high`. Return the count of odd numbers between `low` and \n",
    "`high` (inclusive).\n",
    "\n",
    "**Example 1:**\n",
    "\n",
    "```\n",
    "Input: low = 3, high = 7\n",
    "Output: 3\n",
    "Explanation: The odd numbers between 3 and 7 are [3,5,7].\n",
    "```\n",
    "\n",
    "**Example 2:**\n",
    "\n",
    "```\n",
    "Input: low = 8, high = 10\n",
    "Output: 1\n",
    "Explanation: The odd numbers between 8 and 10 are [9].\n",
    "```\n",
    "\n",
    "**Constraints:**\n",
    "\n",
    "- `0 <= low <= high <= 10^9`\n",
    "\n",
    "---\n"
   ]
  },
  {
   "cell_type": "markdown",
   "metadata": {},
   "source": [
    "# Java\n",
    "\n",
    "``` Java\n",
    "class Solution {\n",
    "    public int countOdds(int low, int high) {\n",
    "\n",
    "        if (low % 2 == 0 & high % 2 == 0)\n",
    "            return (high - low) / 2;\n",
    "        return (high - low) / 2 + 1;\n",
    "    }\n",
    "}\n",
    "```"
   ]
  },
  {
   "cell_type": "markdown",
   "metadata": {},
   "source": [
    "# Java - old\n",
    "\n",
    "``` Java\n",
    "class Solution {\n",
    "    public int countOdds(int low, int high) {\n",
    "\n",
    "        if (low % 2 == 0 & high % 2 == 0) {\n",
    "            return (int) (high - low) / 2;\n",
    "        } else {\n",
    "            return (int) (high - low) / 2 + 1;\n",
    "        } else {\n",
    "            return (int) Math.ceil(((double) high - (double) low) / 2);\n",
    "        }\n",
    "    }\n",
    "}\n",
    "```"
   ]
  }
 ],
 "metadata": {
  "language_info": {
   "name": "python"
  }
 },
 "nbformat": 4,
 "nbformat_minor": 2
}
