{
 "cells": [
  {
   "cell_type": "markdown",
   "metadata": {},
   "source": [
    "# 387 First Unique Character in a String\n",
    "\n",
    "Easy\n",
    "\n",
    "https://leetcode.cn/problems/first-unique-character-in-a-string/\n",
    "\n",
    "Created on: 11/12/2021\n",
    "\n",
    "Modified on: 7/21/2022\n",
    "\n",
    "---\n",
    "\n",
    "Given a string `s`, find the first non-repeating character in it and return its index. If it does not exist, return `-1`.\n",
    "\n",
    "**Example 1:**\n",
    "\n",
    "```\n",
    "Input: s = \"leetcode\"\n",
    "Output: 0\n",
    "```\n",
    "\n",
    "**Example 2:**\n",
    "\n",
    "```\n",
    "Input: s = \"loveleetcode\"\n",
    "Output: 2\n",
    "```\n",
    "\n",
    "**Example 3:**\n",
    "\n",
    "```\n",
    "Input: s = \"aabb\"\n",
    "Output: -1\n",
    "```\n",
    "\n",
    "**Constraints:**\n",
    "\n",
    "- $1 \\leq s.length \\leq 10^{5}$\n",
    "- `s` consists of only lowercase English letters.\n",
    "\n",
    "---\n"
   ]
  },
  {
   "cell_type": "markdown",
   "metadata": {},
   "source": [
    "### Solution 1"
   ]
  },
  {
   "cell_type": "code",
   "execution_count": 3,
   "metadata": {},
   "outputs": [],
   "source": [
    "class Solution:\n",
    "    def firstUniqChar(self, s: str) -> int:\n",
    "        letters = set()\n",
    "        n = len(s)\n",
    "        for i in range(n):\n",
    "            if s[i] not in letters:\n",
    "                if s[i] not in s[i+1:]:\n",
    "                    return i\n",
    "                else:\n",
    "                    letters.add(s[i])\n",
    "        return -1"
   ]
  },
  {
   "cell_type": "code",
   "execution_count": 4,
   "metadata": {},
   "outputs": [],
   "source": [
    "class Solution:\n",
    "    def firstUniqChar(self, s: str) -> int:\n",
    "        counters = dict()\n",
    "        n = len(s)\n",
    "        for ch in s:\n",
    "            if ch in counters:\n",
    "                counters[ch] += 1\n",
    "            else:\n",
    "                counters[ch] = 1\n",
    "        for i, ch in enumerate(s):\n",
    "            if counters[ch] == 1:\n",
    "                return i\n",
    "        return -1\n"
   ]
  },
  {
   "cell_type": "code",
   "execution_count": 5,
   "metadata": {},
   "outputs": [
    {
     "name": "stdout",
     "output_type": "stream",
     "text": [
      "0\n"
     ]
    }
   ],
   "source": [
    "# Test\n",
    "test = Solution()\n",
    "print(test.firstUniqChar(\"adjective\"))\n"
   ]
  },
  {
   "cell_type": "markdown",
   "metadata": {},
   "source": [
    "### Explanation\n",
    "\n",
    "Generally, we can check if a character is repeated by testing if it is included in the remaining string. However, the tricky part of this problem is that all repeated letters are considered repeating. For example, the second `a` in `aabb` does not exist in the remaining string `bb`. However, `a` is still considered repeating. Therefore, we need to record repeated characters aside and check during the iteration process."
   ]
  },
  {
   "cell_type": "markdown",
   "metadata": {},
   "source": [
    "---"
   ]
  }
 ],
 "metadata": {
  "kernelspec": {
   "display_name": "Python 3.7.6",
   "language": "python",
   "name": "python3"
  },
  "language_info": {
   "codemirror_mode": {
    "name": "ipython",
    "version": 3
   },
   "file_extension": ".py",
   "mimetype": "text/x-python",
   "name": "python",
   "nbconvert_exporter": "python",
   "pygments_lexer": "ipython3",
   "version": "3.7.6"
  },
  "orig_nbformat": 2,
  "vscode": {
   "interpreter": {
    "hash": "01ef5fd295d2f06c799f887d3d5a0aa621984c826cc1e428ccbd852109f922c3"
   }
  }
 },
 "nbformat": 4,
 "nbformat_minor": 2
}
