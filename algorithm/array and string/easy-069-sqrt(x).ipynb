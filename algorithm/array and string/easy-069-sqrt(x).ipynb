{
 "cells": [
  {
   "cell_type": "markdown",
   "metadata": {},
   "source": [
    "# 069 Sqrt(x)\n",
    "\n",
    "Easy\n",
    "\n",
    "https://leetcode.cn/problems/sqrtx/\n",
    "\n",
    "Created on: 6/28/2022\n",
    "\n",
    "Modified on: 6/28/2022\n",
    "\n",
    "---\n",
    "\n",
    "Given a non-negative integer `x`, compute and return the square root of `x`.\n",
    "\n",
    "Since the return type is an integer, the decimal digits are **truncated**, and only **the integer part** of the result is returned.\n",
    "\n",
    "**Note:** You are not allowed to use any built-in exponent function or operator, such as `pow(x, 0.5)` or `x ** 0.5`.\n",
    "\n",
    "**Example 1:**\n",
    "\n",
    "``` text\n",
    "Input: x = 4\n",
    "Output: 2\n",
    "```\n",
    "\n",
    "**Example 2:**\n",
    "\n",
    "``` text\n",
    "Input: x = 8\n",
    "Output: 2\n",
    "Explanation: The square root of 8 is 2.82842..., and since the decimal part is truncated, 2 is returned.\n",
    "```\n",
    "\n",
    "**Constraints:**\n",
    "\n",
    "- 0 <= x <= 2^31 - 1\n",
    "\n",
    "---\n"
   ]
  },
  {
   "cell_type": "code",
   "execution_count": 1,
   "metadata": {},
   "outputs": [
    {
     "name": "stdout",
     "output_type": "stream",
     "text": [
      "0 0\n",
      "1 0\n",
      "2 1\n",
      "3 1\n",
      "4 2\n",
      "5 2\n",
      "6 2\n",
      "7 2\n",
      "8 2\n",
      "9 3\n",
      "10 3\n",
      "11 3\n",
      "12 3\n",
      "13 3\n",
      "14 3\n",
      "15 3\n",
      "16 4\n",
      "17 4\n",
      "18 4\n",
      "19 4\n"
     ]
    }
   ],
   "source": [
    "# Update: 7/7/2022\n",
    "class Solution:\n",
    "    def mySqrt(self, x: int) -> int:\n",
    "        left, right, output = 0, x, -1\n",
    "        \n",
    "        while left <= right:\n",
    "            mid = (right - left) // 2 + left\n",
    "            if mid * mid <= x:\n",
    "                output = mid\n",
    "                left = mid + 1\n",
    "            else:\n",
    "                right = mid - 1\n",
    "\n",
    "        return output\n",
    "\n",
    "# Test\n",
    "test = Solution()\n",
    "for x in range(20):\n",
    "    print(x, test.mySqrt(x))\n"
   ]
  }
 ],
 "metadata": {
  "kernelspec": {
   "display_name": "Python 3.9.4 64-bit",
   "language": "python",
   "name": "python3"
  },
  "language_info": {
   "codemirror_mode": {
    "name": "ipython",
    "version": 3
   },
   "file_extension": ".py",
   "mimetype": "text/x-python",
   "name": "python",
   "nbconvert_exporter": "python",
   "pygments_lexer": "ipython3",
   "version": "3.9.4"
  },
  "orig_nbformat": 2,
  "vscode": {
   "interpreter": {
    "hash": "fc8814d95e3bb7c7d620345642206f617029e5ce3d5941736e486cd8ca8f4058"
   }
  }
 },
 "nbformat": 4,
 "nbformat_minor": 2
}
