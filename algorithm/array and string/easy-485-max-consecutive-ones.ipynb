{
 "cells": [
  {
   "cell_type": "markdown",
   "metadata": {},
   "source": [
    "# 485 Max Consecutive Ones\n",
    "\n",
    "Easy\n",
    "\n",
    "Created on: 7/4/2022\n",
    "\n",
    "Modified on: 7/4/2022\n",
    "\n",
    "---\n",
    "\n",
    "Given a binary array `nums`, return the maximum number of consecutive `1`'s in the array.\n",
    "\n",
    "**Example 1:**\n",
    "\n",
    "```\n",
    "Input: nums = [1,1,0,1,1,1]\n",
    "Output: 3\n",
    "Explanation: The first two digits or the last three digits are consecutive 1s. The maximum number of consecutive 1s is 3.\n",
    "```\n",
    "\n",
    "**Example 2:**\n",
    "\n",
    "```\n",
    "Input: nums = [1,0,1,1,0,1]\n",
    "Output: 2\n",
    "```\n",
    "\n",
    "**Constraints:**\n",
    "- 1 <= `nums.length` <= 10^5\n",
    "- `nums[i]` is either `0` or `1`.\n",
    "\n",
    "---\n"
   ]
  },
  {
   "cell_type": "code",
   "execution_count": 1,
   "metadata": {},
   "outputs": [
    {
     "data": {
      "text/plain": [
       "3"
      ]
     },
     "execution_count": 1,
     "metadata": {},
     "output_type": "execute_result"
    }
   ],
   "source": [
    "from typing import List\n",
    "\n",
    "\n",
    "class Solution:\n",
    "    def findMaxConsecutiveOnes(self, nums: List[int]) -> int:\n",
    "        p, count = 0, 0\n",
    "        n = len(nums)\n",
    "        max_count = 0\n",
    "\n",
    "        while p < n:\n",
    "            if not nums[p]:\n",
    "                if max_count < count:\n",
    "                    max_count = count\n",
    "                count = 0\n",
    "                p += 1\n",
    "            else:\n",
    "                count += 1\n",
    "                p += 1\n",
    "        \n",
    "        return max(max_count, count)\n",
    "\n",
    "# Test\n",
    "test = Solution()\n",
    "nums = [1, 1, 0, 1, 1, 1]\n",
    "test.findMaxConsecutiveOnes(nums)\n"
   ]
  },
  {
   "cell_type": "markdown",
   "metadata": {},
   "source": [
    "Note: two pointers"
   ]
  }
 ],
 "metadata": {
  "kernelspec": {
   "display_name": "Python 3.7.6 ('base')",
   "language": "python",
   "name": "python3"
  },
  "language_info": {
   "codemirror_mode": {
    "name": "ipython",
    "version": 3
   },
   "file_extension": ".py",
   "mimetype": "text/x-python",
   "name": "python",
   "nbconvert_exporter": "python",
   "pygments_lexer": "ipython3",
   "version": "3.7.6"
  },
  "orig_nbformat": 2,
  "vscode": {
   "interpreter": {
    "hash": "01ef5fd295d2f06c799f887d3d5a0aa621984c826cc1e428ccbd852109f922c3"
   }
  }
 },
 "nbformat": 4,
 "nbformat_minor": 2
}
