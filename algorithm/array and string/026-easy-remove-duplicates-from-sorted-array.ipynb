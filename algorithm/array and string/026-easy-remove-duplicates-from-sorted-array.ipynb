{
 "cells": [
  {
   "cell_type": "markdown",
   "metadata": {},
   "source": [
    "# 026 Remove Duplicates from Sorted Array\n",
    "\n",
    "Easy\n",
    "\n",
    "https://leetcode.cn/problems/remove-duplicates-from-sorted-array\n",
    "\n",
    "Created on: 7/1/2020\n",
    "\n",
    "Modified on: 7/12/2022\n",
    "\n",
    "---\n",
    "\n",
    "Given a sorted array `nums`, remove the duplicates **in-place** such that each element appear only *once* and return the new length.\n",
    "\n",
    "Do not allocate extra space for another array, you must do this by **modifying the input array** **in-place** with O(1) extra memory.\n",
    "\n",
    "**Example 1:**\n",
    "\n",
    "```\n",
    "Given nums = [1,1,2],\n",
    "\n",
    "Your function should return length = 2, with the first two elements of nums being 1 and 2 respectively.\n",
    "\n",
    "It doesn't matter what you leave beyond the returned length.\n",
    "```\n",
    "\n",
    "**Example 2:**\n",
    "\n",
    "```\n",
    "Given nums = [0,0,1,1,1,2,2,3,3,4],\n",
    "\n",
    "Your function should return length = 5, with the first five elements of nums being modified to 0, 1, 2, 3, and 4 respectively.\n",
    "\n",
    "It doesn't matter what values are set beyond the returned length.\n",
    "```\n",
    "\n",
    "**Clarification:**\n",
    "\n",
    "Confused why the returned value is an integer but your answer is an array?\n",
    "\n",
    "Note that the input array is passed in by reference, which means modification to the input array will be known to the caller as well.\n",
    "\n",
    "Internally you can think of this:\n",
    "\n",
    "```\n",
    "// nums is passed in by reference. (i.e., without making a copy)\n",
    "int len = removeDuplicates(nums);\n",
    "\n",
    "// any modification to nums in your function would be known by the caller.\n",
    "// using the length returned by your function, it prints the first len elements.\n",
    "for (int i = 0; i < len; i++) {\n",
    "    print(nums[i]);\n",
    "}\n",
    "```\n",
    "\n",
    "---\n"
   ]
  },
  {
   "cell_type": "code",
   "execution_count": 1,
   "metadata": {},
   "outputs": [
    {
     "name": "stdout",
     "output_type": "stream",
     "text": [
      "2\n",
      "5\n"
     ]
    }
   ],
   "source": [
    "# Remove duplicates from a sorted array\n",
    "class Solution:\n",
    "    def removeDuplicates(nums):\n",
    "        if not nums:\n",
    "            return 0\n",
    "            \n",
    "        fast = slow = 1\n",
    "        n = len(nums)\n",
    "        while fast < n:\n",
    "            if nums[fast] != nums[fast-1]:\n",
    "                nums[slow] = nums[fast]\n",
    "                slow += 1\n",
    "            fast += 1\n",
    "\n",
    "        return slow\n",
    "\n",
    "# Test\n",
    "nums = [1,1,2]\n",
    "print(Solution.removeDuplicates(nums))\n",
    "\n",
    "nums = [0,0,1,1,1,2,2,3,3,4]\n",
    "print(Solution.removeDuplicates(nums))"
   ]
  },
  {
   "cell_type": "markdown",
   "metadata": {},
   "source": [
    "### Explanation"
   ]
  },
  {
   "cell_type": "markdown",
   "metadata": {},
   "source": [
    "It's easy to create an extra array and store values pulled from the original array. However, this will increase the complexity as it adds an additional memory space for storing the extra array. Therefore, we have to manipulate the array by itself.\n",
    "\n",
    "To solve this, I used a classic method called two pointers. The logic is to refresh the array each time when the value of the element is larger than the previous ones. \n",
    "\n",
    "First, we create two variables as pointers: `count` and `index`. `count` is used to count the length of the final output array. It is also used as a pointer for refreshing the array. `index` is used for loop indexing.\n",
    "\n",
    "Second, we use a for-in loop to visit elements in the array, starting from the second. When an element is not equal (higher because the array is sorted) to the previous one, we refresh the array using `count` as index. In this way, we can store the first unique element by default and the next unique one on the second, and the next one on the third, ...\n",
    "\n",
    "After that, we need to increase the `count` by 1. Finally, we output the `count` as the length of the final array."
   ]
  }
 ],
 "metadata": {
  "kernelspec": {
   "display_name": "Python 3.9.4 64-bit",
   "language": "python",
   "name": "python3"
  },
  "language_info": {
   "codemirror_mode": {
    "name": "ipython",
    "version": 3
   },
   "file_extension": ".py",
   "mimetype": "text/x-python",
   "name": "python",
   "nbconvert_exporter": "python",
   "pygments_lexer": "ipython3",
   "version": "3.9.4"
  },
  "vscode": {
   "interpreter": {
    "hash": "fc8814d95e3bb7c7d620345642206f617029e5ce3d5941736e486cd8ca8f4058"
   }
  }
 },
 "nbformat": 4,
 "nbformat_minor": 2
}
