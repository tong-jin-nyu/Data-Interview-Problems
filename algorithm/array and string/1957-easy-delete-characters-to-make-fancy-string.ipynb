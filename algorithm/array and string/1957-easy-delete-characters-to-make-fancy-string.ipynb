{
 "cells": [
  {
   "cell_type": "markdown",
   "metadata": {},
   "source": [
    "# 1991 Find the Middle Index in Array\n",
    "\n",
    "Easy\n",
    "\n",
    "https://leetcode.cn/problems/delete-characters-to-make-fancy-string/\n",
    "\n",
    "Created on: 8/9/2022\n",
    "\n",
    "Modified on: 8/9/2022\n",
    "\n",
    "---\n",
    "\n",
    "A fancy string is a string where no three consecutive characters are equal.\n",
    "\n",
    "Given a string `s`, delete the minimum possible number of characters from `s` to make it fancy.\n",
    "\n",
    "Return the final string after the deletion. It can be shown that the answer will always be unique.\n",
    "\n",
    "**Example 1:**\n",
    "\n",
    "```\n",
    "Input: s = \"leeetcode\"\n",
    "Output: \"leetcode\"\n",
    "Explanation:\n",
    "Remove an 'e' from the first group of 'e's to create \"leetcode\".\n",
    "No three consecutive characters are equal, so return \"leetcode\".\n",
    "```\n",
    "\n",
    "**Example 2:**\n",
    "\n",
    "```\n",
    "Input: s = \"aaabaaaa\"\n",
    "Output: \"aabaa\"\n",
    "Explanation:\n",
    "Remove an 'a' from the first group of 'a's to create \"aabaaaa\".\n",
    "Remove two 'a's from the second group of 'a's to create \"aabaa\".\n",
    "No three consecutive characters are equal, so return \"aabaa\".\n",
    "```\n",
    "\n",
    "**Example 3:**\n",
    "\n",
    "```\n",
    "Input: s = \"aab\"\n",
    "Output: \"aab\"\n",
    "Explanation: No three consecutive characters are equal, so return \"aab\".\n",
    "```\n",
    "\n",
    "**Constraints:**\n",
    "\n",
    "- 1 <= `s.length` <= 10^5\n",
    "- `s` consists only lowercase English letters.\n",
    "\n",
    "---\n"
   ]
  },
  {
   "cell_type": "code",
   "execution_count": 12,
   "metadata": {},
   "outputs": [],
   "source": [
    "class Solution:\n",
    "    def makeFancyString(self, s: str) -> str:\n",
    "        ans = list()\n",
    "        for ch in s:\n",
    "            if len(ans) >= 2 and ans[-2] == ans[-1] == ch:\n",
    "                continue\n",
    "            ans.append(ch)\n",
    "        return ''.join(ans)\n"
   ]
  },
  {
   "cell_type": "code",
   "execution_count": 13,
   "metadata": {},
   "outputs": [
    {
     "data": {
      "text/plain": [
       "'aabaa'"
      ]
     },
     "execution_count": 13,
     "metadata": {},
     "output_type": "execute_result"
    }
   ],
   "source": [
    "test = Solution()\n",
    "s = 'aaabaaaa'\n",
    "test.makeFancyString(s)\n"
   ]
  },
  {
   "cell_type": "markdown",
   "metadata": {},
   "source": [
    "---"
   ]
  }
 ],
 "metadata": {
  "kernelspec": {
   "display_name": "Python 3.7.6",
   "language": "python",
   "name": "python3"
  },
  "language_info": {
   "codemirror_mode": {
    "name": "ipython",
    "version": 3
   },
   "file_extension": ".py",
   "mimetype": "text/x-python",
   "name": "python",
   "nbconvert_exporter": "python",
   "pygments_lexer": "ipython3",
   "version": "3.7.6"
  },
  "orig_nbformat": 2,
  "vscode": {
   "interpreter": {
    "hash": "01ef5fd295d2f06c799f887d3d5a0aa621984c826cc1e428ccbd852109f922c3"
   }
  }
 },
 "nbformat": 4,
 "nbformat_minor": 2
}
