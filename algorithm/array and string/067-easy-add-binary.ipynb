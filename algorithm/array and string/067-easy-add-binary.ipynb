{
 "cells": [
  {
   "cell_type": "markdown",
   "metadata": {},
   "source": [
    "# 67 Add Binary\n",
    "\n",
    "Easy\n",
    "\n",
    "https://leetcode.cn/problems/add-binary/description/\n",
    "\n",
    "Created on: 6/28/2022\n",
    "\n",
    "Modified on: 9/3/2024\n",
    "\n",
    "---\n",
    "\n",
    "Given two binary strings `a` and `b`, return *their sum as a binary string*.\n",
    "\n",
    "**Example 1:**\n",
    "\n",
    "``` text\n",
    "Input: a = \"11\", b = \"1\"\n",
    "Output: \"100\"\n",
    "```\n",
    "\n",
    "**Example 2:**\n",
    "\n",
    "``` text\n",
    "Input: a = \"1010\", b = \"1011\"\n",
    "Output: \"10101\n",
    "```\n",
    "\n",
    "**Constraints:**\n",
    "\n",
    "- 1 <= `a.length, b.length` <= 10^4\n",
    "- `a` and `b` consist only of `'0'` or `'1'` characters.\n",
    "- Each string does not contain leading zeros except for the zero itself.\n",
    "\n",
    "---\n"
   ]
  },
  {
   "cell_type": "code",
   "execution_count": 2,
   "metadata": {},
   "outputs": [
    {
     "name": "stdout",
     "output_type": "stream",
     "text": [
      "100\n"
     ]
    }
   ],
   "source": [
    "class Solution:\n",
    "    def addBinary(self, a: str, b: str) -> str:\n",
    "        # Convert from binary to decimal integer.\n",
    "        a = int(a, base=2)\n",
    "        b = int(b, base=2)\n",
    "        \n",
    "        sum = a + b\n",
    "\n",
    "        # Convert from decimal to binary and return.\n",
    "        return bin(sum)[2:]\n",
    "\n",
    "# Test\n",
    "test = Solution()\n",
    "print(test.addBinary(a='11', b='1'))\n"
   ]
  },
  {
   "cell_type": "markdown",
   "metadata": {},
   "source": [
    "# Java\n",
    "\n",
    "``` Java\n",
    "class Solution {\n",
    "    public String addBinary(String a, String b) {\n",
    "        int n1 = a.length(), n2 = b.length();\n",
    "        int carry = 0;\n",
    "        StringBuilder s = new StringBuilder();\n",
    "\n",
    "        for (int i = n1 - 1, j = n2 - 1; i >= 0 || j >= 0; i--, j--) {\n",
    "            int sum = carry;\n",
    "            sum += i >= 0 ? a.charAt(i) - '0' : 0;\n",
    "            sum += j >= 0 ? b.charAt(j) - '0' : 0;\n",
    "            s.append(sum % 2);\n",
    "            carry = sum / 2;\n",
    "        }\n",
    "        s.append(carry == 1 ? carry : \"\");\n",
    "\n",
    "        return s.reverse().toString();\n",
    "    }\n",
    "}\n",
    "```"
   ]
  }
 ],
 "metadata": {
  "kernelspec": {
   "display_name": "Python 3.9.4 64-bit",
   "language": "python",
   "name": "python3"
  },
  "language_info": {
   "codemirror_mode": {
    "name": "ipython",
    "version": 3
   },
   "file_extension": ".py",
   "mimetype": "text/x-python",
   "name": "python",
   "nbconvert_exporter": "python",
   "pygments_lexer": "ipython3",
   "version": "3.9.4"
  },
  "orig_nbformat": 2,
  "vscode": {
   "interpreter": {
    "hash": "fc8814d95e3bb7c7d620345642206f617029e5ce3d5941736e486cd8ca8f4058"
   }
  }
 },
 "nbformat": 4,
 "nbformat_minor": 2
}
