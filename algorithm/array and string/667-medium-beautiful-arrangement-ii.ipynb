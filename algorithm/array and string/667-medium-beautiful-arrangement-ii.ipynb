{
 "cells": [
  {
   "cell_type": "markdown",
   "metadata": {},
   "source": [
    "# 667 Beautiful Arrangement II\n",
    "\n",
    "Medium\n",
    "\n",
    "https://leetcode.cn/problems/beautiful-arrangement-ii/\n",
    "\n",
    "Created on: 9/7/2022\n",
    "\n",
    "Modified on: 9/7/2022\n",
    "\n",
    "---\n",
    "\n",
    "Given two integer `n` and `k`, construct a list `answer` that contains `n` different positive integers ranging from `1` to `n` and obeys the following requirement:\n",
    "\n",
    "- Suppose this list is `answer = [a1, a2, a3, ..., an]`, then the list `[|a1 - a2|, |a2 - a3|, |a3 - a4|, ..., |a(n-1) - an|]` has exactly `k` distinct integers.\n",
    "\n",
    "Return the list `answer`. If there are multiple valid answers, return any of them.\n",
    "\n",
    "**Example 1:**\n",
    "\n",
    "```\n",
    "Input: n = 3, k = 1\n",
    "Output: [1,2,3]\n",
    "Explanation: The [1,2,3] has three different positive integers ranging from 1 to 3, and the [1,1] has exactly 1 distinct integer: 1\n",
    "```\n",
    "\n",
    "**Example 2:**\n",
    "\n",
    "```\n",
    "Input: n = 3, k = 2\n",
    "Output: [1,3,2]\n",
    "Explanation: The [1,3,2] has three different positive integers ranging from 1 to 3, and the [2,1] has exactly 2 distinct integers: 1 and 2.\n",
    "```\n",
    "\n",
    "**Constraints:**\n",
    "\n",
    "- 1 <= k < n <= 10^4\n",
    "\n",
    "---\n"
   ]
  },
  {
   "cell_type": "code",
   "execution_count": 1,
   "metadata": {},
   "outputs": [],
   "source": [
    "from typing import List\n",
    "\n",
    "\n",
    "class Solution:\n",
    "    def constructArray(self, n: int, k: int) -> List[int]:\n",
    "        ans = [a for a in range(1, n - k)]\n",
    "        i, j = n - k, n\n",
    "        while i <= j:\n",
    "            ans.append(i)\n",
    "            if i != j:\n",
    "                ans.append(j)\n",
    "            i += 1\n",
    "            j -= 1\n",
    "        return ans\n"
   ]
  },
  {
   "cell_type": "code",
   "execution_count": 2,
   "metadata": {},
   "outputs": [
    {
     "data": {
      "text/plain": [
       "[1, 2, 5, 3, 4]"
      ]
     },
     "execution_count": 2,
     "metadata": {},
     "output_type": "execute_result"
    }
   ],
   "source": [
    "test = Solution()\n",
    "n = 5\n",
    "k = 3\n",
    "test.constructArray(n, k)"
   ]
  }
 ],
 "metadata": {
  "kernelspec": {
   "display_name": "Python 3.7.6 ('base')",
   "language": "python",
   "name": "python3"
  },
  "language_info": {
   "codemirror_mode": {
    "name": "ipython",
    "version": 3
   },
   "file_extension": ".py",
   "mimetype": "text/x-python",
   "name": "python",
   "nbconvert_exporter": "python",
   "pygments_lexer": "ipython3",
   "version": "3.7.6"
  },
  "orig_nbformat": 2,
  "vscode": {
   "interpreter": {
    "hash": "01ef5fd295d2f06c799f887d3d5a0aa621984c826cc1e428ccbd852109f922c3"
   }
  }
 },
 "nbformat": 4,
 "nbformat_minor": 2
}
