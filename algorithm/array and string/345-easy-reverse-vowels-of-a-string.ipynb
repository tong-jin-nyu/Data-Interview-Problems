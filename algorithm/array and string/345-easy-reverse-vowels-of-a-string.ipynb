{
 "cells": [
  {
   "cell_type": "markdown",
   "metadata": {},
   "source": [
    "# 345 Reverse Vowels of a String\n",
    "\n",
    "Easy\n",
    "\n",
    "https://leetcode.cn/problems/reverse-vowels-of-a-string/\n",
    "\n",
    "Created on: 7/25/2022\n",
    "\n",
    "Modified on: 7/25/2022\n",
    "\n",
    "---\n",
    "\n",
    "Given a string `s`, reverse only all the vowels in the string and return it.\n",
    "\n",
    "The vowels are `a`, `e`, `i`, `o`, and `u`, and they can appear in both cases.\n",
    "\n",
    "**Example 1:**\n",
    "\n",
    "```\n",
    "Input: s = \"hello\"\n",
    "Output: \"holle\"\n",
    "```\n",
    "\n",
    "**Example 2:**\n",
    "\n",
    "```\n",
    "Input: s = \"leetcode\"\n",
    "Output: \"leotcede\"\n",
    "```\n",
    "\n",
    "**Constraints:**\n",
    "\n",
    "- `1 <= s.length <= 3 * 10^5`\n",
    "- `s` consists of printable ASCII characters.\n",
    "\n",
    "---\n"
   ]
  },
  {
   "cell_type": "code",
   "execution_count": 1,
   "metadata": {},
   "outputs": [
    {
     "data": {
      "text/plain": [
       "'holle'"
      ]
     },
     "execution_count": 1,
     "metadata": {},
     "output_type": "execute_result"
    }
   ],
   "source": [
    "class Solution:\n",
    "    def reverseVowels(self, s: str) -> str:\n",
    "        vowels = {'a', 'e', 'i', 'o', 'u', 'A', 'E', 'I', 'O', 'U'}\n",
    "        s = [char for char in s]\n",
    "        n = len(s)\n",
    "        left, right = 0, n - 1\n",
    "\n",
    "        while left < right:\n",
    "            if s[left] not in vowels:\n",
    "                left += 1\n",
    "            if s[right] not in vowels:\n",
    "                right -= 1\n",
    "            if s[left] in vowels and s[right] in vowels:\n",
    "                s[left], s[right] = s[right], s[left]\n",
    "                left += 1\n",
    "                right -= 1\n",
    "\n",
    "        return ''.join([char for char in s])\n",
    "\n",
    "\n",
    "# Test\n",
    "test = Solution()\n",
    "s = 'hello'\n",
    "test.reverseVowels(s)\n"
   ]
  }
 ],
 "metadata": {
  "kernelspec": {
   "display_name": "Python 3.7.6 ('base')",
   "language": "python",
   "name": "python3"
  },
  "language_info": {
   "codemirror_mode": {
    "name": "ipython",
    "version": 3
   },
   "file_extension": ".py",
   "mimetype": "text/x-python",
   "name": "python",
   "nbconvert_exporter": "python",
   "pygments_lexer": "ipython3",
   "version": "3.7.6"
  },
  "vscode": {
   "interpreter": {
    "hash": "01ef5fd295d2f06c799f887d3d5a0aa621984c826cc1e428ccbd852109f922c3"
   }
  }
 },
 "nbformat": 4,
 "nbformat_minor": 2
}
