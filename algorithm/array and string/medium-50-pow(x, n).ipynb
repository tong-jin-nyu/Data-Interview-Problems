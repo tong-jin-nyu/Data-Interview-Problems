{
 "cells": [
  {
   "cell_type": "markdown",
   "metadata": {},
   "source": [
    "# 050 Pow(x, n)\n",
    "\n",
    "Medium\n",
    "\n",
    "Created on: 7/10/2022\n",
    "\n",
    "Modified on: 7/10/2022\n",
    "\n",
    "---\n",
    "\n",
    "Implement `pow(x, n)`, which calculates `x` raised to the power `n`.\n",
    "\n",
    "**Example 1:**\n",
    "\n",
    "```\n",
    "Input: x = 2.00000, n = 10\n",
    "Output: 1024.00000\n",
    "```\n",
    "\n",
    "**Example 2:**\n",
    "\n",
    "```\n",
    "Input: x = 2.10000, n = 3\n",
    "Output: 9.26100\n",
    "```\n",
    "\n",
    "**Example 3:**\n",
    "\n",
    "```\n",
    "Input: x = 2.00000, n = -2\n",
    "Output: 0.25000\n",
    "```\n",
    "\n",
    "\n",
    "**Constraints:**\n",
    "\n",
    "- -100.0 < x < 100.0\n",
    "- -2^31 <= n <= 2^31 - 1\n",
    "- -10^4 <= x^n <= 10^4\n",
    "\n",
    "---\n"
   ]
  },
  {
   "cell_type": "code",
   "execution_count": 2,
   "metadata": {},
   "outputs": [
    {
     "data": {
      "text/plain": [
       "1024.0"
      ]
     },
     "execution_count": 2,
     "metadata": {},
     "output_type": "execute_result"
    }
   ],
   "source": [
    "class Solution:\n",
    "    def myPow(self, x: float, n: int) -> float:\n",
    "\n",
    "        def quickMulti(N):\n",
    "            if N == 0:\n",
    "                return 1.0\n",
    "            y = quickMulti(N // 2)\n",
    "            return y * y * x if N % 2 else y * y\n",
    "\n",
    "        return quickMulti(n) if n >= 0 else 1.0 / quickMulti(-n)\n",
    "\n",
    "\n",
    "# Test\n",
    "x = 2.00000\n",
    "n = 10\n",
    "test = Solution()\n",
    "test.myPow(x, n)\n"
   ]
  }
 ],
 "metadata": {
  "kernelspec": {
   "display_name": "Python 3.7.6 ('base')",
   "language": "python",
   "name": "python3"
  },
  "language_info": {
   "codemirror_mode": {
    "name": "ipython",
    "version": 3
   },
   "file_extension": ".py",
   "mimetype": "text/x-python",
   "name": "python",
   "nbconvert_exporter": "python",
   "pygments_lexer": "ipython3",
   "version": "3.7.6"
  },
  "vscode": {
   "interpreter": {
    "hash": "01ef5fd295d2f06c799f887d3d5a0aa621984c826cc1e428ccbd852109f922c3"
   }
  }
 },
 "nbformat": 4,
 "nbformat_minor": 2
}
