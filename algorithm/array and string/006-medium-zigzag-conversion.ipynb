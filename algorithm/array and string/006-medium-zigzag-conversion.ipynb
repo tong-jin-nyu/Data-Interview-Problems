{
 "cells": [
  {
   "cell_type": "markdown",
   "metadata": {},
   "source": [
    "# 006 Zigzag Conversion\n",
    "\n",
    "Medium\n",
    "\n",
    "https://leetcode.cn/problems/zigzag-conversion/\n",
    "\n",
    "Created on: 8/8/2022\n",
    "\n",
    "Modified on: 8/8/2022\n",
    "\n",
    "---\n",
    "\n",
    "Given a string `s`, return the longest palindromic substring in `s`. \n",
    "\n",
    "**Example 1:**\n",
    "\n",
    "``` text\n",
    "Input: s = \"babad\"\n",
    "Output: \"bab\"\n",
    "Explanation: \"aba\" is also a valid answer.\n",
    "```\n",
    "\n",
    "**Example 2:**\n",
    "\n",
    "``` text\n",
    "Input: s = \"cbbd\"\n",
    "Output: \"bb\"\n",
    "```\n",
    "\n",
    "**Constraints:**\n",
    "- 1 <= `s.length` <= 1000\n",
    "- `s` consists of only digits and English letters.\n",
    "\n",
    "---\n"
   ]
  },
  {
   "cell_type": "code",
   "execution_count": 20,
   "metadata": {},
   "outputs": [],
   "source": [
    "class Solution:\n",
    "    def convert(self, s: str, numRows: int) -> str:\n",
    "        if numRows == 1 or numRows >= len(s):\n",
    "            return s\n",
    "        ans = [''] * numRows\n",
    "        r = numRows + numRows - 2\n",
    "        for i, val in enumerate(s):\n",
    "            index = min(i % r, r - i % r)\n",
    "            ans[index] += val\n",
    "        return ''.join(val for val in ans)\n",
    "            "
   ]
  },
  {
   "cell_type": "code",
   "execution_count": 21,
   "metadata": {},
   "outputs": [
    {
     "data": {
      "text/plain": [
       "'PAHNAPLSIIGYIR'"
      ]
     },
     "execution_count": 21,
     "metadata": {},
     "output_type": "execute_result"
    }
   ],
   "source": [
    "test = Solution()\n",
    "s = 'PAYPALISHIRING'\n",
    "numRows = 3\n",
    "test.convert(s, numRows)"
   ]
  },
  {
   "cell_type": "markdown",
   "metadata": {},
   "source": [
    "---"
   ]
  }
 ],
 "metadata": {
  "kernelspec": {
   "display_name": "Python 3.7.6 ('base')",
   "language": "python",
   "name": "python3"
  },
  "language_info": {
   "codemirror_mode": {
    "name": "ipython",
    "version": 3
   },
   "file_extension": ".py",
   "mimetype": "text/x-python",
   "name": "python",
   "nbconvert_exporter": "python",
   "pygments_lexer": "ipython3",
   "version": "3.7.6"
  },
  "vscode": {
   "interpreter": {
    "hash": "01ef5fd295d2f06c799f887d3d5a0aa621984c826cc1e428ccbd852109f922c3"
   }
  }
 },
 "nbformat": 4,
 "nbformat_minor": 2
}
