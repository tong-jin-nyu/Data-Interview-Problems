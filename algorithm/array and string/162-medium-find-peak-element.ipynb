{
 "cells": [
  {
   "cell_type": "markdown",
   "metadata": {},
   "source": [
    "# 162 Find Peak Element\n",
    "\n",
    "Medium\n",
    "\n",
    "https://leetcode.cn/problems/find-peak-element\n",
    "\n",
    "Created on: 7/9/2022\n",
    "\n",
    "Modified on: 7/13/2022\n",
    "\n",
    "---\n",
    "\n",
    "A peak element is an element that is strictly greater than its neighbors.\n",
    "\n",
    "Given a 0-indexed integer array `nums`, find a peak element, and return its index. If the array contains multiple peaks, return the index to **any of the peaks**.\n",
    "\n",
    "You may imagine that `nums[-1] = nums[n] = ` $-\\inf$. In other words, an element is always considered to be strictly greater than a neighbor that is outside the array.\n",
    "\n",
    "You must write an algorithm that runs in `O(log n)` time.\n",
    "\n",
    "**Example 1:**\n",
    "\n",
    "``` text\n",
    "Input: nums = [1,2,3,1]\n",
    "Output: 2\n",
    "Explanation: 3 is a peak element and your function should return the index number 2.\n",
    "```\n",
    "\n",
    "**Example 2:**\n",
    "\n",
    "``` text\n",
    "Input: nums = [1,2,1,3,5,6,4]\n",
    "Output: 5\n",
    "Explanation: Your function can return either index number 1 where the peak element is 2, or index number 5 where the peak element is 6.\n",
    "```\n",
    "\n",
    "**Constraints:**\n",
    "- 1 <= `nums.length` <= 1000\n",
    "- -2^31 <= nums[i] <= 2^31 - 1\n",
    "- `nums[i] != nums[i + 1]` for all valid `i`.\n",
    "\n",
    "---\n"
   ]
  },
  {
   "cell_type": "code",
   "execution_count": 12,
   "metadata": {},
   "outputs": [
    {
     "name": "stdout",
     "output_type": "stream",
     "text": [
      "5\n"
     ]
    }
   ],
   "source": [
    "from typing import List\n",
    "\n",
    "\n",
    "class Solution:\n",
    "    def findPeakElement(self, nums: List[int]) -> int:\n",
    "        if len(nums) == 1:\n",
    "            return 0\n",
    "\n",
    "        n = len(nums)\n",
    "        left, right = 0, n - 1\n",
    "\n",
    "        while left < right:\n",
    "            mid = left + (right - left) // 2\n",
    "            if nums[mid] < nums[mid + 1]:\n",
    "                left = mid + 1\n",
    "            else:\n",
    "                right = mid\n",
    "\n",
    "        return left\n",
    "                \n",
    "\n",
    "# Test\n",
    "test = Solution()\n",
    "nums = [1, 2, 1, 3, 5, 6, 4]\n",
    "print(test.findPeakElement(nums))\n"
   ]
  }
 ],
 "metadata": {
  "kernelspec": {
   "display_name": "Python 3.7.6 ('base')",
   "language": "python",
   "name": "python3"
  },
  "language_info": {
   "codemirror_mode": {
    "name": "ipython",
    "version": 3
   },
   "file_extension": ".py",
   "mimetype": "text/x-python",
   "name": "python",
   "nbconvert_exporter": "python",
   "pygments_lexer": "ipython3",
   "version": "3.7.6"
  },
  "vscode": {
   "interpreter": {
    "hash": "01ef5fd295d2f06c799f887d3d5a0aa621984c826cc1e428ccbd852109f922c3"
   }
  }
 },
 "nbformat": 4,
 "nbformat_minor": 2
}
