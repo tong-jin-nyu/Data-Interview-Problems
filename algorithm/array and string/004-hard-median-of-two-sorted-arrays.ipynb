{
 "cells": [
  {
   "cell_type": "markdown",
   "metadata": {},
   "source": [
    "# 004 Median of Two Sorted Arrays\n",
    "\n",
    "Hard\n",
    "\n",
    "https://leetcode.cn/problems/median-of-two-sorted-arrays/\n",
    "\n",
    "Created on: 7/31/2022\n",
    "\n",
    "Modified on: 7/31/2022\n",
    "\n",
    "---\n",
    "\n",
    "Given two sorted arrays `nums1` and `nums2` of size `m` and `n` respectively, return the median of the two sorted arrays. \n",
    "\n",
    "The overall run time complexity should be `O(log(m + n))`.\n",
    "\n",
    "**Example 1:**\n",
    "\n",
    "```\n",
    "Input: nums1 = [1,3], nums2 = [2]\n",
    "Output: 2.00000\n",
    "Explanation: merged array = [1,2,3] and median is 2.\n",
    "```\n",
    "\n",
    "**Example 2:**\n",
    "\n",
    "```\n",
    "Input: nums1 = [1,2], nums2 = [3,4]\n",
    "Output: 2.50000\n",
    "Explanation: merged array = [1,2,3,4] and median is (2 + 3) / 2 = 2.5.\n",
    "```\n",
    "\n",
    "**Constraints:**\n",
    "\n",
    "- `nums1.length` == m\n",
    "- `nums2.length` == n\n",
    "- 0 <= m <= 1000\n",
    "- 0 <= n <= 1000\n",
    "- 1 <= m + n <= 2000\n",
    "- -10^6 <= `nums1[i], nums2[i]` <= 10^6\n",
    "\n",
    "---\n"
   ]
  },
  {
   "cell_type": "code",
   "execution_count": 4,
   "metadata": {},
   "outputs": [],
   "source": [
    "# Update: 6/26/2022\n",
    "from typing import List\n",
    "\n",
    "\n",
    "class Solution:\n",
    "    def findMedianSortedArrays(self, nums1: List[int], nums2: List[int]) -> float:\n",
    "        def findKthElement(array1, array2, k):\n",
    "            m, n = len(array1), len(array2)\n",
    "            if m > n:\n",
    "                return findKthElement(array2, array1, k)\n",
    "            if not array1:\n",
    "                return array2[k - 1]\n",
    "            if k == 1:\n",
    "                return min(array1[0], array2[0])\n",
    "            i1, i2 = min(k // 2, m) - 1, min(k // 2, n) - 1\n",
    "            if array1[i1] > array2[i2]:\n",
    "                return findKthElement(array1, array2[i2 + 1:], k - i2 - 1)\n",
    "            else:\n",
    "                return findKthElement(array1[i1 + 1:], array2, k - i1 - 1)\n",
    "        m, n = len(nums1), len(nums2)\n",
    "        left_index, right_index = (m + n + 1) // 2, (m + n + 2) // 2\n",
    "        left_elem = findKthElement(nums1, nums2, left_index)\n",
    "        right_elem = findKthElement(nums1, nums2, right_index)\n",
    "        median = (left_elem + right_elem) / 2\n",
    "        return median\n"
   ]
  },
  {
   "cell_type": "code",
   "execution_count": 5,
   "metadata": {},
   "outputs": [
    {
     "data": {
      "text/plain": [
       "4.0"
      ]
     },
     "execution_count": 5,
     "metadata": {},
     "output_type": "execute_result"
    }
   ],
   "source": [
    "# Test\n",
    "test = Solution()\n",
    "nums1 = [1, 3, 4, 9]\n",
    "nums2 = [1, 2, 3, 4, 5, 6, 7, 8, 9]\n",
    "test.findMedianSortedArrays(nums1, nums2)"
   ]
  },
  {
   "cell_type": "markdown",
   "metadata": {},
   "source": [
    "---"
   ]
  }
 ],
 "metadata": {
  "interpreter": {
   "hash": "01ef5fd295d2f06c799f887d3d5a0aa621984c826cc1e428ccbd852109f922c3"
  },
  "kernelspec": {
   "display_name": "Python 3.7.6 ('base')",
   "language": "python",
   "name": "python3"
  },
  "language_info": {
   "codemirror_mode": {
    "name": "ipython",
    "version": 3
   },
   "file_extension": ".py",
   "mimetype": "text/x-python",
   "name": "python",
   "nbconvert_exporter": "python",
   "pygments_lexer": "ipython3",
   "version": "3.7.6"
  },
  "orig_nbformat": 2
 },
 "nbformat": 4,
 "nbformat_minor": 2
}
