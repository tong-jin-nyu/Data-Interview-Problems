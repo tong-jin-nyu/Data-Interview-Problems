{
 "cells": [
  {
   "cell_type": "markdown",
   "metadata": {},
   "source": [
    "# 287 Find the Duplicate Number\n",
    "\n",
    "Medium\n",
    "\n",
    "https://leetcode.cn/problems/find-the-duplicate-number/\n",
    "\n",
    "Created on: 7/13/2022\n",
    "\n",
    "Modified on: 7/13/2022\n",
    "\n",
    "---\n",
    "\n",
    "Given an array of integers `nums` containing `n + 1` integers where each integer is in the range `[1, n]` inclusive.\n",
    "\n",
    "There is only one repeated number in `nums`, return the repeated number.\n",
    "\n",
    "You must solve the problem without modifying the array `nums` and uses only constant extra space.\n",
    "\n",
    "**Example 1:**\n",
    "\n",
    "```\n",
    "Input: nums = [1,3,4,2,2]\n",
    "Output: 2\n",
    "```\n",
    "\n",
    "**Example 2:**\n",
    "\n",
    "```\n",
    "Input: nums = [3,1,3,4,2]\n",
    "Output: 3\n",
    "```\n",
    "\n",
    "**Constraints:**\n",
    "\n",
    "- 1 <= n <= 10^5\n",
    "- `nums.length` == n + 1\n",
    "- 1 <= `nums[i]` <= n\n",
    "- All the integers in `nums` appear only once except for precisely one integer which appears two or more times.\n",
    "\n",
    "**Follow up:**\n",
    "\n",
    "- How can we prove that at least one duplicate number must exist in `nums`?\n",
    "- Can you solve the problem in linear runtime complexity?\n",
    "\n",
    "---\n"
   ]
  },
  {
   "cell_type": "code",
   "execution_count": 1,
   "metadata": {},
   "outputs": [
    {
     "data": {
      "text/plain": [
       "2"
      ]
     },
     "execution_count": 1,
     "metadata": {},
     "output_type": "execute_result"
    }
   ],
   "source": [
    "# Hashmap\n",
    "from typing import List\n",
    "\n",
    "\n",
    "class Solution:\n",
    "    def findDuplicate(self, nums: List[int]) -> int:\n",
    "        dic = dict()\n",
    "\n",
    "        for num in nums:\n",
    "            if num not in dic.keys():\n",
    "                dic[num] = 1\n",
    "            else:\n",
    "                dic[num] += 1\n",
    "\n",
    "        for i, val in dic.items():\n",
    "            if val > 1:\n",
    "                return i\n",
    "\n",
    "\n",
    "# Test\n",
    "test = Solution()\n",
    "nums = [1, 3, 4, 2, 2]\n",
    "test.findDuplicate(nums)\n"
   ]
  }
 ],
 "metadata": {
  "kernelspec": {
   "display_name": "Python 3.7.6 ('base')",
   "language": "python",
   "name": "python3"
  },
  "language_info": {
   "codemirror_mode": {
    "name": "ipython",
    "version": 3
   },
   "file_extension": ".py",
   "mimetype": "text/x-python",
   "name": "python",
   "nbconvert_exporter": "python",
   "pygments_lexer": "ipython3",
   "version": "3.7.6"
  },
  "vscode": {
   "interpreter": {
    "hash": "01ef5fd295d2f06c799f887d3d5a0aa621984c826cc1e428ccbd852109f922c3"
   }
  }
 },
 "nbformat": 4,
 "nbformat_minor": 2
}
