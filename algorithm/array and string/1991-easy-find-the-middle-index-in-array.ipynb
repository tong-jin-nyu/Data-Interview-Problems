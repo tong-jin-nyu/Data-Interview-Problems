{
 "cells": [
  {
   "cell_type": "markdown",
   "metadata": {},
   "source": [
    "# 1991 Find the Middle Index in Array\n",
    "\n",
    "Easy\n",
    "\n",
    "https://leetcode.cn/problems/find-the-middle-index-in-array\n",
    "\n",
    "Created on: 7/1/2022\n",
    "\n",
    "Modified on: 7/13/2022\n",
    "\n",
    "---\n",
    "\n",
    "Given a **0-indexed** integer array `nums`, find the leftmost `middleIndex` (i.e., the smallest amongst all the possible ones).\n",
    "\n",
    "A `middleIndex` is an index where `nums[0] + nums[1] + ... + nums[middleIndex-1] == nums[middleIndex+1] + nums[middleIndex+2] + ... + nums[nums.length-1]`.\n",
    "\n",
    "If `middleIndex == 0`, the left side sum is considered to be `0`. Similarly, if `middleIndex == nums.length - 1`, the right side sum is considered to be 0.\n",
    "\n",
    "Return the leftmost `middleIndex` that satisfies the condition, or `-1` if there is no such index.\n",
    "\n",
    "**Example 1:**\n",
    "\n",
    "```\n",
    "Input: nums = [2,3,-1,8,4]\n",
    "Output: 3\n",
    "Explanation: The sum of the numbers before index 3 is: 2 + 3 + -1 = 4\n",
    "The sum of the numbers after index 3 is: 4 = 4\n",
    "```\n",
    "\n",
    "**Example 2:**\n",
    "\n",
    "```\n",
    "Input: nums = [1,-1,4]\n",
    "Output: 2\n",
    "Explanation: The sum of the numbers before index 2 is: 1 + -1 = 0\n",
    "The sum of the numbers after index 2 is: 0\n",
    "```\n",
    "\n",
    "**Example 3:**\n",
    "\n",
    "```\n",
    "Input: nums = [2,5]\n",
    "Output: -1\n",
    "Explanation: There is no valid middleIndex.\n",
    "```\n",
    "\n",
    "**Constraints:**\n",
    "\n",
    "- 1 <= `nums.length` <= 100\n",
    "- -1000 <= `nums[i]` <= 1000\n",
    "\n",
    "---\n"
   ]
  },
  {
   "cell_type": "code",
   "execution_count": 2,
   "metadata": {},
   "outputs": [
    {
     "data": {
      "text/plain": [
       "3"
      ]
     },
     "execution_count": 2,
     "metadata": {},
     "output_type": "execute_result"
    }
   ],
   "source": [
    "from typing import List\n",
    "\n",
    "\n",
    "class Solution:\n",
    "    def findMiddleIndex(self, nums: List[int]) -> int:\n",
    "        total = sum(nums)\n",
    "        left_sum = 0\n",
    "        i = 0\n",
    "\n",
    "        while i < len(nums):\n",
    "            if 2 * left_sum + nums[i] == total:\n",
    "                return i\n",
    "\n",
    "            left_sum += nums[i]\n",
    "            i += 1\n",
    "\n",
    "        return -1\n",
    "\n",
    "# Test\n",
    "test = Solution()\n",
    "nums = [2, 3, -1, 8, 4]\n",
    "test.findMiddleIndex(nums)\n"
   ]
  }
 ],
 "metadata": {
  "kernelspec": {
   "display_name": "Python 3.9.4 64-bit",
   "language": "python",
   "name": "python3"
  },
  "language_info": {
   "codemirror_mode": {
    "name": "ipython",
    "version": 3
   },
   "file_extension": ".py",
   "mimetype": "text/x-python",
   "name": "python",
   "nbconvert_exporter": "python",
   "pygments_lexer": "ipython3",
   "version": "3.9.4"
  },
  "orig_nbformat": 2,
  "vscode": {
   "interpreter": {
    "hash": "fc8814d95e3bb7c7d620345642206f617029e5ce3d5941736e486cd8ca8f4058"
   }
  }
 },
 "nbformat": 4,
 "nbformat_minor": 2
}
