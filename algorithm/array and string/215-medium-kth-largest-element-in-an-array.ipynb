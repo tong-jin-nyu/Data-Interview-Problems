{
 "cells": [
  {
   "cell_type": "markdown",
   "metadata": {},
   "source": [
    "# 215 Kth Largest Element in an Array\n",
    "\n",
    "Medium\n",
    "\n",
    "https://leetcode.cn/problems/kth-largest-element-in-an-array/\n",
    "\n",
    "Created on: 7/24/2022\n",
    "\n",
    "Modified on: 7/24/2022\n",
    "\n",
    "---\n",
    "\n",
    "Given an integer array `nums` and an integer `k`, return the `kth` largest element in the array.\n",
    "\n",
    "Note that it is the `kth` largest element in the sorted order, not the `kth` distinct element.\n",
    "\n",
    "You must solve it in `O(n)` time complexity.\n",
    "\n",
    "**Example 1:**\n",
    "\n",
    "```\n",
    "Input: nums = [3,2,1,5,6,4], k = 2\n",
    "Output: 5\n",
    "```\n",
    "\n",
    "**Example 2:**\n",
    "\n",
    "```\n",
    "Input: nums = [3,2,3,1,2,4,5,5,6], k = 4\n",
    "Output: 4\n",
    "```\n",
    "\n",
    "**Constraints:**\n",
    "\n",
    "- 1 <= k <= `nums.length` <= 10^5\n",
    "- -10^4 <= `nums[i]` <= 10^4\n",
    "\n",
    "---\n"
   ]
  },
  {
   "cell_type": "code",
   "execution_count": 1,
   "metadata": {},
   "outputs": [
    {
     "data": {
      "text/plain": [
       "5"
      ]
     },
     "execution_count": 1,
     "metadata": {},
     "output_type": "execute_result"
    }
   ],
   "source": [
    "# API\n",
    "from typing import List\n",
    "\n",
    "\n",
    "class Solution:\n",
    "    def findKthLargest(self, nums: List[int], k: int) -> int:\n",
    "        nums.sort()\n",
    "        return nums[-k]\n",
    "\n",
    "\n",
    "# Test\n",
    "test = Solution()\n",
    "nums = [3, 2, 1, 5, 6, 4]\n",
    "k = 2\n",
    "test.findKthLargest(nums, k)\n"
   ]
  },
  {
   "cell_type": "code",
   "execution_count": 2,
   "metadata": {},
   "outputs": [
    {
     "name": "stdout",
     "output_type": "stream",
     "text": [
      "True\n",
      "False\n",
      "False\n"
     ]
    }
   ],
   "source": [
    "# Quick Select\n",
    "from typing import List\n",
    "\n",
    "\n",
    "class Solution:\n",
    "    def findKthLargest(self, nums: List[int], k: int) -> int:\n",
    "        n = len(nums)\n",
    "        index = self.quicksort(nums, 0, n - 1, k)\n",
    "        return nums[index]\n",
    "\n",
    "    def quicksort(self, nums, left, right, k):\n",
    "        \n",
    "\n",
    "            \n",
    "# Test\n",
    "test = Solution()\n",
    "print(test.containsDuplicate(nums=[1,1,1,3,3,4]))\n",
    "print(test.containsDuplicate(nums=[1]))\n",
    "print(test.containsDuplicate(nums=[-4,-1039,-1,8039]))\n"
   ]
  },
  {
   "cell_type": "markdown",
   "metadata": {},
   "source": [
    "### Explanation"
   ]
  },
  {
   "cell_type": "markdown",
   "metadata": {},
   "source": []
  },
  {
   "cell_type": "markdown",
   "metadata": {},
   "source": [
    "---"
   ]
  }
 ],
 "metadata": {
  "kernelspec": {
   "display_name": "Python 3.7.6 ('base')",
   "language": "python",
   "name": "python3"
  },
  "language_info": {
   "codemirror_mode": {
    "name": "ipython",
    "version": 3
   },
   "file_extension": ".py",
   "mimetype": "text/x-python",
   "name": "python",
   "nbconvert_exporter": "python",
   "pygments_lexer": "ipython3",
   "version": "3.7.6"
  },
  "vscode": {
   "interpreter": {
    "hash": "01ef5fd295d2f06c799f887d3d5a0aa621984c826cc1e428ccbd852109f922c3"
   }
  }
 },
 "nbformat": 4,
 "nbformat_minor": 2
}
