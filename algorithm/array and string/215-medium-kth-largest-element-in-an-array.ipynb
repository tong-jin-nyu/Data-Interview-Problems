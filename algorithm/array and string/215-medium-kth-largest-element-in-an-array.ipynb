{
 "cells": [
  {
   "cell_type": "markdown",
   "metadata": {},
   "source": [
    "# 215 Kth Largest Element in an Array\n",
    "\n",
    "Medium\n",
    "\n",
    "https://leetcode.cn/problems/kth-largest-element-in-an-array/\n",
    "\n",
    "Created on: 7/24/2022\n",
    "\n",
    "Modified on: 7/25/2022\n",
    "\n",
    "---\n",
    "\n",
    "Given an integer array `nums` and an integer `k`, return the `kth` largest element in the array.\n",
    "\n",
    "Note that it is the `kth` largest element in the sorted order, not the `kth` distinct element.\n",
    "\n",
    "You must solve it in `O(n)` time complexity.\n",
    "\n",
    "**Example 1:**\n",
    "\n",
    "```\n",
    "Input: nums = [3,2,1,5,6,4], k = 2\n",
    "Output: 5\n",
    "```\n",
    "\n",
    "**Example 2:**\n",
    "\n",
    "```\n",
    "Input: nums = [3,2,3,1,2,4,5,5,6], k = 4\n",
    "Output: 4\n",
    "```\n",
    "\n",
    "**Constraints:**\n",
    "\n",
    "- 1 <= k <= `nums.length` <= 10^5\n",
    "- -10^4 <= `nums[i]` <= 10^4\n",
    "\n",
    "---\n"
   ]
  },
  {
   "cell_type": "code",
   "execution_count": 1,
   "metadata": {},
   "outputs": [
    {
     "data": {
      "text/plain": [
       "5"
      ]
     },
     "execution_count": 1,
     "metadata": {},
     "output_type": "execute_result"
    }
   ],
   "source": [
    "# Brute force\n",
    "from typing import List\n",
    "\n",
    "\n",
    "class Solution:\n",
    "    def findKthLargest(self, nums: List[int], k: int) -> int:\n",
    "        nums.sort()\n",
    "        return nums[-k]\n",
    "\n",
    "\n",
    "# Test, return 5\n",
    "test = Solution()\n",
    "nums = [3, 2, 1, 5, 6, 4]\n",
    "k = 2\n",
    "test.findKthLargest(nums, k)\n"
   ]
  },
  {
   "cell_type": "code",
   "execution_count": 5,
   "metadata": {},
   "outputs": [
    {
     "data": {
      "text/plain": [
       "5"
      ]
     },
     "execution_count": 5,
     "metadata": {},
     "output_type": "execute_result"
    }
   ],
   "source": [
    "# Quick Select\n",
    "from typing import List\n",
    "import random\n",
    "\n",
    "class Solution:\n",
    "\n",
    "    def findKthLargest(self, nums: List[int], k: int) -> int:\n",
    "        n = len(nums)\n",
    "        left, right = 0, n - 1\n",
    "        index = self.quickSort(nums, left, right, k)\n",
    "        return nums[index]\n",
    "\n",
    "    def quickSort(self, nums, left, right, k):\n",
    "        pivot = self.partition(nums, left, right)\n",
    "        if pivot + 1 > k:\n",
    "            return self.quickSort(nums, left, pivot-1, k)\n",
    "        elif pivot + 1 < k:\n",
    "            return self.quickSort(nums, pivot+1, right, k)\n",
    "        else:\n",
    "            return pivot\n",
    "\n",
    "    def partition(self, nums, left, right):\n",
    "        # Swap left with a random integer in the range to \n",
    "        # increase performance.\n",
    "        rand = random.randint(left, right)\n",
    "        self.swap(nums, rand, left)\n",
    "\n",
    "        pivot = nums[left]\n",
    "        slow, fast = left, left + 1\n",
    "\n",
    "        while fast <= right:\n",
    "            if nums[fast] >= pivot:\n",
    "                slow += 1\n",
    "                self.swap(nums, slow, fast)\n",
    "            fast += 1\n",
    "\n",
    "        self.swap(nums, left, slow)\n",
    "        return slow\n",
    "\n",
    "\n",
    "    def swap(self, nums, i1, i2):\n",
    "        nums[i1], nums[i2] = nums[i2], nums[i1]\n",
    "        \n",
    "\n",
    "# Test, return 5\n",
    "test = Solution()\n",
    "nums = [3, 2, 1, 5, 6, 4]\n",
    "k = 2\n",
    "test.findKthLargest(nums, k)\n"
   ]
  },
  {
   "cell_type": "markdown",
   "metadata": {},
   "source": [
    "### Explanation"
   ]
  },
  {
   "cell_type": "markdown",
   "metadata": {},
   "source": []
  },
  {
   "cell_type": "markdown",
   "metadata": {},
   "source": [
    "---"
   ]
  }
 ],
 "metadata": {
  "kernelspec": {
   "display_name": "Python 3.9.4 64-bit",
   "language": "python",
   "name": "python3"
  },
  "language_info": {
   "codemirror_mode": {
    "name": "ipython",
    "version": 3
   },
   "file_extension": ".py",
   "mimetype": "text/x-python",
   "name": "python",
   "nbconvert_exporter": "python",
   "pygments_lexer": "ipython3",
   "version": "3.9.4"
  },
  "vscode": {
   "interpreter": {
    "hash": "fc8814d95e3bb7c7d620345642206f617029e5ce3d5941736e486cd8ca8f4058"
   }
  }
 },
 "nbformat": 4,
 "nbformat_minor": 2
}
