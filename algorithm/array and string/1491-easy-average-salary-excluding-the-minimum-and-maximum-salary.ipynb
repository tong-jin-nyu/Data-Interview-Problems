{
 "cells": [
  {
   "cell_type": "markdown",
   "metadata": {},
   "source": [
    "# 1491 Average Salary Excluding the Minimum and Maximum Salary\n",
    "\n",
    "Easy\n",
    "\n",
    "https://leetcode.cn/problems/average-salary-excluding-the-minimum-and-maximum-salary/\n",
    "\n",
    "Created on: 7/31/2022\n",
    "\n",
    "Modified on: 8/11/2024\n",
    "\n",
    "---\n",
    "\n",
    "You are given an array of unique integers `salary` where `salary[i]` is the salary of the `ith` employee.\n",
    "\n",
    "Return the average salary of employees excluding the minimum and maximum salary. Answers within `10^-5` of the actual answer will be accepted.\n",
    "\n",
    "**Example 1:**\n",
    "\n",
    "```\n",
    "Input: salary = [4000,3000,1000,2000]\n",
    "Output: 2500.00000\n",
    "Explanation: Minimum salary and maximum salary are 1000 and 4000 respectively.\n",
    "Average salary excluding minimum and maximum salary is (2000+3000) / 2 = 2500\n",
    "```\n",
    "\n",
    "**Example 2:**\n",
    "\n",
    "```\n",
    "Input: salary = [1000,2000,3000]\n",
    "Output: 2000.00000\n",
    "Explanation: Minimum salary and maximum salary are 1000 and 3000 respectively.\n",
    "Average salary excluding minimum and maximum salary is (2000) / 1 = 2000\n",
    "```\n",
    "\n",
    "**Constraints:**\n",
    "\n",
    "- 3 <= `salary.length` <= 100\n",
    "- 1000 <= `salary[i]` <= 10^6\n",
    "- All integers in `salary` are unique.\n",
    "\n",
    "---\n"
   ]
  },
  {
   "cell_type": "code",
   "execution_count": 1,
   "metadata": {},
   "outputs": [],
   "source": [
    "from typing import List\n",
    "\n",
    "\n",
    "class Solution:\n",
    "    def average(self, salary: List[int]) -> float:\n",
    "        n = len(salary)\n",
    "        exclude = [min(salary), max(salary)]\n",
    "        total = 0\n",
    "        for val in salary:\n",
    "            if val not in exclude:\n",
    "                total += val\n",
    "        return round(total / (n - 2), 5)\n"
   ]
  },
  {
   "cell_type": "code",
   "execution_count": 2,
   "metadata": {},
   "outputs": [
    {
     "name": "stdout",
     "output_type": "stream",
     "text": [
      "2500.0\n",
      "41111.11111\n"
     ]
    }
   ],
   "source": [
    "# Test\n",
    "test = Solution()\n",
    "salary = [4000, 3000, 1000, 2000]\n",
    "print(test.average(salary))\n",
    "\n",
    "salary = [48000,59000,99000,13000,78000,45000,31000,17000,39000,37000,93000,77000,33000,28000,4000,54000,67000,6000,1000,11000]\n",
    "print(test.average(salary))\n"
   ]
  },
  {
   "cell_type": "markdown",
   "metadata": {},
   "source": [
    "# Java\n",
    "\n",
    "``` Java\n",
    "class Solution {\n",
    "    public double average(int[] salary) {\n",
    "        int n = salary.length;\n",
    "        int total = 0;\n",
    "        int min_salary = salary[0];\n",
    "        int max_salary = salary[0];\n",
    "\n",
    "        for (int i = 0; i < n; i++) {\n",
    "            if (min_salary > salary[i])\n",
    "                min_salary = salary[i];\n",
    "            if (max_salary < salary[i])\n",
    "                max_salary = salary[i];\n",
    "            total += salary[i];\n",
    "        }\n",
    "\n",
    "        return (double) (total - max_salary - min_salary) / (n - 2);\n",
    "    }\n",
    "}\n",
    "```"
   ]
  }
 ],
 "metadata": {
  "kernelspec": {
   "display_name": "Python 3.7.6",
   "language": "python",
   "name": "python3"
  },
  "language_info": {
   "codemirror_mode": {
    "name": "ipython",
    "version": 3
   },
   "file_extension": ".py",
   "mimetype": "text/x-python",
   "name": "python",
   "nbconvert_exporter": "python",
   "pygments_lexer": "ipython3",
   "version": "3.11.9"
  },
  "orig_nbformat": 2,
  "vscode": {
   "interpreter": {
    "hash": "01ef5fd295d2f06c799f887d3d5a0aa621984c826cc1e428ccbd852109f922c3"
   }
  }
 },
 "nbformat": 4,
 "nbformat_minor": 2
}
