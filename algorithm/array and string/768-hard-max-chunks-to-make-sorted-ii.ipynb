{
 "cells": [
  {
   "cell_type": "markdown",
   "metadata": {},
   "source": [
    "# 768 Max Chunks To Make Sorted II\n",
    "\n",
    "Hard\n",
    "\n",
    "https://leetcode.cn/problems/max-chunks-to-make-sorted-ii/\n",
    "\n",
    "Created on: 8/12/2022\n",
    "\n",
    "Modified on: 8/12/2022\n",
    "\n",
    "---\n",
    "\n",
    "You are given an integer array `arr`.\n",
    "\n",
    "We split `arr` into some number of chunks (i.e., partitions), and individually sort each chunk. After concatenating them, the result should be equal to the sorted array.\n",
    "\n",
    "Return the largest number of chunks we can make to sort the array.\n",
    "\n",
    "**Example 1:**\n",
    "\n",
    "```\n",
    "Input: arr = [5,4,3,2,1]\n",
    "Output: 1\n",
    "Explanation:\n",
    "Splitting into two or more chunks will not return the required result.\n",
    "For example, splitting into [5, 4], [3, 2, 1] will result in [4, 5, 1, 2, 3], which isn't sorted.\n",
    "```\n",
    "\n",
    "**Example 2:**\n",
    "\n",
    "```\n",
    "Input: arr = [2,1,3,4,4]\n",
    "Output: 4\n",
    "Explanation:\n",
    "We can split into two chunks, such as [2, 1], [3, 4, 4].\n",
    "However, splitting into [2, 1], [3], [4], [4] is the highest number of chunks possible.\n",
    "```\n",
    "\n",
    "**Constraints:**\n",
    "\n",
    "- 1 <= `arr.length` <= 2000\n",
    "- 0 <= `arr[i]` <= 10^8\n",
    "\n",
    "---\n"
   ]
  },
  {
   "cell_type": "code",
   "execution_count": 1,
   "metadata": {},
   "outputs": [],
   "source": [
    "from typing import List\n",
    "import collections\n",
    "\n",
    "\n",
    "class Solution:\n",
    "    def maxChunksToSorted(self, arr: List[int]) -> int:\n",
    "        count = collections.Counter()\n",
    "        ans = 0\n",
    "        for x, y in zip(arr, sorted(arr)):\n",
    "            count[x] += 1\n",
    "            if count[x] == 0:\n",
    "                del count[x]\n",
    "            count[y] -= 1\n",
    "            if count[y] == 0:\n",
    "                del count[y]\n",
    "            if len(count) == 0:\n",
    "                ans += 1\n",
    "        return ans\n"
   ]
  },
  {
   "cell_type": "code",
   "execution_count": 2,
   "metadata": {},
   "outputs": [
    {
     "data": {
      "text/plain": [
       "4"
      ]
     },
     "execution_count": 2,
     "metadata": {},
     "output_type": "execute_result"
    }
   ],
   "source": [
    "test = Solution()\n",
    "arr = [2, 1, 3, 5, 5]\n",
    "test.maxChunksToSorted(arr)"
   ]
  }
 ],
 "metadata": {
  "kernelspec": {
   "display_name": "Python 3.7.6 ('base')",
   "language": "python",
   "name": "python3"
  },
  "language_info": {
   "codemirror_mode": {
    "name": "ipython",
    "version": 3
   },
   "file_extension": ".py",
   "mimetype": "text/x-python",
   "name": "python",
   "nbconvert_exporter": "python",
   "pygments_lexer": "ipython3",
   "version": "3.7.6"
  },
  "orig_nbformat": 2,
  "vscode": {
   "interpreter": {
    "hash": "01ef5fd295d2f06c799f887d3d5a0aa621984c826cc1e428ccbd852109f922c3"
   }
  }
 },
 "nbformat": 4,
 "nbformat_minor": 2
}
