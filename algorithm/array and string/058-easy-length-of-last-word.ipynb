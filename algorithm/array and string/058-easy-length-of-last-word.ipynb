{
 "cells": [
  {
   "cell_type": "markdown",
   "metadata": {},
   "source": [
    "# 053 Maximum Subarray\n",
    "\n",
    "Easy\n",
    "\n",
    "Created on: 6/28/2022\n",
    "\n",
    "Modified on: 7/23/2024\n",
    "\n",
    "---\n",
    "\n",
    "Given a string `s` consisting of words and spaces, return the length of the **last** word in the string.\n",
    "\n",
    "A **word** is a maximal substring consisting of non-space characters only.\n",
    "\n",
    "**Example 1:**\n",
    "\n",
    "``` text\n",
    "Input: s = \"Hello World\"\n",
    "Output: 5\n",
    "Explanation: The last word is \"World\" with length 5.\n",
    "```\n",
    "\n",
    "**Example 2:**\n",
    "\n",
    "``` text\n",
    "Input: s = \"   fly me   to   the moon \"\n",
    "Output: 4\n",
    "Explanation: The last word is \"moon\" with length 4.\n",
    "```\n",
    "\n",
    "**Example 3:**\n",
    "``` text\n",
    "Input: s = \"luffy is still joyboy\"\n",
    "Output: 6\n",
    "Explanation: The last word is \"joyboy\" with length 6.\n",
    "```\n",
    "\n",
    "**Constraints:**\n",
    "- 1 <= s.length <= 10^4\n",
    "- `s` consists of only English letters and spaces `' '`.\n",
    "- There will be at least one word in `s`.\n",
    "- \n",
    "---\n"
   ]
  },
  {
   "cell_type": "markdown",
   "metadata": {},
   "source": [
    "### Solutions"
   ]
  },
  {
   "cell_type": "code",
   "execution_count": 5,
   "metadata": {},
   "outputs": [
    {
     "name": "stdout",
     "output_type": "stream",
     "text": [
      "4\n",
      "6\n",
      "5\n"
     ]
    }
   ],
   "source": [
    "class Solution:\n",
    "    def lengthOfLastWord(self, s: str) -> int:\n",
    "        trimmed = s.rstrip()[::-1]\n",
    "        return len(trimmed.split(' ', 2)[0])\n",
    "\n",
    "# Test\n",
    "test = Solution()\n",
    "print(test.lengthOfLastWord(\"   fly me   to   the moon  \"))\n",
    "print(test.lengthOfLastWord(\"luffy is still joyboy\"))\n",
    "print(test.lengthOfLastWord(\"Hello World\"))"
   ]
  },
  {
   "cell_type": "markdown",
   "metadata": {},
   "source": [
    "Java \n",
    "\n",
    "```\n",
    "class Solution {\n",
    "    public int lengthOfLastWord(String s) {\n",
    "        int sum = 0;\n",
    "\n",
    "        for (int i = s.length() - 1; i >= 0; i--) {\n",
    "            if (s.charAt(i) == ' ' && sum == 0) {\n",
    "                continue;\n",
    "            }\n",
    "            if (s.charAt(i) != ' ') {\n",
    "                sum += 1;\n",
    "            } else {\n",
    "                break;\n",
    "            }\n",
    "        }\n",
    "        return sum;\n",
    "    }\n",
    "}\n",
    "```"
   ]
  }
 ],
 "metadata": {
  "kernelspec": {
   "display_name": "Python 3.7.6 ('base')",
   "language": "python",
   "name": "python3"
  },
  "language_info": {
   "codemirror_mode": {
    "name": "ipython",
    "version": 3
   },
   "file_extension": ".py",
   "mimetype": "text/x-python",
   "name": "python",
   "nbconvert_exporter": "python",
   "pygments_lexer": "ipython3",
   "version": "3.7.6"
  },
  "orig_nbformat": 2,
  "vscode": {
   "interpreter": {
    "hash": "01ef5fd295d2f06c799f887d3d5a0aa621984c826cc1e428ccbd852109f922c3"
   }
  }
 },
 "nbformat": 4,
 "nbformat_minor": 2
}
