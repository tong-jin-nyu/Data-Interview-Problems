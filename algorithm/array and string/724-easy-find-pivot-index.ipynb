{
 "cells": [
  {
   "cell_type": "markdown",
   "metadata": {},
   "source": [
    "# 724 Find Pivot Index\n",
    "\n",
    "Easy\n",
    "\n",
    "https://leetcode.cn/problems/find-pivot-index\n",
    "\n",
    "Created on: 7/1/2022\n",
    "\n",
    "Modified on: 7/13/2022\n",
    "\n",
    "---\n",
    "\n",
    "Given an array of integers `nums`, calculate the **pivot index** of this array.\n",
    "\n",
    "The **pivot index** is the index where the sum of all the numbers **strictly** to the left of the index is equal to the sum of all the numbers **strictly** to the index's right.\n",
    "\n",
    "If the index is on the left edge of the array, then the left sum is `0` because there is no element at the left. This also applies to the right edge of the array.\n",
    "\n",
    "Return the *leftmost pivot index*. If no such index exists, return -1.\n",
    "\n",
    "**Example 1:**\n",
    "\n",
    "``` text\n",
    "Input: nums = [1,7,3,6,5,6]\n",
    "Output: 3\n",
    "Explanation:\n",
    "The pivot index is 3.\n",
    "Left sum = nums[0] + nums[1] + nums[2] = 1 + 7 + 3 = 11\n",
    "Right sum = nums[4] + nums[5] = 5 + 6 = 11\n",
    "```\n",
    "\n",
    "**Example 2:**\n",
    "\n",
    "``` text\n",
    "Input: nums = [1,2,3]\n",
    "Output: -1\n",
    "Explanation:\n",
    "There is no index that satisfies the conditions in the problem statement.\n",
    "```\n",
    "\n",
    "**Example 3:**\n",
    "\n",
    "``` text\n",
    "Input: nums = [2,1,-1]\n",
    "Output: 0\n",
    "Explanation:\n",
    "The pivot index is 0.\n",
    "Left sum = 0 (no elements to the left of index 0)\n",
    "Right sum = nums[1] + nums[2] = 1 + -1 = 0\n",
    "```\n",
    "\n",
    "**Constraints:**\n",
    "- 1 <= `nums.length` <= 10^4\n",
    "- -1000 <= `nums[i]` <= 1000\n",
    "\n",
    "---\n"
   ]
  },
  {
   "cell_type": "code",
   "execution_count": 6,
   "metadata": {},
   "outputs": [
    {
     "data": {
      "text/plain": [
       "3"
      ]
     },
     "execution_count": 6,
     "metadata": {},
     "output_type": "execute_result"
    }
   ],
   "source": [
    "from typing import List\n",
    "\n",
    "\n",
    "class Solution:\n",
    "    def pivotIndex(self, nums: List[int]) -> int:\n",
    "        i = 0\n",
    "        while i < len(nums):\n",
    "            left_sum = sum(nums[0:i])\n",
    "            right_sum = sum(nums[i+1:])\n",
    "            if left_sum == right_sum:\n",
    "                return i\n",
    "            i += 1\n",
    "\n",
    "        return -1\n",
    "\n",
    "# Test\n",
    "test = Solution()\n",
    "nums = [1, 7, 3, 6, 5, 6]\n",
    "test.pivotIndex(nums)\n"
   ]
  },
  {
   "cell_type": "code",
   "execution_count": 8,
   "metadata": {},
   "outputs": [
    {
     "data": {
      "text/plain": [
       "3"
      ]
     },
     "execution_count": 8,
     "metadata": {},
     "output_type": "execute_result"
    }
   ],
   "source": [
    "# Optimized\n",
    "from typing import List\n",
    "\n",
    "\n",
    "class Solution:\n",
    "    def pivotIndex(self, nums: List[int]) -> int:\n",
    "        total = sum(nums)\n",
    "        left_sum = 0\n",
    "        i = 0\n",
    "        while i < len(nums):\n",
    "            if 2 * left_sum + nums[i] == total:\n",
    "                return i\n",
    "            left_sum += nums[i]\n",
    "            i += 1\n",
    "\n",
    "        return -1\n",
    "\n",
    "\n",
    "# Test\n",
    "test = Solution()\n",
    "nums = [1, 7, 3, 6, 5, 6]\n",
    "test.pivotIndex(nums)\n"
   ]
  }
 ],
 "metadata": {
  "kernelspec": {
   "display_name": "Python 3.7.6 ('base')",
   "language": "python",
   "name": "python3"
  },
  "language_info": {
   "codemirror_mode": {
    "name": "ipython",
    "version": 3
   },
   "file_extension": ".py",
   "mimetype": "text/x-python",
   "name": "python",
   "nbconvert_exporter": "python",
   "pygments_lexer": "ipython3",
   "version": "3.7.6"
  },
  "orig_nbformat": 2,
  "vscode": {
   "interpreter": {
    "hash": "01ef5fd295d2f06c799f887d3d5a0aa621984c826cc1e428ccbd852109f922c3"
   }
  }
 },
 "nbformat": 4,
 "nbformat_minor": 2
}
