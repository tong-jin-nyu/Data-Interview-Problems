{
 "cells": [
  {
   "cell_type": "markdown",
   "metadata": {},
   "source": [
    "# 793 Preimage Size of Factorial Zeroes Function\n",
    "\n",
    "Hard\n",
    "\n",
    "https://leetcode.cn/problems/preimage-size-of-factorial-zeroes-function/\n",
    "\n",
    "Created on: 8/27/2022\n",
    "\n",
    "Modified on: 8/27/2022\n",
    "\n",
    "---\n",
    "\n",
    "Let `f(x)` be the number of zeroes at the end of `x!`. Recall that `x! = 1 * 2 * 3 * ... * x` and by convention, `0! = 1`.\n",
    "\n",
    "- For example, `f(3) = 0` because `3! = 6` has no zeroes at the end, while `f(11) = 2` because `11! = 39916800` has two zeroes at the end.\n",
    "\n",
    "Given an integer `k`, return the number of non-negative integers `x` have the property that `f(x) = k`.\n",
    "\n",
    "**Example 1:**\n",
    "\n",
    "```\n",
    "Input: k = 0\n",
    "Output: 5\n",
    "Explanation: 0!, 1!, 2!, 3!, and 4! end with k = 0 zeroes.\n",
    "```\n",
    "\n",
    "**Example 2:**\n",
    "\n",
    "```\n",
    "Input: k = 5\n",
    "Output: 0\n",
    "Explanation: There is no x such that x! ends in k = 5 zeroes.\n",
    "```\n",
    "\n",
    "**Example 3:**\n",
    "\n",
    "```\n",
    "Input: k = 3\n",
    "Output: 5\n",
    "```\n",
    "\n",
    "**Constraints:**\n",
    "\n",
    "- 0 <= k <= 10^9\n",
    "\n",
    "---\n"
   ]
  },
  {
   "cell_type": "code",
   "execution_count": 54,
   "metadata": {},
   "outputs": [],
   "source": [
    "from bisect import bisect_left\n",
    "\n",
    "\n",
    "class Solution:\n",
    "    def preimageSizeFZF(self, k: int) -> int:\n",
    "\n",
    "        # 计算num的阶乘0个数\n",
    "        def check(num):\n",
    "            cnt = 0\n",
    "            while num > 0:\n",
    "                cnt += num//5\n",
    "                num //= 5\n",
    "            return cnt\n",
    "\n",
    "        # 二分查找确定阶乘0的个数为k的下界\n",
    "        low = 0\n",
    "        high = 10**10\n",
    "        while low < high - 1:\n",
    "            mid = low + (high - low) // 2\n",
    "            if check(mid) >= k:\n",
    "                high = mid\n",
    "            else:\n",
    "                low = mid\n",
    "\n",
    "        # 找出符合条件的数字个数（每隔6个数阶乘0必然会有增加）\n",
    "        ans = 0\n",
    "        for num in range(low, low+6):\n",
    "            if check(num) == k:\n",
    "                ans += 1\n",
    "        return ans\n"
   ]
  },
  {
   "cell_type": "code",
   "execution_count": 55,
   "metadata": {},
   "outputs": [
    {
     "data": {
      "text/plain": [
       "5"
      ]
     },
     "execution_count": 55,
     "metadata": {},
     "output_type": "execute_result"
    }
   ],
   "source": [
    "test = Solution()\n",
    "k = 3\n",
    "test.preimageSizeFZF(k)"
   ]
  }
 ],
 "metadata": {
  "kernelspec": {
   "display_name": "Python 3.7.6 ('base')",
   "language": "python",
   "name": "python3"
  },
  "language_info": {
   "codemirror_mode": {
    "name": "ipython",
    "version": 3
   },
   "file_extension": ".py",
   "mimetype": "text/x-python",
   "name": "python",
   "nbconvert_exporter": "python",
   "pygments_lexer": "ipython3",
   "version": "3.7.6"
  },
  "orig_nbformat": 2,
  "vscode": {
   "interpreter": {
    "hash": "01ef5fd295d2f06c799f887d3d5a0aa621984c826cc1e428ccbd852109f922c3"
   }
  }
 },
 "nbformat": 4,
 "nbformat_minor": 2
}
