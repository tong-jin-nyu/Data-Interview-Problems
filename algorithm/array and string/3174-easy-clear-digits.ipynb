{
 "cells": [
  {
   "cell_type": "markdown",
   "metadata": {},
   "source": [
    "# 3174 Clear Digits\n",
    "\n",
    "Easy\n",
    "\n",
    "https://leetcode.cn/problems/clear-digits/\n",
    "\n",
    "Created on: 9/4/2024\n",
    "\n",
    "Modified on: 9/4/2024\n",
    "\n",
    "---\n",
    "\n",
    "You are given a string `s`.\n",
    "\n",
    "Your task is to remove all digits by doing this operation repeatedly:\n",
    "\n",
    "- Delete the first digit and the closest non-digit character to its left.\n",
    "\n",
    "Return the resulting string after removing all digits.\n",
    "\n",
    "**Example 1:**\n",
    "\n",
    "```\n",
    "Input: s = \"abc\"\n",
    "\n",
    "Output: \"abc\"\n",
    "\n",
    "Explanation:\n",
    "\n",
    "There is no digit in the string.\n",
    "```\n",
    "\n",
    "**Example 2:**\n",
    "\n",
    "```\n",
    "Input: s = \"cb34\"\n",
    "\n",
    "Output: \"\"\n",
    "\n",
    "Explanation:\n",
    "\n",
    "First, we apply the operation on s[2], and s becomes \"c4\".\n",
    "\n",
    "Then we apply the operation on s[1], and s becomes \"\".\n",
    "```\n",
    "\n",
    "**Constraints:**\n",
    "\n",
    "- `1 <= s.length <= 100`\n",
    "- `s` consists only of lowercase English letters and digits.\n",
    "- The input is generated such that it is possible to delete all digits.\n",
    "\n",
    "---\n"
   ]
  },
  {
   "cell_type": "markdown",
   "metadata": {},
   "source": [
    "# Java\n",
    "\n",
    "``` Java\n",
    "class Solution {\n",
    "    public String clearDigits(String s) {\n",
    "        StringBuilder ans = new StringBuilder();\n",
    "\n",
    "        for (char ch : s.toCharArray()) {\n",
    "            if (Character.isDigit(ch)) {\n",
    "                ans.deleteCharAt(ans.length() - 1);\n",
    "            } else {\n",
    "                ans.append(ch);\n",
    "            }\n",
    "        }\n",
    "\n",
    "        return ans.toString();\n",
    "    }\n",
    "}\n",
    "```"
   ]
  },
  {
   "cell_type": "code",
   "execution_count": 1,
   "metadata": {},
   "outputs": [],
   "source": [
    "# Python\n",
    "class Solution:\n",
    "    def clearDigits(self, s: str) -> str:\n",
    "        res = list()\n",
    "\n",
    "        for ch in s:\n",
    "            if ch.isnumeric():\n",
    "                res.pop(-1)\n",
    "            else:\n",
    "                res.append(ch)\n",
    "\n",
    "        return ''.join(ch for ch in res)"
   ]
  }
 ],
 "metadata": {
  "kernelspec": {
   "display_name": "Python 3",
   "language": "python",
   "name": "python3"
  },
  "language_info": {
   "codemirror_mode": {
    "name": "ipython",
    "version": 3
   },
   "file_extension": ".py",
   "mimetype": "text/x-python",
   "name": "python",
   "nbconvert_exporter": "python",
   "pygments_lexer": "ipython3",
   "version": "3.11.9"
  }
 },
 "nbformat": 4,
 "nbformat_minor": 2
}
