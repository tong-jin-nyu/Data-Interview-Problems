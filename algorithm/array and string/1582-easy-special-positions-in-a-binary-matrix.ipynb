{
 "cells": [
  {
   "cell_type": "markdown",
   "metadata": {},
   "source": [
    "# 1582 Special Positions in a Binary Matrix\n",
    "\n",
    "Easy\n",
    "\n",
    "https://leetcode.cn/problems/special-positions-in-a-binary-matrix/\n",
    "\n",
    "Created on: 9/3/2022\n",
    "\n",
    "Modified on: 9/3/2022\n",
    "\n",
    "---\n",
    "\n",
    "Given an `m x n` binary matrix `mat`, return the number of special positions in `mat`.\n",
    "\n",
    "A position `(i, j)` is called special if `mat[i][j] == 1` and all other elements in row `i` and column `j` are `0` (rows and columns are 0-indexed).\n",
    "\n",
    "**Example 1:**\n",
    "\n",
    "![Example 1](https://assets.leetcode.com/uploads/2021/12/23/special1.jpg)\n",
    "\n",
    "```\n",
    "Input: mat = [[1,0,0],[0,0,1],[1,0,0]]\n",
    "Output: 1\n",
    "Explanation: (1, 2) is a special position because mat[1][2] == 1 and all other elements in row 1 and column 2 are 0.\n",
    "```\n",
    "\n",
    "**Example 2:**\n",
    "\n",
    "![Example 2](https://assets.leetcode.com/uploads/2021/12/24/special-grid.jpg)\n",
    "\n",
    "```\n",
    "Input: mat = [[1,0,0],[0,1,0],[0,0,1]]\n",
    "Output: 3\n",
    "Explanation: (0, 0), (1, 1) and (2, 2) are special positions.\n",
    "```\n",
    "\n",
    "**Constraints:**\n",
    "\n",
    "- `m == mat.length`\n",
    "- `n == mat[i].length`\n",
    "- 1 <= m, n <= 100\n",
    "- `mat[i][j]` is either `0` or `1`.\n",
    "---\n"
   ]
  },
  {
   "cell_type": "code",
   "execution_count": 1,
   "metadata": {},
   "outputs": [],
   "source": [
    "from typing import List\n",
    "\n",
    "\n",
    "class Solution:\n",
    "    def numSpecial(self, mat: List[List[int]]) -> int:\n",
    "        m = len(mat)\n",
    "        n = len(mat[0])\n",
    "        ans = 0\n",
    "        for i in range(m):\n",
    "            for j in range(n):\n",
    "                if mat[i][j] == 1 and sum(mat[i]) == 1 and sum([row[j] for row in mat]) == 1:\n",
    "                    ans += 1\n",
    "        return ans\n"
   ]
  },
  {
   "cell_type": "code",
   "execution_count": 2,
   "metadata": {},
   "outputs": [
    {
     "data": {
      "text/plain": [
       "1"
      ]
     },
     "execution_count": 2,
     "metadata": {},
     "output_type": "execute_result"
    }
   ],
   "source": [
    "# Test\n",
    "test = Solution()\n",
    "mat = [[1, 0, 0], [0, 0, 1], [1, 0, 0]]\n",
    "test.numSpecial(mat)\n"
   ]
  }
 ],
 "metadata": {
  "kernelspec": {
   "display_name": "Python 3.7.6",
   "language": "python",
   "name": "python3"
  },
  "language_info": {
   "codemirror_mode": {
    "name": "ipython",
    "version": 3
   },
   "file_extension": ".py",
   "mimetype": "text/x-python",
   "name": "python",
   "nbconvert_exporter": "python",
   "pygments_lexer": "ipython3",
   "version": "3.7.6"
  },
  "orig_nbformat": 2,
  "vscode": {
   "interpreter": {
    "hash": "01ef5fd295d2f06c799f887d3d5a0aa621984c826cc1e428ccbd852109f922c3"
   }
  }
 },
 "nbformat": 4,
 "nbformat_minor": 2
}
