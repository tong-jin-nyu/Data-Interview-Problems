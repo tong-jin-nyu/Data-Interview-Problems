{
 "cells": [
  {
   "cell_type": "markdown",
   "metadata": {},
   "source": [
    "# 414 Third Maximum Number\n",
    "\n",
    "Easy\n",
    "\n",
    "https://leetcode.cn/problems/third-maximum-number/\n",
    "\n",
    "Created on: 7/5/2022\n",
    "\n",
    "Modified on: 7/13/2022\n",
    "\n",
    "---\n",
    "\n",
    "Given an integer array `nums`, return the third distinct maximum number in this array. If the third maximum does not exist, return the maximum number.\n",
    "\n",
    "**Example 1:**\n",
    "\n",
    "```\n",
    "Input: nums = [3,2,1]\n",
    "Output: 1\n",
    "Explanation:\n",
    "The first distinct maximum is 3.\n",
    "The second distinct maximum is 2.\n",
    "The third distinct maximum is 1.\n",
    "```\n",
    "\n",
    "**Example 2:**\n",
    "\n",
    "```\n",
    "Input: nums = [1,2]\n",
    "Output: 2\n",
    "Explanation:\n",
    "The first distinct maximum is 2.\n",
    "The second distinct maximum is 1.\n",
    "The third distinct maximum does not exist, so the maximum (2) is returned instead.\n",
    "```\n",
    "\n",
    "**Example 3:**\n",
    "\n",
    "```\n",
    "Input: nums = [2,2,3,1]\n",
    "Output: 1\n",
    "Explanation:\n",
    "The first distinct maximum is 3.\n",
    "The second distinct maximum is 2 (both 2's are counted together since they have the same value).\n",
    "The third distinct maximum is 1.\n",
    "```\n",
    "\n",
    "**Constraints:**\n",
    "- 1 <= `nums.length` <= 10^4\n",
    "- -2^31 <= `nums[i]` <= 2^31 - 1\n",
    "\n",
    "---\n"
   ]
  },
  {
   "cell_type": "code",
   "execution_count": 11,
   "metadata": {},
   "outputs": [
    {
     "name": "stdout",
     "output_type": "stream",
     "text": [
      "1\n",
      "1\n"
     ]
    }
   ],
   "source": [
    "from typing import List\n",
    "\n",
    "\n",
    "class Solution:\n",
    "    def thirdMax(self, nums: List[int]) -> int:\n",
    "        nums = list(set(nums))\n",
    "        nums.sort()\n",
    "\n",
    "        return nums[-3] if len(nums) > 2 else nums[-1]\n",
    "\n",
    "\n",
    "# Test\n",
    "test = Solution()\n",
    "nums = [2, 2, 3, 1]\n",
    "print(test.thirdMax(nums))\n",
    "\n",
    "nums = [3, 2, 1]\n",
    "print(test.thirdMax(nums))"
   ]
  }
 ],
 "metadata": {
  "kernelspec": {
   "display_name": "Python 3.7.6 ('base')",
   "language": "python",
   "name": "python3"
  },
  "language_info": {
   "codemirror_mode": {
    "name": "ipython",
    "version": 3
   },
   "file_extension": ".py",
   "mimetype": "text/x-python",
   "name": "python",
   "nbconvert_exporter": "python",
   "pygments_lexer": "ipython3",
   "version": "3.7.6"
  },
  "orig_nbformat": 2,
  "vscode": {
   "interpreter": {
    "hash": "01ef5fd295d2f06c799f887d3d5a0aa621984c826cc1e428ccbd852109f922c3"
   }
  }
 },
 "nbformat": 4,
 "nbformat_minor": 2
}
