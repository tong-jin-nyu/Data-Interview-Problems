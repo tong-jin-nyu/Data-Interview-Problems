{
 "cells": [
  {
   "cell_type": "markdown",
   "metadata": {},
   "source": [
    "# 1014 Best Sightseeing Pair\n",
    "\n",
    "Medium\n",
    "\n",
    "https://leetcode.cn/problems/best-sightseeing-pair/\n",
    "\n",
    "Created on: 9/22/2024\n",
    "\n",
    "Modified on: 9/22/2024\n",
    "\n",
    "---\n",
    "\n",
    "You are given an integer array `values` where values[i] represents the value of the `i^th` sightseeing spot. Two sightseeing spots `i` and `j` have a distance `j - i` between them.\n",
    "\n",
    "The score of a pair (`i < j`) of sightseeing spots is `values[i] + values[j] + i - j`: the sum of the values of the sightseeing spots, minus the distance between them.\n",
    "\n",
    "Return the maximum score of a pair of sightseeing spots.\n",
    "\n",
    "**Example 1:**\n",
    "\n",
    "```\n",
    "Input: values = [8,1,5,2,6]\n",
    "Output: 11\n",
    "Explanation: i = 0, j = 2, values[i] + values[j] + i - j = 8 + 5 + 0 - 2 = 11\n",
    "```\n",
    "\n",
    "**Example 2:**\n",
    "\n",
    "```\n",
    "Input: values = [1,2]\n",
    "Output: 2\n",
    "```\n",
    "\n",
    "**Constraints:**\n",
    "\n",
    "- `2 <= values.length <= 5 * 10^4`\n",
    "- `1 <= values[i] <= 1000`\n",
    "\n",
    "---\n"
   ]
  },
  {
   "cell_type": "markdown",
   "metadata": {},
   "source": [
    "# Java\n",
    "\n",
    "``` Java\n",
    "class Solution {\n",
    "    public int maxScoreSightseeingPair(int[] values) {\n",
    "        int n = values.length;\n",
    "        int maxValue = 0;\n",
    "        int dp = values[0] + 0;\n",
    "        for (int j = 1; j < n; ++j) {\n",
    "            maxValue = Math.max(maxValue, dp + values[j] - j);\n",
    "            dp = Math.max(dp, values[j] + j);  // values[i] + i at spot j\n",
    "        }\n",
    "\n",
    "        return maxValue;\n",
    "    }\n",
    "}\n",
    "```"
   ]
  }
 ],
 "metadata": {
  "language_info": {
   "name": "python"
  }
 },
 "nbformat": 4,
 "nbformat_minor": 2
}
