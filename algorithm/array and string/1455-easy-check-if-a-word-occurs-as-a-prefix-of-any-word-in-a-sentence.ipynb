{
 "cells": [
  {
   "cell_type": "markdown",
   "metadata": {},
   "source": [
    "# 1455 Check If a Word Occurs As a Prefix of Any Word in a Sentence\n",
    "\n",
    "Easy\n",
    "\n",
    "https://leetcode.cn/problems/check-if-a-word-occurs-as-a-prefix-of-any-word-in-a-sentence/\n",
    "\n",
    "Created on: 8/20/2022\n",
    "\n",
    "Modified on: 8/20/2022\n",
    "\n",
    "---\n",
    "\n",
    "Given a `sentence` that consists of some words separated by a single space, and a `searchWord`, check if `searchWord` is a prefix of any word in `sentence`.\n",
    "\n",
    "Return the index of the word in `sentence` (1-indexed) where `searchWord` is a prefix of this word. If `searchWord` is a prefix of more than one word, return the index of the first word (minimum index). If there is no such word, return `-1`.\n",
    "\n",
    "A prefix of a string `s` is any leading contiguous substring of `s`.\n",
    "\n",
    "**Example 1:**\n",
    "\n",
    "```\n",
    "Input: sentence = \"i love eating burger\", searchWord = \"burg\"\n",
    "Output: 4\n",
    "Explanation: \"burg\" is prefix of \"burger\" which is the 4th word in the sentence.\n",
    "```\n",
    "\n",
    "**Example 2:**\n",
    "\n",
    "```\n",
    "Input: sentence = \"this problem is an easy problem\", searchWord = \"pro\"\n",
    "Output: 2\n",
    "Explanation: \"pro\" is prefix of \"problem\" which is the 2nd and the 6th word in the sentence, but we return 2 as it's the minimal index.\n",
    "```\n",
    "\n",
    "**Example 3:**\n",
    "\n",
    "```\n",
    "Input: sentence = \"i am tired\", searchWord = \"you\"\n",
    "Output: -1\n",
    "Explanation: \"you\" is not a prefix of any word in the sentence.\n",
    "```\n",
    "\n",
    "**Constraints:**\n",
    "\n",
    "- 1 <= `sentence.length` <= 100\n",
    "- 1 <= `searchWord.length` <= 10\n",
    "- `sentence` consists of lowercase English letters and spaces.\n",
    "- `searchWord` consists of lowercase English letters.\n",
    "\n",
    "---\n"
   ]
  },
  {
   "cell_type": "code",
   "execution_count": 1,
   "metadata": {},
   "outputs": [],
   "source": [
    "class Solution:\n",
    "    def isPrefixOfWord(self, sentence: str, searchWord: str) -> int:\n",
    "        words = sentence.split(' ')\n",
    "        for i, word in enumerate(words):\n",
    "            if word.startswith(searchWord):\n",
    "                return i + 1\n",
    "        return -1\n"
   ]
  },
  {
   "cell_type": "code",
   "execution_count": 2,
   "metadata": {},
   "outputs": [
    {
     "data": {
      "text/plain": [
       "4"
      ]
     },
     "execution_count": 2,
     "metadata": {},
     "output_type": "execute_result"
    }
   ],
   "source": [
    "# Test\n",
    "test = Solution()\n",
    "sentence = \"i love eating burger\"\n",
    "searchWord = \"burg\"\n",
    "test.isPrefixOfWord(sentence, searchWord)"
   ]
  },
  {
   "cell_type": "markdown",
   "metadata": {},
   "source": [
    "---"
   ]
  }
 ],
 "metadata": {
  "kernelspec": {
   "display_name": "Python 3.7.6 ('base')",
   "language": "python",
   "name": "python3"
  },
  "language_info": {
   "codemirror_mode": {
    "name": "ipython",
    "version": 3
   },
   "file_extension": ".py",
   "mimetype": "text/x-python",
   "name": "python",
   "nbconvert_exporter": "python",
   "pygments_lexer": "ipython3",
   "version": "3.7.6"
  },
  "orig_nbformat": 2,
  "vscode": {
   "interpreter": {
    "hash": "01ef5fd295d2f06c799f887d3d5a0aa621984c826cc1e428ccbd852109f922c3"
   }
  }
 },
 "nbformat": 4,
 "nbformat_minor": 2
}
