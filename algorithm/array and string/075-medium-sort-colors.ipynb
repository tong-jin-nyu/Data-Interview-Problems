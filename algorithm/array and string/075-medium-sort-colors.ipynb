{
 "cells": [
  {
   "cell_type": "markdown",
   "metadata": {},
   "source": [
    "# 075 Sort Colors\n",
    "\n",
    "Medium\n",
    "\n",
    "https://leetcode.cn/problems/sort-colors/\n",
    "\n",
    "Created on: 7/24/2022\n",
    "\n",
    "Modified on: 7/24/2022\n",
    "\n",
    "---\n",
    "\n",
    "Given an array `nums` with `n` objects colored red, white, or blue, sort them in-place so that objects of the same color are adjacent, with the colors in the order red, white, and blue.\n",
    "\n",
    "We will use the integers `0`, `1`, and `2` to represent the color red, white and blue, respectively.\n",
    "\n",
    "You must solve this problem without using the library's sort function.\n",
    "\n",
    "**Example 1:**\n",
    "\n",
    "```\n",
    "Input: nums = [2,0,2,1,1,0]\n",
    "Output: [0,0,1,1,2,2]\n",
    "```\n",
    "\n",
    "**Example 2:**\n",
    "\n",
    "```\n",
    "Input: nums = [2,0,1]\n",
    "Output: [0,1,2]\n",
    "```\n",
    "\n",
    "**Constraints:**\n",
    "\n",
    "- n == `nums.length`\n",
    "- 1 <= n <= 300\n",
    "- `nums[i]` is either `0`, `1`, or `2`.\n",
    "\n",
    "**Follow up:** Could you come up with a one-pass algorithm using only constant extra space?\n",
    "\n",
    "---\n"
   ]
  },
  {
   "cell_type": "markdown",
   "metadata": {},
   "source": [
    "### Solution"
   ]
  },
  {
   "cell_type": "code",
   "execution_count": 1,
   "metadata": {},
   "outputs": [
    {
     "name": "stdout",
     "output_type": "stream",
     "text": [
      "[0, 0, 1, 1, 2, 2]\n"
     ]
    }
   ],
   "source": [
    "from typing import List\n",
    "\n",
    "\n",
    "class Solution:\n",
    "    def sortColors(self, nums: List[int]) -> None:\n",
    "        \"\"\"\n",
    "        Do not return anything, modify nums in-place instead.\n",
    "        \"\"\"\n",
    "        n = len(nums)\n",
    "        p0, p2, i = 0, n - 1, 0\n",
    "\n",
    "        while i <= p2:\n",
    "            while i <= p2 and nums[i] == 2:\n",
    "                nums[p2], nums[i] = nums[i], nums[p2]\n",
    "                p2 -= 1\n",
    "            if nums[i] == 0:\n",
    "                nums[p0], nums[i] = nums[i], nums[p0]\n",
    "                p0 += 1\n",
    "            i += 1\n",
    "            \n",
    "\n",
    "# Test\n",
    "test = Solution()\n",
    "nums = [2, 0, 2, 1, 1, 0]\n",
    "test.sortColors(nums)\n",
    "print(nums)\n"
   ]
  },
  {
   "cell_type": "markdown",
   "metadata": {},
   "source": [
    "---"
   ]
  }
 ],
 "metadata": {
  "kernelspec": {
   "display_name": "Python 3.7.6 ('base')",
   "language": "python",
   "name": "python3"
  },
  "language_info": {
   "codemirror_mode": {
    "name": "ipython",
    "version": 3
   },
   "file_extension": ".py",
   "mimetype": "text/x-python",
   "name": "python",
   "nbconvert_exporter": "python",
   "pygments_lexer": "ipython3",
   "version": "3.7.6"
  },
  "orig_nbformat": 2,
  "vscode": {
   "interpreter": {
    "hash": "01ef5fd295d2f06c799f887d3d5a0aa621984c826cc1e428ccbd852109f922c3"
   }
  }
 },
 "nbformat": 4,
 "nbformat_minor": 2
}
