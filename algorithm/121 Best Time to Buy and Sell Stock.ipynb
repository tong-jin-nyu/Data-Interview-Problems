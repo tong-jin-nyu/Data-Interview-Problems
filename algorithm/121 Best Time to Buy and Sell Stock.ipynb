{
 "cells": [
  {
   "cell_type": "markdown",
   "metadata": {},
   "source": [
    "created on: 11/11/2021\n",
    "\n",
    "updated on: 11/11/2021"
   ]
  },
  {
   "cell_type": "markdown",
   "metadata": {},
   "source": [
    "# Leetcode Notes\n",
    "\n",
    "## Algorithm\n",
    "\n",
    "---\n",
    "\n",
    "## 121 Best Time to Buy and Sell Stock\n",
    "\n",
    "Easy"
   ]
  },
  {
   "cell_type": "markdown",
   "metadata": {},
   "source": [
    "Source: [Leetcode](https://leetcode-cn.com/problems/best-time-to-buy-and-sell-stock/)\n",
    "\n",
    "### Instructions\n",
    "\n",
    "You are given an array `prices` where `prices[i]` is the price of a given stock on the $i^{th}$ day.\n",
    "\n",
    "You want to maximize your profit by choosing a **single day** to buy the stock and choosing a **different day in the future** to sell that stock.\n",
    "\n",
    "Return the *maximum profit you can achieve from this transaction*. If you cannot achieve any profit, return `0`.\n",
    "\n",
    "**Example 1:**\n",
    "```\n",
    "Input: prices = [7, 1, 5, 3, 6, 4]\n",
    "Output: [5]\n",
    "Explanation: Buy on day 2 (price = 1) and sell on day 5 (price = 6), profit = 6 - 1 = 5.\n",
    "Note that buying on day 2 and selling on day 1 is not allowed because you must buy before you sell.\n",
    "```\n",
    "\n",
    "**Example 2:**\n",
    "```\n",
    "Input: prices = [7, 6, 4, 3, 1]\n",
    "Output: 0\n",
    "Explanation: In this case, no transactions are done and the max profit = 0.\n",
    "```\n",
    "\n",
    "**Constraints:**\n",
    "- $1 \\leq \\text{prices.length} \\leq 10^{5}$\n",
    "- $0 \\leq \\text{prices[i]} \\leq 10^{4}$"
   ]
  },
  {
   "cell_type": "markdown",
   "metadata": {},
   "source": [
    "### Solution"
   ]
  },
  {
   "cell_type": "code",
   "execution_count": 23,
   "metadata": {},
   "outputs": [
    {
     "name": "stdout",
     "output_type": "stream",
     "text": [
      "5\n",
      "0\n",
      "3\n"
     ]
    }
   ],
   "source": [
    "from typing import List\n",
    "\n",
    "\n",
    "class Solution:\n",
    "    def maxProfit(self, prices: List[int]) -> int:\n",
    "        lowest = prices[0]\n",
    "        profit = 0\n",
    "        for price in prices:\n",
    "            profit = max(profit, price - lowest)\n",
    "            lowest = min(lowest, price)\n",
    "        return profit\n",
    "\n",
    "\n",
    "# Test\n",
    "test = Solution()\n",
    "prices = [7, 1, 5, 3, 6, 4]\n",
    "print(test.maxProfit(prices))\n",
    "prices = [7, 6, 4, 3, 1]\n",
    "print(test.maxProfit(prices))\n",
    "prices = [2, 1, 4]\n",
    "print(test.maxProfit(prices))\n"
   ]
  },
  {
   "cell_type": "markdown",
   "metadata": {},
   "source": [
    "### Explanation\n",
    "\n",
    "The trick of this problem lies in efficiency. At first glance, the problem can be solved by simply using two embedded loops. This was also my first attempt. \n",
    "\n",
    "``` python\n",
    "class Solution:\n",
    "    def maxProfit(self, prices: List[int]) -> int:\n",
    "        if len(prices) == 1:\n",
    "            return 0\n",
    "        elif len(prices) == 2:\n",
    "            if prices[0] <= prices[1]:\n",
    "                return prices[1] - prices[0]\n",
    "            else:\n",
    "                return 0\n",
    "        else:\n",
    "            for i in range(len(prices)-1):                   # the first loop\n",
    "                prices[i] = max(prices[i+1:]) - prices[i]    # the embedded loop\n",
    "            if max(prices[:-1]) <= 0:\n",
    "                return 0\n",
    "            else:\n",
    "                return max(prices[:-1])\n",
    "```\n",
    "\n",
    "However, when processing large arrays, this algorithm becomes extremely slow. The time complexity is $O(n^{2})$. To prevent time-out, we need to find another way. A good solution is dynamic programming.\n",
    "\n",
    "Consider the following example:\n",
    "\n",
    "``` python\n",
    "prices = [10, 2, 20, 1, 3]\n",
    "```\n",
    "\n",
    "For each price in the `prices` array, we can get its maximum possible profit (0 if negative):\n",
    "\n",
    "``` python\n",
    "maximum_profit = [0, 18, 0, 2, 0]\n",
    "```\n",
    "\n",
    "For example, if we buy the stock at day 2 (price = 2) and sell at day 3 (price = 20), we will get the maximum profit for day 2, which is 18.\n",
    "\n",
    "Given this information, we understand that the goal is to find a lowest price such that the maximum possible profit of that price is the largest. To achieve this, we create a `lowest` variable to store the lowest price. It gets refreshed as we loop through the array. We also create a `profit` variable to store the maximum possible profit. It also gets refreshed. The process can be visualized as follows:\n",
    "\n",
    "``` python\n",
    "prices = [10, 2, 20, 1, 3]\n",
    "lowest = [10, 2, 2, 1, 1]\n",
    "profit = [0, 0, 18, 18, 18]\n",
    "```\n",
    "\n",
    "At the beginning, we assume that the first `price` is the lowest: `lowest = prices[0]`. The `profit` is set to 0. Starting from day 2, we compare the `price` with `lowest` and refresh the `lowest` if `price` is smaller. We also calculate the maximum possible `profit` by taking the difference between `price` and `lowest`. If the difference is larger than the previous maximum possible `profit`, we replace the `profit` with the difference. As we loop through the `prices`, the `lowest` will always be equal or lower while the `profit` will always be equal or larger. At the end of the loop, we'll get the maximum `profit` value."
   ]
  },
  {
   "cell_type": "markdown",
   "metadata": {},
   "source": [
    "---"
   ]
  }
 ],
 "metadata": {
  "interpreter": {
   "hash": "dca0ade3e726a953b501b15e8e990130d2b7799f14cfd9f4271676035ebe5511"
  },
  "kernelspec": {
   "display_name": "Python 3.7.4 64-bit (conda)",
   "name": "python3"
  },
  "language_info": {
   "codemirror_mode": {
    "name": "ipython",
    "version": 3
   },
   "file_extension": ".py",
   "mimetype": "text/x-python",
   "name": "python",
   "nbconvert_exporter": "python",
   "pygments_lexer": "ipython3",
   "version": "3.7.6"
  },
  "orig_nbformat": 2
 },
 "nbformat": 4,
 "nbformat_minor": 2
}
