{
 "cells": [
  {
   "cell_type": "markdown",
   "metadata": {},
   "source": [
    "# 652 Find Duplicate Subtrees\n",
    "\n",
    "Medium\n",
    "\n",
    "https://leetcode.cn/problems/find-duplicate-subtrees/\n",
    "\n",
    "Created on: 8/5/2022\n",
    "\n",
    "Modified on: 8/6/2022\n",
    "\n",
    "---\n",
    "\n",
    "Given the `root` of a binary tree, return all duplicate subtrees.\n",
    "\n",
    "For each kind of duplicate subtrees, you only need to return the root node of any one of them.\n",
    "\n",
    "Two trees are duplicate if they have the same structure with the same node values.\n",
    "\n",
    "**Example 1:**\n",
    "\n",
    "![Example 1](https://assets.leetcode.com/uploads/2020/08/16/e1.jpg)\n",
    "\n",
    "```\n",
    "Input: root = [1,2,3,4,null,2,4,null,null,4]\n",
    "Output: [[2,4],[4]]\n",
    "```\n",
    "\n",
    "**Example 2:**\n",
    "\n",
    "![Example 2](https://assets.leetcode.com/uploads/2020/08/16/e2.jpg)\n",
    "\n",
    "```\n",
    "Input: root = [2,1,1]\n",
    "Output: [[1]]\n",
    "```\n",
    "\n",
    "**Example 3:**\n",
    "\n",
    "![Example 3](https://assets.leetcode.com/uploads/2020/08/16/e33.jpg)\n",
    "\n",
    "```\n",
    "Input: root = [2,2,2,3,null,3,null]\n",
    "Output: [[2,3], [3]]\n",
    "```\n",
    "\n",
    "**Constraints:**\n",
    "\n",
    "- The number of nodes in the tree is in the range `[1, 10^4]`.\n",
    "- -200 <= `Node.val` <= 200\n",
    "\n",
    "---\n"
   ]
  },
  {
   "cell_type": "markdown",
   "metadata": {},
   "source": [
    "### Solution"
   ]
  },
  {
   "cell_type": "code",
   "execution_count": 2,
   "metadata": {},
   "outputs": [],
   "source": [
    "from typing import Optional, List\n",
    "\n",
    "\n",
    "# Definition for a binary tree node.\n",
    "class TreeNode:\n",
    "    def __init__(self, val=0, left=None, right=None):\n",
    "        self.val = val\n",
    "        self.left = left\n",
    "        self.right = right\n",
    "\n",
    "\n",
    "class Solution:\n",
    "    def findDuplicateSubtrees(self, root: Optional[TreeNode]) -> List[Optional[TreeNode]]:\n",
    "        di = dict()\n",
    "        ans = list()\n",
    "\n",
    "        def collect(node: TreeNode) -> str:\n",
    "            if not node:\n",
    "                return\n",
    "            serial = '{},{},{}'.format(node.val, collect(node.left), collect(node.right))\n",
    "            if serial not in di.keys():\n",
    "                di[serial] = 1\n",
    "            else:\n",
    "                di[serial] += 1\n",
    "            if di[serial] == 2:\n",
    "                ans.append(node)\n",
    "            return serial\n",
    "\n",
    "        collect(root)\n",
    "        return ans\n"
   ]
  },
  {
   "cell_type": "code",
   "execution_count": 9,
   "metadata": {},
   "outputs": [
    {
     "name": "stdout",
     "output_type": "stream",
     "text": [
      "3\n"
     ]
    }
   ],
   "source": [
    "test = Solution()\n",
    "root = TreeNode(4)\n",
    "root.left = TreeNode(2)\n",
    "root.right = TreeNode(6)\n",
    "root.left.left = TreeNode(3)\n",
    "root.left.right = TreeNode(1)\n",
    "root.right.left = TreeNode(2)\n",
    "root.right.left.left = TreeNode(3)\n",
    "ans = test.findDuplicateSubtrees(root)\n",
    "print(ans[0].val)"
   ]
  },
  {
   "cell_type": "markdown",
   "metadata": {},
   "source": [
    "---"
   ]
  }
 ],
 "metadata": {
  "kernelspec": {
   "display_name": "Python 3.7.6",
   "language": "python",
   "name": "python3"
  },
  "language_info": {
   "codemirror_mode": {
    "name": "ipython",
    "version": 3
   },
   "file_extension": ".py",
   "mimetype": "text/x-python",
   "name": "python",
   "nbconvert_exporter": "python",
   "pygments_lexer": "ipython3",
   "version": "3.7.6"
  },
  "orig_nbformat": 2,
  "vscode": {
   "interpreter": {
    "hash": "01ef5fd295d2f06c799f887d3d5a0aa621984c826cc1e428ccbd852109f922c3"
   }
  }
 },
 "nbformat": 4,
 "nbformat_minor": 2
}
