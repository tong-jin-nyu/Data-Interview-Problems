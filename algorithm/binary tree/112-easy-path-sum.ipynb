{
 "cells": [
  {
   "cell_type": "markdown",
   "metadata": {},
   "source": [
    "# 112 Path Sum\n",
    "\n",
    "Easy\n",
    "\n",
    "https://leetcode-cn.com/problems/path-sum/\n",
    "\n",
    "Created on: 11/29/2021\n",
    "\n",
    "Modified on: 7/28/2022\n",
    "\n",
    "---\n",
    "\n",
    "Given the `root` of a binary tree and an integer `targetSum`\n",
    "\n",
    "**Example 1:**\n",
    "\n",
    "![Example 1](https://assets.leetcode.com/uploads/2021/03/14/invert1-tree.jpg)\n",
    "\n",
    "```\n",
    "Input: root = [4, 2, 7, 1, 3, 6, 9]\n",
    "Output: [4, 7, 2, 9, 6, 3, 1]\n",
    "```\n",
    "\n",
    "**Example 2:**\n",
    "\n",
    "![Example 2](https://assets.leetcode.com/uploads/2021/03/14/invert2-tree.jpg)\n",
    "\n",
    "```\n",
    "Input: root = [2, 1, 3]\n",
    "Output: [2, 3, 1]\n",
    "```\n",
    "\n",
    "**Example 3:**\n",
    "\n",
    "```\n",
    "Input: root = []\n",
    "Output: []\n",
    "```\n",
    "\n",
    "**Constraints:**\n",
    "\n",
    "- The number of nodes in the tree is in the range `[0, 100]`.\n",
    "- `-100 <= Node.val <= 100`\n",
    "\n",
    "---\n"
   ]
  },
  {
   "cell_type": "markdown",
   "metadata": {},
   "source": [
    "### Solution"
   ]
  },
  {
   "cell_type": "code",
   "execution_count": 1,
   "metadata": {},
   "outputs": [],
   "source": [
    "from typing import Optional\n",
    "\n",
    "\n",
    "class TreeNode():\n",
    "\n",
    "    def __init__(self, val=0, left=None, right=None):\n",
    "        self.val = val\n",
    "        self.left = left\n",
    "        self.right = right\n",
    "\n",
    "    output = list()\n",
    "        \n",
    "    def printTree(self):\n",
    "        TreeNode.output.append(self.val)\n",
    "        if self.left:\n",
    "            self.left.printTree()\n",
    "        if self.right:\n",
    "            self.right.printTree()\n",
    "\n",
    "\n",
    "class Solution:\n",
    "\n",
    "    def hasPathSum(self, root: Optional[TreeNode], targetSum: int) -> bool:\n",
    "        if not root:\n",
    "            return False\n",
    "        if not root.left and not root.right:\n",
    "            return targetSum == root.val\n",
    "        return self.hasPathSum(root.left, targetSum - root.val) \\\n",
    "            or self.hasPathSum(root.right, targetSum - root.val)\n"
   ]
  },
  {
   "cell_type": "code",
   "execution_count": 6,
   "metadata": {},
   "outputs": [
    {
     "name": "stdout",
     "output_type": "stream",
     "text": [
      "       5\n",
      "      / \\\n",
      "     /   \\\n",
      "    4     8\n",
      "   /     / \\\n",
      "  11    13  4\n",
      " / \\         \\\n",
      "7   2         1\n"
     ]
    },
    {
     "data": {
      "text/plain": [
       "True"
      ]
     },
     "execution_count": 6,
     "metadata": {},
     "output_type": "execute_result"
    }
   ],
   "source": [
    "from drawtree import draw_level_order\n",
    "\n",
    "\n",
    "# Test\n",
    "root = TreeNode(5)\n",
    "root.left = TreeNode(4)\n",
    "root.right = TreeNode(8)\n",
    "root.left.left = TreeNode(11)\n",
    "root.left.left.left = TreeNode(7)\n",
    "root.left.left.right = TreeNode(2)\n",
    "root.right.left = TreeNode(13)\n",
    "root.right.right = TreeNode(4)\n",
    "root.right.right.right = TreeNode(1)\n",
    "targetSum = 22\n",
    "draw_level_order('[5,4,8,11,#,13,4,7,2,#,#,#,1]')\n",
    "\n",
    "test = Solution()\n",
    "test.hasPathSum(root, targetSum)"
   ]
  },
  {
   "cell_type": "markdown",
   "metadata": {},
   "source": [
    "---"
   ]
  }
 ],
 "metadata": {
  "kernelspec": {
   "display_name": "Python 3.9.4 64-bit",
   "language": "python",
   "name": "python3"
  },
  "language_info": {
   "codemirror_mode": {
    "name": "ipython",
    "version": 3
   },
   "file_extension": ".py",
   "mimetype": "text/x-python",
   "name": "python",
   "nbconvert_exporter": "python",
   "pygments_lexer": "ipython3",
   "version": "3.9.4"
  },
  "orig_nbformat": 2,
  "vscode": {
   "interpreter": {
    "hash": "fc8814d95e3bb7c7d620345642206f617029e5ce3d5941736e486cd8ca8f4058"
   }
  }
 },
 "nbformat": 4,
 "nbformat_minor": 2
}
