{
 "cells": [
  {
   "cell_type": "markdown",
   "metadata": {},
   "source": [
    "# 144 Binary Tree Preorder Traversal\n",
    "\n",
    "Easy\n",
    "\n",
    "https://leetcode-cn.com/problems/binary-tree-preorder-traversal/\n",
    "\n",
    "Created on: 11/14/2021\n",
    "\n",
    "Modified on: 7/27/2022\n",
    "\n",
    "---\n",
    "\n",
    "Given the `root` of a binary tree, return the preorder traversal of its nodes' values.\n",
    "\n",
    "**Example 1:**\n",
    "![Example 1](https://assets.leetcode.com/uploads/2020/09/15/inorder_1.jpg)\n",
    "```\n",
    "Input: root = [1, null, 2, 3]\n",
    "Output: [1, 2, 3]\n",
    "```\n",
    "\n",
    "**Example 2:**\n",
    "```\n",
    "Input: root = []\n",
    "Output: []\n",
    "```\n",
    "\n",
    "**Example 3:**\n",
    "```\n",
    "Input: root = [1]\n",
    "Output: [1]\n",
    "```\n",
    "\n",
    "**Example 4:**\n",
    "![Example 4](https://assets.leetcode.com/uploads/2020/09/15/inorder_5.jpg)\n",
    "```\n",
    "Input: root = [1, 2]\n",
    "Output: [1, 2]\n",
    "```\n",
    "\n",
    "**Example 5:**\n",
    "![Example 5](https://assets.leetcode.com/uploads/2020/09/15/inorder_4.jpg)\n",
    "```\n",
    "Input: root = [1, null, 2]\n",
    "Output: [1, 2]\n",
    "```\n",
    "\n",
    "**Constraints:**\n",
    "- The number of nodes in the tree is in the range `[0, 100]`.\n",
    "- `-100 <= Node.val <= 100`"
   ]
  },
  {
   "cell_type": "markdown",
   "metadata": {},
   "source": [
    "### Solution"
   ]
  },
  {
   "cell_type": "code",
   "execution_count": 1,
   "metadata": {},
   "outputs": [],
   "source": [
    "# Updated: 7/27/2022\n",
    "from typing import List\n",
    "from drawtree import draw_level_order\n",
    "\n",
    "\n",
    "class TreeNode():\n",
    "\n",
    "    def __init__(self, val=0, left=None, right=None):\n",
    "        self.val = val\n",
    "        self.left = left\n",
    "        self.right = right\n",
    "\n",
    "class Solution:\n",
    "    '''Given the root of a binary tree, return the preorder traversal \n",
    "    of its nodes' values\n",
    "    '''\n",
    "    def preorderTraversal(self, root: TreeNode) -> List[int]:\n",
    "        output = list()\n",
    "\n",
    "        def traversal(root: TreeNode) -> None:\n",
    "            '''Define a recursive traversal\n",
    "            '''\n",
    "            if not root:\n",
    "                return\n",
    "            output.append(root.val)\n",
    "            traversal(root.left)\n",
    "            traversal(root.right)\n",
    "\n",
    "        traversal(root)\n",
    "        return output"
   ]
  },
  {
   "cell_type": "code",
   "execution_count": 4,
   "metadata": {},
   "outputs": [
    {
     "name": "stdout",
     "output_type": "stream",
     "text": [
      "      1\n",
      "     / \\\n",
      "    /   \\\n",
      "   /     \\\n",
      "  2       5\n",
      " / \\     / \\\n",
      "3   6   4  30\n",
      "The preorder traversal of the above tree is:\n",
      " [1, 2, 3, 6, 5, 4, 30]\n"
     ]
    }
   ],
   "source": [
    "# Test\n",
    "root = TreeNode(1)\n",
    "root.left = TreeNode(2)\n",
    "root.right = TreeNode(5)\n",
    "root.left.left = TreeNode(3)\n",
    "root.left.right = TreeNode(6)\n",
    "root.right.left = TreeNode(4)\n",
    "root.right.right = TreeNode(30)\n",
    "\n",
    "draw_level_order('{1, 2, 5, 3, 6, 4, 30}')\n",
    "\n",
    "test = Solution()\n",
    "print('The preorder traversal of the above tree is:\\n', \n",
    "test.preorderTraversal(root))\n"
   ]
  },
  {
   "cell_type": "markdown",
   "metadata": {},
   "source": [
    "### Explanation"
   ]
  },
  {
   "cell_type": "markdown",
   "metadata": {},
   "source": [
    "---"
   ]
  }
 ],
 "metadata": {
  "kernelspec": {
   "display_name": "Python 3.7.6",
   "language": "python",
   "name": "python3"
  },
  "language_info": {
   "codemirror_mode": {
    "name": "ipython",
    "version": 3
   },
   "file_extension": ".py",
   "mimetype": "text/x-python",
   "name": "python",
   "nbconvert_exporter": "python",
   "pygments_lexer": "ipython3",
   "version": "3.7.6"
  },
  "orig_nbformat": 2,
  "vscode": {
   "interpreter": {
    "hash": "01ef5fd295d2f06c799f887d3d5a0aa621984c826cc1e428ccbd852109f922c3"
   }
  }
 },
 "nbformat": 4,
 "nbformat_minor": 2
}
