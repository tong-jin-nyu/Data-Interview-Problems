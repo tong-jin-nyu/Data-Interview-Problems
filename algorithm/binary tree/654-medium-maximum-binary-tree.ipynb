{
 "cells": [
  {
   "cell_type": "markdown",
   "metadata": {},
   "source": [
    "# 654 Maximum Binary Tree\n",
    "\n",
    "Medium\n",
    "\n",
    "https://leetcode.cn/problems/maximum-binary-tree/\n",
    "\n",
    "Created on: 8/19/2022\n",
    "\n",
    "Modified on: 8/19/2022\n",
    "\n",
    "---\n",
    "\n",
    "You are given an integer array `nums` with no duplicates. A maximum binary tree can be built recursively from `nums` using the following algorithm:\n",
    "\n",
    "1. Create a root node whose value is the maximum value in `nums`.\n",
    "2. Recursively build the left subtree on the subarray prefix to the left of the maximum value.\n",
    "3. Recursively build the right subtree on the subarray suffix to the right of the maximum value.\n",
    "\n",
    "Return the maximum binary tree built from `nums`.\n",
    "\n",
    "**Example 1:**\n",
    "\n",
    "![Example 1](https://assets.leetcode.com/uploads/2020/12/24/tree1.jpg)\n",
    "\n",
    "```\n",
    "Input: nums = [3,2,1,6,0,5]\n",
    "Output: [6,3,5,null,2,0,null,null,1]\n",
    "Explanation: The recursive calls are as follow:\n",
    "- The largest value in [3,2,1,6,0,5] is 6. Left prefix is [3,2,1] and right suffix is [0,5].\n",
    "    - The largest value in [3,2,1] is 3. Left prefix is [] and right suffix is [2,1].\n",
    "        - Empty array, so no child.\n",
    "        - The largest value in [2,1] is 2. Left prefix is [] and right suffix is [1].\n",
    "            - Empty array, so no child.\n",
    "            - Only one element, so child is a node with value 1.\n",
    "    - The largest value in [0,5] is 5. Left prefix is [0] and right suffix is [].\n",
    "        - Only one element, so child is a node with value 0.\n",
    "        - Empty array, so no child.\n",
    "```\n",
    "\n",
    "**Example 2:**\n",
    "\n",
    "![Example 2](https://assets.leetcode.com/uploads/2020/12/24/tree2.jpg)\n",
    "\n",
    "```\n",
    "Input: nums = [3,2,1]\n",
    "Output: [3,null,2,null,1]\n",
    "```\n",
    "\n",
    "**Constraints:**\n",
    "\n",
    "- 1 <= `nums.length` <= 1000\n",
    "- 0 <= `nums[i]` <= 1000\n",
    "- All integers in `nums` are unique.\n",
    "\n",
    "---\n"
   ]
  },
  {
   "cell_type": "markdown",
   "metadata": {},
   "source": [
    "### Solution"
   ]
  },
  {
   "cell_type": "code",
   "execution_count": 1,
   "metadata": {},
   "outputs": [],
   "source": [
    "from typing import Optional, List\n",
    "\n",
    "\n",
    "# Definition for a binary tree node.\n",
    "class TreeNode:\n",
    "    def __init__(self, val=0, left=None, right=None):\n",
    "        self.val = val\n",
    "        self.left = left\n",
    "        self.right = right\n",
    "\n",
    "\n",
    "class Solution:\n",
    "    def constructMaximumBinaryTree(self, nums: List[int]) -> Optional[TreeNode]:\n",
    "        def construct(left: int, right: int) -> TreeNode:\n",
    "            if left > right:\n",
    "                return\n",
    "\n",
    "            # Find the index of maximum number.\n",
    "            best = left\n",
    "            for i in range(left + 1, right + 1):\n",
    "                if nums[i] > nums[best]:\n",
    "                    best = i\n",
    "\n",
    "            node = TreeNode(nums[best])\n",
    "            node.left = construct(left, best - 1)\n",
    "            node.right = construct(best + 1, right)\n",
    "            return node\n",
    "\n",
    "        return construct(0, len(nums) - 1)\n"
   ]
  },
  {
   "cell_type": "markdown",
   "metadata": {},
   "source": [
    "---"
   ]
  }
 ],
 "metadata": {
  "kernelspec": {
   "display_name": "Python 3.7.6",
   "language": "python",
   "name": "python3"
  },
  "language_info": {
   "codemirror_mode": {
    "name": "ipython",
    "version": 3
   },
   "file_extension": ".py",
   "mimetype": "text/x-python",
   "name": "python",
   "nbconvert_exporter": "python",
   "pygments_lexer": "ipython3",
   "version": "3.7.6"
  },
  "orig_nbformat": 2,
  "vscode": {
   "interpreter": {
    "hash": "01ef5fd295d2f06c799f887d3d5a0aa621984c826cc1e428ccbd852109f922c3"
   }
  }
 },
 "nbformat": 4,
 "nbformat_minor": 2
}
