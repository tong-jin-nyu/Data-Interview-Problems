{
 "cells": [
  {
   "cell_type": "markdown",
   "metadata": {},
   "source": [
    "# 236 Lowest Common Ancestor of a Binary Tree\n",
    "\n",
    "Medium\n",
    "\n",
    "https://leetcode.cn/problems/lowest-common-ancestor-of-a-binary-tree/\n",
    "\n",
    "Created on: 7/30/2022\n",
    "\n",
    "Modified on: 7/30/2022\n",
    "\n",
    "---\n",
    "\n",
    "Given a binary tree, find the lowest common ancestor (LCA) node of two given nodes in the tree.\n",
    "\n",
    "According to the definition of LCA, the lowest common ancestor is defined between two nodes `p` and `q` as the lowest node in `T` that has both `p` and `q` as descendants (where we allow a node to be a descendant of itself).\n",
    "\n",
    "**Example 1:**\n",
    "\n",
    "![Example 1](https://assets.leetcode.com/uploads/2018/12/14/binarytree.png)\n",
    "\n",
    "```\n",
    "Input: root = [3,5,1,6,2,0,8,null,null,7,4], p = 5, q = 1\n",
    "Output: 3\n",
    "Explanation: The LCA of nodes 5 and 1 is 3.\n",
    "```\n",
    "\n",
    "**Example 2:**\n",
    "\n",
    "![Example 2](https://assets.leetcode.com/uploads/2018/12/14/binarytree.png)\n",
    "\n",
    "```\n",
    "Input: root = [3,5,1,6,2,0,8,null,null,7,4], p = 5, q = 4\n",
    "Output: 5\n",
    "Explanation: The LCA of nodes 5 and 4 is 5, since a node can be a descendant of itself according to the LCA definition.\n",
    "```\n",
    "\n",
    "**Example 3:**\n",
    "\n",
    "```\n",
    "Input: root = [1, 2], p = 1, q = 2\n",
    "Output: 1\n",
    "```\n",
    "\n",
    "**Constraints:**\n",
    "\n",
    "- The number of nodes in the tree is in the range `[2, 10^5]`.\n",
    "- `-10^9 <= Node.val <= 10^9`\n",
    "- All `Node.val` are unique\n",
    "- `p != q`\n",
    "- `p` and `q` will exist in the BST.\n",
    "\n",
    "---\n"
   ]
  },
  {
   "cell_type": "markdown",
   "metadata": {},
   "source": [
    "### Solution"
   ]
  },
  {
   "cell_type": "code",
   "execution_count": 9,
   "metadata": {},
   "outputs": [],
   "source": [
    "# Definition for a binary tree node.\n",
    "class TreeNode:\n",
    "    def __init__(self, x):\n",
    "        self.val = x\n",
    "        self.left = None\n",
    "        self.right = None\n",
    "\n",
    "\n",
    "class Solution:\n",
    "    def lowestCommonAncestor(\n",
    "            self, root: 'TreeNode', p: 'TreeNode', q: 'TreeNode') -> 'TreeNode':\n",
    "        if not root or root == p or root == q:\n",
    "            return root\n",
    "        left = self.lowestCommonAncestor(root.left, p, q)\n",
    "        right = self.lowestCommonAncestor(root.right, p, q)\n",
    "        if not left:\n",
    "            return right\n",
    "        if not right:\n",
    "            return left\n",
    "        return root\n"
   ]
  },
  {
   "cell_type": "code",
   "execution_count": 10,
   "metadata": {},
   "outputs": [
    {
     "name": "stdout",
     "output_type": "stream",
     "text": [
      "      3\n",
      "     / \\\n",
      "    /   \\\n",
      "   /     \\\n",
      "  5       1\n",
      " / \\     / \\\n",
      "6   2   0   8\n"
     ]
    },
    {
     "data": {
      "text/plain": [
       "5"
      ]
     },
     "execution_count": 10,
     "metadata": {},
     "output_type": "execute_result"
    }
   ],
   "source": [
    "from drawtree import draw_level_order\n",
    "\n",
    "# Test\n",
    "root = TreeNode(3)\n",
    "root.left = TreeNode(5)\n",
    "root.right = TreeNode(1)\n",
    "root.left.left = TreeNode(6)\n",
    "root.left.right = TreeNode(2)\n",
    "root.right.left = TreeNode(0)\n",
    "root.right.right = TreeNode(8)\n",
    "p = root.left.left\n",
    "q = root.left.right\n",
    "\n",
    "draw_level_order('[3,5,1,6,2,0,8]')\n",
    "test = Solution()\n",
    "test.lowestCommonAncestor(root, p, q).val\n"
   ]
  },
  {
   "cell_type": "markdown",
   "metadata": {},
   "source": [
    "### Explanation"
   ]
  },
  {
   "cell_type": "markdown",
   "metadata": {},
   "source": [
    "![Explanation](https://pic.leetcode-cn.com/1599885247-GEkXRi-Picture20.png)"
   ]
  },
  {
   "cell_type": "markdown",
   "metadata": {},
   "source": [
    "---"
   ]
  }
 ],
 "metadata": {
  "kernelspec": {
   "display_name": "Python 3.7.6",
   "language": "python",
   "name": "python3"
  },
  "language_info": {
   "codemirror_mode": {
    "name": "ipython",
    "version": 3
   },
   "file_extension": ".py",
   "mimetype": "text/x-python",
   "name": "python",
   "nbconvert_exporter": "python",
   "pygments_lexer": "ipython3",
   "version": "3.7.6"
  },
  "orig_nbformat": 2,
  "vscode": {
   "interpreter": {
    "hash": "01ef5fd295d2f06c799f887d3d5a0aa621984c826cc1e428ccbd852109f922c3"
   }
  }
 },
 "nbformat": 4,
 "nbformat_minor": 2
}
