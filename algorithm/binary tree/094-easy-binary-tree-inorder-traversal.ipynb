{
 "cells": [
  {
   "cell_type": "markdown",
   "metadata": {},
   "source": [
    "# 094 Binary Tree Inorder Traversal\n",
    "\n",
    "Easy\n",
    "\n",
    "https://leetcode-cn.com/problems/binary-tree-inorder-traversal/\n",
    "\n",
    "Created on: 11/14/2021\n",
    "\n",
    "Modified on: 7/27/2022\n",
    "\n",
    "---\n",
    "\n",
    "Given the `root` of a binary tree, return the inorder traversal of its nodes' values.\n",
    "\n",
    "**Example 1:**\n",
    "![Example 1](https://assets.leetcode.com/uploads/2020/09/15/inorder_1.jpg)\n",
    "```\n",
    "Input: root = [1, null, 2, 3]\n",
    "Output: [1, 3, 2]\n",
    "```\n",
    "\n",
    "**Example 2:**\n",
    "```\n",
    "Input: root = []\n",
    "Output: []\n",
    "```\n",
    "\n",
    "**Example 3:**\n",
    "```\n",
    "Input: root = [1]\n",
    "Output: [1]\n",
    "```\n",
    "\n",
    "**Example 4:**\n",
    "![Example 4](https://assets.leetcode.com/uploads/2020/09/15/inorder_5.jpg)\n",
    "```\n",
    "Input: root = [1, 2]\n",
    "Output: [2, 1]\n",
    "```\n",
    "\n",
    "**Example 5:**\n",
    "![Example 5](https://assets.leetcode.com/uploads/2020/09/15/inorder_4.jpg)\n",
    "```\n",
    "Input: root = [1, null, 2]\n",
    "Output: [1, 2]\n",
    "```\n",
    "\n",
    "**Constraints:**\n",
    "- The number of nodes in the tree is in the range `[0, 100]`.\n",
    "- `-100 <= Node.val <= 100`\n",
    "\n",
    "**Follow up:** Recursive solution is trivial, could you do it iteratively?"
   ]
  },
  {
   "cell_type": "markdown",
   "metadata": {},
   "source": [
    "### Solution"
   ]
  },
  {
   "cell_type": "code",
   "execution_count": 1,
   "metadata": {},
   "outputs": [],
   "source": [
    "# Update: 7/27/2022\n",
    "from typing import List\n",
    "from drawtree import draw_level_order\n",
    "\n",
    "\n",
    "class TreeNode():\n",
    "\n",
    "    def __init__(self, val=0, left=None, right=None):\n",
    "        self.val = val\n",
    "        self.left = left\n",
    "        self.right = right\n",
    "\n",
    "def to_tree(lst: List[int]) -> TreeNode:\n",
    "    n = len(lst)\n",
    "    if n ==0:\n",
    "        return None\n",
    "    \n",
    "    def inner(index: int = 0) -> TreeNode:\n",
    "        if n <= index or lst[index] is None:\n",
    "            return None\n",
    "        \n",
    "        node = TreeNode(lst[index])\n",
    "        node.left = inner(2 * index + 1)\n",
    "        node.right = inner(2 * index + 2)\n",
    "        return node\n",
    "\n",
    "    return inner()\n",
    "\n",
    "\n",
    "class Solution:\n",
    "    def inorderTraversal(self, root: TreeNode) -> List[int]:\n",
    "        output = list()\n",
    "\n",
    "        def traversal(root: TreeNode) -> None:\n",
    "            if not root:\n",
    "                return\n",
    "            traversal(root.left)\n",
    "            output.append(root.val)\n",
    "            traversal(root.right)\n",
    "\n",
    "        traversal(root)\n",
    "        return output\n"
   ]
  },
  {
   "cell_type": "code",
   "execution_count": 2,
   "metadata": {},
   "outputs": [
    {
     "name": "stdout",
     "output_type": "stream",
     "text": [
      "      1\n",
      "     / \\\n",
      "    /   \\\n",
      "   /     \\\n",
      "  2       3\n",
      " / \\     / \\\n",
      "4   5   6   7\n",
      "The preorder traversal of the above tree is:\n",
      " [4, 2, 5, 1, 6, 3, 7]\n"
     ]
    }
   ],
   "source": [
    "# Test\n",
    "root = [1, 2, 3, 4, 5, 6, 7]\n",
    "draw_level_order(str(root))\n",
    "root = to_tree(root)\n",
    "\n",
    "test = Solution()\n",
    "print('The preorder traversal of the above tree is:\\n', \n",
    "      test.inorderTraversal(root))\n"
   ]
  },
  {
   "cell_type": "markdown",
   "metadata": {},
   "source": [
    "### Explanation"
   ]
  },
  {
   "cell_type": "markdown",
   "metadata": {},
   "source": [
    "---"
   ]
  }
 ],
 "metadata": {
  "kernelspec": {
   "display_name": "Python 3.7.6",
   "language": "python",
   "name": "python3"
  },
  "language_info": {
   "codemirror_mode": {
    "name": "ipython",
    "version": 3
   },
   "file_extension": ".py",
   "mimetype": "text/x-python",
   "name": "python",
   "nbconvert_exporter": "python",
   "pygments_lexer": "ipython3",
   "version": "3.7.6"
  },
  "orig_nbformat": 2,
  "vscode": {
   "interpreter": {
    "hash": "01ef5fd295d2f06c799f887d3d5a0aa621984c826cc1e428ccbd852109f922c3"
   }
  }
 },
 "nbformat": 4,
 "nbformat_minor": 2
}
