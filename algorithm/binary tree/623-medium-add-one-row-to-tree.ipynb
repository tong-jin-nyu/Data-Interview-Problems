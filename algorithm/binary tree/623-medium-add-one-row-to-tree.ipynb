{
 "cells": [
  {
   "cell_type": "markdown",
   "metadata": {},
   "source": [
    "# 623 Add One Row to Tree\n",
    "\n",
    "Medium\n",
    "\n",
    "https://leetcode.cn/problems/add-one-row-to-tree/\n",
    "\n",
    "Created on: 8/4/2022\n",
    "\n",
    "Modified on: 8/4/2022\n",
    "\n",
    "---\n",
    "\n",
    "Given the `root` of a binary tree and two integers `val` and `depth`, add a row of nodes with value `val` at the given depth `depth`.\n",
    "\n",
    "Note that the `root` node is at depth `1`.\n",
    "\n",
    "The adding rule is:\n",
    "\n",
    "- Given the integer `depth`, for each not null tree node `cur` at the depth `depth - 1`, create two tree nodes with value `val` as `cur`'s left subtree root and right subtree root.\n",
    "- `cur`'s original left subtree should be the left subtree of the new left subtree root.\n",
    "- `cur`'s original right subtree should be the right subtree of the new right subtree root.\n",
    "- If `depth == 1` that means there is no depth `depth - 1` at all, then create a tree node with value `val` as the new root of the whole original tree, and the original tree is the new roots' left subtree.\n",
    "\n",
    "**Example 1:**\n",
    "\n",
    "![Example 1](https://assets.leetcode.com/uploads/2021/03/15/addrow-tree.jpg)\n",
    "\n",
    "```\n",
    "Input: root = [4,2,6,3,1,5], val = 1, depth = 2\n",
    "Output: [4,1,1,2,null,null,6,3,1,5]\n",
    "```\n",
    "\n",
    "**Example 2:**\n",
    "\n",
    "![Example 2](https://assets.leetcode.com/uploads/2021/03/11/add2-tree.jpg)\n",
    "\n",
    "```\n",
    "Input: root = [4,2,null,3,1], val = 1, depth = 3\n",
    "Output: [4,2,null,1,1,3,null,null,1]\n",
    "```\n",
    "\n",
    "**Constraints:**\n",
    "\n",
    "- The number of nodes in the tree is in the range `[1, 10^4]`.\n",
    "- The depth of the tree is in the range `[1, 10^4]`.\n",
    "- -100 <= `Node.val` <= 100\n",
    "- -10^5 <= val <= 10^5\n",
    "- 1 <= depth <= the depth of tree + 1\n",
    "\n",
    "---\n"
   ]
  },
  {
   "cell_type": "markdown",
   "metadata": {},
   "source": [
    "### Solution"
   ]
  },
  {
   "cell_type": "code",
   "execution_count": 9,
   "metadata": {},
   "outputs": [],
   "source": [
    "from typing import Optional\n",
    "\n",
    "\n",
    "# Definition for a binary tree node.\n",
    "class TreeNode:\n",
    "    def __init__(self, val=0, left=None, right=None):\n",
    "        self.val = val\n",
    "        self.left = left\n",
    "        self.right = right\n",
    "\n",
    "# DFS\n",
    "class Solution:\n",
    "    def addOneRow(self, root: Optional[TreeNode], val: int, depth: int) -> Optional[TreeNode]:\n",
    "        # Set return condition for recursion.\n",
    "        if not root:\n",
    "            return\n",
    "        \n",
    "        # Discuss: when adding new node before root.\n",
    "        if depth == 1:\n",
    "            return TreeNode(val, root, None)\n",
    "        # Discuss: when adding new node after the current level.\n",
    "        if depth == 2:\n",
    "            root.left = TreeNode(val, root.left, None)\n",
    "            root.right = TreeNode(val, None, root.right)\n",
    "        else:\n",
    "            # Loop through left and right subtrees until depth == 2.\n",
    "            root.left = self.addOneRow(root.left, val, depth - 1)\n",
    "            root.right = self.addOneRow(root.right, val, depth - 1)\n",
    "        return root\n"
   ]
  },
  {
   "cell_type": "code",
   "execution_count": 10,
   "metadata": {},
   "outputs": [],
   "source": [
    "from typing import Optional\n",
    "\n",
    "\n",
    "# Definition for a binary tree node.\n",
    "class TreeNode:\n",
    "    def __init__(self, val=0, left=None, right=None):\n",
    "        self.val = val\n",
    "        self.left = left\n",
    "        self.right = right\n",
    "\n",
    "\n",
    "class Solution:\n",
    "    def addOneRow(self, root: Optional[TreeNode], val: int, depth: int) -> Optional[TreeNode]:\n",
    "        # Discuss: when adding new node before root.\n",
    "        if depth == 1:\n",
    "            return TreeNode(val, root, None)\n",
    "        # Locate nodes on level depth - 1.\n",
    "        currLvl = [root]\n",
    "        for _ in range(1, depth - 1):\n",
    "            temp = list()\n",
    "            for node in currLvl:\n",
    "                if node.left:\n",
    "                    temp.append(node.left)\n",
    "                if node.right:\n",
    "                    temp.append(node.right)\n",
    "            currLvl = temp\n",
    "        # Insert new nodes beneath current level.\n",
    "        for node in currLvl:\n",
    "            node.left = TreeNode(val, node.left, None)\n",
    "            node.right = TreeNode(val, None, node.right)\n",
    "        return root\n"
   ]
  },
  {
   "cell_type": "code",
   "execution_count": 13,
   "metadata": {},
   "outputs": [
    {
     "data": {
      "text/plain": [
       "<__main__.TreeNode at 0x7fdcde16e790>"
      ]
     },
     "execution_count": 13,
     "metadata": {},
     "output_type": "execute_result"
    }
   ],
   "source": [
    "test = Solution()\n",
    "root = TreeNode(4)\n",
    "root.left = TreeNode(2)\n",
    "root.right = TreeNode(6)\n",
    "root.left.left = TreeNode(3)\n",
    "root.left.right = TreeNode(1)\n",
    "root.right.left = TreeNode(5)\n",
    "val, depth = 1, 2\n",
    "test.addOneRow(root, val, depth)"
   ]
  },
  {
   "cell_type": "markdown",
   "metadata": {},
   "source": [
    "---"
   ]
  }
 ],
 "metadata": {
  "kernelspec": {
   "display_name": "Python 3.7.6",
   "language": "python",
   "name": "python3"
  },
  "language_info": {
   "codemirror_mode": {
    "name": "ipython",
    "version": 3
   },
   "file_extension": ".py",
   "mimetype": "text/x-python",
   "name": "python",
   "nbconvert_exporter": "python",
   "pygments_lexer": "ipython3",
   "version": "3.7.6"
  },
  "orig_nbformat": 2,
  "vscode": {
   "interpreter": {
    "hash": "01ef5fd295d2f06c799f887d3d5a0aa621984c826cc1e428ccbd852109f922c3"
   }
  }
 },
 "nbformat": 4,
 "nbformat_minor": 2
}
