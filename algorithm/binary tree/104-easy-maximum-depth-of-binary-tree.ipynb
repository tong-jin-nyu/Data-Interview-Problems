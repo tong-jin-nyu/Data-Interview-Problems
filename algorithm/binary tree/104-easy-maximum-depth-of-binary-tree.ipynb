{
 "cells": [
  {
   "cell_type": "markdown",
   "metadata": {},
   "source": [
    "# 104 Maximum Depth of Binary Tree\n",
    "\n",
    "Easy\n",
    "\n",
    "https://leetcode.cn/problems/maximum-depth-of-binary-tree/\n",
    "\n",
    "Created on: 7/28/2022\n",
    "\n",
    "Modified on: 8/24/2024\n",
    "\n",
    "---\n",
    "\n",
    "Given the `root` of a binary tree, return its maximum depth.\n",
    "\n",
    "A binary tree's maximum depth is the number of nodes along the longest path from the root node down to the farthest leaf node.\n",
    "\n",
    "**Example 1:**\n",
    "\n",
    "![Example 1](https://assets.leetcode.com/uploads/2020/11/26/tmp-tree.jpg)\n",
    "\n",
    "```\n",
    "Input: root = [3,9,20,null,null,15,7]\n",
    "Output: 3\n",
    "```\n",
    "\n",
    "**Example 2:**\n",
    "\n",
    "```\n",
    "Input: root = [1,null,2]\n",
    "Output: 2\n",
    "```\n",
    "\n",
    "**Constraints:**\n",
    "\n",
    "- The number of nodes in the tree is in the range `[0, 10000]`.\n",
    "- `-100 <= Node.val <= 100`\n",
    "\n",
    "---\n"
   ]
  },
  {
   "cell_type": "markdown",
   "metadata": {},
   "source": [
    "### Solution"
   ]
  },
  {
   "cell_type": "code",
   "execution_count": 16,
   "metadata": {},
   "outputs": [],
   "source": [
    "# Top-down\n",
    "from typing import Optional\n",
    "\n",
    "\n",
    "class TreeNode:\n",
    "    def __init__(self, val=0, left=None, right=None):\n",
    "        self.val = val\n",
    "        self.left = left\n",
    "        self.right = right\n",
    "\n",
    "\n",
    "class Solution:\n",
    "\n",
    "    def maxDepth(self, root: Optional[TreeNode]) -> int:\n",
    "        output = set()\n",
    "\n",
    "        def searchDepth(node: TreeNode, depth: int) -> int:\n",
    "            \n",
    "            if not node:\n",
    "                return\n",
    "            if not node.left and not node.right:\n",
    "                output.add(depth)\n",
    "\n",
    "            searchDepth(node.left, depth + 1)\n",
    "            searchDepth(node.right, depth + 1)\n",
    "\n",
    "        searchDepth(root, 1)\n",
    "        return max(output)\n"
   ]
  },
  {
   "cell_type": "code",
   "execution_count": 18,
   "metadata": {},
   "outputs": [],
   "source": [
    "# Bottom-up\n",
    "from typing import Optional\n",
    "\n",
    "\n",
    "class TreeNode:\n",
    "    def __init__(self, val=0, left=None, right=None):\n",
    "        self.val = val\n",
    "        self.left = left\n",
    "        self.right = right\n",
    "\n",
    "\n",
    "class Solution:\n",
    "\n",
    "    def maxDepth(self, root: Optional[TreeNode]) -> int:\n",
    "        if not root:\n",
    "            return 0\n",
    "        left_depth = self.maxDepth(root.left)\n",
    "        right_depth = self.maxDepth(root.right)\n",
    "        return max(left_depth, right_depth) + 1\n"
   ]
  },
  {
   "cell_type": "code",
   "execution_count": 19,
   "metadata": {},
   "outputs": [
    {
     "name": "stdout",
     "output_type": "stream",
     "text": [
      "    1\n",
      "   / \\\n",
      "  2   5\n",
      " / \\\n",
      "3   4\n"
     ]
    },
    {
     "data": {
      "text/plain": [
       "3"
      ]
     },
     "execution_count": 19,
     "metadata": {},
     "output_type": "execute_result"
    }
   ],
   "source": [
    "from drawtree import draw_level_order\n",
    "\n",
    "\n",
    "# Test\n",
    "root = TreeNode(1)\n",
    "root.left = TreeNode(2)\n",
    "root.left.left = TreeNode(3)\n",
    "root.left.right = TreeNode(4)\n",
    "root.right = TreeNode(5)\n",
    "draw_level_order('[1, 2, 5, 3, 4]')\n",
    "\n",
    "test = Solution()\n",
    "test.maxDepth(root)"
   ]
  },
  {
   "cell_type": "markdown",
   "metadata": {},
   "source": [
    "---"
   ]
  },
  {
   "cell_type": "markdown",
   "metadata": {},
   "source": [
    "### Explanation\n",
    "\n",
    "![bottom-up](https://pic.leetcode-cn.com/Figures/binary_tree/bottom_up/Slide25.png)"
   ]
  },
  {
   "cell_type": "markdown",
   "metadata": {},
   "source": [
    "# Java - DFS\n",
    "\n",
    "``` Java\n",
    "/**\n",
    " * Definition for a binary tree node.\n",
    " * public class TreeNode {\n",
    " *     int val;\n",
    " *     TreeNode left;\n",
    " *     TreeNode right;\n",
    " *     TreeNode() {}\n",
    " *     TreeNode(int val) { this.val = val; }\n",
    " *     TreeNode(int val, TreeNode left, TreeNode right) {\n",
    " *         this.val = val;\n",
    " *         this.left = left;\n",
    " *         this.right = right;\n",
    " *     }\n",
    " * }\n",
    " */\n",
    "class Solution {\n",
    "    public int maxDepth(TreeNode root) {\n",
    "        if (root == null) {\n",
    "            return 0;\n",
    "        } else {\n",
    "            int leftHeight = maxDepth(root.left);\n",
    "            int rightHeigh = maxDepth(root.right);\n",
    "            return 1 + Math.max(leftHeight, rightHeigh);\n",
    "        }\n",
    "    }\n",
    "}\n",
    "```"
   ]
  },
  {
   "cell_type": "code",
   "execution_count": null,
   "metadata": {},
   "outputs": [],
   "source": []
  }
 ],
 "metadata": {
  "kernelspec": {
   "display_name": "Python 3.9.4 64-bit",
   "language": "python",
   "name": "python3"
  },
  "language_info": {
   "codemirror_mode": {
    "name": "ipython",
    "version": 3
   },
   "file_extension": ".py",
   "mimetype": "text/x-python",
   "name": "python",
   "nbconvert_exporter": "python",
   "pygments_lexer": "ipython3",
   "version": "3.9.4"
  },
  "orig_nbformat": 2,
  "vscode": {
   "interpreter": {
    "hash": "fc8814d95e3bb7c7d620345642206f617029e5ce3d5941736e486cd8ca8f4058"
   }
  }
 },
 "nbformat": 4,
 "nbformat_minor": 2
}
