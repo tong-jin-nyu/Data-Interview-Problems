{
 "cells": [
  {
   "cell_type": "markdown",
   "metadata": {},
   "source": [
    "# 101 Symmetric Tree\n",
    "\n",
    "Easy\n",
    "\n",
    "https://leetcode-cn.com/problems/symmetric-tree/\n",
    "\n",
    "Created on: 11/15/2021\n",
    "\n",
    "Modified on: 7/28/2022\n",
    "\n",
    "---\n",
    "\n",
    "Given the `root` of a binary tree, check whether it is a mirror of itself (i.e. symmetric around its center).\n",
    "\n",
    "**Example 1:**\n",
    "\n",
    "![Example 1](https://assets.leetcode.com/uploads/2021/02/19/symtree1.jpg)\n",
    "\n",
    "```\n",
    "Input: root = [1, 2, 2, 3, 4, 4, 3]\n",
    "Output: True\n",
    "```\n",
    "\n",
    "**Example 2:**\n",
    "\n",
    "![Example 2](https://assets.leetcode.com/uploads/2021/02/19/symtree2.jpg)\n",
    "\n",
    "```\n",
    "Input: root = [1, 2, 2, null, 3, null, 3]\n",
    "Output: False\n",
    "```\n",
    "\n",
    "**Example 3:**\n",
    "\n",
    "```\n",
    "Input: root = []\n",
    "Output: []\n",
    "```\n",
    "\n",
    "**Constraints:**\n",
    "\n",
    "- The number of nodes in the tree is in the range `[0, 1000]`.\n",
    "- `-100 <= Node.val <= 100`\n",
    "\n",
    "**Follow up**: Could you solve it both recursively and iteratively?\n",
    "\n",
    "---\n"
   ]
  },
  {
   "cell_type": "markdown",
   "metadata": {},
   "source": [
    "### Solution"
   ]
  },
  {
   "cell_type": "code",
   "execution_count": 9,
   "metadata": {},
   "outputs": [],
   "source": [
    "# Update: 7/28/2022\n",
    "from typing import List\n",
    "\n",
    "\n",
    "class TreeNode():\n",
    "\n",
    "    def __init__(self, val=0, left=None, right=None):\n",
    "        self.val = val\n",
    "        self.left = left\n",
    "        self.right = right\n",
    "\n",
    "\n",
    "class Solution:\n",
    "\n",
    "    def isSymmetric(self, root: TreeNode) -> bool:\n",
    "        def compare(left_node, right_node):\n",
    "            if not left_node and not right_node:\n",
    "                return True\n",
    "            if not left_node or not right_node:\n",
    "                return False\n",
    "            return left_node.val == right_node.val and compare(\n",
    "                left_node.left, right_node.right) and compare(\n",
    "                left_node.right, right_node.left)\n",
    "        \n",
    "        return compare(root.left, root.right)\n"
   ]
  },
  {
   "cell_type": "code",
   "execution_count": 11,
   "metadata": {},
   "outputs": [
    {
     "name": "stdout",
     "output_type": "stream",
     "text": [
      "      1\n",
      "     / \\\n",
      "    /   \\\n",
      "   /     \\\n",
      "  2       2\n",
      " / \\     / \\\n",
      "3   4   4   3\n",
      "\n",
      " Is Symmetric?\n",
      " True\n"
     ]
    }
   ],
   "source": [
    "from drawtree import draw_level_order\n",
    "\n",
    "# Test\n",
    "root = [1, 2, 2, 3, 4, 4, 3]\n",
    "root = TreeNode(1)\n",
    "root.left = TreeNode(2)\n",
    "root.right = TreeNode(2)\n",
    "root.left.left = TreeNode(3)\n",
    "root.left.right = TreeNode(4)\n",
    "root.right.left = TreeNode(4)\n",
    "root.right.right = TreeNode(3)\n",
    "draw_level_order('[1, 2, 2, 3, 4, 4, 3]')\n",
    "\n",
    "test = Solution()\n",
    "print('\\n Is Symmetric?\\n', test.isSymmetric(root))\n"
   ]
  },
  {
   "cell_type": "markdown",
   "metadata": {},
   "source": [
    "### Explanation"
   ]
  },
  {
   "cell_type": "markdown",
   "metadata": {},
   "source": [
    "---"
   ]
  }
 ],
 "metadata": {
  "kernelspec": {
   "display_name": "Python 3.9.4 64-bit",
   "language": "python",
   "name": "python3"
  },
  "language_info": {
   "codemirror_mode": {
    "name": "ipython",
    "version": 3
   },
   "file_extension": ".py",
   "mimetype": "text/x-python",
   "name": "python",
   "nbconvert_exporter": "python",
   "pygments_lexer": "ipython3",
   "version": "3.9.4"
  },
  "orig_nbformat": 2,
  "vscode": {
   "interpreter": {
    "hash": "fc8814d95e3bb7c7d620345642206f617029e5ce3d5941736e486cd8ca8f4058"
   }
  }
 },
 "nbformat": 4,
 "nbformat_minor": 2
}
