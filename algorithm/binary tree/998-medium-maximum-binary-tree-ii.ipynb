{
 "cells": [
  {
   "cell_type": "markdown",
   "metadata": {},
   "source": [
    "# 998 Maximum Binary Tree II\n",
    "\n",
    "Medium\n",
    "\n",
    "https://leetcode.cn/problems/maximum-binary-tree-ii/\n",
    "\n",
    "Created on: 8/29/2022\n",
    "\n",
    "Modified on: 8/29/2022\n",
    "\n",
    "---\n",
    "\n",
    "A maximum tree is a tree where every node has a value greater than any other value in its subtree.\n",
    "\n",
    "You are given the `root` of a maximum binary tree and an integer `val`.\n",
    "\n",
    "Just as in the previous problem, the given tree was constructed from a list `a` (`root = Construct(a)`) recursively with the following `Construct(a)` routine:\n",
    "\n",
    "- If `a` is empty, return `null`.\n",
    "- Otherwise, let `a[i]` be the largest element of `a`. Create a `root` node with the value `a[i]`.\n",
    "- The left child of `root` will be `Construct([a[0], a[1], ..., a[i - 1]])`.\n",
    "- The right child of `root` will be `Construct([a[i + 1], a[i + 2], ..., a[a.length - 1]])`.\n",
    "- Return `root`.\n",
    "\n",
    "Note that we were not given `a` directly, only a root node `root = Construct(a)`.\n",
    "\n",
    "Suppose `b` is a copy of `a` with the value `val` appended to it. It is guaranteed that `b` has unique values.\n",
    "\n",
    "Return `Construct(a)`.\n",
    "\n",
    "**Example 1:**\n",
    "\n",
    "![Example 1](https://assets.leetcode.com/uploads/2021/08/09/maxtree1.JPG)\n",
    "\n",
    "```\n",
    "Input: root = [4,1,3,null,null,2], val = 5\n",
    "Output: [5,4,null,1,3,null,null,2]\n",
    "Explanation: a = [1,4,2,3], b = [1,4,2,3,5]\n",
    "```\n",
    "\n",
    "**Example 2:**\n",
    "\n",
    "![Example 2](https://assets.leetcode.com/uploads/2021/08/09/maxtree21.JPG)\n",
    "\n",
    "```\n",
    "Input: root = [5,2,4,null,1], val = 3\n",
    "Output: [5,2,4,null,1,null,3]\n",
    "Explanation: a = [2,1,5,4], b = [2,1,5,4,3]\n",
    "```\n",
    "\n",
    "**Example 3:**\n",
    "\n",
    "![Example 3](https://assets.leetcode.com/uploads/2021/08/09/maxtree3.JPG)\n",
    "\n",
    "```\n",
    "Input: root = [5,2,3,null,1], val = 4\n",
    "Output: [5,2,4,null,1,3]\n",
    "Explanation: a = [2,1,5,3], b = [2,1,5,3,4]\n",
    "```\n",
    "\n",
    "**Constraints:**\n",
    "\n",
    "- The number of nodes in the tree is in the range `[1, 100]`.\n",
    "- 1 <= `Node.val` <= 100\n",
    "- All the values of the tree are unique.\n",
    "- 1 <= val <= 100\n",
    "\n",
    "---\n"
   ]
  },
  {
   "cell_type": "markdown",
   "metadata": {},
   "source": [
    "### Solution"
   ]
  },
  {
   "cell_type": "code",
   "execution_count": 3,
   "metadata": {},
   "outputs": [],
   "source": [
    "from lib2to3.pytree import Node\n",
    "from typing import Optional\n",
    "\n",
    "# Definition for a binary tree node.\n",
    "\n",
    "\n",
    "class TreeNode:\n",
    "    def __init__(self, val=0, left=None, right=None):\n",
    "        self.val = val\n",
    "        self.left = left\n",
    "        self.right = right\n",
    "\n",
    "\n",
    "class Solution:\n",
    "    def insertIntoMaxTree(self, root: Optional[TreeNode], val: int) -> Optional[TreeNode]:\n",
    "        parent, cur = None, root\n",
    "        while cur:\n",
    "            if val > cur.val:\n",
    "                # Add a parent node before root if val is greater than root.\n",
    "                if not parent:\n",
    "                    return TreeNode(val, root, None)\n",
    "                node = TreeNode(val, cur, None)\n",
    "                parent.right = node\n",
    "                return root\n",
    "            else:\n",
    "                parent = cur\n",
    "                cur = cur.right\n",
    "        # Add a new child node at the end if none of node is smaller than val.\n",
    "        parent.right = TreeNode(val)\n",
    "        return root"
   ]
  },
  {
   "cell_type": "code",
   "execution_count": 4,
   "metadata": {},
   "outputs": [
    {
     "data": {
      "text/plain": [
       "<__main__.TreeNode at 0x7fc681336e10>"
      ]
     },
     "execution_count": 4,
     "metadata": {},
     "output_type": "execute_result"
    }
   ],
   "source": [
    "test = Solution()\n",
    "root = TreeNode(4, TreeNode(2, None, TreeNode(1)), TreeNode(3))\n",
    "val = 5\n",
    "test.insertIntoMaxTree(root, val)"
   ]
  },
  {
   "cell_type": "markdown",
   "metadata": {},
   "source": [
    "---"
   ]
  }
 ],
 "metadata": {
  "kernelspec": {
   "display_name": "Python 3.7.6 ('base')",
   "language": "python",
   "name": "python3"
  },
  "language_info": {
   "codemirror_mode": {
    "name": "ipython",
    "version": 3
   },
   "file_extension": ".py",
   "mimetype": "text/x-python",
   "name": "python",
   "nbconvert_exporter": "python",
   "pygments_lexer": "ipython3",
   "version": "3.7.6"
  },
  "orig_nbformat": 2,
  "vscode": {
   "interpreter": {
    "hash": "01ef5fd295d2f06c799f887d3d5a0aa621984c826cc1e428ccbd852109f922c3"
   }
  }
 },
 "nbformat": 4,
 "nbformat_minor": 2
}
