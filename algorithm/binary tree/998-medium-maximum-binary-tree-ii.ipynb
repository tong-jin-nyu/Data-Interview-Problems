{
 "cells": [
  {
   "cell_type": "markdown",
   "metadata": {},
   "source": [
    "# 662 Maximum Width of Binary Tree\n",
    "\n",
    "Medium\n",
    "\n",
    "https://leetcode.cn/problems/maximum-width-of-binary-tree/\n",
    "\n",
    "Created on: 8/26/2022\n",
    "\n",
    "Modified on: 8/26/2022\n",
    "\n",
    "---\n",
    "\n",
    "Given the `root` of a binary tree, return the maximum width of the given tree.\n",
    "\n",
    "The maximum width of a tree is the maximum width among all levels.\n",
    "\n",
    "The width of one level is defined as the length between the end-nodes (the leftmost and rightmost non-null nodes), where the null nodes between the end-nodes that would be present in a complete binary tree extending down to that level are also counted into the width calculation.\n",
    "\n",
    "It is guaranteed that the answer will in the range of a 32-bit signed integer.\n",
    "\n",
    "**Example 1:**\n",
    "\n",
    "![Example 1](https://assets.leetcode.com/uploads/2021/05/03/width1-tree.jpg)\n",
    "\n",
    "```\n",
    "Input: root = [1,3,2,5,3,null,9]\n",
    "Output: 4\n",
    "Explanation: The maximum width exists in the third level with length 4 (5,3,null,9).\n",
    "```\n",
    "\n",
    "**Example 2:**\n",
    "\n",
    "![Example 2](https://assets.leetcode.com/uploads/2022/03/14/maximum-width-of-binary-tree-v3.jpg)\n",
    "\n",
    "```\n",
    "Input: root = [1,3,2,5,null,null,9,6,null,7]\n",
    "Output: 7\n",
    "Explanation: The maximum width exists in the fourth level with length 7 (6,null,null,null,null,null,7).\n",
    "```\n",
    "\n",
    "**Example 3:**\n",
    "\n",
    "![Example 3](https://assets.leetcode.com/uploads/2021/05/03/width3-tree.jpg)\n",
    "\n",
    "```\n",
    "Input: root = [1,3,2,5]\n",
    "Output: 2\n",
    "Explanation: The maximum width exists in the second level with length 2 (3,2).\n",
    "```\n",
    "\n",
    "**Constraints:**\n",
    "\n",
    "- The number of nodes in the tree is in the range `[1, 3000]`.\n",
    "- -100 <= `Node.val` <= 100\n",
    "\n",
    "---\n"
   ]
  },
  {
   "cell_type": "markdown",
   "metadata": {},
   "source": [
    "### Solution"
   ]
  },
  {
   "cell_type": "code",
   "execution_count": 1,
   "metadata": {},
   "outputs": [],
   "source": [
    "from typing import Optional, List\n",
    "\n",
    "\n",
    "# Definition for a binary tree node.\n",
    "class TreeNode:\n",
    "    def __init__(self, val=0, left=None, right=None):\n",
    "        self.val = val\n",
    "        self.left = left\n",
    "        self.right = right\n",
    "\n",
    "\n",
    "class Solution:\n",
    "    def widthOfBinaryTree(self, root: Optional[TreeNode]) -> int:\n",
    "        # Store level-wise width. The width of \"root\" is 1.\n",
    "        ans = 1\n",
    "        arr = [[root, 1]]\n",
    "        while arr:\n",
    "            tmp = []\n",
    "            for node, index in arr:\n",
    "                if node.left:\n",
    "                    tmp.append([node.left, index * 2])\n",
    "                if node.right:\n",
    "                    tmp.append([node.right, index * 2 + 1])\n",
    "            ans = max(ans, arr[-1][1] - arr[0][1] + 1)\n",
    "            arr = tmp\n",
    "        return ans\n"
   ]
  },
  {
   "cell_type": "code",
   "execution_count": 2,
   "metadata": {},
   "outputs": [
    {
     "data": {
      "text/plain": [
       "2"
      ]
     },
     "execution_count": 2,
     "metadata": {},
     "output_type": "execute_result"
    }
   ],
   "source": [
    "test = Solution()\n",
    "root = TreeNode(1, TreeNode(2, None, TreeNode(4)), TreeNode(3))\n",
    "test.widthOfBinaryTree(root)"
   ]
  },
  {
   "cell_type": "markdown",
   "metadata": {},
   "source": [
    "---"
   ]
  }
 ],
 "metadata": {
  "kernelspec": {
   "display_name": "Python 3.9.4 64-bit",
   "language": "python",
   "name": "python3"
  },
  "language_info": {
   "codemirror_mode": {
    "name": "ipython",
    "version": 3
   },
   "file_extension": ".py",
   "mimetype": "text/x-python",
   "name": "python",
   "nbconvert_exporter": "python",
   "pygments_lexer": "ipython3",
   "version": "3.9.4"
  },
  "orig_nbformat": 2,
  "vscode": {
   "interpreter": {
    "hash": "fc8814d95e3bb7c7d620345642206f617029e5ce3d5941736e486cd8ca8f4058"
   }
  }
 },
 "nbformat": 4,
 "nbformat_minor": 2
}
