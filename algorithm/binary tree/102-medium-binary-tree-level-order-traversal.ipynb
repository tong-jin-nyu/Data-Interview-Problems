{
 "cells": [
  {
   "cell_type": "markdown",
   "metadata": {},
   "source": [
    "# 102 Binary Tree Level Order Traversal\n",
    "\n",
    "Medium\n",
    "\n",
    "https://leetcode-cn.com/problems/binary-tree-level-order-traversal/\n",
    "\n",
    "Created on: 11/17/2021\n",
    "\n",
    "Modified on: 7/28/2022\n",
    "\n",
    "---\n",
    "\n",
    "Given the `root` of a binary tree, return the level order traversal of its nodes' values.\n",
    "\n",
    "For example, from left to right, level by level.\n",
    "\n",
    "**Example 1:**\n",
    "\n",
    "![Example 1](https://assets.leetcode.com/uploads/2021/02/19/tree1.jpg)\n",
    "\n",
    "```\n",
    "Input: root = [3, 9, 20, None, None, 15, 7]\n",
    "Output: [[3], [9, 20], [15, 7]]\n",
    "```\n",
    "\n",
    "**Example 2:**\n",
    "\n",
    "```\n",
    "Input: root = [1]\n",
    "Output: [[1]]\n",
    "```\n",
    "\n",
    "**Example 3:**\n",
    "\n",
    "```\n",
    "Input: root = 1]\n",
    "Output: []\n",
    "```\n",
    "\n",
    "**Constraints:**\n",
    "\n",
    "- The number of nodes in the tree is in the range `[0, 2000]`.\n",
    "- `-1000 <= Node.val <= 1000`\n",
    "\n",
    "---\n"
   ]
  },
  {
   "cell_type": "markdown",
   "metadata": {},
   "source": [
    "### Solution"
   ]
  },
  {
   "cell_type": "code",
   "execution_count": 1,
   "metadata": {},
   "outputs": [],
   "source": [
    "from typing import List\n",
    "from collections import deque\n",
    "\n",
    "class TreeNode():\n",
    "    def __init__(self, val=0, left=None, right=None):\n",
    "        self.val = val\n",
    "        self.left = left\n",
    "        self.right = right\n",
    "        \n",
    "\n",
    "class Solution:\n",
    "    '''Given the root of a binary tree, return the level order traversal of \n",
    "    its nodes' values.\n",
    "    '''\n",
    "    def levelOrder(self, root: TreeNode) -> List[List[int]]:\n",
    "        output = list()\n",
    "        \n",
    "        if root:\n",
    "            curr_lvl = deque([root])\n",
    "            next_lvl = deque()\n",
    "            lvl_output = list()\n",
    "\n",
    "            while curr_lvl:\n",
    "                node = curr_lvl.popleft()\n",
    "\n",
    "                if node:\n",
    "                    next_lvl.append(node.left)\n",
    "                    next_lvl.append(node.right)\n",
    "                    lvl_output.append(node.val)\n",
    "\n",
    "                if not curr_lvl:\n",
    "                    if lvl_output:\n",
    "                        output.append(lvl_output)\n",
    "                        lvl_output = list()\n",
    "                    curr_lvl.extend(next_lvl)\n",
    "                    next_lvl.clear()\n",
    "            \n",
    "        return output"
   ]
  },
  {
   "cell_type": "code",
   "execution_count": 6,
   "metadata": {},
   "outputs": [],
   "source": [
    "# Update: 7/28/2022\n",
    "from typing import List\n",
    "from collections import deque\n",
    "\n",
    "\n",
    "# Definition for a binary tree node.\n",
    "class TreeNode:\n",
    "    def __init__(self, val=0, left=None, right=None):\n",
    "        self.val = val\n",
    "        self.left = left\n",
    "        self.right = right\n",
    "\n",
    "\n",
    "class Solution:\n",
    "    def levelOrder(self, root: TreeNode) -> List[List[int]]:\n",
    "        result = list()\n",
    "\n",
    "        if not root:\n",
    "            return result\n",
    "\n",
    "        # Use a queue to store level-wide nodes, default\n",
    "        # with the root node.\n",
    "        # API: from collections import deque\n",
    "        # Methods:\n",
    "        #   append(x): add x to the right side of the deque.\n",
    "        #   popleft(): Remove and return an element from the\n",
    "        #              left side of the deque.\n",
    "        queue = deque([root])\n",
    "\n",
    "        # Maintain the queue by appending nodes in new levels\n",
    "        # and removing visited nodes.\n",
    "        while queue:\n",
    "\n",
    "            level_n = len(queue)  # Number of nodes in level\n",
    "            level_vals = list()\n",
    "\n",
    "            # For each node in the level, add its value to\n",
    "            # level-wide result and, if exists, append (sub)\n",
    "            # left and right nodes to the queue.\n",
    "            while level_n:\n",
    "                curr_node = queue.popleft()\n",
    "                level_vals.append(curr_node.val)\n",
    "                if curr_node.left:\n",
    "                    queue.append(curr_node.left)\n",
    "                if curr_node.right:\n",
    "                    queue.append(curr_node.right)\n",
    "                level_n -= 1\n",
    "\n",
    "            result.append(level_vals)\n",
    "\n",
    "        return result"
   ]
  },
  {
   "cell_type": "code",
   "execution_count": 9,
   "metadata": {},
   "outputs": [
    {
     "name": "stdout",
     "output_type": "stream",
     "text": [
      "    1\n",
      "   / \\\n",
      "  2   5\n",
      " / \\\n",
      "3   4\n"
     ]
    },
    {
     "data": {
      "text/plain": [
       "[[1], [2, 5], [3, 4]]"
      ]
     },
     "execution_count": 9,
     "metadata": {},
     "output_type": "execute_result"
    }
   ],
   "source": [
    "from drawtree import draw_level_order\n",
    "\n",
    "\n",
    "# Test\n",
    "root = TreeNode(1)\n",
    "root.left = TreeNode(2)\n",
    "root.left.left = TreeNode(3)\n",
    "root.left.right = TreeNode(4)\n",
    "root.right = TreeNode(5)\n",
    "draw_level_order('[1, 2, 5, 3, 4]')\n",
    "\n",
    "test = Solution()\n",
    "test.levelOrder(root)"
   ]
  },
  {
   "cell_type": "markdown",
   "metadata": {},
   "source": [
    "---"
   ]
  }
 ],
 "metadata": {
  "kernelspec": {
   "display_name": "Python 3.9.4 64-bit",
   "language": "python",
   "name": "python3"
  },
  "language_info": {
   "codemirror_mode": {
    "name": "ipython",
    "version": 3
   },
   "file_extension": ".py",
   "mimetype": "text/x-python",
   "name": "python",
   "nbconvert_exporter": "python",
   "pygments_lexer": "ipython3",
   "version": "3.9.4"
  },
  "orig_nbformat": 2,
  "vscode": {
   "interpreter": {
    "hash": "fc8814d95e3bb7c7d620345642206f617029e5ce3d5941736e486cd8ca8f4058"
   }
  }
 },
 "nbformat": 4,
 "nbformat_minor": 2
}
