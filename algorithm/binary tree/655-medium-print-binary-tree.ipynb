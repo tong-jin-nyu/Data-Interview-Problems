{
 "cells": [
  {
   "cell_type": "markdown",
   "metadata": {},
   "source": [
    "# 655 Print Binary Tree\n",
    "\n",
    "Medium\n",
    "\n",
    "https://leetcode.cn/problems/print-binary-tree/\n",
    "\n",
    "Created on: 8/21/2022\n",
    "\n",
    "Modified on: 8/21/2022\n",
    "\n",
    "---\n",
    "\n",
    "Given the `root` of a binary tree, construct a 0-indexed `m x n` string matrix `res` that represents a formatted layout of the tree. The formatted layout matrix should be constructed using the following rules:\n",
    "\n",
    "- The **height** of the tree is `height` and the number of rows `m` should be equal to `height + 1`.\n",
    "- The number of columns `n` should be equal to $2^{height+1} - 1$.\n",
    "- Place the root node in the middle of the top row (more formally, at location `res[0][(n-1)/2]`).\n",
    "- For each node that has been placed in the matrix at position `res[r][c]`, place its left child at `res[r+1][c-2^(height-r-1)]` and its right child at `res[r+1][c+2^(height-r-1)]`.\n",
    "- Continue this process until all the nodes in the tree have been placed.\n",
    "- Any empty cells should contain the empty string `''`.\n",
    "\n",
    "Return the constructed matrix `res`.\n",
    "\n",
    "**Example 1:**\n",
    "\n",
    "![Example 1](https://assets.leetcode.com/uploads/2021/05/03/print1-tree.jpg)\n",
    "\n",
    "```\n",
    "Input: root = [1,2]\n",
    "Output: \n",
    "[[\"\",\"1\",\"\"],\n",
    " [\"2\",\"\",\"\"]]\n",
    "```\n",
    "\n",
    "**Example 2:**\n",
    "\n",
    "![Example 2](https://assets.leetcode.com/uploads/2021/05/03/print2-tree.jpg)\n",
    "\n",
    "```\n",
    "Input: root = [1,2,3,null,4]\n",
    "Output: \n",
    "[[\"\",\"\",\"\",\"1\",\"\",\"\",\"\"],\n",
    " [\"\",\"2\",\"\",\"\",\"\",\"3\",\"\"],\n",
    " [\"\",\"\",\"4\",\"\",\"\",\"\",\"\"]]\n",
    "```\n",
    "\n",
    "**Constraints:**\n",
    "\n",
    "- The number of nodes in the tree is in the range `[1, 2^10]`.\n",
    "- -99 <= `Node.val` <= 99\n",
    "- The depth of the tree will be in the range `[1, 10]`.\n",
    "\n",
    "---\n"
   ]
  },
  {
   "cell_type": "markdown",
   "metadata": {},
   "source": [
    "### Solution"
   ]
  },
  {
   "cell_type": "code",
   "execution_count": 1,
   "metadata": {},
   "outputs": [],
   "source": [
    "from typing import Optional, List\n",
    "\n",
    "\n",
    "# Definition for a binary tree node.\n",
    "class TreeNode:\n",
    "    def __init__(self, val=0, left=None, right=None):\n",
    "        self.val = val\n",
    "        self.left = left\n",
    "        self.right = right\n",
    "\n",
    "\n",
    "class Solution:\n",
    "    def printTree(self, root: Optional[TreeNode]) -> List[List[str]]:\n",
    "        def calHeight(node: Optional[TreeNode]) -> int:\n",
    "            return max(calHeight(node.left) + 1 if node.left else 0,\n",
    "                       calHeight(node.right) + 1 if node.right else 0)\n",
    "        height = calHeight(root)\n",
    "\n",
    "        m = height + 1\n",
    "        n = 2 ** m - 1\n",
    "        ans = [[''] * n for _ in range(m)]\n",
    "\n",
    "        def dfs(node: Optional[TreeNode], r: int, c: int) -> None:\n",
    "            ans[r][c] = str(node.val)\n",
    "            if node.left:\n",
    "                dfs(node.left, r + 1, c - 2 ** (height - r - 1))\n",
    "            if node.right:\n",
    "                dfs(node.right, r + 1, c + 2 ** (height - r - 1))\n",
    "        dfs(root, 0, (n - 1) // 2)\n",
    "        return ans\n"
   ]
  },
  {
   "cell_type": "code",
   "execution_count": 3,
   "metadata": {},
   "outputs": [
    {
     "data": {
      "text/plain": [
       "[['', '', '', '1', '', '', ''],\n",
       " ['', '2', '', '', '', '3', ''],\n",
       " ['', '', '4', '', '', '', '']]"
      ]
     },
     "execution_count": 3,
     "metadata": {},
     "output_type": "execute_result"
    }
   ],
   "source": [
    "test = Solution()\n",
    "root = TreeNode(1, TreeNode(2, None, TreeNode(4)), TreeNode(3))\n",
    "test.printTree(root)"
   ]
  },
  {
   "cell_type": "markdown",
   "metadata": {},
   "source": [
    "---"
   ]
  }
 ],
 "metadata": {
  "kernelspec": {
   "display_name": "Python 3.7.6",
   "language": "python",
   "name": "python3"
  },
  "language_info": {
   "codemirror_mode": {
    "name": "ipython",
    "version": 3
   },
   "file_extension": ".py",
   "mimetype": "text/x-python",
   "name": "python",
   "nbconvert_exporter": "python",
   "pygments_lexer": "ipython3",
   "version": "3.7.6"
  },
  "orig_nbformat": 2,
  "vscode": {
   "interpreter": {
    "hash": "01ef5fd295d2f06c799f887d3d5a0aa621984c826cc1e428ccbd852109f922c3"
   }
  }
 },
 "nbformat": 4,
 "nbformat_minor": 2
}
