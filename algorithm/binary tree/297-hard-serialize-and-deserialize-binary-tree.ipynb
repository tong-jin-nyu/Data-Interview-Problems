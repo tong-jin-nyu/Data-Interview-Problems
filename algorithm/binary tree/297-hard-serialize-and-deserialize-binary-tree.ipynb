{
 "cells": [
  {
   "cell_type": "markdown",
   "metadata": {},
   "source": [
    "# 297 Serialize and Deserialize Binary Tree\n",
    "\n",
    "Hard\n",
    "\n",
    "https://leetcode.cn/problems/serialize-and-deserialize-binary-tree/\n",
    "\n",
    "Created on: 7/31/2022\n",
    "\n",
    "Modified on: 7/31/2022\n",
    "\n",
    "---\n",
    "\n",
    "Serialization is the precess of converting a data structure or object into a sequence of bits so that it can be stored in a file or memory buffer, or transmitted across a network connection link to be reconstructed later in the same or another computer environment.\n",
    "\n",
    "Design an algorithm to serialize and deserialize a binary tree. There is no restriction on how your serialization/deserialization algorithm should work. You just need to ensure that a binary tree can be serialized to a string and this string can be deserialized to the original tree structure.\n",
    "\n",
    "**Clarification:** The input/output format is the same as how LeetCode serialize a binary tree. You do not necessarily need to follow this format, so please be creative and come up with different approaches yourself.\n",
    "\n",
    "**Example 1:**\n",
    "\n",
    "![Example 1](https://assets.leetcode.com/uploads/2020/09/15/serdeser.jpg)\n",
    "\n",
    "```\n",
    "Input: root = [1,2,3,null,null,4,5]\n",
    "Output: [1,2,3,null,null,4,5]\n",
    "```\n",
    "\n",
    "**Example 2:**\n",
    "\n",
    "```\n",
    "Input: root = []\n",
    "Output: []\n",
    "```\n",
    "\n",
    "**Constraints:**\n",
    "\n",
    "- The number of nodes in the tree is in the range `[2, 10^4]`.\n",
    "- `-1000 <= Node.val <= 1000`\n",
    "\n",
    "---\n"
   ]
  },
  {
   "cell_type": "markdown",
   "metadata": {},
   "source": [
    "### Solution"
   ]
  },
  {
   "cell_type": "code",
   "execution_count": 2,
   "metadata": {},
   "outputs": [],
   "source": [
    "# Definition for a binary tree node.\n",
    "class TreeNode(object):\n",
    "    def __init__(self, x):\n",
    "        self.val = x\n",
    "        self.left = None\n",
    "        self.right = None\n",
    "        \n",
    "\n",
    "class Codec:\n",
    "\n",
    "    def serialize(self, root):\n",
    "        \"\"\"Encodes a tree to a single string.\n",
    "        \n",
    "        :type root: TreeNode\n",
    "        :rtype: str\n",
    "        \"\"\"\n",
    "        if not root:\n",
    "            return ''\n",
    "        ret = ''\n",
    "        queue = list()\n",
    "        queue.append(root)\n",
    "        while queue:\n",
    "            root = queue.pop(0)\n",
    "            if root:\n",
    "                ret += str(root.val)\n",
    "                queue.append(root.left)\n",
    "                queue.append(root.right)\n",
    "            else:\n",
    "                ret += '#'\n",
    "            ret += ','\n",
    "        return ret\n",
    "        \n",
    "\n",
    "    def deserialize(self, data):\n",
    "        \"\"\"Decodes your encoded data to tree.\n",
    "        \n",
    "        :type data: str\n",
    "        :rtype: TreeNode\n",
    "        \"\"\"\n",
    "        if not data:\n",
    "            return []\n",
    "        tree = data.split(',')\n",
    "        queue = list()\n",
    "        root = TreeNode(int(tree[0]))\n",
    "        queue.append(root)\n",
    "        index = 1\n",
    "        while queue:\n",
    "            node = queue.pop(0)\n",
    "            if node:\n",
    "                node.left = TreeNode(int(tree[index])) \\\n",
    "                    if tree[index] != '#' else None\n",
    "                node.right = TreeNode(int(tree[index + 1])) \\\n",
    "                    if tree[index + 1] != '#' else None\n",
    "                index += 2\n",
    "                queue.append(node.left)\n",
    "                queue.append(node.right)\n",
    "        return root\n",
    "\n",
    "        \n",
    "\n",
    "# Your Codec object will be instantiated and called as such:\n",
    "# ser = Codec()\n",
    "# deser = Codec()\n",
    "# ans = deser.deserialize(ser.serialize(root))\n"
   ]
  },
  {
   "cell_type": "code",
   "execution_count": 10,
   "metadata": {},
   "outputs": [
    {
     "name": "stdout",
     "output_type": "stream",
     "text": [
      "      3\n",
      "     / \\\n",
      "    /   \\\n",
      "   /     \\\n",
      "  5       1\n",
      " / \\     / \\\n",
      "6   2   0   8\n",
      "<__main__.TreeNode object at 0x7fb962112a50>\n",
      "3\n",
      "5\n",
      "6\n",
      "2\n",
      "1\n",
      "0\n",
      "8\n"
     ]
    }
   ],
   "source": [
    "from drawtree import draw_level_order\n",
    "\n",
    "def printTree(node):\n",
    "    if node:\n",
    "        print(node.val)\n",
    "        printTree(node.left)\n",
    "        printTree(node.right)\n",
    "\n",
    "\n",
    "# Test\n",
    "root = TreeNode(3)\n",
    "root.left = TreeNode(5)\n",
    "root.right = TreeNode(1)\n",
    "root.left.left = TreeNode(6)\n",
    "root.left.right = TreeNode(2)\n",
    "root.right.left = TreeNode(0)\n",
    "root.right.right = TreeNode(8)\n",
    "p = root.left.left\n",
    "q = root.left.right\n",
    "\n",
    "draw_level_order('[3,5,1,6,2,0,8]')\n",
    "ser = Codec()\n",
    "deser = Codec()\n",
    "ans = deser.deserialize(ser.serialize(root))\n",
    "print(ans)\n",
    "printTree(ans)"
   ]
  },
  {
   "cell_type": "markdown",
   "metadata": {},
   "source": [
    "---"
   ]
  }
 ],
 "metadata": {
  "kernelspec": {
   "display_name": "Python 3.7.6",
   "language": "python",
   "name": "python3"
  },
  "language_info": {
   "codemirror_mode": {
    "name": "ipython",
    "version": 3
   },
   "file_extension": ".py",
   "mimetype": "text/x-python",
   "name": "python",
   "nbconvert_exporter": "python",
   "pygments_lexer": "ipython3",
   "version": "3.7.6"
  },
  "orig_nbformat": 2,
  "vscode": {
   "interpreter": {
    "hash": "01ef5fd295d2f06c799f887d3d5a0aa621984c826cc1e428ccbd852109f922c3"
   }
  }
 },
 "nbformat": 4,
 "nbformat_minor": 2
}
