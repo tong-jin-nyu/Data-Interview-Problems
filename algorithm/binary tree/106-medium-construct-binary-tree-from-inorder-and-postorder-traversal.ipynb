{
 "cells": [
  {
   "cell_type": "markdown",
   "metadata": {},
   "source": [
    "# 106 Construct Binary Tree from Inorder and Postorder Traversal\n",
    "\n",
    "Medium\n",
    "\n",
    "https://leetcode.cn/problems/construct-binary-tree-from-inorder-and-postorder-traversal/\n",
    "\n",
    "Created on: 7/28/2022\n",
    "\n",
    "Modified on: 7/28/2022\n",
    "\n",
    "---\n",
    "\n",
    "Given two integer arrays `inorder` and `postorder` where `inorder` is the inorder traversal of a binary tree and `postorder` is the postorder traversal of the same tree, construct and return the binary tree.\n",
    "\n",
    "**Example 1:**\n",
    "\n",
    "![Example 1](https://assets.leetcode.com/uploads/2021/02/19/tree.jpg)\n",
    "\n",
    "```\n",
    "Input: inorder = [9,3,15,20,7], postorder = [9,15,7,20,3]\n",
    "Output: [3,9,20,null,null,15,7]\n",
    "```\n",
    "\n",
    "**Example 2:**\n",
    "\n",
    "```\n",
    "Input: inorder = [-1], postorder = [-1]\n",
    "Output: [-1]\n",
    "```\n",
    "\n",
    "**Constraints:**\n",
    "\n",
    "- 1 <= `inorder.length` <= 3000\n",
    "- `postorder.length == inorder.length`\n",
    "- -3000 <= `inorder[i], postorder[i]` <= 3000\n",
    "- `inorder` and `postorder` consist of unique values.\n",
    "- Each value of `postorder` also appears in `inorder`.\n",
    "- `inorder` is guaranteed to be the inorder traversal of the tree.\n",
    "- `postorder` is guaranteed to be the postorder traversal of the tree.\n",
    "\n",
    "---\n"
   ]
  },
  {
   "cell_type": "markdown",
   "metadata": {},
   "source": [
    "### Solution"
   ]
  },
  {
   "cell_type": "code",
   "execution_count": 11,
   "metadata": {},
   "outputs": [],
   "source": [
    "from typing import List, Optional\n",
    "\n",
    "\n",
    "class TreeNode:\n",
    "    def __init__(self, val=0, left=None, right=None):\n",
    "        self.val = val\n",
    "        self.left = left\n",
    "        self.right = right\n",
    "\n",
    "\n",
    "class Solution:\n",
    "    def buildTree(self, inorder: List[int], postorder: List[int]) -> Optional[TreeNode]:\n",
    "        def helper(in_left, in_right):\n",
    "            if in_left > in_right:\n",
    "                return\n",
    "\n",
    "            root_val = postorder.pop()\n",
    "            index = in_map[root_val]\n",
    "            root = TreeNode(root_val)\n",
    "            root.right = helper(index + 1, in_right)\n",
    "            root.left = helper(in_left, index - 1)\n",
    "            return root\n",
    "\n",
    "        n = len(inorder)\n",
    "        in_map = {val:i for i, val in enumerate(inorder)}\n",
    "        return helper(0, n - 1)"
   ]
  },
  {
   "cell_type": "code",
   "execution_count": 12,
   "metadata": {},
   "outputs": [
    {
     "name": "stdout",
     "output_type": "stream",
     "text": [
      "3\n",
      "9\n",
      "20\n",
      "15\n",
      "7\n"
     ]
    }
   ],
   "source": [
    "# Test\n",
    "inorder = [9, 3, 15, 20, 7]\n",
    "postorder = [9, 15, 7, 20, 3]\n",
    "\n",
    "test = Solution()\n",
    "root = test.buildTree(inorder, postorder)\n",
    "print(root.val)\n",
    "print(root.left.val)\n",
    "print(root.right.val)\n",
    "print(root.right.left.val)\n",
    "print(root.right.right.val)"
   ]
  },
  {
   "cell_type": "markdown",
   "metadata": {},
   "source": [
    "---"
   ]
  }
 ],
 "metadata": {
  "kernelspec": {
   "display_name": "Python 3.7.6",
   "language": "python",
   "name": "python3"
  },
  "language_info": {
   "codemirror_mode": {
    "name": "ipython",
    "version": 3
   },
   "file_extension": ".py",
   "mimetype": "text/x-python",
   "name": "python",
   "nbconvert_exporter": "python",
   "pygments_lexer": "ipython3",
   "version": "3.7.6"
  },
  "orig_nbformat": 2,
  "vscode": {
   "interpreter": {
    "hash": "01ef5fd295d2f06c799f887d3d5a0aa621984c826cc1e428ccbd852109f922c3"
   }
  }
 },
 "nbformat": 4,
 "nbformat_minor": 2
}
