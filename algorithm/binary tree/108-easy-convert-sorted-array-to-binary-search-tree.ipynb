{
 "cells": [
  {
   "cell_type": "markdown",
   "metadata": {},
   "source": [
    "# 108 Convert Sorted Array to Binary Search Tree\n",
    "\n",
    "Easy\n",
    "\n",
    "https://leetcode.cn/problems/convert-sorted-array-to-binary-search-tree/\n",
    "\n",
    "Created on: 9/6/2022\n",
    "\n",
    "Modified on: 9/6/2022\n",
    "\n",
    "---\n",
    "\n",
    "Given an integer array `nums` where the elements are sorted in ascending order, convert it to a height-balanced binary search tree.\n",
    "\n",
    "A height-balanced binary tree is a binary tree in which the depth of the two subtrees of every node never differs by more than one.\n",
    "\n",
    "**Example 1:**\n",
    "\n",
    "![Example 1](https://assets.leetcode.com/uploads/2021/02/18/btree1.jpg)\n",
    "\n",
    "```\n",
    "Input: nums = [-10,-3,0,5,9]\n",
    "Output: [0,-3,9,-10,null,5]\n",
    "Explanation: [0,-10,5,null,-3,null,9] is also accepted.\n",
    "```\n",
    "\n",
    "**Example 2:**\n",
    "\n",
    "![Example 2](https://assets.leetcode.com/uploads/2021/02/18/btree.jpg)\n",
    "\n",
    "```\n",
    "Input: nums = [1,3]\n",
    "Output: [3,1]\n",
    "Explanation: [1,null,3] and [3,1] are both height-balanced BSTs.\n",
    "```\n",
    "\n",
    "**Constraints:**\n",
    "\n",
    "- 1 <= `nums.length` <= 10000\n",
    "- -10^4 <= `nums[i]` <= 10^4\n",
    "- `nums` is sorted in a strictly increasing order.\n",
    "\n",
    "---\n"
   ]
  },
  {
   "cell_type": "markdown",
   "metadata": {},
   "source": [
    "### Solution"
   ]
  },
  {
   "cell_type": "code",
   "execution_count": 1,
   "metadata": {},
   "outputs": [],
   "source": [
    "from typing import List, Optional\n",
    "\n",
    "\n",
    "class TreeNode:\n",
    "    def __init__(self, val=0, left=None, right=None):\n",
    "        self.val = val\n",
    "        self.left = left\n",
    "        self.right = right\n",
    "\n",
    "\n",
    "class Solution:\n",
    "    def sortedArrayToBST(self, nums: List[int]) -> Optional[TreeNode]:\n",
    "        def solver(left, right):\n",
    "            if left > right:\n",
    "                return\n",
    "            mid = (left + right) // 2\n",
    "            root = TreeNode(nums[mid])\n",
    "            root.left = solver(left, mid - 1)\n",
    "            root.right = solver(mid + 1, right)\n",
    "            return root\n",
    "        return solver(0, len(nums) - 1)\n"
   ]
  },
  {
   "cell_type": "code",
   "execution_count": 2,
   "metadata": {},
   "outputs": [
    {
     "data": {
      "text/plain": [
       "<__main__.TreeNode at 0x7fc612727dd0>"
      ]
     },
     "execution_count": 2,
     "metadata": {},
     "output_type": "execute_result"
    }
   ],
   "source": [
    "# Test\n",
    "test = Solution()\n",
    "nums = [-10, -3, 0, 5, 9]\n",
    "test.sortedArrayToBST(nums)"
   ]
  },
  {
   "cell_type": "markdown",
   "metadata": {},
   "source": [
    "---"
   ]
  }
 ],
 "metadata": {
  "kernelspec": {
   "display_name": "Python 3.7.6",
   "language": "python",
   "name": "python3"
  },
  "language_info": {
   "codemirror_mode": {
    "name": "ipython",
    "version": 3
   },
   "file_extension": ".py",
   "mimetype": "text/x-python",
   "name": "python",
   "nbconvert_exporter": "python",
   "pygments_lexer": "ipython3",
   "version": "3.7.6"
  },
  "orig_nbformat": 2,
  "vscode": {
   "interpreter": {
    "hash": "01ef5fd295d2f06c799f887d3d5a0aa621984c826cc1e428ccbd852109f922c3"
   }
  }
 },
 "nbformat": 4,
 "nbformat_minor": 2
}
