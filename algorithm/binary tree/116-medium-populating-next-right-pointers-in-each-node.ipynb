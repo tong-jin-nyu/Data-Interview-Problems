{
 "cells": [
  {
   "cell_type": "markdown",
   "metadata": {},
   "source": [
    "# 116 Populating Next Right Pointers in Each Node\n",
    "\n",
    "Medium\n",
    "\n",
    "https://leetcode.cn/problems/populating-next-right-pointers-in-each-node/\n",
    "\n",
    "Created on: 7/29/2022\n",
    "\n",
    "Modified on: 7/29/2022\n",
    "\n",
    "---\n",
    "\n",
    "You are given a perfect binary tree where all leaves are on the same level, and every parent has two children. The binary tree has the following definition:\n",
    "\n",
    "```\n",
    "struct Node {\n",
    "    int val;\n",
    "    Node *left;\n",
    "    Node *right;\n",
    "    Node *next;\n",
    "}\n",
    "```\n",
    "\n",
    "Populate each next pointer to point to its next right node. If there is no next right node, the next pointer should be set to `NULL`.\n",
    "\n",
    "Initially, all next pointers are set to `NULL`.\n",
    "\n",
    "**Example 1:**\n",
    "\n",
    "![Example 1](https://assets.leetcode.com/uploads/2019/02/14/116_sample.png)\n",
    "\n",
    "```\n",
    "Input: root = [1,2,3,4,5,6,7]\n",
    "Output: [1,#,2,3,#,4,5,6,7,#]\n",
    "Explanation: Given the above perfect binary tree (Figure A), your function should populate each next pointer to point to its next right node, just like in Figure B. The serialized output is in level order as connected by the next pointers, with '#' signifying the end of each level.\n",
    "```\n",
    "\n",
    "**Example 2:**\n",
    "\n",
    "```\n",
    "Input: root = []\n",
    "Output: []\n",
    "```\n",
    "\n",
    "**Constraints:**\n",
    "\n",
    "- The number of nodes in the tree is in the range `[0, 2^12 - 1]`.\n",
    "- `-1000 <= Node.val <= 1000`\n",
    "\n",
    "**Follow up:**\n",
    "\n",
    "- You may only use constant extra space.\n",
    "- The recursive approach is fine. You may assume implicit stack space does not count as extra space for this problem.\n",
    "\n",
    "---\n"
   ]
  },
  {
   "cell_type": "markdown",
   "metadata": {},
   "source": [
    "### Solution"
   ]
  },
  {
   "cell_type": "code",
   "execution_count": 1,
   "metadata": {},
   "outputs": [],
   "source": [
    "from typing import Optional\n",
    "\n",
    "\n",
    "# Definition for a Node.\n",
    "class Node:\n",
    "    def __init__(\n",
    "        self, \n",
    "        val: int = 0, \n",
    "        left: 'Node' = None, \n",
    "        right: 'Node' = None, \n",
    "        next: 'Node' = None):\n",
    "        self.val = val\n",
    "        self.left = left\n",
    "        self.right = right\n",
    "        self.next = next\n",
    "\n",
    "\n",
    "class Solution:\n",
    "    def connect(self, root: 'Optional[Node]') -> 'Optional[Node]':\n",
    "        if not root:\n",
    "            return root\n",
    "        queue = list([root])\n",
    "        while queue:\n",
    "            size = len(queue)\n",
    "            while size:\n",
    "                node = queue.pop(0)\n",
    "                if size > 1:\n",
    "                    node.next = queue[0]\n",
    "                if node.left:\n",
    "                    queue.append(node.left)\n",
    "                if node.right:\n",
    "                    queue.append(node.right)\n",
    "                size -= 1\n",
    "            \n",
    "        return root\n"
   ]
  },
  {
   "cell_type": "markdown",
   "metadata": {},
   "source": [
    "---"
   ]
  }
 ],
 "metadata": {
  "kernelspec": {
   "display_name": "Python 3.9.4 64-bit",
   "language": "python",
   "name": "python3"
  },
  "language_info": {
   "codemirror_mode": {
    "name": "ipython",
    "version": 3
   },
   "file_extension": ".py",
   "mimetype": "text/x-python",
   "name": "python",
   "nbconvert_exporter": "python",
   "pygments_lexer": "ipython3",
   "version": "3.9.4"
  },
  "orig_nbformat": 2,
  "vscode": {
   "interpreter": {
    "hash": "fc8814d95e3bb7c7d620345642206f617029e5ce3d5941736e486cd8ca8f4058"
   }
  }
 },
 "nbformat": 4,
 "nbformat_minor": 2
}
