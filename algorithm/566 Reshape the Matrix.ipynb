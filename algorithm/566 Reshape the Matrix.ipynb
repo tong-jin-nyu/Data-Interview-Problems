{
 "cells": [
  {
   "cell_type": "markdown",
   "metadata": {},
   "source": [
    "created on: 11/11/2021\n",
    "\n",
    "updated on: 11/11/2021"
   ]
  },
  {
   "cell_type": "markdown",
   "metadata": {},
   "source": [
    "# Leetcode Notes\n",
    "\n",
    "## Algorithm\n",
    "\n",
    "---\n",
    "\n",
    "## 566 Reshape the Matrix\n",
    "\n",
    "Easy"
   ]
  },
  {
   "cell_type": "markdown",
   "metadata": {},
   "source": [
    "Source: [Leetcode](https://leetcode-cn.com/problems/reshape-the-matrix/)\n",
    "\n",
    "### Instructions\n",
    "\n",
    "In MATLAB, there is a handy function called `reshape` which can reshape an `m * n` matrix into a new one with a different size `r * c` keeping its original data.\n",
    "\n",
    "You are given an `m * n` matrix, `mat`, and two integer, `r` and `c`, representing the number of rows and the number of columns of the wanted reshaped matrix.\n",
    "\n",
    "The reshaped matrix should be filled with all the elements of the original matrix in the same row-traversing order as they were.\n",
    "\n",
    "If the `reshape` operation with given parameters is possible and legal, output the new reshaped matrix; Otherwise, output the original matrix.\n",
    "\n",
    "**Example 1:**\n",
    "\n",
    "![Example 1](https://assets.leetcode.com/uploads/2021/04/24/reshape1-grid.jpg)\n",
    "\n",
    "```\n",
    "Input: mat = [[1, 2], [3, 4]], r = 1, c = 4\n",
    "Output: [[1, 2, 3, 4]]\n",
    "```\n",
    "\n",
    "**Example 2:**\n",
    "\n",
    "![Example 2](https://assets.leetcode.com/uploads/2021/04/24/reshape2-grid.jpg)\n",
    "\n",
    "```\n",
    "Input: mat = [[1, 2], [3, 4]], r = 2, c = 4\n",
    "Output: [[1, 2], [3, 4]]\n",
    "```\n",
    "\n",
    "**Constraints:**\n",
    "- `m == mat.length`\n",
    "- `n == mat[i].length`\n",
    "- `1 <= m, n <= 100\n",
    "- `-1000 <= mat[i][j] <= 1000`\n",
    "- `1 <= r, c <= 300`"
   ]
  },
  {
   "cell_type": "markdown",
   "metadata": {},
   "source": [
    "### Solution"
   ]
  },
  {
   "cell_type": "code",
   "execution_count": 25,
   "metadata": {},
   "outputs": [],
   "source": [
    "a = [1, 2]\n",
    "b = [[3, 4]]\n",
    "b.append(a)\n"
   ]
  },
  {
   "cell_type": "code",
   "execution_count": 26,
   "metadata": {},
   "outputs": [
    {
     "data": {
      "text/plain": [
       "[[3, 4], [1, 2]]"
      ]
     },
     "execution_count": 26,
     "metadata": {},
     "output_type": "execute_result"
    }
   ],
   "source": [
    "b"
   ]
  },
  {
   "cell_type": "code",
   "execution_count": 35,
   "metadata": {},
   "outputs": [
    {
     "name": "stdout",
     "output_type": "stream",
     "text": [
      "[[1, 2, 3, 4]]\n"
     ]
    }
   ],
   "source": [
    "from typing import List\n",
    "\n",
    "\n",
    "class Solution:\n",
    "    def matrixReshape(self, mat: List[List[int]], r: int, c: int) -> List[List[int]]:\n",
    "        m = len(mat)\n",
    "        n = len(mat[0])\n",
    "        if m * n != r * c:\n",
    "            return mat\n",
    "        else:\n",
    "            pc = 0\n",
    "            origin = list()\n",
    "            output = list()\n",
    "            output_r = list()\n",
    "            for row in mat:\n",
    "                for val in row:\n",
    "                    origin.append(val)\n",
    "            for i in range(m * n):\n",
    "                output_r.append(origin[i])\n",
    "                if pc == c - 1:\n",
    "                    output.append(output_r)\n",
    "                    output_r = list()\n",
    "                    pc = 0\n",
    "                else:\n",
    "                    pc += 1\n",
    "        return output\n",
    "\n",
    "# Test\n",
    "test = Solution()\n",
    "mat = [[1, 2], [3, 4]]\n",
    "r = 1\n",
    "c = 4\n",
    "print(test.matrixReshape(mat, r, c))\n"
   ]
  },
  {
   "cell_type": "markdown",
   "metadata": {},
   "source": [
    "### Explanation\n",
    "\n"
   ]
  },
  {
   "cell_type": "markdown",
   "metadata": {},
   "source": [
    "---"
   ]
  }
 ],
 "metadata": {
  "interpreter": {
   "hash": "dca0ade3e726a953b501b15e8e990130d2b7799f14cfd9f4271676035ebe5511"
  },
  "kernelspec": {
   "display_name": "Python 3.7.4 64-bit (conda)",
   "name": "python3"
  },
  "language_info": {
   "codemirror_mode": {
    "name": "ipython",
    "version": 3
   },
   "file_extension": ".py",
   "mimetype": "text/x-python",
   "name": "python",
   "nbconvert_exporter": "python",
   "pygments_lexer": "ipython3",
   "version": "3.7.6"
  },
  "orig_nbformat": 2
 },
 "nbformat": 4,
 "nbformat_minor": 2
}
