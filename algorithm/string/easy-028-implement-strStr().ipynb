{
 "cells": [
  {
   "cell_type": "markdown",
   "metadata": {},
   "source": [
    "# 028 Implement strStr()\n",
    "\n",
    "Easy\n",
    "\n",
    "Created on: 7/5/2020\n",
    "\n",
    "Modified on: 7/3/2022\n",
    "\n",
    "---\n",
    "\n",
    "Implement `strStr()`.\n",
    "\n",
    "Return the index of the first occurrence of needle in haystack, or -1 if needle is not part of haystack.\n",
    "\n",
    "**Example 1:**\n",
    "\n",
    "```\n",
    "Input: haystack = \"hello\", needle = \"ll\"\n",
    "Output: 2\n",
    "```\n",
    "\n",
    "**Example 2:**\n",
    "\n",
    "```\n",
    "Input: haystack = \"aaaaa\", needle = \"bba\"\n",
    "Output: -1\n",
    "```\n",
    "\n",
    "**Clarification:**\n",
    "\n",
    "What should we return when `needle` is an empty string? This is a great question to ask during an interview.\n",
    "\n",
    "For the purpose of this problem, we will return 0 when `needle` is an empty string. This is consistent to C's `strstr()` and Java's `indexOf()`.\n",
    "\n",
    "---\n"
   ]
  },
  {
   "cell_type": "markdown",
   "metadata": {},
   "source": [
    "### Solution 1 (using built-in function index)"
   ]
  },
  {
   "cell_type": "code",
   "execution_count": 3,
   "metadata": {},
   "outputs": [
    {
     "name": "stdout",
     "output_type": "stream",
     "text": [
      "2\n",
      "-1\n",
      "0\n"
     ]
    }
   ],
   "source": [
    "# Implement strStr()\n",
    "class Solution:\n",
    "    def strStr(haystack, needle):\n",
    "        if needle not in haystack:\n",
    "            return -1\n",
    "        else:\n",
    "            return haystack.index(needle)\n",
    "        \n",
    "# Test\n",
    "haystack = \"hello\"\n",
    "needle = \"ll\"\n",
    "print(Solution.strStr(haystack, needle))\n",
    "\n",
    "haystack = \"hello, hello!\"\n",
    "needle = \"hehe\"\n",
    "print(Solution.strStr(haystack, needle))\n",
    "\n",
    "haystack = \"test\"\n",
    "needle = \"\"\n",
    "print(Solution.strStr(haystack, needle))"
   ]
  },
  {
   "cell_type": "markdown",
   "metadata": {},
   "source": [
    "### Solution 2 (using while loop)"
   ]
  },
  {
   "cell_type": "code",
   "execution_count": 2,
   "metadata": {},
   "outputs": [
    {
     "name": "stdout",
     "output_type": "stream",
     "text": [
      "2\n",
      "-1\n",
      "0\n"
     ]
    }
   ],
   "source": [
    "# Implement strStr()\n",
    "class Solution:\n",
    "    def strStr(haystack, needle):\n",
    "        if not needle:\n",
    "            return 0\n",
    "        \n",
    "        idx1 = idx2 = 0 \n",
    "        \n",
    "        while idx1 < len(haystack):\n",
    "            if haystack[idx1] == needle[idx2]:\n",
    "                if idx2 == len(needle) - 1: # Check if idx2 is the last index\n",
    "                    return idx1 - idx2 # Return the index of the first \n",
    "                                       # occurrence.\n",
    "                else:\n",
    "                    idx2 += 1\n",
    "            else:\n",
    "                idx1 = idx1 - idx2 # Go back to the first occurrence\n",
    "                idx2 = 0 # Start over\n",
    "            \n",
    "            idx1 += 1\n",
    "            \n",
    "        return -1\n",
    "    \n",
    "# Test\n",
    "haystack = \"hello\"\n",
    "needle = \"ll\"\n",
    "print(Solution.strStr(haystack, needle))\n",
    "\n",
    "haystack = \"hello, hello!\"\n",
    "needle = \"hehe\"\n",
    "print(Solution.strStr(haystack, needle))\n",
    "\n",
    "haystack = \"test\"\n",
    "needle = \"\"\n",
    "print(Solution.strStr(haystack, needle))\n"
   ]
  },
  {
   "cell_type": "markdown",
   "metadata": {},
   "source": [
    "### Explanation"
   ]
  },
  {
   "cell_type": "markdown",
   "metadata": {},
   "source": [
    "Python has two built-in functions, `find` and `index`, that can be used to locate the first occurrence of two strings. However, this is definitely not what an interviewer would like to see. To survive a tech interview, we'll need to provide the full logic behind the `strStr()` function.\n",
    "\n",
    "The question asks us to return the index of the first occurrence of two strings, or `-1`. Therefore, we need to create two index variables, `idx1` and `idx2`, to serve as pointers. In this way, we can refer to different index values in a string by changing the corresponding index variable.\n",
    "\n",
    "Then, we need to understand the logic. There are two functions we need to realize:\n",
    "  1. Test if the first index in the `haystack` is equal to the first index in the `needle`. If so, move to the next value by increasing the values of two index variables by 1. Then, test if the new value in the `haystack` is equal to the new value in the `needle`. If so, move to the next. If not, return to the last index position where two values are equal.\n",
    "  \n",
    "  2. Determine if the index variable of the `needle`, `idx2`, has moved to the last position. If so, this means that we have found the first occurrence of the `needle` string in `haystack`. We can then return the index position of first occurrence.\n",
    "  \n",
    "Here is an example.\n",
    "\n",
    "``` python\n",
    "haystack = \"welcome\"\n",
    "needle = \"lc\"\n",
    "len(haystack) == 7\n",
    "len(needle) == 2\n",
    "\n",
    "# haystack index\n",
    "w e l c o m e   (string)\n",
    "0 1 2 3 4 5 6   (idx1)\n",
    "\n",
    "# needle index\n",
    "l c             (string)\n",
    "0 1             (idx2)\n",
    "\n",
    "# START loop 1 ----------------------------------\n",
    "idx1 = idx2 = 0\n",
    "haystack[idx1] <- \"w\"\n",
    "needle[idx2] <- \"l\"\n",
    "\n",
    "while idx1 < len(haystack)            <- True\n",
    "    if haystack[idx1] == needle[idx2] <- False\n",
    "    else:\n",
    "        idx1 = idx1 - idx2            <- idx1 = 0\n",
    "        idx2 = 0                      <- idx2 = 0\n",
    "    idx1 += 1                         <- idx1 = 1\n",
    "# END loop 1 ------------------------------------\n",
    "# START loop 2 ----------------------------------\n",
    "idx1 == 1\n",
    "idx2 == 0\n",
    "haystack[idx1] <- \"e\"\n",
    "needle[idx2] <- \"l\"\n",
    "\n",
    "while idx1 < len(haystack)            <- True\n",
    "    if haystack[idx1] == needle[idx2] <- False\n",
    "    else:\n",
    "        idx1 = idx1 - idx2            <- idx1 = 1\n",
    "        idx2 = 0                      <- idx2 = 0\n",
    "    idx1 += 1                         <- idx1 = 2\n",
    "# END loop 2 ------------------------------------\n",
    "# START loop 3 ----------------------------------\n",
    "idx1 == 2\n",
    "idx2 == 0\n",
    "haystack[idx1] <- \"l\"\n",
    "needle[idx2] <- \"l\"\n",
    "\n",
    "while idx1 < len(haystack)            <- True\n",
    "    if haystack[idx1] == needle[idx2] <- True\n",
    "        if idx2 == len(needle) - 1    <- False\n",
    "        else:\n",
    "            idx2 += 1                 <- idx2 = 1\n",
    "    idx1 += 1                         <- idx1 = 3\n",
    "# END loop 3 ------------------------------------\n",
    "# START loop 4 ----------------------------------\n",
    "idx1 == 3\n",
    "idx2 == 1\n",
    "haystack[idx1] <- \"c\"\n",
    "needle[idx2] <- \"c\"\n",
    "\n",
    "while idx1 < len(haystack)            <- True\n",
    "    if haystack[idx1] == needle[idx2] <- True\n",
    "        if idx2 == len(needle) - 1    <- True\n",
    "            return idx1 - idx2        <- return 3 - 1 = 2\n",
    "# END loop 4 ------------------------------------\n",
    "```"
   ]
  }
 ],
 "metadata": {
  "kernelspec": {
   "display_name": "Python 3.7.6 ('base')",
   "language": "python",
   "name": "python3"
  },
  "language_info": {
   "codemirror_mode": {
    "name": "ipython",
    "version": 3
   },
   "file_extension": ".py",
   "mimetype": "text/x-python",
   "name": "python",
   "nbconvert_exporter": "python",
   "pygments_lexer": "ipython3",
   "version": "3.7.6"
  },
  "vscode": {
   "interpreter": {
    "hash": "01ef5fd295d2f06c799f887d3d5a0aa621984c826cc1e428ccbd852109f922c3"
   }
  }
 },
 "nbformat": 4,
 "nbformat_minor": 2
}
