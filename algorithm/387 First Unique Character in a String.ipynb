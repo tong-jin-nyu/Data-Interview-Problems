{
 "cells": [
  {
   "cell_type": "markdown",
   "metadata": {},
   "source": [
    "created on: 11/12/2021\n",
    "\n",
    "updated on: 11/12/2021"
   ]
  },
  {
   "cell_type": "markdown",
   "metadata": {},
   "source": [
    "# Leetcode Notes\n",
    "\n",
    "## Algorithm\n",
    "\n",
    "---\n",
    "\n",
    "## 387 First Unique Character in a String\n",
    "\n",
    "Easy"
   ]
  },
  {
   "cell_type": "markdown",
   "metadata": {},
   "source": [
    "Source: [Leetcode](https://leetcode-cn.com/problems/first-unique-character-in-a-string/)\n",
    "\n",
    "### Instructions\n",
    "\n",
    "Given a string `s`, *find the first non-repeating character in it and return its index.* If it does not exist, return `-1`.\n",
    "\n",
    "**Example 1:**\n",
    "```\n",
    "Input: s = \"leetcode\"\n",
    "Output: 0\n",
    "```\n",
    "\n",
    "**Example 2:**\n",
    "```\n",
    "Input: s = \"loveleetcode\"\n",
    "Output: 2\n",
    "```\n",
    "\n",
    "**Example 3:**\n",
    "```\n",
    "Input: s = \"aabb\"\n",
    "Output: -1\n",
    "```\n",
    "\n",
    "**Constraints:**\n",
    "- $1 \\leq s.length \\leq 10^{5}$\n",
    "- `s` consists of only lowercase English letters."
   ]
  },
  {
   "cell_type": "markdown",
   "metadata": {},
   "source": [
    "### Solution 1"
   ]
  },
  {
   "cell_type": "code",
   "execution_count": 2,
   "metadata": {},
   "outputs": [
    {
     "name": "stdout",
     "output_type": "stream",
     "text": [
      "0\n",
      "CPU times: user 130 µs, sys: 64 µs, total: 194 µs\n",
      "Wall time: 183 µs\n"
     ]
    }
   ],
   "source": [
    "class Solution:\n",
    "    def firstUniqChar(self, s: str) -> int:\n",
    "        repeats = list()\n",
    "        for i, val in enumerate(s):\n",
    "            if i == len(s) - 1:\n",
    "                if val not in repeats:\n",
    "                    return i\n",
    "                else:\n",
    "                    return -1\n",
    "            else:\n",
    "                if val in s[i+1:]:\n",
    "                    repeats.append(val)\n",
    "                else:\n",
    "                    if val not in repeats:\n",
    "                        return i\n",
    "                        break\n",
    "\n",
    "\n",
    "test = Solution()\n",
    "%time print(test.firstUniqChar(\"adjective\"))"
   ]
  },
  {
   "cell_type": "markdown",
   "metadata": {},
   "source": [
    "### Explanation\n",
    "\n",
    "Generally, we can check if a character is repeated by testing if it is included in the remaining string. However, the tricky part of this problem is that all repeated letters are considered repeating. For example, the second `a` in `aabb` does not exist in the remaining string `bb`. However, `a` is still considered repeating. Therefore, we need to record repeated characters aside and check during the iteration process."
   ]
  },
  {
   "cell_type": "markdown",
   "metadata": {},
   "source": [
    "---"
   ]
  }
 ],
 "metadata": {
  "interpreter": {
   "hash": "dca0ade3e726a953b501b15e8e990130d2b7799f14cfd9f4271676035ebe5511"
  },
  "kernelspec": {
   "display_name": "Python 3.7.4 64-bit (conda)",
   "name": "python3"
  },
  "language_info": {
   "codemirror_mode": {
    "name": "ipython",
    "version": 3
   },
   "file_extension": ".py",
   "mimetype": "text/x-python",
   "name": "python",
   "nbconvert_exporter": "python",
   "pygments_lexer": "ipython3",
   "version": "3.7.6"
  },
  "orig_nbformat": 2
 },
 "nbformat": 4,
 "nbformat_minor": 2
}
