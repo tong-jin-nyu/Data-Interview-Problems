{
 "cells": [
  {
   "cell_type": "markdown",
   "metadata": {},
   "source": [
    "# 083 Remove Duplicates from Sorted List\n",
    "\n",
    "Easy\n",
    "\n",
    "Created on: 11/14/2021\n",
    "\n",
    "Modified on: 6/28/2022\n",
    "\n",
    "---\n",
    "\n",
    "Given the `head` of a sorted linked list, *delete all duplicates such that each element appears only once*. Return the linked list **sorted** as well.\n",
    "\n",
    "**Example 1:**\n",
    "![Example 1](https://assets.leetcode.com/uploads/2021/01/04/list1.jpg)\n",
    "\n",
    "```\n",
    "Input: head = [1,1,2]\n",
    "Output: [1,2]\n",
    "```\n",
    "\n",
    "**Example 2:**\n",
    "![Example 2](https://assets.leetcode.com/uploads/2021/01/04/list2.jpg)\n",
    "\n",
    "```\n",
    "Input: head = [1,1,2,3,3]\n",
    "Output: [1,2,3]\n",
    "```\n",
    "\n",
    "**Constraints:**\n",
    "- The number of nodes in the list is in range `[0, 300]`.\n",
    "- `-100 <= Node.val <= 100`\n",
    "- The list is guaranteed to be **sorted** in ascending order.\n",
    "\n",
    "---\n"
   ]
  },
  {
   "cell_type": "code",
   "execution_count": 17,
   "metadata": {},
   "outputs": [
    {
     "name": "stdout",
     "output_type": "stream",
     "text": [
      "1\n",
      "2\n",
      "3\n"
     ]
    }
   ],
   "source": [
    "class ListNode:\n",
    "    def __init__(self, val=0, next=None):\n",
    "        self.val = val\n",
    "        self.next = next\n",
    "\n",
    "    def print_list(self):\n",
    "        current = self\n",
    "        while(current):\n",
    "            print(current.val)\n",
    "            current = current.next\n",
    "\n",
    "def create_list(nums):\n",
    "    output = ListNode(nums[0])\n",
    "    temp = output\n",
    "    for i in range(1, len(nums)):\n",
    "        temp.next = ListNode(nums[i])\n",
    "        temp = temp.next\n",
    "\n",
    "    return output\n",
    "\n",
    "\n",
    "class Solution:\n",
    "    def deleteDuplicates(self, head: ListNode) -> ListNode:\n",
    "        if not head:\n",
    "            return head\n",
    "        else:\n",
    "            output = ListNode(head.val)\n",
    "            temp = output\n",
    "\n",
    "            while head:\n",
    "                if head.val == temp.val:\n",
    "                    head = head.next\n",
    "                else:\n",
    "                    temp.next = ListNode(head.val)\n",
    "                    temp = temp.next\n",
    "\n",
    "            return output\n",
    "\n",
    "# Test\n",
    "head = create_list([1,1,2,3,3])\n",
    "test = Solution()\n",
    "test.deleteDuplicates(head).print_list()\n"
   ]
  }
 ],
 "metadata": {
  "kernelspec": {
   "display_name": "Python 3.9.4 64-bit",
   "language": "python",
   "name": "python3"
  },
  "language_info": {
   "codemirror_mode": {
    "name": "ipython",
    "version": 3
   },
   "file_extension": ".py",
   "mimetype": "text/x-python",
   "name": "python",
   "nbconvert_exporter": "python",
   "pygments_lexer": "ipython3",
   "version": "3.9.4"
  },
  "orig_nbformat": 2,
  "vscode": {
   "interpreter": {
    "hash": "fc8814d95e3bb7c7d620345642206f617029e5ce3d5941736e486cd8ca8f4058"
   }
  }
 },
 "nbformat": 4,
 "nbformat_minor": 2
}
