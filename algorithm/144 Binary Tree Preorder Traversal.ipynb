{
 "cells": [
  {
   "cell_type": "markdown",
   "metadata": {},
   "source": [
    "created on: 11/14/2021\n",
    "\n",
    "updated on: 11/15/2021"
   ]
  },
  {
   "cell_type": "markdown",
   "metadata": {},
   "source": [
    "# Leetcode Notes\n",
    "\n",
    "## Algorithm\n",
    "\n",
    "---\n",
    "\n",
    "## 144 Binary Tree Preorder Traversal\n",
    "\n",
    "Easy"
   ]
  },
  {
   "cell_type": "markdown",
   "metadata": {},
   "source": [
    "Source: [Leetcode](https://leetcode-cn.com/problems/binary-tree-preorder-traversal/)\n",
    "\n",
    "### Instructions\n",
    "\n",
    "Given the `root` of a binary tree, return the preorder traversal of its nodes' values.\n",
    "\n",
    "**Example 1:**\n",
    "![Example 1](https://assets.leetcode.com/uploads/2020/09/15/inorder_1.jpg)\n",
    "```\n",
    "Input: root = [1, null, 2, 3]\n",
    "Output: [1, 2, 3]\n",
    "```\n",
    "\n",
    "**Example 2:**\n",
    "```\n",
    "Input: root = []\n",
    "Output: []\n",
    "```\n",
    "\n",
    "**Example 3:**\n",
    "```\n",
    "Input: root = [1]\n",
    "Output: [1]\n",
    "```\n",
    "\n",
    "**Example 4:**\n",
    "![Example 4](https://assets.leetcode.com/uploads/2020/09/15/inorder_5.jpg)\n",
    "```\n",
    "Input: root = [1, 2]\n",
    "Output: [1, 2]\n",
    "```\n",
    "\n",
    "**Example 5:**\n",
    "![Example 5](https://assets.leetcode.com/uploads/2020/09/15/inorder_4.jpg)\n",
    "```\n",
    "Input: root = [1, null, 2]\n",
    "Output: [1, 2]\n",
    "```\n",
    "\n",
    "**Constraints:**\n",
    "- The number of nodes in the tree is in the range `[0, 100]`.\n",
    "- `-100 <= Node.val <= 100`"
   ]
  },
  {
   "cell_type": "markdown",
   "metadata": {},
   "source": [
    "### Solution"
   ]
  },
  {
   "cell_type": "code",
   "execution_count": 7,
   "metadata": {},
   "outputs": [],
   "source": [
    "from typing import List\n",
    "from drawtree import draw_level_order\n",
    "\n",
    "\n",
    "class TreeNode():\n",
    "\n",
    "    def __init__(self, val=0, left=None, right=None):\n",
    "        self.val = val\n",
    "        self.left = left\n",
    "        self.right = right\n",
    "\n",
    "class Solution:\n",
    "    '''Given the root of a binary tree, return the preorder traversal \n",
    "    of its nodes' values\n",
    "    '''\n",
    "    def preorderTraversal(self, root: TreeNode) -> List[int]:\n",
    "        output = list()\n",
    "\n",
    "        def traversal(root: TreeNode) -> None:\n",
    "            '''Define a recursive traversal\n",
    "            '''\n",
    "            if root == None:\n",
    "                return\n",
    "            else:\n",
    "                output.append(root.val)\n",
    "                traversal(root.left)\n",
    "                traversal(root.right)\n",
    "\n",
    "        traversal(root)\n",
    "        return output\n"
   ]
  },
  {
   "cell_type": "code",
   "execution_count": 11,
   "metadata": {},
   "outputs": [
    {
     "name": "stdout",
     "output_type": "stream",
     "text": [
      "      1\n",
      "     / \\\n",
      "    /   \\\n",
      "   /     \\\n",
      "  5       2\n",
      " / \\     / \\\n",
      "3   6   30  4\n",
      "The preorder traversal of the above tree is:\n",
      " [1, 5, 3, 6, 2, 30, 4]\n"
     ]
    }
   ],
   "source": [
    "# Test\n",
    "root = TreeNode(1)\n",
    "root.left = TreeNode(5)\n",
    "root.left.left = TreeNode(3)\n",
    "root.left.right = TreeNode(6)\n",
    "root.right = TreeNode(2)\n",
    "root.right.left = TreeNode(30)\n",
    "root.right.right = TreeNode(4)\n",
    "\n",
    "draw_level_order('{1, 5, 2, 3, 6, 30, 4}')\n",
    "\n",
    "test = Solution()\n",
    "print('The preorder traversal of the above tree is:\\n', \n",
    "test.preorderTraversal(root))"
   ]
  },
  {
   "cell_type": "markdown",
   "metadata": {},
   "source": [
    "### Explanation"
   ]
  },
  {
   "cell_type": "markdown",
   "metadata": {},
   "source": [
    "---"
   ]
  }
 ],
 "metadata": {
  "interpreter": {
   "hash": "dca0ade3e726a953b501b15e8e990130d2b7799f14cfd9f4271676035ebe5511"
  },
  "kernelspec": {
   "display_name": "Python 3.7.4 64-bit (conda)",
   "name": "python3"
  },
  "language_info": {
   "codemirror_mode": {
    "name": "ipython",
    "version": 3
   },
   "file_extension": ".py",
   "mimetype": "text/x-python",
   "name": "python",
   "nbconvert_exporter": "python",
   "pygments_lexer": "ipython3",
   "version": "3.7.6"
  },
  "orig_nbformat": 2
 },
 "nbformat": 4,
 "nbformat_minor": 2
}
