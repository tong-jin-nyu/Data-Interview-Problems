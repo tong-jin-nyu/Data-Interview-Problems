{
 "cells": [
  {
   "cell_type": "markdown",
   "metadata": {},
   "source": [
    "created on: 11/14/2021\n",
    "\n",
    "updated on: 11/14/2021"
   ]
  },
  {
   "cell_type": "markdown",
   "metadata": {},
   "source": [
    "# Leetcode Notes\n",
    "\n",
    "## Algorithm\n",
    "\n",
    "---\n",
    "\n",
    "## 144 Binary Tree Preorder Traversal\n",
    "\n",
    "Easy"
   ]
  },
  {
   "cell_type": "markdown",
   "metadata": {},
   "source": [
    "Source: [Leetcode](https://leetcode-cn.com/problems/binary-tree-preorder-traversal/)\n",
    "\n",
    "### Instructions\n",
    "\n",
    "Given the `root` of a binary tree, return the preorder traversal of its nodes' values.\n",
    "\n",
    "**Example 1:**\n",
    "\n",
    "```\n",
    "Input: \n",
    "[\"MyQueue\", \"push\", \"push\", \"peak\", \"pop\", \"empty\"]\n",
    "[       [],    [1],    [2],     [],    [],      []]\n",
    "Output: \n",
    "[null, null, null, 1, 1, false]\n",
    "Explanation:\n",
    "MyQueue myQueue = new MyQueue();\n",
    "myQueue.push(1); // queue is: [1]\n",
    "myQueue.push(2); // queue is: [1, 2] (leftmost is front of the queue)\n",
    "myQueue.peek(); // return 1\n",
    "myQueue.pop(); // return 1, queue is [2]\n",
    "myQueue.empty(); // refurn false\n",
    "```\n",
    "\n",
    "**Constraints:**\n",
    "- `1 <= x <= 9`\n",
    "- At most `100` calls will be made to `push`, `peek`, `pop`, and `empty`.\n",
    "- All the calls to `pop` and `peek` are valid."
   ]
  },
  {
   "cell_type": "markdown",
   "metadata": {},
   "source": [
    "### Solution"
   ]
  },
  {
   "cell_type": "code",
   "execution_count": 8,
   "metadata": {},
   "outputs": [
    {
     "name": "stdout",
     "output_type": "stream",
     "text": [
      "1\n",
      "True\n"
     ]
    }
   ],
   "source": [
    "class MyQueue:\n",
    "\n",
    "    def __init__(self):\n",
    "        self.stack = list()\n",
    "\n",
    "    def push(self, x: int) -> None:\n",
    "        self.stack.append(x)\n",
    "\n",
    "    def pop(self) -> int:\n",
    "        if self.stack:\n",
    "            top = self.stack[0]\n",
    "            self.stack.pop(0)\n",
    "            return top\n",
    "        else:\n",
    "            return []\n",
    "        \n",
    "    def peek(self) -> int:\n",
    "        return self.stack[0]\n",
    "\n",
    "    def empty(self) -> bool:\n",
    "        if self.stack:\n",
    "            return False\n",
    "        else:\n",
    "            return True\n",
    "\n",
    "# Test\n",
    "test = MyQueue()\n",
    "test.push(1)\n",
    "print(test.pop())\n",
    "print(test.empty())\n"
   ]
  },
  {
   "cell_type": "markdown",
   "metadata": {},
   "source": [
    "### Explanation\n",
    "\n"
   ]
  },
  {
   "cell_type": "markdown",
   "metadata": {},
   "source": [
    "---"
   ]
  }
 ],
 "metadata": {
  "interpreter": {
   "hash": "dca0ade3e726a953b501b15e8e990130d2b7799f14cfd9f4271676035ebe5511"
  },
  "kernelspec": {
   "display_name": "Python 3.7.4 64-bit (conda)",
   "name": "python3"
  },
  "language_info": {
   "codemirror_mode": {
    "name": "ipython",
    "version": 3
   },
   "file_extension": ".py",
   "mimetype": "text/x-python",
   "name": "python",
   "nbconvert_exporter": "python",
   "pygments_lexer": "ipython3",
   "version": "3.7.6"
  },
  "orig_nbformat": 2
 },
 "nbformat": 4,
 "nbformat_minor": 2
}
