{
 "cells": [
  {
   "cell_type": "markdown",
   "metadata": {},
   "source": [
    "# Leetcode Notes"
   ]
  },
  {
   "cell_type": "markdown",
   "metadata": {},
   "source": [
    "## 26. Remove Duplicates from Sorted Array\n",
    "\n",
    "## 07/01/2020"
   ]
  },
  {
   "cell_type": "markdown",
   "metadata": {},
   "source": [
    "### Problem Name\n",
    "\n",
    "[Remove Duplicates from Sorted Array](https://leetcode.com/problems/remove-duplicates-from-sorted-array/)\n",
    "\n",
    "### Difficulty\n",
    "\n",
    "Easy\n",
    "\n",
    "### Instructions\n",
    "\n",
    "Given a sorted array `nums`, remove the duplicates **in-place** such that each element appear only *once* and return the new length.\n",
    "\n",
    "Do not allocate extra space for another array, you must do this by **modifying the input array** **in-place** with O(1) extra memory.\n",
    "\n",
    "**Example 1:**\n",
    "\n",
    "```\n",
    "Given nums = [1,1,2],\n",
    "\n",
    "Your function should return length = 2, with the first two elements of nums being 1 and 2 respectively.\n",
    "\n",
    "It doesn't matter what you leave beyong the returned length.\n",
    "```\n",
    "\n",
    "**Example 2:**\n",
    "\n",
    "```\n",
    "Given nums = [0,0,1,1,1,2,2,3,3,4],\n",
    "\n",
    "Your function should return length = 5, with the first five elements of nums being modified to 0, 1, 2, 3, and 4 respectively.\n",
    "\n",
    "It doesn't matter what values are set beyond the returned length.\n",
    "```\n",
    "\n",
    "**Clarification:**\n",
    "\n",
    "Confused why the returned value is an integer but your answer is an array?\n",
    "\n",
    "Note that the input array is passed in by reference, which means modification to the input array will be known to the caller as well.\n",
    "\n",
    "Internally you can think of this:\n",
    "\n",
    "```\n",
    "// nums is passed in by reference. (i.e., without making a copy)\n",
    "int len = removeDuplicates(nums);\n",
    "\n",
    "// any modification to nums in your function would be known by the caller.\n",
    "// using the length returned by your function, it prints the first len elements.\n",
    "for (int i = 0; i < len; i++) {\n",
    "    print(nums[i]);\n",
    "}\n",
    "```"
   ]
  },
  {
   "cell_type": "markdown",
   "metadata": {},
   "source": [
    "### Solution"
   ]
  },
  {
   "cell_type": "code",
   "execution_count": 1,
   "metadata": {},
   "outputs": [
    {
     "output_type": "stream",
     "name": "stdout",
     "text": [
      "2\n5\n"
     ]
    }
   ],
   "source": [
    "# Remove duplicates from a sorted array\n",
    "class Solution:\n",
    "    def removeDuplicates(nums):\n",
    "        count = 1\n",
    "        index = 0\n",
    "        for index in range(1, len(nums)):\n",
    "            if nums[index] != nums[index-1]:\n",
    "                nums[count] = nums[index]\n",
    "                count += 1       \n",
    "        return count\n",
    "\n",
    "# Test\n",
    "nums = [1,1,2]\n",
    "print(Solution.removeDuplicates(nums))\n",
    "\n",
    "nums = [0,0,1,1,1,2,2,3,3,4]\n",
    "print(Solution.removeDuplicates(nums))"
   ]
  },
  {
   "cell_type": "markdown",
   "metadata": {},
   "source": [
    "### Explanation"
   ]
  },
  {
   "cell_type": "markdown",
   "metadata": {},
   "source": [
    "It's easy to create an extra array and store values pulled from the original array. However, this will increase the complexity as it adds an additional memory space for storing the extra array. Therefore, we have to manipulate the array by itself.\n",
    "\n",
    "To solve this, I used a classic method called two pointers. The logic is to refresh the array each time when the value of the element is larger than the previous ones. \n",
    "\n",
    "First, we create two variables as pointers: `count` and `index`. `count` is used to count the length of the final output array. It is also used as a pointer for refreshing the array. `index` is used for loop indexing.\n",
    "\n",
    "Second, we use a for-in loop to visit elements in the array, starting from the second. When an element is not equal (higher because the array is sorted) to the previous one, we refresh the array using `count` as index. In this way, we can store the first unique element by default and the next unique one on the second, and the next one on the third, ...\n",
    "\n",
    "After that, we need to increase the `count` by 1. Finally, we output the `count` as the length of the final array."
   ]
  }
 ],
 "metadata": {
  "kernelspec": {
   "display_name": "Python 3",
   "language": "python",
   "name": "python3"
  },
  "language_info": {
   "codemirror_mode": {
    "name": "ipython",
    "version": 3
   },
   "file_extension": ".py",
   "mimetype": "text/x-python",
   "name": "python",
   "nbconvert_exporter": "python",
   "pygments_lexer": "ipython3",
   "version": "3.7.4-final"
  }
 },
 "nbformat": 4,
 "nbformat_minor": 2
}