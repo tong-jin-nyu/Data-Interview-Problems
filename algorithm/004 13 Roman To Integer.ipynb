{
 "cells": [
  {
   "cell_type": "markdown",
   "metadata": {},
   "source": [
    "# Leetcode Notes"
   ]
  },
  {
   "cell_type": "markdown",
   "metadata": {},
   "source": [
    "## 13. Roman to Integer\n",
    "\n",
    "## 06/01/2020"
   ]
  },
  {
   "cell_type": "markdown",
   "metadata": {},
   "source": [
    "### Problem Name\n",
    "\n",
    "[Roman to Integer](https://leetcode.com/problems/roman-to-integer/)\n",
    "\n",
    "### Difficulty\n",
    "\n",
    "Easy\n",
    "\n",
    "### Instructions\n",
    "\n",
    "Roman numerals are represented by seven different symbols: `I`, `V`, `X`, `L`, `C`, `D` and `M`.\n",
    "\n",
    "```\n",
    "Symbol  Value\n",
    "I       1\n",
    "V       5\n",
    "X       10\n",
    "L       50\n",
    "C       100\n",
    "D       500\n",
    "M       1000\n",
    "```\n",
    "\n",
    "For example, two is written as `II` in Roman numeral, just two one's added together. The number twenty-seven is written as `XXVII`, which is `XX` + `V` + `II`.\n",
    "\n",
    "Roman numerals are usually written largest to smallest from left to right. Hwoever, the numeral for four is not `IIII`. Instead, the number four is written as `IV`. Because the one is before the five we subtract it making four. The same principle applies to the number nine, which is written as `IX`. There are six instances where subtraction is used:\n",
    "\n",
    "`I` can be placed before `V` (5) and `X` (10) to make 4 and 9.\n",
    "\n",
    "`X` can be placed before `L` (50) and `C` (100) to make 40 and 90.\n",
    "\n",
    "`C` can be placed before `D` (500) and `M` (1000) to make 400 and 900.\n",
    "\n",
    "Given a roman numeral, convert it to an integer. Input is guaranteed to be within the range from 1 to 3999."
   ]
  },
  {
   "cell_type": "markdown",
   "metadata": {},
   "source": [
    "### Solution"
   ]
  },
  {
   "cell_type": "code",
   "execution_count": 2,
   "metadata": {},
   "outputs": [
    {
     "name": "stdout",
     "output_type": "stream",
     "text": [
      "3\n",
      "58\n",
      "1994\n"
     ]
    }
   ],
   "source": [
    "class Solution:\n",
    "    def romanToInt(s: str) -> int:\n",
    "        dictionary = {\n",
    "            'I': 1,\n",
    "            'V': 5,\n",
    "            'X': 10,\n",
    "            'L': 50,\n",
    "            'C': 100,\n",
    "            'D': 500,\n",
    "            'M': 1000,\n",
    "            'a': 4,\n",
    "            'b': 9,\n",
    "            'c': 40,\n",
    "            'd': 90,\n",
    "            'e': 400,\n",
    "            'f': 900\n",
    "        }\n",
    "        if 'IV' in s:\n",
    "            s = s.replace('IV', 'a')\n",
    "        if 'IX' in s:\n",
    "            s = s.replace('IX', 'b')\n",
    "        if 'XL' in s:\n",
    "            s = s.replace('XL', 'c')\n",
    "        if 'XC' in s:\n",
    "            s = s.replace('XC', 'd')\n",
    "        if 'CD' in s:\n",
    "            s = s.replace('CD', 'e')\n",
    "        if 'CM' in s:\n",
    "            s = s.replace('CM', 'f')\n",
    "        output = 0\n",
    "        for idx in range(len(s)):\n",
    "            index = str(s[idx])\n",
    "            output += dictionary[index]\n",
    "        return output\n",
    "    \n",
    "# Test\n",
    "print(Solution.romanToInt('III'))\n",
    "print(Solution.romanToInt('LVIII'))\n",
    "print(Solution.romanToInt('MCMXCIV'))"
   ]
  },
  {
   "cell_type": "markdown",
   "metadata": {},
   "source": [
    "### Explanation"
   ]
  },
  {
   "cell_type": "markdown",
   "metadata": {},
   "source": [
    "There are two methods: \n",
    "\n",
    "1. Per the instruction, we need to subtract values if we encounter one of those six instances. This method involves addition as default and subtraction when special cases apply.\n",
    "\n",
    "2. Addition only. I select this method becaue it simplifies the logic and decrease the overall complexity. \n",
    "\n",
    "First, a string can be sliced because it is an array. A string of roman numerals can be splitted and sliced into a group of single letters. The base logic is to write a for-in loop to add all letters together.\n",
    "\n",
    "However, there are exceptions. In our cases, there are six special instances where subtraction is involved. Each instance is a combination of two Roman letters. If we still apply the for-in loop, we will get a wrong answer. To solve this, we can replace those instances with single dummy letters. For example, we can define `d = 9` and assign every `XL` to `d` if `XL` exists in our string. \n",
    "\n",
    "With special instances settled, we can now add up all letters, one by one, using a for-in loop."
   ]
  }
 ],
 "metadata": {
  "kernelspec": {
   "display_name": "Python 3.8.2 64-bit",
   "language": "python",
   "name": "python38264bit7e3c702f16764767914e1c3a23341f94"
  },
  "language_info": {
   "codemirror_mode": {
    "name": "ipython",
    "version": 3
   },
   "file_extension": ".py",
   "mimetype": "text/x-python",
   "name": "python",
   "nbconvert_exporter": "python",
   "pygments_lexer": "ipython3",
   "version": "3.8.2"
  }
 },
 "nbformat": 4,
 "nbformat_minor": 2
}
