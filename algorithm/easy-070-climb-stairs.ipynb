{
 "cells": [
  {
   "cell_type": "markdown",
   "metadata": {},
   "source": [
    "# 070 Climb Stairs\n",
    "Easy\n",
    "\n",
    "Created on: 6/28/2022\n",
    "\n",
    "Modified on: 6/28/2022\n",
    "\n",
    "---\n",
    "\n",
    "You are climbing a staircase. It takes `n` steps to reach the top.\n",
    "\n",
    "Each time you can either climb `1` or `2` steps. In how many distinct ways can you climb to the top?\n",
    "\n",
    "**Example 1:**\n",
    "\n",
    "``` text\n",
    "Input: n = 2\n",
    "Output: 2\n",
    "Explanation: There are two ways to climb to the top.\n",
    "1. 1 step + 1 step\n",
    "2. 2 steps\n",
    "```\n",
    "\n",
    "**Example 2:**\n",
    "\n",
    "``` text\n",
    "Input: n = 3\n",
    "Output: 3\n",
    "Explanation: There are three ways to climb to the top.\n",
    "1. 1 step + 1 step + 1 step\n",
    "2. 1 step + 2 steps\n",
    "3. 2 steps + 1 step\n",
    "```\n",
    "\n",
    "**Constraints:**\n",
    "\n",
    "- 1 <= n <= 45\n",
    "\n",
    "---\n"
   ]
  },
  {
   "cell_type": "code",
   "execution_count": 4,
   "metadata": {},
   "outputs": [
    {
     "name": "stdout",
     "output_type": "stream",
     "text": [
      "n = 0, ways = 0\n",
      "n = 1, ways = 1\n",
      "n = 2, ways = 2\n",
      "n = 3, ways = 3\n",
      "n = 4, ways = 5\n",
      "n = 5, ways = 8\n",
      "n = 6, ways = 13\n",
      "n = 7, ways = 21\n",
      "n = 8, ways = 34\n",
      "n = 9, ways = 55\n",
      "n = 10, ways = 89\n",
      "n = 11, ways = 144\n",
      "n = 12, ways = 233\n",
      "n = 13, ways = 377\n",
      "n = 14, ways = 610\n",
      "n = 15, ways = 987\n",
      "n = 16, ways = 1597\n",
      "n = 17, ways = 2584\n",
      "n = 18, ways = 4181\n",
      "n = 19, ways = 6765\n"
     ]
    }
   ],
   "source": [
    "class Solution:\n",
    "    def climbStairs(self, n: int) -> int:\n",
    "        if n <= 2:\n",
    "\n",
    "            return n\n",
    "        else:\n",
    "            sequence = [1, 2]\n",
    "            i = 2\n",
    "            \n",
    "            while i < n:\n",
    "                count = sequence[i-1] + sequence[i-2]\n",
    "                sequence.append(count)\n",
    "                i += 1\n",
    "\n",
    "            return sequence[-1]\n",
    "\n",
    "\n",
    "\n",
    "# Test\n",
    "test = Solution()\n",
    "for n in range(20):\n",
    "    print('n = {}, ways = {}'.format(n, test.climbStairs(n)))\n"
   ]
  }
 ],
 "metadata": {
  "kernelspec": {
   "display_name": "Python 3.9.4 64-bit",
   "language": "python",
   "name": "python3"
  },
  "language_info": {
   "codemirror_mode": {
    "name": "ipython",
    "version": 3
   },
   "file_extension": ".py",
   "mimetype": "text/x-python",
   "name": "python",
   "nbconvert_exporter": "python",
   "pygments_lexer": "ipython3",
   "version": "3.9.4"
  },
  "orig_nbformat": 2,
  "vscode": {
   "interpreter": {
    "hash": "fc8814d95e3bb7c7d620345642206f617029e5ce3d5941736e486cd8ca8f4058"
   }
  }
 },
 "nbformat": 4,
 "nbformat_minor": 2
}
