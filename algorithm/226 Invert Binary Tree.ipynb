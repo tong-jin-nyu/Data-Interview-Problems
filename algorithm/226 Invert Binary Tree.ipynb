{
 "cells": [
  {
   "cell_type": "markdown",
   "metadata": {},
   "source": [
    "created on: 11/15/2021\n",
    "\n",
    "updated on: 11/15/2021"
   ]
  },
  {
   "cell_type": "markdown",
   "metadata": {},
   "source": [
    "# Leetcode Notes\n",
    "\n",
    "## Algorithm\n",
    "\n",
    "---\n",
    "\n",
    "## 226 Invert Binary Tree\n",
    "\n",
    "Easy"
   ]
  },
  {
   "cell_type": "markdown",
   "metadata": {},
   "source": [
    "Source: [Leetcode](https://leetcode-cn.com/problems/invert-binary-tree/)\n",
    "\n",
    "### Instructions\n",
    "\n",
    "Given the `root` of a binary tree, invert the tree, and return its root.\n",
    "\n",
    "**Example 1:**\n",
    "![Example 1](https://assets.leetcode.com/uploads/2021/03/14/invert1-tree.jpg)\n",
    "```\n",
    "Input: root = [4, 2, 7, 1, 3, 6, 9]\n",
    "Output: [4, 7, 2, 9, 6, 3, 1]\n",
    "```\n",
    "\n",
    "**Example 2:**\n",
    "![Example 2](https://assets.leetcode.com/uploads/2021/03/14/invert2-tree.jpg)\n",
    "```\n",
    "Input: root = [2, 1, 3]\n",
    "Output: [2, 3, 1]\n",
    "```\n",
    "\n",
    "**Example 3:**\n",
    "```\n",
    "Input: root = []\n",
    "Output: []\n",
    "```\n",
    "\n",
    "**Constraints:**\n",
    "- The number of nodes in the tree is in the range `[0, 100]`.\n",
    "- `-100 <= Node.val <= 100`"
   ]
  },
  {
   "cell_type": "markdown",
   "metadata": {},
   "source": [
    "### Solution"
   ]
  },
  {
   "cell_type": "code",
   "execution_count": 23,
   "metadata": {},
   "outputs": [],
   "source": [
    "from typing import List\n",
    "from drawtree import draw_bst\n",
    "\n",
    "\n",
    "class TreeNode():\n",
    "\n",
    "    def __init__(self, val=0, left=None, right=None):\n",
    "        self.val = val\n",
    "        self.left = left\n",
    "        self.right = right\n",
    "\n",
    "    output = list()\n",
    "        \n",
    "    def printTree(self):\n",
    "        TreeNode.output.append(self.val)\n",
    "        if self.left:\n",
    "            self.left.printTree()\n",
    "        if self.right:\n",
    "            self.right.printTree()\n",
    "        \n",
    "\n",
    "def to_tree(lst: List[int]) -> TreeNode:\n",
    "    n = len(lst)\n",
    "    if n ==0:\n",
    "        return None\n",
    "    \n",
    "    def inner(index: int = 0) -> TreeNode:\n",
    "        if n <= index or lst[index] is None:\n",
    "            return None\n",
    "        \n",
    "        node = TreeNode(lst[index])\n",
    "        node.left = inner(2 * index + 1)\n",
    "        node.right = inner(2 * index + 2)\n",
    "        return node\n",
    "\n",
    "    return inner()\n",
    "\n",
    "\n",
    "class Solution:\n",
    "\n",
    "    def invertTree(self, root: TreeNode) -> TreeNode:\n",
    "        if not root:\n",
    "            return root\n",
    "\n",
    "        left = self.invertTree(root.left)\n",
    "        right = self.invertTree(root.right)\n",
    "        root.left, root.right = right, left\n",
    "        return root\n"
   ]
  },
  {
   "cell_type": "code",
   "execution_count": 26,
   "metadata": {},
   "outputs": [
    {
     "name": "stdout",
     "output_type": "stream",
     "text": [
      "The original tree is:\n",
      "      4\n",
      "     / \\\n",
      "    /   \\\n",
      "   /     \\\n",
      "  2       7\n",
      " / \\     / \\\n",
      "1   3   6   9\n",
      "\n",
      "The inverse tree is:\n",
      "      4\n",
      "     / \\\n",
      "    /   \\\n",
      "   /     \\\n",
      "  2       7\n",
      " / \\     / \\\n",
      "1   3   6   9\n"
     ]
    }
   ],
   "source": [
    "# Test\n",
    "root = [4, 2, 7, 1, 3, 6, 9]\n",
    "print('The original tree is:')\n",
    "draw_bst(root)\n",
    "root = to_tree(root)\n",
    "\n",
    "test = Solution()\n",
    "test.invertTree(root).printTree()\n",
    "print('\\nThe inverse tree is:')\n",
    "draw_bst(TreeNode.output)"
   ]
  },
  {
   "cell_type": "markdown",
   "metadata": {},
   "source": [
    "### Explanation"
   ]
  },
  {
   "cell_type": "markdown",
   "metadata": {},
   "source": [
    "---"
   ]
  }
 ],
 "metadata": {
  "interpreter": {
   "hash": "dca0ade3e726a953b501b15e8e990130d2b7799f14cfd9f4271676035ebe5511"
  },
  "kernelspec": {
   "display_name": "Python 3.7.4 64-bit (conda)",
   "name": "python3"
  },
  "language_info": {
   "codemirror_mode": {
    "name": "ipython",
    "version": 3
   },
   "file_extension": ".py",
   "mimetype": "text/x-python",
   "name": "python",
   "nbconvert_exporter": "python",
   "pygments_lexer": "ipython3",
   "version": "3.7.6"
  },
  "orig_nbformat": 2
 },
 "nbformat": 4,
 "nbformat_minor": 2
}
