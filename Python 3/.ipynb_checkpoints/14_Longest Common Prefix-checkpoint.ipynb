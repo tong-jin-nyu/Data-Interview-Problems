{
 "cells": [
  {
   "cell_type": "markdown",
   "metadata": {},
   "source": [
    "# Leetcode Notes"
   ]
  },
  {
   "cell_type": "markdown",
   "metadata": {},
   "source": [
    "## 14. Longest Common Prefix\n",
    "\n",
    "## 06/01/2020"
   ]
  },
  {
   "cell_type": "markdown",
   "metadata": {},
   "source": [
    "### Problem Name\n",
    "\n",
    "[Longest Common Prefix](https://leetcode.com/problems/longest-common-prefix/)\n",
    "\n",
    "### Difficulty\n",
    "\n",
    "Easy\n",
    "\n",
    "### Instructions\n",
    "\n",
    "Write a function to find the longest common prefix string amongst an array of strings.\n",
    "\n",
    "If there is no common prefix, return an empty string `\"\"`.\n",
    "\n",
    "**Example 1:**\n",
    "\n",
    "```\n",
    "Input: [\"flower\",\"flow\",\"flight\"]\n",
    "Output: \"fl\"\n",
    "```\n",
    "\n",
    "**Example 2:**\n",
    "\n",
    "```\n",
    "Input: [\"dog\",\"racecar\",\"car\"]\n",
    "Output: \"\"\n",
    "Explanation: There is no common prefix among the input strings.\n",
    "```\n",
    "\n",
    "Note:\n",
    "\n",
    "All given inputs are in lowercase letters a-z."
   ]
  },
  {
   "cell_type": "markdown",
   "metadata": {},
   "source": [
    "### Solution"
   ]
  },
  {
   "cell_type": "code",
   "execution_count": 14,
   "metadata": {},
   "outputs": [
    {
     "name": "stdout",
     "output_type": "stream",
     "text": [
      "fl\n",
      "\n",
      "A3SR\n"
     ]
    }
   ],
   "source": [
    "class Solution:\n",
    "    def longestCommonPrefix(strs) -> str:\n",
    "        if len(strs) == 0:\n",
    "            return \"\"\n",
    "        elif len(strs) == 1:\n",
    "            return strs[0]\n",
    "        else:\n",
    "            prefix = ''\n",
    "            for idx in range(len(strs[0])):\n",
    "                prefix += strs[0][idx]\n",
    "                for i in range(len(strs)):\n",
    "                    if strs[i].startswith(prefix) == False:\n",
    "                        prefix = prefix[:-1]\n",
    "                        break\n",
    "                    else:\n",
    "                        continue\n",
    "            return prefix\n",
    "                    \n",
    "# Test\n",
    "print(Solution.longestCommonPrefix(strs = [\"flower\",\"flow\",\"flight\"]))\n",
    "print(Solution.longestCommonPrefix(strs = [\"dog\",\"racecar\",\"car\"]))\n",
    "print(Solution.longestCommonPrefix(strs = [\"A3SR\"]))"
   ]
  },
  {
   "cell_type": "markdown",
   "metadata": {},
   "source": [
    "### Explanation"
   ]
  },
  {
   "cell_type": "markdown",
   "metadata": {},
   "source": [
    "There are many solutions for this problem. My solution applies binary search by using two for-in loops. The logic is fairly simple: compare the first x letters (prefix) of the first element to the prefix of the remaining elements. If match, continue; if not, stop and return the previous value of prefix. Here are the steps:\n",
    "\n",
    "First, simplify the logic by filtering out extreme situations: when there is no element or there is only one element in the list.\n",
    "\n",
    "Then, we create an empty string `prefix` to store the result.\n",
    "\n",
    "After that, we write a for-in loop to check all possible prefix combinations in the first element. We then apply another for-in loop to test if all remaining elements contain such prefix. We continue the loop until the condition no longer matches. If every prefix combination matches all elements, then we know all the elements are the same. Finally, we need to return a previous version of prefix (one level up) in order to get the last prefix combination that all elements are started with. "
   ]
  }
 ],
 "metadata": {
  "kernelspec": {
   "display_name": "Python 3.8.2 64-bit",
   "language": "python",
   "name": "python38264bit7e3c702f16764767914e1c3a23341f94"
  },
  "language_info": {
   "codemirror_mode": {
    "name": "ipython",
    "version": 3
   },
   "file_extension": ".py",
   "mimetype": "text/x-python",
   "name": "python",
   "nbconvert_exporter": "python",
   "pygments_lexer": "ipython3",
   "version": "3.8.2"
  }
 },
 "nbformat": 4,
 "nbformat_minor": 2
}
