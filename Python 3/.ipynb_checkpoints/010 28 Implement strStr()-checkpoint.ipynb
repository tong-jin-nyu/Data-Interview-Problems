{
 "cells": [
  {
   "cell_type": "markdown",
   "metadata": {},
   "source": [
    "# Leetcode Notes"
   ]
  },
  {
   "cell_type": "markdown",
   "metadata": {},
   "source": [
    "## 28. Implement strStr()\n",
    "\n",
    "## 07/05/2020"
   ]
  },
  {
   "cell_type": "markdown",
   "metadata": {},
   "source": [
    "### Problem Name\n",
    "\n",
    "[Implement strStr()](https://leetcode.com/problems/implement-strstr/)\n",
    "\n",
    "### Difficulty\n",
    "\n",
    "Easy\n",
    "\n",
    "### Instructions\n",
    "\n",
    "Implement `strStr()`.\n",
    "\n",
    "Return the index of the first occurrence of needle in haystack, or -1 if needle is not part of haystack.\n",
    "\n",
    "**Example 1:**\n",
    "\n",
    "```\n",
    "Input: haystack = \"hello\", needle = \"ll\"\n",
    "Output: 2\n",
    "```\n",
    "\n",
    "**Example 2:**\n",
    "\n",
    "```\n",
    "Input: haystack = \"aaaaa\", needle = \"bba\"\n",
    "Output: -1\n",
    "```\n",
    "\n",
    "**Clarification:**\n",
    "\n",
    "What should we return when `needle` is an empty string? This is a great question to ask during an interview.\n",
    "\n",
    "For the purpose of this problem, we will return 0 when `needle` is an empty string. This is consistent to C's `strstr()` and Java's `indexOf()`."
   ]
  },
  {
   "cell_type": "markdown",
   "metadata": {},
   "source": [
    "### Solution 1 (using built-in function index)"
   ]
  },
  {
   "cell_type": "code",
   "execution_count": 16,
   "metadata": {},
   "outputs": [
    {
     "name": "stdout",
     "output_type": "stream",
     "text": [
      "2\n",
      "-1\n"
     ]
    }
   ],
   "source": [
    "# Implement strStr()\n",
    "class Solution:\n",
    "    def strStr(haystack, needle):\n",
    "        if needle is \"\":\n",
    "            return 0\n",
    "        elif needle not in haystack:\n",
    "            return -1\n",
    "        else:\n",
    "            output = haystack.index(needle)\n",
    "            return output\n",
    "        \n",
    "# Test\n",
    "haystack = \"hello\"\n",
    "needle = \"ll\"\n",
    "print(Solution.strStr(haystack, needle)) # Output: 2\n",
    "\n",
    "haystack = \"hello, hello!\"\n",
    "needle = \"hehe\"\n",
    "print(Solution.strStr(haystack, needle)) # Output: -1"
   ]
  },
  {
   "cell_type": "markdown",
   "metadata": {},
   "source": [
    "### Solution 2 (using while loop)"
   ]
  },
  {
   "cell_type": "code",
   "execution_count": null,
   "metadata": {},
   "outputs": [],
   "source": [
    "# Implement strStr()\n",
    "class Solution:\n",
    "    def strStr(haystack, needle):\n",
    "        if needle is \"\":\n",
    "            return 0\n",
    "        \n",
    "        idx1 = idx2 = 0 \n",
    "        \n",
    "        while (idx1 < len(haystack)):\n",
    "            if haystack[idx1] == needle[idx2]:\n",
    "                if idx2 == len(needle) - 1: # Check if idx2 is the last index\n",
    "                    return idx1 - idx2 # Return the index of the first \n",
    "                                       # occurrence.\n",
    "                else:\n",
    "                    idx2 += 1\n",
    "            \n",
    "            idx += 1"
   ]
  },
  {
   "cell_type": "markdown",
   "metadata": {},
   "source": [
    "### Explanation"
   ]
  },
  {
   "cell_type": "code",
   "execution_count": 8,
   "metadata": {},
   "outputs": [
    {
     "name": "stdout",
     "output_type": "stream",
     "text": [
      "True\n"
     ]
    }
   ],
   "source": [
    "needle = \"\"\n",
    "test = \"llo\"\n",
    "print(needle is \"\")"
   ]
  },
  {
   "cell_type": "code",
   "execution_count": null,
   "metadata": {},
   "outputs": [],
   "source": []
  }
 ],
 "metadata": {
  "kernelspec": {
   "display_name": "Python 3",
   "language": "python",
   "name": "python3"
  },
  "language_info": {
   "codemirror_mode": {
    "name": "ipython",
    "version": 3
   },
   "file_extension": ".py",
   "mimetype": "text/x-python",
   "name": "python",
   "nbconvert_exporter": "python",
   "pygments_lexer": "ipython3",
   "version": "3.7.4"
  }
 },
 "nbformat": 4,
 "nbformat_minor": 2
}
