{
 "cells": [
  {
   "cell_type": "markdown",
   "metadata": {},
   "source": [
    "# Leetcode Notes"
   ]
  },
  {
   "cell_type": "markdown",
   "metadata": {},
   "source": [
    "## 26. Remove Duplicates from Sorted Array\n",
    "\n",
    "## 07/01/2020"
   ]
  },
  {
   "cell_type": "markdown",
   "metadata": {},
   "source": [
    "### Problem Name\n",
    "\n",
    "[Remove Duplicates from Sorted Array](https://leetcode.com/problems/remove-duplicates-from-sorted-array/)\n",
    "\n",
    "### Difficulty\n",
    "\n",
    "Easy\n",
    "\n",
    "### Instructions\n",
    "\n",
    "Given a sorted array `nums`, remove the duplicates **in-place** such that each element appear only *once* and return the new length.\n",
    "\n",
    "Do not allocate extra space for another array, you must do this by **modifying the input array** **in-place** with O(1) extra memory.\n",
    "\n",
    "**Example 1:**\n",
    "\n",
    "```\n",
    "Given nums = [1,1,2],\n",
    "\n",
    "Your function should return length = 2, with the first two elements of nums being 1 and 2 respectively.\n",
    "\n",
    "It doesn't matter what you leave beyong the returned length.\n",
    "```\n",
    "\n",
    "**Example 2:**\n",
    "\n",
    "```\n",
    "Given nums = [0,0,1,1,1,2,2,3,3,4],\n",
    "\n",
    "Your function should return length = 5, with the first five elements of nums being modified to 0, 1, 2, 3, and 4 respectively.\n",
    "\n",
    "It doesn't matter what values are set beyond the returned length.\n",
    "```\n",
    "\n",
    "**Clarification:**\n",
    "\n",
    "Confused why the returned value is an integer but your answer is an array?\n",
    "\n",
    "Note that the input array is passed in by reference, which means modification to the input array will be known to the caller as well.\n",
    "\n",
    "Internally you can think of this:\n",
    "\n",
    "```\n",
    "// nums is passed in by reference. (i.e., without making a copy)\n",
    "int len = removeDuplicates(nums);\n",
    "\n",
    "// any modification to nums in your function would be known by the caller.\n",
    "// using the length returned by your function, it prints the first len elements.\n",
    "for (int i = 0; i < len; i++) {\n",
    "    print(nums[i]);\n",
    "}\n",
    "```"
   ]
  },
  {
   "cell_type": "markdown",
   "metadata": {},
   "source": [
    "### Solution"
   ]
  },
  {
   "cell_type": "code",
   "execution_count": 53,
   "metadata": {},
   "outputs": [
    {
     "name": "stdout",
     "output_type": "stream",
     "text": [
      "2\n"
     ]
    }
   ],
   "source": [
    "# Remove duplicates from a sorted array\n",
    "class Solution:\n",
    "    def removeDuplicates(nums):\n",
    "        count = 0\n",
    "        length = len(nums)\n",
    "        for idx in range(length-1):\n",
    "            if nums[idx] == nums[idx+1]:\n",
    "                count += 1\n",
    "        return len(nums) - count\n",
    "\n",
    "# Test\n",
    "nums = [1,1,2]\n",
    "print(Solution.removeDuplicates(nums))"
   ]
  },
  {
   "cell_type": "code",
   "execution_count": 52,
   "metadata": {},
   "outputs": [
    {
     "name": "stdout",
     "output_type": "stream",
     "text": [
      "0\n",
      "1\n",
      "2\n",
      "3\n"
     ]
    }
   ],
   "source": [
    "for i in range(4):\n",
    "    print(i)"
   ]
  },
  {
   "cell_type": "markdown",
   "metadata": {},
   "source": [
    "### Explanation"
   ]
  },
  {
   "cell_type": "markdown",
   "metadata": {},
   "source": [
    "Linked list is a new data structure that does not have a special form in R. In R, a linked list will simply be replaced as a normal vector. One of the biggest differences between a linked list and a vector is that elements in a linked list are not stored continuously. Instead, they can be stored separately in different memory locations and are linked using pointers. This significantly reduces memory consumption since data are stored in a flexible way.\n",
    "\n",
    "Here are some core concepts of linked list. \n",
    "\n",
    "- Node: a linked list is a data structure made of a chain of **node** objects.\n",
    "\n",
    "- Each node contains a **value** and a **pointer** to the next node in the chain.\n",
    "  \n",
    "- The **head pointer** points to the first node.\n",
    "  \n",
    "- The last element of the list points to **null**.\n",
    "  \n",
    "- When the list is empty, the head pointer points to **null**.\n",
    "  \n",
    "Based on the above concepts, we know that when the list is empty or when the pointer goes to the end of the list, we get **False** when determining if the list is true. \n",
    "\n",
    "For me, the concept of linked list is quite abstract. Part of the reasons is that I have no programming background before. My way of getting used to the structure of linked list is to draw the structure out first. "
   ]
  },
  {
   "cell_type": "code",
   "execution_count": 54,
   "metadata": {},
   "outputs": [],
   "source": [
    "# Structure of Linked List\n",
    "\n",
    "# head            pointer\n",
    "#      node 1              node 2\n",
    "#     -----------         -----------\n",
    "#     data | next   --->  data | next   ---> NULL\n",
    "#     -----------         -----------"
   ]
  },
  {
   "cell_type": "markdown",
   "metadata": {},
   "source": [
    "When we create a linked list, we first define the initial of the head as none. This is because there is no value before the head of a linked list.\n",
    "\n",
    "``` python\n",
    "class LinkedList:\n",
    "    def __init__(self):\n",
    "        self.head = None\n",
    "```\n",
    "\n",
    "Then, we need to define each node. This allows us to add new nodes at the end of the list. Below we build a function to add nodes to the list. We define two variables: **val** as data input and **next** as the pointer. We set the default value of a node to 0 and the pointer to none. This means that, by default, each call of this function will generate a new node at the end of the list with a data input 0. We can of course manually change the default value and pointer of the new node.\n",
    "\n",
    "Inside the function, we link our variables to the list (self).\n",
    "\n",
    "``` python\n",
    "class ListNode:\n",
    "    def __init(self, val=0, next=None):\n",
    "        self.val = val\n",
    "        self.next = next\n",
    "```\n",
    "\n",
    "Now that we have the tool of building a linked list, we also need to write a function to print the values inside a linked list. Because linked list is a special data structure, using **print()** will return the memory location of the linked list. In order to get the values printed out, we need the following function.\n",
    "\n",
    "``` python\n",
    "def print_list(self):\n",
    "    current = self.head\n",
    "    while(current):\n",
    "        print(current.val)\n",
    "        current = current.next\n",
    "```\n",
    "\n",
    "The structure is easy to understand: we create a local variable to represent the head of our linked list. Then, while the list is not empty, we print the value at the head and then remove the value and point the head to the next one. \n",
    "\n",
    "Finally, let's assemble all the elements together and run some tests."
   ]
  },
  {
   "cell_type": "code",
   "execution_count": 56,
   "metadata": {},
   "outputs": [
    {
     "name": "stdout",
     "output_type": "stream",
     "text": [
      "1\n",
      "2\n",
      "3\n"
     ]
    }
   ],
   "source": [
    "# Generate a linked list\n",
    "class ListNode:\n",
    "    def __init__(self, val=0, next=None):\n",
    "        self.val = val\n",
    "        self.next = next\n",
    "\n",
    "class LinkedList:\n",
    "    def __init__(self):\n",
    "        self.head = None\n",
    "        \n",
    "    def print_list(self):\n",
    "        current = self.head\n",
    "        while(current):\n",
    "            print(current.val)\n",
    "            current = current.next\n",
    "        \n",
    "# Test\n",
    "l1 = LinkedList()\n",
    "l1.head = ListNode(1)\n",
    "n2 = ListNode(2)\n",
    "n3 = ListNode(3)\n",
    "l1.head.next = n2\n",
    "n2.next = n3\n",
    "l1.print_list()"
   ]
  },
  {
   "cell_type": "markdown",
   "metadata": {},
   "source": [
    "Great job! \n",
    "\n",
    "Let's talk about the problem. We have two sorted linked lists. This means we don't need to worry about the ordering of each element. We then need to aggregate them in ascending order. \n",
    "\n",
    "The logic behind this is: \n",
    "\n",
    "At the beginning of two lists, compare the first nodes and add the smaller one to the output list. Then, we remove the node from the original list so the second node becomes first. Now we'll compare the first nodes again. As we repeat again and again, we will eventually exhaust one (or both) list(s). We'll then get the output list as required.\n",
    "\n",
    "**Notes:**\n",
    "1. We don't need to worry about equal nodes because we can pick either one from the target lists.\n",
    "\n",
    "2. Because two target lists are sorted and we need a sorted output list, there is no need to worry about ordering."
   ]
  }
 ],
 "metadata": {
  "kernelspec": {
   "display_name": "Python 3.8.2 64-bit",
   "language": "python",
   "name": "python38264bit7e3c702f16764767914e1c3a23341f94"
  },
  "language_info": {
   "codemirror_mode": {
    "name": "ipython",
    "version": 3
   },
   "file_extension": ".py",
   "mimetype": "text/x-python",
   "name": "python",
   "nbconvert_exporter": "python",
   "pygments_lexer": "ipython3",
   "version": "3.8.2"
  }
 },
 "nbformat": 4,
 "nbformat_minor": 2
}
