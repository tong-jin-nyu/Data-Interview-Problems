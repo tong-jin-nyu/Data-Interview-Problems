{
 "metadata": {
  "language_info": {
   "codemirror_mode": {
    "name": "ipython",
    "version": 3
   },
   "file_extension": ".py",
   "mimetype": "text/x-python",
   "name": "python",
   "nbconvert_exporter": "python",
   "pygments_lexer": "ipython3",
   "version": "3.7.4-final"
  },
  "orig_nbformat": 2,
  "kernelspec": {
   "name": "python3",
   "display_name": "Python 3.7.4 64-bit (conda)",
   "metadata": {
    "interpreter": {
     "hash": "dca0ade3e726a953b501b15e8e990130d2b7799f14cfd9f4271676035ebe5511"
    }
   }
  }
 },
 "nbformat": 4,
 "nbformat_minor": 2,
 "cells": [
  {
   "source": [
    "# Data Interview Qs"
   ],
   "cell_type": "markdown",
   "metadata": {}
  },
  {
   "source": [
    "## Question"
   ],
   "cell_type": "markdown",
   "metadata": {}
  },
  {
   "source": [
    "Can you build a function that prints an identity matrix, given the identity matrix size?"
   ],
   "cell_type": "markdown",
   "metadata": {}
  },
  {
   "source": [
    "## Solution"
   ],
   "cell_type": "markdown",
   "metadata": {}
  },
  {
   "cell_type": "code",
   "execution_count": 8,
   "metadata": {},
   "outputs": [],
   "source": [
    "def identityMat (n):\n",
    "    # Print an identity matrix given the size\n",
    "    # Param: n: matrix size\n",
    "    for row in range(n):\n",
    "        rows = []\n",
    "        for col in range(n):\n",
    "            rows.append(0)\n",
    "        diagonal = row\n",
    "        rows[diagonal] = 1\n",
    "        print(rows)"
   ]
  },
  {
   "cell_type": "code",
   "execution_count": 10,
   "metadata": {},
   "outputs": [
    {
     "output_type": "stream",
     "name": "stdout",
     "text": [
      "[1, 0, 0, 0, 0]\n[0, 1, 0, 0, 0]\n[0, 0, 1, 0, 0]\n[0, 0, 0, 1, 0]\n[0, 0, 0, 0, 1]\n"
     ]
    }
   ],
   "source": [
    "identityMat(5)"
   ]
  },
  {
   "cell_type": "code",
   "execution_count": null,
   "metadata": {},
   "outputs": [],
   "source": []
  }
 ]
}